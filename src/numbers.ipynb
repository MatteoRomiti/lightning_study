{
 "cells": [
  {
   "cell_type": "code",
   "execution_count": 1,
   "metadata": {
    "ExecuteTime": {
     "end_time": "2020-09-22T20:46:28.956866Z",
     "start_time": "2020-09-22T20:46:28.480886Z"
    }
   },
   "outputs": [],
   "source": [
    "from utils import *\n",
    "import pandas as pd"
   ]
  },
  {
   "cell_type": "code",
   "execution_count": 2,
   "metadata": {
    "ExecuteTime": {
     "end_time": "2020-09-22T20:49:57.470627Z",
     "start_time": "2020-09-22T20:49:52.292277Z"
    }
   },
   "outputs": [],
   "source": [
    "channels = pd.read_csv(level2_folder + 'channel.csv')\n",
    "funding_txs = read_json(level1_folder + 'blockstream_funding_txs.json')\n",
    "settlement_txs = read_json(level1_folder + 'blockstream_settlement_txs.json')\n",
    "funded_address_settlement_txs = read_json(level1_folder + 'funded_address_blockstream_settlement_txs.json')\n",
    "funding_address_entity = read_json(level1_folder + 'funding_address_entity.json')\n",
    "settlement_address_entity = read_json(level1_folder + 'settlement_address_entity.json')\n",
    "input_file1 = results_folder + 'filtered_all_heuristic_2_entity_node_conf.json'\n",
    "heuristic_2_entity_node = read_json(input_file1, double_int_key=True)[2]\n",
    "input_file3 = results_folder + 'filtered_all_heuristic_2_node_entity_conf.json'\n",
    "heuristic_2_node_entity_conf = read_json(input_file3, True)[2]\n",
    "input_file2 = results_folder + 'filtered_all_heuristic_2_entity_node_conf_old.json'\n",
    "heuristic_2_entity_node_old = read_json(input_file2, double_int_key=True)[2]"
   ]
  },
  {
   "cell_type": "code",
   "execution_count": 5,
   "metadata": {
    "ExecuteTime": {
     "end_time": "2020-09-22T20:58:17.506448Z",
     "start_time": "2020-09-22T20:58:17.475821Z"
    }
   },
   "outputs": [
    {
     "name": "stdout",
     "output_type": "stream",
     "text": [
      "37996 98431\n"
     ]
    }
   ],
   "source": [
    "open_channels = 0\n",
    "for fa in funded_address_settlement_txs:\n",
    "    if not funded_address_settlement_txs[fa]:\n",
    "        open_channels += 1\n",
    "print(open_channels, len(channels))"
   ]
  },
  {
   "cell_type": "code",
   "execution_count": 3,
   "metadata": {
    "ExecuteTime": {
     "end_time": "2020-09-22T20:50:04.447860Z",
     "start_time": "2020-09-22T20:50:04.395615Z"
    }
   },
   "outputs": [
    {
     "data": {
      "text/plain": [
       "238070"
      ]
     },
     "execution_count": 3,
     "metadata": {},
     "output_type": "execute_result"
    }
   ],
   "source": [
    "n_addresses = len(set(funding_address_entity.keys()).union(set(settlement_address_entity.keys())))\n",
    "n_addresses"
   ]
  },
  {
   "cell_type": "code",
   "execution_count": 6,
   "metadata": {
    "ExecuteTime": {
     "end_time": "2020-09-22T20:59:06.512304Z",
     "start_time": "2020-09-22T20:59:06.464579Z"
    }
   },
   "outputs": [
    {
     "data": {
      "text/plain": [
       "138457"
      ]
     },
     "execution_count": 6,
     "metadata": {},
     "output_type": "execute_result"
    }
   ],
   "source": [
    "len(set([e for e in settlement_address_entity.values()]).union(set([e for e in funding_address_entity.values()])))"
   ]
  },
  {
   "cell_type": "code",
   "execution_count": 7,
   "metadata": {
    "ExecuteTime": {
     "end_time": "2020-09-23T05:36:13.947149Z",
     "start_time": "2020-09-23T05:36:13.929948Z"
    }
   },
   "outputs": [
    {
     "data": {
      "text/plain": [
       "96181"
      ]
     },
     "execution_count": 7,
     "metadata": {},
     "output_type": "execute_result"
    }
   ],
   "source": [
    "len(set(funding_address_entity.values()))"
   ]
  },
  {
   "cell_type": "code",
   "execution_count": 8,
   "metadata": {
    "ExecuteTime": {
     "end_time": "2020-09-23T06:10:27.081906Z",
     "start_time": "2020-09-23T06:10:27.069710Z"
    }
   },
   "outputs": [
    {
     "data": {
      "text/plain": [
       "53370"
      ]
     },
     "execution_count": 8,
     "metadata": {},
     "output_type": "execute_result"
    }
   ],
   "source": [
    "len(set(settlement_address_entity.values()))"
   ]
  },
  {
   "cell_type": "code",
   "execution_count": 9,
   "metadata": {
    "ExecuteTime": {
     "end_time": "2020-09-23T06:11:35.240498Z",
     "start_time": "2020-09-23T06:11:34.658825Z"
    }
   },
   "outputs": [],
   "source": [
    "###############\n",
    "node_channels = dict()\n",
    "for channel in channels.values:\n",
    "    c, n1, n2 = channel\n",
    "    if n1 not in node_channels:\n",
    "        node_channels[n1] = set()\n",
    "    node_channels[n1].add(c)\n",
    "    if n2 not in node_channels:\n",
    "        node_channels[n2] = set()\n",
    "    node_channels[n2].add(c)"
   ]
  },
  {
   "cell_type": "code",
   "execution_count": 10,
   "metadata": {
    "ExecuteTime": {
     "end_time": "2020-09-23T06:11:39.171723Z",
     "start_time": "2020-09-23T06:11:39.165860Z"
    }
   },
   "outputs": [
    {
     "data": {
      "text/plain": [
       "10910"
      ]
     },
     "execution_count": 10,
     "metadata": {},
     "output_type": "execute_result"
    }
   ],
   "source": [
    "len(node_channels)"
   ]
  },
  {
   "cell_type": "code",
   "execution_count": 13,
   "metadata": {
    "ExecuteTime": {
     "end_time": "2020-09-23T06:22:44.941754Z",
     "start_time": "2020-09-23T06:22:44.880584Z"
    }
   },
   "outputs": [
    {
     "data": {
      "text/plain": [
       "158687"
      ]
     },
     "execution_count": 13,
     "metadata": {},
     "output_type": "execute_result"
    }
   ],
   "source": [
    "funding_settlement_txs = set()\n",
    "for h in funding_txs:\n",
    "    funding_settlement_txs.add(h)\n",
    "for h in settlement_txs:\n",
    "    funding_settlement_txs.add(h)\n",
    "len(funding_settlement_txs)"
   ]
  },
  {
   "cell_type": "code",
   "execution_count": 14,
   "metadata": {
    "ExecuteTime": {
     "end_time": "2020-09-23T06:23:57.260133Z",
     "start_time": "2020-09-23T06:23:57.256506Z"
    }
   },
   "outputs": [
    {
     "data": {
      "text/plain": [
       "60447"
      ]
     },
     "execution_count": 14,
     "metadata": {},
     "output_type": "execute_result"
    }
   ],
   "source": [
    "len(settlement_txs)"
   ]
  },
  {
   "cell_type": "code",
   "execution_count": 17,
   "metadata": {
    "ExecuteTime": {
     "end_time": "2020-09-23T06:45:53.077975Z",
     "start_time": "2020-09-23T06:45:52.981736Z"
    }
   },
   "outputs": [],
   "source": [
    "###############\n",
    "# to see distribution of #outputs in settlement txs\n",
    "n_outputs_stx = dict()\n",
    "open_channels = 0\n",
    "for fa in funded_address_settlement_txs:\n",
    "    if not funded_address_settlement_txs[fa]:\n",
    "        open_channels += 1\n",
    "    else:\n",
    "        for st in funded_address_settlement_txs[fa]:\n",
    "            n_outputs = len(st['vout'])\n",
    "            if n_outputs not in n_outputs_stx:\n",
    "                n_outputs_stx[n_outputs] = []\n",
    "            n_outputs_stx[n_outputs].append(st['txid'])"
   ]
  },
  {
   "cell_type": "code",
   "execution_count": 22,
   "metadata": {
    "ExecuteTime": {
     "end_time": "2020-09-23T06:48:10.479302Z",
     "start_time": "2020-09-23T06:48:10.474152Z"
    }
   },
   "outputs": [
    {
     "name": "stdout",
     "output_type": "stream",
     "text": [
      "98.1 1.9000000000000057\n"
     ]
    }
   ],
   "source": [
    "n_less2 = round(41.8 + 56.3, 2)\n",
    "n_more2 = 100 - n_less2\n",
    "print(n_less2, n_more2)"
   ]
  },
  {
   "cell_type": "code",
   "execution_count": 19,
   "metadata": {
    "ExecuteTime": {
     "end_time": "2020-09-23T06:46:42.400817Z",
     "start_time": "2020-09-23T06:46:42.393232Z"
    }
   },
   "outputs": [
    {
     "name": "stdout",
     "output_type": "stream",
     "text": [
      "2 25285 41.8\n",
      "1 34045 56.3\n",
      "4 161 0.3\n",
      "3 847 1.4000000000000001\n",
      "6 22 0.0\n",
      "5 47 0.1\n",
      "11 3 0.0\n",
      "9 7 0.0\n",
      "7 6 0.0\n",
      "31 1 0.0\n",
      "10 1 0.0\n",
      "22 1 0.0\n",
      "8 7 0.0\n",
      "16 1 0.0\n",
      "14 1 0.0\n"
     ]
    }
   ],
   "source": [
    "closed_channels = len(settlement_txs)\n",
    "# distribution of #outputs in settlement txs\n",
    "for k in n_outputs_stx:\n",
    "    print(k, len(n_outputs_stx[k]), 100*round(len(n_outputs_stx[k])/closed_channels, 3))"
   ]
  },
  {
   "cell_type": "code",
   "execution_count": 26,
   "metadata": {
    "ExecuteTime": {
     "end_time": "2020-09-23T07:32:52.467759Z",
     "start_time": "2020-09-23T07:32:52.457532Z"
    }
   },
   "outputs": [
    {
     "data": {
      "text/plain": [
       "{'txid': '8007158bf82842459bf18b0237bed2c021f51476a82fc942fdc3070118b4eb44',\n",
       " 'version': 1,\n",
       " 'locktime': 0,\n",
       " 'vin': [{'txid': 'de4bea2d8f1560d4f548e94ad2df0ef97349c3b3a930f84e2ea7ffdfe60ac007',\n",
       "   'vout': 0,\n",
       "   'prevout': {'scriptpubkey': '001465ceb80d6770e1dc85598303f9e4b74ecf98b093',\n",
       "    'scriptpubkey_asm': 'OP_0 OP_PUSHBYTES_20 65ceb80d6770e1dc85598303f9e4b74ecf98b093',\n",
       "    'scriptpubkey_type': 'v0_p2wpkh',\n",
       "    'scriptpubkey_address': 'bc1qvh8tsrt8wrsaep2esvplne9hfm8e3vynn9wd65',\n",
       "    'value': 7016237},\n",
       "   'scriptsig': '',\n",
       "   'scriptsig_asm': '',\n",
       "   'witness': ['3044022057e862eb95b1c09370322dc9bb64fd8a3337a69729fac9d277525585719f5d9e02207731baa919df60ec97273642093e51869c788ffeacfb4b58b3644a667e01d32301',\n",
       "    '020fb656af535132244c949ff6ba76f76b0972941cf71e4c94fff837a8ffae3227'],\n",
       "   'is_coinbase': False,\n",
       "   'sequence': 4294967295}],\n",
       " 'vout': [{'scriptpubkey': '00143d4438b8a625c2c52da6f6bc0953291f53f2d044',\n",
       "   'scriptpubkey_asm': 'OP_0 OP_PUSHBYTES_20 3d4438b8a625c2c52da6f6bc0953291f53f2d044',\n",
       "   'scriptpubkey_type': 'v0_p2wpkh',\n",
       "   'scriptpubkey_address': 'bc1q84zr3w9xyhpv2tdx767qj5efrafl95zygrcxkj',\n",
       "   'value': 4071},\n",
       "  {'scriptpubkey': '0020cda06c219a9d6fe7ca45d5da0f300f10df2f2d68f57b1864766a5894108d7a17',\n",
       "   'scriptpubkey_asm': 'OP_0 OP_PUSHBYTES_32 cda06c219a9d6fe7ca45d5da0f300f10df2f2d68f57b1864766a5894108d7a17',\n",
       "   'scriptpubkey_type': 'v0_p2wsh',\n",
       "   'scriptpubkey_address': 'bc1qeksxcgv6n4h70jj96hdq7vq0zr0j7ttg74a3serkdfvfgyyd0gtsgjxq5n',\n",
       "   'value': 7012012}],\n",
       " 'size': 234,\n",
       " 'weight': 609,\n",
       " 'fee': 154,\n",
       " 'status': {'confirmed': True,\n",
       "  'block_height': 608500,\n",
       "  'block_hash': '0000000000000000000c5f092fb743fa5e07a59afecd150354fc29a449827210',\n",
       "  'block_time': 1576580136}}"
      ]
     },
     "execution_count": 26,
     "metadata": {},
     "output_type": "execute_result"
    }
   ],
   "source": []
  },
  {
   "cell_type": "code",
   "execution_count": 32,
   "metadata": {
    "ExecuteTime": {
     "end_time": "2020-09-23T07:35:31.556554Z",
     "start_time": "2020-09-23T07:35:31.488144Z"
    }
   },
   "outputs": [
    {
     "data": {
      "text/plain": [
       "'2020-09-09 23:41:33'"
      ]
     },
     "execution_count": 32,
     "metadata": {},
     "output_type": "execute_result"
    }
   ],
   "source": [
    "latest_funding_tx = 0\n",
    "for tx in funding_txs.values():\n",
    "    t = tx['status']['block_time']\n",
    "    if t > latest_funding_tx:\n",
    "        latest_funding_tx = t\n",
    "ts2date(latest_funding_tx)"
   ]
  },
  {
   "cell_type": "code",
   "execution_count": 31,
   "metadata": {
    "ExecuteTime": {
     "end_time": "2020-09-23T07:35:30.598590Z",
     "start_time": "2020-09-23T07:35:30.593847Z"
    }
   },
   "outputs": [],
   "source": [
    "import datetime\n",
    "def ts2date(ts):\n",
    "    return datetime.datetime.fromtimestamp(int(ts)).strftime('%Y-%m-%d %H:%M:%S')\n",
    "def ts2object(ts):\n",
    "    return datetime.datetime.fromtimestamp(int(ts))"
   ]
  },
  {
   "cell_type": "code",
   "execution_count": null,
   "metadata": {},
   "outputs": [],
   "source": [
    "on_chain_heuristics = {och: (True if och != 'none' else False) for och in on_chain_heuristics_list}\n",
    "funding_address_entity, settlement_address_entity = set_mapping(funding_address_entity, settlement_address_entity, on_chain_heuristics)"
   ]
  }
 ],
 "metadata": {
  "kernelspec": {
   "display_name": "Python 3",
   "language": "python",
   "name": "python3"
  },
  "language_info": {
   "codemirror_mode": {
    "name": "ipython",
    "version": 3
   },
   "file_extension": ".py",
   "mimetype": "text/x-python",
   "name": "python",
   "nbconvert_exporter": "python",
   "pygments_lexer": "ipython3",
   "version": "3.6.9"
  }
 },
 "nbformat": 4,
 "nbformat_minor": 2
}
