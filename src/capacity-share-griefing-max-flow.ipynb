{
 "cells": [
  {
   "cell_type": "code",
   "execution_count": 1,
   "metadata": {},
   "outputs": [],
   "source": [
    "import pandas as pd\n",
    "import numpy as np\n",
    "import random\n",
    "from igraph import *\n",
    "from itertools import combinations\n",
    "from tqdm.notebook import tqdm\n",
    "import copy\n",
    "from make_cluster_names import make_cluster_aliases\n",
    "\n",
    "pd.set_option('max_colwidth', 1000)\n",
    "\n",
    "## plotting\n",
    "from plotnine import *\n",
    "from mizani.formatters import percent_format\n",
    "\n",
    "theme_publication = theme_bw() + theme(text=element_text(family=\"cmr10\", size=12, color=\"black\"),\n",
    "                                       axis_title=element_text(size=14))"
   ]
  },
  {
   "cell_type": "code",
   "execution_count": 2,
   "metadata": {},
   "outputs": [],
   "source": [
    "lnsnapshotFile = \"../data/joined/level_2/lnsnapshot2020-02-24.csv\"\n",
    "lightningNodeClustersFile = \"../data/joined/results/alias_address_clusters.csv\"\n",
    "channelCreatorsFile = \"../data/joined/results/funding_node_channel.csv\"\n",
    "#outputFile = \"clusterStats2020-02-24-new.csv\""
   ]
  },
  {
   "cell_type": "code",
   "execution_count": 3,
   "metadata": {},
   "outputs": [],
   "source": [
    "aliasip_clusters = pd.read_csv(lightningNodeClustersFile)"
   ]
  },
  {
   "cell_type": "code",
   "execution_count": 4,
   "metadata": {},
   "outputs": [
    {
     "data": {
      "text/html": [
       "<div>\n",
       "<style scoped>\n",
       "    .dataframe tbody tr th:only-of-type {\n",
       "        vertical-align: middle;\n",
       "    }\n",
       "\n",
       "    .dataframe tbody tr th {\n",
       "        vertical-align: top;\n",
       "    }\n",
       "\n",
       "    .dataframe thead th {\n",
       "        text-align: right;\n",
       "    }\n",
       "</style>\n",
       "<table border=\"1\" class=\"dataframe\">\n",
       "  <thead>\n",
       "    <tr style=\"text-align: right;\">\n",
       "      <th></th>\n",
       "      <th>node1</th>\n",
       "      <th>node2</th>\n",
       "      <th>capacity</th>\n",
       "      <th>chan_point</th>\n",
       "    </tr>\n",
       "  </thead>\n",
       "  <tbody>\n",
       "    <tr>\n",
       "      <th>0</th>\n",
       "      <td>03bd3466efd4a7306b539e2314e69efc6b1eaee29734fcedd78cf81b1dde9fedf8</td>\n",
       "      <td>03c3d14714b78f03fd6ea4997c2b540a4139258249ea1d625c03b68bb82f85d0ea</td>\n",
       "      <td>37200</td>\n",
       "      <td>ede04f9cfc1bb5373fd07d8af9c9b8b5a85cfe5e323b7796eb0a4d0dce5d5058:1</td>\n",
       "    </tr>\n",
       "    <tr>\n",
       "      <th>1</th>\n",
       "      <td>02eccebd9ed98f6d267080a58194dbe554a2b33d976eb95bb7c116d00fd64c4a13</td>\n",
       "      <td>02ee4469f2b686d5d02422917ac199602ce4c366a7bfaac1099e3ade377677064d</td>\n",
       "      <td>1000000</td>\n",
       "      <td>cfd0ae79fc150c2c3c4068ceca74bc26652bb2691624379aba9e28b197a78d6a:0</td>\n",
       "    </tr>\n",
       "    <tr>\n",
       "      <th>2</th>\n",
       "      <td>02eccebd9ed98f6d267080a58194dbe554a2b33d976eb95bb7c116d00fd64c4a13</td>\n",
       "      <td>02ee4469f2b686d5d02422917ac199602ce4c366a7bfaac1099e3ade377677064d</td>\n",
       "      <td>1000000</td>\n",
       "      <td>c0a8d3428f562c232d86be399eb4497934e7e0390fa79e6860bcb65e7b0dd4fe:1</td>\n",
       "    </tr>\n",
       "    <tr>\n",
       "      <th>3</th>\n",
       "      <td>03bd3466efd4a7306b539e2314e69efc6b1eaee29734fcedd78cf81b1dde9fedf8</td>\n",
       "      <td>03cbf298b068300be33f06c947b9d3f00a0f0e8089da3233f5db37e81d3a596fe1</td>\n",
       "      <td>200000</td>\n",
       "      <td>06bbac25ed610feb1d07316d1be8b8ba6850ee1dd96cc1d5439159bfe992be5a:1</td>\n",
       "    </tr>\n",
       "    <tr>\n",
       "      <th>4</th>\n",
       "      <td>022e74ed3ddd3f590fd6492e60b20dcad7303f17e1ffd882fb33bb3f6c88f64398</td>\n",
       "      <td>02ee4469f2b686d5d02422917ac199602ce4c366a7bfaac1099e3ade377677064d</td>\n",
       "      <td>2000000</td>\n",
       "      <td>2392c45431c064269e4eaeccb0476ac32e56485d84e104064636aea896d1e439:0</td>\n",
       "    </tr>\n",
       "    <tr>\n",
       "      <th>...</th>\n",
       "      <td>...</td>\n",
       "      <td>...</td>\n",
       "      <td>...</td>\n",
       "      <td>...</td>\n",
       "    </tr>\n",
       "    <tr>\n",
       "      <th>36162</th>\n",
       "      <td>0217890e3aad8d35bc054f43acc00084b25229ecff0ab68debd82883ad65ee8266</td>\n",
       "      <td>029cd00aca967ad1b635fa245198c1907bceebec80487b3ee41c52c693ce25261d</td>\n",
       "      <td>100000</td>\n",
       "      <td>8ed4aab991fa862f5f0e6a36a836b30f2bd1a774d6bfb85a88d63c1a67e44684:0</td>\n",
       "    </tr>\n",
       "    <tr>\n",
       "      <th>36163</th>\n",
       "      <td>0331f80652fb840239df8dc99205792bba2e559a05469915804c08420230e23c7c</td>\n",
       "      <td>03e691f81f08c56fa876cc4ef5c9e8b727bd682cf35605be25d48607a802526053</td>\n",
       "      <td>8000000</td>\n",
       "      <td>e8f79bfb53353f54029a86976c4633c3f65ef854cebcf0aaace70c09a1860936:1</td>\n",
       "    </tr>\n",
       "    <tr>\n",
       "      <th>36164</th>\n",
       "      <td>03bb88ccc444534da7b5b64b4f7b15e1eccb18e102db0e400d4b9cfe93763aa26d</td>\n",
       "      <td>03d480ac7ad220371f1b9c2560be7eb8da6335d6a0d8cb1bc27db1a3958fd8c73f</td>\n",
       "      <td>2000000</td>\n",
       "      <td>7eac4e8a138c6af4b0f332ec497dc33226ae6401af330ec9cc44a1de17192ca4:1</td>\n",
       "    </tr>\n",
       "    <tr>\n",
       "      <th>36165</th>\n",
       "      <td>02480c283dea91c64dd76777ade0517cf697a42ac7dd4892735b41d456f381a450</td>\n",
       "      <td>030365ca0e656453e44b7da30d2643f1f6183cfe2a3bdb59b69aa8bde1136ca758</td>\n",
       "      <td>1000000</td>\n",
       "      <td>322fb69958d9428af10a85e8aa5e4c7f36de3aa07981f51511709bd18c5b4c24:1</td>\n",
       "    </tr>\n",
       "    <tr>\n",
       "      <th>36166</th>\n",
       "      <td>02ce691b2e321954644514db708ba2a72769a6f9142ac63e65dd87964e9cf2add9</td>\n",
       "      <td>03bf6bb49fb95141d9d767b86f47b730234df4019204bc95e796b509aff3d1a5a0</td>\n",
       "      <td>20000</td>\n",
       "      <td>561ff96dff0ece3c392d52f49445d1b2d35f3a2f31a32fad5d8fd5aa8c89d9c9:1</td>\n",
       "    </tr>\n",
       "  </tbody>\n",
       "</table>\n",
       "<p>36167 rows × 4 columns</p>\n",
       "</div>"
      ],
      "text/plain": [
       "                                                                    node1  \\\n",
       "0      03bd3466efd4a7306b539e2314e69efc6b1eaee29734fcedd78cf81b1dde9fedf8   \n",
       "1      02eccebd9ed98f6d267080a58194dbe554a2b33d976eb95bb7c116d00fd64c4a13   \n",
       "2      02eccebd9ed98f6d267080a58194dbe554a2b33d976eb95bb7c116d00fd64c4a13   \n",
       "3      03bd3466efd4a7306b539e2314e69efc6b1eaee29734fcedd78cf81b1dde9fedf8   \n",
       "4      022e74ed3ddd3f590fd6492e60b20dcad7303f17e1ffd882fb33bb3f6c88f64398   \n",
       "...                                                                   ...   \n",
       "36162  0217890e3aad8d35bc054f43acc00084b25229ecff0ab68debd82883ad65ee8266   \n",
       "36163  0331f80652fb840239df8dc99205792bba2e559a05469915804c08420230e23c7c   \n",
       "36164  03bb88ccc444534da7b5b64b4f7b15e1eccb18e102db0e400d4b9cfe93763aa26d   \n",
       "36165  02480c283dea91c64dd76777ade0517cf697a42ac7dd4892735b41d456f381a450   \n",
       "36166  02ce691b2e321954644514db708ba2a72769a6f9142ac63e65dd87964e9cf2add9   \n",
       "\n",
       "                                                                    node2  \\\n",
       "0      03c3d14714b78f03fd6ea4997c2b540a4139258249ea1d625c03b68bb82f85d0ea   \n",
       "1      02ee4469f2b686d5d02422917ac199602ce4c366a7bfaac1099e3ade377677064d   \n",
       "2      02ee4469f2b686d5d02422917ac199602ce4c366a7bfaac1099e3ade377677064d   \n",
       "3      03cbf298b068300be33f06c947b9d3f00a0f0e8089da3233f5db37e81d3a596fe1   \n",
       "4      02ee4469f2b686d5d02422917ac199602ce4c366a7bfaac1099e3ade377677064d   \n",
       "...                                                                   ...   \n",
       "36162  029cd00aca967ad1b635fa245198c1907bceebec80487b3ee41c52c693ce25261d   \n",
       "36163  03e691f81f08c56fa876cc4ef5c9e8b727bd682cf35605be25d48607a802526053   \n",
       "36164  03d480ac7ad220371f1b9c2560be7eb8da6335d6a0d8cb1bc27db1a3958fd8c73f   \n",
       "36165  030365ca0e656453e44b7da30d2643f1f6183cfe2a3bdb59b69aa8bde1136ca758   \n",
       "36166  03bf6bb49fb95141d9d767b86f47b730234df4019204bc95e796b509aff3d1a5a0   \n",
       "\n",
       "       capacity  \\\n",
       "0         37200   \n",
       "1       1000000   \n",
       "2       1000000   \n",
       "3        200000   \n",
       "4       2000000   \n",
       "...         ...   \n",
       "36162    100000   \n",
       "36163   8000000   \n",
       "36164   2000000   \n",
       "36165   1000000   \n",
       "36166     20000   \n",
       "\n",
       "                                                               chan_point  \n",
       "0      ede04f9cfc1bb5373fd07d8af9c9b8b5a85cfe5e323b7796eb0a4d0dce5d5058:1  \n",
       "1      cfd0ae79fc150c2c3c4068ceca74bc26652bb2691624379aba9e28b197a78d6a:0  \n",
       "2      c0a8d3428f562c232d86be399eb4497934e7e0390fa79e6860bcb65e7b0dd4fe:1  \n",
       "3      06bbac25ed610feb1d07316d1be8b8ba6850ee1dd96cc1d5439159bfe992be5a:1  \n",
       "4      2392c45431c064269e4eaeccb0476ac32e56485d84e104064636aea896d1e439:0  \n",
       "...                                                                   ...  \n",
       "36162  8ed4aab991fa862f5f0e6a36a836b30f2bd1a774d6bfb85a88d63c1a67e44684:0  \n",
       "36163  e8f79bfb53353f54029a86976c4633c3f65ef854cebcf0aaace70c09a1860936:1  \n",
       "36164  7eac4e8a138c6af4b0f332ec497dc33226ae6401af330ec9cc44a1de17192ca4:1  \n",
       "36165  322fb69958d9428af10a85e8aa5e4c7f36de3aa07981f51511709bd18c5b4c24:1  \n",
       "36166  561ff96dff0ece3c392d52f49445d1b2d35f3a2f31a32fad5d8fd5aa8c89d9c9:1  \n",
       "\n",
       "[36167 rows x 4 columns]"
      ]
     },
     "execution_count": 4,
     "metadata": {},
     "output_type": "execute_result"
    }
   ],
   "source": [
    "edgelist = pd.read_csv(lnsnapshotFile)\n",
    "edgelist = edgelist.rename(columns={\"node1_pub\":\"node1\", \"node2_pub\":\"node2\"})\n",
    "edgelist = edgelist[[\"node1\", \"node2\", \"capacity\", \"chan_point\"]]\n",
    "edgelist"
   ]
  },
  {
   "cell_type": "code",
   "execution_count": 14,
   "metadata": {},
   "outputs": [
    {
     "data": {
      "text/plain": [
       "6481"
      ]
     },
     "execution_count": 14,
     "metadata": {},
     "output_type": "execute_result"
    }
   ],
   "source": [
    "len(g.vs)"
   ]
  },
  {
   "cell_type": "code",
   "execution_count": 6,
   "metadata": {},
   "outputs": [],
   "source": [
    "# Create an igraph object based on the edge list\n",
    "tuples = [tuple(x) for x in edgelist[[\"node1\", \"node2\", \"capacity\"]].values]\n",
    "g = Graph.TupleList(tuples, directed = False, edge_attrs = ['weight'])\n",
    "\n",
    "id_to_name = dict(map(lambda x: (x.index, x['name']), list(g.vs)))\n",
    "name_to_id = {v: k for k, v in id_to_name.items()}"
   ]
  },
  {
   "cell_type": "code",
   "execution_count": 7,
   "metadata": {},
   "outputs": [],
   "source": [
    "existing_entities = aliasip_clusters[aliasip_clusters.pub_key.isin([id_to_name[v.index] for v in g.vs()])]\n",
    "existing_entities = existing_entities.groupby(\"cluster\").filter(lambda x: len(x) > 1)\n",
    "cluster_aliases = make_cluster_aliases(existing_entities)\n",
    "#aliases = existing_entities[existing_entities.cluster == 180].alias.tolist()\n",
    "#[item for sublist in [alias.split(\" | \") for alias in aliases] for item in sublist]"
   ]
  },
  {
   "cell_type": "code",
   "execution_count": 8,
   "metadata": {},
   "outputs": [],
   "source": [
    "totalCapacity = edgelist.capacity.sum()\n",
    "totalChannels = len(edgelist)"
   ]
  },
  {
   "cell_type": "markdown",
   "metadata": {},
   "source": [
    "# Compute Diameter"
   ]
  },
  {
   "cell_type": "code",
   "execution_count": 17,
   "metadata": {},
   "outputs": [
    {
     "data": {
      "text/plain": [
       "12"
      ]
     },
     "execution_count": 17,
     "metadata": {},
     "output_type": "execute_result"
    }
   ],
   "source": [
    "g.diameter()"
   ]
  },
  {
   "cell_type": "markdown",
   "metadata": {},
   "source": [
    "# Compute cluster capacity shares"
   ]
  },
  {
   "cell_type": "code",
   "execution_count": 9,
   "metadata": {},
   "outputs": [],
   "source": [
    "n1c = existing_entities[[\"pub_key\", \"cluster\"]].rename(columns={\"pub_key\":\"node1\", \"cluster\":\"n1_c\"})\n",
    "n2c = existing_entities[[\"pub_key\", \"cluster\"]].rename(columns={\"pub_key\":\"node2\", \"cluster\":\"n2_c\"})\n",
    "\n",
    "capacity_from_linking = pd.read_csv(channelCreatorsFile)\n",
    "capacity_from_linking.rename(columns = {\"channel\":\"chan_point\"}, inplace=True)\n",
    "\n",
    "channel_funders = edgelist.merge(capacity_from_linking, on=\"chan_point\", how=\"left\")\n",
    "channel_funders = channel_funders.merge(n1c, on=\"node1\", how=\"left\").merge(n2c, on=\"node2\", how=\"left\")"
   ]
  },
  {
   "cell_type": "code",
   "execution_count": 10,
   "metadata": {},
   "outputs": [],
   "source": [
    "def attribute_channel_capacity_to_node(row):\n",
    "    capacity = row[\"capacity\"]\n",
    "    correctExists = not pd.isnull(row[\"funding_node\"])\n",
    "    n1cExists = not pd.isnull(row[\"n1_c\"])\n",
    "    n2cExists = not pd.isnull(row[\"n2_c\"])\n",
    "    if(correctExists):\n",
    "        return({row[\"funding_node\"]:capacity})\n",
    "    elif(n1cExists and not n2cExists):\n",
    "        return({row[\"node1\"]:capacity})\n",
    "    elif(n2cExists and not n1cExists):\n",
    "        return({row[\"node2\"]:capacity})\n",
    "    else: # either both nodes are in a cluster, or none are\n",
    "        return({row[\"node1\"]:capacity/2, row[\"node2\"]:capacity/2})"
   ]
  },
  {
   "cell_type": "code",
   "execution_count": 11,
   "metadata": {},
   "outputs": [],
   "source": [
    "clist = channel_funders.apply(attribute_channel_capacity_to_node, axis=1).tolist()\n",
    "capacities = pd.DataFrame([(k,v) for x in clist for (k, v) in x.items()], columns = [\"pub_key\", \"capacity\"])\n",
    "node_capacity_share = (capacities.groupby(\"pub_key\")[\"capacity\"].sum()/totalCapacity).reset_index()\n",
    "cluster_capacity_share = node_capacity_share.merge(existing_entities, on=\"pub_key\", how=\"inner\")\n",
    "cluster_capacity_share = cluster_capacity_share.groupby(\"cluster\")[\"capacity\"].sum().reset_index()\n",
    "cluster_capacity_share = cluster_capacity_share.merge(cluster_aliases)"
   ]
  },
  {
   "cell_type": "code",
   "execution_count": 16,
   "metadata": {},
   "outputs": [
    {
     "data": {
      "text/html": [
       "<div>\n",
       "<style scoped>\n",
       "    .dataframe tbody tr th:only-of-type {\n",
       "        vertical-align: middle;\n",
       "    }\n",
       "\n",
       "    .dataframe tbody tr th {\n",
       "        vertical-align: top;\n",
       "    }\n",
       "\n",
       "    .dataframe thead th {\n",
       "        text-align: right;\n",
       "    }\n",
       "</style>\n",
       "<table border=\"1\" class=\"dataframe\">\n",
       "  <thead>\n",
       "    <tr style=\"text-align: right;\">\n",
       "      <th></th>\n",
       "      <th>cluster</th>\n",
       "      <th>capacity</th>\n",
       "      <th>cluster_size</th>\n",
       "      <th>alias</th>\n",
       "    </tr>\n",
       "  </thead>\n",
       "  <tbody>\n",
       "    <tr>\n",
       "      <th>36</th>\n",
       "      <td>74</td>\n",
       "      <td>0.363504</td>\n",
       "      <td>26</td>\n",
       "      <td>LNBIG.com *, ...</td>\n",
       "    </tr>\n",
       "    <tr>\n",
       "      <th>27</th>\n",
       "      <td>56</td>\n",
       "      <td>0.039063</td>\n",
       "      <td>2</td>\n",
       "      <td>Thor, ...</td>\n",
       "    </tr>\n",
       "    <tr>\n",
       "      <th>25</th>\n",
       "      <td>53</td>\n",
       "      <td>0.020601</td>\n",
       "      <td>2</td>\n",
       "      <td>CoinGate</td>\n",
       "    </tr>\n",
       "    <tr>\n",
       "      <th>42</th>\n",
       "      <td>82</td>\n",
       "      <td>0.009192</td>\n",
       "      <td>2</td>\n",
       "      <td>*rompert.com*</td>\n",
       "    </tr>\n",
       "    <tr>\n",
       "      <th>32</th>\n",
       "      <td>68</td>\n",
       "      <td>0.008427</td>\n",
       "      <td>2</td>\n",
       "      <td>Breez</td>\n",
       "    </tr>\n",
       "  </tbody>\n",
       "</table>\n",
       "</div>"
      ],
      "text/plain": [
       "    cluster  capacity  cluster_size             alias\n",
       "36       74  0.363504            26  LNBIG.com *, ...\n",
       "27       56  0.039063             2         Thor, ...\n",
       "25       53  0.020601             2          CoinGate\n",
       "42       82  0.009192             2     *rompert.com*\n",
       "32       68  0.008427             2             Breez"
      ]
     },
     "execution_count": 16,
     "metadata": {},
     "output_type": "execute_result"
    }
   ],
   "source": [
    "cluster_capacity_share = cluster_capacity_share.sort_values(\"capacity\", ascending=False)#.cluster.tolist()\n",
    "cluster_capacity_share.head()"
   ]
  },
  {
   "cell_type": "code",
   "execution_count": null,
   "metadata": {},
   "outputs": [],
   "source": []
  },
  {
   "cell_type": "code",
   "execution_count": 13,
   "metadata": {},
   "outputs": [
    {
     "name": "stderr",
     "output_type": "stream",
     "text": [
      "/opt/anaconda/3.7/lib/python3.7/site-packages/plotnine/ggplot.py:729: PlotnineWarning: Saving 5 x 3.5 in image.\n",
      "  from_inches(height, units), units), PlotnineWarning)\n",
      "/opt/anaconda/3.7/lib/python3.7/site-packages/plotnine/ggplot.py:730: PlotnineWarning: Filename: /tmp/capacity_share_contributed.pdf\n",
      "  warn('Filename: {}'.format(filename), PlotnineWarning)\n"
     ]
    },
    {
     "data": {
      "image/png": "[encoded data removed]",
      "text/plain": [
       "<Figure size 640x480 with 1 Axes>"
      ]
     },
     "metadata": {},
     "output_type": "display_data"
    },
    {
     "data": {
      "text/plain": [
       "<ggplot: (8787138847990)>"
      ]
     },
     "execution_count": 13,
     "metadata": {},
     "output_type": "execute_result"
    }
   ],
   "source": [
    "capacity_share_for_plot = cluster_capacity_share.sort_values(\"capacity\", ascending=False)\n",
    "capacity_share_for_plot[\"entity_name\"] = capacity_share_for_plot.apply(lambda x: str(x[\"alias\"]) + \"(\"+str(x[\"cluster_size\"])+\")\", axis=1)\n",
    "entity_name_list = capacity_share_for_plot['entity_name'].values.tolist()\n",
    "entity_name_cat = pd.Categorical(capacity_share_for_plot['entity_name'], categories=entity_name_list)\n",
    "capacity_share_for_plot = capacity_share_for_plot.assign(entity_name_cat = entity_name_cat)\n",
    "capacity_share_for_plot = capacity_share_for_plot.reset_index(drop=True).reset_index()\n",
    "capacity_share_for_plot[\"index\"] = capacity_share_for_plot[\"index\"]+1\n",
    "capacity_share_for_plot[\"cumsum\"] = capacity_share_for_plot.capacity.cumsum()\n",
    "\n",
    "plot = ggplot(capacity_share_for_plot.head()) +\\\n",
    "geom_bar(aes(x=\"index\", y=\"capacity\"), stat=\"identity\", color=\"black\", fill=\"white\") +\\\n",
    "geom_text(aes(x=\"index\", y=0.2, label=\"entity_name_cat\"),angle=90) +\\\n",
    "scale_y_continuous(labels=percent_format(), breaks=np.arange(0, 0.40, 0.05)) +\\\n",
    "theme_publication +\\\n",
    "labs(x=\"Top Entities\", y=\"Share of total capacity contributed\")\n",
    "\n",
    "plot.save(\"/tmp/capacity_share_contributed.pdf\", width=5, height=3.5)\n",
    "plot"
   ]
  },
  {
   "cell_type": "code",
   "execution_count": null,
   "metadata": {},
   "outputs": [],
   "source": [
    "plot = ggplot(capacity_share_for_plot) +\\\n",
    "geom_line(aes(x=\"index\", y=\"cumsum\")) +\\\n",
    "geom_point(data=capacity_share_for_plot, mapping=aes(x=\"index\", y=\"cumsum\")) +\\\n",
    "geom_text(data=capacity_share_for_plot.head(7),\n",
    "          mapping=aes(x=\"index\", y=\"cumsum\", label=\"entity_name_cat\"), ha='left', nudge_x=5) +\\\n",
    "scale_y_continuous(labels=percent_format()) +\\\n",
    "scale_x_continuous(breaks=[1,50,100,150,200]) +\\\n",
    "labs(x=\"Top Entities\", y=\"Cumulative share of total capacity\") +\\\n",
    "theme_publication\n",
    "\n",
    "plot.save(\"/tmp/capacity_share_contributed_cumulative.pdf\", width=5, height=4)\n",
    "plot"
   ]
  },
  {
   "cell_type": "code",
   "execution_count": null,
   "metadata": {},
   "outputs": [],
   "source": [
    "foo = node_capacity_share.sort_values(\"capacity\", ascending=False)\n",
    "foo[\"cumushare\"] = foo[\"capacity\"].cumsum()\n",
    "foo = foo.reset_index(drop=True)\n",
    "print(foo[foo[\"cumushare\"] >= 0.8].iloc[0].name + 1, \"of\", g.vcount(), \"nodes control 80% of capacity.\")"
   ]
  },
  {
   "cell_type": "markdown",
   "metadata": {},
   "source": [
    "# Component disintegration"
   ]
  },
  {
   "cell_type": "code",
   "execution_count": 25,
   "metadata": {},
   "outputs": [
    {
     "data": {
      "text/plain": [
       "39"
      ]
     },
     "execution_count": 25,
     "metadata": {},
     "output_type": "execute_result"
    }
   ],
   "source": [
    "comp = g.components(mode=\"WEAK\")\n",
    "len(g.components(mode=\"WEAK\"))"
   ]
  },
  {
   "cell_type": "code",
   "execution_count": 26,
   "metadata": {},
   "outputs": [],
   "source": [
    "def count_components(graph):\n",
    "    return(len(graph.components(mode=\"WEAK\")))\n",
    "\n",
    "def size_largest_component(graph):\n",
    "    return(len(graph.clusters().giant().vs()))"
   ]
  },
  {
   "cell_type": "code",
   "execution_count": null,
   "metadata": {},
   "outputs": [],
   "source": []
  },
  {
   "cell_type": "code",
   "execution_count": 27,
   "metadata": {},
   "outputs": [
    {
     "data": {
      "application/vnd.jupyter.widget-view+json": {
       "model_id": "062e1bea5a524290841a9d1758670f40",
       "version_major": 2,
       "version_minor": 0
      },
      "text/plain": [
       "HBox(children=(FloatProgress(value=0.0, max=122.0), HTML(value='')))"
      ]
     },
     "metadata": {},
     "output_type": "display_data"
    },
    {
     "name": "stdout",
     "output_type": "stream",
     "text": [
      "\n"
     ]
    }
   ],
   "source": [
    "localG = copy.deepcopy(g)\n",
    "\n",
    "original_component_count = count_components(localG)\n",
    "original_component_size = size_largest_component(localG)\n",
    "\n",
    "coResult = list()\n",
    "coResult.append({\"cluster\":None, \"size_largest_component\": original_component_size})\n",
    "\n",
    "for entity_id in tqdm(cluster_capacity_share.cluster.unique().tolist()):\n",
    "    entity_pub_keys = existing_entities[existing_entities.cluster==entity_id].pub_key.values.tolist()\n",
    "    ids_to_delete = [localG.vs.find(pub_key).index for pub_key in entity_pub_keys]\n",
    "    localG.delete_vertices(ids_to_delete)\n",
    "    coResult.append({\"cluster\": entity_id,\n",
    "                    \"size_largest_component\": size_largest_component(localG)})\n",
    "\n",
    "removalStats = pd.DataFrame(coResult)\n",
    "removalStats[\"largest component\"] = 1 - (removalStats[\"size_largest_component\"] / original_component_size)\n",
    "removalStats = removalStats.reset_index()\n"
   ]
  },
  {
   "cell_type": "code",
   "execution_count": 172,
   "metadata": {},
   "outputs": [
    {
     "data": {
      "text/html": [
       "<div>\n",
       "<style scoped>\n",
       "    .dataframe tbody tr th:only-of-type {\n",
       "        vertical-align: middle;\n",
       "    }\n",
       "\n",
       "    .dataframe tbody tr th {\n",
       "        vertical-align: top;\n",
       "    }\n",
       "\n",
       "    .dataframe thead th {\n",
       "        text-align: right;\n",
       "    }\n",
       "</style>\n",
       "<table border=\"1\" class=\"dataframe\">\n",
       "  <thead>\n",
       "    <tr style=\"text-align: right;\">\n",
       "      <th></th>\n",
       "      <th>cluster</th>\n",
       "      <th>size_largest_component</th>\n",
       "      <th>largest component</th>\n",
       "    </tr>\n",
       "  </thead>\n",
       "  <tbody>\n",
       "    <tr>\n",
       "      <th>0</th>\n",
       "      <td>74</td>\n",
       "      <td>6065</td>\n",
       "      <td>0.051751</td>\n",
       "    </tr>\n",
       "    <tr>\n",
       "      <th>1</th>\n",
       "      <td>74</td>\n",
       "      <td>6045</td>\n",
       "      <td>0.054878</td>\n",
       "    </tr>\n",
       "    <tr>\n",
       "      <th>2</th>\n",
       "      <td>74</td>\n",
       "      <td>6028</td>\n",
       "      <td>0.057536</td>\n",
       "    </tr>\n",
       "    <tr>\n",
       "      <th>3</th>\n",
       "      <td>74</td>\n",
       "      <td>5969</td>\n",
       "      <td>0.066760</td>\n",
       "    </tr>\n",
       "    <tr>\n",
       "      <th>4</th>\n",
       "      <td>74</td>\n",
       "      <td>5960</td>\n",
       "      <td>0.068168</td>\n",
       "    </tr>\n",
       "    <tr>\n",
       "      <th>...</th>\n",
       "      <td>...</td>\n",
       "      <td>...</td>\n",
       "      <td>...</td>\n",
       "    </tr>\n",
       "    <tr>\n",
       "      <th>117</th>\n",
       "      <td>74</td>\n",
       "      <td>5539</td>\n",
       "      <td>0.133990</td>\n",
       "    </tr>\n",
       "    <tr>\n",
       "      <th>118</th>\n",
       "      <td>74</td>\n",
       "      <td>5537</td>\n",
       "      <td>0.134303</td>\n",
       "    </tr>\n",
       "    <tr>\n",
       "      <th>119</th>\n",
       "      <td>74</td>\n",
       "      <td>5535</td>\n",
       "      <td>0.134615</td>\n",
       "    </tr>\n",
       "    <tr>\n",
       "      <th>120</th>\n",
       "      <td>74</td>\n",
       "      <td>5535</td>\n",
       "      <td>0.134615</td>\n",
       "    </tr>\n",
       "    <tr>\n",
       "      <th>121</th>\n",
       "      <td>74</td>\n",
       "      <td>5535</td>\n",
       "      <td>0.134615</td>\n",
       "    </tr>\n",
       "  </tbody>\n",
       "</table>\n",
       "<p>122 rows × 3 columns</p>\n",
       "</div>"
      ],
      "text/plain": [
       "     cluster  size_largest_component  largest component\n",
       "0         74                    6065           0.051751\n",
       "1         74                    6045           0.054878\n",
       "2         74                    6028           0.057536\n",
       "3         74                    5969           0.066760\n",
       "4         74                    5960           0.068168\n",
       "..       ...                     ...                ...\n",
       "117       74                    5539           0.133990\n",
       "118       74                    5537           0.134303\n",
       "119       74                    5535           0.134615\n",
       "120       74                    5535           0.134615\n",
       "121       74                    5535           0.134615\n",
       "\n",
       "[122 rows x 3 columns]"
      ]
     },
     "execution_count": 172,
     "metadata": {},
     "output_type": "execute_result"
    }
   ],
   "source": []
  },
  {
   "cell_type": "code",
   "execution_count": null,
   "metadata": {},
   "outputs": [],
   "source": []
  },
  {
   "cell_type": "markdown",
   "metadata": {},
   "source": [
    "# Define grieving functions"
   ]
  },
  {
   "cell_type": "code",
   "execution_count": null,
   "metadata": {},
   "outputs": [],
   "source": [
    "def performMaxFlowAndUpdateWeights(g, source, target):\n",
    "    mf = g.maxflow(source=name_to_id[source],\n",
    "                   target=name_to_id[target], capacity='weight')\n",
    "    for (index, flow) in enumerate(mf.flow):\n",
    "        newCapacity = g.es[index]['weight'] - abs(flow)\n",
    "        g.es[index].update_attributes({'weight': newCapacity})\n",
    "        g.es[index].update_attributes({'label': newCapacity})\n",
    "    \n",
    "    return(mf.value)\n",
    "\n",
    "def performGrieving(g, entity_nodes):\n",
    "    cumulativeFlow = 0\n",
    "    for (source, target) in tqdm(list(combinations(entity_nodes, 2)), leave=False):\n",
    "        cumulativeFlow += performMaxFlowAndUpdateWeights(g, source, target)\n",
    "    return(cumulativeFlow)\n",
    "    # idea, if you want to send funds to yourself:\n",
    "    # start max-flow from every neighbor to yourself,\n",
    "    # setting an upper capacity limit for the neighbor channels\n",
    "    # to the capacity you have to the neighbor\n",
    "    \n",
    "def performGrievingByEntityId(g, eid):\n",
    "    coins = performGrieving(g, existing_entities[existing_entities.cluster==eid].pub_key.values.tolist())\n",
    "    cCount = len([edge for edge in g.es if edge[\"weight\"] == 0])\n",
    "    return({\"cluster\":eid, \"coins\":coins, \"cCount\":cCount})"
   ]
  },
  {
   "cell_type": "code",
   "execution_count": null,
   "metadata": {},
   "outputs": [],
   "source": []
  },
  {
   "cell_type": "code",
   "execution_count": null,
   "metadata": {},
   "outputs": [],
   "source": [
    "individualGrievingResList = list()\n",
    "for entity_id in tqdm(existing_entities.cluster.unique().tolist()):\n",
    "    gcopy = copy.deepcopy(g)\n",
    "    individualGrievingResList.append(performGrievingByEntityId(gcopy, entity_id))"
   ]
  },
  {
   "cell_type": "code",
   "execution_count": null,
   "metadata": {},
   "outputs": [],
   "source": [
    "individualGrievingRes = pd.DataFrame(individualGrievingResList)\n",
    "individualGrievingRes = individualGrievingRes.merge(cluster_aliases, on=\"cluster\")\n",
    "individualGrievingRes[\"capacityShare\"] = individualGrievingRes[\"coins\"] / totalCapacity\n",
    "individualGrievingRes[\"channelShare\"] = individualGrievingRes[\"cCount\"] / totalChannels\n",
    "individualGrievingRes = individualGrievingRes.sort_values(\"capacityShare\", ascending = False)\n",
    "individualGrievingRes"
   ]
  },
  {
   "cell_type": "code",
   "execution_count": null,
   "metadata": {},
   "outputs": [],
   "source": [
    "grieving_share_for_plot = individualGrievingRes.sort_values(\"capacityShare\", ascending=False)\n",
    "grieving_share_for_plot[\"entity_name\"] = grieving_share_for_plot.apply(lambda x: str(x[\"alias\"]) + \"(\"+str(x[\"cluster_size\"])+\")\", axis=1)\n",
    "entity_name_list = grieving_share_for_plot['entity_name'].values.tolist()\n",
    "entity_name_cat = pd.Categorical(grieving_share_for_plot['entity_name'], categories=entity_name_list)\n",
    "grieving_share_for_plot = grieving_share_for_plot.assign(entity_name_cat = entity_name_cat)\n",
    "grieving_share_for_plot = grieving_share_for_plot.reset_index(drop=True).reset_index()\n",
    "grieving_share_for_plot[\"index\"] = grieving_share_for_plot[\"index\"]+1\n",
    "\n",
    "plot = ggplot(grieving_share_for_plot.head()) +\\\n",
    "geom_bar(aes(x=\"index\", y=\"capacityShare\"), stat=\"identity\", color=\"black\", fill=\"white\") +\\\n",
    "geom_text(aes(x=\"index\", y=0.08, label=\"entity_name_cat\"),angle=90) +\\\n",
    "scale_y_continuous(labels=percent_format()) +\\\n",
    "theme_publication +\\\n",
    "labs(x=\"Top Entities\", y=\"Griefed network capacity\")\n",
    "\n",
    "plot.save(\"/tmp/capacity_share_griefed.pdf\", width=5, height=3.5)\n",
    "plot"
   ]
  },
  {
   "cell_type": "code",
   "execution_count": null,
   "metadata": {},
   "outputs": [],
   "source": [
    "grieving_share_for_plot = individualGrievingRes.sort_values(\"channelShare\", ascending=False)\n",
    "grieving_share_for_plot[\"entity_name\"] = grieving_share_for_plot.apply(lambda x: str(x[\"alias\"]) + \"(\"+str(x[\"cluster_size\"])+\")\", axis=1)\n",
    "entity_name_list = grieving_share_for_plot['entity_name'].values.tolist()\n",
    "entity_name_cat = pd.Categorical(grieving_share_for_plot['entity_name'], categories=entity_name_list)\n",
    "grieving_share_for_plot = grieving_share_for_plot.assign(entity_name_cat = entity_name_cat)\n",
    "grieving_share_for_plot = grieving_share_for_plot.reset_index(drop=True).reset_index()\n",
    "grieving_share_for_plot[\"index\"] = grieving_share_for_plot[\"index\"]+1\n",
    "\n",
    "plot = ggplot(grieving_share_for_plot.head()) +\\\n",
    "geom_bar(aes(x=\"index\", y=\"channelShare\"), stat=\"identity\", color=\"black\", fill=\"white\") +\\\n",
    "geom_text(aes(x=\"index\", y=0.2, label=\"entity_name_cat\"),angle=90) +\\\n",
    "scale_y_continuous(labels=percent_format(), breaks=np.arange(0, 0.50, 0.1)) +\\\n",
    "theme_publication +\\\n",
    "labs(x=\"Top Entities\", y=\"Share of all channels blocked\")\n",
    "\n",
    "plot.save(\"/tmp/channel_share_griefed.pdf\", width=5, height=3.5)\n",
    "plot"
   ]
  },
  {
   "cell_type": "code",
   "execution_count": null,
   "metadata": {},
   "outputs": [],
   "source": [
    "combined_data = individualGrievingRes.sort_values(\"capacityShare\", ascending=False).head(5)\n",
    "combined_data = combined_data.reset_index(drop=True).reset_index().rename(columns={\"index\":\"position\"})\n",
    "combined_data[\"position\"] += 1\n",
    "combined_data = pd.melt(combined_data.rename(columns={\"capacityShare\":\"of total capacity\", \"channelShare\":\"of all channels\"}),\n",
    "                        id_vars=[\"position\", \"cluster_size\", \"alias\"],\n",
    "                        value_vars=[\"of total capacity\", \"of all channels\"])\n",
    "plot = ggplot(combined_data) +\\\n",
    "geom_bar(aes(x=\"position\", y=\"value\", fill=\"variable\"), position=\"dodge\", stat=\"identity\", color=\"black\") +\\\n",
    "geom_text(data=combined_data[combined_data.variable == \"of total capacity\"],\n",
    "          mapping=aes(x=\"position\", y=\"value\", label=\"alias\"), angle=90, va=\"baseline\", nudge_y=0.065, nudge_x=0.25) +\\\n",
    "labs(x=\"Top entities\", y=\"Share locked with\\n griefing attack\", fill=\"\") +\\\n",
    "scale_y_continuous(labels=percent_format()) +\\\n",
    "theme_publication +\\\n",
    "theme(legend_position=\"bottom\")\n",
    "\n",
    "plot.save(\"/tmp/griefed_share_combined.pdf\", width=5, height=3.5)\n",
    "plot"
   ]
  },
  {
   "cell_type": "code",
   "execution_count": null,
   "metadata": {},
   "outputs": [],
   "source": []
  },
  {
   "cell_type": "code",
   "execution_count": null,
   "metadata": {},
   "outputs": [],
   "source": []
  },
  {
   "cell_type": "code",
   "execution_count": null,
   "metadata": {},
   "outputs": [],
   "source": [
    "cumulativeGrievingResList = list()\n",
    "gcopy = copy.deepcopy(g)\n",
    "for entity_id in tqdm(cluster_capacity_share.cluster.unique().tolist()):\n",
    "    existing_entities[existing_entities.cluster==eid].pub_key.values.tolist()\n",
    "    cumulativeGrievingResList.append(performGrievingByEntityId(gcopy, entity_id))"
   ]
  },
  {
   "cell_type": "code",
   "execution_count": null,
   "metadata": {},
   "outputs": [],
   "source": [
    "cumulativeGrievingRes = pd.DataFrame(cumulativeGrievingResList)\n",
    "cumulativeGrievingRes = cumulativeGrievingRes.merge(cluster_aliases, on=\"cluster\")\n",
    "cumulativeGrievingRes[\"cumucoins\"] = cumulativeGrievingRes[\"coins\"].cumsum()\n",
    "cumulativeGrievingRes[\"capacityShare\"] = cumulativeGrievingRes[\"cumucoins\"] / totalCapacity\n",
    "cumulativeGrievingRes[\"channelShare\"] = cumulativeGrievingRes[\"cCount\"] / totalChannels\n",
    "cumulativeGrievingRes"
   ]
  },
  {
   "cell_type": "code",
   "execution_count": null,
   "metadata": {},
   "outputs": [],
   "source": [
    "ggplot(cumulativeGrievingRes.reset_index()) +\\\n",
    "geom_line(aes(x=\"index\", y=\"capacityShare\")) +\\\n",
    "labs(x=\"Entity index\", y=\"Cumulative capacity griefed\") +\\\n",
    "theme_publication"
   ]
  },
  {
   "cell_type": "markdown",
   "metadata": {},
   "source": [
    "# Average maximum flow with uniform random sampling"
   ]
  },
  {
   "cell_type": "code",
   "execution_count": 18,
   "metadata": {},
   "outputs": [
    {
     "data": {
      "application/vnd.jupyter.widget-view+json": {
       "model_id": "",
       "version_major": 2,
       "version_minor": 0
      },
      "text/plain": [
       "HBox(children=(FloatProgress(value=0.0, max=1000.0), HTML(value='')))"
      ]
     },
     "metadata": {},
     "output_type": "display_data"
    },
    {
     "data": {
      "application/vnd.jupyter.widget-view+json": {
       "model_id": "17ce848327304f18bbec4c2cfea69ed8",
       "version_major": 2,
       "version_minor": 0
      },
      "text/plain": [
       "HBox(children=(FloatProgress(value=0.0, max=122.0), HTML(value='')))"
      ]
     },
     "metadata": {},
     "output_type": "display_data"
    },
    {
     "data": {
      "application/vnd.jupyter.widget-view+json": {
       "model_id": "",
       "version_major": 2,
       "version_minor": 0
      },
      "text/plain": [
       "HBox(children=(FloatProgress(value=0.0, max=1000.0), HTML(value='')))"
      ]
     },
     "metadata": {},
     "output_type": "display_data"
    },
    {
     "name": "stdout",
     "output_type": "stream",
     "text": [
      "{'cluster': 74, 'avgMaxFlow': 1041668.466}\n"
     ]
    },
    {
     "data": {
      "application/vnd.jupyter.widget-view+json": {
       "model_id": "",
       "version_major": 2,
       "version_minor": 0
      },
      "text/plain": [
       "HBox(children=(FloatProgress(value=0.0, max=1000.0), HTML(value='')))"
      ]
     },
     "metadata": {},
     "output_type": "display_data"
    },
    {
     "name": "stdout",
     "output_type": "stream",
     "text": [
      "{'cluster': 56, 'avgMaxFlow': 985075.882}\n"
     ]
    },
    {
     "data": {
      "application/vnd.jupyter.widget-view+json": {
       "model_id": "",
       "version_major": 2,
       "version_minor": 0
      },
      "text/plain": [
       "HBox(children=(FloatProgress(value=0.0, max=1000.0), HTML(value='')))"
      ]
     },
     "metadata": {},
     "output_type": "display_data"
    },
    {
     "name": "stdout",
     "output_type": "stream",
     "text": [
      "{'cluster': 53, 'avgMaxFlow': 964551.487}\n"
     ]
    },
    {
     "data": {
      "application/vnd.jupyter.widget-view+json": {
       "model_id": "",
       "version_major": 2,
       "version_minor": 0
      },
      "text/plain": [
       "HBox(children=(FloatProgress(value=0.0, max=1000.0), HTML(value='')))"
      ]
     },
     "metadata": {},
     "output_type": "display_data"
    },
    {
     "name": "stdout",
     "output_type": "stream",
     "text": [
      "{'cluster': 82, 'avgMaxFlow': 940028.291}\n"
     ]
    },
    {
     "data": {
      "application/vnd.jupyter.widget-view+json": {
       "model_id": "",
       "version_major": 2,
       "version_minor": 0
      },
      "text/plain": [
       "HBox(children=(FloatProgress(value=0.0, max=1000.0), HTML(value='')))"
      ]
     },
     "metadata": {},
     "output_type": "display_data"
    },
    {
     "name": "stdout",
     "output_type": "stream",
     "text": [
      "{'cluster': 68, 'avgMaxFlow': 933156.698}\n"
     ]
    },
    {
     "data": {
      "application/vnd.jupyter.widget-view+json": {
       "model_id": "",
       "version_major": 2,
       "version_minor": 0
      },
      "text/plain": [
       "HBox(children=(FloatProgress(value=0.0, max=1000.0), HTML(value='')))"
      ]
     },
     "metadata": {},
     "output_type": "display_data"
    },
    {
     "name": "stdout",
     "output_type": "stream",
     "text": [
      "{'cluster': 54, 'avgMaxFlow': 913639.076}\n"
     ]
    },
    {
     "data": {
      "application/vnd.jupyter.widget-view+json": {
       "model_id": "",
       "version_major": 2,
       "version_minor": 0
      },
      "text/plain": [
       "HBox(children=(FloatProgress(value=0.0, max=1000.0), HTML(value='')))"
      ]
     },
     "metadata": {},
     "output_type": "display_data"
    },
    {
     "name": "stdout",
     "output_type": "stream",
     "text": [
      "{'cluster': 38, 'avgMaxFlow': 901442.014}\n"
     ]
    },
    {
     "data": {
      "application/vnd.jupyter.widget-view+json": {
       "model_id": "",
       "version_major": 2,
       "version_minor": 0
      },
      "text/plain": [
       "HBox(children=(FloatProgress(value=0.0, max=1000.0), HTML(value='')))"
      ]
     },
     "metadata": {},
     "output_type": "display_data"
    },
    {
     "name": "stdout",
     "output_type": "stream",
     "text": [
      "{'cluster': 174, 'avgMaxFlow': 892878.896}\n"
     ]
    },
    {
     "data": {
      "application/vnd.jupyter.widget-view+json": {
       "model_id": "",
       "version_major": 2,
       "version_minor": 0
      },
      "text/plain": [
       "HBox(children=(FloatProgress(value=0.0, max=1000.0), HTML(value='')))"
      ]
     },
     "metadata": {},
     "output_type": "display_data"
    },
    {
     "name": "stdout",
     "output_type": "stream",
     "text": [
      "{'cluster': 191, 'avgMaxFlow': 887406.988}\n"
     ]
    },
    {
     "data": {
      "application/vnd.jupyter.widget-view+json": {
       "model_id": "",
       "version_major": 2,
       "version_minor": 0
      },
      "text/plain": [
       "HBox(children=(FloatProgress(value=0.0, max=1000.0), HTML(value='')))"
      ]
     },
     "metadata": {},
     "output_type": "display_data"
    },
    {
     "name": "stdout",
     "output_type": "stream",
     "text": [
      "{'cluster': 225, 'avgMaxFlow': 887083.261}\n"
     ]
    },
    {
     "data": {
      "application/vnd.jupyter.widget-view+json": {
       "model_id": "",
       "version_major": 2,
       "version_minor": 0
      },
      "text/plain": [
       "HBox(children=(FloatProgress(value=0.0, max=1000.0), HTML(value='')))"
      ]
     },
     "metadata": {},
     "output_type": "display_data"
    },
    {
     "name": "stdout",
     "output_type": "stream",
     "text": [
      "{'cluster': 218, 'avgMaxFlow': 883500.852}\n"
     ]
    },
    {
     "data": {
      "application/vnd.jupyter.widget-view+json": {
       "model_id": "",
       "version_major": 2,
       "version_minor": 0
      },
      "text/plain": [
       "HBox(children=(FloatProgress(value=0.0, max=1000.0), HTML(value='')))"
      ]
     },
     "metadata": {},
     "output_type": "display_data"
    },
    {
     "name": "stdout",
     "output_type": "stream",
     "text": [
      "{'cluster': 77, 'avgMaxFlow': 882200.852}\n"
     ]
    },
    {
     "data": {
      "application/vnd.jupyter.widget-view+json": {
       "model_id": "",
       "version_major": 2,
       "version_minor": 0
      },
      "text/plain": [
       "HBox(children=(FloatProgress(value=0.0, max=1000.0), HTML(value='')))"
      ]
     },
     "metadata": {},
     "output_type": "display_data"
    },
    {
     "name": "stdout",
     "output_type": "stream",
     "text": [
      "{'cluster': 7, 'avgMaxFlow': 882200.852}\n"
     ]
    },
    {
     "data": {
      "application/vnd.jupyter.widget-view+json": {
       "model_id": "eef71a0c4e7c49c2bbdf02bf164c2aef",
       "version_major": 2,
       "version_minor": 0
      },
      "text/plain": [
       "HBox(children=(FloatProgress(value=0.0, max=1000.0), HTML(value='')))"
      ]
     },
     "metadata": {},
     "output_type": "display_data"
    },
    {
     "name": "stdout",
     "output_type": "stream",
     "text": [
      "\n"
     ]
    },
    {
     "ename": "KeyboardInterrupt",
     "evalue": "",
     "output_type": "error",
     "traceback": [
      "\u001b[0;31m---------------------------------------------------------------------------\u001b[0m",
      "\u001b[0;31mKeyboardInterrupt\u001b[0m                         Traceback (most recent call last)",
      "\u001b[0;32m<ipython-input-18-251602f17e22>\u001b[0m in \u001b[0;36m<module>\u001b[0;34m\u001b[0m\n\u001b[1;32m     24\u001b[0m     \u001b[0;31m#print(vids)\u001b[0m\u001b[0;34m\u001b[0m\u001b[0;34m\u001b[0m\u001b[0;34m\u001b[0m\u001b[0m\n\u001b[1;32m     25\u001b[0m     \u001b[0mlocalG\u001b[0m\u001b[0;34m.\u001b[0m\u001b[0mdelete_vertices\u001b[0m\u001b[0;34m(\u001b[0m\u001b[0mvids\u001b[0m\u001b[0;34m)\u001b[0m\u001b[0;34m\u001b[0m\u001b[0;34m\u001b[0m\u001b[0m\n\u001b[0;32m---> 26\u001b[0;31m     \u001b[0mstat\u001b[0m \u001b[0;34m=\u001b[0m \u001b[0;34m{\u001b[0m\u001b[0;34m\"cluster\"\u001b[0m\u001b[0;34m:\u001b[0m\u001b[0mentity_id\u001b[0m\u001b[0;34m,\u001b[0m \u001b[0;34m\"avgMaxFlow\"\u001b[0m\u001b[0;34m:\u001b[0m\u001b[0mestimateAvgMaxFlow\u001b[0m\u001b[0;34m(\u001b[0m\u001b[0mlocalG\u001b[0m\u001b[0;34m)\u001b[0m\u001b[0;34m}\u001b[0m\u001b[0;34m\u001b[0m\u001b[0;34m\u001b[0m\u001b[0m\n\u001b[0m\u001b[1;32m     27\u001b[0m     \u001b[0mprint\u001b[0m\u001b[0;34m(\u001b[0m\u001b[0mstat\u001b[0m\u001b[0;34m)\u001b[0m\u001b[0;34m\u001b[0m\u001b[0;34m\u001b[0m\u001b[0m\n\u001b[1;32m     28\u001b[0m     \u001b[0mmfResults\u001b[0m\u001b[0;34m.\u001b[0m\u001b[0mappend\u001b[0m\u001b[0;34m(\u001b[0m\u001b[0mstat\u001b[0m\u001b[0;34m)\u001b[0m\u001b[0;34m\u001b[0m\u001b[0;34m\u001b[0m\u001b[0m\n",
      "\u001b[0;32m<ipython-input-18-251602f17e22>\u001b[0m in \u001b[0;36mestimateAvgMaxFlow\u001b[0;34m(g)\u001b[0m\n\u001b[1;32m     10\u001b[0m     \u001b[0;31m#randomPairs = random.choices(list(combinations([v.index for v in g.vs], 2)), k=k)\u001b[0m\u001b[0;34m\u001b[0m\u001b[0;34m\u001b[0m\u001b[0;34m\u001b[0m\u001b[0m\n\u001b[1;32m     11\u001b[0m     avgMaxFlow = np.array(\n\u001b[0;32m---> 12\u001b[0;31m         [g.maxflow_value(g.vs.find(s).index, g.vs.find(t).index, capacity=\"weight\") for (s, t) in tqdm(randomPairs, leave=False)]).mean()\n\u001b[0m\u001b[1;32m     13\u001b[0m     \u001b[0;32mreturn\u001b[0m\u001b[0;34m(\u001b[0m\u001b[0mavgMaxFlow\u001b[0m\u001b[0;34m)\u001b[0m\u001b[0;34m\u001b[0m\u001b[0;34m\u001b[0m\u001b[0m\n\u001b[1;32m     14\u001b[0m \u001b[0;34m\u001b[0m\u001b[0m\n",
      "\u001b[0;32m<ipython-input-18-251602f17e22>\u001b[0m in \u001b[0;36m<listcomp>\u001b[0;34m(.0)\u001b[0m\n\u001b[1;32m     10\u001b[0m     \u001b[0;31m#randomPairs = random.choices(list(combinations([v.index for v in g.vs], 2)), k=k)\u001b[0m\u001b[0;34m\u001b[0m\u001b[0;34m\u001b[0m\u001b[0;34m\u001b[0m\u001b[0m\n\u001b[1;32m     11\u001b[0m     avgMaxFlow = np.array(\n\u001b[0;32m---> 12\u001b[0;31m         [g.maxflow_value(g.vs.find(s).index, g.vs.find(t).index, capacity=\"weight\") for (s, t) in tqdm(randomPairs, leave=False)]).mean()\n\u001b[0m\u001b[1;32m     13\u001b[0m     \u001b[0;32mreturn\u001b[0m\u001b[0;34m(\u001b[0m\u001b[0mavgMaxFlow\u001b[0m\u001b[0;34m)\u001b[0m\u001b[0;34m\u001b[0m\u001b[0;34m\u001b[0m\u001b[0m\n\u001b[1;32m     14\u001b[0m \u001b[0;34m\u001b[0m\u001b[0m\n",
      "\u001b[0;31mKeyboardInterrupt\u001b[0m: "
     ]
    }
   ],
   "source": [
    "pairs = 1000\n",
    "\n",
    "# node pairs except nodes from our clusters\n",
    "nodePairs = list(combinations([v[\"name\"] for v in g.vs if v[\"name\"] not in existing_entities.pub_key.tolist()], 2))\n",
    "# draw \n",
    "random.seed(0)\n",
    "randomPairs = random.choices(nodePairs, k=pairs)\n",
    "\n",
    "def estimateAvgMaxFlow(g):\n",
    "    #randomPairs = random.choices(list(combinations([v.index for v in g.vs], 2)), k=k)\n",
    "    avgMaxFlow = np.array(\n",
    "        [g.maxflow_value(g.vs.find(s).index, g.vs.find(t).index, capacity=\"weight\") for (s, t) in tqdm(randomPairs, leave=False)]).mean()\n",
    "    return(avgMaxFlow)\n",
    "\n",
    "localG = copy.deepcopy(g)\n",
    "mfResults = list()\n",
    "initialAvgMaxFlow = estimateAvgMaxFlow(localG)\n",
    "mfResults.append({\"cluster\":None, \"avgMaxFlow\": initialAvgMaxFlow})\n",
    "\n",
    "for entity_id in tqdm(cluster_capacity_share.cluster.unique().tolist()):\n",
    "    entity_pub_keys = existing_entities[existing_entities.cluster==entity_id].pub_key.values.tolist()\n",
    "    vids = [v.index for v in localG.vs if v[\"name\"] in entity_pub_keys]\n",
    "    #vids = [name_to_id[pub_key] for pub_key in entity_pub_keys]\n",
    "    #print(vids)\n",
    "    localG.delete_vertices(vids)\n",
    "    stat = {\"cluster\":entity_id, \"avgMaxFlow\":estimateAvgMaxFlow(localG)}\n",
    "    print(stat)\n",
    "    mfResults.append(stat)\n",
    "    "
   ]
  },
  {
   "cell_type": "code",
   "execution_count": 19,
   "metadata": {},
   "outputs": [
    {
     "data": {
      "text/html": [
       "<div>\n",
       "<style scoped>\n",
       "    .dataframe tbody tr th:only-of-type {\n",
       "        vertical-align: middle;\n",
       "    }\n",
       "\n",
       "    .dataframe tbody tr th {\n",
       "        vertical-align: top;\n",
       "    }\n",
       "\n",
       "    .dataframe thead th {\n",
       "        text-align: right;\n",
       "    }\n",
       "</style>\n",
       "<table border=\"1\" class=\"dataframe\">\n",
       "  <thead>\n",
       "    <tr style=\"text-align: right;\">\n",
       "      <th></th>\n",
       "      <th>index</th>\n",
       "      <th>cluster</th>\n",
       "      <th>avgMaxFlow</th>\n",
       "      <th>advantage</th>\n",
       "    </tr>\n",
       "  </thead>\n",
       "  <tbody>\n",
       "    <tr>\n",
       "      <th>0</th>\n",
       "      <td>0</td>\n",
       "      <td>NaN</td>\n",
       "      <td>1600323.281</td>\n",
       "      <td>0.000000</td>\n",
       "    </tr>\n",
       "    <tr>\n",
       "      <th>1</th>\n",
       "      <td>1</td>\n",
       "      <td>74.0</td>\n",
       "      <td>1041668.466</td>\n",
       "      <td>0.349089</td>\n",
       "    </tr>\n",
       "    <tr>\n",
       "      <th>2</th>\n",
       "      <td>2</td>\n",
       "      <td>56.0</td>\n",
       "      <td>985075.882</td>\n",
       "      <td>0.384452</td>\n",
       "    </tr>\n",
       "    <tr>\n",
       "      <th>3</th>\n",
       "      <td>3</td>\n",
       "      <td>53.0</td>\n",
       "      <td>964551.487</td>\n",
       "      <td>0.397277</td>\n",
       "    </tr>\n",
       "    <tr>\n",
       "      <th>4</th>\n",
       "      <td>4</td>\n",
       "      <td>82.0</td>\n",
       "      <td>940028.291</td>\n",
       "      <td>0.412601</td>\n",
       "    </tr>\n",
       "    <tr>\n",
       "      <th>5</th>\n",
       "      <td>5</td>\n",
       "      <td>68.0</td>\n",
       "      <td>933156.698</td>\n",
       "      <td>0.416895</td>\n",
       "    </tr>\n",
       "    <tr>\n",
       "      <th>6</th>\n",
       "      <td>6</td>\n",
       "      <td>54.0</td>\n",
       "      <td>913639.076</td>\n",
       "      <td>0.429091</td>\n",
       "    </tr>\n",
       "    <tr>\n",
       "      <th>7</th>\n",
       "      <td>7</td>\n",
       "      <td>38.0</td>\n",
       "      <td>901442.014</td>\n",
       "      <td>0.436713</td>\n",
       "    </tr>\n",
       "    <tr>\n",
       "      <th>8</th>\n",
       "      <td>8</td>\n",
       "      <td>174.0</td>\n",
       "      <td>892878.896</td>\n",
       "      <td>0.442063</td>\n",
       "    </tr>\n",
       "    <tr>\n",
       "      <th>9</th>\n",
       "      <td>9</td>\n",
       "      <td>191.0</td>\n",
       "      <td>887406.988</td>\n",
       "      <td>0.445483</td>\n",
       "    </tr>\n",
       "    <tr>\n",
       "      <th>10</th>\n",
       "      <td>10</td>\n",
       "      <td>225.0</td>\n",
       "      <td>887083.261</td>\n",
       "      <td>0.445685</td>\n",
       "    </tr>\n",
       "    <tr>\n",
       "      <th>11</th>\n",
       "      <td>11</td>\n",
       "      <td>218.0</td>\n",
       "      <td>883500.852</td>\n",
       "      <td>0.447924</td>\n",
       "    </tr>\n",
       "    <tr>\n",
       "      <th>12</th>\n",
       "      <td>12</td>\n",
       "      <td>77.0</td>\n",
       "      <td>882200.852</td>\n",
       "      <td>0.448736</td>\n",
       "    </tr>\n",
       "    <tr>\n",
       "      <th>13</th>\n",
       "      <td>13</td>\n",
       "      <td>7.0</td>\n",
       "      <td>882200.852</td>\n",
       "      <td>0.448736</td>\n",
       "    </tr>\n",
       "  </tbody>\n",
       "</table>\n",
       "</div>"
      ],
      "text/plain": [
       "    index  cluster   avgMaxFlow  advantage\n",
       "0       0      NaN  1600323.281   0.000000\n",
       "1       1     74.0  1041668.466   0.349089\n",
       "2       2     56.0   985075.882   0.384452\n",
       "3       3     53.0   964551.487   0.397277\n",
       "4       4     82.0   940028.291   0.412601\n",
       "5       5     68.0   933156.698   0.416895\n",
       "6       6     54.0   913639.076   0.429091\n",
       "7       7     38.0   901442.014   0.436713\n",
       "8       8    174.0   892878.896   0.442063\n",
       "9       9    191.0   887406.988   0.445483\n",
       "10     10    225.0   887083.261   0.445685\n",
       "11     11    218.0   883500.852   0.447924\n",
       "12     12     77.0   882200.852   0.448736\n",
       "13     13      7.0   882200.852   0.448736"
      ]
     },
     "execution_count": 19,
     "metadata": {},
     "output_type": "execute_result"
    }
   ],
   "source": [
    "mfResultsDF = pd.DataFrame(mfResults).reset_index()\n",
    "mfResultsDF[\"advantage\"] = 1 - (mfResultsDF[\"avgMaxFlow\"]/initialAvgMaxFlow)\n",
    "mfResultsDF"
   ]
  },
  {
   "cell_type": "code",
   "execution_count": 20,
   "metadata": {},
   "outputs": [
    {
     "data": {
      "image/png": "[encoded data removed]",
      "text/plain": [
       "<Figure size 640x480 with 1 Axes>"
      ]
     },
     "metadata": {},
     "output_type": "display_data"
    },
    {
     "data": {
      "text/plain": [
       "<ggplot: (-9223363245515411484)>"
      ]
     },
     "execution_count": 20,
     "metadata": {},
     "output_type": "execute_result"
    }
   ],
   "source": [
    "plot = ggplot(mfResultsDF) +\\\n",
    "geom_line(aes(x=\"index\", y=\"advantage\")) +\\\n",
    "labs(x=\"Number of removed entities by capacity share\", y=\"Adversary's advantge\") +\\\n",
    "theme_publication +ggtitle(\"Average Max Flow\")\n",
    "\n",
    "plot"
   ]
  },
  {
   "cell_type": "code",
   "execution_count": 93,
   "metadata": {},
   "outputs": [
    {
     "data": {
      "text/html": [
       "<div>\n",
       "<style scoped>\n",
       "    .dataframe tbody tr th:only-of-type {\n",
       "        vertical-align: middle;\n",
       "    }\n",
       "\n",
       "    .dataframe tbody tr th {\n",
       "        vertical-align: top;\n",
       "    }\n",
       "\n",
       "    .dataframe thead th {\n",
       "        text-align: right;\n",
       "    }\n",
       "</style>\n",
       "<table border=\"1\" class=\"dataframe\">\n",
       "  <thead>\n",
       "    <tr style=\"text-align: right;\">\n",
       "      <th></th>\n",
       "      <th>cluster</th>\n",
       "      <th>pub_key</th>\n",
       "      <th>cluster_origin</th>\n",
       "      <th>alias</th>\n",
       "    </tr>\n",
       "  </thead>\n",
       "  <tbody>\n",
       "    <tr>\n",
       "      <th>4</th>\n",
       "      <td>2</td>\n",
       "      <td>021d9deaf090a021c6e464e3becc5296161e8aaf5de3c7a1d517838cd74525834f</td>\n",
       "      <td>alias/asn &amp; address</td>\n",
       "      <td>Gordon.Now</td>\n",
       "    </tr>\n",
       "    <tr>\n",
       "      <th>5</th>\n",
       "      <td>2</td>\n",
       "      <td>03b73bda986a22fbc47a2fc1764b59e779fb0473d0428dd4bca4ffb2a183eff2da</td>\n",
       "      <td>alias/asn &amp; address</td>\n",
       "      <td>Gordon.Now Wallet</td>\n",
       "    </tr>\n",
       "    <tr>\n",
       "      <th>12</th>\n",
       "      <td>6</td>\n",
       "      <td>02c3efe2874e29d5fc21df59402789c392b3a327b80e76fc103331dbe724d69316</td>\n",
       "      <td>alias/asn &amp; address</td>\n",
       "      <td>mayflower</td>\n",
       "    </tr>\n",
       "    <tr>\n",
       "      <th>13</th>\n",
       "      <td>6</td>\n",
       "      <td>02f14f2b8606b94c96b6526d7758efa9c610d9c6a84325bffb1b4ff857defb13f9</td>\n",
       "      <td>alias/asn &amp; address</td>\n",
       "      <td>mayflower</td>\n",
       "    </tr>\n",
       "    <tr>\n",
       "      <th>15</th>\n",
       "      <td>7</td>\n",
       "      <td>0250e86fdaaefd59ea7481c53ee6d7e1b01e2bfd582fdddab768cfa9e8bd923b17</td>\n",
       "      <td>alias/asn &amp; address</td>\n",
       "      <td>phecda-325 [bitclouds.sh]</td>\n",
       "    </tr>\n",
       "    <tr>\n",
       "      <th>...</th>\n",
       "      <td>...</td>\n",
       "      <td>...</td>\n",
       "      <td>...</td>\n",
       "      <td>...</td>\n",
       "    </tr>\n",
       "    <tr>\n",
       "      <th>576</th>\n",
       "      <td>226</td>\n",
       "      <td>03fd43afc8beb0e1fc1cc8d8702cd237e8f27970de8acfb4569b13ea789631d40e</td>\n",
       "      <td>address</td>\n",
       "      <td>Guergen</td>\n",
       "    </tr>\n",
       "    <tr>\n",
       "      <th>577</th>\n",
       "      <td>227</td>\n",
       "      <td>024dcb28330bb766def5e85e064dab3dfb472419d855d05b1e32637c4e7339ada9</td>\n",
       "      <td>address</td>\n",
       "      <td>FreeBitcoin</td>\n",
       "    </tr>\n",
       "    <tr>\n",
       "      <th>578</th>\n",
       "      <td>227</td>\n",
       "      <td>03c45e83933fd5058e2381630df99a7e01660f4e97b3a3b2c305a23956158bdeda</td>\n",
       "      <td>address</td>\n",
       "      <td>LupusPluviaLND | Lupus-Pluvia-LND-Bank🐾🐺 | LupusPluviaLNDBank</td>\n",
       "    </tr>\n",
       "    <tr>\n",
       "      <th>579</th>\n",
       "      <td>228</td>\n",
       "      <td>0276e09a267592e7451a939c932cf685f0754de382a3ca85d2fb3a864d4c365ad5</td>\n",
       "      <td>address</td>\n",
       "      <td>\"Cheese\"</td>\n",
       "    </tr>\n",
       "    <tr>\n",
       "      <th>580</th>\n",
       "      <td>228</td>\n",
       "      <td>0354d80bcc05fc30b0d867238d83645b68b326c59f05303be14c87bcf4e84bd9c9</td>\n",
       "      <td>address</td>\n",
       "      <td>quesoselpilar.com</td>\n",
       "    </tr>\n",
       "  </tbody>\n",
       "</table>\n",
       "<p>331 rows × 4 columns</p>\n",
       "</div>"
      ],
      "text/plain": [
       "     cluster  \\\n",
       "4          2   \n",
       "5          2   \n",
       "12         6   \n",
       "13         6   \n",
       "15         7   \n",
       "..       ...   \n",
       "576      226   \n",
       "577      227   \n",
       "578      227   \n",
       "579      228   \n",
       "580      228   \n",
       "\n",
       "                                                                pub_key  \\\n",
       "4    021d9deaf090a021c6e464e3becc5296161e8aaf5de3c7a1d517838cd74525834f   \n",
       "5    03b73bda986a22fbc47a2fc1764b59e779fb0473d0428dd4bca4ffb2a183eff2da   \n",
       "12   02c3efe2874e29d5fc21df59402789c392b3a327b80e76fc103331dbe724d69316   \n",
       "13   02f14f2b8606b94c96b6526d7758efa9c610d9c6a84325bffb1b4ff857defb13f9   \n",
       "15   0250e86fdaaefd59ea7481c53ee6d7e1b01e2bfd582fdddab768cfa9e8bd923b17   \n",
       "..                                                                  ...   \n",
       "576  03fd43afc8beb0e1fc1cc8d8702cd237e8f27970de8acfb4569b13ea789631d40e   \n",
       "577  024dcb28330bb766def5e85e064dab3dfb472419d855d05b1e32637c4e7339ada9   \n",
       "578  03c45e83933fd5058e2381630df99a7e01660f4e97b3a3b2c305a23956158bdeda   \n",
       "579  0276e09a267592e7451a939c932cf685f0754de382a3ca85d2fb3a864d4c365ad5   \n",
       "580  0354d80bcc05fc30b0d867238d83645b68b326c59f05303be14c87bcf4e84bd9c9   \n",
       "\n",
       "          cluster_origin  \\\n",
       "4    alias/asn & address   \n",
       "5    alias/asn & address   \n",
       "12   alias/asn & address   \n",
       "13   alias/asn & address   \n",
       "15   alias/asn & address   \n",
       "..                   ...   \n",
       "576              address   \n",
       "577              address   \n",
       "578              address   \n",
       "579              address   \n",
       "580              address   \n",
       "\n",
       "                                                             alias  \n",
       "4                                                       Gordon.Now  \n",
       "5                                                Gordon.Now Wallet  \n",
       "12                                                       mayflower  \n",
       "13                                                       mayflower  \n",
       "15                                       phecda-325 [bitclouds.sh]  \n",
       "..                                                             ...  \n",
       "576                                                        Guergen  \n",
       "577                                                    FreeBitcoin  \n",
       "578  LupusPluviaLND | Lupus-Pluvia-LND-Bank🐾🐺 | LupusPluviaLNDBank  \n",
       "579                                                       \"Cheese\"  \n",
       "580                                              quesoselpilar.com  \n",
       "\n",
       "[331 rows x 4 columns]"
      ]
     },
     "execution_count": 93,
     "metadata": {},
     "output_type": "execute_result"
    }
   ],
   "source": [
    "existing_entities"
   ]
  },
  {
   "cell_type": "code",
   "execution_count": null,
   "metadata": {},
   "outputs": [],
   "source": []
  },
  {
   "cell_type": "code",
   "execution_count": null,
   "metadata": {},
   "outputs": [],
   "source": []
  },
  {
   "cell_type": "markdown",
   "metadata": {},
   "source": [
    "# Expected payment success ratio"
   ]
  },
  {
   "cell_type": "code",
   "execution_count": null,
   "metadata": {},
   "outputs": [],
   "source": []
  },
  {
   "cell_type": "code",
   "execution_count": 21,
   "metadata": {},
   "outputs": [
    {
     "data": {
      "application/vnd.jupyter.widget-view+json": {
       "model_id": "e50d611db13445208666a83c71f4d0f1",
       "version_major": 2,
       "version_minor": 0
      },
      "text/plain": [
       "HBox(children=(FloatProgress(value=0.0, max=1000.0), HTML(value='')))"
      ]
     },
     "metadata": {},
     "output_type": "display_data"
    },
    {
     "name": "stdout",
     "output_type": "stream",
     "text": [
      "\n",
      "[{'cluster': None, 'paymentSuccess': 0.597}]\n"
     ]
    },
    {
     "data": {
      "application/vnd.jupyter.widget-view+json": {
       "model_id": "7d5a3d7fda664daeae3da973940407e9",
       "version_major": 2,
       "version_minor": 0
      },
      "text/plain": [
       "HBox(children=(FloatProgress(value=0.0, max=122.0), HTML(value='')))"
      ]
     },
     "metadata": {},
     "output_type": "display_data"
    },
    {
     "data": {
      "application/vnd.jupyter.widget-view+json": {
       "model_id": "a36b87c0940447e68cfdf291f7bddd2a",
       "version_major": 2,
       "version_minor": 0
      },
      "text/plain": [
       "HBox(children=(FloatProgress(value=0.0, max=1000.0), HTML(value='')))"
      ]
     },
     "metadata": {},
     "output_type": "display_data"
    },
    {
     "name": "stdout",
     "output_type": "stream",
     "text": [
      "\n",
      "{'cluster': 74, 'paymentSuccess': 0.529}\n"
     ]
    },
    {
     "data": {
      "application/vnd.jupyter.widget-view+json": {
       "model_id": "fc4a9208150c46158d04493958d6ecd0",
       "version_major": 2,
       "version_minor": 0
      },
      "text/plain": [
       "HBox(children=(FloatProgress(value=0.0, max=1000.0), HTML(value='')))"
      ]
     },
     "metadata": {},
     "output_type": "display_data"
    },
    {
     "name": "stdout",
     "output_type": "stream",
     "text": [
      "\n",
      "{'cluster': 56, 'paymentSuccess': 0.525}\n"
     ]
    },
    {
     "data": {
      "application/vnd.jupyter.widget-view+json": {
       "model_id": "e6675ddc54d8444d955e878598660f36",
       "version_major": 2,
       "version_minor": 0
      },
      "text/plain": [
       "HBox(children=(FloatProgress(value=0.0, max=1000.0), HTML(value='')))"
      ]
     },
     "metadata": {},
     "output_type": "display_data"
    },
    {
     "name": "stdout",
     "output_type": "stream",
     "text": [
      "\n",
      "{'cluster': 53, 'paymentSuccess': 0.522}\n"
     ]
    },
    {
     "data": {
      "application/vnd.jupyter.widget-view+json": {
       "model_id": "7168efa2abca42d4b30f7a41ac633aca",
       "version_major": 2,
       "version_minor": 0
      },
      "text/plain": [
       "HBox(children=(FloatProgress(value=0.0, max=1000.0), HTML(value='')))"
      ]
     },
     "metadata": {},
     "output_type": "display_data"
    },
    {
     "name": "stdout",
     "output_type": "stream",
     "text": [
      "\n",
      "{'cluster': 82, 'paymentSuccess': 0.517}\n"
     ]
    },
    {
     "data": {
      "application/vnd.jupyter.widget-view+json": {
       "model_id": "0e8d94f5431d47bc8f8b3e9d2d254edf",
       "version_major": 2,
       "version_minor": 0
      },
      "text/plain": [
       "HBox(children=(FloatProgress(value=0.0, max=1000.0), HTML(value='')))"
      ]
     },
     "metadata": {},
     "output_type": "display_data"
    },
    {
     "name": "stdout",
     "output_type": "stream",
     "text": [
      "\n",
      "{'cluster': 68, 'paymentSuccess': 0.517}\n"
     ]
    },
    {
     "data": {
      "application/vnd.jupyter.widget-view+json": {
       "model_id": "9c8d0b1a916843bda3a0584598e6e8d1",
       "version_major": 2,
       "version_minor": 0
      },
      "text/plain": [
       "HBox(children=(FloatProgress(value=0.0, max=1000.0), HTML(value='')))"
      ]
     },
     "metadata": {},
     "output_type": "display_data"
    },
    {
     "name": "stdout",
     "output_type": "stream",
     "text": [
      "\n",
      "{'cluster': 54, 'paymentSuccess': 0.512}\n"
     ]
    },
    {
     "data": {
      "application/vnd.jupyter.widget-view+json": {
       "model_id": "d392c378fc2c4d2da9b1b4998b2dd291",
       "version_major": 2,
       "version_minor": 0
      },
      "text/plain": [
       "HBox(children=(FloatProgress(value=0.0, max=1000.0), HTML(value='')))"
      ]
     },
     "metadata": {},
     "output_type": "display_data"
    },
    {
     "name": "stdout",
     "output_type": "stream",
     "text": [
      "\n",
      "{'cluster': 38, 'paymentSuccess': 0.504}\n"
     ]
    },
    {
     "data": {
      "application/vnd.jupyter.widget-view+json": {
       "model_id": "76aaa21a03ce4c3b97c08a381323641e",
       "version_major": 2,
       "version_minor": 0
      },
      "text/plain": [
       "HBox(children=(FloatProgress(value=0.0, max=1000.0), HTML(value='')))"
      ]
     },
     "metadata": {},
     "output_type": "display_data"
    },
    {
     "name": "stdout",
     "output_type": "stream",
     "text": [
      "\n",
      "{'cluster': 174, 'paymentSuccess': 0.502}\n"
     ]
    },
    {
     "data": {
      "application/vnd.jupyter.widget-view+json": {
       "model_id": "44ceac8a31704406a4ad9c6d46c07a81",
       "version_major": 2,
       "version_minor": 0
      },
      "text/plain": [
       "HBox(children=(FloatProgress(value=0.0, max=1000.0), HTML(value='')))"
      ]
     },
     "metadata": {},
     "output_type": "display_data"
    },
    {
     "name": "stdout",
     "output_type": "stream",
     "text": [
      "\n",
      "{'cluster': 191, 'paymentSuccess': 0.502}\n"
     ]
    },
    {
     "data": {
      "application/vnd.jupyter.widget-view+json": {
       "model_id": "f89c9d9564f04cb1a5e6b6a58dc7ed1b",
       "version_major": 2,
       "version_minor": 0
      },
      "text/plain": [
       "HBox(children=(FloatProgress(value=0.0, max=1000.0), HTML(value='')))"
      ]
     },
     "metadata": {},
     "output_type": "display_data"
    },
    {
     "name": "stdout",
     "output_type": "stream",
     "text": [
      "\n",
      "{'cluster': 225, 'paymentSuccess': 0.502}\n"
     ]
    },
    {
     "data": {
      "application/vnd.jupyter.widget-view+json": {
       "model_id": "68bd770fa818463e820917206dc4d738",
       "version_major": 2,
       "version_minor": 0
      },
      "text/plain": [
       "HBox(children=(FloatProgress(value=0.0, max=1000.0), HTML(value='')))"
      ]
     },
     "metadata": {},
     "output_type": "display_data"
    },
    {
     "name": "stdout",
     "output_type": "stream",
     "text": [
      "\n",
      "{'cluster': 218, 'paymentSuccess': 0.502}\n"
     ]
    },
    {
     "data": {
      "application/vnd.jupyter.widget-view+json": {
       "model_id": "bc60e4f25e944c108b9cd96dfdbeb4f0",
       "version_major": 2,
       "version_minor": 0
      },
      "text/plain": [
       "HBox(children=(FloatProgress(value=0.0, max=1000.0), HTML(value='')))"
      ]
     },
     "metadata": {},
     "output_type": "display_data"
    },
    {
     "name": "stdout",
     "output_type": "stream",
     "text": [
      "\n",
      "{'cluster': 77, 'paymentSuccess': 0.502}\n"
     ]
    },
    {
     "data": {
      "application/vnd.jupyter.widget-view+json": {
       "model_id": "548f973e7fe348f88224f53117bd015b",
       "version_major": 2,
       "version_minor": 0
      },
      "text/plain": [
       "HBox(children=(FloatProgress(value=0.0, max=1000.0), HTML(value='')))"
      ]
     },
     "metadata": {},
     "output_type": "display_data"
    },
    {
     "name": "stdout",
     "output_type": "stream",
     "text": [
      "\n",
      "{'cluster': 7, 'paymentSuccess': 0.502}\n"
     ]
    },
    {
     "data": {
      "application/vnd.jupyter.widget-view+json": {
       "model_id": "12ada1f1434d44958c8c13fe833823ec",
       "version_major": 2,
       "version_minor": 0
      },
      "text/plain": [
       "HBox(children=(FloatProgress(value=0.0, max=1000.0), HTML(value='')))"
      ]
     },
     "metadata": {},
     "output_type": "display_data"
    },
    {
     "name": "stdout",
     "output_type": "stream",
     "text": [
      "\n",
      "{'cluster': 103, 'paymentSuccess': 0.502}\n"
     ]
    },
    {
     "data": {
      "application/vnd.jupyter.widget-view+json": {
       "model_id": "08321d0798cb4d00bb5ca42f8944ccbe",
       "version_major": 2,
       "version_minor": 0
      },
      "text/plain": [
       "HBox(children=(FloatProgress(value=0.0, max=1000.0), HTML(value='')))"
      ]
     },
     "metadata": {},
     "output_type": "display_data"
    },
    {
     "name": "stdout",
     "output_type": "stream",
     "text": [
      "\n",
      "{'cluster': 110, 'paymentSuccess': 0.502}\n"
     ]
    },
    {
     "data": {
      "application/vnd.jupyter.widget-view+json": {
       "model_id": "c278792baed941b49ba4660764b3ff59",
       "version_major": 2,
       "version_minor": 0
      },
      "text/plain": [
       "HBox(children=(FloatProgress(value=0.0, max=1000.0), HTML(value='')))"
      ]
     },
     "metadata": {},
     "output_type": "display_data"
    },
    {
     "name": "stdout",
     "output_type": "stream",
     "text": [
      "\n",
      "{'cluster': 70, 'paymentSuccess': 0.501}\n"
     ]
    },
    {
     "data": {
      "application/vnd.jupyter.widget-view+json": {
       "model_id": "98650cfa81f64148a19f7b68d4e8ad6e",
       "version_major": 2,
       "version_minor": 0
      },
      "text/plain": [
       "HBox(children=(FloatProgress(value=0.0, max=1000.0), HTML(value='')))"
      ]
     },
     "metadata": {},
     "output_type": "display_data"
    },
    {
     "name": "stdout",
     "output_type": "stream",
     "text": [
      "\n",
      "{'cluster': 180, 'paymentSuccess': 0.499}\n"
     ]
    },
    {
     "data": {
      "application/vnd.jupyter.widget-view+json": {
       "model_id": "b9f519ac29164b3cbd0d1d24745210aa",
       "version_major": 2,
       "version_minor": 0
      },
      "text/plain": [
       "HBox(children=(FloatProgress(value=0.0, max=1000.0), HTML(value='')))"
      ]
     },
     "metadata": {},
     "output_type": "display_data"
    },
    {
     "name": "stdout",
     "output_type": "stream",
     "text": [
      "\n",
      "{'cluster': 108, 'paymentSuccess': 0.499}\n"
     ]
    },
    {
     "data": {
      "application/vnd.jupyter.widget-view+json": {
       "model_id": "2702e2fe9fca4abc8c0abf3583aeb44b",
       "version_major": 2,
       "version_minor": 0
      },
      "text/plain": [
       "HBox(children=(FloatProgress(value=0.0, max=1000.0), HTML(value='')))"
      ]
     },
     "metadata": {},
     "output_type": "display_data"
    },
    {
     "name": "stdout",
     "output_type": "stream",
     "text": [
      "\n",
      "{'cluster': 76, 'paymentSuccess': 0.499}\n"
     ]
    },
    {
     "data": {
      "application/vnd.jupyter.widget-view+json": {
       "model_id": "eb0daaf00008461abac4f16738da91cf",
       "version_major": 2,
       "version_minor": 0
      },
      "text/plain": [
       "HBox(children=(FloatProgress(value=0.0, max=1000.0), HTML(value='')))"
      ]
     },
     "metadata": {},
     "output_type": "display_data"
    },
    {
     "name": "stdout",
     "output_type": "stream",
     "text": [
      "\n",
      "{'cluster': 120, 'paymentSuccess': 0.497}\n"
     ]
    },
    {
     "data": {
      "application/vnd.jupyter.widget-view+json": {
       "model_id": "698ca45a21cb43639d423dc476cfa46d",
       "version_major": 2,
       "version_minor": 0
      },
      "text/plain": [
       "HBox(children=(FloatProgress(value=0.0, max=1000.0), HTML(value='')))"
      ]
     },
     "metadata": {},
     "output_type": "display_data"
    },
    {
     "name": "stdout",
     "output_type": "stream",
     "text": [
      "\n",
      "{'cluster': 160, 'paymentSuccess': 0.497}\n"
     ]
    },
    {
     "data": {
      "application/vnd.jupyter.widget-view+json": {
       "model_id": "a687c46f2eea42f1b0db062e1bf6bac5",
       "version_major": 2,
       "version_minor": 0
      },
      "text/plain": [
       "HBox(children=(FloatProgress(value=0.0, max=1000.0), HTML(value='')))"
      ]
     },
     "metadata": {},
     "output_type": "display_data"
    },
    {
     "name": "stdout",
     "output_type": "stream",
     "text": [
      "\n",
      "{'cluster': 113, 'paymentSuccess': 0.497}\n"
     ]
    },
    {
     "data": {
      "application/vnd.jupyter.widget-view+json": {
       "model_id": "de1834678e734a239905944fc3c14005",
       "version_major": 2,
       "version_minor": 0
      },
      "text/plain": [
       "HBox(children=(FloatProgress(value=0.0, max=1000.0), HTML(value='')))"
      ]
     },
     "metadata": {},
     "output_type": "display_data"
    },
    {
     "name": "stdout",
     "output_type": "stream",
     "text": [
      "\n",
      "\n"
     ]
    },
    {
     "ename": "KeyboardInterrupt",
     "evalue": "",
     "output_type": "error",
     "traceback": [
      "\u001b[0;31m---------------------------------------------------------------------------\u001b[0m",
      "\u001b[0;31mKeyError\u001b[0m                                  Traceback (most recent call last)",
      "\u001b[0;32m/opt/anaconda/3.7/lib/python3.7/copy.py\u001b[0m in \u001b[0;36m_deepcopy_tuple\u001b[0;34m(x, memo, deepcopy)\u001b[0m\n\u001b[1;32m    223\u001b[0m     \u001b[0;32mtry\u001b[0m\u001b[0;34m:\u001b[0m\u001b[0;34m\u001b[0m\u001b[0;34m\u001b[0m\u001b[0m\n\u001b[0;32m--> 224\u001b[0;31m         \u001b[0;32mreturn\u001b[0m \u001b[0mmemo\u001b[0m\u001b[0;34m[\u001b[0m\u001b[0mid\u001b[0m\u001b[0;34m(\u001b[0m\u001b[0mx\u001b[0m\u001b[0;34m)\u001b[0m\u001b[0;34m]\u001b[0m\u001b[0;34m\u001b[0m\u001b[0;34m\u001b[0m\u001b[0m\n\u001b[0m\u001b[1;32m    225\u001b[0m     \u001b[0;32mexcept\u001b[0m \u001b[0mKeyError\u001b[0m\u001b[0;34m:\u001b[0m\u001b[0;34m\u001b[0m\u001b[0;34m\u001b[0m\u001b[0m\n",
      "\u001b[0;31mKeyError\u001b[0m: 140661338181448",
      "\nDuring handling of the above exception, another exception occurred:\n",
      "\u001b[0;31mKeyboardInterrupt\u001b[0m                         Traceback (most recent call last)",
      "\u001b[0;32m<ipython-input-21-a3c5a84ac1f9>\u001b[0m in \u001b[0;36m<module>\u001b[0;34m\u001b[0m\n\u001b[1;32m     49\u001b[0m     \u001b[0mlocalG\u001b[0m\u001b[0;34m.\u001b[0m\u001b[0mdelete_vertices\u001b[0m\u001b[0;34m(\u001b[0m\u001b[0mvids\u001b[0m\u001b[0;34m)\u001b[0m\u001b[0;34m\u001b[0m\u001b[0;34m\u001b[0m\u001b[0m\n\u001b[1;32m     50\u001b[0m \u001b[0;34m\u001b[0m\u001b[0m\n\u001b[0;32m---> 51\u001b[0;31m     \u001b[0mstat\u001b[0m \u001b[0;34m=\u001b[0m \u001b[0;34m{\u001b[0m\u001b[0;34m\"cluster\"\u001b[0m\u001b[0;34m:\u001b[0m\u001b[0mentity_id\u001b[0m\u001b[0;34m,\u001b[0m \u001b[0;34m\"paymentSuccess\"\u001b[0m\u001b[0;34m:\u001b[0m\u001b[0mcomputeSuccessRatio\u001b[0m\u001b[0;34m(\u001b[0m\u001b[0mlocalG\u001b[0m\u001b[0;34m)\u001b[0m\u001b[0;34m}\u001b[0m\u001b[0;34m\u001b[0m\u001b[0;34m\u001b[0m\u001b[0m\n\u001b[0m\u001b[1;32m     52\u001b[0m     \u001b[0mprint\u001b[0m\u001b[0;34m(\u001b[0m\u001b[0mstat\u001b[0m\u001b[0;34m)\u001b[0m\u001b[0;34m\u001b[0m\u001b[0;34m\u001b[0m\u001b[0m\n\u001b[1;32m     53\u001b[0m     \u001b[0mpsResults\u001b[0m\u001b[0;34m.\u001b[0m\u001b[0mappend\u001b[0m\u001b[0;34m(\u001b[0m\u001b[0mstat\u001b[0m\u001b[0;34m)\u001b[0m\u001b[0;34m\u001b[0m\u001b[0;34m\u001b[0m\u001b[0m\n",
      "\u001b[0;32m<ipython-input-21-a3c5a84ac1f9>\u001b[0m in \u001b[0;36mcomputeSuccessRatio\u001b[0;34m(g)\u001b[0m\n\u001b[1;32m     22\u001b[0m         \u001b[0mamountsUsed\u001b[0m\u001b[0;34m.\u001b[0m\u001b[0mappend\u001b[0m\u001b[0;34m(\u001b[0m\u001b[0mamount\u001b[0m\u001b[0;34m)\u001b[0m\u001b[0;34m\u001b[0m\u001b[0;34m\u001b[0m\u001b[0m\n\u001b[1;32m     23\u001b[0m \u001b[0;34m\u001b[0m\u001b[0m\n\u001b[0;32m---> 24\u001b[0;31m         \u001b[0mpsg\u001b[0m \u001b[0;34m=\u001b[0m \u001b[0mcopy\u001b[0m\u001b[0;34m.\u001b[0m\u001b[0mdeepcopy\u001b[0m\u001b[0;34m(\u001b[0m\u001b[0mg\u001b[0m\u001b[0;34m)\u001b[0m\u001b[0;34m\u001b[0m\u001b[0;34m\u001b[0m\u001b[0m\n\u001b[0m\u001b[1;32m     25\u001b[0m         \u001b[0mpsg\u001b[0m\u001b[0;34m.\u001b[0m\u001b[0mdelete_edges\u001b[0m\u001b[0;34m(\u001b[0m\u001b[0;34m[\u001b[0m\u001b[0me\u001b[0m\u001b[0;34m.\u001b[0m\u001b[0mindex\u001b[0m \u001b[0;32mfor\u001b[0m \u001b[0me\u001b[0m \u001b[0;32min\u001b[0m \u001b[0mpsg\u001b[0m\u001b[0;34m.\u001b[0m\u001b[0mes\u001b[0m \u001b[0;32mif\u001b[0m \u001b[0me\u001b[0m\u001b[0;34m[\u001b[0m\u001b[0;34m\"weight\"\u001b[0m\u001b[0;34m]\u001b[0m \u001b[0;34m<=\u001b[0m \u001b[0mamount\u001b[0m\u001b[0;34m]\u001b[0m\u001b[0;34m)\u001b[0m\u001b[0;34m\u001b[0m\u001b[0;34m\u001b[0m\u001b[0m\n\u001b[1;32m     26\u001b[0m \u001b[0;34m\u001b[0m\u001b[0m\n",
      "\u001b[0;32m/opt/anaconda/3.7/lib/python3.7/copy.py\u001b[0m in \u001b[0;36mdeepcopy\u001b[0;34m(x, memo, _nil)\u001b[0m\n\u001b[1;32m    178\u001b[0m                     \u001b[0my\u001b[0m \u001b[0;34m=\u001b[0m \u001b[0mx\u001b[0m\u001b[0;34m\u001b[0m\u001b[0;34m\u001b[0m\u001b[0m\n\u001b[1;32m    179\u001b[0m                 \u001b[0;32melse\u001b[0m\u001b[0;34m:\u001b[0m\u001b[0;34m\u001b[0m\u001b[0;34m\u001b[0m\u001b[0m\n\u001b[0;32m--> 180\u001b[0;31m                     \u001b[0my\u001b[0m \u001b[0;34m=\u001b[0m \u001b[0m_reconstruct\u001b[0m\u001b[0;34m(\u001b[0m\u001b[0mx\u001b[0m\u001b[0;34m,\u001b[0m \u001b[0mmemo\u001b[0m\u001b[0;34m,\u001b[0m \u001b[0;34m*\u001b[0m\u001b[0mrv\u001b[0m\u001b[0;34m)\u001b[0m\u001b[0;34m\u001b[0m\u001b[0;34m\u001b[0m\u001b[0m\n\u001b[0m\u001b[1;32m    181\u001b[0m \u001b[0;34m\u001b[0m\u001b[0m\n\u001b[1;32m    182\u001b[0m     \u001b[0;31m# If is its own copy, don't memoize.\u001b[0m\u001b[0;34m\u001b[0m\u001b[0;34m\u001b[0m\u001b[0;34m\u001b[0m\u001b[0m\n",
      "\u001b[0;32m/opt/anaconda/3.7/lib/python3.7/copy.py\u001b[0m in \u001b[0;36m_reconstruct\u001b[0;34m(x, memo, func, args, state, listiter, dictiter, deepcopy)\u001b[0m\n\u001b[1;32m    272\u001b[0m     \u001b[0;32mif\u001b[0m \u001b[0mdeep\u001b[0m \u001b[0;32mand\u001b[0m \u001b[0margs\u001b[0m\u001b[0;34m:\u001b[0m\u001b[0;34m\u001b[0m\u001b[0;34m\u001b[0m\u001b[0m\n\u001b[1;32m    273\u001b[0m         \u001b[0margs\u001b[0m \u001b[0;34m=\u001b[0m \u001b[0;34m(\u001b[0m\u001b[0mdeepcopy\u001b[0m\u001b[0;34m(\u001b[0m\u001b[0marg\u001b[0m\u001b[0;34m,\u001b[0m \u001b[0mmemo\u001b[0m\u001b[0;34m)\u001b[0m \u001b[0;32mfor\u001b[0m \u001b[0marg\u001b[0m \u001b[0;32min\u001b[0m \u001b[0margs\u001b[0m\u001b[0;34m)\u001b[0m\u001b[0;34m\u001b[0m\u001b[0;34m\u001b[0m\u001b[0m\n\u001b[0;32m--> 274\u001b[0;31m     \u001b[0my\u001b[0m \u001b[0;34m=\u001b[0m \u001b[0mfunc\u001b[0m\u001b[0;34m(\u001b[0m\u001b[0;34m*\u001b[0m\u001b[0margs\u001b[0m\u001b[0;34m)\u001b[0m\u001b[0;34m\u001b[0m\u001b[0;34m\u001b[0m\u001b[0m\n\u001b[0m\u001b[1;32m    275\u001b[0m     \u001b[0;32mif\u001b[0m \u001b[0mdeep\u001b[0m\u001b[0;34m:\u001b[0m\u001b[0;34m\u001b[0m\u001b[0;34m\u001b[0m\u001b[0m\n\u001b[1;32m    276\u001b[0m         \u001b[0mmemo\u001b[0m\u001b[0;34m[\u001b[0m\u001b[0mid\u001b[0m\u001b[0;34m(\u001b[0m\u001b[0mx\u001b[0m\u001b[0;34m)\u001b[0m\u001b[0;34m]\u001b[0m \u001b[0;34m=\u001b[0m \u001b[0my\u001b[0m\u001b[0;34m\u001b[0m\u001b[0;34m\u001b[0m\u001b[0m\n",
      "\u001b[0;32m/opt/anaconda/3.7/lib/python3.7/copy.py\u001b[0m in \u001b[0;36m<genexpr>\u001b[0;34m(.0)\u001b[0m\n\u001b[1;32m    271\u001b[0m     \u001b[0mdeep\u001b[0m \u001b[0;34m=\u001b[0m \u001b[0mmemo\u001b[0m \u001b[0;32mis\u001b[0m \u001b[0;32mnot\u001b[0m \u001b[0;32mNone\u001b[0m\u001b[0;34m\u001b[0m\u001b[0;34m\u001b[0m\u001b[0m\n\u001b[1;32m    272\u001b[0m     \u001b[0;32mif\u001b[0m \u001b[0mdeep\u001b[0m \u001b[0;32mand\u001b[0m \u001b[0margs\u001b[0m\u001b[0;34m:\u001b[0m\u001b[0;34m\u001b[0m\u001b[0;34m\u001b[0m\u001b[0m\n\u001b[0;32m--> 273\u001b[0;31m         \u001b[0margs\u001b[0m \u001b[0;34m=\u001b[0m \u001b[0;34m(\u001b[0m\u001b[0mdeepcopy\u001b[0m\u001b[0;34m(\u001b[0m\u001b[0marg\u001b[0m\u001b[0;34m,\u001b[0m \u001b[0mmemo\u001b[0m\u001b[0;34m)\u001b[0m \u001b[0;32mfor\u001b[0m \u001b[0marg\u001b[0m \u001b[0;32min\u001b[0m \u001b[0margs\u001b[0m\u001b[0;34m)\u001b[0m\u001b[0;34m\u001b[0m\u001b[0;34m\u001b[0m\u001b[0m\n\u001b[0m\u001b[1;32m    274\u001b[0m     \u001b[0my\u001b[0m \u001b[0;34m=\u001b[0m \u001b[0mfunc\u001b[0m\u001b[0;34m(\u001b[0m\u001b[0;34m*\u001b[0m\u001b[0margs\u001b[0m\u001b[0;34m)\u001b[0m\u001b[0;34m\u001b[0m\u001b[0;34m\u001b[0m\u001b[0m\n\u001b[1;32m    275\u001b[0m     \u001b[0;32mif\u001b[0m \u001b[0mdeep\u001b[0m\u001b[0;34m:\u001b[0m\u001b[0;34m\u001b[0m\u001b[0;34m\u001b[0m\u001b[0m\n",
      "\u001b[0;32m/opt/anaconda/3.7/lib/python3.7/copy.py\u001b[0m in \u001b[0;36mdeepcopy\u001b[0;34m(x, memo, _nil)\u001b[0m\n\u001b[1;32m    148\u001b[0m     \u001b[0mcopier\u001b[0m \u001b[0;34m=\u001b[0m \u001b[0m_deepcopy_dispatch\u001b[0m\u001b[0;34m.\u001b[0m\u001b[0mget\u001b[0m\u001b[0;34m(\u001b[0m\u001b[0mcls\u001b[0m\u001b[0;34m)\u001b[0m\u001b[0;34m\u001b[0m\u001b[0;34m\u001b[0m\u001b[0m\n\u001b[1;32m    149\u001b[0m     \u001b[0;32mif\u001b[0m \u001b[0mcopier\u001b[0m\u001b[0;34m:\u001b[0m\u001b[0;34m\u001b[0m\u001b[0;34m\u001b[0m\u001b[0m\n\u001b[0;32m--> 150\u001b[0;31m         \u001b[0my\u001b[0m \u001b[0;34m=\u001b[0m \u001b[0mcopier\u001b[0m\u001b[0;34m(\u001b[0m\u001b[0mx\u001b[0m\u001b[0;34m,\u001b[0m \u001b[0mmemo\u001b[0m\u001b[0;34m)\u001b[0m\u001b[0;34m\u001b[0m\u001b[0;34m\u001b[0m\u001b[0m\n\u001b[0m\u001b[1;32m    151\u001b[0m     \u001b[0;32melse\u001b[0m\u001b[0;34m:\u001b[0m\u001b[0;34m\u001b[0m\u001b[0;34m\u001b[0m\u001b[0m\n\u001b[1;32m    152\u001b[0m         \u001b[0;32mtry\u001b[0m\u001b[0;34m:\u001b[0m\u001b[0;34m\u001b[0m\u001b[0;34m\u001b[0m\u001b[0m\n",
      "\u001b[0;32m/opt/anaconda/3.7/lib/python3.7/copy.py\u001b[0m in \u001b[0;36m_deepcopy_list\u001b[0;34m(x, memo, deepcopy)\u001b[0m\n\u001b[1;32m    213\u001b[0m     \u001b[0mappend\u001b[0m \u001b[0;34m=\u001b[0m \u001b[0my\u001b[0m\u001b[0;34m.\u001b[0m\u001b[0mappend\u001b[0m\u001b[0;34m\u001b[0m\u001b[0;34m\u001b[0m\u001b[0m\n\u001b[1;32m    214\u001b[0m     \u001b[0;32mfor\u001b[0m \u001b[0ma\u001b[0m \u001b[0;32min\u001b[0m \u001b[0mx\u001b[0m\u001b[0;34m:\u001b[0m\u001b[0;34m\u001b[0m\u001b[0;34m\u001b[0m\u001b[0m\n\u001b[0;32m--> 215\u001b[0;31m         \u001b[0mappend\u001b[0m\u001b[0;34m(\u001b[0m\u001b[0mdeepcopy\u001b[0m\u001b[0;34m(\u001b[0m\u001b[0ma\u001b[0m\u001b[0;34m,\u001b[0m \u001b[0mmemo\u001b[0m\u001b[0;34m)\u001b[0m\u001b[0;34m)\u001b[0m\u001b[0;34m\u001b[0m\u001b[0;34m\u001b[0m\u001b[0m\n\u001b[0m\u001b[1;32m    216\u001b[0m     \u001b[0;32mreturn\u001b[0m \u001b[0my\u001b[0m\u001b[0;34m\u001b[0m\u001b[0;34m\u001b[0m\u001b[0m\n\u001b[1;32m    217\u001b[0m \u001b[0md\u001b[0m\u001b[0;34m[\u001b[0m\u001b[0mlist\u001b[0m\u001b[0;34m]\u001b[0m \u001b[0;34m=\u001b[0m \u001b[0m_deepcopy_list\u001b[0m\u001b[0;34m\u001b[0m\u001b[0;34m\u001b[0m\u001b[0m\n",
      "\u001b[0;32m/opt/anaconda/3.7/lib/python3.7/copy.py\u001b[0m in \u001b[0;36mdeepcopy\u001b[0;34m(x, memo, _nil)\u001b[0m\n\u001b[1;32m    148\u001b[0m     \u001b[0mcopier\u001b[0m \u001b[0;34m=\u001b[0m \u001b[0m_deepcopy_dispatch\u001b[0m\u001b[0;34m.\u001b[0m\u001b[0mget\u001b[0m\u001b[0;34m(\u001b[0m\u001b[0mcls\u001b[0m\u001b[0;34m)\u001b[0m\u001b[0;34m\u001b[0m\u001b[0;34m\u001b[0m\u001b[0m\n\u001b[1;32m    149\u001b[0m     \u001b[0;32mif\u001b[0m \u001b[0mcopier\u001b[0m\u001b[0;34m:\u001b[0m\u001b[0;34m\u001b[0m\u001b[0;34m\u001b[0m\u001b[0m\n\u001b[0;32m--> 150\u001b[0;31m         \u001b[0my\u001b[0m \u001b[0;34m=\u001b[0m \u001b[0mcopier\u001b[0m\u001b[0;34m(\u001b[0m\u001b[0mx\u001b[0m\u001b[0;34m,\u001b[0m \u001b[0mmemo\u001b[0m\u001b[0;34m)\u001b[0m\u001b[0;34m\u001b[0m\u001b[0;34m\u001b[0m\u001b[0m\n\u001b[0m\u001b[1;32m    151\u001b[0m     \u001b[0;32melse\u001b[0m\u001b[0;34m:\u001b[0m\u001b[0;34m\u001b[0m\u001b[0;34m\u001b[0m\u001b[0m\n\u001b[1;32m    152\u001b[0m         \u001b[0;32mtry\u001b[0m\u001b[0;34m:\u001b[0m\u001b[0;34m\u001b[0m\u001b[0;34m\u001b[0m\u001b[0m\n",
      "\u001b[0;32m/opt/anaconda/3.7/lib/python3.7/copy.py\u001b[0m in \u001b[0;36m_deepcopy_tuple\u001b[0;34m(x, memo, deepcopy)\u001b[0m\n\u001b[1;32m    222\u001b[0m     \u001b[0;31m# check for it, in case the tuple contains recursive mutable structures.\u001b[0m\u001b[0;34m\u001b[0m\u001b[0;34m\u001b[0m\u001b[0;34m\u001b[0m\u001b[0m\n\u001b[1;32m    223\u001b[0m     \u001b[0;32mtry\u001b[0m\u001b[0;34m:\u001b[0m\u001b[0;34m\u001b[0m\u001b[0;34m\u001b[0m\u001b[0m\n\u001b[0;32m--> 224\u001b[0;31m         \u001b[0;32mreturn\u001b[0m \u001b[0mmemo\u001b[0m\u001b[0;34m[\u001b[0m\u001b[0mid\u001b[0m\u001b[0;34m(\u001b[0m\u001b[0mx\u001b[0m\u001b[0;34m)\u001b[0m\u001b[0;34m]\u001b[0m\u001b[0;34m\u001b[0m\u001b[0;34m\u001b[0m\u001b[0m\n\u001b[0m\u001b[1;32m    225\u001b[0m     \u001b[0;32mexcept\u001b[0m \u001b[0mKeyError\u001b[0m\u001b[0;34m:\u001b[0m\u001b[0;34m\u001b[0m\u001b[0;34m\u001b[0m\u001b[0m\n\u001b[1;32m    226\u001b[0m         \u001b[0;32mpass\u001b[0m\u001b[0;34m\u001b[0m\u001b[0;34m\u001b[0m\u001b[0m\n",
      "\u001b[0;31mKeyboardInterrupt\u001b[0m: "
     ]
    }
   ],
   "source": [
    "#np.random.seed(0)\n",
    "#random.seed(0)\n",
    "\n",
    "fraction = 0.1\n",
    "attempts = 1000\n",
    "amountsUsed = list()\n",
    "\n",
    "# node pairs except nodes from our clusters\n",
    "nodePairs = list(combinations([v[\"name\"] for v in g.vs if v[\"name\"] not in existing_entities.pub_key.tolist()], 2))\n",
    "# draw \n",
    "random.seed(0)\n",
    "randomPairs = random.choices(nodePairs, k=attempts)\n",
    "\n",
    "# draw random capacities and take a fraction\n",
    "np.random.seed(0)\n",
    "randomAmounts = np.random.choice(edgelist.capacity, attempts) * fraction\n",
    "\n",
    "def computeSuccessRatio(g):\n",
    "    successfulPayments = 0\n",
    "    failedPayments = 0\n",
    "    for ((s, t), amount) in tqdm(list(zip(randomPairs, randomAmounts))):\n",
    "        amountsUsed.append(amount)\n",
    "        \n",
    "        psg = copy.deepcopy(g)\n",
    "        psg.delete_edges([e.index for e in psg.es if e[\"weight\"] <= amount])\n",
    "\n",
    "        # check if there exists a path from source to target\n",
    "        src = g.vs.find(s)\n",
    "        dst = g.vs.find(t)\n",
    "        pathlength = psg.shortest_paths_dijkstra(source = src, target = dst)[0][0]\n",
    "        if(pathlength == np.inf):\n",
    "            failedPayments += 1\n",
    "        else:\n",
    "            successfulPayments += 1\n",
    "\n",
    "    successRatio = successfulPayments / (successfulPayments + failedPayments)\n",
    "    return(successRatio)\n",
    "    \n",
    "localG = copy.deepcopy(g)\n",
    "psResults = list()\n",
    "initialPaymentSuccess = computeSuccessRatio(localG)\n",
    "psResults.append({\"cluster\":None, \"paymentSuccess\": initialPaymentSuccess})\n",
    "print(psResults)\n",
    "\n",
    "\n",
    "for entity_id in tqdm(cluster_capacity_share.cluster.unique().tolist()):\n",
    "    entity_pub_keys = existing_entities[existing_entities.cluster==entity_id].pub_key.values.tolist()\n",
    "    vids = [v.index for v in localG.vs if v[\"name\"] in entity_pub_keys]\n",
    "    localG.delete_vertices(vids)\n",
    "    \n",
    "    stat = {\"cluster\":entity_id, \"paymentSuccess\":computeSuccessRatio(localG)}\n",
    "    print(stat)\n",
    "    psResults.append(stat)"
   ]
  },
  {
   "cell_type": "code",
   "execution_count": null,
   "metadata": {},
   "outputs": [],
   "source": []
  },
  {
   "cell_type": "code",
   "execution_count": null,
   "metadata": {},
   "outputs": [],
   "source": []
  },
  {
   "cell_type": "code",
   "execution_count": 22,
   "metadata": {},
   "outputs": [
    {
     "data": {
      "text/html": [
       "<div>\n",
       "<style scoped>\n",
       "    .dataframe tbody tr th:only-of-type {\n",
       "        vertical-align: middle;\n",
       "    }\n",
       "\n",
       "    .dataframe tbody tr th {\n",
       "        vertical-align: top;\n",
       "    }\n",
       "\n",
       "    .dataframe thead th {\n",
       "        text-align: right;\n",
       "    }\n",
       "</style>\n",
       "<table border=\"1\" class=\"dataframe\">\n",
       "  <thead>\n",
       "    <tr style=\"text-align: right;\">\n",
       "      <th></th>\n",
       "      <th>index</th>\n",
       "      <th>cluster</th>\n",
       "      <th>paymentSuccess</th>\n",
       "      <th>advantage</th>\n",
       "    </tr>\n",
       "  </thead>\n",
       "  <tbody>\n",
       "    <tr>\n",
       "      <th>0</th>\n",
       "      <td>0</td>\n",
       "      <td>NaN</td>\n",
       "      <td>0.597</td>\n",
       "      <td>0.000000</td>\n",
       "    </tr>\n",
       "    <tr>\n",
       "      <th>1</th>\n",
       "      <td>1</td>\n",
       "      <td>74.0</td>\n",
       "      <td>0.529</td>\n",
       "      <td>0.113903</td>\n",
       "    </tr>\n",
       "    <tr>\n",
       "      <th>2</th>\n",
       "      <td>2</td>\n",
       "      <td>56.0</td>\n",
       "      <td>0.525</td>\n",
       "      <td>0.120603</td>\n",
       "    </tr>\n",
       "    <tr>\n",
       "      <th>3</th>\n",
       "      <td>3</td>\n",
       "      <td>53.0</td>\n",
       "      <td>0.522</td>\n",
       "      <td>0.125628</td>\n",
       "    </tr>\n",
       "    <tr>\n",
       "      <th>4</th>\n",
       "      <td>4</td>\n",
       "      <td>82.0</td>\n",
       "      <td>0.517</td>\n",
       "      <td>0.134003</td>\n",
       "    </tr>\n",
       "    <tr>\n",
       "      <th>5</th>\n",
       "      <td>5</td>\n",
       "      <td>68.0</td>\n",
       "      <td>0.517</td>\n",
       "      <td>0.134003</td>\n",
       "    </tr>\n",
       "    <tr>\n",
       "      <th>6</th>\n",
       "      <td>6</td>\n",
       "      <td>54.0</td>\n",
       "      <td>0.512</td>\n",
       "      <td>0.142379</td>\n",
       "    </tr>\n",
       "    <tr>\n",
       "      <th>7</th>\n",
       "      <td>7</td>\n",
       "      <td>38.0</td>\n",
       "      <td>0.504</td>\n",
       "      <td>0.155779</td>\n",
       "    </tr>\n",
       "    <tr>\n",
       "      <th>8</th>\n",
       "      <td>8</td>\n",
       "      <td>174.0</td>\n",
       "      <td>0.502</td>\n",
       "      <td>0.159129</td>\n",
       "    </tr>\n",
       "    <tr>\n",
       "      <th>9</th>\n",
       "      <td>9</td>\n",
       "      <td>191.0</td>\n",
       "      <td>0.502</td>\n",
       "      <td>0.159129</td>\n",
       "    </tr>\n",
       "    <tr>\n",
       "      <th>10</th>\n",
       "      <td>10</td>\n",
       "      <td>225.0</td>\n",
       "      <td>0.502</td>\n",
       "      <td>0.159129</td>\n",
       "    </tr>\n",
       "    <tr>\n",
       "      <th>11</th>\n",
       "      <td>11</td>\n",
       "      <td>218.0</td>\n",
       "      <td>0.502</td>\n",
       "      <td>0.159129</td>\n",
       "    </tr>\n",
       "    <tr>\n",
       "      <th>12</th>\n",
       "      <td>12</td>\n",
       "      <td>77.0</td>\n",
       "      <td>0.502</td>\n",
       "      <td>0.159129</td>\n",
       "    </tr>\n",
       "    <tr>\n",
       "      <th>13</th>\n",
       "      <td>13</td>\n",
       "      <td>7.0</td>\n",
       "      <td>0.502</td>\n",
       "      <td>0.159129</td>\n",
       "    </tr>\n",
       "    <tr>\n",
       "      <th>14</th>\n",
       "      <td>14</td>\n",
       "      <td>103.0</td>\n",
       "      <td>0.502</td>\n",
       "      <td>0.159129</td>\n",
       "    </tr>\n",
       "    <tr>\n",
       "      <th>15</th>\n",
       "      <td>15</td>\n",
       "      <td>110.0</td>\n",
       "      <td>0.502</td>\n",
       "      <td>0.159129</td>\n",
       "    </tr>\n",
       "    <tr>\n",
       "      <th>16</th>\n",
       "      <td>16</td>\n",
       "      <td>70.0</td>\n",
       "      <td>0.501</td>\n",
       "      <td>0.160804</td>\n",
       "    </tr>\n",
       "    <tr>\n",
       "      <th>17</th>\n",
       "      <td>17</td>\n",
       "      <td>180.0</td>\n",
       "      <td>0.499</td>\n",
       "      <td>0.164154</td>\n",
       "    </tr>\n",
       "    <tr>\n",
       "      <th>18</th>\n",
       "      <td>18</td>\n",
       "      <td>108.0</td>\n",
       "      <td>0.499</td>\n",
       "      <td>0.164154</td>\n",
       "    </tr>\n",
       "    <tr>\n",
       "      <th>19</th>\n",
       "      <td>19</td>\n",
       "      <td>76.0</td>\n",
       "      <td>0.499</td>\n",
       "      <td>0.164154</td>\n",
       "    </tr>\n",
       "    <tr>\n",
       "      <th>20</th>\n",
       "      <td>20</td>\n",
       "      <td>120.0</td>\n",
       "      <td>0.497</td>\n",
       "      <td>0.167504</td>\n",
       "    </tr>\n",
       "    <tr>\n",
       "      <th>21</th>\n",
       "      <td>21</td>\n",
       "      <td>160.0</td>\n",
       "      <td>0.497</td>\n",
       "      <td>0.167504</td>\n",
       "    </tr>\n",
       "    <tr>\n",
       "      <th>22</th>\n",
       "      <td>22</td>\n",
       "      <td>113.0</td>\n",
       "      <td>0.497</td>\n",
       "      <td>0.167504</td>\n",
       "    </tr>\n",
       "  </tbody>\n",
       "</table>\n",
       "</div>"
      ],
      "text/plain": [
       "    index  cluster  paymentSuccess  advantage\n",
       "0       0      NaN           0.597   0.000000\n",
       "1       1     74.0           0.529   0.113903\n",
       "2       2     56.0           0.525   0.120603\n",
       "3       3     53.0           0.522   0.125628\n",
       "4       4     82.0           0.517   0.134003\n",
       "5       5     68.0           0.517   0.134003\n",
       "6       6     54.0           0.512   0.142379\n",
       "7       7     38.0           0.504   0.155779\n",
       "8       8    174.0           0.502   0.159129\n",
       "9       9    191.0           0.502   0.159129\n",
       "10     10    225.0           0.502   0.159129\n",
       "11     11    218.0           0.502   0.159129\n",
       "12     12     77.0           0.502   0.159129\n",
       "13     13      7.0           0.502   0.159129\n",
       "14     14    103.0           0.502   0.159129\n",
       "15     15    110.0           0.502   0.159129\n",
       "16     16     70.0           0.501   0.160804\n",
       "17     17    180.0           0.499   0.164154\n",
       "18     18    108.0           0.499   0.164154\n",
       "19     19     76.0           0.499   0.164154\n",
       "20     20    120.0           0.497   0.167504\n",
       "21     21    160.0           0.497   0.167504\n",
       "22     22    113.0           0.497   0.167504"
      ]
     },
     "execution_count": 22,
     "metadata": {},
     "output_type": "execute_result"
    }
   ],
   "source": [
    "psResultsDF = pd.DataFrame(psResults).reset_index()\n",
    "psResultsDF[\"advantage\"] = 1 - (psResultsDF[\"paymentSuccess\"]/initialPaymentSuccess)\n",
    "psResultsDF"
   ]
  },
  {
   "cell_type": "code",
   "execution_count": 23,
   "metadata": {},
   "outputs": [
    {
     "data": {
      "image/png": "[encoded data removed]",
      "text/plain": [
       "<Figure size 640x480 with 1 Axes>"
      ]
     },
     "metadata": {},
     "output_type": "display_data"
    },
    {
     "data": {
      "text/plain": [
       "<ggplot: (-9223363245598695217)>"
      ]
     },
     "execution_count": 23,
     "metadata": {},
     "output_type": "execute_result"
    }
   ],
   "source": [
    "plot = ggplot(psResultsDF) +\\\n",
    "geom_line(aes(x=\"index\", y=\"advantage\")) +\\\n",
    "labs(x=\"Number of removed entities by capacity share\", y=\"Adversary's advantge\") +\\\n",
    "theme_publication +ggtitle(\"Payment success\")\n",
    "\n",
    "plot"
   ]
  },
  {
   "cell_type": "code",
   "execution_count": 31,
   "metadata": {},
   "outputs": [
    {
     "data": {
      "text/html": [
       "<div>\n",
       "<style scoped>\n",
       "    .dataframe tbody tr th:only-of-type {\n",
       "        vertical-align: middle;\n",
       "    }\n",
       "\n",
       "    .dataframe tbody tr th {\n",
       "        vertical-align: top;\n",
       "    }\n",
       "\n",
       "    .dataframe thead th {\n",
       "        text-align: right;\n",
       "    }\n",
       "</style>\n",
       "<table border=\"1\" class=\"dataframe\">\n",
       "  <thead>\n",
       "    <tr style=\"text-align: right;\">\n",
       "      <th></th>\n",
       "      <th>index</th>\n",
       "      <th>cluster</th>\n",
       "      <th>avgMaxFlow</th>\n",
       "      <th>max-flow</th>\n",
       "      <th>paymentSuccess</th>\n",
       "      <th>payment success</th>\n",
       "      <th>size_largest_component</th>\n",
       "      <th>largest component</th>\n",
       "      <th>cluster_size</th>\n",
       "      <th>alias</th>\n",
       "    </tr>\n",
       "  </thead>\n",
       "  <tbody>\n",
       "    <tr>\n",
       "      <th>0</th>\n",
       "      <td>1</td>\n",
       "      <td>74.0</td>\n",
       "      <td>1041668.466</td>\n",
       "      <td>0.349089</td>\n",
       "      <td>0.529</td>\n",
       "      <td>0.113903</td>\n",
       "      <td>6065</td>\n",
       "      <td>0.051751</td>\n",
       "      <td>26</td>\n",
       "      <td>LNBIG.com *, ...</td>\n",
       "    </tr>\n",
       "    <tr>\n",
       "      <th>1</th>\n",
       "      <td>2</td>\n",
       "      <td>56.0</td>\n",
       "      <td>985075.882</td>\n",
       "      <td>0.384452</td>\n",
       "      <td>0.525</td>\n",
       "      <td>0.120603</td>\n",
       "      <td>6045</td>\n",
       "      <td>0.054878</td>\n",
       "      <td>2</td>\n",
       "      <td>Thor, ...</td>\n",
       "    </tr>\n",
       "    <tr>\n",
       "      <th>2</th>\n",
       "      <td>3</td>\n",
       "      <td>53.0</td>\n",
       "      <td>964551.487</td>\n",
       "      <td>0.397277</td>\n",
       "      <td>0.522</td>\n",
       "      <td>0.125628</td>\n",
       "      <td>6028</td>\n",
       "      <td>0.057536</td>\n",
       "      <td>2</td>\n",
       "      <td>CoinGate</td>\n",
       "    </tr>\n",
       "    <tr>\n",
       "      <th>3</th>\n",
       "      <td>4</td>\n",
       "      <td>82.0</td>\n",
       "      <td>940028.291</td>\n",
       "      <td>0.412601</td>\n",
       "      <td>0.517</td>\n",
       "      <td>0.134003</td>\n",
       "      <td>5969</td>\n",
       "      <td>0.066760</td>\n",
       "      <td>2</td>\n",
       "      <td>*rompert.com*</td>\n",
       "    </tr>\n",
       "    <tr>\n",
       "      <th>4</th>\n",
       "      <td>5</td>\n",
       "      <td>68.0</td>\n",
       "      <td>933156.698</td>\n",
       "      <td>0.416895</td>\n",
       "      <td>0.517</td>\n",
       "      <td>0.134003</td>\n",
       "      <td>5960</td>\n",
       "      <td>0.068168</td>\n",
       "      <td>2</td>\n",
       "      <td>Breez</td>\n",
       "    </tr>\n",
       "    <tr>\n",
       "      <th>5</th>\n",
       "      <td>6</td>\n",
       "      <td>54.0</td>\n",
       "      <td>913639.076</td>\n",
       "      <td>0.429091</td>\n",
       "      <td>0.512</td>\n",
       "      <td>0.142379</td>\n",
       "      <td>5948</td>\n",
       "      <td>0.070044</td>\n",
       "      <td>2</td>\n",
       "      <td>tippin.me, ...</td>\n",
       "    </tr>\n",
       "    <tr>\n",
       "      <th>6</th>\n",
       "      <td>7</td>\n",
       "      <td>38.0</td>\n",
       "      <td>901442.014</td>\n",
       "      <td>0.436713</td>\n",
       "      <td>0.504</td>\n",
       "      <td>0.155779</td>\n",
       "      <td>5901</td>\n",
       "      <td>0.077392</td>\n",
       "      <td>2</td>\n",
       "      <td>BitMEXResearch</td>\n",
       "    </tr>\n",
       "    <tr>\n",
       "      <th>7</th>\n",
       "      <td>8</td>\n",
       "      <td>174.0</td>\n",
       "      <td>892878.896</td>\n",
       "      <td>0.442063</td>\n",
       "      <td>0.502</td>\n",
       "      <td>0.159129</td>\n",
       "      <td>5889</td>\n",
       "      <td>0.079268</td>\n",
       "      <td>2</td>\n",
       "      <td>Sagittarius A, ...</td>\n",
       "    </tr>\n",
       "    <tr>\n",
       "      <th>8</th>\n",
       "      <td>9</td>\n",
       "      <td>191.0</td>\n",
       "      <td>887406.988</td>\n",
       "      <td>0.445483</td>\n",
       "      <td>0.502</td>\n",
       "      <td>0.159129</td>\n",
       "      <td>5882</td>\n",
       "      <td>0.080363</td>\n",
       "      <td>2</td>\n",
       "      <td>LightningPeachH...</td>\n",
       "    </tr>\n",
       "    <tr>\n",
       "      <th>9</th>\n",
       "      <td>10</td>\n",
       "      <td>225.0</td>\n",
       "      <td>887083.261</td>\n",
       "      <td>0.445685</td>\n",
       "      <td>0.502</td>\n",
       "      <td>0.159129</td>\n",
       "      <td>5875</td>\n",
       "      <td>0.081457</td>\n",
       "      <td>2</td>\n",
       "      <td>PeerName.com, ...</td>\n",
       "    </tr>\n",
       "    <tr>\n",
       "      <th>10</th>\n",
       "      <td>11</td>\n",
       "      <td>218.0</td>\n",
       "      <td>883500.852</td>\n",
       "      <td>0.447924</td>\n",
       "      <td>0.502</td>\n",
       "      <td>0.159129</td>\n",
       "      <td>5873</td>\n",
       "      <td>0.081770</td>\n",
       "      <td>2</td>\n",
       "      <td>MyPocket, ...</td>\n",
       "    </tr>\n",
       "    <tr>\n",
       "      <th>11</th>\n",
       "      <td>12</td>\n",
       "      <td>77.0</td>\n",
       "      <td>882200.852</td>\n",
       "      <td>0.448736</td>\n",
       "      <td>0.502</td>\n",
       "      <td>0.159129</td>\n",
       "      <td>5870</td>\n",
       "      <td>0.082239</td>\n",
       "      <td>2</td>\n",
       "      <td>*.bitpie.com</td>\n",
       "    </tr>\n",
       "    <tr>\n",
       "      <th>12</th>\n",
       "      <td>13</td>\n",
       "      <td>7.0</td>\n",
       "      <td>882200.852</td>\n",
       "      <td>0.448736</td>\n",
       "      <td>0.502</td>\n",
       "      <td>0.159129</td>\n",
       "      <td>5867</td>\n",
       "      <td>0.082708</td>\n",
       "      <td>4</td>\n",
       "      <td>wurren-1, ...</td>\n",
       "    </tr>\n",
       "  </tbody>\n",
       "</table>\n",
       "</div>"
      ],
      "text/plain": [
       "    index  cluster   avgMaxFlow  max-flow  paymentSuccess  payment success  \\\n",
       "0       1     74.0  1041668.466  0.349089           0.529         0.113903   \n",
       "1       2     56.0   985075.882  0.384452           0.525         0.120603   \n",
       "2       3     53.0   964551.487  0.397277           0.522         0.125628   \n",
       "3       4     82.0   940028.291  0.412601           0.517         0.134003   \n",
       "4       5     68.0   933156.698  0.416895           0.517         0.134003   \n",
       "5       6     54.0   913639.076  0.429091           0.512         0.142379   \n",
       "6       7     38.0   901442.014  0.436713           0.504         0.155779   \n",
       "7       8    174.0   892878.896  0.442063           0.502         0.159129   \n",
       "8       9    191.0   887406.988  0.445483           0.502         0.159129   \n",
       "9      10    225.0   887083.261  0.445685           0.502         0.159129   \n",
       "10     11    218.0   883500.852  0.447924           0.502         0.159129   \n",
       "11     12     77.0   882200.852  0.448736           0.502         0.159129   \n",
       "12     13      7.0   882200.852  0.448736           0.502         0.159129   \n",
       "\n",
       "    size_largest_component  largest component  cluster_size  \\\n",
       "0                     6065           0.051751            26   \n",
       "1                     6045           0.054878             2   \n",
       "2                     6028           0.057536             2   \n",
       "3                     5969           0.066760             2   \n",
       "4                     5960           0.068168             2   \n",
       "5                     5948           0.070044             2   \n",
       "6                     5901           0.077392             2   \n",
       "7                     5889           0.079268             2   \n",
       "8                     5882           0.080363             2   \n",
       "9                     5875           0.081457             2   \n",
       "10                    5873           0.081770             2   \n",
       "11                    5870           0.082239             2   \n",
       "12                    5867           0.082708             4   \n",
       "\n",
       "                 alias  \n",
       "0     LNBIG.com *, ...  \n",
       "1            Thor, ...  \n",
       "2             CoinGate  \n",
       "3        *rompert.com*  \n",
       "4                Breez  \n",
       "5       tippin.me, ...  \n",
       "6       BitMEXResearch  \n",
       "7   Sagittarius A, ...  \n",
       "8   LightningPeachH...  \n",
       "9    PeerName.com, ...  \n",
       "10       MyPocket, ...  \n",
       "11        *.bitpie.com  \n",
       "12       wurren-1, ...  "
      ]
     },
     "execution_count": 31,
     "metadata": {},
     "output_type": "execute_result"
    }
   ],
   "source": [
    "combined = mfResultsDF.rename(columns={\"advantage\":\"max-flow\"}).merge(\n",
    "    psResultsDF.rename(columns={\"advantage\":\"payment success\"}), on=[\"cluster\", \"index\"]).merge(\n",
    "    removalStats, on=[\"cluster\", \"index\"])\n",
    "combined.merge(cluster_aliases)"
   ]
  },
  {
   "cell_type": "code",
   "execution_count": 29,
   "metadata": {},
   "outputs": [
    {
     "name": "stderr",
     "output_type": "stream",
     "text": [
      "/opt/anaconda/3.7/lib/python3.7/site-packages/plotnine/ggplot.py:729: PlotnineWarning: Saving 5 x 3.5 in image.\n",
      "  from_inches(height, units), units), PlotnineWarning)\n",
      "/opt/anaconda/3.7/lib/python3.7/site-packages/plotnine/ggplot.py:730: PlotnineWarning: Filename: /tmp/combined-max-flow-payment-success-component.pdf\n",
      "  warn('Filename: {}'.format(filename), PlotnineWarning)\n"
     ]
    },
    {
     "data": {
      "image/png": "[encoded data removed]",
      "text/plain": [
       "<Figure size 640x480 with 1 Axes>"
      ]
     },
     "metadata": {},
     "output_type": "display_data"
    },
    {
     "data": {
      "text/plain": [
       "<ggplot: (-9223363245598707326)>"
      ]
     },
     "execution_count": 29,
     "metadata": {},
     "output_type": "execute_result"
    }
   ],
   "source": [
    "combined_for_plot = pd.melt(combined ,id_vars=\"index\", value_vars=[\"max-flow\", \"payment success\", \"largest component\"])\n",
    "plot = ggplot(combined_for_plot[combined_for_plot[\"index\"] <= 10]) +\\\n",
    "geom_line(aes(x=\"index\", y=\"value\", color=\"variable\", linetype=\"variable\")) +\\\n",
    "theme_publication +\\\n",
    "scale_x_continuous(breaks=[0,2,4,6,8,10]) +\\\n",
    "labs(x=\"Number of removed entities by capacity share\", y=\"Adversary's advantage\", color=\"Measure:\", linetype=\"Measure:\") +\\\n",
    "theme(legend_position=\"bottom\")\n",
    "\n",
    "plot.save(\"/tmp/combined-max-flow-payment-success-component.pdf\", width=5, height=3.5)\n",
    "plot"
   ]
  },
  {
   "cell_type": "code",
   "execution_count": null,
   "metadata": {},
   "outputs": [],
   "source": []
  },
  {
   "cell_type": "code",
   "execution_count": null,
   "metadata": {},
   "outputs": [],
   "source": [
    "g.es[\"label\"] = mf.flow\n",
    "mf.es[\"color\"] = \"red\"\n",
    "plot(mf.graph, edge_label = mf.flow)"
   ]
  },
  {
   "cell_type": "code",
   "execution_count": null,
   "metadata": {},
   "outputs": [],
   "source": [
    "#for (e,flow) in list(zip(g.es, mf.flow)):\n",
    "for index, flow in enumerate(mf.flow):\n",
    "    newCapacity = g.es[index][\"weight\"] - abs(flow)\n",
    "    print(index, \"capacity:\", g.es[index][\"weight\"], \"flow:\", flow, newCapacity)\n",
    "    g.es[index].update_attributes({\"weight\":newCapacity})\n",
    "    g.es[index].update_attributes({\"label\":newCapacity})\n",
    "    #g.es[e.index][\"weight\"] = g.es[e.index][\"weight\"] - abs(flow)\n",
    "    #print(e.index, e[\"weight\"], abs(flow))"
   ]
  },
  {
   "cell_type": "code",
   "execution_count": null,
   "metadata": {},
   "outputs": [],
   "source": [
    "print(performMaxFlowAndUpdateWeights(g, 4, 6))\n",
    "plot(g)"
   ]
  },
  {
   "cell_type": "code",
   "execution_count": null,
   "metadata": {},
   "outputs": [],
   "source": [
    "from itertools import combinations\n",
    "for (source, target) in list(combinations([1,2,3,4], 2)):"
   ]
  },
  {
   "cell_type": "code",
   "execution_count": null,
   "metadata": {},
   "outputs": [],
   "source": [
    "#[edge for edge in g.es if edge[\"weight\"] == 0]"
   ]
  },
  {
   "cell_type": "code",
   "execution_count": null,
   "metadata": {},
   "outputs": [],
   "source": [
    "len(list(combinations([edge.index for edge in g.es], 2)))"
   ]
  },
  {
   "cell_type": "code",
   "execution_count": null,
   "metadata": {},
   "outputs": [],
   "source": []
  },
  {
   "cell_type": "code",
   "execution_count": null,
   "metadata": {},
   "outputs": [],
   "source": []
  },
  {
   "cell_type": "code",
   "execution_count": null,
   "metadata": {},
   "outputs": [],
   "source": []
  },
  {
   "cell_type": "code",
   "execution_count": null,
   "metadata": {},
   "outputs": [],
   "source": []
  },
  {
   "cell_type": "code",
   "execution_count": null,
   "metadata": {},
   "outputs": [],
   "source": []
  }
 ],
 "metadata": {
  "kernelspec": {
   "display_name": "Python 3",
   "language": "python",
   "name": "python3"
  },
  "language_info": {
   "codemirror_mode": {
    "name": "ipython",
    "version": 3
   },
   "file_extension": ".py",
   "mimetype": "text/x-python",
   "name": "python",
   "nbconvert_exporter": "python",
   "pygments_lexer": "ipython3",
   "version": "3.7.3"
  }
 },
 "nbformat": 4,
 "nbformat_minor": 4
}
