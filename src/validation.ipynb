{
 "cells": [
  {
   "cell_type": "code",
   "execution_count": 1,
   "metadata": {
    "ExecuteTime": {
     "end_time": "2020-09-22T12:13:35.879854Z",
     "start_time": "2020-09-22T12:13:35.258909Z"
    }
   },
   "outputs": [],
   "source": [
    "from utils import *\n",
    "from api_calls import *\n",
    "import pandas as pd\n",
    "from time import sleep"
   ]
  },
  {
   "cell_type": "code",
   "execution_count": 2,
   "metadata": {
    "ExecuteTime": {
     "end_time": "2020-09-22T12:13:43.777854Z",
     "start_time": "2020-09-22T12:13:35.882723Z"
    }
   },
   "outputs": [
    {
     "name": "stdout",
     "output_type": "stream",
     "text": [
      "relaxed: False\n"
     ]
    }
   ],
   "source": [
    "from load_data import set_mapping"
   ]
  },
  {
   "cell_type": "markdown",
   "metadata": {},
   "source": [
    "# Use ground truth data"
   ]
  },
  {
   "cell_type": "markdown",
   "metadata": {},
   "source": [
    "## outgoing (we created)"
   ]
  },
  {
   "cell_type": "markdown",
   "metadata": {},
   "source": [
    "### channel nodes"
   ]
  },
  {
   "cell_type": "code",
   "execution_count": 3,
   "metadata": {
    "ExecuteTime": {
     "end_time": "2020-09-22T12:13:49.939543Z",
     "start_time": "2020-09-22T12:13:43.779653Z"
    }
   },
   "outputs": [],
   "source": [
    "local_node = '025228840b37ade9aa2f96b3c961a35e76571a7c87a4ee67e2f33c64de64aa822f'\n",
    "gt_outgoing_channels = read_json(results_folder + 'closedchannels.json')['channels']\n",
    "channels = pd.read_csv(level2_folder + 'channel.csv')\n",
    "funding_txs = read_json(level1_folder + 'blockstream_funding_txs.json')\n",
    "settlement_txs = read_json(level1_folder + 'blockstream_settlement_txs.json')\n",
    "funded_address_settlement_txs = read_json(level1_folder + 'funded_address_blockstream_settlement_txs.json')\n",
    "funding_address_entity = read_json(level1_folder + 'funding_address_entity.json')\n",
    "settlement_address_entity = read_json(level1_folder + 'settlement_address_entity.json')\n",
    "input_file1 = results_folder + 'filtered_all_heuristic_2_entity_node_conf.json'\n",
    "heuristic_2_entity_node = read_json(input_file1, double_int_key=True)[2]\n",
    "input_file3 = results_folder + 'filtered_all_heuristic_2_node_entity_conf.json'\n",
    "heuristic_2_node_entity_conf = read_json(input_file3, True)[2]\n",
    "input_file2 = results_folder + 'filtered_all_heuristic_2_entity_node_conf_old.json'\n",
    "heuristic_2_entity_node_old = read_json(input_file2, double_int_key=True)[2]\n",
    "on_chain_heuristics = {och: (True if och != 'none' else False) for och in on_chain_heuristics_list}\n",
    "funding_address_entity, settlement_address_entity = set_mapping(funding_address_entity, settlement_address_entity, on_chain_heuristics)\n"
   ]
  },
  {
   "cell_type": "code",
   "execution_count": 7,
   "metadata": {
    "ExecuteTime": {
     "end_time": "2020-09-22T12:13:52.394542Z",
     "start_time": "2020-09-22T12:13:52.390438Z"
    }
   },
   "outputs": [],
   "source": [
    "gt_outgoing_channel_points = [el['channel_point'] for el in gt_outgoing_channels]"
   ]
  },
  {
   "cell_type": "code",
   "execution_count": 8,
   "metadata": {
    "ExecuteTime": {
     "end_time": "2020-09-22T12:13:53.035129Z",
     "start_time": "2020-09-22T12:13:53.029409Z"
    }
   },
   "outputs": [
    {
     "name": "stdout",
     "output_type": "stream",
     "text": [
      "GT channels opened and closed: 81\n"
     ]
    }
   ],
   "source": [
    "print('GT channels opened and closed:', len(gt_outgoing_channel_points))"
   ]
  },
  {
   "cell_type": "code",
   "execution_count": 9,
   "metadata": {
    "ExecuteTime": {
     "end_time": "2020-09-22T12:13:54.002301Z",
     "start_time": "2020-09-22T12:13:53.996727Z"
    }
   },
   "outputs": [],
   "source": [
    "closed_channel_nodes = set()\n",
    "for closed_channel in gt_outgoing_channels:\n",
    "    closed_channel_nodes.add(closed_channel['remote_pubkey'])\n",
    "closed_channel_nodes.add(local_node)"
   ]
  },
  {
   "cell_type": "code",
   "execution_count": 10,
   "metadata": {
    "ExecuteTime": {
     "end_time": "2020-09-22T12:13:57.035072Z",
     "start_time": "2020-09-22T12:13:57.031387Z"
    }
   },
   "outputs": [
    {
     "name": "stdout",
     "output_type": "stream",
     "text": [
      "GT number of nodes with which we closed a channel: 73\n"
     ]
    }
   ],
   "source": [
    "print('GT number of nodes with which we closed a channel:', len(closed_channel_nodes))"
   ]
  },
  {
   "cell_type": "code",
   "execution_count": 11,
   "metadata": {
    "ExecuteTime": {
     "end_time": "2020-09-22T12:13:57.744166Z",
     "start_time": "2020-09-22T12:13:57.729327Z"
    }
   },
   "outputs": [
    {
     "data": {
      "text/plain": [
       "98431"
      ]
     },
     "execution_count": 11,
     "metadata": {},
     "output_type": "execute_result"
    }
   ],
   "source": [
    "len(channels)"
   ]
  },
  {
   "cell_type": "code",
   "execution_count": 12,
   "metadata": {
    "ExecuteTime": {
     "end_time": "2020-09-22T12:13:58.963223Z",
     "start_time": "2020-09-22T12:13:58.726924Z"
    }
   },
   "outputs": [],
   "source": [
    "chpoint_n1_n2 = dict()\n",
    "for r in channels.values:\n",
    "    channel_point, node1, node2 = r\n",
    "    if channel_point in gt_outgoing_channel_points:\n",
    "        chpoint_n1_n2[channel_point] = [node1, node2]"
   ]
  },
  {
   "cell_type": "markdown",
   "metadata": {
    "ExecuteTime": {
     "end_time": "2020-09-19T08:25:35.579301Z",
     "start_time": "2020-09-19T08:25:35.576771Z"
    }
   },
   "source": [
    "### funding node entity"
   ]
  },
  {
   "cell_type": "code",
   "execution_count": 13,
   "metadata": {
    "ExecuteTime": {
     "end_time": "2020-09-22T12:14:04.238876Z",
     "start_time": "2020-09-22T12:14:04.235887Z"
    }
   },
   "outputs": [],
   "source": [
    "def add_node_to_entity(node, entity, entity_nodes):\n",
    "    if entity not in entity_nodes:\n",
    "        entity_nodes[entity] = set()\n",
    "    entity_nodes[entity].add(node)\n",
    "    return entity_nodes"
   ]
  },
  {
   "cell_type": "code",
   "execution_count": 14,
   "metadata": {
    "ExecuteTime": {
     "end_time": "2020-09-22T12:14:05.189614Z",
     "start_time": "2020-09-22T12:14:05.184354Z"
    }
   },
   "outputs": [],
   "source": [
    "gt_entity_node = dict()\n",
    "for cp, ns in chpoint_n1_n2.items():\n",
    "    hsh, out_index = cp.split(':')\n",
    "    funding_address = funding_txs[hsh]['vin'][0]['prevout']['scriptpubkey_address']\n",
    "    funding_entity = funding_address_entity[funding_address]\n",
    "    gt_entity_node = add_node_to_entity(local_node, funding_entity, gt_entity_node)"
   ]
  },
  {
   "cell_type": "code",
   "execution_count": 15,
   "metadata": {
    "ExecuteTime": {
     "end_time": "2020-09-22T12:14:06.086178Z",
     "start_time": "2020-09-22T12:14:06.082075Z"
    }
   },
   "outputs": [
    {
     "data": {
      "text/plain": [
       "79"
      ]
     },
     "execution_count": 15,
     "metadata": {},
     "output_type": "execute_result"
    }
   ],
   "source": [
    "len(gt_entity_node)"
   ]
  },
  {
   "cell_type": "code",
   "execution_count": 16,
   "metadata": {
    "ExecuteTime": {
     "end_time": "2020-09-22T12:14:06.770048Z",
     "start_time": "2020-09-22T12:14:06.763518Z"
    },
    "scrolled": true
   },
   "outputs": [
    {
     "data": {
      "text/plain": [
       "{9}"
      ]
     },
     "execution_count": 16,
     "metadata": {},
     "output_type": "execute_result"
    }
   ],
   "source": [
    "set([len(str(k)) for k in gt_entity_node.keys()]) # only entities, no components so far"
   ]
  },
  {
   "cell_type": "code",
   "execution_count": 17,
   "metadata": {
    "ExecuteTime": {
     "end_time": "2020-09-22T12:14:07.362807Z",
     "start_time": "2020-09-22T12:14:07.355741Z"
    }
   },
   "outputs": [
    {
     "name": "stdout",
     "output_type": "stream",
     "text": [
      "701936419 025228840b 025228840b\n",
      "699910001 025228840b 025228840b\n",
      "701969681 025228840b 025228840b\n",
      "701997093 025228840b 025228840b\n",
      "702012094 025228840b 025228840b\n",
      "702018206 025228840b 025228840b\n",
      "702049216 025228840b 025228840b\n"
     ]
    }
   ],
   "source": [
    "for e in gt_entity_node:\n",
    "    if e in heuristic_2_entity_node:\n",
    "        print(e, heuristic_2_entity_node[e][0][:10], list(gt_entity_node[e])[0][:10])"
   ]
  },
  {
   "cell_type": "markdown",
   "metadata": {},
   "source": [
    "### settlement node entity"
   ]
  },
  {
   "cell_type": "code",
   "execution_count": 18,
   "metadata": {
    "ExecuteTime": {
     "end_time": "2020-09-22T12:14:12.023786Z",
     "start_time": "2020-09-22T12:14:12.009931Z"
    }
   },
   "outputs": [],
   "source": [
    "received_coins_nodes = set()\n",
    "for closed_channel in gt_outgoing_channels:\n",
    "    funding_hsh, out_index = closed_channel['channel_point'].split(':')\n",
    "    funded_address = funding_txs[funding_hsh]['vout'][int(out_index)]['scriptpubkey_address']\n",
    "    stx = funded_address_settlement_txs[funded_address][0]\n",
    "    if not stx['txid'] == closed_channel['closing_tx_hash']:\n",
    "        print(stx['txid'])\n",
    "    else:\n",
    "        # if there are two outputs, the first is remote and the second is local\n",
    "        if len(stx['vout']) == 2:\n",
    "            received_coins_nodes.add(closed_channel['remote_pubkey'])\n",
    "            remote_settlement_entity = settlement_address_entity[stx['vout'][0]['scriptpubkey_address']]\n",
    "            local_settlement_entity = settlement_address_entity[stx['vout'][1]['scriptpubkey_address']]\n",
    "            gt_entity_node = add_node_to_entity(local_node, local_settlement_entity, gt_entity_node)\n",
    "            gt_entity_node = add_node_to_entity(closed_channel['remote_pubkey'], remote_settlement_entity, gt_entity_node)\n",
    "        # if there is one output, it is local\n",
    "        elif len(stx['vout']) == 1:\n",
    "            local_settlement_entity = settlement_address_entity[stx['vout'][0]['scriptpubkey_address']]\n",
    "            gt_entity_node = add_node_to_entity(local_node, local_settlement_entity, gt_entity_node)        "
   ]
  },
  {
   "cell_type": "code",
   "execution_count": 19,
   "metadata": {
    "ExecuteTime": {
     "end_time": "2020-09-22T12:14:12.923491Z",
     "start_time": "2020-09-22T12:14:12.919758Z"
    }
   },
   "outputs": [
    {
     "name": "stdout",
     "output_type": "stream",
     "text": [
      "GT number of nodes that received coins from us: 52\n"
     ]
    }
   ],
   "source": [
    "print('GT number of nodes that received coins from us:', len(received_coins_nodes))"
   ]
  },
  {
   "cell_type": "code",
   "execution_count": 20,
   "metadata": {
    "ExecuteTime": {
     "end_time": "2020-09-22T12:14:14.949195Z",
     "start_time": "2020-09-22T12:14:14.943805Z"
    }
   },
   "outputs": [
    {
     "name": "stdout",
     "output_type": "stream",
     "text": [
      "701936419 025228840b 025228840b\n",
      "699910001 025228840b 025228840b\n",
      "701969681 025228840b 025228840b\n",
      "701997093 025228840b 025228840b\n",
      "702012094 025228840b 025228840b\n",
      "702018206 025228840b 025228840b\n",
      "702049216 025228840b 025228840b\n",
      "700906822 02bb24da3d 02bb24da3d\n",
      "702032339 03da1c27ca 03da1c27ca\n",
      "701778637 02de11c748 02de11c748\n",
      "701999821 03fb822818 03fb822818\n",
      "702049215 03bc9337c7 03bc9337c7\n"
     ]
    }
   ],
   "source": [
    "for e in gt_entity_node:\n",
    "    if e in heuristic_2_entity_node:\n",
    "        print(e, heuristic_2_entity_node[e][0][:10], list(gt_entity_node[e])[0][:10])"
   ]
  },
  {
   "cell_type": "code",
   "execution_count": 21,
   "metadata": {
    "ExecuteTime": {
     "end_time": "2020-09-22T12:14:16.071926Z",
     "start_time": "2020-09-22T12:14:16.066499Z"
    }
   },
   "outputs": [
    {
     "data": {
      "text/plain": [
       "{9}"
      ]
     },
     "execution_count": 21,
     "metadata": {},
     "output_type": "execute_result"
    }
   ],
   "source": [
    "set([len(str(k)) for k in gt_entity_node.keys()]) # only entities, no components so far"
   ]
  },
  {
   "cell_type": "code",
   "execution_count": 22,
   "metadata": {
    "ExecuteTime": {
     "end_time": "2020-09-22T12:14:16.593650Z",
     "start_time": "2020-09-22T12:14:16.559499Z"
    }
   },
   "outputs": [
    {
     "data": {
      "text/plain": [
       "{3, 4, 5, 7, 8, 9}"
      ]
     },
     "execution_count": 22,
     "metadata": {},
     "output_type": "execute_result"
    }
   ],
   "source": [
    "set([len(str(k)) for k in settlement_address_entity.values()]) # entities and components"
   ]
  },
  {
   "cell_type": "code",
   "execution_count": 23,
   "metadata": {
    "ExecuteTime": {
     "end_time": "2020-09-22T12:14:17.439212Z",
     "start_time": "2020-09-22T12:14:17.435710Z"
    }
   },
   "outputs": [
    {
     "data": {
      "text/plain": [
       "143"
      ]
     },
     "execution_count": 23,
     "metadata": {},
     "output_type": "execute_result"
    }
   ],
   "source": [
    "len(gt_entity_node)"
   ]
  },
  {
   "cell_type": "markdown",
   "metadata": {},
   "source": [
    "## incoming (they created)"
   ]
  },
  {
   "cell_type": "code",
   "execution_count": 24,
   "metadata": {
    "ExecuteTime": {
     "end_time": "2020-09-22T12:14:20.390028Z",
     "start_time": "2020-09-22T12:14:20.383101Z"
    }
   },
   "outputs": [],
   "source": [
    "incoming_channels_df = pd.read_csv(level2_folder + 'inbound_channels.csv')"
   ]
  },
  {
   "cell_type": "code",
   "execution_count": 25,
   "metadata": {
    "ExecuteTime": {
     "end_time": "2020-09-22T12:14:21.905152Z",
     "start_time": "2020-09-22T12:14:21.901426Z"
    }
   },
   "outputs": [
    {
     "data": {
      "text/plain": [
       "array(['b65ee1be8c2f98fb38985e8264df1fdcff18950f0bb59079293bf18793953d7d:1',\n",
       "       '006a68db9594a90783f51a57123d1152164af75c1cda1ca3864d16a7b74d19d9:1',\n",
       "       'ada40f3b3a5f3d18d36c1be89274d3f2f1316527887cae4ff7284602fef1e979:0',\n",
       "       '1774fe9c71370d665e89d859fb4cbeca9d9cfebdab1da8ba744d7f7aea545257:0',\n",
       "       '1331f641fd1dcc1ad6cd6fa3d3c997dc3ea0799ac1820dfad26b3c642a378197:0',\n",
       "       'a64b0f11e7163e4db9bdedbbf362cf32cd5f3c15512bd910256d722065cadc2c:1'],\n",
       "      dtype=object)"
      ]
     },
     "execution_count": 25,
     "metadata": {},
     "output_type": "execute_result"
    }
   ],
   "source": [
    "incoming_channels_df.chan_point.values"
   ]
  },
  {
   "cell_type": "code",
   "execution_count": 27,
   "metadata": {
    "ExecuteTime": {
     "end_time": "2020-09-22T12:14:47.021506Z",
     "start_time": "2020-09-22T12:14:47.017698Z"
    }
   },
   "outputs": [],
   "source": [
    "available_funding_txs = [\n",
    "    'b65ee1be8c2f98fb38985e8264df1fdcff18950f0bb59079293bf18793953d7d',\n",
    "    '006a68db9594a90783f51a57123d1152164af75c1cda1ca3864d16a7b74d19d9',\n",
    "    'ada40f3b3a5f3d18d36c1be89274d3f2f1316527887cae4ff7284602fef1e979',\n",
    "] "
   ]
  },
  {
   "cell_type": "code",
   "execution_count": 28,
   "metadata": {
    "ExecuteTime": {
     "end_time": "2020-09-22T12:14:51.958523Z",
     "start_time": "2020-09-22T12:14:51.944538Z"
    }
   },
   "outputs": [
    {
     "data": {
      "text/html": [
       "<div>\n",
       "<style scoped>\n",
       "    .dataframe tbody tr th:only-of-type {\n",
       "        vertical-align: middle;\n",
       "    }\n",
       "\n",
       "    .dataframe tbody tr th {\n",
       "        vertical-align: top;\n",
       "    }\n",
       "\n",
       "    .dataframe thead th {\n",
       "        text-align: right;\n",
       "    }\n",
       "</style>\n",
       "<table border=\"1\" class=\"dataframe\">\n",
       "  <thead>\n",
       "    <tr style=\"text-align: right;\">\n",
       "      <th></th>\n",
       "      <th>chan_point</th>\n",
       "      <th>external_node_key</th>\n",
       "      <th>external_alias</th>\n",
       "    </tr>\n",
       "  </thead>\n",
       "  <tbody>\n",
       "    <tr>\n",
       "      <th>0</th>\n",
       "      <td>b65ee1be8c2f98fb38985e8264df1fdcff18950f0bb590...</td>\n",
       "      <td>03bc9337c7a28bb784d67742ebedd30a93bacdf7e4ca16...</td>\n",
       "      <td>LNBIG.com [lnd-06]</td>\n",
       "    </tr>\n",
       "    <tr>\n",
       "      <th>1</th>\n",
       "      <td>006a68db9594a90783f51a57123d1152164af75c1cda1c...</td>\n",
       "      <td>024d2387409269f3b79e2708bb39b895c9f4b6a8322153...</td>\n",
       "      <td>LNBIG.com [lnd-38]</td>\n",
       "    </tr>\n",
       "    <tr>\n",
       "      <th>2</th>\n",
       "      <td>ada40f3b3a5f3d18d36c1be89274d3f2f1316527887cae...</td>\n",
       "      <td>030c3f19d742ca294a55c00376b3b355c3c90d61c6b6b3...</td>\n",
       "      <td>Bitrefill.com/gift-cards</td>\n",
       "    </tr>\n",
       "    <tr>\n",
       "      <th>3</th>\n",
       "      <td>1774fe9c71370d665e89d859fb4cbeca9d9cfebdab1da8...</td>\n",
       "      <td>0242a4ae0c5bef18048fbecf995094b74bfb0f7391418d...</td>\n",
       "      <td>CoinGate</td>\n",
       "    </tr>\n",
       "    <tr>\n",
       "      <th>4</th>\n",
       "      <td>1331f641fd1dcc1ad6cd6fa3d3c997dc3ea0799ac1820d...</td>\n",
       "      <td>03c436af41160a355fc1ed230a64f6a64bcbd2ae50f121...</td>\n",
       "      <td>mainnet.lightningconductor.net</td>\n",
       "    </tr>\n",
       "    <tr>\n",
       "      <th>5</th>\n",
       "      <td>a64b0f11e7163e4db9bdedbbf362cf32cd5f3c15512bd9...</td>\n",
       "      <td>03bb88ccc444534da7b5b64b4f7b15e1eccb18e102db0e...</td>\n",
       "      <td>LightningTo.Me</td>\n",
       "    </tr>\n",
       "  </tbody>\n",
       "</table>\n",
       "</div>"
      ],
      "text/plain": [
       "                                          chan_point  \\\n",
       "0  b65ee1be8c2f98fb38985e8264df1fdcff18950f0bb590...   \n",
       "1  006a68db9594a90783f51a57123d1152164af75c1cda1c...   \n",
       "2  ada40f3b3a5f3d18d36c1be89274d3f2f1316527887cae...   \n",
       "3  1774fe9c71370d665e89d859fb4cbeca9d9cfebdab1da8...   \n",
       "4  1331f641fd1dcc1ad6cd6fa3d3c997dc3ea0799ac1820d...   \n",
       "5  a64b0f11e7163e4db9bdedbbf362cf32cd5f3c15512bd9...   \n",
       "\n",
       "                                   external_node_key  \\\n",
       "0  03bc9337c7a28bb784d67742ebedd30a93bacdf7e4ca16...   \n",
       "1  024d2387409269f3b79e2708bb39b895c9f4b6a8322153...   \n",
       "2  030c3f19d742ca294a55c00376b3b355c3c90d61c6b6b3...   \n",
       "3  0242a4ae0c5bef18048fbecf995094b74bfb0f7391418d...   \n",
       "4  03c436af41160a355fc1ed230a64f6a64bcbd2ae50f121...   \n",
       "5  03bb88ccc444534da7b5b64b4f7b15e1eccb18e102db0e...   \n",
       "\n",
       "                   external_alias  \n",
       "0              LNBIG.com [lnd-06]  \n",
       "1              LNBIG.com [lnd-38]  \n",
       "2        Bitrefill.com/gift-cards  \n",
       "3                        CoinGate  \n",
       "4  mainnet.lightningconductor.net  \n",
       "5                  LightningTo.Me  "
      ]
     },
     "execution_count": 28,
     "metadata": {},
     "output_type": "execute_result"
    }
   ],
   "source": [
    "incoming_channels_df"
   ]
  },
  {
   "cell_type": "code",
   "execution_count": 29,
   "metadata": {
    "ExecuteTime": {
     "end_time": "2020-09-22T12:14:57.197492Z",
     "start_time": "2020-09-22T12:14:57.193720Z"
    }
   },
   "outputs": [],
   "source": [
    "# external_node_key is linked to the funding entity\n",
    "nodes_opened_channels_to_us = set()\n",
    "for r in incoming_channels_df.values:\n",
    "    chan_point, remote_node, remote_alias = r\n",
    "    hsh, out_index = chan_point.split(':')\n",
    "    if hsh in funding_txs:\n",
    "        nodes_opened_channels_to_us.add(remote_node)\n",
    "        funding_entity = funding_address_entity[funding_txs[hsh]['vin'][0]['prevout']['scriptpubkey_address']]\n",
    "        gt_entity_node = add_node_to_entity(remote_node, funding_entity, gt_entity_node)"
   ]
  },
  {
   "cell_type": "code",
   "execution_count": 30,
   "metadata": {
    "ExecuteTime": {
     "end_time": "2020-09-22T12:14:58.476088Z",
     "start_time": "2020-09-22T12:14:58.468678Z"
    }
   },
   "outputs": [
    {
     "name": "stdout",
     "output_type": "stream",
     "text": [
      "GT number of nodes that opened channels to us: 3\n"
     ]
    }
   ],
   "source": [
    "print('GT number of nodes that opened channels to us:', len(nodes_opened_channels_to_us))"
   ]
  },
  {
   "cell_type": "code",
   "execution_count": 31,
   "metadata": {
    "ExecuteTime": {
     "end_time": "2020-09-22T12:14:58.990673Z",
     "start_time": "2020-09-22T12:14:58.984166Z"
    }
   },
   "outputs": [
    {
     "data": {
      "text/plain": [
       "{4, 9}"
      ]
     },
     "execution_count": 31,
     "metadata": {},
     "output_type": "execute_result"
    }
   ],
   "source": [
    "set([len(str(k)) for k in gt_entity_node.keys()]) # only entities, no components so far"
   ]
  },
  {
   "cell_type": "code",
   "execution_count": 32,
   "metadata": {
    "ExecuteTime": {
     "end_time": "2020-09-22T12:14:59.869522Z",
     "start_time": "2020-09-22T12:14:59.863310Z"
    }
   },
   "outputs": [
    {
     "data": {
      "text/plain": [
       "146"
      ]
     },
     "execution_count": 32,
     "metadata": {},
     "output_type": "execute_result"
    }
   ],
   "source": [
    "len(gt_entity_node)"
   ]
  },
  {
   "cell_type": "code",
   "execution_count": 33,
   "metadata": {
    "ExecuteTime": {
     "end_time": "2020-09-22T12:15:01.434867Z",
     "start_time": "2020-09-22T12:15:01.423381Z"
    }
   },
   "outputs": [
    {
     "name": "stdout",
     "output_type": "stream",
     "text": [
      "701936419 025228840b 025228840b\n",
      "699910001 025228840b 025228840b\n",
      "701969681 025228840b 025228840b\n",
      "701997093 025228840b 025228840b\n",
      "702012094 025228840b 025228840b\n",
      "702018206 025228840b 025228840b\n",
      "702049216 025228840b 025228840b\n",
      "700906822 02bb24da3d 02bb24da3d\n",
      "702032339 03da1c27ca 03da1c27ca\n",
      "701778637 02de11c748 02de11c748\n",
      "701999821 03fb822818 03fb822818\n",
      "702049215 03bc9337c7 03bc9337c7\n",
      "-432 024d238740 024d238740\n",
      "Number of matches: 13\n",
      "Number of cases with multiple nodes linked to one entity : 0\n"
     ]
    }
   ],
   "source": [
    "matches = 0\n",
    "multiple_nodes_in_entity = 0\n",
    "for e in gt_entity_node:\n",
    "    if e in heuristic_2_entity_node:\n",
    "        print(e, heuristic_2_entity_node[e][0][:10], list(gt_entity_node[e])[0][:10])\n",
    "        matches += 1\n",
    "        if len(heuristic_2_entity_node[e]) > 1:\n",
    "            multiple_nodes_in_entity += 1\n",
    "print('Number of matches:', matches)\n",
    "print('Number of cases with multiple nodes linked to one entity :', multiple_nodes_in_entity)"
   ]
  },
  {
   "cell_type": "markdown",
   "metadata": {},
   "source": [
    "# node to entity"
   ]
  },
  {
   "cell_type": "code",
   "execution_count": 34,
   "metadata": {
    "ExecuteTime": {
     "end_time": "2020-09-22T12:15:03.545768Z",
     "start_time": "2020-09-22T12:15:03.539401Z"
    }
   },
   "outputs": [],
   "source": [
    "gt_node_entity = dict()\n",
    "for e, ns in gt_entity_node.items():\n",
    "    for n in ns:\n",
    "        gt_node_entity = add_node_to_entity(e, n, gt_node_entity) # don't be fooled by the name ;)"
   ]
  },
  {
   "cell_type": "code",
   "execution_count": 35,
   "metadata": {
    "ExecuteTime": {
     "end_time": "2020-09-22T12:15:05.687542Z",
     "start_time": "2020-09-22T12:15:05.681820Z"
    }
   },
   "outputs": [
    {
     "data": {
      "text/plain": [
       "55"
      ]
     },
     "execution_count": 35,
     "metadata": {},
     "output_type": "execute_result"
    }
   ],
   "source": [
    "len(gt_node_entity)"
   ]
  },
  {
   "cell_type": "code",
   "execution_count": 36,
   "metadata": {
    "ExecuteTime": {
     "end_time": "2020-09-22T12:15:06.700485Z",
     "start_time": "2020-09-22T12:15:06.694081Z"
    }
   },
   "outputs": [
    {
     "name": "stdout",
     "output_type": "stream",
     "text": [
      "Number of matching entities: 13\n"
     ]
    }
   ],
   "source": [
    "n_matching_entities = 0\n",
    "for n in gt_node_entity:\n",
    "    if n in heuristic_2_node_entity_conf:\n",
    "        for e in gt_node_entity[n]:\n",
    "            if e in heuristic_2_node_entity_conf[n]:\n",
    "                n_matching_entities += 1\n",
    "    else:\n",
    "        print(n, 'not linked')\n",
    "print('Number of matching entities:', n_matching_entities)"
   ]
  },
  {
   "cell_type": "code",
   "execution_count": 37,
   "metadata": {
    "ExecuteTime": {
     "end_time": "2020-09-22T12:15:09.858640Z",
     "start_time": "2020-09-22T12:15:09.836282Z"
    }
   },
   "outputs": [],
   "source": [
    "nodes = pd.read_csv(level2_folder + 'node.csv')"
   ]
  },
  {
   "cell_type": "code",
   "execution_count": 38,
   "metadata": {
    "ExecuteTime": {
     "end_time": "2020-09-22T12:15:10.242672Z",
     "start_time": "2020-09-22T12:15:10.197265Z"
    }
   },
   "outputs": [],
   "source": [
    "node_aliases = dict()\n",
    "for r in nodes.values:\n",
    "    node, aliases = r\n",
    "    aliases = set(aliases.split('|'))\n",
    "    if node not in node_aliases:\n",
    "        node_aliases[node] = set()\n",
    "    node_aliases[node] = node_aliases[node].union(aliases)"
   ]
  },
  {
   "cell_type": "code",
   "execution_count": 39,
   "metadata": {
    "ExecuteTime": {
     "end_time": "2020-09-22T12:15:10.811889Z",
     "start_time": "2020-09-22T12:15:10.797586Z"
    }
   },
   "outputs": [],
   "source": [
    "validated_nodes = set()\n",
    "for n in gt_node_entity:\n",
    "    if n in heuristic_2_node_entity_conf:\n",
    "#         print('Node:', n)\n",
    "        alias = ''\n",
    "        if n in node_aliases:\n",
    "            alias = node_aliases[n]\n",
    "#         print('Alias:', alias)\n",
    "        gt_entities = list(set(gt_node_entity[n]))\n",
    "        linked_entities = list(set(heuristic_2_node_entity_conf[n]))\n",
    "        gt_entities.sort()\n",
    "        linked_entities.sort()\n",
    "#         print('Number of ground truth entities:', len(gt_entities))\n",
    "#         for e in gt_entities:\n",
    "#             print(e, end=' ')\n",
    "#         print()\n",
    "#         print('Number of linked entities:', len(linked_entities))\n",
    "#         for e in linked_entities:\n",
    "#             print(e, end=' ')\n",
    "#         print()\n",
    "        len_intersection = len(set(linked_entities).intersection(set(gt_entities)))\n",
    "#         print('Intersection:', len_intersection)\n",
    "        if len_intersection:\n",
    "            validated_nodes.add(n)\n",
    "#     else:\n",
    "#         print(n, 'not linked')\n",
    "#     print()"
   ]
  },
  {
   "cell_type": "code",
   "execution_count": 40,
   "metadata": {
    "ExecuteTime": {
     "end_time": "2020-09-22T12:15:11.635847Z",
     "start_time": "2020-09-22T12:15:11.631002Z"
    }
   },
   "outputs": [
    {
     "name": "stdout",
     "output_type": "stream",
     "text": [
      "Number of validated nodes: 7\n"
     ]
    }
   ],
   "source": [
    "print('Number of validated nodes:', len(validated_nodes))"
   ]
  },
  {
   "cell_type": "code",
   "execution_count": 41,
   "metadata": {
    "ExecuteTime": {
     "end_time": "2020-09-22T12:15:12.611391Z",
     "start_time": "2020-09-22T12:15:12.598330Z"
    }
   },
   "outputs": [],
   "source": [
    "linked_nodes = set()\n",
    "for ns in heuristic_2_entity_node.values():\n",
    "    for n in ns:\n",
    "        linked_nodes.add(n)"
   ]
  },
  {
   "cell_type": "code",
   "execution_count": 42,
   "metadata": {
    "ExecuteTime": {
     "end_time": "2020-09-22T12:15:13.005385Z",
     "start_time": "2020-09-22T12:15:13.000820Z"
    }
   },
   "outputs": [
    {
     "data": {
      "text/plain": [
       "4600"
      ]
     },
     "execution_count": 42,
     "metadata": {},
     "output_type": "execute_result"
    }
   ],
   "source": [
    "len(linked_nodes)"
   ]
  },
  {
   "cell_type": "markdown",
   "metadata": {
    "ExecuteTime": {
     "end_time": "2020-09-21T13:21:34.642755Z",
     "start_time": "2020-09-21T13:21:34.638322Z"
    }
   },
   "source": [
    "# find indirect connection between gt entity and linked entity for unvalidated nodes"
   ]
  },
  {
   "cell_type": "markdown",
   "metadata": {
    "ExecuteTime": {
     "end_time": "2020-09-21T12:56:25.737701Z",
     "start_time": "2020-09-21T12:56:25.734634Z"
    }
   },
   "source": [
    "## find the minimum distance between the gt entity and the linked entities"
   ]
  },
  {
   "cell_type": "code",
   "execution_count": 72,
   "metadata": {
    "ExecuteTime": {
     "end_time": "2020-09-21T13:21:09.338449Z",
     "start_time": "2020-09-21T13:21:09.333910Z"
    }
   },
   "outputs": [],
   "source": [
    "# for node in gt_node_entity:\n",
    "#     if node not in validated_nodes:\n",
    "#         print('Node:', node)\n",
    "#         print('Alias:', node_aliases[node])\n",
    "#         print('GT entities:', gt_node_entity[node])\n",
    "#         print('Linked entities:', heuristic_2_node_entity_conf[node])\n",
    "#         print()"
   ]
  },
  {
   "cell_type": "code",
   "execution_count": 41,
   "metadata": {
    "ExecuteTime": {
     "end_time": "2020-09-22T10:46:10.390523Z",
     "start_time": "2020-09-22T10:46:10.379216Z"
    }
   },
   "outputs": [],
   "source": [
    "def get_entity_neighbors(entity, currency='btc'):\n",
    "    nbrs_out = get_entity_neighbors_out(entity, currency)\n",
    "    nbrs_in = get_entity_neighbors_in(entity, currency)\n",
    "    return nbrs_in.union(nbrs_out)\n",
    "\n",
    "def get_entity_neighbors_out(entity, currency='btc'):\n",
    "    # get all entities receiving money from this entity\n",
    "    neighbors_out = set()\n",
    "    url = api_path + currency + '/' + 'entities/' + str(entity) + '/neighbors?direction=out'\n",
    "    d = url2dict(url)\n",
    "    if 'neighbors' in d:\n",
    "        for n in d['neighbors']:\n",
    "            neighbors_out.add(int(n['id']))\n",
    "    return neighbors_out\n",
    "\n",
    "def get_entity_neighbors_in(entity, currency='btc'):\n",
    "    # get all entities sending money to this entity\n",
    "    neighbors_in = set()\n",
    "    url = api_path + currency + '/' + 'entities/' + str(entity) + '/neighbors?direction=in'\n",
    "    d = url2dict(url)\n",
    "    if 'neighbors' in d:\n",
    "        for n in d['neighbors']:\n",
    "            neighbors_in.add(int(n['id']))\n",
    "    return neighbors_in"
   ]
  },
  {
   "cell_type": "code",
   "execution_count": 42,
   "metadata": {
    "ExecuteTime": {
     "end_time": "2020-09-21T15:51:47.292058Z",
     "start_time": "2020-09-21T15:51:47.285179Z"
    }
   },
   "outputs": [],
   "source": [
    "gt_entity_hop_nbrs = dict() # key: gt_entity, value: dict of key: hop, value: neighbors"
   ]
  },
  {
   "cell_type": "code",
   "execution_count": 43,
   "metadata": {
    "ExecuteTime": {
     "end_time": "2020-09-21T15:52:01.846904Z",
     "start_time": "2020-09-21T15:52:01.844033Z"
    },
    "scrolled": true
   },
   "outputs": [],
   "source": [
    "# h = 1\n",
    "# for n, es in gt_node_entity.items():\n",
    "#     if n not in validated_nodes:\n",
    "#         print()\n",
    "#         print(n)\n",
    "#         for e in es:\n",
    "#             if e not in gt_entity_hop_nbrs:\n",
    "#                 gt_entity_hop_nbrs[e] = dict()\n",
    "#                 gt_entity_hop_nbrs[e][h] = set()\n",
    "#             # get neighbors at hop 1\n",
    "#             if not gt_entity_hop_nbrs[e][h] and e > 0:\n",
    "#                 print(e)\n",
    "#                 print('getting nbrs')\n",
    "#                 gt_entity_hop_nbrs[e][h] = gt_entity_hop_nbrs[e][h].union(get_entity_neighbors(e))"
   ]
  },
  {
   "cell_type": "markdown",
   "metadata": {
    "ExecuteTime": {
     "end_time": "2020-09-21T13:21:45.604224Z",
     "start_time": "2020-09-21T13:21:45.601241Z"
    }
   },
   "source": [
    "## check if there are nbrs of gt_entity in linked_entities"
   ]
  },
  {
   "cell_type": "code",
   "execution_count": 43,
   "metadata": {
    "ExecuteTime": {
     "end_time": "2020-09-22T10:46:33.662566Z",
     "start_time": "2020-09-22T10:46:33.658272Z"
    }
   },
   "outputs": [],
   "source": [
    "# for n, es in gt_node_entity.items():\n",
    "#     if n not in validated_nodes:\n",
    "#         for e in es:\n",
    "#             nbrs = gt_entity_hop_nbrs[e][h]\n",
    "#             nbrs_linked_entities_intersection = nbrs.intersection(heuristic_2_node_entity_conf[n])\n",
    "#             if nbrs_linked_entities_intersection:\n",
    "#                 print(e, len(nbrs_linked_entities_intersection), n)\n",
    "#                 validated_nodes.add(n)"
   ]
  },
  {
   "cell_type": "code",
   "execution_count": 43,
   "metadata": {
    "ExecuteTime": {
     "end_time": "2020-09-22T12:16:32.894866Z",
     "start_time": "2020-09-22T12:16:32.890107Z"
    }
   },
   "outputs": [],
   "source": [
    "validated_nodes.add('03fce165537aea120bffe8505876b44d5119354f825b3eac329b761fc5636bf334')\n",
    "validated_nodes.add('0311cad0edf4ac67298805cf4407d94358ca60cd44f2e360856f3b1c088bcd4782')"
   ]
  },
  {
   "cell_type": "code",
   "execution_count": 44,
   "metadata": {
    "ExecuteTime": {
     "end_time": "2020-09-22T12:16:37.591211Z",
     "start_time": "2020-09-22T12:16:37.588132Z"
    }
   },
   "outputs": [],
   "source": [
    "indirectly_validated_nodes = set()\n",
    "indirectly_validated_nodes.add('03fce165537aea120bffe8505876b44d5119354f825b3eac329b761fc5636bf334')\n",
    "indirectly_validated_nodes.add('0311cad0edf4ac67298805cf4407d94358ca60cd44f2e360856f3b1c088bcd4782')"
   ]
  },
  {
   "cell_type": "markdown",
   "metadata": {},
   "source": [
    "# count number of remote nodes that spent coins from settlements"
   ]
  },
  {
   "cell_type": "code",
   "execution_count": 46,
   "metadata": {
    "ExecuteTime": {
     "end_time": "2020-09-22T10:46:56.056801Z",
     "start_time": "2020-09-22T10:46:56.051748Z"
    },
    "scrolled": true
   },
   "outputs": [],
   "source": [
    "# for closed_channel in gt_outgoing_channels:\n",
    "#     funding_hsh, out_index = closed_channel['channel_point'].split(':')\n",
    "#     funded_address = funding_txs[funding_hsh]['vout'][int(out_index)]['scriptpubkey_address']\n",
    "#     stx = funded_address_settlement_txs[funded_address][0]\n",
    "#     # if there are two outputs, the first is remote and the second is local\n",
    "#     if len(stx['vout']) == 2:\n",
    "#         print(closed_channel['remote_pubkey'])\n",
    "#         print('Already validated:', closed_channel['remote_pubkey'] in validated_nodes)\n",
    "#         print(stx['txid'])\n",
    "#         print(stx['vout'][0]['scriptpubkey_address'])\n",
    "#         print()\n",
    "        "
   ]
  },
  {
   "cell_type": "code",
   "execution_count": 45,
   "metadata": {
    "ExecuteTime": {
     "end_time": "2020-09-22T12:17:01.284815Z",
     "start_time": "2020-09-22T12:17:01.281160Z"
    }
   },
   "outputs": [],
   "source": [
    "# manually checked,  spent before last_block = 647529\n",
    "settlement_txs_where_remote_spends_coins =[\n",
    "    'd6d658c4a13c8f2d2927a71e1cdd5ef310d7d9adb9f96774018276a3590c3788',\n",
    "    'be051cfb727c10c28c3975d8d32a0c29bb244b4f21bd14e2eab584219f496b27',\n",
    "    '9fa69e68dc5ce6525b3edeb7dba8f2d954adea3d82ca340a55b7157418d384c1',\n",
    "    '101c492db10266eb1c7cd63e00bcfbb9f60860a0badff6c7573b673f523b45f2',\n",
    "    'f65aef03e5a93d5acebf8135cd411ccf46013a957620eab2a5a95171327f4e93',\n",
    "    'e836d71d6cc8b5a79562b46890429a89ecc5e9e3be8cbc0203a1c00bd69c8d2a',\n",
    "    'fe9f60f930d1a7cad6b17923c8f3f041b5e2ba308447c73d82abc048389c930a',\n",
    "    '75f27715d27c6629673ddf080cf5267dc85bea40bf702fcb59377f82553b7e08',\n",
    "    '2894fac92b98402a993b6b57db0877db085d796978c89495b630871e12b2427f',\n",
    "    '4dd694546be280a08803b9e2eb9e15adfe0f4e4ef0f53567d9a7f183188ebcff',\n",
    "    '7e25d41fd47d10287e560c3d98cebe041c0f7ae57c1fff270ad662753ec706c0',\n",
    "    'f4c30c226bb4ce2c16673555768190318dd327bab9d06b51ff35a497483eff70',\n",
    "    '399cfcd171e69d7a0c150772bba5202850c0186e58d9b818cfaf6a4c74f567fa',\n",
    "    '05489ca075ff037934e734b893098559c10eabc953edca1cc2faa80fe1042582',\n",
    "]"
   ]
  },
  {
   "cell_type": "code",
   "execution_count": 46,
   "metadata": {
    "ExecuteTime": {
     "end_time": "2020-09-22T12:17:01.691986Z",
     "start_time": "2020-09-22T12:17:01.688492Z"
    }
   },
   "outputs": [],
   "source": [
    "def get_address_txs(address, currency='btc'):\n",
    "    url = api_path + currency + '/addresses/' + address \n",
    "    d = url2dict(url)\n",
    "    return d"
   ]
  },
  {
   "cell_type": "code",
   "execution_count": null,
   "metadata": {},
   "outputs": [],
   "source": [
    "# node_settlement_address_txs = dict()"
   ]
  },
  {
   "cell_type": "code",
   "execution_count": 226,
   "metadata": {
    "ExecuteTime": {
     "end_time": "2020-09-22T10:41:01.259407Z",
     "start_time": "2020-09-22T10:41:01.253827Z"
    }
   },
   "outputs": [],
   "source": [
    "# # check activity of node addresses not spending our coins\n",
    "# nodes_that_spent_our_coins = set()\n",
    "# for closed_channel in gt_outgoing_channels:\n",
    "#     funding_hsh, out_index = closed_channel['channel_point'].split(':')\n",
    "#     funded_address = funding_txs[funding_hsh]['vout'][int(out_index)]['scriptpubkey_address']\n",
    "#     stx = funded_address_settlement_txs[funded_address][0]\n",
    "#     # if there are two outputs, the first is remote and the second is local\n",
    "#     if len(stx['vout']) == 2:\n",
    "#         if stx['txid'] not in settlement_txs_where_remote_spends_coins:\n",
    "#             if closed_channel['remote_pubkey'] not in node_settlement_address_txs:\n",
    "#                 node_settlement_address_txs[closed_channel['remote_pubkey']] = dict()\n",
    "#             a = stx['vout'][0]['scriptpubkey_address']\n",
    "#             if a not in node_settlement_address_txs[closed_channel['remote_pubkey']]:\n",
    "#                 node_settlement_address_txs[closed_channel['remote_pubkey']][a] = get_address_txs(a)\n",
    "#             elif not node_settlement_address_txs[closed_channel['remote_pubkey']][a]:\n",
    "#                 node_settlement_address_txs[closed_channel['remote_pubkey']][a] = get_address_txs(a)            \n",
    "#         else:\n",
    "#             nodes_that_spent_our_coins.add(closed_channel['remote_pubkey'])\n",
    "# for node in nodes_that_spent_our_coins:\n",
    "#     node_settlement_address_txs.pop(node, None)"
   ]
  },
  {
   "cell_type": "code",
   "execution_count": 235,
   "metadata": {
    "ExecuteTime": {
     "end_time": "2020-09-22T10:44:18.643187Z",
     "start_time": "2020-09-22T10:44:18.640724Z"
    }
   },
   "outputs": [],
   "source": [
    "# write_json(node_settlement_address_txs, results_folder + 'node_settlement_address_txs.json')"
   ]
  },
  {
   "cell_type": "code",
   "execution_count": 47,
   "metadata": {
    "ExecuteTime": {
     "end_time": "2020-09-22T12:17:05.695166Z",
     "start_time": "2020-09-22T12:17:05.689637Z"
    }
   },
   "outputs": [],
   "source": [
    "node_settlement_address_txs = read_json(results_folder + 'node_settlement_address_txs.json')"
   ]
  },
  {
   "cell_type": "code",
   "execution_count": 48,
   "metadata": {
    "ExecuteTime": {
     "end_time": "2020-09-22T12:17:07.598960Z",
     "start_time": "2020-09-22T12:17:07.591424Z"
    }
   },
   "outputs": [
    {
     "name": "stdout",
     "output_type": "stream",
     "text": [
      "GT number of nodes that received our coins and did not spend them: 41\n"
     ]
    }
   ],
   "source": [
    "print('GT number of nodes that received our coins and did not spend them:', len(node_settlement_address_txs.keys()))"
   ]
  },
  {
   "cell_type": "code",
   "execution_count": 49,
   "metadata": {
    "ExecuteTime": {
     "end_time": "2020-09-22T12:17:08.271077Z",
     "start_time": "2020-09-22T12:17:08.262295Z"
    }
   },
   "outputs": [
    {
     "name": "stdout",
     "output_type": "stream",
     "text": [
      "GT number of addresses that received our coins and did not spend them 43\n"
     ]
    }
   ],
   "source": [
    "print('GT number of addresses that received our coins and did not spend them', sum([len(d.keys()) for d in node_settlement_address_txs.values()]))"
   ]
  },
  {
   "cell_type": "code",
   "execution_count": 50,
   "metadata": {
    "ExecuteTime": {
     "end_time": "2020-09-22T12:17:11.591372Z",
     "start_time": "2020-09-22T12:17:11.587942Z"
    }
   },
   "outputs": [],
   "source": [
    "node_address_no_spend = set()\n",
    "# the node receives coins on addresses that have only 1 incoming tx\n",
    "for node, d in node_settlement_address_txs.items():\n",
    "    discard = False # discard if address is not new or spent coins\n",
    "    for a, txs in d.items():\n",
    "        # discard if the address has more than 1 incoming tx or spent \n",
    "        if txs['no_incoming_txs'] > 1 or txs['no_outgoing_txs']: \n",
    "            discard = True\n",
    "    if not discard:\n",
    "        node_address_no_spend.add(node)"
   ]
  },
  {
   "cell_type": "code",
   "execution_count": 51,
   "metadata": {
    "ExecuteTime": {
     "end_time": "2020-09-22T12:17:12.381971Z",
     "start_time": "2020-09-22T12:17:12.373748Z"
    }
   },
   "outputs": [
    {
     "name": "stdout",
     "output_type": "stream",
     "text": [
      "GT number of nodes that did not reuse addresses, received our coins and never spent any coins: 41\n"
     ]
    }
   ],
   "source": [
    "print('GT number of nodes that did not reuse addresses, received our coins and never spent any coins:', len(node_address_no_spend))"
   ]
  },
  {
   "cell_type": "code",
   "execution_count": 52,
   "metadata": {
    "ExecuteTime": {
     "end_time": "2020-09-22T12:17:14.994190Z",
     "start_time": "2020-09-22T12:17:14.983627Z"
    }
   },
   "outputs": [],
   "source": [
    "received_spent_coins_nodes = set()\n",
    "for closed_channel in gt_outgoing_channels:\n",
    "    funding_hsh, out_index = closed_channel['channel_point'].split(':')\n",
    "    funded_address = funding_txs[funding_hsh]['vout'][int(out_index)]['scriptpubkey_address']\n",
    "    stx = funded_address_settlement_txs[funded_address][0]\n",
    "    # if there are two outputs, the first is remote and the second is local\n",
    "    if len(stx['vout']) == 2 and stx['txid'] in settlement_txs_where_remote_spends_coins:\n",
    "        received_spent_coins_nodes.add(closed_channel['remote_pubkey'])"
   ]
  },
  {
   "cell_type": "code",
   "execution_count": 53,
   "metadata": {
    "ExecuteTime": {
     "end_time": "2020-09-22T12:17:15.507369Z",
     "start_time": "2020-09-22T12:17:15.500826Z"
    }
   },
   "outputs": [
    {
     "name": "stdout",
     "output_type": "stream",
     "text": [
      "GT number of nodes that received and spent our coins: 11\n"
     ]
    }
   ],
   "source": [
    "print('GT number of nodes that received and spent our coins:', len(received_spent_coins_nodes))"
   ]
  },
  {
   "cell_type": "code",
   "execution_count": 54,
   "metadata": {
    "ExecuteTime": {
     "end_time": "2020-09-22T12:17:16.197205Z",
     "start_time": "2020-09-22T12:17:16.187750Z"
    }
   },
   "outputs": [
    {
     "name": "stdout",
     "output_type": "stream",
     "text": [
      "GT number of nodes that received and spent our coins and are validated: 7\n"
     ]
    }
   ],
   "source": [
    "print('GT number of nodes that received and spent our coins and are validated:', len(received_spent_coins_nodes.intersection(validated_nodes)))"
   ]
  },
  {
   "cell_type": "code",
   "execution_count": 55,
   "metadata": {
    "ExecuteTime": {
     "end_time": "2020-09-22T12:17:17.223559Z",
     "start_time": "2020-09-22T12:17:17.219868Z"
    }
   },
   "outputs": [],
   "source": [
    "received_coins_linked_nodes = received_coins_nodes.intersection(set(heuristic_2_node_entity_conf.keys()))"
   ]
  },
  {
   "cell_type": "code",
   "execution_count": 56,
   "metadata": {
    "ExecuteTime": {
     "end_time": "2020-09-22T12:17:17.980886Z",
     "start_time": "2020-09-22T12:17:17.972336Z"
    }
   },
   "outputs": [
    {
     "name": "stdout",
     "output_type": "stream",
     "text": [
      "GT number of nodes that received our coins and were linked with our heuristic: 52\n"
     ]
    }
   ],
   "source": [
    "print('GT number of nodes that received our coins and were linked with our heuristic:', len(received_coins_linked_nodes))"
   ]
  },
  {
   "cell_type": "code",
   "execution_count": 57,
   "metadata": {
    "ExecuteTime": {
     "end_time": "2020-09-22T12:17:21.412151Z",
     "start_time": "2020-09-22T12:17:21.397466Z"
    }
   },
   "outputs": [
    {
     "name": "stdout",
     "output_type": "stream",
     "text": [
      "Incoming\n",
      "Number of nodes that opened channels to us: 3\n",
      "Number of nodes that opened channels to us and are validated: 2\n",
      "\n",
      "Outgoing\n",
      "Number of channels we opened and closed: 81\n",
      "Number of nodes with which we closed a channel: 73\n",
      "Number of nodes that received coins from us: 52\n",
      "Number of nodes that received and spent our coins: 11\n",
      "Number of nodes that received and spent our coins and are validated: 7\n",
      "Number of nodes that received our coins and were linked with our heuristic: 52\n",
      "Number of nodes that received our coins using new addresses which never spent any coins: 41\n",
      "\n",
      "Total\n",
      "Number of validated nodes: 9\n"
     ]
    }
   ],
   "source": [
    "print('Incoming')\n",
    "print('Number of nodes that opened channels to us:', len(nodes_opened_channels_to_us))\n",
    "print('Number of nodes that opened channels to us and are validated:', len(nodes_opened_channels_to_us.intersection(validated_nodes)))\n",
    "print()\n",
    "print('Outgoing')\n",
    "print('Number of channels we opened and closed:', len(gt_outgoing_channel_points))\n",
    "print('Number of nodes with which we closed a channel:', len(closed_channel_nodes))\n",
    "print('Number of nodes that received coins from us:', len(received_coins_nodes))\n",
    "print('Number of nodes that received and spent our coins:', len(received_spent_coins_nodes))\n",
    "print('Number of nodes that received and spent our coins and are validated:', len(received_spent_coins_nodes.intersection(validated_nodes)))\n",
    "print('Number of nodes that received our coins and were linked with our heuristic:', len(received_coins_linked_nodes))\n",
    "print('Number of nodes that received our coins using new addresses which never spent any coins:', len(node_address_no_spend))\n",
    "print()\n",
    "print('Total')\n",
    "print('Number of validated nodes:', len(validated_nodes))\n",
    "\n"
   ]
  },
  {
   "cell_type": "code",
   "execution_count": 60,
   "metadata": {
    "ExecuteTime": {
     "end_time": "2020-09-23T08:25:07.982088Z",
     "start_time": "2020-09-23T08:25:07.976336Z"
    }
   },
   "outputs": [
    {
     "name": "stdout",
     "output_type": "stream",
     "text": [
      "nNodesOpenedChannelsToUs: 3\n",
      "nNodesOpenedChannelsToUsValidated: 2\n",
      "nChannelsWeOpenedAndClosed: 81\n",
      "nNodesWeClosedChannelWith: 73\n",
      "nNodesReceivedOurCoins: 52\n",
      "nNodesReceivedSpentOurCoins: 11\n",
      "nNodesReceivedSpentOurCoinsValidates: 7\n",
      "nNodesReceivedOurCoinsLinked: 52\n",
      "nNodesReceivedOurCoinsNewAddressUnspent: 41\n",
      "nNodesValidated: 9\n"
     ]
    }
   ],
   "source": [
    "print('nNodesOpenedChannelsToUs:', len(nodes_opened_channels_to_us))\n",
    "print('nNodesOpenedChannelsToUsValidated:', len(nodes_opened_channels_to_us.intersection(validated_nodes)))\n",
    "print('nChannelsWeOpenedAndClosed:', len(gt_outgoing_channel_points))\n",
    "print('nNodesWeClosedChannelWith:', len(closed_channel_nodes))\n",
    "print('nNodesReceivedOurCoins:', len(received_coins_nodes))\n",
    "print('nNodesReceivedSpentOurCoins:', len(received_spent_coins_nodes))\n",
    "print('nNodesReceivedSpentOurCoinsValidates:', len(received_spent_coins_nodes.intersection(validated_nodes)))\n",
    "print('nNodesReceivedOurCoinsLinked:', len(received_coins_linked_nodes))\n",
    "print('nNodesReceivedOurCoinsNewAddressUnspent:', len(node_address_no_spend))\n",
    "print('nNodesValidated:', len(validated_nodes))\n",
    "\n"
   ]
  },
  {
   "cell_type": "code",
   "execution_count": 62,
   "metadata": {
    "ExecuteTime": {
     "end_time": "2020-09-23T10:18:09.818349Z",
     "start_time": "2020-09-23T10:18:09.805400Z"
    }
   },
   "outputs": [
    {
     "data": {
      "text/plain": [
       "58"
      ]
     },
     "execution_count": 62,
     "metadata": {},
     "output_type": "execute_result"
    }
   ],
   "source": [
    "n_stxs_two_outputs = 0\n",
    "for ct in gt_outgoing_channels:\n",
    "    hsh = ct['closing_tx_hash']\n",
    "    l = len(settlement_txs[hsh]['vout'])\n",
    "    if l == 2:\n",
    "        n_stxs_two_outputs += 1\n",
    "print('GT number of settlement txs with two outputs', n_stxs_two_outputs)"
   ]
  },
  {
   "cell_type": "code",
   "execution_count": 63,
   "metadata": {
    "ExecuteTime": {
     "end_time": "2020-09-23T10:18:59.873360Z",
     "start_time": "2020-09-23T10:18:59.869325Z"
    }
   },
   "outputs": [
    {
     "name": "stdout",
     "output_type": "stream",
     "text": [
      "nSettlementTxsWithTwoOutputs 58\n"
     ]
    }
   ],
   "source": [
    "n_stxs_two_outputs = 0\n",
    "for ct in gt_outgoing_channels:\n",
    "    hsh = ct['closing_tx_hash']\n",
    "    l = len(settlement_txs[hsh]['vout'])\n",
    "    if l == 2:\n",
    "        n_stxs_two_outputs += 1\n",
    "print('nSettlementTxsWithTwoOutputs', n_stxs_two_outputs)"
   ]
  },
  {
   "cell_type": "code",
   "execution_count": 65,
   "metadata": {
    "ExecuteTime": {
     "end_time": "2020-09-23T20:36:58.876738Z",
     "start_time": "2020-09-23T20:36:58.871465Z"
    }
   },
   "outputs": [
    {
     "data": {
      "text/plain": [
       "146"
      ]
     },
     "execution_count": 65,
     "metadata": {},
     "output_type": "execute_result"
    }
   ],
   "source": [
    "len(gt_entity_node)"
   ]
  },
  {
   "cell_type": "code",
   "execution_count": 66,
   "metadata": {
    "ExecuteTime": {
     "end_time": "2020-09-23T20:37:18.478767Z",
     "start_time": "2020-09-23T20:37:18.470727Z"
    }
   },
   "outputs": [
    {
     "data": {
      "text/plain": [
       "{702942679: {'025228840b37ade9aa2f96b3c961a35e76571a7c87a4ee67e2f33c64de64aa822f'},\n",
       " 702942707: {'025228840b37ade9aa2f96b3c961a35e76571a7c87a4ee67e2f33c64de64aa822f'},\n",
       " 702942677: {'025228840b37ade9aa2f96b3c961a35e76571a7c87a4ee67e2f33c64de64aa822f'},\n",
       " 702942754: {'025228840b37ade9aa2f96b3c961a35e76571a7c87a4ee67e2f33c64de64aa822f'},\n",
       " 702943095: {'025228840b37ade9aa2f96b3c961a35e76571a7c87a4ee67e2f33c64de64aa822f'},\n",
       " 702942676: {'025228840b37ade9aa2f96b3c961a35e76571a7c87a4ee67e2f33c64de64aa822f'},\n",
       " 702942672: {'025228840b37ade9aa2f96b3c961a35e76571a7c87a4ee67e2f33c64de64aa822f'},\n",
       " 702942682: {'025228840b37ade9aa2f96b3c961a35e76571a7c87a4ee67e2f33c64de64aa822f'},\n",
       " 702942683: {'025228840b37ade9aa2f96b3c961a35e76571a7c87a4ee67e2f33c64de64aa822f'},\n",
       " 702942671: {'025228840b37ade9aa2f96b3c961a35e76571a7c87a4ee67e2f33c64de64aa822f'},\n",
       " 702649586: {'025228840b37ade9aa2f96b3c961a35e76571a7c87a4ee67e2f33c64de64aa822f'},\n",
       " 702801206: {'025228840b37ade9aa2f96b3c961a35e76571a7c87a4ee67e2f33c64de64aa822f'},\n",
       " 702436355: {'025228840b37ade9aa2f96b3c961a35e76571a7c87a4ee67e2f33c64de64aa822f'},\n",
       " 702810244: {'025228840b37ade9aa2f96b3c961a35e76571a7c87a4ee67e2f33c64de64aa822f'},\n",
       " 702801158: {'025228840b37ade9aa2f96b3c961a35e76571a7c87a4ee67e2f33c64de64aa822f'},\n",
       " 702423629: {'025228840b37ade9aa2f96b3c961a35e76571a7c87a4ee67e2f33c64de64aa822f'},\n",
       " 702801160: {'025228840b37ade9aa2f96b3c961a35e76571a7c87a4ee67e2f33c64de64aa822f'},\n",
       " 702170844: {'025228840b37ade9aa2f96b3c961a35e76571a7c87a4ee67e2f33c64de64aa822f'},\n",
       " 702230051: {'025228840b37ade9aa2f96b3c961a35e76571a7c87a4ee67e2f33c64de64aa822f'},\n",
       " 702423610: {'025228840b37ade9aa2f96b3c961a35e76571a7c87a4ee67e2f33c64de64aa822f'},\n",
       " 702272265: {'025228840b37ade9aa2f96b3c961a35e76571a7c87a4ee67e2f33c64de64aa822f'},\n",
       " 702275848: {'025228840b37ade9aa2f96b3c961a35e76571a7c87a4ee67e2f33c64de64aa822f'},\n",
       " 702627294: {'025228840b37ade9aa2f96b3c961a35e76571a7c87a4ee67e2f33c64de64aa822f'},\n",
       " 702667744: {'025228840b37ade9aa2f96b3c961a35e76571a7c87a4ee67e2f33c64de64aa822f'},\n",
       " 702667748: {'025228840b37ade9aa2f96b3c961a35e76571a7c87a4ee67e2f33c64de64aa822f'},\n",
       " 701936419: {'025228840b37ade9aa2f96b3c961a35e76571a7c87a4ee67e2f33c64de64aa822f'},\n",
       " 702651452: {'025228840b37ade9aa2f96b3c961a35e76571a7c87a4ee67e2f33c64de64aa822f'},\n",
       " 702651455: {'025228840b37ade9aa2f96b3c961a35e76571a7c87a4ee67e2f33c64de64aa822f'},\n",
       " 702213504: {'025228840b37ade9aa2f96b3c961a35e76571a7c87a4ee67e2f33c64de64aa822f'},\n",
       " 702667746: {'025228840b37ade9aa2f96b3c961a35e76571a7c87a4ee67e2f33c64de64aa822f'},\n",
       " 702673296: {'025228840b37ade9aa2f96b3c961a35e76571a7c87a4ee67e2f33c64de64aa822f'},\n",
       " 702673295: {'025228840b37ade9aa2f96b3c961a35e76571a7c87a4ee67e2f33c64de64aa822f'},\n",
       " 702676973: {'025228840b37ade9aa2f96b3c961a35e76571a7c87a4ee67e2f33c64de64aa822f'},\n",
       " 702713009: {'025228840b37ade9aa2f96b3c961a35e76571a7c87a4ee67e2f33c64de64aa822f'},\n",
       " 702683616: {'025228840b37ade9aa2f96b3c961a35e76571a7c87a4ee67e2f33c64de64aa822f'},\n",
       " 702710180: {'025228840b37ade9aa2f96b3c961a35e76571a7c87a4ee67e2f33c64de64aa822f'},\n",
       " 702761911: {'025228840b37ade9aa2f96b3c961a35e76571a7c87a4ee67e2f33c64de64aa822f'},\n",
       " 702676960: {'025228840b37ade9aa2f96b3c961a35e76571a7c87a4ee67e2f33c64de64aa822f'},\n",
       " 699910001: {'025228840b37ade9aa2f96b3c961a35e76571a7c87a4ee67e2f33c64de64aa822f'},\n",
       " 702179527: {'025228840b37ade9aa2f96b3c961a35e76571a7c87a4ee67e2f33c64de64aa822f'},\n",
       " 702191937: {'025228840b37ade9aa2f96b3c961a35e76571a7c87a4ee67e2f33c64de64aa822f'},\n",
       " 702801196: {'025228840b37ade9aa2f96b3c961a35e76571a7c87a4ee67e2f33c64de64aa822f'},\n",
       " 702627022: {'025228840b37ade9aa2f96b3c961a35e76571a7c87a4ee67e2f33c64de64aa822f'},\n",
       " 702649566: {'025228840b37ade9aa2f96b3c961a35e76571a7c87a4ee67e2f33c64de64aa822f'},\n",
       " 702814225: {'025228840b37ade9aa2f96b3c961a35e76571a7c87a4ee67e2f33c64de64aa822f'},\n",
       " 702801156: {'025228840b37ade9aa2f96b3c961a35e76571a7c87a4ee67e2f33c64de64aa822f'},\n",
       " 702727636: {'025228840b37ade9aa2f96b3c961a35e76571a7c87a4ee67e2f33c64de64aa822f'},\n",
       " 702759613: {'025228840b37ade9aa2f96b3c961a35e76571a7c87a4ee67e2f33c64de64aa822f'},\n",
       " 702743865: {'025228840b37ade9aa2f96b3c961a35e76571a7c87a4ee67e2f33c64de64aa822f'},\n",
       " 702800927: {'025228840b37ade9aa2f96b3c961a35e76571a7c87a4ee67e2f33c64de64aa822f'},\n",
       " 702800665: {'025228840b37ade9aa2f96b3c961a35e76571a7c87a4ee67e2f33c64de64aa822f'},\n",
       " 702817102: {'025228840b37ade9aa2f96b3c961a35e76571a7c87a4ee67e2f33c64de64aa822f'},\n",
       " 702817039: {'025228840b37ade9aa2f96b3c961a35e76571a7c87a4ee67e2f33c64de64aa822f'},\n",
       " 702817041: {'025228840b37ade9aa2f96b3c961a35e76571a7c87a4ee67e2f33c64de64aa822f'},\n",
       " 702816447: {'025228840b37ade9aa2f96b3c961a35e76571a7c87a4ee67e2f33c64de64aa822f'},\n",
       " 702817076: {'025228840b37ade9aa2f96b3c961a35e76571a7c87a4ee67e2f33c64de64aa822f'},\n",
       " 702817096: {'025228840b37ade9aa2f96b3c961a35e76571a7c87a4ee67e2f33c64de64aa822f'},\n",
       " 700366417: {'025228840b37ade9aa2f96b3c961a35e76571a7c87a4ee67e2f33c64de64aa822f'},\n",
       " 700909370: {'025228840b37ade9aa2f96b3c961a35e76571a7c87a4ee67e2f33c64de64aa822f'},\n",
       " 701969681: {'025228840b37ade9aa2f96b3c961a35e76571a7c87a4ee67e2f33c64de64aa822f'},\n",
       " 701986128: {'025228840b37ade9aa2f96b3c961a35e76571a7c87a4ee67e2f33c64de64aa822f'},\n",
       " 701997093: {'025228840b37ade9aa2f96b3c961a35e76571a7c87a4ee67e2f33c64de64aa822f'},\n",
       " 702012094: {'025228840b37ade9aa2f96b3c961a35e76571a7c87a4ee67e2f33c64de64aa822f'},\n",
       " 702018206: {'025228840b37ade9aa2f96b3c961a35e76571a7c87a4ee67e2f33c64de64aa822f'},\n",
       " 702049216: {'025228840b37ade9aa2f96b3c961a35e76571a7c87a4ee67e2f33c64de64aa822f'},\n",
       " 702052427: {'025228840b37ade9aa2f96b3c961a35e76571a7c87a4ee67e2f33c64de64aa822f'},\n",
       " 702058510: {'025228840b37ade9aa2f96b3c961a35e76571a7c87a4ee67e2f33c64de64aa822f'},\n",
       " 702069343: {'025228840b37ade9aa2f96b3c961a35e76571a7c87a4ee67e2f33c64de64aa822f'},\n",
       " 702082938: {'025228840b37ade9aa2f96b3c961a35e76571a7c87a4ee67e2f33c64de64aa822f'},\n",
       " 702101637: {'025228840b37ade9aa2f96b3c961a35e76571a7c87a4ee67e2f33c64de64aa822f'},\n",
       " 702120957: {'025228840b37ade9aa2f96b3c961a35e76571a7c87a4ee67e2f33c64de64aa822f'},\n",
       " 702156828: {'025228840b37ade9aa2f96b3c961a35e76571a7c87a4ee67e2f33c64de64aa822f'},\n",
       " 702174191: {'025228840b37ade9aa2f96b3c961a35e76571a7c87a4ee67e2f33c64de64aa822f'},\n",
       " 702410214: {'025228840b37ade9aa2f96b3c961a35e76571a7c87a4ee67e2f33c64de64aa822f'},\n",
       " 702392821: {'025228840b37ade9aa2f96b3c961a35e76571a7c87a4ee67e2f33c64de64aa822f'},\n",
       " 702839525: {'025228840b37ade9aa2f96b3c961a35e76571a7c87a4ee67e2f33c64de64aa822f'},\n",
       " 702926685: {'025228840b37ade9aa2f96b3c961a35e76571a7c87a4ee67e2f33c64de64aa822f'},\n",
       " 702839520: {'025228840b37ade9aa2f96b3c961a35e76571a7c87a4ee67e2f33c64de64aa822f'},\n",
       " 702839537: {'025228840b37ade9aa2f96b3c961a35e76571a7c87a4ee67e2f33c64de64aa822f'},\n",
       " 700855070: {'03864ef025fde8fb587d989186ce6a4a186895ee44a926bfc370e2c366597a3f8f'},\n",
       " 700906822: {'02bb24da3d0fb0793f4918c7599f973cc402f0912ec3fb530470f1fc08bdd6ecb5'},\n",
       " 700921326: {'025228840b37ade9aa2f96b3c961a35e76571a7c87a4ee67e2f33c64de64aa822f'},\n",
       " 700921325: {'02de11c748f5b25cfd2ce801176d3926bfde4de23b1ff43e692a5b76cf06805e4a'},\n",
       " 702032339: {'03da1c27ca77872ac5b3e568af30673e599a47a5e4497f85c7b5da42048807b3ed'},\n",
       " 701665466: {'02bb24da3d0fb0793f4918c7599f973cc402f0912ec3fb530470f1fc08bdd6ecb5'},\n",
       " 701778637: {'02de11c748f5b25cfd2ce801176d3926bfde4de23b1ff43e692a5b76cf06805e4a'},\n",
       " 701999821: {'03fb822818be083e0a954db85257a2911a3d55458b8c1ea4124b157e865a836d12'},\n",
       " 702049215: {'03bc9337c7a28bb784d67742ebedd30a93bacdf7e4ca16436ef3798000242b2251'},\n",
       " 702145255: {'0303a518845db99994783f606e6629e705cfaf072e5ce9a4d8bf9e249de4fbd019'},\n",
       " 701710153: {'03fce165537aea120bffe8505876b44d5119354f825b3eac329b761fc5636bf334'},\n",
       " 701940461: {'031ce29116eab7edd66148f5169f1fb658fad62bdc5091221ab895fe5d36db00b2'},\n",
       " 702082937: {'0395da6cacca76402fa9483650c3f70e5de64eb4dfa5f134bdded9214a657c4336'},\n",
       " 702110475: {'0311cad0edf4ac67298805cf4407d94358ca60cd44f2e360856f3b1c088bcd4782'},\n",
       " 702136364: {'025228840b37ade9aa2f96b3c961a35e76571a7c87a4ee67e2f33c64de64aa822f'},\n",
       " 702161560: {'03b5effc7e8402297e7bebf2358832a4e4ef8b35b2205d9575bcd80324c20da929'},\n",
       " 702170843: {'02ad6fb8d693dc1e4569bcedefadf5f72a931ae027dc0f0c544b34c1c6f3b9a02b'},\n",
       " 702191936: {'02ad6fb8d693dc1e4569bcedefadf5f72a931ae027dc0f0c544b34c1c6f3b9a02b'},\n",
       " 702191941: {'02c8d60f7b374fd20e8fcb6e31eac30a338f11cf6c0075cad0307b5311f5b9ab28'},\n",
       " 702272266: {'021ec9dcb5db6b31433ad864b64d278a556d56576673db889cb05099d57c01988b'},\n",
       " 702272264: {'03abf6f44c355dec0d5aa155bdbdd6e0c8fefe318eff402de65c6eb2e1be55dc3e'},\n",
       " 702275847: {'024794d1446e510c75f84bbd75cc151124522aed03ad75a20f1708f77e5f3e674a'},\n",
       " 702410213: {'03abf6f44c355dec0d5aa155bdbdd6e0c8fefe318eff402de65c6eb2e1be55dc3e'},\n",
       " 702410217: {'032d4baebebfdeab7a2ecef2fbe109cbef10de95f05aa54090fdb687789547dbf5'},\n",
       " 702423628: {'0298f6074a454a1f5345cb2a7c6f9fce206cd0bf675d177cdbf0ca7508dd28852f'},\n",
       " 702423609: {'03d6fa9c7361f87710be0bbe8e97fadbcfb89d700c8bb1a29f736b5927b7a69576'},\n",
       " 702627293: {'02ca4c46faa50b2d961f4ad2e9d00c90826077b6a282b71079a88cb29a34b8c84a'},\n",
       " 702627021: {'02529db69fd2ebd3126fb66fafa234fc3544477a23d509fe93ed229bb0e92e4fb8'},\n",
       " 702795266: {'025228840b37ade9aa2f96b3c961a35e76571a7c87a4ee67e2f33c64de64aa822f'},\n",
       " 702801207: {'03a503d8e30f2ff407096d235b5db63b4fcf3f89a653acb6f43d3fc492a7674019'},\n",
       " 702801159: {'0260fab633066ed7b1d9b9b8a0fac87e1579d1709e874d28a0d171a1f5c43bb877'},\n",
       " 702801201: {'037f990e61acee8a7697966afd29dd88f3b1f8a7b14d625c4f8742bd952003a590'},\n",
       " 702801203: {'0391489a933ab83094d1af43b3df3e8c8d467474649361912f05211d0e68a28fc9'},\n",
       " 702801199: {'0224ad133dae522f2708e6b653bb9b38f0951c3341c75356114e6d1e4210373b41'},\n",
       " 702801195: {'0296adf9e61f6bff957496ed2c6261daaf74f4d4511037b67f1d9b6144ec9e0140'},\n",
       " 702801155: {'0395033b252c6f40e3756984162d68174e2bd8060a129c0d3462a9370471c6d28f'},\n",
       " 702801157: {'02459b759a62bc3ebfe98a320da237944cc4f35456384bd8fdefa7d0340c75f46f'},\n",
       " 702801205: {'022b213281fad5065c66ed53a53198a04b4cb528ce92d76ed0175471b93f1db74f'},\n",
       " 702801197: {'031678745383bd273b4c3dbefc8ffbf4847d85c2f62d3407c0c980430b3257c403'},\n",
       " 702800959: {'021607cfce19a4c5e7e6e738663dfafbbbac262e4ff76c2c9b30dbeefc35c00643'},\n",
       " 702810241: {'02004c625d622245606a1ea2c1c69cfb4516b703b47945a3647713c05fe4aaeb1c'},\n",
       " 702810243: {'0206722d0f786ae2bf4779675b5b7d91ae334fc59992f98528f30a83b91e3c8b8f'},\n",
       " 702814224: {'03668e08fefdc45f91d21dada56f7fed9424dc1092390b88e34a4f119fa4a9e002'},\n",
       " 702816442: {'024655b768ef40951b20053a5c4b951606d4d86085d51238f2c67c7dec29c792ca'},\n",
       " 702816446: {'03902356d26efdc0812726c31a1a2e0d721f26063dd252ac89ded8280037e9ece8'},\n",
       " 702942965: {'03d2a44997a0fb6deee0a31c389d9d6bcb6f929f1dd0ba67201d195f2b3c76087c'},\n",
       " 702942862: {'0283065d6d5b1fbeaa1f21e62755b4b834c4fabd2765d9522f5a79ec216fec3013'},\n",
       " 702942753: {'031ec92368cc9ae9dd1e204c57313aa7c30aa079b195e94933c418e503bfabbe8d'},\n",
       " 702942860: {'032dc8ddcc3f220eeb83c7df6977118b7c2090dbd9a7639674d292da02cb873346'},\n",
       " 702943094: {'02e9046555a9665145b0dbd7f135744598418df7d61d3660659641886ef1274844'},\n",
       " 703090800: {'025228840b37ade9aa2f96b3c961a35e76571a7c87a4ee67e2f33c64de64aa822f'},\n",
       " 703090799: {'033a83907e818490946627b44f889cce154c90dd5c0f5a7ff47f517b49f4836c02'},\n",
       " 703090777: {'025228840b37ade9aa2f96b3c961a35e76571a7c87a4ee67e2f33c64de64aa822f'},\n",
       " 703090751: {'02d147d5b634e3ef558461f7571099ce4e2b04dd831d9d0f2c2ecbc1cd814cae20'},\n",
       " 703090797: {'025228840b37ade9aa2f96b3c961a35e76571a7c87a4ee67e2f33c64de64aa822f'},\n",
       " 703090796: {'02888244029c5909593038ab19f269947c720de3423e491791b46c7c92f76279b6'},\n",
       " 703090749: {'0255b0812589b3d10657655394bea298cd9f2033d9220f313607eb495291f2a729'},\n",
       " 703090802: {'03cd8d692b963b5abcd451607ab7a8a9c1eeee69df1adb3c1ac575e1f8be3b8fee'},\n",
       " 703090723: {'025228840b37ade9aa2f96b3c961a35e76571a7c87a4ee67e2f33c64de64aa822f'},\n",
       " 703090778: {'02e2bf9e87c7ba0ea046882d9b3301ca9a3b049aa920dccbd836c4008eac32d4e5'},\n",
       " 703090922: {'02b1de90cd9aaca5b9b74f473e770bbee62df0645ea12e33ebcad8cd18a5f20093'},\n",
       " 703090776: {'02775fa86a65cee7d22e27bdc9a8a963d58705246f29ec200b97102c8106b4f4b8'},\n",
       " 703090748: {'025228840b37ade9aa2f96b3c961a35e76571a7c87a4ee67e2f33c64de64aa822f'},\n",
       " 703090747: {'037fed8dc1b6001e9cf8ed74e2d5b7f52830c75512dfc414adf5e0a218281d93f3'},\n",
       " 695187113: {'03bc9337c7a28bb784d67742ebedd30a93bacdf7e4ca16436ef3798000242b2251'},\n",
       " -432: {'024d2387409269f3b79e2708bb39b895c9f4b6a8322153af54eba487d4993bf60f'},\n",
       " -197: {'030c3f19d742ca294a55c00376b3b355c3c90d61c6b6b39554dbc7ac19b141c14f'}}"
      ]
     },
     "execution_count": 66,
     "metadata": {},
     "output_type": "execute_result"
    }
   ],
   "source": [
    "gt_entity_node"
   ]
  },
  {
   "cell_type": "markdown",
   "metadata": {},
   "source": [
    "### missing validations"
   ]
  },
  {
   "cell_type": "code",
   "execution_count": 78,
   "metadata": {
    "ExecuteTime": {
     "end_time": "2020-09-22T12:11:36.959384Z",
     "start_time": "2020-09-22T12:11:36.951917Z"
    }
   },
   "outputs": [
    {
     "name": "stdout",
     "output_type": "stream",
     "text": [
      "0303a518845db99994783f606e6629e705cfaf072e5ce9a4d8bf9e249de4fbd019\n",
      "{'LNBIG.com [lnd-25]'}\n",
      "{702145255}\n",
      "83\n",
      "\n",
      "03864ef025fde8fb587d989186ce6a4a186895ee44a926bfc370e2c366597a3f8f\n",
      "{'ACINQ'}\n",
      "{700855070}\n",
      "375\n",
      "\n",
      "031ce29116eab7edd66148f5169f1fb658fad62bdc5091221ab895fe5d36db00b2\n",
      "{'LNBIG.com [lnd-05]'}\n",
      "{701940461}\n",
      "93\n",
      "\n",
      "032d4baebebfdeab7a2ecef2fbe109cbef10de95f05aa54090fdb687789547dbf5\n",
      "{'CONNECT_WITH_ME'}\n",
      "{702410217}\n",
      "25\n",
      "\n"
     ]
    }
   ],
   "source": [
    "for n in received_spent_coins_nodes:\n",
    "    if n not in validated_nodes:\n",
    "        print(n)\n",
    "        print(node_aliases[n])\n",
    "        print(gt_node_entity[n])\n",
    "        print(len(heuristic_2_node_entity_conf[n]))\n",
    "        print()"
   ]
  }
 ],
 "metadata": {
  "kernelspec": {
   "display_name": "Python 3",
   "language": "python",
   "name": "python3"
  },
  "language_info": {
   "codemirror_mode": {
    "name": "ipython",
    "version": 3
   },
   "file_extension": ".py",
   "mimetype": "text/x-python",
   "name": "python",
   "nbconvert_exporter": "python",
   "pygments_lexer": "ipython3",
   "version": "3.6.9"
  }
 },
 "nbformat": 4,
 "nbformat_minor": 2
}
