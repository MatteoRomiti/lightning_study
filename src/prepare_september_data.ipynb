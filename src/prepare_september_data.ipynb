{
 "cells": [
  {
   "cell_type": "code",
   "execution_count": 1,
   "metadata": {
    "ExecuteTime": {
     "end_time": "2020-09-15T20:37:20.650225Z",
     "start_time": "2020-09-15T20:37:20.172467Z"
    }
   },
   "outputs": [],
   "source": [
    "from utils import *\n",
    "from api_calls import *\n",
    "import pandas as pd\n",
    "from time import sleep"
   ]
  },
  {
   "cell_type": "code",
   "execution_count": 298,
   "metadata": {
    "ExecuteTime": {
     "end_time": "2020-09-17T11:51:24.399263Z",
     "start_time": "2020-09-17T11:51:24.387940Z"
    }
   },
   "outputs": [],
   "source": [
    "gt_closed_channels = read_json(results_folder + 'closedchannels.json')['channels']"
   ]
  },
  {
   "cell_type": "code",
   "execution_count": 473,
   "metadata": {
    "ExecuteTime": {
     "end_time": "2020-09-17T13:23:25.516057Z",
     "start_time": "2020-09-17T13:23:23.737216Z"
    }
   },
   "outputs": [],
   "source": [
    "# # read old data\n",
    "# funding_txs = read_json(level1_folder + 'funding_txs.json')\n",
    "# ###############\n",
    "# channels = pd.read_csv(level2_folder + 'channel.csv')\n",
    "# nodes = pd.read_csv(level2_folder + 'node.csv')\n",
    "# ip_addresses = pd.read_csv(level2_folder + 'ip_address.csv')"
   ]
  },
  {
   "cell_type": "code",
   "execution_count": 474,
   "metadata": {
    "ExecuteTime": {
     "end_time": "2020-09-17T13:23:25.804694Z",
     "start_time": "2020-09-17T13:23:25.517900Z"
    }
   },
   "outputs": [],
   "source": [
    "# read new data\n",
    "## friedhelm\n",
    "channels_friedhelm = pd.read_csv('../data/friedhelm/channels020120-090920.csv').drop(columns=['first_seen'])\n",
    "nodes_friedhelm = pd.read_csv('../data/friedhelm/node020120-090920.csv')\n",
    "ip_addresses_friedhelm = pd.read_csv('../data/friedhelm/ip_address020120-090920.csv')"
   ]
  },
  {
   "cell_type": "code",
   "execution_count": null,
   "metadata": {},
   "outputs": [],
   "source": [
    "# read new data\n",
    "## peter\n",
    "channels_peter = pd.read_csv('../data/peter/for_matteo/channels.csv')\n",
    "nodes_peter = pd.read_csv('../data/peter/for_matteo/nodes.csv')\n",
    "# read gt data\n",
    "gt_channels = pd.read_csv('../data/joined/level_2/ground_truth_channel.csv')"
   ]
  },
  {
   "cell_type": "markdown",
   "metadata": {},
   "source": [
    "# merge ip addresses"
   ]
  },
  {
   "cell_type": "code",
   "execution_count": 475,
   "metadata": {
    "ExecuteTime": {
     "end_time": "2020-09-17T13:23:26.418984Z",
     "start_time": "2020-09-17T13:23:26.411469Z"
    }
   },
   "outputs": [
    {
     "data": {
      "text/plain": [
       "(5493, 2)"
      ]
     },
     "execution_count": 475,
     "metadata": {},
     "output_type": "execute_result"
    }
   ],
   "source": [
    "ip_addresses.shape"
   ]
  },
  {
   "cell_type": "code",
   "execution_count": 476,
   "metadata": {
    "ExecuteTime": {
     "end_time": "2020-09-17T13:23:27.090226Z",
     "start_time": "2020-09-17T13:23:27.082549Z"
    }
   },
   "outputs": [
    {
     "data": {
      "text/plain": [
       "(10278, 2)"
      ]
     },
     "execution_count": 476,
     "metadata": {},
     "output_type": "execute_result"
    }
   ],
   "source": [
    "ip_addresses_friedhelm.shape"
   ]
  },
  {
   "cell_type": "code",
   "execution_count": 477,
   "metadata": {
    "ExecuteTime": {
     "end_time": "2020-09-17T13:23:33.228520Z",
     "start_time": "2020-09-17T13:23:33.193242Z"
    }
   },
   "outputs": [],
   "source": [
    "node_ips = dict()\n",
    "for r in ip_addresses.values:\n",
    "    node, ips = r\n",
    "    ips = set(ips.split('|'))\n",
    "    if node not in node_ips:\n",
    "        node_ips[node] = set()\n",
    "    node_ips[node] = node_ips[node].union(ips)"
   ]
  },
  {
   "cell_type": "code",
   "execution_count": 478,
   "metadata": {
    "ExecuteTime": {
     "end_time": "2020-09-17T13:23:41.836278Z",
     "start_time": "2020-09-17T13:23:41.805103Z"
    }
   },
   "outputs": [],
   "source": [
    "for r in ip_addresses_friedhelm.values:\n",
    "    node, ips = r\n",
    "    ips = set(ips.split('|'))\n",
    "    if node not in node_ips:\n",
    "        node_ips[node] = set()\n",
    "    node_ips[node] = node_ips[node].union(ips)"
   ]
  },
  {
   "cell_type": "code",
   "execution_count": 479,
   "metadata": {
    "ExecuteTime": {
     "end_time": "2020-09-17T13:23:47.978997Z",
     "start_time": "2020-09-17T13:23:47.973164Z"
    }
   },
   "outputs": [
    {
     "data": {
      "text/plain": [
       "7502"
      ]
     },
     "execution_count": 479,
     "metadata": {},
     "output_type": "execute_result"
    }
   ],
   "source": [
    "len(node_ips)"
   ]
  },
  {
   "cell_type": "code",
   "execution_count": 480,
   "metadata": {
    "ExecuteTime": {
     "end_time": "2020-09-17T13:24:15.913471Z",
     "start_time": "2020-09-17T13:24:15.904038Z"
    }
   },
   "outputs": [],
   "source": [
    "for n, ip in node_ips.items():\n",
    "    node_ips[n] = '|'.join(ip)"
   ]
  },
  {
   "cell_type": "code",
   "execution_count": 481,
   "metadata": {
    "ExecuteTime": {
     "end_time": "2020-09-17T13:24:36.876732Z",
     "start_time": "2020-09-17T13:24:36.870017Z"
    }
   },
   "outputs": [],
   "source": [
    "node_ips_df = pd.DataFrame(node_ips.items(), columns=['pub_key', 'ip_address'])"
   ]
  },
  {
   "cell_type": "code",
   "execution_count": 505,
   "metadata": {
    "ExecuteTime": {
     "end_time": "2020-09-17T13:35:52.841933Z",
     "start_time": "2020-09-17T13:35:52.806794Z"
    }
   },
   "outputs": [],
   "source": [
    "node_ips_df.to_csv(level2_folder + 'ip_address.csv', index=False)"
   ]
  },
  {
   "cell_type": "markdown",
   "metadata": {},
   "source": [
    "# merge aliases"
   ]
  },
  {
   "cell_type": "code",
   "execution_count": 484,
   "metadata": {
    "ExecuteTime": {
     "end_time": "2020-09-17T13:26:29.116980Z",
     "start_time": "2020-09-17T13:26:29.112291Z"
    }
   },
   "outputs": [
    {
     "data": {
      "text/plain": [
       "(6501, 2)"
      ]
     },
     "execution_count": 484,
     "metadata": {},
     "output_type": "execute_result"
    }
   ],
   "source": [
    "nodes.shape"
   ]
  },
  {
   "cell_type": "code",
   "execution_count": 485,
   "metadata": {
    "ExecuteTime": {
     "end_time": "2020-09-17T13:26:36.592325Z",
     "start_time": "2020-09-17T13:26:36.586700Z"
    }
   },
   "outputs": [
    {
     "data": {
      "text/plain": [
       "(11785, 2)"
      ]
     },
     "execution_count": 485,
     "metadata": {},
     "output_type": "execute_result"
    }
   ],
   "source": [
    "nodes_friedhelm.shape"
   ]
  },
  {
   "cell_type": "code",
   "execution_count": 495,
   "metadata": {
    "ExecuteTime": {
     "end_time": "2020-09-17T13:29:20.629147Z",
     "start_time": "2020-09-17T13:29:20.597522Z"
    }
   },
   "outputs": [],
   "source": [
    "node_aliases = dict()\n",
    "for r in nodes.values:\n",
    "    node, aliases = r\n",
    "    aliases = set(aliases.split('|'))\n",
    "    if node not in node_aliases:\n",
    "        node_aliases[node] = set()\n",
    "    node_aliases[node] = node_aliases[node].union(aliases)"
   ]
  },
  {
   "cell_type": "code",
   "execution_count": 488,
   "metadata": {
    "ExecuteTime": {
     "end_time": "2020-09-17T13:27:38.234947Z",
     "start_time": "2020-09-17T13:27:38.205581Z"
    }
   },
   "outputs": [],
   "source": [
    "for r in nodes_friedhelm.values:\n",
    "    node, aliases = r\n",
    "    if isinstance(aliases, str):\n",
    "        aliases = set(aliases.split('|'))\n",
    "        if node not in node_aliases:\n",
    "            node_aliases[node] = set()\n",
    "        node_aliases[node] = node_aliases[node].union(aliases)"
   ]
  },
  {
   "cell_type": "code",
   "execution_count": 496,
   "metadata": {
    "ExecuteTime": {
     "end_time": "2020-09-17T13:29:33.768557Z",
     "start_time": "2020-09-17T13:29:33.733700Z"
    }
   },
   "outputs": [],
   "source": [
    "for r in nodes_peter.values:\n",
    "    node, aliases = r\n",
    "    if isinstance(aliases, str):\n",
    "        aliases = set(aliases.split('|'))\n",
    "        if node not in node_aliases:\n",
    "            node_aliases[node] = set()\n",
    "        node_aliases[node] = node_aliases[node].union(aliases)"
   ]
  },
  {
   "cell_type": "code",
   "execution_count": 497,
   "metadata": {
    "ExecuteTime": {
     "end_time": "2020-09-17T13:29:37.907112Z",
     "start_time": "2020-09-17T13:29:37.902233Z"
    }
   },
   "outputs": [
    {
     "data": {
      "text/plain": [
       "8920"
      ]
     },
     "execution_count": 497,
     "metadata": {},
     "output_type": "execute_result"
    }
   ],
   "source": [
    "len(node_aliases)"
   ]
  },
  {
   "cell_type": "code",
   "execution_count": 498,
   "metadata": {
    "ExecuteTime": {
     "end_time": "2020-09-17T13:29:41.047193Z",
     "start_time": "2020-09-17T13:29:41.037688Z"
    }
   },
   "outputs": [],
   "source": [
    "for n, a in node_aliases.items():\n",
    "    node_aliases[n] = '|'.join(a)"
   ]
  },
  {
   "cell_type": "code",
   "execution_count": 499,
   "metadata": {
    "ExecuteTime": {
     "end_time": "2020-09-17T13:29:42.206677Z",
     "start_time": "2020-09-17T13:29:42.200014Z"
    }
   },
   "outputs": [],
   "source": [
    "node_aliases_df = pd.DataFrame(node_aliases.items(), columns=['pub_key', 'alias'])"
   ]
  },
  {
   "cell_type": "code",
   "execution_count": 504,
   "metadata": {
    "ExecuteTime": {
     "end_time": "2020-09-17T13:35:47.351877Z",
     "start_time": "2020-09-17T13:35:47.313311Z"
    }
   },
   "outputs": [],
   "source": [
    "node_aliases_df.to_csv(level2_folder + 'node.csv', index=False)"
   ]
  },
  {
   "cell_type": "code",
   "execution_count": 336,
   "metadata": {
    "ExecuteTime": {
     "end_time": "2020-09-17T12:26:40.742768Z",
     "start_time": "2020-09-17T12:26:40.735288Z"
    },
    "scrolled": true
   },
   "outputs": [],
   "source": [
    "# local_node = '025228840b37ade9aa2f96b3c961a35e76571a7c87a4ee67e2f33c64de64aa822f'\n",
    "# print('chan_point,node1,node2')\n",
    "# for ch in gt_closed_channels:\n",
    "#     if ch['channel_point'] not in merged_channel_points:\n",
    "#         print(ch['channel_point'] + ',' + ch['remote_pubkey'] + ',' + local_node)\n",
    "# print(inbound_channels.values[-1][0] + ',' + inbound_channels.values[-1][1] + ',' + local_node)"
   ]
  },
  {
   "cell_type": "markdown",
   "metadata": {},
   "source": [
    "# merge channels"
   ]
  },
  {
   "cell_type": "code",
   "execution_count": 187,
   "metadata": {
    "ExecuteTime": {
     "end_time": "2020-09-16T10:48:47.396846Z",
     "start_time": "2020-09-16T10:48:47.391760Z"
    }
   },
   "outputs": [
    {
     "data": {
      "text/plain": [
       "(70783, 3)"
      ]
     },
     "execution_count": 187,
     "metadata": {},
     "output_type": "execute_result"
    }
   ],
   "source": [
    "channels.shape"
   ]
  },
  {
   "cell_type": "code",
   "execution_count": 188,
   "metadata": {
    "ExecuteTime": {
     "end_time": "2020-09-16T10:48:48.732357Z",
     "start_time": "2020-09-16T10:48:48.728449Z"
    }
   },
   "outputs": [
    {
     "data": {
      "text/plain": [
       "(62989, 3)"
      ]
     },
     "execution_count": 188,
     "metadata": {},
     "output_type": "execute_result"
    }
   ],
   "source": [
    "channels_friedhelm.shape"
   ]
  },
  {
   "cell_type": "code",
   "execution_count": 189,
   "metadata": {
    "ExecuteTime": {
     "end_time": "2020-09-16T10:48:49.246158Z",
     "start_time": "2020-09-16T10:48:49.238954Z"
    }
   },
   "outputs": [
    {
     "data": {
      "text/plain": [
       "(44902, 3)"
      ]
     },
     "execution_count": 189,
     "metadata": {},
     "output_type": "execute_result"
    }
   ],
   "source": [
    "channels_peter.shape"
   ]
  },
  {
   "cell_type": "code",
   "execution_count": 197,
   "metadata": {
    "ExecuteTime": {
     "end_time": "2020-09-16T10:49:31.063927Z",
     "start_time": "2020-09-16T10:49:30.977439Z"
    }
   },
   "outputs": [],
   "source": [
    "merged_channels = channels.merge(channels_friedhelm, how='outer', on='chan_point')"
   ]
  },
  {
   "cell_type": "code",
   "execution_count": 198,
   "metadata": {
    "ExecuteTime": {
     "end_time": "2020-09-16T10:49:31.844642Z",
     "start_time": "2020-09-16T10:49:31.840861Z"
    }
   },
   "outputs": [
    {
     "data": {
      "text/plain": [
       "(93602, 5)"
      ]
     },
     "execution_count": 198,
     "metadata": {},
     "output_type": "execute_result"
    }
   ],
   "source": [
    "merged_channels.shape"
   ]
  },
  {
   "cell_type": "code",
   "execution_count": 199,
   "metadata": {
    "ExecuteTime": {
     "end_time": "2020-09-16T10:49:46.187506Z",
     "start_time": "2020-09-16T10:49:46.129086Z"
    }
   },
   "outputs": [],
   "source": [
    "merged_channels['node1'] = merged_channels['node1_pub_x'].where(merged_channels['node1_pub_x'].notnull(), merged_channels['node1_pub_y'])\n",
    "merged_channels['node2'] = merged_channels['node2_pub_x'].where(merged_channels['node2_pub_x'].notnull(), merged_channels['node2_pub_y'])\n",
    "merged_channels = merged_channels[['chan_point', 'node1', 'node2']]"
   ]
  },
  {
   "cell_type": "code",
   "execution_count": 200,
   "metadata": {
    "ExecuteTime": {
     "end_time": "2020-09-16T10:49:52.384813Z",
     "start_time": "2020-09-16T10:49:52.305847Z"
    }
   },
   "outputs": [],
   "source": [
    "merged_channels = merged_channels.merge(channels_peter, how='outer', on='chan_point')"
   ]
  },
  {
   "cell_type": "code",
   "execution_count": 201,
   "metadata": {
    "ExecuteTime": {
     "end_time": "2020-09-16T10:49:53.199228Z",
     "start_time": "2020-09-16T10:49:53.195298Z"
    }
   },
   "outputs": [
    {
     "data": {
      "text/plain": [
       "(99270, 5)"
      ]
     },
     "execution_count": 201,
     "metadata": {},
     "output_type": "execute_result"
    }
   ],
   "source": [
    "merged_channels.shape"
   ]
  },
  {
   "cell_type": "code",
   "execution_count": 204,
   "metadata": {
    "ExecuteTime": {
     "end_time": "2020-09-16T10:51:22.695085Z",
     "start_time": "2020-09-16T10:51:22.654773Z"
    }
   },
   "outputs": [],
   "source": [
    "merged_channels['node1'] = merged_channels['node1'].where(merged_channels['node1'].notnull(), merged_channels['node1_pub'])\n",
    "merged_channels['node2'] = merged_channels['node2'].where(merged_channels['node2'].notnull(), merged_channels['node2_pub'])\n",
    "merged_channels = merged_channels[['chan_point', 'node1', 'node2']]\n"
   ]
  },
  {
   "cell_type": "code",
   "execution_count": 660,
   "metadata": {
    "ExecuteTime": {
     "end_time": "2020-09-18T10:56:51.405543Z",
     "start_time": "2020-09-18T10:56:51.400875Z"
    }
   },
   "outputs": [
    {
     "data": {
      "text/plain": [
       "(99295, 3)"
      ]
     },
     "execution_count": 660,
     "metadata": {},
     "output_type": "execute_result"
    }
   ],
   "source": [
    "merged_channels.shape"
   ]
  },
  {
   "cell_type": "code",
   "execution_count": 341,
   "metadata": {
    "ExecuteTime": {
     "end_time": "2020-09-17T12:29:26.118829Z",
     "start_time": "2020-09-17T12:29:26.060043Z"
    }
   },
   "outputs": [],
   "source": [
    "merged_channels = merged_channels.merge(gt_channels, how='outer', on='chan_point')"
   ]
  },
  {
   "cell_type": "code",
   "execution_count": 661,
   "metadata": {
    "ExecuteTime": {
     "end_time": "2020-09-18T10:57:03.702344Z",
     "start_time": "2020-09-18T10:57:03.698581Z"
    },
    "scrolled": true
   },
   "outputs": [
    {
     "data": {
      "text/plain": [
       "(99295, 3)"
      ]
     },
     "execution_count": 661,
     "metadata": {},
     "output_type": "execute_result"
    }
   ],
   "source": [
    "merged_channels.shape"
   ]
  },
  {
   "cell_type": "code",
   "execution_count": 343,
   "metadata": {
    "ExecuteTime": {
     "end_time": "2020-09-17T12:30:34.321709Z",
     "start_time": "2020-09-17T12:30:34.278658Z"
    }
   },
   "outputs": [],
   "source": [
    "merged_channels['node1'] = merged_channels['node1_x'].where(merged_channels['node1_x'].notnull(), merged_channels['node1_y'])\n",
    "merged_channels['node2'] = merged_channels['node2_x'].where(merged_channels['node2_x'].notnull(), merged_channels['node2_y'])\n",
    "merged_channels = merged_channels[['chan_point', 'node1', 'node2']]\n"
   ]
  },
  {
   "cell_type": "code",
   "execution_count": 672,
   "metadata": {
    "ExecuteTime": {
     "end_time": "2020-09-18T11:07:27.209636Z",
     "start_time": "2020-09-18T11:07:27.206199Z"
    }
   },
   "outputs": [
    {
     "data": {
      "text/plain": [
       "(99295, 4)"
      ]
     },
     "execution_count": 672,
     "metadata": {},
     "output_type": "execute_result"
    }
   ],
   "source": [
    "merged_channels.shape"
   ]
  },
  {
   "cell_type": "code",
   "execution_count": 682,
   "metadata": {
    "ExecuteTime": {
     "end_time": "2020-09-18T11:12:40.934856Z",
     "start_time": "2020-09-18T11:12:38.888634Z"
    }
   },
   "outputs": [
    {
     "name": "stderr",
     "output_type": "stream",
     "text": [
      "/home/matteo/.local/lib/python3.6/site-packages/ipykernel_launcher.py:1: SettingWithCopyWarning: \n",
      "A value is trying to be set on a copy of a slice from a DataFrame.\n",
      "Try using .loc[row_indexer,col_indexer] = value instead\n",
      "\n",
      "See the caveats in the documentation: http://pandas.pydata.org/pandas-docs/stable/indexing.html#indexing-view-versus-copy\n",
      "  \"\"\"Entry point for launching an IPython kernel.\n"
     ]
    }
   ],
   "source": [
    "merged_channels['tx'] = merged_channels.apply(lambda x: x[0].split(':')[0], axis=1)"
   ]
  },
  {
   "cell_type": "code",
   "execution_count": 690,
   "metadata": {
    "ExecuteTime": {
     "end_time": "2020-09-18T11:14:12.619946Z",
     "start_time": "2020-09-18T11:14:12.603370Z"
    }
   },
   "outputs": [],
   "source": [
    "merged_channels = merged_channels.loc[~merged_channels['tx'].isin(not_available_ftxs)]"
   ]
  },
  {
   "cell_type": "code",
   "execution_count": 692,
   "metadata": {
    "ExecuteTime": {
     "end_time": "2020-09-18T11:14:41.624762Z",
     "start_time": "2020-09-18T11:14:41.615371Z"
    }
   },
   "outputs": [],
   "source": [
    "merged_channels = merged_channels[['chan_point', 'node1', 'node2']]"
   ]
  },
  {
   "cell_type": "code",
   "execution_count": 693,
   "metadata": {
    "ExecuteTime": {
     "end_time": "2020-09-18T11:14:44.672189Z",
     "start_time": "2020-09-18T11:14:44.258735Z"
    }
   },
   "outputs": [],
   "source": [
    "merged_channels.to_csv(level2_folder + 'channel.csv', index=False)"
   ]
  },
  {
   "cell_type": "markdown",
   "metadata": {},
   "source": [
    "# Funding txs"
   ]
  },
  {
   "cell_type": "code",
   "execution_count": 647,
   "metadata": {
    "ExecuteTime": {
     "end_time": "2020-09-18T10:33:32.685853Z",
     "start_time": "2020-09-18T10:33:32.683039Z"
    }
   },
   "outputs": [],
   "source": [
    "last_block = 647529"
   ]
  },
  {
   "cell_type": "code",
   "execution_count": 527,
   "metadata": {
    "ExecuteTime": {
     "end_time": "2020-09-17T16:13:27.321988Z",
     "start_time": "2020-09-17T16:13:27.254159Z"
    }
   },
   "outputs": [],
   "source": [
    "for channel in merged_channels.chan_point.values:\n",
    "    hsh = channel.split(':')[0]\n",
    "    if hsh not in funding_txs:\n",
    "        funding_txs[hsh] = None"
   ]
  },
  {
   "cell_type": "code",
   "execution_count": 709,
   "metadata": {
    "ExecuteTime": {
     "end_time": "2020-09-18T11:41:46.326026Z",
     "start_time": "2020-09-18T11:41:46.320267Z"
    },
    "scrolled": true
   },
   "outputs": [],
   "source": [
    "for i, hsh in enumerate(funding_txs):\n",
    "    # value must be dict and with details\n",
    "    if not isinstance(funding_txs[hsh], dict):\n",
    "        print('Fetching funding tx', i, end='\\r')\n",
    "        funding_txs[hsh] = get_blockstream_tx(hsh)"
   ]
  },
  {
   "cell_type": "code",
   "execution_count": 650,
   "metadata": {
    "ExecuteTime": {
     "end_time": "2020-09-18T10:34:20.439385Z",
     "start_time": "2020-09-18T10:34:20.374534Z"
    }
   },
   "outputs": [],
   "source": [
    "not_available_ftxs = []\n",
    "for hsh, ftx in funding_txs.items():\n",
    "    block = ftx['status']['block_height']\n",
    "    if block > last_block:\n",
    "        not_available_ftxs.append(hsh)"
   ]
  },
  {
   "cell_type": "code",
   "execution_count": 698,
   "metadata": {
    "ExecuteTime": {
     "end_time": "2020-09-18T11:30:31.291931Z",
     "start_time": "2020-09-18T11:30:30.326408Z"
    }
   },
   "outputs": [],
   "source": [
    "available_funding_txs = dict()\n",
    "for hsh, tx in funding_txs.items():\n",
    "    if hsh not in not_available_ftxs:\n",
    "        available_funding_txs[hsh] = tx"
   ]
  },
  {
   "cell_type": "code",
   "execution_count": 700,
   "metadata": {
    "ExecuteTime": {
     "end_time": "2020-09-18T11:31:20.043651Z",
     "start_time": "2020-09-18T11:31:12.840063Z"
    },
    "collapsed": true
   },
   "outputs": [],
   "source": [
    "write_json(available_funding_txs, level1_folder + 'blockstream_funding_txs.json')"
   ]
  },
  {
   "cell_type": "code",
   "execution_count": 713,
   "metadata": {
    "ExecuteTime": {
     "end_time": "2020-09-18T11:55:17.059896Z",
     "start_time": "2020-09-18T11:55:13.959657Z"
    }
   },
   "outputs": [],
   "source": [
    "funding_txs = read_json(level1_folder + 'blockstream_funding_txs.json')"
   ]
  },
  {
   "cell_type": "code",
   "execution_count": 716,
   "metadata": {
    "ExecuteTime": {
     "end_time": "2020-09-18T11:55:29.118258Z",
     "start_time": "2020-09-18T11:55:29.112652Z"
    }
   },
   "outputs": [
    {
     "data": {
      "text/plain": [
       "98240"
      ]
     },
     "execution_count": 716,
     "metadata": {},
     "output_type": "execute_result"
    }
   ],
   "source": [
    "len(funding_txs)"
   ]
  },
  {
   "cell_type": "markdown",
   "metadata": {},
   "source": [
    "# funded address settlement txs"
   ]
  },
  {
   "cell_type": "code",
   "execution_count": null,
   "metadata": {},
   "outputs": [],
   "source": [
    "for i, channel in enumerate(merged_channels.chan_point.values):\n",
    "    hsh, out_index = channel.split(':')\n",
    "    funded_address = funding_txs[hsh]['vout'][int(out_index)]['scriptpubkey_address']        \n",
    "    if funded_address not in funded_address_settlement_txs:\n",
    "        funded_address_settlement_txs[funded_address] = None"
   ]
  },
  {
   "cell_type": "code",
   "execution_count": null,
   "metadata": {},
   "outputs": [],
   "source": [
    "max_reached = 0"
   ]
  },
  {
   "cell_type": "code",
   "execution_count": null,
   "metadata": {},
   "outputs": [],
   "source": [
    "for i, funded_address in enumerate(funded_address_settlement_txs):\n",
    "    if i >= max_reached:\n",
    "        if not isinstance(funded_address_settlement_txs[funded_address], list) or not funded_address_settlement_txs[funded_address]:\n",
    "            print(i, end='\\r')\n",
    "            txs = get_blockstream_address_txs(funded_address)\n",
    "            if len(txs) > 2:\n",
    "                # doesn't happen in our dataset\n",
    "                print('Address with > 2 settlement txs:', len(txs), funded_address)\n",
    "            for tx in txs:\n",
    "                if funded_address in [e['prevout']['scriptpubkey_address'] for e in tx['vin']]:\n",
    "                    # funded address is in inputs \n",
    "                    funded_address_settlement_txs[funded_address] = []\n",
    "                    funded_address_settlement_txs[funded_address].append(tx)\n",
    "        max_reached += 1"
   ]
  },
  {
   "cell_type": "code",
   "execution_count": 794,
   "metadata": {
    "ExecuteTime": {
     "end_time": "2020-09-18T13:13:35.094245Z",
     "start_time": "2020-09-18T13:13:31.071613Z"
    }
   },
   "outputs": [],
   "source": [
    "write_json(funded_address_settlement_txs, level1_folder + 'funded_address_blockstream_settlement_txs.json')"
   ]
  },
  {
   "cell_type": "code",
   "execution_count": 795,
   "metadata": {
    "ExecuteTime": {
     "end_time": "2020-09-18T13:13:42.373216Z",
     "start_time": "2020-09-18T13:13:41.558906Z"
    }
   },
   "outputs": [],
   "source": [
    "funded_address_settlement_txs = read_json(level1_folder + 'funded_address_blockstream_settlement_txs.json')"
   ]
  },
  {
   "cell_type": "code",
   "execution_count": 772,
   "metadata": {
    "ExecuteTime": {
     "end_time": "2020-09-18T12:32:12.723848Z",
     "start_time": "2020-09-18T12:32:12.719927Z"
    }
   },
   "outputs": [
    {
     "data": {
      "text/plain": [
       "98431"
      ]
     },
     "execution_count": 772,
     "metadata": {},
     "output_type": "execute_result"
    }
   ],
   "source": [
    "len(funded_address_settlement_txs)"
   ]
  },
  {
   "cell_type": "code",
   "execution_count": 780,
   "metadata": {
    "ExecuteTime": {
     "end_time": "2020-09-18T12:58:47.886148Z",
     "start_time": "2020-09-18T12:58:47.831582Z"
    }
   },
   "outputs": [],
   "source": [
    "settlement_txs = dict()\n",
    "for stxs in funded_address_settlement_txs.values():\n",
    "    for stx in stxs:\n",
    "        settlement_txs[stx['txid']] = stx"
   ]
  },
  {
   "cell_type": "code",
   "execution_count": 813,
   "metadata": {
    "ExecuteTime": {
     "end_time": "2020-09-18T15:23:17.931072Z",
     "start_time": "2020-09-18T15:23:17.924967Z"
    }
   },
   "outputs": [
    {
     "data": {
      "text/plain": [
       "{'txid': '95d8f9b1e0e34ad12a022d0d0871bb59f8e3c0db20e89d055da40a1b25cc5e9d',\n",
       " 'version': 2,\n",
       " 'locktime': 0,\n",
       " 'vin': [{'txid': 'e7b2d73d2f7e41f00e0818d483e189ea7097a98b30e39fc7328d0af80d1c8fc8',\n",
       "   'vout': 1,\n",
       "   'prevout': {'scriptpubkey': '002035cf0dca0bf5a1470cb3357ad40cae42566e028e1ca7ee4fad1b66d28fef5301',\n",
       "    'scriptpubkey_asm': 'OP_0 OP_PUSHBYTES_32 35cf0dca0bf5a1470cb3357ad40cae42566e028e1ca7ee4fad1b66d28fef5301',\n",
       "    'scriptpubkey_type': 'v0_p2wsh',\n",
       "    'scriptpubkey_address': 'bc1qxh8smjst7ks5wr9nx4adgr9wgftxuq5wrjn7unadrdnd9rl02vqswxu7fa',\n",
       "    'value': 100000},\n",
       "   'scriptsig': '',\n",
       "   'scriptsig_asm': '',\n",
       "   'witness': ['',\n",
       "    '304402202f5ddf2fd2cafef630533ffb640c5614b5c2ac910220f7aa5661448ea2473b1d02204889d0727301f6e330d3cade82f5d121faafe5472027dce1c415c3817cd453ef01',\n",
       "    '3045022100dd224d458340db57e7e10ef16e7c57eb29e8fee99a05ce1c2166c8b5217555c102207dee634910cba52cca178ff93017e676de3238dd21a20b64b9ef40cf43cd6dde01',\n",
       "    '5221030ccbb5b5d57bf8f451007c654e47395dc90ad3492bc9a6dabe52c302271caf52210396c6438c139f838e1b79e588c20253840ccc0b52b0f022ab703258d8abe0a4ed52ae'],\n",
       "   'is_coinbase': False,\n",
       "   'sequence': 4294967295,\n",
       "   'inner_witnessscript_asm': 'OP_PUSHNUM_2 OP_PUSHBYTES_33 030ccbb5b5d57bf8f451007c654e47395dc90ad3492bc9a6dabe52c302271caf52 OP_PUSHBYTES_33 0396c6438c139f838e1b79e588c20253840ccc0b52b0f022ab703258d8abe0a4ed OP_PUSHNUM_2 OP_CHECKMULTISIG'}],\n",
       " 'vout': [{'scriptpubkey': '0014a5ad546c981d07790535bf61992aff9c492eee29',\n",
       "   'scriptpubkey_asm': 'OP_0 OP_PUSHBYTES_20 a5ad546c981d07790535bf61992aff9c492eee29',\n",
       "   'scriptpubkey_type': 'v0_p2wpkh',\n",
       "   'scriptpubkey_address': 'bc1q5kk4gmycr5rhjpf4hasej2hln3yjam3fjsc40s',\n",
       "   'value': 93218}],\n",
       " 'size': 303,\n",
       " 'weight': 549,\n",
       " 'fee': 6782,\n",
       " 'status': {'confirmed': True,\n",
       "  'block_height': 647375,\n",
       "  'block_hash': '00000000000000000010226bbee2a23c600343f2b7593f501bef4fa11cf54cde',\n",
       "  'block_time': 1599604063}}"
      ]
     },
     "execution_count": 813,
     "metadata": {},
     "output_type": "execute_result"
    }
   ],
   "source": [
    "settlement_txs[stx['txid']]"
   ]
  },
  {
   "cell_type": "code",
   "execution_count": 781,
   "metadata": {
    "ExecuteTime": {
     "end_time": "2020-09-18T12:58:54.742687Z",
     "start_time": "2020-09-18T12:58:54.732834Z"
    }
   },
   "outputs": [
    {
     "data": {
      "text/plain": [
       "60447"
      ]
     },
     "execution_count": 781,
     "metadata": {},
     "output_type": "execute_result"
    }
   ],
   "source": [
    "len(settlement_txs)"
   ]
  },
  {
   "cell_type": "code",
   "execution_count": 810,
   "metadata": {
    "ExecuteTime": {
     "end_time": "2020-09-18T13:28:14.063139Z",
     "start_time": "2020-09-18T13:28:10.641706Z"
    }
   },
   "outputs": [],
   "source": [
    "write_json(settlement_txs, level1_folder + 'blockstream_settlement_txs.json')"
   ]
  },
  {
   "cell_type": "code",
   "execution_count": 784,
   "metadata": {
    "ExecuteTime": {
     "end_time": "2020-09-18T13:02:15.760349Z",
     "start_time": "2020-09-18T13:02:15.753539Z"
    }
   },
   "outputs": [],
   "source": [
    "# highest_block_stxs = 0\n",
    "# for stx in settlement_txs.values():\n",
    "#     if stx['status']['block_height'] > highest_block_stxs:\n",
    "#         highest_block_stxs = stx['status']['block_height']\n",
    "# highest_block_stxs"
   ]
  },
  {
   "cell_type": "code",
   "execution_count": 773,
   "metadata": {
    "ExecuteTime": {
     "end_time": "2020-09-18T12:32:13.753348Z",
     "start_time": "2020-09-18T12:32:13.739069Z"
    }
   },
   "outputs": [
    {
     "data": {
      "text/plain": [
       "60447"
      ]
     },
     "execution_count": 773,
     "metadata": {},
     "output_type": "execute_result"
    }
   ],
   "source": [
    "len([stxs for stxs in funded_address_settlement_txs.values() if stxs])"
   ]
  },
  {
   "cell_type": "code",
   "execution_count": 767,
   "metadata": {
    "ExecuteTime": {
     "end_time": "2020-09-18T12:31:15.685976Z",
     "start_time": "2020-09-18T12:31:15.564950Z"
    }
   },
   "outputs": [],
   "source": [
    "# available_funded_address_settlement_txs = dict()\n",
    "# for fa, stxs in funded_address_settlement_txs.items():\n",
    "#     available_funded_address_settlement_txs[fa] = []\n",
    "#     for stx in stxs:\n",
    "#         if 'block_height' in stx['status'] and not stx['status']['block_height'] > last_block:\n",
    "#             available_funded_address_settlement_txs[fa].append(stx)"
   ]
  },
  {
   "cell_type": "code",
   "execution_count": null,
   "metadata": {},
   "outputs": [],
   "source": [
    "# write_json(available_funded_address_settlement_txs, level1_folder + 'funded_address_blockstream_settlement_txs.json')"
   ]
  },
  {
   "cell_type": "code",
   "execution_count": null,
   "metadata": {},
   "outputs": [],
   "source": [
    "settlement_txs_with_punishment = read_json(results_folder + 'settlement_txs_with_punishment.json')"
   ]
  },
  {
   "cell_type": "code",
   "execution_count": 792,
   "metadata": {
    "ExecuteTime": {
     "end_time": "2020-09-18T13:12:45.091458Z",
     "start_time": "2020-09-18T13:12:44.962873Z"
    }
   },
   "outputs": [],
   "source": [
    "# non_punishment_funded_address_settlement_txs = dict()\n",
    "# for fa, stxs in funded_address_settlement_txs.items():\n",
    "#     non_punishment_funded_address_settlement_txs[fa] = []\n",
    "#     for stx in stxs:\n",
    "#         if stx['txid'] not in settlement_txs_with_punishment:\n",
    "#             non_punishment_funded_address_settlement_txs[fa].append(stx)"
   ]
  },
  {
   "cell_type": "code",
   "execution_count": 796,
   "metadata": {
    "ExecuteTime": {
     "end_time": "2020-09-18T13:14:09.178881Z",
     "start_time": "2020-09-18T13:14:09.175738Z"
    }
   },
   "outputs": [],
   "source": [
    "# len([stxs for stxs in non_punishment_funded_address_settlement_txs.values() if stxs])"
   ]
  },
  {
   "cell_type": "code",
   "execution_count": null,
   "metadata": {},
   "outputs": [],
   "source": [
    "# write_json(non_punishment_funded_address_settlement_txs, level1_folder + 'funded_address_blockstream_settlement_txs.json')"
   ]
  },
  {
   "cell_type": "code",
   "execution_count": null,
   "metadata": {},
   "outputs": [],
   "source": [
    "settlement_txs_dict = "
   ]
  },
  {
   "cell_type": "markdown",
   "metadata": {},
   "source": [
    "# funding addresses entities"
   ]
  },
  {
   "cell_type": "code",
   "execution_count": 731,
   "metadata": {
    "ExecuteTime": {
     "end_time": "2020-09-18T12:03:18.164573Z",
     "start_time": "2020-09-18T12:03:18.006308Z"
    }
   },
   "outputs": [],
   "source": [
    "funding_addresses = set()\n",
    "for hsh, tx in funding_txs.items():\n",
    "    for vin in tx['vin']:\n",
    "        funding_addresses.add(vin['prevout']['scriptpubkey_address'])\n",
    "funding_addresses = list(funding_addresses)"
   ]
  },
  {
   "cell_type": "code",
   "execution_count": 732,
   "metadata": {
    "ExecuteTime": {
     "end_time": "2020-09-18T12:03:20.176611Z",
     "start_time": "2020-09-18T12:03:20.172520Z"
    }
   },
   "outputs": [
    {
     "data": {
      "text/plain": [
       "169141"
      ]
     },
     "execution_count": 732,
     "metadata": {},
     "output_type": "execute_result"
    }
   ],
   "source": [
    "len(funding_addresses)"
   ]
  },
  {
   "cell_type": "code",
   "execution_count": 734,
   "metadata": {
    "ExecuteTime": {
     "end_time": "2020-09-18T12:03:42.069663Z",
     "start_time": "2020-09-18T12:03:41.923285Z"
    }
   },
   "outputs": [],
   "source": [
    "write_json(funding_addresses, level1_folder + 'funding_addresses.json')"
   ]
  },
  {
   "cell_type": "code",
   "execution_count": 785,
   "metadata": {
    "ExecuteTime": {
     "end_time": "2020-09-18T13:05:25.423638Z",
     "start_time": "2020-09-18T13:05:25.240969Z"
    }
   },
   "outputs": [],
   "source": [
    "funding_address_entity_df = pd.read_csv(level1_folder + 'funding_addresses_entities.csv')"
   ]
  },
  {
   "cell_type": "code",
   "execution_count": 786,
   "metadata": {
    "ExecuteTime": {
     "end_time": "2020-09-18T13:05:26.237750Z",
     "start_time": "2020-09-18T13:05:26.232609Z"
    }
   },
   "outputs": [
    {
     "data": {
      "text/plain": [
       "170777"
      ]
     },
     "execution_count": 786,
     "metadata": {},
     "output_type": "execute_result"
    }
   ],
   "source": [
    "len(funding_address_entity_df)"
   ]
  },
  {
   "cell_type": "code",
   "execution_count": 743,
   "metadata": {
    "ExecuteTime": {
     "end_time": "2020-09-18T12:10:56.746462Z",
     "start_time": "2020-09-18T12:10:56.407959Z"
    }
   },
   "outputs": [],
   "source": [
    "funding_address_entity = dict()\n",
    "funding_addresses_set = set(funding_addresses)\n",
    "for el in funding_address_entity_df.values:\n",
    "    a, e = el\n",
    "    try:\n",
    "        e = int(e)\n",
    "        if a in funding_addresses_set:\n",
    "            funding_address_entity[a] = e\n",
    "    except:\n",
    "        pass"
   ]
  },
  {
   "cell_type": "code",
   "execution_count": 809,
   "metadata": {
    "ExecuteTime": {
     "end_time": "2020-09-18T13:25:11.101044Z",
     "start_time": "2020-09-18T13:25:10.839078Z"
    }
   },
   "outputs": [],
   "source": [
    "write_json(funding_address_entity, level1_folder + 'funding_address_entity.json')"
   ]
  },
  {
   "cell_type": "code",
   "execution_count": 746,
   "metadata": {
    "ExecuteTime": {
     "end_time": "2020-09-18T12:11:38.450678Z",
     "start_time": "2020-09-18T12:11:38.417825Z"
    }
   },
   "outputs": [
    {
     "data": {
      "text/plain": [
       "169141"
      ]
     },
     "execution_count": 746,
     "metadata": {},
     "output_type": "execute_result"
    }
   ],
   "source": [
    "len([1 for e in funding_address_entity.values() if isinstance(e, int)])"
   ]
  },
  {
   "cell_type": "markdown",
   "metadata": {},
   "source": [
    "# settlement addresses entities"
   ]
  },
  {
   "cell_type": "code",
   "execution_count": 804,
   "metadata": {
    "ExecuteTime": {
     "end_time": "2020-09-18T13:19:32.320211Z",
     "start_time": "2020-09-18T13:19:32.245916Z"
    }
   },
   "outputs": [],
   "source": [
    "settlement_addresses = set()\n",
    "for fa, stxs in funded_address_settlement_txs.items():\n",
    "    for tx in stxs:\n",
    "        for vout in tx['vout']:\n",
    "            settlement_addresses.add(vout['scriptpubkey_address'])"
   ]
  },
  {
   "cell_type": "code",
   "execution_count": 798,
   "metadata": {
    "ExecuteTime": {
     "end_time": "2020-09-18T13:15:14.395468Z",
     "start_time": "2020-09-18T13:15:14.391908Z"
    }
   },
   "outputs": [
    {
     "data": {
      "text/plain": [
       "88165"
      ]
     },
     "execution_count": 798,
     "metadata": {},
     "output_type": "execute_result"
    }
   ],
   "source": [
    "len(settlement_addresses)"
   ]
  },
  {
   "cell_type": "code",
   "execution_count": 808,
   "metadata": {
    "ExecuteTime": {
     "end_time": "2020-09-18T13:24:15.932228Z",
     "start_time": "2020-09-18T13:24:15.844564Z"
    }
   },
   "outputs": [],
   "source": [
    "write_json(list(settlement_addresses), level1_folder + 'settlement_addresses.json')"
   ]
  },
  {
   "cell_type": "code",
   "execution_count": 799,
   "metadata": {
    "ExecuteTime": {
     "end_time": "2020-09-18T13:15:19.940757Z",
     "start_time": "2020-09-18T13:15:19.835733Z"
    }
   },
   "outputs": [],
   "source": [
    "settlement_address_entity_df = pd.read_csv(level1_folder + 'settlement_addresses_entities.csv')"
   ]
  },
  {
   "cell_type": "code",
   "execution_count": 800,
   "metadata": {
    "ExecuteTime": {
     "end_time": "2020-09-18T13:15:20.800725Z",
     "start_time": "2020-09-18T13:15:20.796770Z"
    }
   },
   "outputs": [
    {
     "data": {
      "text/plain": [
       "88166"
      ]
     },
     "execution_count": 800,
     "metadata": {},
     "output_type": "execute_result"
    }
   ],
   "source": [
    "len(settlement_address_entity_df)"
   ]
  },
  {
   "cell_type": "code",
   "execution_count": 802,
   "metadata": {
    "ExecuteTime": {
     "end_time": "2020-09-18T13:16:12.336124Z",
     "start_time": "2020-09-18T13:16:12.161212Z"
    }
   },
   "outputs": [
    {
     "name": "stdout",
     "output_type": "stream",
     "text": [
      "bc1qutfquvfv7hwekuc69vwsm2s8vt4pefakyruf8l\n"
     ]
    }
   ],
   "source": [
    "settlement_address_entity = dict()\n",
    "for el in settlement_address_entity_df.values:\n",
    "    a, e = el\n",
    "    e = int(e)\n",
    "    if a in settlement_addresses:\n",
    "        settlement_address_entity[a] = e\n",
    "    else:\n",
    "        print(a) # why are you here?"
   ]
  },
  {
   "cell_type": "code",
   "execution_count": 805,
   "metadata": {
    "ExecuteTime": {
     "end_time": "2020-09-18T13:20:15.823092Z",
     "start_time": "2020-09-18T13:20:15.811851Z"
    }
   },
   "outputs": [
    {
     "data": {
      "text/plain": [
       "88165"
      ]
     },
     "execution_count": 805,
     "metadata": {},
     "output_type": "execute_result"
    }
   ],
   "source": [
    "len([1 for e in settlement_address_entity.values()])"
   ]
  },
  {
   "cell_type": "code",
   "execution_count": 806,
   "metadata": {
    "ExecuteTime": {
     "end_time": "2020-09-18T13:20:59.855286Z",
     "start_time": "2020-09-18T13:20:59.704683Z"
    }
   },
   "outputs": [],
   "source": [
    "write_json(settlement_address_entity, level1_folder + 'settlement_address_entity.json')"
   ]
  },
  {
   "cell_type": "code",
   "execution_count": 596,
   "metadata": {
    "ExecuteTime": {
     "end_time": "2020-09-18T06:26:12.508921Z",
     "start_time": "2020-09-18T06:26:08.586331Z"
    }
   },
   "outputs": [],
   "source": [
    "write_json(blockstream_settlement_txs, level1_folder + 'blockstream_settlement_txs.json')"
   ]
  },
  {
   "cell_type": "code",
   "execution_count": 513,
   "metadata": {
    "ExecuteTime": {
     "end_time": "2020-09-17T16:03:11.794144Z",
     "start_time": "2020-09-17T16:03:11.789297Z"
    }
   },
   "outputs": [],
   "source": [
    "settlement_txs_to_exclude = read_json(results_folder + 'settlement_txs_with_punishment.json')"
   ]
  },
  {
   "cell_type": "code",
   "execution_count": 811,
   "metadata": {
    "ExecuteTime": {
     "end_time": "2020-09-18T14:11:57.020718Z",
     "start_time": "2020-09-18T14:11:57.015101Z"
    }
   },
   "outputs": [
    {
     "data": {
      "text/plain": [
       "98240"
      ]
     },
     "execution_count": 811,
     "metadata": {},
     "output_type": "execute_result"
    }
   ],
   "source": [
    "len(funding_txs)"
   ]
  },
  {
   "cell_type": "code",
   "execution_count": 812,
   "metadata": {
    "ExecuteTime": {
     "end_time": "2020-09-18T14:12:03.485761Z",
     "start_time": "2020-09-18T14:12:03.482052Z"
    }
   },
   "outputs": [
    {
     "data": {
      "text/plain": [
       "98431"
      ]
     },
     "execution_count": 812,
     "metadata": {},
     "output_type": "execute_result"
    }
   ],
   "source": [
    "len(funded_address_settlement_txs)"
   ]
  },
  {
   "cell_type": "markdown",
   "metadata": {},
   "source": [
    "# old"
   ]
  },
  {
   "cell_type": "code",
   "execution_count": 46,
   "metadata": {
    "ExecuteTime": {
     "end_time": "2020-09-16T05:40:58.309080Z",
     "start_time": "2020-09-16T05:40:58.305874Z"
    }
   },
   "outputs": [],
   "source": [
    "# fails = 1\n",
    "# while fails:\n",
    "#     fails = 0\n",
    "#     for i, funded_address in enumerate(funded_address_settlement_txs):\n",
    "#         if not isinstance(funded_address_settlement_txs[funded_address], list) or not funded_address_settlement_txs[funded_address]:\n",
    "#             try:\n",
    "#                 print('Fetching txs of address', i, end='\\r')\n",
    "#                 txs = get_address_txs(funded_address)\n",
    "#                 if len(txs) > 2:\n",
    "#                     # doesn't happen in our dataset\n",
    "#                     print('Address with > 2 settlement txs:', len(txs), funded_address)\n",
    "#                 for tx in txs:\n",
    "#                     if tx['value']['value'] < 0: # spending coins\n",
    "#                         d = get_tx(tx['tx_hash'])\n",
    "#                         if 'message' not in d:\n",
    "#                             # not an error\n",
    "#                             funded_address_settlement_txs[funded_address] = []\n",
    "#                             funded_address_settlement_txs[funded_address].append(d)\n",
    "#             except Exception as e:\n",
    "#                 fails += 1\n",
    "#                 print(e)\n"
   ]
  },
  {
   "cell_type": "code",
   "execution_count": 138,
   "metadata": {
    "ExecuteTime": {
     "end_time": "2020-09-16T06:40:50.534674Z",
     "start_time": "2020-09-16T06:40:50.529692Z"
    }
   },
   "outputs": [],
   "source": [
    "def get_blockstream_address_txs(address):\n",
    "    url = 'https://blockstream.info/api/address/' + address + '/txs'\n",
    "    try:\n",
    "        d = url2dict(url)\n",
    "        return d\n",
    "    except Exception as e:\n",
    "        print(e)"
   ]
  },
  {
   "cell_type": "code",
   "execution_count": 355,
   "metadata": {
    "ExecuteTime": {
     "end_time": "2020-09-17T12:32:50.920896Z",
     "start_time": "2020-09-17T12:32:50.857154Z"
    }
   },
   "outputs": [
    {
     "data": {
      "text/plain": [
       "38130"
      ]
     },
     "execution_count": 355,
     "metadata": {},
     "output_type": "execute_result"
    }
   ],
   "source": [
    "missing = 0\n",
    "for i, funded_address in enumerate(funded_address_settlement_txs):\n",
    "    if not isinstance(funded_address_settlement_txs[funded_address], list) or not funded_address_settlement_txs[funded_address]:\n",
    "        missing += 1\n",
    "        \n",
    "missing"
   ]
  },
  {
   "cell_type": "code",
   "execution_count": 233,
   "metadata": {
    "ExecuteTime": {
     "end_time": "2020-09-16T16:10:48.227111Z",
     "start_time": "2020-09-16T14:34:26.853117Z"
    },
    "scrolled": true
   },
   "outputs": [
    {
     "name": "stdout",
     "output_type": "stream",
     "text": [
      "99269\r"
     ]
    }
   ],
   "source": [
    "for i, funded_address in enumerate(funded_address_settlement_txs):\n",
    "    if isinstance(funded_address_settlement_txs[funded_address], list) and len(funded_address_settlement_txs[funded_address]) == 0:\n",
    "        print(i, end='\\r')\n",
    "        txs = get_blockstream_address_txs(funded_address)\n",
    "        if len(txs) > 2:\n",
    "            # doesn't happen in our dataset\n",
    "            print('Address with > 2 settlement txs:', len(txs), funded_address)\n",
    "        for tx in txs:\n",
    "            if funded_address in [e['prevout']['scriptpubkey_address'] for e in tx['vin']]:\n",
    "                # funded address is in inputs \n",
    "                funded_address_settlement_txs[funded_address] = []\n",
    "                funded_address_settlement_txs[funded_address].append(tx)"
   ]
  },
  {
   "cell_type": "code",
   "execution_count": 359,
   "metadata": {
    "ExecuteTime": {
     "end_time": "2020-09-17T12:38:17.632309Z",
     "start_time": "2020-09-17T12:37:44.368412Z"
    },
    "scrolled": true
   },
   "outputs": [
    {
     "name": "stdout",
     "output_type": "stream",
     "text": [
      "99294\r"
     ]
    }
   ],
   "source": [
    "for i, funded_address in enumerate(funded_address_settlement_txs):\n",
    "    if not isinstance(funded_address_settlement_txs[funded_address], list):\n",
    "        print(i, end='\\r')\n",
    "        txs = get_blockstream_address_txs(funded_address)\n",
    "        if len(txs) > 2:\n",
    "            # doesn't happen in our dataset\n",
    "            print('Address with > 2 settlement txs:', len(txs), funded_address)\n",
    "        for tx in txs:\n",
    "            if funded_address in [e['prevout']['scriptpubkey_address'] for e in tx['vin']]:\n",
    "                # funded address is in inputs \n",
    "                funded_address_settlement_txs[funded_address] = []\n",
    "                funded_address_settlement_txs[funded_address].append(tx)\n"
   ]
  },
  {
   "cell_type": "code",
   "execution_count": 514,
   "metadata": {
    "ExecuteTime": {
     "end_time": "2020-09-17T16:04:12.803046Z",
     "start_time": "2020-09-17T16:04:12.785558Z"
    }
   },
   "outputs": [
    {
     "data": {
      "text/plain": [
       "61189"
      ]
     },
     "execution_count": 514,
     "metadata": {},
     "output_type": "execute_result"
    }
   ],
   "source": [
    "len([stxs for stxs in funded_address_settlement_txs.values() if stxs]) # n closed channels"
   ]
  },
  {
   "cell_type": "code",
   "execution_count": 362,
   "metadata": {
    "ExecuteTime": {
     "end_time": "2020-09-17T12:38:47.188452Z",
     "start_time": "2020-09-17T12:38:47.098006Z"
    }
   },
   "outputs": [],
   "source": [
    "for i, funded_address in enumerate(funded_address_settlement_txs):\n",
    "    # either empty list or None\n",
    "    if isinstance(funded_address_settlement_txs[funded_address], list) and len(funded_address_settlement_txs[funded_address]) == 0:\n",
    "        funded_address_settlement_txs[funded_address] = []\n",
    "    if not funded_address_settlement_txs[funded_address]:\n",
    "        funded_address_settlement_txs[funded_address] = []"
   ]
  },
  {
   "cell_type": "code",
   "execution_count": 515,
   "metadata": {
    "ExecuteTime": {
     "end_time": "2020-09-17T16:04:20.453583Z",
     "start_time": "2020-09-17T16:04:16.921226Z"
    }
   },
   "outputs": [],
   "source": [
    "write_json(funded_address_settlement_txs, level1_folder + 'funded_address_settlement_txs.json')"
   ]
  },
  {
   "cell_type": "code",
   "execution_count": 588,
   "metadata": {
    "ExecuteTime": {
     "end_time": "2020-09-18T05:00:17.130122Z",
     "start_time": "2020-09-18T05:00:17.076108Z"
    }
   },
   "outputs": [
    {
     "name": "stdout",
     "output_type": "stream",
     "text": [
      "33503 27686\n"
     ]
    }
   ],
   "source": [
    "gs = 0\n",
    "bs = 0\n",
    "settlement_txs_dict = dict()\n",
    "for stxs in funded_address_settlement_txs.values():\n",
    "    for stx in stxs:\n",
    "        if 'tx_hash' in stx:\n",
    "            gs += 1\n",
    "            settlement_txs_dict[stx['tx_hash']] = stx\n",
    "        else:\n",
    "            bs += 1\n",
    "            settlement_txs_dict[stx['txid']] = stx\n",
    "print(gs, bs)"
   ]
  },
  {
   "cell_type": "code",
   "execution_count": 587,
   "metadata": {
    "ExecuteTime": {
     "end_time": "2020-09-18T04:59:33.612974Z",
     "start_time": "2020-09-18T04:59:33.594864Z"
    }
   },
   "outputs": [
    {
     "data": {
      "text/plain": [
       "27686"
      ]
     },
     "execution_count": 587,
     "metadata": {},
     "output_type": "execute_result"
    }
   ],
   "source": [
    "len([el for el in settlement_txs_dict.values() if 'txid' in el])"
   ]
  },
  {
   "cell_type": "code",
   "execution_count": 512,
   "metadata": {
    "ExecuteTime": {
     "end_time": "2020-09-17T14:05:23.765968Z",
     "start_time": "2020-09-17T14:05:20.568871Z"
    }
   },
   "outputs": [],
   "source": [
    "write_json(settlement_txs_dict, level1_folder + 'settlement_txs_dict.json')"
   ]
  },
  {
   "cell_type": "code",
   "execution_count": 548,
   "metadata": {
    "ExecuteTime": {
     "end_time": "2020-09-17T17:45:22.560776Z",
     "start_time": "2020-09-17T17:45:22.428732Z"
    }
   },
   "outputs": [],
   "source": [
    "funding_addresses = set()\n",
    "for hsh, tx in funding_txs.items():\n",
    "    if 'vin' in tx:\n",
    "        for vin in tx['vin']:\n",
    "            funding_addresses.add(vin['prevout']['scriptpubkey_address'])\n",
    "    elif 'inputs' in tx:\n",
    "        for vin in tx['inputs']:\n",
    "            funding_addresses.add(vin['address'])\n",
    "    else:\n",
    "        print(tx)"
   ]
  },
  {
   "cell_type": "code",
   "execution_count": 549,
   "metadata": {
    "ExecuteTime": {
     "end_time": "2020-09-17T17:45:23.220250Z",
     "start_time": "2020-09-17T17:45:23.213479Z"
    }
   },
   "outputs": [
    {
     "data": {
      "text/plain": [
       "170777"
      ]
     },
     "execution_count": 549,
     "metadata": {},
     "output_type": "execute_result"
    }
   ],
   "source": [
    "len(funding_addresses)"
   ]
  },
  {
   "cell_type": "code",
   "execution_count": 517,
   "metadata": {
    "ExecuteTime": {
     "end_time": "2020-09-17T16:05:58.224420Z",
     "start_time": "2020-09-17T16:05:58.112558Z"
    }
   },
   "outputs": [],
   "source": [
    "settlement_addresses = set()\n",
    "for fa, stxs in funded_address_settlement_txs.items():\n",
    "    for tx in stxs:\n",
    "        if 'vout' in tx:\n",
    "            if tx['txid'] not in settlement_txs_to_exclude:\n",
    "                for vout in tx['vout']:\n",
    "                    settlement_addresses.add(vout['scriptpubkey_address'])\n",
    "        elif 'outputs' in tx:\n",
    "            if tx['tx_hash'] not in settlement_txs_to_exclude:\n",
    "                for vout in tx['outputs']:\n",
    "                    settlement_addresses.add(vout['address'])\n",
    "        else:\n",
    "            print(tx)"
   ]
  },
  {
   "cell_type": "code",
   "execution_count": 367,
   "metadata": {
    "ExecuteTime": {
     "end_time": "2020-09-17T12:39:09.705911Z",
     "start_time": "2020-09-17T12:39:09.701923Z"
    }
   },
   "outputs": [
    {
     "data": {
      "text/plain": [
       "99295"
      ]
     },
     "execution_count": 367,
     "metadata": {},
     "output_type": "execute_result"
    }
   ],
   "source": [
    "len(funded_address_settlement_txs)"
   ]
  },
  {
   "cell_type": "code",
   "execution_count": 543,
   "metadata": {
    "ExecuteTime": {
     "end_time": "2020-09-17T16:23:11.533684Z",
     "start_time": "2020-09-17T16:23:11.529803Z"
    }
   },
   "outputs": [
    {
     "data": {
      "text/plain": [
       "89337"
      ]
     },
     "execution_count": 543,
     "metadata": {},
     "output_type": "execute_result"
    }
   ],
   "source": [
    "len(settlement_addresses)"
   ]
  },
  {
   "cell_type": "code",
   "execution_count": 541,
   "metadata": {
    "ExecuteTime": {
     "end_time": "2020-09-17T16:22:52.283395Z",
     "start_time": "2020-09-17T16:22:52.239777Z"
    }
   },
   "outputs": [],
   "source": [
    "funding_addresses_df = pd.DataFrame(funding_addresses, columns=['address'])"
   ]
  },
  {
   "cell_type": "code",
   "execution_count": 544,
   "metadata": {
    "ExecuteTime": {
     "end_time": "2020-09-17T16:23:25.600915Z",
     "start_time": "2020-09-17T16:23:25.578875Z"
    }
   },
   "outputs": [],
   "source": [
    "settlement_addresses_df = pd.DataFrame(settlement_addresses, columns=['address'])"
   ]
  },
  {
   "cell_type": "code",
   "execution_count": 542,
   "metadata": {
    "ExecuteTime": {
     "end_time": "2020-09-17T16:22:55.507604Z",
     "start_time": "2020-09-17T16:22:55.204707Z"
    }
   },
   "outputs": [],
   "source": [
    "funding_addresses_df.to_csv(level1_folder + 'funding_addresses.csv', index=False)"
   ]
  },
  {
   "cell_type": "code",
   "execution_count": 545,
   "metadata": {
    "ExecuteTime": {
     "end_time": "2020-09-17T16:23:29.009933Z",
     "start_time": "2020-09-17T16:23:28.838934Z"
    }
   },
   "outputs": [],
   "source": [
    "settlement_addresses_df.to_csv(level1_folder + 'settlement_addresses.csv', index=False)"
   ]
  },
  {
   "cell_type": "code",
   "execution_count": 285,
   "metadata": {
    "ExecuteTime": {
     "end_time": "2020-09-16T20:18:29.271792Z",
     "start_time": "2020-09-16T20:18:29.050057Z"
    }
   },
   "outputs": [],
   "source": [
    "blockstream_funding_txs = read_json(level1_folder + 'blockstream_funding_txs_all.json')"
   ]
  },
  {
   "cell_type": "code",
   "execution_count": 286,
   "metadata": {
    "ExecuteTime": {
     "end_time": "2020-09-16T20:18:34.310673Z",
     "start_time": "2020-09-16T20:18:34.306105Z"
    }
   },
   "outputs": [
    {
     "data": {
      "text/plain": [
       "5550"
      ]
     },
     "execution_count": 286,
     "metadata": {},
     "output_type": "execute_result"
    }
   ],
   "source": [
    "len(blockstream_funding_txs)"
   ]
  },
  {
   "cell_type": "code",
   "execution_count": 290,
   "metadata": {
    "ExecuteTime": {
     "end_time": "2020-09-17T06:26:45.224729Z",
     "start_time": "2020-09-17T06:26:45.213619Z"
    }
   },
   "outputs": [
    {
     "data": {
      "text/plain": [
       "99055"
      ]
     },
     "execution_count": 290,
     "metadata": {},
     "output_type": "execute_result"
    }
   ],
   "source": [
    "len(funding_txs)"
   ]
  },
  {
   "cell_type": "code",
   "execution_count": 289,
   "metadata": {
    "ExecuteTime": {
     "end_time": "2020-09-17T06:17:12.877396Z",
     "start_time": "2020-09-17T04:44:12.086580Z"
    }
   },
   "outputs": [
    {
     "name": "stdout",
     "output_type": "stream",
     "text": [
      "70785\r"
     ]
    }
   ],
   "source": [
    "for i, hsh in enumerate(funding_txs):\n",
    "    if hsh not in blockstream_funding_txs:\n",
    "        if 'vin' not in funding_txs[hsh]:\n",
    "            blockstream_funding_txs[hsh] = get_blockstream_tx(hsh)\n",
    "            print(i, end='\\r')\n",
    "        else:\n",
    "            blockstream_funding_txs[hsh] = funding_txs[hsh]"
   ]
  },
  {
   "cell_type": "code",
   "execution_count": 291,
   "metadata": {
    "ExecuteTime": {
     "end_time": "2020-09-17T06:28:16.475593Z",
     "start_time": "2020-09-17T06:28:09.140731Z"
    }
   },
   "outputs": [],
   "source": [
    "write_json(blockstream_funding_txs, level1_folder + 'blockstream_funding_txs.json')"
   ]
  },
  {
   "cell_type": "code",
   "execution_count": 292,
   "metadata": {
    "ExecuteTime": {
     "end_time": "2020-09-17T09:48:02.547868Z",
     "start_time": "2020-09-17T09:48:02.545227Z"
    }
   },
   "outputs": [],
   "source": [
    "wasabi_addresses = ['bc1qs604c7jv6amk4cxqlnvuxv26hv3e48cds4m0ew', 'bc1qa24tsgchvuxsaccp8vrnkfd85hrcpafg20kmjw']"
   ]
  },
  {
   "cell_type": "code",
   "execution_count": 293,
   "metadata": {
    "ExecuteTime": {
     "end_time": "2020-09-17T09:50:38.103309Z",
     "start_time": "2020-09-17T09:50:37.966894Z"
    }
   },
   "outputs": [],
   "source": [
    "output_addresses_funding_txs = set()\n",
    "for hsh, tx in funding_txs.items():\n",
    "    if 'vout' in tx:\n",
    "        for vout in tx['vout']:\n",
    "            output_addresses_funding_txs.add(vout['scriptpubkey_address'])\n",
    "    elif 'outputs' in tx:\n",
    "        for vout in tx['outputs']:\n",
    "            output_addresses_funding_txs.add(vout['address'])\n",
    "    else:\n",
    "        print(tx)"
   ]
  },
  {
   "cell_type": "code",
   "execution_count": 295,
   "metadata": {
    "ExecuteTime": {
     "end_time": "2020-09-17T09:51:00.423738Z",
     "start_time": "2020-09-17T09:51:00.413047Z"
    }
   },
   "outputs": [
    {
     "data": {
      "text/plain": [
       "170728"
      ]
     },
     "execution_count": 295,
     "metadata": {},
     "output_type": "execute_result"
    }
   ],
   "source": [
    "len(funding_addresses)"
   ]
  },
  {
   "cell_type": "code",
   "execution_count": 294,
   "metadata": {
    "ExecuteTime": {
     "end_time": "2020-09-17T09:50:47.770105Z",
     "start_time": "2020-09-17T09:50:47.764050Z"
    }
   },
   "outputs": [
    {
     "data": {
      "text/plain": [
       "194616"
      ]
     },
     "execution_count": 294,
     "metadata": {},
     "output_type": "execute_result"
    }
   ],
   "source": [
    "len(output_addresses_funding_txs)"
   ]
  }
 ],
 "metadata": {
  "kernelspec": {
   "display_name": "Python 3",
   "language": "python",
   "name": "python3"
  },
  "language_info": {
   "codemirror_mode": {
    "name": "ipython",
    "version": 3
   },
   "file_extension": ".py",
   "mimetype": "text/x-python",
   "name": "python",
   "nbconvert_exporter": "python",
   "pygments_lexer": "ipython3",
   "version": "3.6.9"
  }
 },
 "nbformat": 4,
 "nbformat_minor": 2
}
