{
 "cells": [
  {
   "cell_type": "code",
   "execution_count": 2,
   "metadata": {
    "ExecuteTime": {
     "end_time": "2020-09-17T14:00:17.683546Z",
     "start_time": "2020-09-17T14:00:16.170901Z"
    }
   },
   "outputs": [],
   "source": [
    "from utils import *\n",
    "from api_calls import *\n",
    "import pandas as pd\n",
    "from IPython.display import HTML\n",
    "from collections import Counter\n",
    "import matplotlib.pyplot as plt\n",
    "import networkx as nx\n",
    "# from networkx.algorithms import bipartite\n",
    "import datetime\n",
    "import time\n",
    "import numpy as np"
   ]
  },
  {
   "cell_type": "code",
   "execution_count": 4,
   "metadata": {
    "ExecuteTime": {
     "end_time": "2020-06-24T14:31:55.029708Z",
     "start_time": "2020-06-24T14:31:55.025480Z"
    }
   },
   "outputs": [
    {
     "data": {
      "text/html": [
       "<script>\n",
       "code_show=true; \n",
       "function code_toggle() {\n",
       " if (code_show){\n",
       " $('div.input').hide();\n",
       " } else {\n",
       " $('div.input').show();\n",
       " }\n",
       " code_show = !code_show\n",
       "} \n",
       "$( document ).ready(code_toggle);\n",
       "</script>\n",
       "The raw code for this notebook is by default hidden for easier reading.\n",
       "To toggle on/off the raw code, click <a href=\"javascript:code_toggle()\">here</a>."
      ],
      "text/plain": [
       "<IPython.core.display.HTML object>"
      ]
     },
     "execution_count": 4,
     "metadata": {},
     "output_type": "execute_result"
    }
   ],
   "source": [
    "HTML('''<script>\n",
    "code_show=true; \n",
    "function code_toggle() {\n",
    " if (code_show){\n",
    " $('div.input').hide();\n",
    " } else {\n",
    " $('div.input').show();\n",
    " }\n",
    " code_show = !code_show\n",
    "} \n",
    "$( document ).ready(code_toggle);\n",
    "</script>\n",
    "The raw code for this notebook is by default hidden for easier reading.\n",
    "To toggle on/off the raw code, click <a href=\"javascript:code_toggle()\">here</a>.''') "
   ]
  },
  {
   "cell_type": "markdown",
   "metadata": {},
   "source": [
    "# Available data"
   ]
  },
  {
   "cell_type": "markdown",
   "metadata": {},
   "source": [
    "### LN data (joined)"
   ]
  },
  {
   "cell_type": "code",
   "execution_count": 4,
   "metadata": {
    "ExecuteTime": {
     "end_time": "2020-07-07T13:40:17.580430Z",
     "start_time": "2020-07-07T13:40:17.577824Z"
    }
   },
   "outputs": [],
   "source": [
    "level1_folder = '../data/joined/level_1/'\n",
    "level2_folder = '../data/joined/level_2/'\n",
    "results_folder = '../data/joined/results/'"
   ]
  },
  {
   "cell_type": "code",
   "execution_count": 5,
   "metadata": {
    "ExecuteTime": {
     "end_time": "2020-07-07T13:40:19.555316Z",
     "start_time": "2020-07-07T13:40:19.322415Z"
    }
   },
   "outputs": [],
   "source": [
    "###############\n",
    "channels = pd.read_csv(level2_folder + 'channel.csv')\n",
    "nodes = pd.read_csv(level2_folder + 'node.csv')\n",
    "ip_addresses = pd.read_csv(level2_folder + 'ip_address.csv')"
   ]
  },
  {
   "cell_type": "code",
   "execution_count": 19,
   "metadata": {
    "ExecuteTime": {
     "end_time": "2020-06-08T13:06:56.070850Z",
     "start_time": "2020-06-08T13:06:56.068538Z"
    }
   },
   "outputs": [],
   "source": [
    "# channels_friedhelm = pd.read_csv('../data/friedhelm/edge_state.csv')"
   ]
  },
  {
   "cell_type": "code",
   "execution_count": 6,
   "metadata": {
    "ExecuteTime": {
     "end_time": "2020-07-07T13:40:21.671538Z",
     "start_time": "2020-07-07T13:40:21.549039Z"
    }
   },
   "outputs": [],
   "source": [
    "###############\n",
    "node_channels = dict()\n",
    "for channel in channels.values:\n",
    "    c, n1, n2 = channel\n",
    "    if n1 not in node_channels:\n",
    "        node_channels[n1] = set()\n",
    "    node_channels[n1].add(c)\n",
    "    if n2 not in node_channels:\n",
    "        node_channels[n2] = set()\n",
    "    node_channels[n2].add(c)"
   ]
  },
  {
   "cell_type": "code",
   "execution_count": 21,
   "metadata": {
    "ExecuteTime": {
     "end_time": "2020-06-08T13:06:57.209595Z",
     "start_time": "2020-06-08T13:06:57.206957Z"
    }
   },
   "outputs": [],
   "source": [
    "# for node, chnls in node_channels.items():\n",
    "#     print(len(chnls), end=' ')"
   ]
  },
  {
   "cell_type": "code",
   "execution_count": 7,
   "metadata": {
    "ExecuteTime": {
     "end_time": "2020-07-07T13:40:22.384371Z",
     "start_time": "2020-07-07T13:40:22.369314Z"
    }
   },
   "outputs": [],
   "source": [
    "###############\n",
    "node_alias = dict()\n",
    "alias_node = dict()\n",
    "for e in nodes.values:\n",
    "    n = e[0]\n",
    "    a = e[1]\n",
    "    if n not in node_alias:\n",
    "        node_alias[n] = set()\n",
    "    node_alias[n].add(a)\n",
    "    if a not in alias_node:\n",
    "        alias_node[a] = set()\n",
    "    alias_node[a].add(n)\n",
    "    "
   ]
  },
  {
   "cell_type": "code",
   "execution_count": 9,
   "metadata": {
    "ExecuteTime": {
     "end_time": "2020-05-18T09:22:29.677004Z",
     "start_time": "2020-05-18T09:22:29.674362Z"
    }
   },
   "outputs": [],
   "source": [
    "# some nodes share the same alias\n",
    "# for a, ns in alias_node.items():\n",
    "#     if len(ns) > 1:\n",
    "#         print(a, len(ns))\n",
    "#         print()"
   ]
  },
  {
   "cell_type": "code",
   "execution_count": 23,
   "metadata": {
    "ExecuteTime": {
     "end_time": "2020-06-08T13:07:33.019569Z",
     "start_time": "2020-06-08T13:07:33.017461Z"
    }
   },
   "outputs": [],
   "source": [
    "results_folder = results_folder + 'relaxed_filtered_'"
   ]
  },
  {
   "cell_type": "code",
   "execution_count": 24,
   "metadata": {
    "ExecuteTime": {
     "end_time": "2020-06-08T13:07:34.221416Z",
     "start_time": "2020-06-08T13:07:34.163368Z"
    }
   },
   "outputs": [],
   "source": [
    "heuristic_2_entity_node_conf_star = read_json(results_folder + 'heuristic_2_entity_node_conf_star.json', double_int_key=True)\n",
    "heuristic_2_node_entity_conf_star = read_json(results_folder + 'heuristic_2_node_entity_conf_star.json', True)\n",
    "heuristic_2_entity_node_conf_snake_collector = read_json(results_folder + 'heuristic_2_entity_node_conf_snake_collector.json', double_int_key=True)\n",
    "heuristic_2_node_entity_conf_snake_collector = read_json(results_folder + 'heuristic_2_node_entity_conf_snake_collector.json', True)\n",
    "heuristic_2_entity_node_conf_all = read_json(results_folder + 'heuristic_2_entity_node_conf_all.json', double_int_key=True)\n",
    "heuristic_2_node_entity_conf_all = read_json(results_folder + 'heuristic_2_node_entity_conf_all.json', True)\n",
    "# for e, ns in heuristic_2_entity_node_conf_all[2].items():\n",
    "#     if len(ns) > 1:\n",
    "#         print(len(ns))"
   ]
  },
  {
   "cell_type": "code",
   "execution_count": 32,
   "metadata": {
    "ExecuteTime": {
     "end_time": "2020-06-08T13:10:43.235313Z",
     "start_time": "2020-06-08T13:10:43.227096Z"
    },
    "scrolled": true
   },
   "outputs": [
    {
     "name": "stdout",
     "output_type": "stream",
     "text": [
      "4\n",
      "-6601 {'stak10'}\n",
      "-6601 {'senza'}\n",
      "-6601 {'relay1'}\n",
      "-6601 {'stak7'}\n",
      "3\n",
      "-6569 {'lngames.net|LNGAMES.NET'}\n",
      "-6569 {'tor.lngames.net'}\n",
      "-6569 {'ln.popmin.net|ln01.popmin.net'}\n",
      "3\n",
      "-7152 {'LIGHTNING-CASINO.COM|LIGHTNING-CASINO.COM XYZ'}\n",
      "-7152 {'NEURON'}\n",
      "-7152 {'lightning-roulette.com'}\n",
      "4\n",
      "-7501 {'BOOYAH'}\n",
      "-7501 {'captain'}\n",
      "3\n",
      "-5535 {'LNBIG.com [lnd-26]'}\n",
      "-5535 {'LNBIG.com [lnd-33]'}\n",
      "-5535 {'LNBIG.com [lnd-31]'}\n",
      "8\n",
      "-6105 {'LNBIG.com [lnd-32]'}\n",
      "-6105 {'LNBIG.com [lnd-34]'}\n",
      "-6105 {'LNBIG.com [lnd-38]'}\n",
      "-6105 {'LNBIG.com [lnd-33]'}\n",
      "-6105 {'LNBIG.com [lnd-31]'}\n",
      "-6105 {'LNBIG.com [lnd-42]'}\n",
      "-6105 {'LNBIG.com [lnd-26]'}\n",
      "-6105 {'LNBIG.com [lnd-41]'}\n",
      "8\n",
      "-5546 {'LNBIG.com [lnd-07]'}\n",
      "-5546 {'LNBIG.com [lnd-25]'}\n",
      "-5546 {'LNBIG.com [lnd-28/old-lnd-22]|LNBIG.com [lnd-28]|LNBIG.com [lnd-22]'}\n",
      "-5546 {'LNBIG.com [lnd-27/old-lnd-19]|LNBIG.com [lnd-19]|LNBIG.com [lnd-27]'}\n",
      "-5546 {'LNBIG.com [lnd-05]'}\n",
      "-5546 {'LNBIG.com [lnd-21]'}\n",
      "-5546 {'LNBIG.com [lnd-06]'}\n",
      "-5546 {'LNBIG.com [lnd-17]'}\n",
      "3\n",
      "-6657 {'LNBIG.com [lnd-28/old-lnd-22]|LNBIG.com [lnd-28]|LNBIG.com [lnd-22]'}\n",
      "-6657 {'LNBIG.com [lnd-27/old-lnd-19]|LNBIG.com [lnd-19]|LNBIG.com [lnd-27]'}\n",
      "-6657 {'LNBIG.com [lnd-25]'}\n",
      "3\n",
      "-5607 {'LNBIG.com [lnd-06]'}\n",
      "-5607 {'LNBIG.com [lnd-07]'}\n",
      "-5607 {'LNBIG.com [lnd-21]'}\n",
      "4\n",
      "-5752 {'LNBIG.com [lnd-42]'}\n",
      "-5752 {'LNBIG.com [lnd-38]'}\n",
      "-5752 {'LNBIG.com [lnd-37]'}\n",
      "-5752 {'LNBIG.com [lnd-41]'}\n",
      "3\n",
      "-6170 {'LNBIG.com [lnd-10]'}\n",
      "-6170 {'LNBIG.com [lnd-12]'}\n",
      "-6170 {'LNBIG.com [lnd-09]'}\n",
      "3\n",
      "-5408 {'LNBIG.com [lnd-07]'}\n",
      "-5408 {'LNBIG.com [lnd-25]'}\n",
      "-5408 {'LNBIG.com [lnd-05]'}\n",
      "3\n",
      "-7026 {'sphinx-node-p'}\n"
     ]
    }
   ],
   "source": [
    "for e, ns in heuristic_2_entity_node_conf_snake_collector[2].items():\n",
    "    if len(ns) > 2:\n",
    "        print(len(ns))\n",
    "        for n in ns:\n",
    "            if n in node_alias:\n",
    "                print(e, node_alias[n])"
   ]
  },
  {
   "cell_type": "code",
   "execution_count": null,
   "metadata": {},
   "outputs": [],
   "source": [
    "# check intersection between entities in heuristic_2_entity_node_conf_snake_collector[2]"
   ]
  },
  {
   "cell_type": "code",
   "execution_count": 37,
   "metadata": {
    "ExecuteTime": {
     "end_time": "2020-06-08T13:13:41.737301Z",
     "start_time": "2020-06-08T13:13:41.731577Z"
    }
   },
   "outputs": [
    {
     "data": {
      "text/plain": [
       "201"
      ]
     },
     "execution_count": 37,
     "metadata": {},
     "output_type": "execute_result"
    }
   ],
   "source": [
    "len(set(entity_star.keys()).intersection(set(heuristic_2_entity_node_conf_snake_collector[2])))"
   ]
  },
  {
   "cell_type": "code",
   "execution_count": 48,
   "metadata": {
    "ExecuteTime": {
     "end_time": "2020-06-08T13:26:06.839861Z",
     "start_time": "2020-06-08T13:26:06.831431Z"
    }
   },
   "outputs": [
    {
     "name": "stdout",
     "output_type": "stream",
     "text": [
      "184 {'glr.com.py', '038ae197828f0ffd7323'}\n",
      "307 {'ln.BitSoapBox.com', 'LightningPowerUsers.com'}\n",
      "376 {'0290ed68150c33b96f73', 'LNBIG.com [lnd-10]'}\n",
      "474 {'LNBIG.com [lnd-33]', 'LNBIG.com [lnd-32]'}\n",
      "612 {'bc_east', 'openmint'}\n",
      "688 {'LNBIG.com [lnd-34]', 'LOOPING[LND]'}\n",
      "992 {'mschmoock|amazing_horse|schmoock.net', 'LNBIG.com [lnd-26]'}\n",
      "1029 {'RaspiBlitzDevHC1|RaspiBlitzDevHC2|DroidBlitzHC1', 'RPi4|RaspiBlitzRPi4test', 'foodforcoins.org'}\n",
      "1088 {'https://lightningboost.info|@otaviobonder', 'odudex'}\n",
      "1747 {'LNBIG.com [lnd-07]', 'LOOPING[LND]'}\n",
      "1763 {'Ship of Theseus|Platform9and3quarters', 'btc.lnetwork.tokyo'}\n",
      "1767 {'onion.heisenberg.ln|onion.heisenberg.lnd', 'eclips.lnd'}\n",
      "2119 {'Le Space LND', 'bitcoin-lightning.de'}\n",
      "2303 {'LNBIG.com [lnd-06]', 'LNBIG.com [lnd-05]'}\n",
      "8074 {'013-lnd-gar-nodl-it', '011-lnd-gar-nodl-it', '014-lnd-gar-nodl-it', '012-lnd-gar-nodl-it', '015-lnd-gar-nodl-it'}\n",
      "8288 {'008-lnd-gar-nodl-it', '010-lnd-gar-nodl-it', '007-lnd-gar-nodl-it', '009-lnd-gar-nodl-it', '006-lnd-gar-nodl-it'}\n",
      "11552 {'LivingRoomOfSatoshi.com_LND_3|WalletOfSatoshi.com 3|TravelByBit.com', 'yalls.org'}\n",
      "16556 {'ulrichard.ch', 'mainnet.lightningconductor.net'}\n"
     ]
    }
   ],
   "source": [
    "intersect = set(entity_star.keys()).intersection(set(heuristic_2_entity_node_conf_snake_collector[2]))\n",
    "\n",
    "for star, es in star_entities.items():\n",
    "    known = set()\n",
    "    for e in es:\n",
    "        if e in heuristic_2_entity_node_conf_snake_collector[2]:\n",
    "            for n in heuristic_2_entity_node_conf_snake_collector[2][e]:\n",
    "                if n in node_alias:\n",
    "                    for a in node_alias[n]:\n",
    "                        known.add(a)\n",
    "    if len(known) >= 2:\n",
    "        print(star, known)"
   ]
  },
  {
   "cell_type": "code",
   "execution_count": null,
   "metadata": {},
   "outputs": [],
   "source": [
    "star_entities"
   ]
  },
  {
   "cell_type": "code",
   "execution_count": null,
   "metadata": {},
   "outputs": [],
   "source": []
  },
  {
   "cell_type": "code",
   "execution_count": 10,
   "metadata": {
    "ExecuteTime": {
     "end_time": "2020-05-18T09:22:29.681932Z",
     "start_time": "2020-05-18T09:22:29.679130Z"
    }
   },
   "outputs": [
    {
     "name": "stdout",
     "output_type": "stream",
     "text": [
      "Number of channels: 70783\n"
     ]
    }
   ],
   "source": [
    "print('Number of channels:', len(channels))"
   ]
  },
  {
   "cell_type": "code",
   "execution_count": 11,
   "metadata": {
    "ExecuteTime": {
     "end_time": "2020-05-18T09:22:29.686536Z",
     "start_time": "2020-05-18T09:22:29.683880Z"
    }
   },
   "outputs": [],
   "source": [
    "# # two channels were funded using one single tx\n",
    "# for ch in channels.chan_point.values:\n",
    "#     if ch.startswith('88679369ec778d5187c20767'):\n",
    "#         print(ch)"
   ]
  },
  {
   "cell_type": "code",
   "execution_count": 12,
   "metadata": {
    "ExecuteTime": {
     "end_time": "2020-05-18T09:22:29.691455Z",
     "start_time": "2020-05-18T09:22:29.688551Z"
    }
   },
   "outputs": [
    {
     "name": "stdout",
     "output_type": "stream",
     "text": [
      "Number of nodes: 8267\n"
     ]
    }
   ],
   "source": [
    "print('Number of nodes:', len(node_channels))"
   ]
  },
  {
   "cell_type": "markdown",
   "metadata": {
    "ExecuteTime": {
     "end_time": "2020-02-27T13:11:00.586788Z",
     "start_time": "2020-02-27T13:11:00.578977Z"
    }
   },
   "source": [
    "### On-chain data"
   ]
  },
  {
   "cell_type": "code",
   "execution_count": 1,
   "metadata": {
    "ExecuteTime": {
     "end_time": "2020-09-17T14:00:07.151200Z",
     "start_time": "2020-09-17T14:00:07.101972Z"
    }
   },
   "outputs": [
    {
     "ename": "NameError",
     "evalue": "name 'read_json' is not defined",
     "output_type": "error",
     "traceback": [
      "\u001b[0;31m---------------------------------------------------------------------------\u001b[0m",
      "\u001b[0;31mNameError\u001b[0m                                 Traceback (most recent call last)",
      "\u001b[0;32m<ipython-input-1-6bb4b559005b>\u001b[0m in \u001b[0;36m<module>\u001b[0;34m()\u001b[0m\n\u001b[1;32m      1\u001b[0m \u001b[0;31m###############\u001b[0m\u001b[0;34m\u001b[0m\u001b[0;34m\u001b[0m\u001b[0;34m\u001b[0m\u001b[0m\n\u001b[0;32m----> 2\u001b[0;31m \u001b[0mfunding_txs\u001b[0m \u001b[0;34m=\u001b[0m \u001b[0mread_json\u001b[0m\u001b[0;34m(\u001b[0m\u001b[0mlevel1_folder\u001b[0m \u001b[0;34m+\u001b[0m \u001b[0;34m'funding_txs.json'\u001b[0m\u001b[0;34m)\u001b[0m\u001b[0;34m\u001b[0m\u001b[0;34m\u001b[0m\u001b[0m\n\u001b[0m\u001b[1;32m      3\u001b[0m funding_address_entity = read_json(level1_folder +\n\u001b[1;32m      4\u001b[0m                                    'funding_address_entity.json')\n\u001b[1;32m      5\u001b[0m funded_address_settlement_txs = read_json(level1_folder +\n",
      "\u001b[0;31mNameError\u001b[0m: name 'read_json' is not defined"
     ]
    }
   ],
   "source": [
    "###############\n",
    "funding_txs = read_json(level1_folder + 'funding_txs.json')\n",
    "funding_address_entity = read_json(level1_folder +\n",
    "                                   'funding_address_entity.json')\n",
    "funded_address_settlement_txs = read_json(level1_folder +\n",
    "                                          'funded_address_settlement_txs.json')\n",
    "settlement_address_entity = read_json(level1_folder +\n",
    "                                      'settlement_address_entity.json')\n",
    "settlement_addresses = read_json(level1_folder + 'settlement_addresses.json')\n",
    "blockstream_funding_txs = read_json(level1_folder +\n",
    "                                    'blockstream_funding_txs.json')\n",
    "settlement_txs_list = read_json(level1_folder + 'settlement_txs.json')\n",
    "settlement_txs_hashes = [el['tx_hash'] for el in settlement_txs_list]"
   ]
  },
  {
   "cell_type": "code",
   "execution_count": 3,
   "metadata": {
    "ExecuteTime": {
     "end_time": "2020-07-15T07:02:50.852362Z",
     "start_time": "2020-07-15T07:02:50.850039Z"
    }
   },
   "outputs": [],
   "source": [
    "open_funded_addresses = dict()"
   ]
  },
  {
   "cell_type": "code",
   "execution_count": 33,
   "metadata": {
    "ExecuteTime": {
     "end_time": "2020-07-15T14:11:20.854756Z",
     "start_time": "2020-07-15T14:11:20.848301Z"
    }
   },
   "outputs": [],
   "source": [
    "write_json(open_funded_addresses, level1_folder + 'open_funded_addresses.json')"
   ]
  },
  {
   "cell_type": "code",
   "execution_count": 4,
   "metadata": {
    "ExecuteTime": {
     "end_time": "2020-07-15T10:46:50.727347Z",
     "start_time": "2020-07-15T10:46:50.723393Z"
    }
   },
   "outputs": [],
   "source": [
    "open_funded_addresses = read_json(level1_folder + 'open_funded_addresses.json')"
   ]
  },
  {
   "cell_type": "code",
   "execution_count": 32,
   "metadata": {
    "ExecuteTime": {
     "end_time": "2020-07-15T14:10:58.597337Z",
     "start_time": "2020-07-15T14:10:58.591172Z"
    }
   },
   "outputs": [
    {
     "data": {
      "text/plain": [
       "161"
      ]
     },
     "execution_count": 32,
     "metadata": {},
     "output_type": "execute_result"
    }
   ],
   "source": [
    "len(open_funded_addresses)"
   ]
  },
  {
   "cell_type": "code",
   "execution_count": 31,
   "metadata": {
    "ExecuteTime": {
     "end_time": "2020-07-15T14:10:55.446867Z",
     "start_time": "2020-07-15T14:10:43.364310Z"
    },
    "scrolled": true
   },
   "outputs": [
    {
     "name": "stdout",
     "output_type": "stream",
     "text": [
      "70783\n",
      "66389\r"
     ]
    },
    {
     "ename": "KeyboardInterrupt",
     "evalue": "",
     "output_type": "error",
     "traceback": [
      "\u001b[0;31m---------------------------------------------------------------------------\u001b[0m",
      "\u001b[0;31mTypeError\u001b[0m                                 Traceback (most recent call last)",
      "\u001b[0;32m~/.local/lib/python3.6/site-packages/urllib3/connectionpool.py\u001b[0m in \u001b[0;36m_make_request\u001b[0;34m(self, conn, method, url, timeout, chunked, **httplib_request_kw)\u001b[0m\n\u001b[1;32m    378\u001b[0m                 \u001b[0;31m# Python 2.7, use buffering of HTTP responses\u001b[0m\u001b[0;34m\u001b[0m\u001b[0;34m\u001b[0m\u001b[0;34m\u001b[0m\u001b[0m\n\u001b[0;32m--> 379\u001b[0;31m                 \u001b[0mhttplib_response\u001b[0m \u001b[0;34m=\u001b[0m \u001b[0mconn\u001b[0m\u001b[0;34m.\u001b[0m\u001b[0mgetresponse\u001b[0m\u001b[0;34m(\u001b[0m\u001b[0mbuffering\u001b[0m\u001b[0;34m=\u001b[0m\u001b[0;32mTrue\u001b[0m\u001b[0;34m)\u001b[0m\u001b[0;34m\u001b[0m\u001b[0;34m\u001b[0m\u001b[0m\n\u001b[0m\u001b[1;32m    380\u001b[0m             \u001b[0;32mexcept\u001b[0m \u001b[0mTypeError\u001b[0m\u001b[0;34m:\u001b[0m\u001b[0;34m\u001b[0m\u001b[0;34m\u001b[0m\u001b[0m\n",
      "\u001b[0;31mTypeError\u001b[0m: getresponse() got an unexpected keyword argument 'buffering'",
      "\nDuring handling of the above exception, another exception occurred:\n",
      "\u001b[0;31mKeyboardInterrupt\u001b[0m                         Traceback (most recent call last)",
      "\u001b[0;32m<ipython-input-31-cc3d1aedd0b7>\u001b[0m in \u001b[0;36m<module>\u001b[0;34m()\u001b[0m\n\u001b[1;32m      6\u001b[0m         \u001b[0;32mif\u001b[0m \u001b[0mfunded_address\u001b[0m \u001b[0;32mnot\u001b[0m \u001b[0;32min\u001b[0m \u001b[0mopen_funded_addresses\u001b[0m\u001b[0;34m:\u001b[0m\u001b[0;34m\u001b[0m\u001b[0;34m\u001b[0m\u001b[0m\n\u001b[1;32m      7\u001b[0m             \u001b[0mprint\u001b[0m\u001b[0;34m(\u001b[0m\u001b[0mi\u001b[0m\u001b[0;34m,\u001b[0m \u001b[0mend\u001b[0m\u001b[0;34m=\u001b[0m\u001b[0;34m'\\r'\u001b[0m\u001b[0;34m)\u001b[0m\u001b[0;34m\u001b[0m\u001b[0;34m\u001b[0m\u001b[0m\n\u001b[0;32m----> 8\u001b[0;31m             \u001b[0mnew_stxs\u001b[0m \u001b[0;34m=\u001b[0m \u001b[0mget_address_txs\u001b[0m\u001b[0;34m(\u001b[0m\u001b[0mfunded_address\u001b[0m\u001b[0;34m)\u001b[0m\u001b[0;34m\u001b[0m\u001b[0;34m\u001b[0m\u001b[0m\n\u001b[0m\u001b[1;32m      9\u001b[0m             \u001b[0;32mif\u001b[0m \u001b[0mnew_stxs\u001b[0m\u001b[0;34m:\u001b[0m\u001b[0;34m\u001b[0m\u001b[0;34m\u001b[0m\u001b[0m\n\u001b[1;32m     10\u001b[0m                 \u001b[0;32mfor\u001b[0m \u001b[0mstx\u001b[0m \u001b[0;32min\u001b[0m \u001b[0mnew_stxs\u001b[0m\u001b[0;34m:\u001b[0m\u001b[0;34m\u001b[0m\u001b[0;34m\u001b[0m\u001b[0m\n",
      "\u001b[0;32m~/lightning/src/api_calls.py\u001b[0m in \u001b[0;36mget_address_txs\u001b[0;34m(address, currency, page_size)\u001b[0m\n\u001b[1;32m     65\u001b[0m     \u001b[0murl\u001b[0m \u001b[0;34m=\u001b[0m \u001b[0mapi_path\u001b[0m \u001b[0;34m+\u001b[0m \u001b[0mcurrency\u001b[0m \u001b[0;34m+\u001b[0m \u001b[0;34m'/'\u001b[0m \u001b[0;34m+\u001b[0m \u001b[0;34m'addresses/'\u001b[0m \u001b[0;34m+\u001b[0m \u001b[0maddress\u001b[0m \u001b[0;34m+\u001b[0m \u001b[0;34m'/txs?pagesize='\u001b[0m \u001b[0;34m+\u001b[0m \u001b[0mstr\u001b[0m\u001b[0;34m(\u001b[0m\u001b[0mpage_size\u001b[0m\u001b[0;34m)\u001b[0m\u001b[0;34m\u001b[0m\u001b[0;34m\u001b[0m\u001b[0m\n\u001b[1;32m     66\u001b[0m     \u001b[0md\u001b[0m \u001b[0;34m=\u001b[0m \u001b[0murl2dict\u001b[0m\u001b[0;34m(\u001b[0m\u001b[0murl\u001b[0m\u001b[0;34m)\u001b[0m\u001b[0;34m\u001b[0m\u001b[0;34m\u001b[0m\u001b[0m\n\u001b[0;32m---> 67\u001b[0;31m     \u001b[0;32mtry\u001b[0m\u001b[0;34m:\u001b[0m\u001b[0;34m\u001b[0m\u001b[0;34m\u001b[0m\u001b[0m\n\u001b[0m\u001b[1;32m     68\u001b[0m         \u001b[0;32mreturn\u001b[0m \u001b[0md\u001b[0m\u001b[0;34m[\u001b[0m\u001b[0;34m'address_txs'\u001b[0m\u001b[0;34m]\u001b[0m\u001b[0;34m\u001b[0m\u001b[0;34m\u001b[0m\u001b[0m\n\u001b[1;32m     69\u001b[0m     \u001b[0;32mexcept\u001b[0m\u001b[0;34m:\u001b[0m\u001b[0;34m\u001b[0m\u001b[0;34m\u001b[0m\u001b[0m\n",
      "\u001b[0;32m~/lightning/src/api_calls.py\u001b[0m in \u001b[0;36murl2dict\u001b[0;34m(url)\u001b[0m\n\u001b[1;32m     10\u001b[0m     \u001b[0;31m# print(url)\u001b[0m\u001b[0;34m\u001b[0m\u001b[0;34m\u001b[0m\u001b[0;34m\u001b[0m\u001b[0m\n\u001b[1;32m     11\u001b[0m     \u001b[0;32mfor\u001b[0m \u001b[0mi\u001b[0m \u001b[0;32min\u001b[0m \u001b[0mrange\u001b[0m\u001b[0;34m(\u001b[0m\u001b[0;36m4\u001b[0m\u001b[0;34m)\u001b[0m\u001b[0;34m:\u001b[0m  \u001b[0;31m# allow some failures\u001b[0m\u001b[0;34m\u001b[0m\u001b[0;34m\u001b[0m\u001b[0m\n\u001b[0;32m---> 12\u001b[0;31m         \u001b[0mr\u001b[0m \u001b[0;34m=\u001b[0m \u001b[0mrequests\u001b[0m\u001b[0;34m.\u001b[0m\u001b[0mget\u001b[0m\u001b[0;34m(\u001b[0m\u001b[0murl\u001b[0m\u001b[0;34m,\u001b[0m \u001b[0mheaders\u001b[0m\u001b[0;34m=\u001b[0m\u001b[0mheaders\u001b[0m\u001b[0;34m)\u001b[0m\u001b[0;34m\u001b[0m\u001b[0;34m\u001b[0m\u001b[0m\n\u001b[0m\u001b[1;32m     13\u001b[0m         \u001b[0md\u001b[0m \u001b[0;34m=\u001b[0m \u001b[0mjson\u001b[0m\u001b[0;34m.\u001b[0m\u001b[0mloads\u001b[0m\u001b[0;34m(\u001b[0m\u001b[0mr\u001b[0m\u001b[0;34m.\u001b[0m\u001b[0mtext\u001b[0m\u001b[0;34m)\u001b[0m\u001b[0;34m\u001b[0m\u001b[0;34m\u001b[0m\u001b[0m\n\u001b[1;32m     14\u001b[0m         \u001b[0;32mif\u001b[0m \u001b[0;34m'message'\u001b[0m \u001b[0;32mnot\u001b[0m \u001b[0;32min\u001b[0m \u001b[0md\u001b[0m\u001b[0;34m:\u001b[0m\u001b[0;34m\u001b[0m\u001b[0;34m\u001b[0m\u001b[0m\n",
      "\u001b[0;32m/usr/local/lib/python3.6/dist-packages/requests/api.py\u001b[0m in \u001b[0;36mget\u001b[0;34m(url, params, **kwargs)\u001b[0m\n\u001b[1;32m     73\u001b[0m \u001b[0;34m\u001b[0m\u001b[0m\n\u001b[1;32m     74\u001b[0m     \u001b[0mkwargs\u001b[0m\u001b[0;34m.\u001b[0m\u001b[0msetdefault\u001b[0m\u001b[0;34m(\u001b[0m\u001b[0;34m'allow_redirects'\u001b[0m\u001b[0;34m,\u001b[0m \u001b[0;32mTrue\u001b[0m\u001b[0;34m)\u001b[0m\u001b[0;34m\u001b[0m\u001b[0;34m\u001b[0m\u001b[0m\n\u001b[0;32m---> 75\u001b[0;31m     \u001b[0;32mreturn\u001b[0m \u001b[0mrequest\u001b[0m\u001b[0;34m(\u001b[0m\u001b[0;34m'get'\u001b[0m\u001b[0;34m,\u001b[0m \u001b[0murl\u001b[0m\u001b[0;34m,\u001b[0m \u001b[0mparams\u001b[0m\u001b[0;34m=\u001b[0m\u001b[0mparams\u001b[0m\u001b[0;34m,\u001b[0m \u001b[0;34m**\u001b[0m\u001b[0mkwargs\u001b[0m\u001b[0;34m)\u001b[0m\u001b[0;34m\u001b[0m\u001b[0;34m\u001b[0m\u001b[0m\n\u001b[0m\u001b[1;32m     76\u001b[0m \u001b[0;34m\u001b[0m\u001b[0m\n\u001b[1;32m     77\u001b[0m \u001b[0;34m\u001b[0m\u001b[0m\n",
      "\u001b[0;32m/usr/local/lib/python3.6/dist-packages/requests/api.py\u001b[0m in \u001b[0;36mrequest\u001b[0;34m(method, url, **kwargs)\u001b[0m\n\u001b[1;32m     58\u001b[0m     \u001b[0;31m# cases, and look like a memory leak in others.\u001b[0m\u001b[0;34m\u001b[0m\u001b[0;34m\u001b[0m\u001b[0;34m\u001b[0m\u001b[0m\n\u001b[1;32m     59\u001b[0m     \u001b[0;32mwith\u001b[0m \u001b[0msessions\u001b[0m\u001b[0;34m.\u001b[0m\u001b[0mSession\u001b[0m\u001b[0;34m(\u001b[0m\u001b[0;34m)\u001b[0m \u001b[0;32mas\u001b[0m \u001b[0msession\u001b[0m\u001b[0;34m:\u001b[0m\u001b[0;34m\u001b[0m\u001b[0;34m\u001b[0m\u001b[0m\n\u001b[0;32m---> 60\u001b[0;31m         \u001b[0;32mreturn\u001b[0m \u001b[0msession\u001b[0m\u001b[0;34m.\u001b[0m\u001b[0mrequest\u001b[0m\u001b[0;34m(\u001b[0m\u001b[0mmethod\u001b[0m\u001b[0;34m=\u001b[0m\u001b[0mmethod\u001b[0m\u001b[0;34m,\u001b[0m \u001b[0murl\u001b[0m\u001b[0;34m=\u001b[0m\u001b[0murl\u001b[0m\u001b[0;34m,\u001b[0m \u001b[0;34m**\u001b[0m\u001b[0mkwargs\u001b[0m\u001b[0;34m)\u001b[0m\u001b[0;34m\u001b[0m\u001b[0;34m\u001b[0m\u001b[0m\n\u001b[0m\u001b[1;32m     61\u001b[0m \u001b[0;34m\u001b[0m\u001b[0m\n\u001b[1;32m     62\u001b[0m \u001b[0;34m\u001b[0m\u001b[0m\n",
      "\u001b[0;32m/usr/local/lib/python3.6/dist-packages/requests/sessions.py\u001b[0m in \u001b[0;36mrequest\u001b[0;34m(self, method, url, params, data, headers, cookies, files, auth, timeout, allow_redirects, proxies, hooks, stream, verify, cert, json)\u001b[0m\n\u001b[1;32m    531\u001b[0m         }\n\u001b[1;32m    532\u001b[0m         \u001b[0msend_kwargs\u001b[0m\u001b[0;34m.\u001b[0m\u001b[0mupdate\u001b[0m\u001b[0;34m(\u001b[0m\u001b[0msettings\u001b[0m\u001b[0;34m)\u001b[0m\u001b[0;34m\u001b[0m\u001b[0;34m\u001b[0m\u001b[0m\n\u001b[0;32m--> 533\u001b[0;31m         \u001b[0mresp\u001b[0m \u001b[0;34m=\u001b[0m \u001b[0mself\u001b[0m\u001b[0;34m.\u001b[0m\u001b[0msend\u001b[0m\u001b[0;34m(\u001b[0m\u001b[0mprep\u001b[0m\u001b[0;34m,\u001b[0m \u001b[0;34m**\u001b[0m\u001b[0msend_kwargs\u001b[0m\u001b[0;34m)\u001b[0m\u001b[0;34m\u001b[0m\u001b[0;34m\u001b[0m\u001b[0m\n\u001b[0m\u001b[1;32m    534\u001b[0m \u001b[0;34m\u001b[0m\u001b[0m\n\u001b[1;32m    535\u001b[0m         \u001b[0;32mreturn\u001b[0m \u001b[0mresp\u001b[0m\u001b[0;34m\u001b[0m\u001b[0;34m\u001b[0m\u001b[0m\n",
      "\u001b[0;32m/usr/local/lib/python3.6/dist-packages/requests/sessions.py\u001b[0m in \u001b[0;36msend\u001b[0;34m(self, request, **kwargs)\u001b[0m\n\u001b[1;32m    644\u001b[0m \u001b[0;34m\u001b[0m\u001b[0m\n\u001b[1;32m    645\u001b[0m         \u001b[0;31m# Send the request\u001b[0m\u001b[0;34m\u001b[0m\u001b[0;34m\u001b[0m\u001b[0;34m\u001b[0m\u001b[0m\n\u001b[0;32m--> 646\u001b[0;31m         \u001b[0mr\u001b[0m \u001b[0;34m=\u001b[0m \u001b[0madapter\u001b[0m\u001b[0;34m.\u001b[0m\u001b[0msend\u001b[0m\u001b[0;34m(\u001b[0m\u001b[0mrequest\u001b[0m\u001b[0;34m,\u001b[0m \u001b[0;34m**\u001b[0m\u001b[0mkwargs\u001b[0m\u001b[0;34m)\u001b[0m\u001b[0;34m\u001b[0m\u001b[0;34m\u001b[0m\u001b[0m\n\u001b[0m\u001b[1;32m    647\u001b[0m \u001b[0;34m\u001b[0m\u001b[0m\n\u001b[1;32m    648\u001b[0m         \u001b[0;31m# Total elapsed time of the request (approximately)\u001b[0m\u001b[0;34m\u001b[0m\u001b[0;34m\u001b[0m\u001b[0;34m\u001b[0m\u001b[0m\n",
      "\u001b[0;32m/usr/local/lib/python3.6/dist-packages/requests/adapters.py\u001b[0m in \u001b[0;36msend\u001b[0;34m(self, request, stream, timeout, verify, cert, proxies)\u001b[0m\n\u001b[1;32m    447\u001b[0m                     \u001b[0mdecode_content\u001b[0m\u001b[0;34m=\u001b[0m\u001b[0;32mFalse\u001b[0m\u001b[0;34m,\u001b[0m\u001b[0;34m\u001b[0m\u001b[0;34m\u001b[0m\u001b[0m\n\u001b[1;32m    448\u001b[0m                     \u001b[0mretries\u001b[0m\u001b[0;34m=\u001b[0m\u001b[0mself\u001b[0m\u001b[0;34m.\u001b[0m\u001b[0mmax_retries\u001b[0m\u001b[0;34m,\u001b[0m\u001b[0;34m\u001b[0m\u001b[0;34m\u001b[0m\u001b[0m\n\u001b[0;32m--> 449\u001b[0;31m                     \u001b[0mtimeout\u001b[0m\u001b[0;34m=\u001b[0m\u001b[0mtimeout\u001b[0m\u001b[0;34m\u001b[0m\u001b[0;34m\u001b[0m\u001b[0m\n\u001b[0m\u001b[1;32m    450\u001b[0m                 )\n\u001b[1;32m    451\u001b[0m \u001b[0;34m\u001b[0m\u001b[0m\n",
      "\u001b[0;32m~/.local/lib/python3.6/site-packages/urllib3/connectionpool.py\u001b[0m in \u001b[0;36murlopen\u001b[0;34m(self, method, url, body, headers, retries, redirect, assert_same_host, timeout, pool_timeout, release_conn, chunked, body_pos, **response_kw)\u001b[0m\n\u001b[1;32m    601\u001b[0m                                                   \u001b[0mtimeout\u001b[0m\u001b[0;34m=\u001b[0m\u001b[0mtimeout_obj\u001b[0m\u001b[0;34m,\u001b[0m\u001b[0;34m\u001b[0m\u001b[0;34m\u001b[0m\u001b[0m\n\u001b[1;32m    602\u001b[0m                                                   \u001b[0mbody\u001b[0m\u001b[0;34m=\u001b[0m\u001b[0mbody\u001b[0m\u001b[0;34m,\u001b[0m \u001b[0mheaders\u001b[0m\u001b[0;34m=\u001b[0m\u001b[0mheaders\u001b[0m\u001b[0;34m,\u001b[0m\u001b[0;34m\u001b[0m\u001b[0;34m\u001b[0m\u001b[0m\n\u001b[0;32m--> 603\u001b[0;31m                                                   chunked=chunked)\n\u001b[0m\u001b[1;32m    604\u001b[0m \u001b[0;34m\u001b[0m\u001b[0m\n\u001b[1;32m    605\u001b[0m             \u001b[0;31m# If we're going to release the connection in ``finally:``, then\u001b[0m\u001b[0;34m\u001b[0m\u001b[0;34m\u001b[0m\u001b[0;34m\u001b[0m\u001b[0m\n",
      "\u001b[0;32m~/.local/lib/python3.6/site-packages/urllib3/connectionpool.py\u001b[0m in \u001b[0;36m_make_request\u001b[0;34m(self, conn, method, url, timeout, chunked, **httplib_request_kw)\u001b[0m\n\u001b[1;32m    381\u001b[0m                 \u001b[0;31m# Python 3\u001b[0m\u001b[0;34m\u001b[0m\u001b[0;34m\u001b[0m\u001b[0;34m\u001b[0m\u001b[0m\n\u001b[1;32m    382\u001b[0m                 \u001b[0;32mtry\u001b[0m\u001b[0;34m:\u001b[0m\u001b[0;34m\u001b[0m\u001b[0;34m\u001b[0m\u001b[0m\n\u001b[0;32m--> 383\u001b[0;31m                     \u001b[0mhttplib_response\u001b[0m \u001b[0;34m=\u001b[0m \u001b[0mconn\u001b[0m\u001b[0;34m.\u001b[0m\u001b[0mgetresponse\u001b[0m\u001b[0;34m(\u001b[0m\u001b[0;34m)\u001b[0m\u001b[0;34m\u001b[0m\u001b[0;34m\u001b[0m\u001b[0m\n\u001b[0m\u001b[1;32m    384\u001b[0m                 \u001b[0;32mexcept\u001b[0m \u001b[0mException\u001b[0m \u001b[0;32mas\u001b[0m \u001b[0me\u001b[0m\u001b[0;34m:\u001b[0m\u001b[0;34m\u001b[0m\u001b[0;34m\u001b[0m\u001b[0m\n\u001b[1;32m    385\u001b[0m                     \u001b[0;31m# Remove the TypeError from the exception chain in Python 3;\u001b[0m\u001b[0;34m\u001b[0m\u001b[0;34m\u001b[0m\u001b[0;34m\u001b[0m\u001b[0m\n",
      "\u001b[0;32m/usr/lib/python3.6/http/client.py\u001b[0m in \u001b[0;36mgetresponse\u001b[0;34m(self)\u001b[0m\n\u001b[1;32m   1354\u001b[0m         \u001b[0;32mtry\u001b[0m\u001b[0;34m:\u001b[0m\u001b[0;34m\u001b[0m\u001b[0;34m\u001b[0m\u001b[0m\n\u001b[1;32m   1355\u001b[0m             \u001b[0;32mtry\u001b[0m\u001b[0;34m:\u001b[0m\u001b[0;34m\u001b[0m\u001b[0;34m\u001b[0m\u001b[0m\n\u001b[0;32m-> 1356\u001b[0;31m                 \u001b[0mresponse\u001b[0m\u001b[0;34m.\u001b[0m\u001b[0mbegin\u001b[0m\u001b[0;34m(\u001b[0m\u001b[0;34m)\u001b[0m\u001b[0;34m\u001b[0m\u001b[0;34m\u001b[0m\u001b[0m\n\u001b[0m\u001b[1;32m   1357\u001b[0m             \u001b[0;32mexcept\u001b[0m \u001b[0mConnectionError\u001b[0m\u001b[0;34m:\u001b[0m\u001b[0;34m\u001b[0m\u001b[0;34m\u001b[0m\u001b[0m\n\u001b[1;32m   1358\u001b[0m                 \u001b[0mself\u001b[0m\u001b[0;34m.\u001b[0m\u001b[0mclose\u001b[0m\u001b[0;34m(\u001b[0m\u001b[0;34m)\u001b[0m\u001b[0;34m\u001b[0m\u001b[0;34m\u001b[0m\u001b[0m\n",
      "\u001b[0;32m/usr/lib/python3.6/http/client.py\u001b[0m in \u001b[0;36mbegin\u001b[0;34m(self)\u001b[0m\n\u001b[1;32m    305\u001b[0m         \u001b[0;31m# read until we get a non-100 response\u001b[0m\u001b[0;34m\u001b[0m\u001b[0;34m\u001b[0m\u001b[0;34m\u001b[0m\u001b[0m\n\u001b[1;32m    306\u001b[0m         \u001b[0;32mwhile\u001b[0m \u001b[0;32mTrue\u001b[0m\u001b[0;34m:\u001b[0m\u001b[0;34m\u001b[0m\u001b[0;34m\u001b[0m\u001b[0m\n\u001b[0;32m--> 307\u001b[0;31m             \u001b[0mversion\u001b[0m\u001b[0;34m,\u001b[0m \u001b[0mstatus\u001b[0m\u001b[0;34m,\u001b[0m \u001b[0mreason\u001b[0m \u001b[0;34m=\u001b[0m \u001b[0mself\u001b[0m\u001b[0;34m.\u001b[0m\u001b[0m_read_status\u001b[0m\u001b[0;34m(\u001b[0m\u001b[0;34m)\u001b[0m\u001b[0;34m\u001b[0m\u001b[0;34m\u001b[0m\u001b[0m\n\u001b[0m\u001b[1;32m    308\u001b[0m             \u001b[0;32mif\u001b[0m \u001b[0mstatus\u001b[0m \u001b[0;34m!=\u001b[0m \u001b[0mCONTINUE\u001b[0m\u001b[0;34m:\u001b[0m\u001b[0;34m\u001b[0m\u001b[0;34m\u001b[0m\u001b[0m\n\u001b[1;32m    309\u001b[0m                 \u001b[0;32mbreak\u001b[0m\u001b[0;34m\u001b[0m\u001b[0;34m\u001b[0m\u001b[0m\n",
      "\u001b[0;32m/usr/lib/python3.6/http/client.py\u001b[0m in \u001b[0;36m_read_status\u001b[0;34m(self)\u001b[0m\n\u001b[1;32m    266\u001b[0m \u001b[0;34m\u001b[0m\u001b[0m\n\u001b[1;32m    267\u001b[0m     \u001b[0;32mdef\u001b[0m \u001b[0m_read_status\u001b[0m\u001b[0;34m(\u001b[0m\u001b[0mself\u001b[0m\u001b[0;34m)\u001b[0m\u001b[0;34m:\u001b[0m\u001b[0;34m\u001b[0m\u001b[0;34m\u001b[0m\u001b[0m\n\u001b[0;32m--> 268\u001b[0;31m         \u001b[0mline\u001b[0m \u001b[0;34m=\u001b[0m \u001b[0mstr\u001b[0m\u001b[0;34m(\u001b[0m\u001b[0mself\u001b[0m\u001b[0;34m.\u001b[0m\u001b[0mfp\u001b[0m\u001b[0;34m.\u001b[0m\u001b[0mreadline\u001b[0m\u001b[0;34m(\u001b[0m\u001b[0m_MAXLINE\u001b[0m \u001b[0;34m+\u001b[0m \u001b[0;36m1\u001b[0m\u001b[0;34m)\u001b[0m\u001b[0;34m,\u001b[0m \u001b[0;34m\"iso-8859-1\"\u001b[0m\u001b[0;34m)\u001b[0m\u001b[0;34m\u001b[0m\u001b[0;34m\u001b[0m\u001b[0m\n\u001b[0m\u001b[1;32m    269\u001b[0m         \u001b[0;32mif\u001b[0m \u001b[0mlen\u001b[0m\u001b[0;34m(\u001b[0m\u001b[0mline\u001b[0m\u001b[0;34m)\u001b[0m \u001b[0;34m>\u001b[0m \u001b[0m_MAXLINE\u001b[0m\u001b[0;34m:\u001b[0m\u001b[0;34m\u001b[0m\u001b[0;34m\u001b[0m\u001b[0m\n\u001b[1;32m    270\u001b[0m             \u001b[0;32mraise\u001b[0m \u001b[0mLineTooLong\u001b[0m\u001b[0;34m(\u001b[0m\u001b[0;34m\"status line\"\u001b[0m\u001b[0;34m)\u001b[0m\u001b[0;34m\u001b[0m\u001b[0;34m\u001b[0m\u001b[0m\n",
      "\u001b[0;32m/usr/lib/python3.6/socket.py\u001b[0m in \u001b[0;36mreadinto\u001b[0;34m(self, b)\u001b[0m\n\u001b[1;32m    584\u001b[0m         \u001b[0;32mwhile\u001b[0m \u001b[0;32mTrue\u001b[0m\u001b[0;34m:\u001b[0m\u001b[0;34m\u001b[0m\u001b[0;34m\u001b[0m\u001b[0m\n\u001b[1;32m    585\u001b[0m             \u001b[0;32mtry\u001b[0m\u001b[0;34m:\u001b[0m\u001b[0;34m\u001b[0m\u001b[0;34m\u001b[0m\u001b[0m\n\u001b[0;32m--> 586\u001b[0;31m                 \u001b[0;32mreturn\u001b[0m \u001b[0mself\u001b[0m\u001b[0;34m.\u001b[0m\u001b[0m_sock\u001b[0m\u001b[0;34m.\u001b[0m\u001b[0mrecv_into\u001b[0m\u001b[0;34m(\u001b[0m\u001b[0mb\u001b[0m\u001b[0;34m)\u001b[0m\u001b[0;34m\u001b[0m\u001b[0;34m\u001b[0m\u001b[0m\n\u001b[0m\u001b[1;32m    587\u001b[0m             \u001b[0;32mexcept\u001b[0m \u001b[0mtimeout\u001b[0m\u001b[0;34m:\u001b[0m\u001b[0;34m\u001b[0m\u001b[0;34m\u001b[0m\u001b[0m\n\u001b[1;32m    588\u001b[0m                 \u001b[0mself\u001b[0m\u001b[0;34m.\u001b[0m\u001b[0m_timeout_occurred\u001b[0m \u001b[0;34m=\u001b[0m \u001b[0;32mTrue\u001b[0m\u001b[0;34m\u001b[0m\u001b[0;34m\u001b[0m\u001b[0m\n",
      "\u001b[0;32m~/.local/lib/python3.6/site-packages/urllib3/contrib/pyopenssl.py\u001b[0m in \u001b[0;36mrecv_into\u001b[0;34m(self, *args, **kwargs)\u001b[0m\n\u001b[1;32m    302\u001b[0m     \u001b[0;32mdef\u001b[0m \u001b[0mrecv_into\u001b[0m\u001b[0;34m(\u001b[0m\u001b[0mself\u001b[0m\u001b[0;34m,\u001b[0m \u001b[0;34m*\u001b[0m\u001b[0margs\u001b[0m\u001b[0;34m,\u001b[0m \u001b[0;34m**\u001b[0m\u001b[0mkwargs\u001b[0m\u001b[0;34m)\u001b[0m\u001b[0;34m:\u001b[0m\u001b[0;34m\u001b[0m\u001b[0;34m\u001b[0m\u001b[0m\n\u001b[1;32m    303\u001b[0m         \u001b[0;32mtry\u001b[0m\u001b[0;34m:\u001b[0m\u001b[0;34m\u001b[0m\u001b[0;34m\u001b[0m\u001b[0m\n\u001b[0;32m--> 304\u001b[0;31m             \u001b[0;32mreturn\u001b[0m \u001b[0mself\u001b[0m\u001b[0;34m.\u001b[0m\u001b[0mconnection\u001b[0m\u001b[0;34m.\u001b[0m\u001b[0mrecv_into\u001b[0m\u001b[0;34m(\u001b[0m\u001b[0;34m*\u001b[0m\u001b[0margs\u001b[0m\u001b[0;34m,\u001b[0m \u001b[0;34m**\u001b[0m\u001b[0mkwargs\u001b[0m\u001b[0;34m)\u001b[0m\u001b[0;34m\u001b[0m\u001b[0;34m\u001b[0m\u001b[0m\n\u001b[0m\u001b[1;32m    305\u001b[0m         \u001b[0;32mexcept\u001b[0m \u001b[0mOpenSSL\u001b[0m\u001b[0;34m.\u001b[0m\u001b[0mSSL\u001b[0m\u001b[0;34m.\u001b[0m\u001b[0mSysCallError\u001b[0m \u001b[0;32mas\u001b[0m \u001b[0me\u001b[0m\u001b[0;34m:\u001b[0m\u001b[0;34m\u001b[0m\u001b[0;34m\u001b[0m\u001b[0m\n\u001b[1;32m    306\u001b[0m             \u001b[0;32mif\u001b[0m \u001b[0mself\u001b[0m\u001b[0;34m.\u001b[0m\u001b[0msuppress_ragged_eofs\u001b[0m \u001b[0;32mand\u001b[0m \u001b[0me\u001b[0m\u001b[0;34m.\u001b[0m\u001b[0margs\u001b[0m \u001b[0;34m==\u001b[0m \u001b[0;34m(\u001b[0m\u001b[0;34m-\u001b[0m\u001b[0;36m1\u001b[0m\u001b[0;34m,\u001b[0m \u001b[0;34m'Unexpected EOF'\u001b[0m\u001b[0;34m)\u001b[0m\u001b[0;34m:\u001b[0m\u001b[0;34m\u001b[0m\u001b[0;34m\u001b[0m\u001b[0m\n",
      "\u001b[0;32m~/.local/lib/python3.6/site-packages/OpenSSL/SSL.py\u001b[0m in \u001b[0;36mrecv_into\u001b[0;34m(self, buffer, nbytes, flags)\u001b[0m\n\u001b[1;32m   1819\u001b[0m             \u001b[0mresult\u001b[0m \u001b[0;34m=\u001b[0m \u001b[0m_lib\u001b[0m\u001b[0;34m.\u001b[0m\u001b[0mSSL_peek\u001b[0m\u001b[0;34m(\u001b[0m\u001b[0mself\u001b[0m\u001b[0;34m.\u001b[0m\u001b[0m_ssl\u001b[0m\u001b[0;34m,\u001b[0m \u001b[0mbuf\u001b[0m\u001b[0;34m,\u001b[0m \u001b[0mnbytes\u001b[0m\u001b[0;34m)\u001b[0m\u001b[0;34m\u001b[0m\u001b[0;34m\u001b[0m\u001b[0m\n\u001b[1;32m   1820\u001b[0m         \u001b[0;32melse\u001b[0m\u001b[0;34m:\u001b[0m\u001b[0;34m\u001b[0m\u001b[0;34m\u001b[0m\u001b[0m\n\u001b[0;32m-> 1821\u001b[0;31m             \u001b[0mresult\u001b[0m \u001b[0;34m=\u001b[0m \u001b[0m_lib\u001b[0m\u001b[0;34m.\u001b[0m\u001b[0mSSL_read\u001b[0m\u001b[0;34m(\u001b[0m\u001b[0mself\u001b[0m\u001b[0;34m.\u001b[0m\u001b[0m_ssl\u001b[0m\u001b[0;34m,\u001b[0m \u001b[0mbuf\u001b[0m\u001b[0;34m,\u001b[0m \u001b[0mnbytes\u001b[0m\u001b[0;34m)\u001b[0m\u001b[0;34m\u001b[0m\u001b[0;34m\u001b[0m\u001b[0m\n\u001b[0m\u001b[1;32m   1822\u001b[0m         \u001b[0mself\u001b[0m\u001b[0;34m.\u001b[0m\u001b[0m_raise_ssl_error\u001b[0m\u001b[0;34m(\u001b[0m\u001b[0mself\u001b[0m\u001b[0;34m.\u001b[0m\u001b[0m_ssl\u001b[0m\u001b[0;34m,\u001b[0m \u001b[0mresult\u001b[0m\u001b[0;34m)\u001b[0m\u001b[0;34m\u001b[0m\u001b[0;34m\u001b[0m\u001b[0m\n\u001b[1;32m   1823\u001b[0m \u001b[0;34m\u001b[0m\u001b[0m\n",
      "\u001b[0;31mKeyboardInterrupt\u001b[0m: "
     ]
    }
   ],
   "source": [
    "print(len(funded_address_settlement_txs))\n",
    "i = 0\n",
    "for funded_address, stxs in funded_address_settlement_txs.items():\n",
    "    i += 1\n",
    "    if not stxs and i > 66339:\n",
    "        if funded_address not in open_funded_addresses:\n",
    "            print(i, end='\\r')\n",
    "            new_stxs = get_address_txs(funded_address)\n",
    "            if new_stxs:\n",
    "                for stx in new_stxs:\n",
    "                    if stx['height'] < 618857 and stx['value']['value'] < 0:\n",
    "                        open_funded_addresses[funded_address] = stx\n",
    "                        print(funded_address, stx['tx_hash'])\n",
    "    #         open_funded_addresses[funded_address] = txs"
   ]
  },
  {
   "cell_type": "code",
   "execution_count": 15,
   "metadata": {
    "ExecuteTime": {
     "end_time": "2020-07-15T10:50:20.399687Z",
     "start_time": "2020-07-15T10:50:20.393732Z"
    }
   },
   "outputs": [],
   "source": [
    "def url2dict2(url):\n",
    "    print(url)\n",
    "    for i in range(4):  # allow some failures\n",
    "        print('requesting')\n",
    "        r = requests.get(url, headers=headers)\n",
    "        print('arrived')\n",
    "        d = json.loads(r.text)\n",
    "        if 'message' not in d:\n",
    "            return d\n",
    "    return d\n"
   ]
  },
  {
   "cell_type": "code",
   "execution_count": 16,
   "metadata": {
    "ExecuteTime": {
     "end_time": "2020-07-15T10:50:21.398721Z",
     "start_time": "2020-07-15T10:50:21.394770Z"
    }
   },
   "outputs": [],
   "source": [
    "def get_address_txs2(address, currency='btc', page_size=10000):\n",
    "    url = api_path + currency + '/' + 'addresses/' + address + '/txs?pagesize=' + str(page_size)\n",
    "    d = url2dict2(url)\n",
    "    try:\n",
    "        return d['address_txs']\n",
    "    except:\n",
    "        print('fail', d)\n"
   ]
  },
  {
   "cell_type": "code",
   "execution_count": 29,
   "metadata": {
    "ExecuteTime": {
     "end_time": "2020-07-15T13:52:47.413884Z",
     "start_time": "2020-07-15T13:52:46.903240Z"
    }
   },
   "outputs": [
    {
     "name": "stdout",
     "output_type": "stream",
     "text": [
      "https://api.graphsense.info/btc/addresses/bc1q3uql08mjxas4dkxvqck4w6tm27n60ptzdgg9nav3a3m3tn842fss8y8y52/txs?pagesize=10000\n",
      "requesting\n",
      "arrived\n"
     ]
    }
   ],
   "source": [
    "txs = get_address_txs2(funded_address)"
   ]
  },
  {
   "cell_type": "code",
   "execution_count": 13,
   "metadata": {
    "ExecuteTime": {
     "end_time": "2020-07-14T08:12:17.945970Z",
     "start_time": "2020-07-14T08:12:17.942109Z"
    }
   },
   "outputs": [
    {
     "data": {
      "text/plain": [
       "int"
      ]
     },
     "execution_count": 13,
     "metadata": {},
     "output_type": "execute_result"
    }
   ],
   "source": [
    "type(txs[0]['height'])"
   ]
  },
  {
   "cell_type": "code",
   "execution_count": 217,
   "metadata": {
    "ExecuteTime": {
     "end_time": "2020-06-02T15:39:01.199183Z",
     "start_time": "2020-06-02T15:39:01.024186Z"
    }
   },
   "outputs": [],
   "source": [
    "# blockstream_funding_txs = read_json(level1_folder + 'blockstream_funding_txs.json')\n",
    "blockstream_funding_txs = read_json(level1_folder + 'blockstream_funding_txs_snakes.json')"
   ]
  },
  {
   "cell_type": "code",
   "execution_count": 10,
   "metadata": {
    "ExecuteTime": {
     "end_time": "2020-07-14T08:09:29.981601Z",
     "start_time": "2020-07-14T08:09:29.976903Z"
    }
   },
   "outputs": [
    {
     "data": {
      "text/plain": [
       "[{'address': 'bc1q5feeqqrnf4hlddpu87yf24lf4z7nwz77pygfywr7wtd75u2ys29qnk8s7f',\n",
       "  'height': 610375,\n",
       "  'timestamp': 1577661560,\n",
       "  'tx_hash': '000086d9c667afcaee614ccf39e820ec44229602fae7beeeda65bed915b09287',\n",
       "  'value': {'eur': 26.47, 'value': 400000, 'usd': 29.59}}]"
      ]
     },
     "execution_count": 10,
     "metadata": {},
     "output_type": "execute_result"
    }
   ],
   "source": [
    "txs"
   ]
  },
  {
   "cell_type": "code",
   "execution_count": 216,
   "metadata": {
    "ExecuteTime": {
     "end_time": "2020-06-02T15:37:24.836588Z",
     "start_time": "2020-06-02T15:37:24.832631Z"
    }
   },
   "outputs": [
    {
     "data": {
      "text/plain": [
       "5088"
      ]
     },
     "execution_count": 216,
     "metadata": {},
     "output_type": "execute_result"
    }
   ],
   "source": [
    "len(blockstream_funding_txs)"
   ]
  },
  {
   "cell_type": "code",
   "execution_count": 219,
   "metadata": {
    "ExecuteTime": {
     "end_time": "2020-06-02T17:51:59.615770Z",
     "start_time": "2020-06-02T17:51:59.612238Z"
    }
   },
   "outputs": [
    {
     "data": {
      "text/plain": [
       "70782"
      ]
     },
     "execution_count": 219,
     "metadata": {},
     "output_type": "execute_result"
    }
   ],
   "source": [
    "len(funding_txs)"
   ]
  },
  {
   "cell_type": "code",
   "execution_count": null,
   "metadata": {},
   "outputs": [],
   "source": []
  },
  {
   "cell_type": "code",
   "execution_count": 218,
   "metadata": {
    "ExecuteTime": {
     "end_time": "2020-06-02T15:39:02.278784Z",
     "start_time": "2020-06-02T15:39:02.274773Z"
    }
   },
   "outputs": [
    {
     "data": {
      "text/plain": [
       "5465"
      ]
     },
     "execution_count": 218,
     "metadata": {},
     "output_type": "execute_result"
    }
   ],
   "source": [
    "len(blockstream_funding_txs)"
   ]
  },
  {
   "cell_type": "code",
   "execution_count": 14,
   "metadata": {
    "ExecuteTime": {
     "end_time": "2020-05-18T09:22:32.239705Z",
     "start_time": "2020-05-18T09:22:32.237188Z"
    }
   },
   "outputs": [],
   "source": [
    "def ts2date(ts):\n",
    "    return datetime.datetime.fromtimestamp(int(ts)).strftime('%Y-%m-%d %H:%M:%S')\n",
    "def ts2object(ts):\n",
    "    return datetime.datetime.fromtimestamp(int(ts))"
   ]
  },
  {
   "cell_type": "code",
   "execution_count": 15,
   "metadata": {
    "ExecuteTime": {
     "end_time": "2020-05-18T09:22:32.245113Z",
     "start_time": "2020-05-18T09:22:32.241981Z"
    }
   },
   "outputs": [],
   "source": [
    "# txs_f = set([el.split(':')[0] for el in  channels_friedhelm.chan_point.values])\n",
    "# timestamps = [tx['timestamp'] for tx in funding_txs.values()]\n",
    "# timestamps.sort()\n",
    "# timestamps_f = [tx['timestamp'] for tx in funding_txs.values() if tx['tx_hash'] in txs_f]\n",
    "# timestamps_f.sort()\n",
    "# x = [ts2object(t) for t in timestamps]\n",
    "# y = [1 for i in x]\n",
    "# x_f = [ts2object(t) for t in timestamps_f]\n",
    "# y_f = [1 for i in x_f]"
   ]
  },
  {
   "cell_type": "code",
   "execution_count": 16,
   "metadata": {
    "ExecuteTime": {
     "end_time": "2020-05-18T09:22:32.254421Z",
     "start_time": "2020-05-18T09:22:32.247946Z"
    }
   },
   "outputs": [],
   "source": [
    "# # time distribution of channels openings\n",
    "# plt.figure(figsize=(20,7))\n",
    "# plt.hist(timestamps, bins=365)\n",
    "# plt.show()"
   ]
  },
  {
   "cell_type": "code",
   "execution_count": 17,
   "metadata": {
    "ExecuteTime": {
     "end_time": "2020-05-18T09:22:32.258391Z",
     "start_time": "2020-05-18T09:22:32.256030Z"
    }
   },
   "outputs": [],
   "source": [
    "# xdiff = np.diff(timestamps)\n",
    "# xdiff_f = np.diff(timestamps_f)\n",
    "# xdiff_hours = [e/3600 for e in xdiff]\n",
    "# xdiff_hours_f = [e/3600 for e in xdiff_f]"
   ]
  },
  {
   "cell_type": "code",
   "execution_count": 18,
   "metadata": {
    "ExecuteTime": {
     "end_time": "2020-05-18T09:22:32.265558Z",
     "start_time": "2020-05-18T09:22:32.261655Z"
    }
   },
   "outputs": [],
   "source": [
    "# fs = 20\n",
    "# plt.figure(figsize=(25,7))\n",
    "# plt.scatter([i for i in range(len(xdiff_hours))], xdiff_hours, linewidth=0.01)\n",
    "# title = 'Time delta between the opening of adjacent channels. First Channel: ' + ts2date(timestamps[0]) + ' Last channel: ' + ts2date(timestamps[-1])\n",
    "# plt.title(title, fontsize=fs)\n",
    "# plt.ylabel('Hours', fontsize=fs)\n",
    "# plt.savefig('../plots/timedelta_channels_opening.pdf')\n",
    "# plt.show()\n"
   ]
  },
  {
   "cell_type": "code",
   "execution_count": 19,
   "metadata": {
    "ExecuteTime": {
     "end_time": "2020-05-18T09:22:32.270944Z",
     "start_time": "2020-05-18T09:22:32.268379Z"
    }
   },
   "outputs": [],
   "source": [
    "# fs = 20\n",
    "# plt.figure(figsize=(25,7))\n",
    "# plt.scatter([i for i in range(len(xdiff_hours_f))], xdiff_hours_f, linewidth=0.01)\n",
    "# plt.title(title, fontsize=fs)\n",
    "# plt.ylabel('Hours', fontsize=fs)\n",
    "# plt.savefig('../plots/timedelta_channels_opening_friedhelm.pdf')\n",
    "# plt.show()\n"
   ]
  },
  {
   "cell_type": "code",
   "execution_count": 20,
   "metadata": {
    "ExecuteTime": {
     "end_time": "2020-05-18T09:22:32.401289Z",
     "start_time": "2020-05-18T09:22:32.273216Z"
    }
   },
   "outputs": [],
   "source": [
    "###############\n",
    "funded_address_channel = dict()\n",
    "for channel in channels.chan_point.values:\n",
    "    hsh, out_index = channel.split(':')\n",
    "    funded_address = funding_txs[hsh]['outputs'][int(out_index)]['address']\n",
    "    if funded_address not in funded_address_channel:\n",
    "        funded_address_channel[funded_address] = channel\n",
    "    else:\n",
    "        print(funded_address, ' has multiple channels')"
   ]
  },
  {
   "cell_type": "code",
   "execution_count": 21,
   "metadata": {
    "ExecuteTime": {
     "end_time": "2020-05-18T09:22:32.405253Z",
     "start_time": "2020-05-18T09:22:32.403160Z"
    }
   },
   "outputs": [],
   "source": [
    "# len(funding_txs) # 70782: one less than len(funded_address_settlement_txs) because of one tx funding multiple"
   ]
  },
  {
   "cell_type": "code",
   "execution_count": 22,
   "metadata": {
    "ExecuteTime": {
     "end_time": "2020-05-18T09:22:32.410729Z",
     "start_time": "2020-05-18T09:22:32.407584Z"
    }
   },
   "outputs": [
    {
     "name": "stdout",
     "output_type": "stream",
     "text": [
      "Number of funding addresses: 117800\n"
     ]
    }
   ],
   "source": [
    "print('Number of funding addresses:', len(funding_address_entity))"
   ]
  },
  {
   "cell_type": "code",
   "execution_count": 23,
   "metadata": {
    "ExecuteTime": {
     "end_time": "2020-05-18T09:22:32.423751Z",
     "start_time": "2020-05-18T09:22:32.412975Z"
    }
   },
   "outputs": [
    {
     "name": "stdout",
     "output_type": "stream",
     "text": [
      "Number of funding entities: 69501\n"
     ]
    }
   ],
   "source": [
    "print('Number of funding entities:', len(set(funding_address_entity.values())))"
   ]
  },
  {
   "cell_type": "code",
   "execution_count": 24,
   "metadata": {
    "ExecuteTime": {
     "end_time": "2020-05-18T09:22:32.429970Z",
     "start_time": "2020-05-18T09:22:32.425653Z"
    }
   },
   "outputs": [],
   "source": [
    "# len(funded_address_settlement_txs) # 70783 "
   ]
  },
  {
   "cell_type": "code",
   "execution_count": 25,
   "metadata": {
    "ExecuteTime": {
     "end_time": "2020-05-18T09:22:32.434739Z",
     "start_time": "2020-05-18T09:22:32.431731Z"
    }
   },
   "outputs": [
    {
     "name": "stdout",
     "output_type": "stream",
     "text": [
      "Number of settlement addresses: 46782\n"
     ]
    }
   ],
   "source": [
    "print('Number of settlement addresses:', len(settlement_address_entity))"
   ]
  },
  {
   "cell_type": "code",
   "execution_count": 26,
   "metadata": {
    "ExecuteTime": {
     "end_time": "2020-05-18T09:22:32.442240Z",
     "start_time": "2020-05-18T09:22:32.436516Z"
    }
   },
   "outputs": [
    {
     "name": "stdout",
     "output_type": "stream",
     "text": [
      "Number of settlement entities: 28106\n"
     ]
    }
   ],
   "source": [
    "print('Number of settlement entities:', len(set(settlement_address_entity.values())))"
   ]
  },
  {
   "cell_type": "code",
   "execution_count": 27,
   "metadata": {
    "ExecuteTime": {
     "end_time": "2020-05-18T09:22:32.448182Z",
     "start_time": "2020-05-18T09:22:32.445035Z"
    }
   },
   "outputs": [],
   "source": [
    "# # to get settlement txs\n",
    "# for i, channel in enumerate(channels.chan_point.values[:10]):\n",
    "#     print(i, end='\\r')\n",
    "#     hsh, out_index = channel.split(':')\n",
    "#     funded_address = funding_txs[hsh]['outputs'][int(out_index)]['address']\n",
    "#     fund_satoshi = funding_txs[hsh]['outputs'][int(out_index)]['value']['value']\n",
    "#     if funded_address not in funded_address_settlement_txs:\n",
    "#         funded_address_settlement_txs[funded_address] = []\n",
    "#     try:\n",
    "#         txs = get_address_txs(funded_address)\n",
    "#         if len(txs) > 2:\n",
    "#             print(len(txs), funded_address)\n",
    "#         for tx in txs:\n",
    "#             if tx['value']['value'] == - fund_satoshi:\n",
    "#                 funded_address_settlement_txs[funded_address].append(get_tx(tx['tx_hash']))\n",
    "#     except Exception as e:\n",
    "#         print(e)\n",
    "#         fails.add(channel)\n",
    "\n",
    "# write_json(funded_address_settlement_txs, '../data/joined/funded_address_settlement_txs.json')"
   ]
  },
  {
   "cell_type": "code",
   "execution_count": 28,
   "metadata": {
    "ExecuteTime": {
     "end_time": "2020-05-18T09:22:32.453024Z",
     "start_time": "2020-05-18T09:22:32.449763Z"
    }
   },
   "outputs": [],
   "source": [
    "# # to compute money for each funded address\n",
    "# funded_address_funds = dict()\n",
    "# for channel in channels.chan_point.values:\n",
    "#     hsh, out_index = channel.split(':')\n",
    "#     funded_address = funding_txs[hsh]['outputs'][int(out_index)]['address']\n",
    "#     fund_satoshi = funding_txs[hsh]['outputs'][int(out_index)]['value']['value']\n",
    "#     if funded_address not in funded_address_funds:\n",
    "#         funded_address_funds[funded_address] = []\n",
    "#     funded_address_funds[funded_address].append(fund_satoshi)"
   ]
  },
  {
   "cell_type": "code",
   "execution_count": 29,
   "metadata": {
    "ExecuteTime": {
     "end_time": "2020-05-18T09:22:32.457235Z",
     "start_time": "2020-05-18T09:22:32.455143Z"
    }
   },
   "outputs": [],
   "source": [
    "# # each funded address received a fund only once\n",
    "# for f in funded_address_funds.values():\n",
    "#     if len(f) != 1:\n",
    "#         print(len(f))"
   ]
  },
  {
   "cell_type": "code",
   "execution_count": 30,
   "metadata": {
    "ExecuteTime": {
     "end_time": "2020-05-18T09:22:32.461897Z",
     "start_time": "2020-05-18T09:22:32.458853Z"
    }
   },
   "outputs": [],
   "source": [
    "# # each funded address has at most 2 txs\n",
    "# for fa in funded_address_settlement_txs:\n",
    "#     if len(funded_address_settlement_txs[fa]) > 2:\n",
    "#         print(len(list(failed_fa_stxs)[1]))"
   ]
  },
  {
   "cell_type": "code",
   "execution_count": 31,
   "metadata": {
    "ExecuteTime": {
     "end_time": "2020-05-18T09:22:32.466527Z",
     "start_time": "2020-05-18T09:22:32.464000Z"
    }
   },
   "outputs": [],
   "source": [
    "# # check tx dicts are correct\n",
    "# for fa in funded_address_settlement_txs:\n",
    "#     if funded_address_settlement_txs[fa]:\n",
    "#         if len(funded_address_settlement_txs[fa][0].keys()) != 8:\n",
    "#             print(fa)"
   ]
  },
  {
   "cell_type": "code",
   "execution_count": 32,
   "metadata": {
    "ExecuteTime": {
     "end_time": "2020-05-18T09:22:32.524822Z",
     "start_time": "2020-05-18T09:22:32.468262Z"
    }
   },
   "outputs": [],
   "source": [
    "###############\n",
    "settlement_addresses = set()\n",
    "for fa in funded_address_settlement_txs:\n",
    "    if funded_address_settlement_txs[fa]:\n",
    "        for out in funded_address_settlement_txs[fa][0]['outputs']:\n",
    "            settlement_addresses.add(out['address'])"
   ]
  },
  {
   "cell_type": "code",
   "execution_count": 33,
   "metadata": {
    "ExecuteTime": {
     "end_time": "2020-05-18T09:22:32.530606Z",
     "start_time": "2020-05-18T09:22:32.527772Z"
    }
   },
   "outputs": [],
   "source": [
    "# write_json(list(settlement_addresses), '../data/joined/settlement_addresses.json')"
   ]
  },
  {
   "cell_type": "code",
   "execution_count": 34,
   "metadata": {
    "ExecuteTime": {
     "end_time": "2020-05-18T09:22:32.536294Z",
     "start_time": "2020-05-18T09:22:32.533465Z"
    }
   },
   "outputs": [],
   "source": [
    "# write_json(settlement_address_entity, '../data/joined/settlement_address_entity.json')"
   ]
  },
  {
   "cell_type": "code",
   "execution_count": 35,
   "metadata": {
    "ExecuteTime": {
     "end_time": "2020-05-18T09:22:32.542275Z",
     "start_time": "2020-05-18T09:22:32.539197Z"
    }
   },
   "outputs": [],
   "source": [
    "# # all settlement txs have one input only\n",
    "# for fa in funded_address_settlement_txs:\n",
    "#     if funded_address_settlement_txs[fa]:\n",
    "#         if len(funded_address_settlement_txs[fa][0]['inputs']) != 1:\n",
    "#             print(fa)"
   ]
  },
  {
   "cell_type": "code",
   "execution_count": 5,
   "metadata": {
    "ExecuteTime": {
     "end_time": "2020-06-18T08:06:04.883077Z",
     "start_time": "2020-06-18T08:06:04.844906Z"
    }
   },
   "outputs": [],
   "source": [
    "###############\n",
    "# to see distribution of #outputs in settlement txs\n",
    "n_outputs_stx = dict()\n",
    "open_channels = 0\n",
    "for fa in funded_address_settlement_txs:\n",
    "    if not funded_address_settlement_txs[fa]:\n",
    "        open_channels += 1\n",
    "    else:\n",
    "        for st in funded_address_settlement_txs[fa]:\n",
    "            n_outputs = len(st['outputs'])\n",
    "            if n_outputs not in n_outputs_stx:\n",
    "                n_outputs_stx[n_outputs] = []\n",
    "            n_outputs_stx[n_outputs].append(st['tx_hash'])"
   ]
  },
  {
   "cell_type": "code",
   "execution_count": 37,
   "metadata": {
    "ExecuteTime": {
     "end_time": "2020-05-18T09:22:32.591929Z",
     "start_time": "2020-05-18T09:22:32.589324Z"
    }
   },
   "outputs": [],
   "source": [
    "# print('Number of open channels', open_channels) # 37280"
   ]
  },
  {
   "cell_type": "code",
   "execution_count": 7,
   "metadata": {
    "ExecuteTime": {
     "end_time": "2020-06-18T08:06:18.536436Z",
     "start_time": "2020-06-18T08:06:18.531921Z"
    }
   },
   "outputs": [
    {
     "name": "stdout",
     "output_type": "stream",
     "text": [
      "Number of closed channels: 33503\n"
     ]
    }
   ],
   "source": [
    "closed_channels = len(funded_address_settlement_txs) - open_channels\n",
    "print('Number of closed channels:', closed_channels)"
   ]
  },
  {
   "cell_type": "code",
   "execution_count": 13,
   "metadata": {
    "ExecuteTime": {
     "end_time": "2020-06-18T08:07:47.745369Z",
     "start_time": "2020-06-18T08:07:47.741906Z"
    }
   },
   "outputs": [
    {
     "name": "stdout",
     "output_type": "stream",
     "text": [
      "98.3 1.7000000000000028\n"
     ]
    }
   ],
   "source": [
    "n_less2 = round(35.6 + 62.7, 2)\n",
    "n_more2 = 100 - n_less2\n",
    "print(n_less2, n_more2)"
   ]
  },
  {
   "cell_type": "code",
   "execution_count": 8,
   "metadata": {
    "ExecuteTime": {
     "end_time": "2020-06-18T08:06:19.648715Z",
     "start_time": "2020-06-18T08:06:19.642591Z"
    }
   },
   "outputs": [
    {
     "name": "stdout",
     "output_type": "stream",
     "text": [
      "2 11935 35.6\n",
      "1 21011 62.7\n",
      "4 85 0.3\n",
      "3 426 1.3\n",
      "6 7 0.0\n",
      "5 26 0.1\n",
      "11 2 0.0\n",
      "9 3 0.0\n",
      "7 3 0.0\n",
      "22 1 0.0\n",
      "8 3 0.0\n",
      "16 1 0.0\n"
     ]
    }
   ],
   "source": [
    "# distribution of #outputs in settlement txs\n",
    "for k in n_outputs_stx:\n",
    "    print(k, len(n_outputs_stx[k]), 100*round(len(n_outputs_stx[k])/closed_channels, 3))"
   ]
  },
  {
   "cell_type": "code",
   "execution_count": 40,
   "metadata": {
    "ExecuteTime": {
     "end_time": "2020-05-18T09:22:32.607520Z",
     "start_time": "2020-05-18T09:22:32.604549Z"
    }
   },
   "outputs": [],
   "source": [
    "# # # find addresses_out and entities_out distribution in closing txs\n",
    "# n_addresses_out_occur = dict()\n",
    "# n_entities_out_occur = dict()\n",
    "# for channel in channels.values:\n",
    "#     funding_tx, out_index = channel[0].split(':')\n",
    "#     node_1 = channel[1]\n",
    "#     node_2 = channel[2]\n",
    "#     funded_address = funding_txs[funding_tx]['outputs'][int(out_index)]['address']\n",
    "\n",
    "#     settlement_txs = funded_address_settlement_txs[funded_address]\n",
    "#     if settlement_txs: # it is always zero or one tx\n",
    "#         for settlement_tx in settlement_txs:\n",
    "#             addresses_out = set([out['address'] for out in settlement_tx['outputs']])\n",
    "#             entities_out = set([settlement_address_entity[a] for a in addresses_out])\n",
    "#             n_addresses_out = len(addresses_out)\n",
    "#             n_entities_out = len(entities_out)\n",
    "#             if n_addresses_out not in n_addresses_out_occur:\n",
    "#                 n_addresses_out_occur[n_addresses_out] = 0\n",
    "#             n_addresses_out_occur[n_addresses_out] += 1\n",
    "#             if n_entities_out not in n_entities_out_occur:\n",
    "#                 n_entities_out_occur[n_entities_out] = 0\n",
    "#             n_entities_out_occur[n_entities_out] += 1            "
   ]
  },
  {
   "cell_type": "code",
   "execution_count": 41,
   "metadata": {
    "ExecuteTime": {
     "end_time": "2020-05-18T09:22:32.782090Z",
     "start_time": "2020-05-18T09:22:32.609206Z"
    }
   },
   "outputs": [],
   "source": [
    "############\n",
    "# # mapping between stx and its ftx\n",
    "stx_its_ftx = dict()\n",
    "for channel in channels.values:\n",
    "    funding_tx, out_index = channel[0].split(':')\n",
    "    funded_address = funding_txs[funding_tx]['outputs'][int(out_index)]['address']\n",
    "    settlement_txs = funded_address_settlement_txs[funded_address]\n",
    "    if len(settlement_txs) == 1: # it is always zero or one tx\n",
    "        stx = settlement_txs[0]['tx_hash']\n",
    "        if stx not in stx_its_ftx:\n",
    "            stx_its_ftx[stx] = funding_tx\n",
    "        else:\n",
    "            print('stx already in dict', stx)"
   ]
  },
  {
   "cell_type": "code",
   "execution_count": 42,
   "metadata": {
    "ExecuteTime": {
     "end_time": "2020-05-18T09:22:32.787340Z",
     "start_time": "2020-05-18T09:22:32.784193Z"
    },
    "scrolled": false
   },
   "outputs": [],
   "source": [
    "# # to see if there is an address both fundind and settling a channel\n",
    "# link_entities = set()\n",
    "# for channel in channels.values:\n",
    "#     funding_tx, out_index = channel[0].split(':')\n",
    "#     funded_address = funding_txs[funding_tx]['outputs'][int(out_index)]['address']\n",
    "#     settlement_txs = funded_address_settlement_txs[funded_address]\n",
    "#     if len(settlement_txs) == 1: # it is always zero or one tx\n",
    "#         stx_addresses = set([settlement_address_entity[el['address']] for el in settlement_txs[0]['outputs']])\n",
    "#         ftx_addresses = set([funding_address_entity[el['address']] for el in funding_txs[funding_tx]['inputs']])\n",
    "#         intersection_addresses = stx_addresses.intersection(ftx_addresses)\n",
    "#         if intersection_addresses:\n",
    "#             link_entities = link_entities.union(intersection_addresses)\n",
    "# #             print(intersection_addresses, end=' ')\n",
    "#         stx = settlement_txs[0]['tx_hash']\n",
    "#     elif len(settlement_txs) > 1:\n",
    "#         print(len(settlement_txs))\n",
    "# len(link_entities)"
   ]
  },
  {
   "cell_type": "code",
   "execution_count": 43,
   "metadata": {
    "ExecuteTime": {
     "end_time": "2020-05-18T09:22:32.794507Z",
     "start_time": "2020-05-18T09:22:32.789853Z"
    }
   },
   "outputs": [],
   "source": [
    "# n_entities_out_occur_list = []\n",
    "# for ne, occ in n_entities_out_occur.items():\n",
    "#     n_entities_out_occur_list.append([ne, occ])\n",
    "# n_entities_out_occur_list.sort(key=lambda x: x[0])\n",
    "# n_entities_out_occur_list"
   ]
  },
  {
   "cell_type": "code",
   "execution_count": 44,
   "metadata": {
    "ExecuteTime": {
     "end_time": "2020-05-18T09:22:32.801107Z",
     "start_time": "2020-05-18T09:22:32.797677Z"
    }
   },
   "outputs": [],
   "source": [
    "# n_addresses_out_occur_list = []\n",
    "# for ne, occ in n_addresses_out_occur.items():\n",
    "#     n_addresses_out_occur_list.append([ne, occ])\n",
    "# n_addresses_out_occur_list.sort(key=lambda x: x[0])\n",
    "# n_addresses_out_occur_list"
   ]
  },
  {
   "cell_type": "code",
   "execution_count": 45,
   "metadata": {
    "ExecuteTime": {
     "end_time": "2020-05-18T09:22:32.805873Z",
     "start_time": "2020-05-18T09:22:32.803225Z"
    }
   },
   "outputs": [],
   "source": [
    "# plt.figure(figsize=(14,7))\n",
    "# plt.semilogy([e[0] for e in n_addresses_out_occur_list], [e[1] for e in n_addresses_out_occur_list], '-x')\n",
    "# plt.semilogy([e[0] for e in n_entities_out_occur_list], [e[1] for e in n_entities_out_occur_list], '-x')\n",
    "# plt.show()\n",
    "# # Comment: most of the times, it is only only one entity closing the channel and there is no big difference in numbers between address view and entity view"
   ]
  },
  {
   "cell_type": "code",
   "execution_count": 46,
   "metadata": {
    "ExecuteTime": {
     "end_time": "2020-05-18T09:22:32.812194Z",
     "start_time": "2020-05-18T09:22:32.808375Z"
    }
   },
   "outputs": [],
   "source": [
    "# # just some print to see the output order\n",
    "# for fa, stxs in funded_address_settlement_txs.items():\n",
    "#     if stxs:\n",
    "#         for stx in stxs:\n",
    "#             print('..........', stx['tx_hash'])\n",
    "#             for out in stx['outputs']:\n",
    "#                 print(out['address'], out['value']['value'])"
   ]
  },
  {
   "cell_type": "markdown",
   "metadata": {},
   "source": [
    "# Link entities and nodes"
   ]
  },
  {
   "cell_type": "markdown",
   "metadata": {},
   "source": [
    "## Heuristic 1a: settlement tx +  funding tx\n",
    "\n",
    "If an address funds a channel and then receives funds from the settlement tx and then use them again to open another channel, then this address controls the node appearing in both channels. If the two channels have two nodes in common, discard the case. This can be extended: address -> entity"
   ]
  },
  {
   "cell_type": "code",
   "execution_count": 47,
   "metadata": {
    "ExecuteTime": {
     "end_time": "2020-05-18T09:22:32.817394Z",
     "start_time": "2020-05-18T09:22:32.814735Z"
    }
   },
   "outputs": [],
   "source": [
    "# write_json(overlap_address_txs, '../data/joined/overlap_address_txs.json')"
   ]
  },
  {
   "cell_type": "code",
   "execution_count": 48,
   "metadata": {
    "ExecuteTime": {
     "end_time": "2020-05-18T09:22:32.821899Z",
     "start_time": "2020-05-18T09:22:32.819888Z"
    }
   },
   "outputs": [],
   "source": [
    "# write_json(settlement_txs, '../data/joined/settlement_txs.json')"
   ]
  },
  {
   "cell_type": "code",
   "execution_count": 49,
   "metadata": {
    "ExecuteTime": {
     "end_time": "2020-05-18T09:22:32.845137Z",
     "start_time": "2020-05-18T09:22:32.824916Z"
    }
   },
   "outputs": [],
   "source": [
    "###########\n",
    "# check if there is overlap: if an address that received funds from a settlement tx is also opening a channel with that fund\n",
    "fas = set(funding_address_entity.keys())\n",
    "sas = set(settlement_address_entity.keys())\n",
    "overlap_addresses = fas.intersection(sas)"
   ]
  },
  {
   "cell_type": "code",
   "execution_count": 375,
   "metadata": {
    "ExecuteTime": {
     "end_time": "2020-05-22T07:45:06.656755Z",
     "start_time": "2020-05-22T07:45:06.640028Z"
    }
   },
   "outputs": [],
   "source": [
    "###########\n",
    "# check if there is overlap: if an address that received funds from a settlement tx is also opening a channel with that fund\n",
    "fes = set(funding_address_entity.values())\n",
    "ses = set(settlement_address_entity.values())\n",
    "overlap_entities = fes.intersection(ses)"
   ]
  },
  {
   "cell_type": "code",
   "execution_count": 50,
   "metadata": {
    "ExecuteTime": {
     "end_time": "2020-05-18T09:22:32.850146Z",
     "start_time": "2020-05-18T09:22:32.847420Z"
    }
   },
   "outputs": [],
   "source": [
    "# overlap_address_txs = dict()\n",
    "# fails = set()\n",
    "# for i, a in enumerate(overlap_addresses):\n",
    "#     print(i, end='\\r')\n",
    "#     try:\n",
    "#         txs = get_address_txs(a)\n",
    "#         overlap_address_txs[a] = txs\n",
    "#     except:\n",
    "#         fails.add(a)"
   ]
  },
  {
   "cell_type": "code",
   "execution_count": 377,
   "metadata": {
    "ExecuteTime": {
     "end_time": "2020-05-22T07:45:16.154577Z",
     "start_time": "2020-05-22T07:45:16.150738Z"
    }
   },
   "outputs": [
    {
     "data": {
      "text/plain": [
       "5056"
      ]
     },
     "execution_count": 377,
     "metadata": {},
     "output_type": "execute_result"
    }
   ],
   "source": [
    "len(overlap_entities)"
   ]
  },
  {
   "cell_type": "code",
   "execution_count": 51,
   "metadata": {
    "ExecuteTime": {
     "end_time": "2020-05-18T09:22:32.857936Z",
     "start_time": "2020-05-18T09:22:32.852373Z"
    },
    "scrolled": true
   },
   "outputs": [],
   "source": [
    "# for i, a in enumerate(overlap_addresses):\n",
    "#     if not overlap_address_txs[a]:\n",
    "#         print('empty', i)\n",
    "#         txs = get_address_txs(a)\n",
    "#         overlap_address_txs[a] = txs"
   ]
  },
  {
   "cell_type": "code",
   "execution_count": 52,
   "metadata": {
    "ExecuteTime": {
     "end_time": "2020-05-18T09:22:32.864884Z",
     "start_time": "2020-05-18T09:22:32.861628Z"
    }
   },
   "outputs": [],
   "source": [
    "# for txs in overlap_address_txs.values():\n",
    "#     if not isinstance(txs, list):\n",
    "#         print(txs)\n",
    "#         break"
   ]
  },
  {
   "cell_type": "code",
   "execution_count": 53,
   "metadata": {
    "ExecuteTime": {
     "end_time": "2020-05-18T09:22:32.870818Z",
     "start_time": "2020-05-18T09:22:32.867931Z"
    },
    "scrolled": true
   },
   "outputs": [],
   "source": [
    "# # to check sums in and out\n",
    "# for a, txs in overlap_address_txs.items():\n",
    "#     if len(txs) != 2:\n",
    "#         print(a)\n",
    "#         print([tx['value']['value'] for tx in txs])\n",
    "#         print()"
   ]
  },
  {
   "cell_type": "code",
   "execution_count": 54,
   "metadata": {
    "ExecuteTime": {
     "end_time": "2020-05-18T09:22:32.876684Z",
     "start_time": "2020-05-18T09:22:32.873476Z"
    }
   },
   "outputs": [],
   "source": [
    "# #### Corner cases that need further analysis (later)\n",
    "# - bc1qg33qql0qgp9felcrsglj9wu3efr3syjm6hlzhs\n",
    "# - 3BbMKPqzzPWw1NULR2VN1n9dJp925CyGU1"
   ]
  },
  {
   "cell_type": "code",
   "execution_count": 55,
   "metadata": {
    "ExecuteTime": {
     "end_time": "2020-05-18T09:22:32.883236Z",
     "start_time": "2020-05-18T09:22:32.880042Z"
    }
   },
   "outputs": [],
   "source": [
    "# len(overlap_address_txs) #8408"
   ]
  },
  {
   "cell_type": "code",
   "execution_count": 56,
   "metadata": {
    "ExecuteTime": {
     "end_time": "2020-05-18T09:22:32.888234Z",
     "start_time": "2020-05-18T09:22:32.885412Z"
    }
   },
   "outputs": [],
   "source": [
    "# len(overlap_addresses) #8408"
   ]
  },
  {
   "cell_type": "code",
   "execution_count": 57,
   "metadata": {
    "ExecuteTime": {
     "end_time": "2020-05-18T09:22:32.893155Z",
     "start_time": "2020-05-18T09:22:32.890541Z"
    }
   },
   "outputs": [],
   "source": [
    "# len(fas) #117800"
   ]
  },
  {
   "cell_type": "code",
   "execution_count": 58,
   "metadata": {
    "ExecuteTime": {
     "end_time": "2020-05-18T09:22:32.900475Z",
     "start_time": "2020-05-18T09:22:32.896741Z"
    }
   },
   "outputs": [],
   "source": [
    "# len(sas) 46782"
   ]
  },
  {
   "cell_type": "code",
   "execution_count": 59,
   "metadata": {
    "ExecuteTime": {
     "end_time": "2020-05-18T09:22:32.906298Z",
     "start_time": "2020-05-18T09:22:32.903179Z"
    }
   },
   "outputs": [],
   "source": [
    "settlement_txs = \n",
    "for stxs in funded_address_settlement_txs.values():\n",
    "    if stxs:\n",
    "        settlement_txs.append(stxs[0])"
   ]
  },
  {
   "cell_type": "code",
   "execution_count": 60,
   "metadata": {
    "ExecuteTime": {
     "end_time": "2020-05-18T09:22:32.912908Z",
     "start_time": "2020-05-18T09:22:32.908105Z"
    }
   },
   "outputs": [],
   "source": [
    "# settlement_address_occur = dict()\n",
    "# for stx in settlement_txs:\n",
    "#     for out in stx['outputs']:\n",
    "#         a = out['address']\n",
    "#         if a not in settlement_address_occur:\n",
    "#             settlement_address_occur[a] = 0\n",
    "#         settlement_address_occur[a] += 1\n",
    "#         if settlement_address_occur[a] > 1:\n",
    "#             print(stx['tx_hash'])\n",
    "#             print(stx['outputs'])\n",
    "#             print()"
   ]
  },
  {
   "cell_type": "code",
   "execution_count": 378,
   "metadata": {
    "ExecuteTime": {
     "end_time": "2020-05-22T07:45:48.190908Z",
     "start_time": "2020-05-22T07:45:48.187901Z"
    }
   },
   "outputs": [],
   "source": [
    "def get_blockstream_tx(hsh):\n",
    "    bs_url = 'https://blockstream.info/api/tx/' + hsh\n",
    "    r = requests.get(bs_url)\n",
    "    d = json.loads(r.text)\n",
    "    return d"
   ]
  },
  {
   "cell_type": "code",
   "execution_count": 384,
   "metadata": {
    "ExecuteTime": {
     "end_time": "2020-05-22T07:53:42.789116Z",
     "start_time": "2020-05-22T07:53:42.725500Z"
    }
   },
   "outputs": [],
   "source": [
    "############### address\n",
    "# select useful funding txs\n",
    "# useful if in inputs we have at least one overlap_address that is also a settlement_address\n",
    "useful_funding_txs = set()\n",
    "settlement_addresses = set(settlement_address_entity.keys())\n",
    "for ftx in funding_txs.values():\n",
    "    for inp in ftx['inputs']:\n",
    "        a = inp['address']\n",
    "        if a in overlap_addresses and a in settlement_addresses:\n",
    "            useful_funding_txs.add(ftx['tx_hash'])\n",
    "            break\n",
    "\n",
    "# it might happen that a settlement address is used multiple times to fund a new channel\n",
    "# but the funds used might not come from a stx, reason why 9 of these ftxs are not used"
   ]
  },
  {
   "cell_type": "code",
   "execution_count": 385,
   "metadata": {
    "ExecuteTime": {
     "end_time": "2020-05-22T07:53:46.459664Z",
     "start_time": "2020-05-22T07:53:44.550009Z"
    }
   },
   "outputs": [],
   "source": [
    "############### entity\n",
    "# select useful funding txs\n",
    "# useful if in inputs we have at a overlap_entity that is also a settlement_entity\n",
    "useful_funding_txs_entities = set()\n",
    "settlement_entities = settlement_address_entity.values()\n",
    "for ftx in funding_txs.values():\n",
    "    for inp in ftx['inputs']:\n",
    "        e = funding_address_entity[inp['address']]\n",
    "        if e in overlap_entities and e in settlement_entities:\n",
    "            useful_funding_txs_entities.add(ftx['tx_hash'])\n",
    "            break\n",
    "\n",
    "# it might happen that a settlement address is used multiple times to fund a new channel\n",
    "# but the funds used might not come from a stx, reason why 9 of these ftxs are not used"
   ]
  },
  {
   "cell_type": "code",
   "execution_count": 389,
   "metadata": {
    "ExecuteTime": {
     "end_time": "2020-05-22T07:56:06.429252Z",
     "start_time": "2020-05-22T07:56:06.410827Z"
    }
   },
   "outputs": [],
   "source": [
    "########### run after snakes\n",
    "# check if there is overlap: if an address that received funds from a settlement tx is also opening a channel with that fund\n",
    "fes = set(funding_address_entity.values())\n",
    "ses = set(settlement_address_entity.values())\n",
    "overlap_entities = fes.intersection(ses)"
   ]
  },
  {
   "cell_type": "code",
   "execution_count": 390,
   "metadata": {
    "ExecuteTime": {
     "end_time": "2020-05-22T07:56:10.340810Z",
     "start_time": "2020-05-22T07:56:08.218602Z"
    }
   },
   "outputs": [],
   "source": [
    "############### entity + snake\n",
    "# select useful funding txs\n",
    "# useful if in inputs we have at a overlap_entity that is also a settlement_entity\n",
    "useful_funding_txs_snakes = set()\n",
    "settlement_entities = settlement_address_entity.values()\n",
    "for ftx in funding_txs.values():\n",
    "    for inp in ftx['inputs']:\n",
    "        e = funding_address_entity[inp['address']]\n",
    "        if e in overlap_entities and e in settlement_entities:\n",
    "            useful_funding_txs_snakes.add(ftx['tx_hash'])\n",
    "            break\n",
    "\n",
    "# it might happen that a settlement address is used multiple times to fund a new channel\n",
    "# but the funds used might not come from a stx, reason why 9 of these ftxs are not used"
   ]
  },
  {
   "cell_type": "code",
   "execution_count": 391,
   "metadata": {
    "ExecuteTime": {
     "end_time": "2020-05-22T07:56:15.776049Z",
     "start_time": "2020-05-22T07:56:15.773184Z"
    }
   },
   "outputs": [
    {
     "name": "stdout",
     "output_type": "stream",
     "text": [
      "Number of funding txs using BTC from a settlement tx: 5088\n"
     ]
    }
   ],
   "source": [
    "print('Number of funding txs using BTC from a settlement tx:', len(useful_funding_txs)) # 5088"
   ]
  },
  {
   "cell_type": "code",
   "execution_count": 393,
   "metadata": {
    "ExecuteTime": {
     "end_time": "2020-05-22T07:56:26.584528Z",
     "start_time": "2020-05-22T07:56:26.578620Z"
    }
   },
   "outputs": [
    {
     "name": "stdout",
     "output_type": "stream",
     "text": [
      "Number of funding txs using BTC from a settlement tx (entities): 5425\n"
     ]
    }
   ],
   "source": [
    "print('Number of funding txs using BTC from a settlement tx (entities):', len(useful_funding_txs_entities)) # 5425"
   ]
  },
  {
   "cell_type": "code",
   "execution_count": 395,
   "metadata": {
    "ExecuteTime": {
     "end_time": "2020-05-22T07:56:37.051300Z",
     "start_time": "2020-05-22T07:56:37.047583Z"
    }
   },
   "outputs": [
    {
     "name": "stdout",
     "output_type": "stream",
     "text": [
      "Number of funding txs using BTC from a settlement tx (entities + snakes): 5465\n"
     ]
    }
   ],
   "source": [
    "print('Number of funding txs using BTC from a settlement tx (entities + snakes):', len(useful_funding_txs_snakes))"
   ]
  },
  {
   "cell_type": "code",
   "execution_count": 397,
   "metadata": {
    "ExecuteTime": {
     "end_time": "2020-05-22T07:57:10.312525Z",
     "start_time": "2020-05-22T07:57:10.307269Z"
    }
   },
   "outputs": [
    {
     "data": {
      "text/plain": [
       "5425"
      ]
     },
     "execution_count": 397,
     "metadata": {},
     "output_type": "execute_result"
    }
   ],
   "source": [
    "len(useful_funding_txs_entities.intersection(useful_funding_txs_snakes))"
   ]
  },
  {
   "cell_type": "code",
   "execution_count": 398,
   "metadata": {
    "ExecuteTime": {
     "end_time": "2020-05-22T07:58:56.139437Z",
     "start_time": "2020-05-22T07:58:56.134409Z"
    }
   },
   "outputs": [
    {
     "data": {
      "text/plain": [
       "5088"
      ]
     },
     "execution_count": 398,
     "metadata": {},
     "output_type": "execute_result"
    }
   ],
   "source": [
    "len(blockstream_funding_txs)"
   ]
  },
  {
   "cell_type": "code",
   "execution_count": 64,
   "metadata": {
    "ExecuteTime": {
     "end_time": "2020-05-18T09:22:33.017361Z",
     "start_time": "2020-05-18T09:22:33.014562Z"
    }
   },
   "outputs": [],
   "source": [
    "# blockstream_funding_txs = dict()"
   ]
  },
  {
   "cell_type": "code",
   "execution_count": 65,
   "metadata": {
    "ExecuteTime": {
     "end_time": "2020-05-18T09:22:33.022437Z",
     "start_time": "2020-05-18T09:22:33.019876Z"
    }
   },
   "outputs": [],
   "source": [
    "# samurai_hashes = pd.read_csv('../../graphsense-tagpacks/packs/samurai.csv')"
   ]
  },
  {
   "cell_type": "code",
   "execution_count": 66,
   "metadata": {
    "ExecuteTime": {
     "end_time": "2020-05-18T09:22:33.028287Z",
     "start_time": "2020-05-18T09:22:33.025221Z"
    }
   },
   "outputs": [],
   "source": [
    "# # write_json(samurai_txs, '../data/joined/samurai_txs.json')\n",
    "# samurai_txs = read_json('../data/joined/samurai_txs.json')"
   ]
  },
  {
   "cell_type": "code",
   "execution_count": 67,
   "metadata": {
    "ExecuteTime": {
     "end_time": "2020-05-18T09:22:33.033337Z",
     "start_time": "2020-05-18T09:22:33.030722Z"
    }
   },
   "outputs": [],
   "source": [
    "# print(len(samurai_hashes.values))"
   ]
  },
  {
   "cell_type": "code",
   "execution_count": 68,
   "metadata": {
    "ExecuteTime": {
     "end_time": "2020-05-18T09:22:33.039008Z",
     "start_time": "2020-05-18T09:22:33.036384Z"
    }
   },
   "outputs": [],
   "source": [
    "# samurai_txs = dict()"
   ]
  },
  {
   "cell_type": "code",
   "execution_count": 69,
   "metadata": {
    "ExecuteTime": {
     "end_time": "2020-05-18T09:22:33.045099Z",
     "start_time": "2020-05-18T09:22:33.042057Z"
    },
    "scrolled": true
   },
   "outputs": [],
   "source": [
    "# for i, hsh in enumerate(samurai_hashes.values):\n",
    "#     print(i, end='\\r')\n",
    "#     h = hsh[0]\n",
    "#     if h not in samurai_txs:\n",
    "#         samurai_txs[h] = get_blockstream_tx(h)"
   ]
  },
  {
   "cell_type": "code",
   "execution_count": 70,
   "metadata": {
    "ExecuteTime": {
     "end_time": "2020-05-18T09:22:33.052562Z",
     "start_time": "2020-05-18T09:22:33.047481Z"
    }
   },
   "outputs": [],
   "source": [
    "# samurai_hashes_set = set([el[0] for el in samurai_hashes.values])\n",
    "# funding_txs_set = set(funding_txs.keys())\n",
    "# settlement_txs_set = set(settlement_txs_hashes)\n",
    "# print('Number of Samurai txs:', len(settlement_txs_set.intersection(samurai_hashes_set)) + len(funding_txs_set.intersection(samurai_hashes_set)))\n",
    "# no samurai txs"
   ]
  },
  {
   "cell_type": "code",
   "execution_count": 71,
   "metadata": {
    "ExecuteTime": {
     "end_time": "2020-05-18T09:22:33.059855Z",
     "start_time": "2020-05-18T09:22:33.055448Z"
    }
   },
   "outputs": [],
   "source": [
    "# # funding_address_set = set(funding_address_entity.keys())\n",
    "# # settlement_address_set = set(settlement_address_entity.keys())\n",
    "# samurai_addresses = set()\n",
    "# for tx in samurai_txs.values():\n",
    "#     for vin in tx['vin']:\n",
    "#         samurai_addresses.add(vin['prevout']['scriptpubkey_address'])\n",
    "# # print('Number of Samurai addresses:', len(settlement_address_set.intersection(samurai_addresses)) + len(funding_address_set.intersection(samurai_addresses)))\n",
    "# # print no samurai addresses"
   ]
  },
  {
   "cell_type": "code",
   "execution_count": 400,
   "metadata": {
    "ExecuteTime": {
     "end_time": "2020-05-22T07:59:59.841520Z",
     "start_time": "2020-05-22T07:59:59.790122Z"
    }
   },
   "outputs": [],
   "source": [
    "import requests"
   ]
  },
  {
   "cell_type": "code",
   "execution_count": 404,
   "metadata": {
    "ExecuteTime": {
     "end_time": "2020-05-22T08:01:10.246839Z",
     "start_time": "2020-05-22T08:01:10.244675Z"
    }
   },
   "outputs": [],
   "source": [
    "# for i, ftx in enumerate(useful_funding_txs_snakes):\n",
    "#     print(i, end='\\r')\n",
    "#     if ftx not in blockstream_funding_txs:\n",
    "#         blockstream_funding_txs[ftx] = get_blockstream_tx(ftx)"
   ]
  },
  {
   "cell_type": "code",
   "execution_count": 73,
   "metadata": {
    "ExecuteTime": {
     "end_time": "2020-05-18T09:22:33.071941Z",
     "start_time": "2020-05-18T09:22:33.068980Z"
    }
   },
   "outputs": [],
   "source": [
    "# write_json(list(samurai_addresses), '../data/joined/samurai_addresses.json')"
   ]
  },
  {
   "cell_type": "code",
   "execution_count": 405,
   "metadata": {
    "ExecuteTime": {
     "end_time": "2020-05-22T08:01:24.372117Z",
     "start_time": "2020-05-22T08:01:23.648497Z"
    }
   },
   "outputs": [],
   "source": [
    "write_json(blockstream_funding_txs, '../data/joined/blockstream_funding_txs_snakes.json')"
   ]
  },
  {
   "cell_type": "code",
   "execution_count": 402,
   "metadata": {
    "ExecuteTime": {
     "end_time": "2020-05-22T08:01:02.007200Z",
     "start_time": "2020-05-22T08:01:02.002906Z"
    }
   },
   "outputs": [
    {
     "data": {
      "text/plain": [
       "5465"
      ]
     },
     "execution_count": 402,
     "metadata": {},
     "output_type": "execute_result"
    }
   ],
   "source": [
    "len(blockstream_funding_txs)"
   ]
  },
  {
   "cell_type": "code",
   "execution_count": 75,
   "metadata": {
    "ExecuteTime": {
     "end_time": "2020-05-18T09:22:34.929445Z",
     "start_time": "2020-05-18T09:22:33.079049Z"
    }
   },
   "outputs": [],
   "source": [
    "###############\n",
    "stx_a_ftx = [] # list of settlement tx, address, funding tx\n",
    "# for each useful funding tx\n",
    "for uftx in blockstream_funding_txs.values():\n",
    "    for i in uftx['vin']:\n",
    "        a = i['prevout']['scriptpubkey_address']\n",
    "        prev_tx = i['txid']\n",
    "        if a in settlement_addresses:\n",
    "            if prev_tx in settlement_txs_hashes:\n",
    "                stx_a_ftx.append([prev_tx, a, uftx['txid']])\n",
    "#             else:\n",
    "#                 # a is a settlement_address but prev_tx is not a settlement_tx in our data\n",
    "#                 print('wrong', uftx['txid'], a, prev_tx)        \n",
    "#                 print()\n"
   ]
  },
  {
   "cell_type": "code",
   "execution_count": 76,
   "metadata": {
    "ExecuteTime": {
     "end_time": "2020-05-18T09:22:34.932836Z",
     "start_time": "2020-05-18T09:22:34.930681Z"
    }
   },
   "outputs": [],
   "source": [
    "# len(blockstream_funding_txs) # 5088"
   ]
  },
  {
   "cell_type": "code",
   "execution_count": 77,
   "metadata": {
    "ExecuteTime": {
     "end_time": "2020-05-18T09:22:34.937027Z",
     "start_time": "2020-05-18T09:22:34.934841Z"
    }
   },
   "outputs": [],
   "source": [
    "# len(stx_a_ftx) # 8403"
   ]
  },
  {
   "cell_type": "code",
   "execution_count": 78,
   "metadata": {
    "ExecuteTime": {
     "end_time": "2020-05-18T09:22:34.949164Z",
     "start_time": "2020-05-18T09:22:34.938654Z"
    }
   },
   "outputs": [
    {
     "name": "stdout",
     "output_type": "stream",
     "text": [
      "Number of settlement txs linked to a new channel funding: 7788\n"
     ]
    }
   ],
   "source": [
    "print('Number of settlement txs linked to a new channel funding:', len(set([el[0] for el in stx_a_ftx])))"
   ]
  },
  {
   "cell_type": "code",
   "execution_count": 79,
   "metadata": {
    "ExecuteTime": {
     "end_time": "2020-05-18T09:22:34.955869Z",
     "start_time": "2020-05-18T09:22:34.951237Z"
    }
   },
   "outputs": [
    {
     "name": "stdout",
     "output_type": "stream",
     "text": [
      "Number of settlement addresses reused to open another channel: 8403\n"
     ]
    }
   ],
   "source": [
    "print('Number of settlement addresses reused to open another channel:', len(set([el[1] for el in stx_a_ftx])))"
   ]
  },
  {
   "cell_type": "code",
   "execution_count": 80,
   "metadata": {
    "ExecuteTime": {
     "end_time": "2020-05-18T09:22:34.965470Z",
     "start_time": "2020-05-18T09:22:34.957510Z"
    }
   },
   "outputs": [
    {
     "name": "stdout",
     "output_type": "stream",
     "text": [
      "Number of funding txs using BTC from a settlement txs: 5079 -- 7.18 % of all funding txs\n"
     ]
    }
   ],
   "source": [
    "print('Number of funding txs using BTC from a settlement txs:', len(set([el[2] for el in stx_a_ftx])), '--',round(100*len(set([el[2] for el in stx_a_ftx]))/len(channels), 2), '% of all funding txs')"
   ]
  },
  {
   "cell_type": "code",
   "execution_count": 81,
   "metadata": {
    "ExecuteTime": {
     "end_time": "2020-05-18T09:22:35.338813Z",
     "start_time": "2020-05-18T09:22:34.967492Z"
    }
   },
   "outputs": [],
   "source": [
    "###############\n",
    "# I need a mapping between funding tx and nodes \n",
    "# (ignore case with two funding txs in one tx cause one channel is still open)\n",
    "# and between settlement tx and nodes\n",
    "ftx_nodes = dict()\n",
    "for channel in channels.values:\n",
    "    if channel[0] != '88679369ec778d5187c207676c788e7d22272e64c120e0cd6e06858864bdb5e9:1':\n",
    "        ftx = channel[0].split(':')[0]\n",
    "        ftx_nodes[ftx] = [channel[1], channel[2]]        "
   ]
  },
  {
   "cell_type": "code",
   "execution_count": 82,
   "metadata": {
    "ExecuteTime": {
     "end_time": "2020-05-18T09:22:35.415247Z",
     "start_time": "2020-05-18T09:22:35.340532Z"
    }
   },
   "outputs": [],
   "source": [
    "###############\n",
    "stx_nodes = dict()\n",
    "for fa, channel in funded_address_channel.items():\n",
    "    if channel != '88679369ec778d5187c207676c788e7d22272e64c120e0cd6e06858864bdb5e9:1':\n",
    "        stxs = funded_address_settlement_txs[fa]\n",
    "        ftx = channel.split(':')[0]\n",
    "        if stxs:\n",
    "            stx = stxs[0]['tx_hash']\n",
    "            stx_nodes[stx] = ftx_nodes[ftx]"
   ]
  },
  {
   "cell_type": "code",
   "execution_count": 83,
   "metadata": {
    "ExecuteTime": {
     "end_time": "2020-05-18T09:22:35.420791Z",
     "start_time": "2020-05-18T09:22:35.417105Z"
    }
   },
   "outputs": [],
   "source": [
    "## to print some data about impossible links\n",
    "# il = 0\n",
    "# for fa, channel in funded_address_channel.items():\n",
    "#     if channel != '88679369ec778d5187c207676c788e7d22272e64c120e0cd6e06858864bdb5e9:1':\n",
    "#         stxs = funded_address_settlement_txs[fa]\n",
    "#         ftx = channel.split(':')[0]\n",
    "#         if stxs:\n",
    "#             stx = stxs[0]['tx_hash']\n",
    "#             if stx == impossible_links_full[il][0]:\n",
    "#                 print('first channel in impossible link', il, ':', channel)\n",
    "#                 first_channel = channel\n",
    "#                 break\n",
    "                \n",
    "# for fa, channel in funded_address_channel.items():\n",
    "#     ftx, out = channel.split(':')\n",
    "#     if ftx == impossible_links_full[il][2]:\n",
    "#         second_channel = channel\n",
    "#         print('second channel in impossible link', il, ':', channel)\n",
    "#         break\n",
    "\n",
    "# for channel in channels.values:\n",
    "#     if channel[0] in [first_channel, second_channel]:\n",
    "#         print(channel)\n",
    "#         print()"
   ]
  },
  {
   "cell_type": "code",
   "execution_count": 373,
   "metadata": {
    "ExecuteTime": {
     "end_time": "2020-05-22T07:20:55.250071Z",
     "start_time": "2020-05-22T07:20:55.220652Z"
    }
   },
   "outputs": [],
   "source": [
    "###############\n",
    "# for each funding tx in stx_a_ftx\n",
    "links = [] # like stx_a_ftx plus 4 nodes\n",
    "for el in stx_a_ftx:\n",
    "    # the funding entity controls the node in common between the channel opened with ftx and closed with stx\n",
    "    stx, a, ftx = el\n",
    "    n1, n2 = ftx_nodes[ftx] # happens after the stx\n",
    "    n3, n4 = stx_nodes[stx]\n",
    "    links.append([stx, a, ftx, n1, n2, n3, n4])"
   ]
  },
  {
   "cell_type": "code",
   "execution_count": 85,
   "metadata": {
    "ExecuteTime": {
     "end_time": "2020-05-18T09:22:35.449541Z",
     "start_time": "2020-05-18T09:22:35.444768Z"
    }
   },
   "outputs": [
    {
     "name": "stdout",
     "output_type": "stream",
     "text": [
      "Number of available links: 8403\n"
     ]
    }
   ],
   "source": [
    "print('Number of available links:', len(links))"
   ]
  },
  {
   "cell_type": "code",
   "execution_count": 86,
   "metadata": {
    "ExecuteTime": {
     "end_time": "2020-05-18T09:22:35.459940Z",
     "start_time": "2020-05-18T09:22:35.451453Z"
    }
   },
   "outputs": [],
   "source": [
    "###############\n",
    "useful_links = []\n",
    "for link in links:\n",
    "    s = set(link[3:])\n",
    "    if len(s) == 3:\n",
    "        useful_links.append(link)"
   ]
  },
  {
   "cell_type": "code",
   "execution_count": 87,
   "metadata": {
    "ExecuteTime": {
     "end_time": "2020-05-18T09:22:35.469505Z",
     "start_time": "2020-05-18T09:22:35.461805Z"
    }
   },
   "outputs": [],
   "source": [
    "###############\n",
    "impossible_links = []\n",
    "for link in links:\n",
    "    s = set(link[3:])\n",
    "    if len(s) == 4:\n",
    "        impossible_links.append(link)"
   ]
  },
  {
   "cell_type": "code",
   "execution_count": 88,
   "metadata": {
    "ExecuteTime": {
     "end_time": "2020-05-18T09:22:35.479031Z",
     "start_time": "2020-05-18T09:22:35.471421Z"
    }
   },
   "outputs": [],
   "source": [
    "###############\n",
    "useless_links = []\n",
    "for link in links:\n",
    "    s = set(link[3:])\n",
    "    if len(s) == 2:\n",
    "        useless_links.append(link)"
   ]
  },
  {
   "cell_type": "code",
   "execution_count": 374,
   "metadata": {
    "ExecuteTime": {
     "end_time": "2020-05-22T07:20:59.947035Z",
     "start_time": "2020-05-22T07:20:59.943281Z"
    }
   },
   "outputs": [
    {
     "data": {
      "text/plain": [
       "['cbe7f930a4ab27e95dfb8c7f392a0a94642e154d62a05319695c0302fd2339ea',\n",
       " 'bc1q77gkpqp8sw85xys5f4zxcszspkcptk286fm09q',\n",
       " '6b243b5476387e3fb24fe209cd7d3e15193ba4b7619d138c2faf56e9de7d02e2']"
      ]
     },
     "execution_count": 374,
     "metadata": {},
     "output_type": "execute_result"
    }
   ],
   "source": [
    "el"
   ]
  },
  {
   "cell_type": "code",
   "execution_count": 89,
   "metadata": {
    "ExecuteTime": {
     "end_time": "2020-05-18T09:22:35.483666Z",
     "start_time": "2020-05-18T09:22:35.480941Z"
    }
   },
   "outputs": [
    {
     "name": "stdout",
     "output_type": "stream",
     "text": [
      "Number of useless links (both nodes in common): 504\n"
     ]
    }
   ],
   "source": [
    "print('Number of useless links (both nodes in common):', len(useless_links))"
   ]
  },
  {
   "cell_type": "code",
   "execution_count": 90,
   "metadata": {
    "ExecuteTime": {
     "end_time": "2020-05-18T09:22:35.488179Z",
     "start_time": "2020-05-18T09:22:35.485503Z"
    }
   },
   "outputs": [
    {
     "name": "stdout",
     "output_type": "stream",
     "text": [
      "Number of useless links (no node in common): 3\n"
     ]
    }
   ],
   "source": [
    "print('Number of useless links (no node in common):', len(impossible_links))"
   ]
  },
  {
   "cell_type": "code",
   "execution_count": 91,
   "metadata": {
    "ExecuteTime": {
     "end_time": "2020-05-18T09:22:35.494212Z",
     "start_time": "2020-05-18T09:22:35.490337Z"
    }
   },
   "outputs": [
    {
     "name": "stdout",
     "output_type": "stream",
     "text": [
      "Number of useful links: 7896\n"
     ]
    }
   ],
   "source": [
    "print('Number of useful links:', len(useful_links))"
   ]
  },
  {
   "cell_type": "code",
   "execution_count": 92,
   "metadata": {
    "ExecuteTime": {
     "end_time": "2020-05-18T09:22:35.502054Z",
     "start_time": "2020-05-18T09:22:35.496575Z"
    }
   },
   "outputs": [],
   "source": [
    "# len(links) - len(useless_links) - len(useful_links) - len(impossible_links) # 0"
   ]
  },
  {
   "cell_type": "code",
   "execution_count": 93,
   "metadata": {
    "ExecuteTime": {
     "end_time": "2020-05-18T09:22:35.505789Z",
     "start_time": "2020-05-18T09:22:35.503750Z"
    }
   },
   "outputs": [],
   "source": [
    "# unique_useful_links = dict()\n",
    "# for link in useful_links:\n",
    "#     stx, a, ftx, n1, n2, n3, n4 = link\n",
    "#     k = stx + '_' + ftx\n",
    "#     if k not in unique_useful_links:\n",
    "#         unique_useful_links[k] = link"
   ]
  },
  {
   "cell_type": "code",
   "execution_count": 94,
   "metadata": {
    "ExecuteTime": {
     "end_time": "2020-05-18T09:22:35.509304Z",
     "start_time": "2020-05-18T09:22:35.507371Z"
    }
   },
   "outputs": [],
   "source": [
    "# len(unique_useful_links) # 7896"
   ]
  },
  {
   "cell_type": "code",
   "execution_count": 95,
   "metadata": {
    "ExecuteTime": {
     "end_time": "2020-05-18T09:22:35.513491Z",
     "start_time": "2020-05-18T09:22:35.511386Z"
    }
   },
   "outputs": [],
   "source": [
    "# write_json(useful_links, '../data/joined/useful_links.json')"
   ]
  },
  {
   "cell_type": "code",
   "execution_count": 96,
   "metadata": {
    "ExecuteTime": {
     "end_time": "2020-05-18T09:22:35.531601Z",
     "start_time": "2020-05-18T09:22:35.515079Z"
    }
   },
   "outputs": [],
   "source": [
    "###############\n",
    "# What if we have a link with n1, n2, n1, n3 but n2 and n3 have the same ip address? Should we then rely on the ip address or on the node id?\n",
    "node_ip = dict()\n",
    "ip_node = dict()\n",
    "for el in ip_addresses.values:\n",
    "    if el[0] not in node_ip:\n",
    "        node_ip[el[0]] = set()\n",
    "    node_ip[el[0]].add(el[1])\n",
    "    if el[1] not in ip_node:\n",
    "        ip_node[el[1]] = set()\n",
    "    ip_node[el[1]].add(el[0])"
   ]
  },
  {
   "cell_type": "code",
   "execution_count": 97,
   "metadata": {
    "ExecuteTime": {
     "end_time": "2020-05-18T09:22:35.535428Z",
     "start_time": "2020-05-18T09:22:35.533404Z"
    }
   },
   "outputs": [],
   "source": [
    "# for ip, node in ip_node.items():\n",
    "#     if len(node) > 1:\n",
    "#         print('#nodes:', len(node), 'ip:', ip)\n",
    "#         print()\n"
   ]
  },
  {
   "cell_type": "markdown",
   "metadata": {},
   "source": [
    "#### When the other nodes have same IP or same alias"
   ]
  },
  {
   "cell_type": "code",
   "execution_count": 98,
   "metadata": {
    "ExecuteTime": {
     "end_time": "2020-05-18T09:22:35.539883Z",
     "start_time": "2020-05-18T09:22:35.537306Z"
    }
   },
   "outputs": [],
   "source": [
    "###############\n",
    "def most_common(lst):\n",
    "    return max(set(lst), key=lst.count)"
   ]
  },
  {
   "cell_type": "code",
   "execution_count": 99,
   "metadata": {
    "ExecuteTime": {
     "end_time": "2020-05-18T09:22:35.579000Z",
     "start_time": "2020-05-18T09:22:35.541639Z"
    },
    "code_folding": []
   },
   "outputs": [],
   "source": [
    "###############\n",
    "# check if we have links where the nodes not in common between two channels have the same ip or same alias\n",
    "link_problems = [] # ip \n",
    "link_problems2 = [] # alias\n",
    "\n",
    "for link in useful_links:\n",
    "    node_in_common = most_common(link[3:])\n",
    "    ip_other_node_channel_1 = 0\n",
    "    ip_other_node_channel_2 = 1\n",
    "    alias_other_node_channel_1 = 0\n",
    "    alias_other_node_channel_2 = 1\n",
    "    for node in link[3:]:\n",
    "        if node != node_in_common:\n",
    "            if not ip_other_node_channel_1:\n",
    "                if node in node_ip:\n",
    "                    ip_other_node_channel_1 = node_ip[node]\n",
    "            else:\n",
    "                if node in node_ip:\n",
    "                    ip_other_node_channel_2 = node_ip[node]\n",
    "            if not alias_other_node_channel_1:\n",
    "                if node in node_alias:\n",
    "                    alias_other_node_channel_1 = node_alias[node]\n",
    "            else:\n",
    "                if node in node_alias:\n",
    "                    alias_other_node_channel_2 = node_alias[node]\n",
    "    if ip_other_node_channel_1 != set(['127.0.0.1:9735']) and ip_other_node_channel_1 == ip_other_node_channel_2:\n",
    "        l = [el for el in link]\n",
    "        for node in link[3:]:\n",
    "            ip = ''\n",
    "            if node in node_ip:\n",
    "                ip = node_ip[node]\n",
    "            l.append(ip)\n",
    "        for node in link[3:]:\n",
    "            alias = ''\n",
    "            if node in node_alias:\n",
    "                alias = node_alias[node]\n",
    "            l.append(alias)\n",
    "        link_problems.append(l)\n",
    "\n",
    "    if alias_other_node_channel_1 == alias_other_node_channel_2:\n",
    "#         potential = False\n",
    "        l = [el for el in link]\n",
    "        for node in link[3:]:\n",
    "            ip = ''\n",
    "            if node in node_ip:\n",
    "                ip = node_ip[node]\n",
    "            l.append(ip)\n",
    "        for node in link[3:]:\n",
    "            alias = ''\n",
    "            if node in node_alias:\n",
    "                alias = node_alias[node]\n",
    "            l.append(alias)\n",
    "        link_problems2.append(l)"
   ]
  },
  {
   "cell_type": "code",
   "execution_count": 100,
   "metadata": {
    "ExecuteTime": {
     "end_time": "2020-05-18T09:22:35.598914Z",
     "start_time": "2020-05-18T09:22:35.580868Z"
    }
   },
   "outputs": [],
   "source": [
    "# Should we include the `link_problems` in the `useful_links`? Link problems have either same IP or same alias. Suppose I am satoshi games with IP1 and wallet E1 but two nodes N1, N2. I open a channel N1-N3 to fepede, I close it, then I open a new one N2-N3. The ground truth is E1 controls N1, N2 and if we don't add the on-chain simultaneous activity and same funding entity our heuristic fails, otherwise it works.\n",
    "# link_problems[0]"
   ]
  },
  {
   "cell_type": "code",
   "execution_count": 101,
   "metadata": {
    "ExecuteTime": {
     "end_time": "2020-05-18T09:22:35.607950Z",
     "start_time": "2020-05-18T09:22:35.600830Z"
    }
   },
   "outputs": [],
   "source": [
    "# len(link_problems) # 4, one in common with link_problems2"
   ]
  },
  {
   "cell_type": "code",
   "execution_count": 102,
   "metadata": {
    "ExecuteTime": {
     "end_time": "2020-05-18T09:22:35.613130Z",
     "start_time": "2020-05-18T09:22:35.610891Z"
    }
   },
   "outputs": [],
   "source": [
    "# len(link_problems2) # 5, one in common with link_problems"
   ]
  },
  {
   "cell_type": "code",
   "execution_count": 103,
   "metadata": {
    "ExecuteTime": {
     "end_time": "2020-05-18T09:22:35.619811Z",
     "start_time": "2020-05-18T09:22:35.614960Z"
    }
   },
   "outputs": [],
   "source": [
    "def print_link(link):\n",
    "    node_in_common = most_common(link[3:7])\n",
    "    print('****Node in common****')\n",
    "    print('ID:', node_in_common)\n",
    "    ip = ''\n",
    "    if node_in_common in node_ip:\n",
    "        ip = node_ip[node_in_common]\n",
    "    alias = ''\n",
    "    if node_in_common in node_alias:\n",
    "        alias = node_alias[node_in_common]\n",
    "    print('IP:', ip)\n",
    "    print('Alias:', alias)\n",
    "    i = 1\n",
    "    for node in link[3:7]:\n",
    "        if node != node_in_common:\n",
    "            print()\n",
    "            print('****Other node in channel', i)\n",
    "            print('ID:', node)\n",
    "            i += 1\n",
    "            ip = ''\n",
    "            if node in node_ip:\n",
    "                ip = node_ip[node]\n",
    "            alias = ''\n",
    "            if node in node_alias:\n",
    "                alias = node_alias[node]\n",
    "            print('IP:', ip)\n",
    "            print('Alias:', alias)"
   ]
  },
  {
   "cell_type": "code",
   "execution_count": 104,
   "metadata": {
    "ExecuteTime": {
     "end_time": "2020-05-18T09:22:35.625065Z",
     "start_time": "2020-05-18T09:22:35.622707Z"
    }
   },
   "outputs": [],
   "source": [
    "#### Examples of other nodes with same IP\n",
    "# print_link(link_problems[2])"
   ]
  },
  {
   "cell_type": "code",
   "execution_count": 105,
   "metadata": {
    "ExecuteTime": {
     "end_time": "2020-05-18T09:22:35.630703Z",
     "start_time": "2020-05-18T09:22:35.627906Z"
    }
   },
   "outputs": [],
   "source": [
    "#### Examples of other nodes with same Alias but different IP\n",
    "# print_link(link_problems2[1])"
   ]
  },
  {
   "cell_type": "code",
   "execution_count": 106,
   "metadata": {
    "ExecuteTime": {
     "end_time": "2020-05-18T09:22:35.635883Z",
     "start_time": "2020-05-18T09:22:35.632681Z"
    }
   },
   "outputs": [],
   "source": [
    "# print_link(link_problems2[4]) # Comment: here we have bitrefill opening two channels with two different nodes of BitcoinNode. Can it be the opposite: Could it be BitcoinNode with two different nodes opening two channels to the same node of bitrefill."
   ]
  },
  {
   "cell_type": "code",
   "execution_count": 107,
   "metadata": {
    "ExecuteTime": {
     "end_time": "2020-05-18T09:22:35.641026Z",
     "start_time": "2020-05-18T09:22:35.638395Z"
    },
    "scrolled": true
   },
   "outputs": [],
   "source": [
    "# ip addresses of lunanode canada\n",
    "# for ip in ip_addresses.ip_address.values:\n",
    "#     if '172.81.17' in ip:\n",
    "#         print(ip)"
   ]
  },
  {
   "cell_type": "code",
   "execution_count": 108,
   "metadata": {
    "ExecuteTime": {
     "end_time": "2020-05-18T09:22:35.647715Z",
     "start_time": "2020-05-18T09:22:35.643422Z"
    }
   },
   "outputs": [],
   "source": [
    "impossible_links_full = []\n",
    "for link in impossible_links:\n",
    "    l = [el for el in link]\n",
    "    for node in link[3:]:\n",
    "        ip = ''\n",
    "        if node in node_ip:\n",
    "            ip = node_ip[node]\n",
    "        l.append(ip)\n",
    "    for node in link[3:]:\n",
    "        alias = ''\n",
    "        if node in node_alias:\n",
    "            alias = node_alias[node]\n",
    "        l.append(alias)\n",
    "    impossible_links_full.append(l)"
   ]
  },
  {
   "cell_type": "markdown",
   "metadata": {},
   "source": [
    "### Create usable and reliable links"
   ]
  },
  {
   "cell_type": "markdown",
   "metadata": {
    "ExecuteTime": {
     "end_time": "2020-04-27T08:44:38.737817Z",
     "start_time": "2020-04-27T08:44:38.734280Z"
    }
   },
   "source": [
    "To create usable links, we need to be sure that the other two nodes in the two channels have simultaneous on-chain activity.\n",
    "\n",
    "To create reliable links, we select links where the link address(entity) (the address(entity) that receives the funds from the settlement tx and then use them to open a new channel) is also among the inputs of the first funding tx. "
   ]
  },
  {
   "cell_type": "code",
   "execution_count": 9,
   "metadata": {
    "ExecuteTime": {
     "end_time": "2020-05-31T14:46:11.745671Z",
     "start_time": "2020-05-31T14:46:10.920548Z"
    }
   },
   "outputs": [],
   "source": [
    "## Nodes on-chain activity\n",
    "# for each node, create a list of timestamps of openings, closings and first/last_activity\n",
    "node_openings_closings = dict()\n",
    "for node, chnls in node_channels.items():\n",
    "    node_openings_closings[node] = {'openings': [], 'closings': []}\n",
    "    for chnl in chnls:\n",
    "        tx_hsh, out_index = chnl.split(':')\n",
    "        t_open = funding_txs[tx_hsh]['timestamp']\n",
    "        node_openings_closings[node]['openings'].append(t_open)\n",
    "        \n",
    "        t_closed = 0\n",
    "        funded_address = funding_txs[tx_hsh]['outputs'][int(out_index)]['address']\n",
    "        stxs = funded_address_settlement_txs[funded_address]\n",
    "        if stxs:\n",
    "            t_closed = stxs[0]['timestamp']\n",
    "        node_openings_closings[node]['closings'].append(t_closed)\n",
    "    node_openings_closings[node]['first_activity'] = min(node_openings_closings[node]['openings'])\n",
    "    node_openings_closings[node]['last_activity'] = max(max(node_openings_closings[node]['openings']), max(node_openings_closings[node]['closings']))    \n",
    "    if min(node_openings_closings[node]['closings']) == 0:\n",
    "        node_openings_closings[node]['last_activity'] = int(time.time()) # still open -> now"
   ]
  },
  {
   "cell_type": "code",
   "execution_count": 110,
   "metadata": {
    "ExecuteTime": {
     "end_time": "2020-05-18T09:22:36.182656Z",
     "start_time": "2020-05-18T09:22:36.179341Z"
    }
   },
   "outputs": [],
   "source": [
    "# # to plot on-chain activity of nodes in used links\n",
    "# for nl, il in enumerate(reliable_links_entities):\n",
    "#     plt.figure(figsize=(10,5))\n",
    "#     i = 0\n",
    "#     for node in il[3:][::-1]: # reverse order because we have ch2 nodes before ch1 nodes\n",
    "#         x = [node_openings_closings[node]['first_activity'], node_openings_closings[node]['last_activity']]\n",
    "#         y = [i, i]\n",
    "#         C = 'Ch1-'\n",
    "#         if i > 1:\n",
    "#             C = 'Ch2-'\n",
    "#         lbl = C + 'N' + str(1 + i%2) + ': ' +  ts2date(x[0]) + ' -- ' + ts2date(x[1])\n",
    "#         plt.plot(x, y, '-x',label=lbl, linewidth=3)\n",
    "#         i += 1\n",
    "# #         print(ts2date(node_openings_closings[node]['first_activity']), '.....', ts2date(node_openings_closings[node]['last_activity']))\n",
    "#     ax = plt.gca()\n",
    "#     plt.xlabel('Time')\n",
    "#     plt.ylabel('Nodes')\n",
    "#     print(nl)\n",
    "#     plt.title('First and last on-chain activities of nodes linked by funding/settlement txs')\n",
    "#     ax.tick_params(axis='x',labelbottom='off')\n",
    "#     ax.tick_params(axis='y',labelleft='off')\n",
    "#     plt.legend()\n",
    "#     plt.grid()\n",
    "#     plt.show()"
   ]
  },
  {
   "cell_type": "code",
   "execution_count": 111,
   "metadata": {
    "ExecuteTime": {
     "end_time": "2020-05-18T09:22:36.210799Z",
     "start_time": "2020-05-18T09:22:36.185362Z"
    }
   },
   "outputs": [],
   "source": [
    "# if closing of other node in ch1 > opening of other node in ch2\n",
    "# then we can use the link\n",
    "usable_links = []\n",
    "for link in useful_links:\n",
    "    node_in_common = most_common(link[3:])\n",
    "    other_node_ch1 = ''\n",
    "    other_node_ch2 = ''\n",
    "    for node in link[3:][::-1]:\n",
    "        if node != node_in_common:\n",
    "            if not other_node_ch1:\n",
    "                other_node_ch1 = node\n",
    "            else:\n",
    "                other_node_ch2 = node\n",
    "    if node_openings_closings[other_node_ch1]['last_activity'] > node_openings_closings[other_node_ch2]['first_activity']:\n",
    "        usable_links.append(link)"
   ]
  },
  {
   "cell_type": "code",
   "execution_count": 112,
   "metadata": {
    "ExecuteTime": {
     "end_time": "2020-05-18T09:22:36.215345Z",
     "start_time": "2020-05-18T09:22:36.212619Z"
    }
   },
   "outputs": [
    {
     "name": "stdout",
     "output_type": "stream",
     "text": [
      "Number of usable links (other nodes with simultaneous on-chain activity): 7683\n"
     ]
    }
   ],
   "source": [
    "print('Number of usable links (other nodes with simultaneous on-chain activity):', len(usable_links))"
   ]
  },
  {
   "cell_type": "code",
   "execution_count": 113,
   "metadata": {
    "ExecuteTime": {
     "end_time": "2020-05-18T09:22:36.237245Z",
     "start_time": "2020-05-18T09:22:36.216992Z"
    }
   },
   "outputs": [],
   "source": [
    "reliable_links_addresses = []\n",
    "for link in usable_links:\n",
    "    link_address = link[1]\n",
    "    stx = link[0]\n",
    "    its_ftx = stx_its_ftx[stx]\n",
    "    if link_address in [el['address'] for el in funding_txs[its_ftx]['inputs']]:\n",
    "        reliable_links_addresses.append(link)"
   ]
  },
  {
   "cell_type": "code",
   "execution_count": 114,
   "metadata": {
    "ExecuteTime": {
     "end_time": "2020-05-18T09:22:36.242724Z",
     "start_time": "2020-05-18T09:22:36.239426Z"
    }
   },
   "outputs": [
    {
     "name": "stdout",
     "output_type": "stream",
     "text": [
      "Number of reliable links at address level: 0\n"
     ]
    }
   ],
   "source": [
    "print('Number of reliable links at address level:', len(reliable_links_addresses))"
   ]
  },
  {
   "cell_type": "code",
   "execution_count": 115,
   "metadata": {
    "ExecuteTime": {
     "end_time": "2020-05-18T09:22:36.275371Z",
     "start_time": "2020-05-18T09:22:36.245671Z"
    }
   },
   "outputs": [],
   "source": [
    "reliable_links_entities = []\n",
    "entities_reusing = set()\n",
    "for link in usable_links:\n",
    "    link_address = link[1]\n",
    "    link_entity = settlement_address_entity[link_address]\n",
    "    stx = link[0]\n",
    "    its_ftx = stx_its_ftx[stx]\n",
    "    if link_entity in [funding_address_entity[el['address']] for el in funding_txs[its_ftx]['inputs']]:\n",
    "        entities_reusing.add(link_entity)\n",
    "        reliable_links_entities.append(link)"
   ]
  },
  {
   "cell_type": "code",
   "execution_count": 116,
   "metadata": {
    "ExecuteTime": {
     "end_time": "2020-05-18T09:22:36.280704Z",
     "start_time": "2020-05-18T09:22:36.277699Z"
    }
   },
   "outputs": [
    {
     "name": "stdout",
     "output_type": "stream",
     "text": [
      "Number of reliable links at entity level: 43\n"
     ]
    }
   ],
   "source": [
    "print('Number of reliable links at entity level:', len(reliable_links_entities))"
   ]
  },
  {
   "cell_type": "code",
   "execution_count": 117,
   "metadata": {
    "ExecuteTime": {
     "end_time": "2020-05-18T09:22:36.285989Z",
     "start_time": "2020-05-18T09:22:36.282850Z"
    }
   },
   "outputs": [
    {
     "name": "stdout",
     "output_type": "stream",
     "text": [
      "Number of entities reusing funding addresses: 8\n"
     ]
    }
   ],
   "source": [
    "print('Number of entities reusing funding addresses:', len(entities_reusing))"
   ]
  },
  {
   "cell_type": "markdown",
   "metadata": {},
   "source": [
    "What happens if we have a link where a stx has not exactly two output addresses? \n",
    "\n",
    "- If it has only one address and its entity is the funding entity, then it's fine, we can use the link.\n",
    "\n",
    "- If it has more than two addresses it means it was a non-collaborative stx, but if the funding entity is still among the outputs, it is no problem, we can use the link"
   ]
  },
  {
   "cell_type": "code",
   "execution_count": 264,
   "metadata": {
    "ExecuteTime": {
     "end_time": "2020-07-08T19:41:12.518544Z",
     "start_time": "2020-07-08T19:41:12.498703Z"
    }
   },
   "outputs": [],
   "source": [
    "settlement_txs_full = dict()\n",
    "for stxs in funded_address_settlement_txs.values():\n",
    "    if stxs:\n",
    "        for stx in stxs:\n",
    "            stx_hash = stx['tx_hash']\n",
    "            settlement_txs_full[stx_hash] = stx"
   ]
  },
  {
   "cell_type": "code",
   "execution_count": 119,
   "metadata": {
    "ExecuteTime": {
     "end_time": "2020-05-18T09:22:36.366893Z",
     "start_time": "2020-05-18T09:22:36.361804Z"
    }
   },
   "outputs": [
    {
     "name": "stdout",
     "output_type": "stream",
     "text": [
      "Number of non-collaborative closing txs in reliable links: 1\n",
      "Number of single-output closing txs in reliable links: 11\n"
     ]
    }
   ],
   "source": [
    "reliable_links_bad_stxs = set()\n",
    "reliable_links_one_output_stxs = set()\n",
    "for link in reliable_links_entities:\n",
    "    stx_hash = link[0]\n",
    "    if stx_hash in settlement_txs_full:\n",
    "        stx = settlement_txs_full[stx_hash]\n",
    "        stx_addresses = set([out['address'] for out in stx['outputs']])\n",
    "#         stx_entities = set([settlement_address_entity[out['address']] for out in stx['outputs']])\n",
    "#         if len(stx_entities) > 2:\n",
    "        if len(stx_addresses) > 2:\n",
    "            reliable_links_bad_stxs.add(stx_hash)\n",
    "        if len(stx_addresses) < 2:\n",
    "            reliable_links_one_output_stxs.add(stx_hash)\n",
    "print('Number of non-collaborative closing txs in reliable links:', len(reliable_links_bad_stxs))\n",
    "print('Number of single-output closing txs in reliable links:', len(reliable_links_one_output_stxs))"
   ]
  },
  {
   "cell_type": "code",
   "execution_count": 120,
   "metadata": {
    "ExecuteTime": {
     "end_time": "2020-05-18T09:22:36.372646Z",
     "start_time": "2020-05-18T09:22:36.368820Z"
    }
   },
   "outputs": [],
   "source": [
    "# heuristic 1: linking nodes to entity using stx and ftx\n",
    "heuristic_1a_entity_node = dict()\n",
    "heuristic_1a_node_entity = dict()\n",
    "for link in reliable_links_entities:\n",
    "    e = settlement_address_entity[link[1]]\n",
    "    n = most_common(link[3:])\n",
    "    if e not in heuristic_1a_entity_node:\n",
    "        heuristic_1a_entity_node[e] = set()\n",
    "    heuristic_1a_entity_node[e].add(n)\n",
    "    if n not in heuristic_1a_node_entity:\n",
    "        heuristic_1a_node_entity[n] = set()\n",
    "    heuristic_1a_node_entity[n].add(e)"
   ]
  },
  {
   "cell_type": "code",
   "execution_count": 121,
   "metadata": {
    "ExecuteTime": {
     "end_time": "2020-05-18T09:22:36.378188Z",
     "start_time": "2020-05-18T09:22:36.374666Z"
    }
   },
   "outputs": [
    {
     "name": "stdout",
     "output_type": "stream",
     "text": [
      "Number of entities linked to nodes: 8\n"
     ]
    }
   ],
   "source": [
    "print('Number of entities linked to nodes:', len(heuristic_1a_entity_node))"
   ]
  },
  {
   "cell_type": "code",
   "execution_count": 122,
   "metadata": {
    "ExecuteTime": {
     "end_time": "2020-05-18T09:22:36.382845Z",
     "start_time": "2020-05-18T09:22:36.379997Z"
    }
   },
   "outputs": [
    {
     "name": "stdout",
     "output_type": "stream",
     "text": [
      "Number of nodes linked to entities: 8\n"
     ]
    }
   ],
   "source": [
    "print('Number of nodes linked to entities:', len(heuristic_1a_node_entity))"
   ]
  },
  {
   "cell_type": "code",
   "execution_count": 123,
   "metadata": {
    "ExecuteTime": {
     "end_time": "2020-05-18T09:22:36.390134Z",
     "start_time": "2020-05-18T09:22:36.384530Z"
    }
   },
   "outputs": [
    {
     "name": "stdout",
     "output_type": "stream",
     "text": [
      "Number of entities linked to multiple nodes: 0\n",
      "Number of nodes linked to multiple entities: 0\n",
      "Max number of entities linked to a node: 0\n"
     ]
    }
   ],
   "source": [
    "entities_with_multiple_nodes = 0\n",
    "for e, n in heuristic_1a_entity_node.items():\n",
    "    if len(n) != 1:\n",
    "        entities_with_multiple_nodes += 1\n",
    "#         print(len(n))\n",
    "print('Number of entities linked to multiple nodes:', entities_with_multiple_nodes)\n",
    "# many nodes have more than one entity\n",
    "nodes_with_multiple_entities = 0\n",
    "max_entities_per_node = 0\n",
    "node_with_max_entities = 0\n",
    "for n, e in heuristic_1a_node_entity.items():\n",
    "    if len(e) != 1:\n",
    "        if len(e) > max_entities_per_node:\n",
    "            max_entities_per_node = len(e)\n",
    "            node_with_max_entities = n\n",
    "        nodes_with_multiple_entities += 1\n",
    "#         print(len(e))\n",
    "print('Number of nodes linked to multiple entities:', nodes_with_multiple_entities)\n",
    "print('Max number of entities linked to a node:', max_entities_per_node)\n",
    "if node_with_max_entities in node_alias:\n",
    "    print('Alias of node with max number of entities:', node_alias[node_with_max_entities])"
   ]
  },
  {
   "cell_type": "code",
   "execution_count": 124,
   "metadata": {
    "ExecuteTime": {
     "end_time": "2020-05-18T09:22:36.395086Z",
     "start_time": "2020-05-18T09:22:36.392190Z"
    }
   },
   "outputs": [
    {
     "name": "stdout",
     "output_type": "stream",
     "text": [
      "Some nodes with many entities:\n"
     ]
    }
   ],
   "source": [
    "print('Some nodes with many entities:')\n",
    "for n, e in heuristic_1a_node_entity.items():\n",
    "    if len(e) > 50:\n",
    "        if n in node_alias:\n",
    "            print('Number of entities:', len(e), 'Alias:', node_alias[n])"
   ]
  },
  {
   "cell_type": "code",
   "execution_count": 125,
   "metadata": {
    "ExecuteTime": {
     "end_time": "2020-05-18T09:22:36.399255Z",
     "start_time": "2020-05-18T09:22:36.396883Z"
    }
   },
   "outputs": [],
   "source": [
    "# # check if our linking has some inconsistencies: \n",
    "# # if a node has two entities that receive funds from the same settlement tx\n",
    "# # then something is weird\n",
    "# found = False\n",
    "# for n, e in heuristic_1a_node_entity.items():\n",
    "#     if not found:\n",
    "#         if len(e) > 2:\n",
    "#             for stx in settlement_txs:\n",
    "#                 output_entities = set([settlement_address_entity[out['address']] for out in stx['outputs']])\n",
    "#             # check intersection of entities with outputs of stxs\n",
    "#                 i = e.intersection(output_entities)\n",
    "#                 if len(i) > 1:\n",
    "#                     print(e)\n",
    "#                     print(len(i), end=' ')\n",
    "#                     found = True\n",
    "#                     break\n",
    "# # no inconsistencies if no output"
   ]
  },
  {
   "cell_type": "code",
   "execution_count": 126,
   "metadata": {
    "ExecuteTime": {
     "end_time": "2020-05-18T09:22:36.404018Z",
     "start_time": "2020-05-18T09:22:36.400809Z"
    }
   },
   "outputs": [],
   "source": [
    "# # to check size of linked entities and possible coinjoins\n",
    "# for le in heuristic_1_entity_node:\n",
    "#     for a, e in funding_address_entity.items():\n",
    "#         if le == e:\n",
    "#             print(a, e)\n",
    "#             break"
   ]
  },
  {
   "cell_type": "markdown",
   "metadata": {
    "ExecuteTime": {
     "end_time": "2020-04-21T13:10:17.276964Z",
     "start_time": "2020-04-21T13:10:17.272886Z"
    }
   },
   "source": [
    "## Heuristic 1b: link other node to other entity in channel (using results of Heuristic 1a)\n",
    "\n",
    "If one output entity of a settlement tx is linked to one node in the channel, link the other output entity to the other node in the channel."
   ]
  },
  {
   "cell_type": "code",
   "execution_count": 127,
   "metadata": {
    "ExecuteTime": {
     "end_time": "2020-05-18T09:22:36.409515Z",
     "start_time": "2020-05-18T09:22:36.406432Z"
    }
   },
   "outputs": [],
   "source": [
    "def add_node_to_entity(entity, node, entity_nodes, found):\n",
    "    # assign the other node to the other entity\n",
    "    if entity not in entity_nodes:\n",
    "        entity_nodes[entity] = set()\n",
    "    if node not in entity_nodes[entity]:\n",
    "        entity_nodes[entity].add(node)\n",
    "        found = True\n",
    "    return entity_nodes, found"
   ]
  },
  {
   "cell_type": "code",
   "execution_count": 128,
   "metadata": {
    "ExecuteTime": {
     "end_time": "2020-05-18T09:22:36.416808Z",
     "start_time": "2020-05-18T09:22:36.411098Z"
    }
   },
   "outputs": [],
   "source": [
    "heuristic_1b_entity_node = {k:v for k,v in heuristic_1a_entity_node.items()}"
   ]
  },
  {
   "cell_type": "code",
   "execution_count": 129,
   "metadata": {
    "ExecuteTime": {
     "end_time": "2020-05-18T09:22:38.186002Z",
     "start_time": "2020-05-18T09:22:36.418450Z"
    }
   },
   "outputs": [
    {
     "name": "stdout",
     "output_type": "stream",
     "text": [
      "Iteration: 1 -- Number of linked entities: 8\n",
      "Iteration: 2 -- Number of linked entities: 1228\n",
      "Iteration: 3 -- Number of linked entities: 3163\n",
      "Iteration: 4 -- Number of linked entities: 3955\n",
      "Iteration: 5 -- Number of linked entities: 4156\n",
      "Iteration: 6 -- Number of linked entities: 4203\n",
      "Iteration: 7 -- Number of linked entities: 4218\n",
      "Final number of linked entities: 4218\n"
     ]
    }
   ],
   "source": [
    "# link other node and entity in channel\n",
    "\n",
    "# loop through the channels\n",
    "# for each channel with a stx\n",
    "    # if one output is linked to a node\n",
    "        # link the other one to the other node\n",
    "found = True # at least one new link\n",
    "i = 0\n",
    "while found:\n",
    "    i += 1\n",
    "    found = False # until we find a new link\n",
    "    print('Iteration:', i, '-- Number of linked entities:', len(heuristic_1b_entity_node))\n",
    "    for channel in channels.values:\n",
    "        funding_tx, out_index = channel[0].split(':')\n",
    "        node_1 = channel[1]\n",
    "        node_2 = channel[2]\n",
    "        funded_address = funding_txs[funding_tx]['outputs'][int(out_index)]['address']\n",
    "\n",
    "        settlement_txs = funded_address_settlement_txs[funded_address]\n",
    "        # if channel is closed and number of outputs == 2 and one node is mapped to one entity in the outputs\n",
    "        if settlement_txs: # it is always only one\n",
    "            for settlement_tx in settlement_txs:\n",
    "                # count entities\n",
    "                entities = list(set([settlement_address_entity[out['address']] for out in settlement_tx['outputs']]))\n",
    "                if len(entities) == 2:\n",
    "                    entity_1 = entities[0]\n",
    "                    entity_2 = entities[1]\n",
    "                    # if entity_1 is linked to one node in the channel, link the other node to the other entity\n",
    "                    if entity_1 in heuristic_1b_entity_node:\n",
    "                        # entity_1 has a node, now find if it is in this channel\n",
    "                        if node_1 in heuristic_1b_entity_node[entity_1]:\n",
    "                            heuristic_1b_entity_node, found = add_node_to_entity(entity_2, node_2, heuristic_1b_entity_node, found)\n",
    "\n",
    "                        elif node_2 in heuristic_1b_entity_node[entity_1]:\n",
    "                            heuristic_1b_entity_node, found = add_node_to_entity(entity_2, node_1, heuristic_1b_entity_node, found)\n",
    "\n",
    "                    # if entity_2 is linked to one node in the channel, link the other node to the other entity\n",
    "                    if entity_2 in heuristic_1b_entity_node:\n",
    "                        if node_1 in heuristic_1b_entity_node[entity_2]:\n",
    "                            heuristic_1b_entity_node, found = add_node_to_entity(entity_1, node_2, heuristic_1b_entity_node, found)\n",
    "\n",
    "                        elif node_2 in heuristic_1b_entity_node[entity_2]:\n",
    "                            heuristic_1b_entity_node, found = add_node_to_entity(entity_1, node_1, heuristic_1b_entity_node, found)\n",
    "\n",
    "print('Final number of linked entities:', (len(heuristic_1b_entity_node)))"
   ]
  },
  {
   "cell_type": "code",
   "execution_count": 130,
   "metadata": {
    "ExecuteTime": {
     "end_time": "2020-05-18T09:22:38.194820Z",
     "start_time": "2020-05-18T09:22:38.188095Z"
    }
   },
   "outputs": [
    {
     "name": "stdout",
     "output_type": "stream",
     "text": [
      "Number of nodes linked to entities: 1265\n"
     ]
    }
   ],
   "source": [
    "heuristic_1b_node_entity = dict()\n",
    "for e, ns in heuristic_1b_entity_node.items():\n",
    "    for n in ns:\n",
    "        if n not in heuristic_1b_node_entity:\n",
    "            heuristic_1b_node_entity[n] = set()\n",
    "        heuristic_1b_node_entity[n].add(e)\n",
    "print('Number of nodes linked to entities:', (len(heuristic_1b_node_entity)))"
   ]
  },
  {
   "cell_type": "code",
   "execution_count": 131,
   "metadata": {
    "ExecuteTime": {
     "end_time": "2020-05-18T09:22:38.207560Z",
     "start_time": "2020-05-18T09:22:38.197198Z"
    }
   },
   "outputs": [
    {
     "name": "stdout",
     "output_type": "stream",
     "text": [
      "Number of entities linked to multiple nodes: 1\n",
      "Number of nodes linked to multiple entities: 495\n",
      "Max number of entities linked to a node: 112\n",
      "Alias of node with max number of entities: {'ACINQ'}\n"
     ]
    }
   ],
   "source": [
    "entities_with_multiple_nodes = 0\n",
    "for e, n in heuristic_1b_entity_node.items():\n",
    "    if len(n) != 1:\n",
    "        entities_with_multiple_nodes += 1\n",
    "#         print(len(n))\n",
    "print('Number of entities linked to multiple nodes:', entities_with_multiple_nodes)\n",
    "\n",
    "# many nodes have more than one entity\n",
    "nodes_with_multiple_entities = 0\n",
    "max_entities_per_node = 0\n",
    "node_with_max_entities = 0\n",
    "for n, e in heuristic_1b_node_entity.items():\n",
    "    if len(e) != 1:\n",
    "        if len(e) > max_entities_per_node:\n",
    "            max_entities_per_node = len(e)\n",
    "            node_with_max_entities = n\n",
    "        nodes_with_multiple_entities += 1\n",
    "#         print(len(e))\n",
    "print('Number of nodes linked to multiple entities:', nodes_with_multiple_entities)\n",
    "print('Max number of entities linked to a node:', max_entities_per_node)\n",
    "if node_with_max_entities in node_alias:\n",
    "    print('Alias of node with max number of entities:', node_alias[node_with_max_entities])"
   ]
  },
  {
   "cell_type": "code",
   "execution_count": 132,
   "metadata": {
    "ExecuteTime": {
     "end_time": "2020-05-18T09:22:38.214942Z",
     "start_time": "2020-05-18T09:22:38.210440Z"
    }
   },
   "outputs": [
    {
     "name": "stdout",
     "output_type": "stream",
     "text": [
      "Some nodes with many entities\n",
      "Number of entities: 112 Alias: {'ACINQ'}\n",
      "Number of entities: 92 Alias: {'LightningPowerUsers.com'}\n",
      "Number of entities: 86 Alias: {'rompert.com🔵'}\n"
     ]
    }
   ],
   "source": [
    "print('Some nodes with many entities')\n",
    "for n, e in heuristic_1b_node_entity.items():\n",
    "    if len(e) > 80:\n",
    "        if n in node_alias:\n",
    "            print('Number of entities:', len(e), 'Alias:', node_alias[n])"
   ]
  },
  {
   "cell_type": "code",
   "execution_count": 133,
   "metadata": {
    "ExecuteTime": {
     "end_time": "2020-05-18T09:22:38.222564Z",
     "start_time": "2020-05-18T09:22:38.217897Z"
    }
   },
   "outputs": [],
   "source": [
    "node_n_entities_list = []\n",
    "for n, e in heuristic_1b_node_entity.items():\n",
    "    node_n_entities_list.append([n, len(e)])\n",
    "node_n_entities_list.sort(key=lambda x: -x[1])"
   ]
  },
  {
   "cell_type": "code",
   "execution_count": 134,
   "metadata": {
    "ExecuteTime": {
     "end_time": "2020-05-18T09:22:38.228185Z",
     "start_time": "2020-05-18T09:22:38.224910Z"
    }
   },
   "outputs": [],
   "source": [
    "node_n_entities_list.sort(key=lambda x: -x[1])"
   ]
  },
  {
   "cell_type": "code",
   "execution_count": 135,
   "metadata": {
    "ExecuteTime": {
     "end_time": "2020-05-18T09:22:38.235775Z",
     "start_time": "2020-05-18T09:22:38.230642Z"
    }
   },
   "outputs": [
    {
     "name": "stdout",
     "output_type": "stream",
     "text": [
      "Top 10 nodes and sorted by of entities\n"
     ]
    },
    {
     "data": {
      "text/plain": [
       "[['03864ef025fde8fb587d989186ce6a4a186895ee44a926bfc370e2c366597a3f8f', 112],\n",
       " ['0331f80652fb840239df8dc99205792bba2e559a05469915804c08420230e23c7c', 92],\n",
       " ['02ad6fb8d693dc1e4569bcedefadf5f72a931ae027dc0f0c544b34c1c6f3b9a02b', 86],\n",
       " ['03c2abfa93eacec04721c019644584424aab2ba4dff3ac9bdab4e9c97007491dda', 69],\n",
       " ['03bb88ccc444534da7b5b64b4f7b15e1eccb18e102db0e400d4b9cfe93763aa26d', 68],\n",
       " ['03d06758583bb5154774a6eb221b1276c9e82d65bbaceca806d90e20c108f4b1c7', 48],\n",
       " ['030c3f19d742ca294a55c00376b3b355c3c90d61c6b6b39554dbc7ac19b141c14f', 47],\n",
       " ['02529db69fd2ebd3126fb66fafa234fc3544477a23d509fe93ed229bb0e92e4fb8', 45],\n",
       " ['03abf6f44c355dec0d5aa155bdbdd6e0c8fefe318eff402de65c6eb2e1be55dc3e', 43],\n",
       " ['02004c625d622245606a1ea2c1c69cfb4516b703b47945a3647713c05fe4aaeb1c', 43]]"
      ]
     },
     "execution_count": 135,
     "metadata": {},
     "output_type": "execute_result"
    }
   ],
   "source": [
    "N = 10\n",
    "print('Top', N, 'nodes and sorted by of entities')\n",
    "node_n_entities_list[:10]"
   ]
  },
  {
   "cell_type": "code",
   "execution_count": 9,
   "metadata": {
    "ExecuteTime": {
     "end_time": "2020-07-07T13:40:38.586137Z",
     "start_time": "2020-07-07T13:40:38.571279Z"
    }
   },
   "outputs": [],
   "source": [
    "# settlement_txs = []\n",
    "# for stxs in funded_address_settlement_txs.values():\n",
    "#     if stxs:\n",
    "#         settlement_txs.append(stxs[0])"
   ]
  },
  {
   "cell_type": "markdown",
   "metadata": {},
   "source": [
    "# Filter out punishment txs"
   ]
  },
  {
   "cell_type": "code",
   "execution_count": 70,
   "metadata": {
    "ExecuteTime": {
     "end_time": "2020-07-08T08:43:47.929343Z",
     "start_time": "2020-07-08T08:43:47.924981Z"
    }
   },
   "outputs": [
    {
     "data": {
      "text/plain": [
       "11935"
      ]
     },
     "execution_count": 70,
     "metadata": {},
     "output_type": "execute_result"
    }
   ],
   "source": [
    "len(possible_two_output_unilateral_settlement_txs_hashes)"
   ]
  },
  {
   "cell_type": "code",
   "execution_count": 321,
   "metadata": {
    "ExecuteTime": {
     "end_time": "2020-07-09T08:03:31.593981Z",
     "start_time": "2020-07-09T08:03:30.713392Z"
    }
   },
   "outputs": [],
   "source": [
    "write_json(possible_two_output_unilateral_settlement_txs, level1_folder + 'possible_two_output_unilateral_settlement_txs.json')"
   ]
  },
  {
   "cell_type": "markdown",
   "metadata": {},
   "source": [
    "## select unilateral close"
   ]
  },
  {
   "cell_type": "code",
   "execution_count": 93,
   "metadata": {
    "ExecuteTime": {
     "end_time": "2020-07-08T09:09:18.763192Z",
     "start_time": "2020-07-08T09:09:18.750934Z"
    }
   },
   "outputs": [
    {
     "name": "stdout",
     "output_type": "stream",
     "text": [
      "bilateral_seq 7128\n",
      "unilateral_seq 4807\n",
      "Out of 11935 two-output settlement txs, we have 4807 unilateral closes\n"
     ]
    }
   ],
   "source": [
    "bilateral_seq = 0\n",
    "unilateral_seq = 0\n",
    "for t in possible_two_output_unilateral_settlement_txs.values():\n",
    "    seq = t['vin'][0]['sequence']\n",
    "    if seq != 4294967295:\n",
    "        unilateral_seq += 1\n",
    "    else:\n",
    "        bilateral_seq += 1\n",
    "print('bilateral_seq', bilateral_seq)\n",
    "print('unilateral_seq', unilateral_seq)\n"
   ]
  },
  {
   "cell_type": "code",
   "execution_count": 322,
   "metadata": {
    "ExecuteTime": {
     "end_time": "2020-07-09T08:04:57.835297Z",
     "start_time": "2020-07-09T08:04:57.832228Z"
    },
    "scrolled": true
   },
   "outputs": [],
   "source": [
    "# double_p2wsh = 0\n",
    "# p2wsh_outputs = set() # close_tx_hash:out_index\n",
    "# n_p2wsh = 0\n",
    "# unilateral_settlement_txs_with_p2wsh_in_outputs = []\n",
    "# for t in possible_two_output_unilateral_settlement_txs.values():\n",
    "#     seq = t['vin'][0]['sequence']\n",
    "#     if seq != 4294967295:\n",
    "#         # unilateral\n",
    "#         n_p2wsh_in_tx = len([1 for vout in t['vout'] if vout['scriptpubkey_type'] == 'v0_p2wsh' ])\n",
    "#         if n_p2wsh_in_tx:\n",
    "#             unilateral_settlement_txs_with_p2wsh_in_outputs.append(t['txid'])\n",
    "#         if n_p2wsh_in_tx == 2:\n",
    "#             double_p2wsh += 1\n",
    "# #             print(t['txid'])\n",
    "#         n_p2wsh += n_p2wsh_in_tx\n",
    "# print('Out of', len(possible_two_output_unilateral_settlement_txs_hashes), 'two-output settlement txs, we have', \n",
    "#       unilateral_seq, 'unilateral closes and', double_p2wsh, 'of them have p2wsh in both outputs')"
   ]
  },
  {
   "cell_type": "code",
   "execution_count": 176,
   "metadata": {
    "ExecuteTime": {
     "end_time": "2020-07-08T13:25:29.175931Z",
     "start_time": "2020-07-08T13:25:29.134663Z"
    },
    "scrolled": true
   },
   "outputs": [
    {
     "name": "stdout",
     "output_type": "stream",
     "text": [
      "Out of 11935 two-output settlement txs, we have 4807 unilateral closes and 56 of them have p2wsh in both outputs\n"
     ]
    }
   ],
   "source": [
    "double_p2wsh = 0\n",
    "p2wsh_outputs = set() # tx_hash:out_index\n",
    "n_p2wsh = 0\n",
    "unilateral_settlement_txs_with_p2wsh_in_outputs = []\n",
    "for t in possible_two_output_unilateral_settlement_txs.values():\n",
    "    seq = t['vin'][0]['sequence']\n",
    "    if seq != 4294967295:\n",
    "        # unilateral\n",
    "        n_p2wsh_in_tx = 0\n",
    "        for i, vout in enumerate(t['vout']):\n",
    "            if vout['scriptpubkey_type'] == 'v0_p2wsh':\n",
    "                p2wsh_outputs.add(t['txid'] + ':' + str(i))\n",
    "                n_p2wsh_in_tx += 1\n",
    "        if n_p2wsh_in_tx:\n",
    "            unilateral_settlement_txs_with_p2wsh_in_outputs.append(t['txid'])\n",
    "        if n_p2wsh_in_tx == 2:\n",
    "            double_p2wsh += 1\n",
    "#             print(t['txid'])\n",
    "        n_p2wsh += n_p2wsh_in_tx\n",
    "print('Out of', len(possible_two_output_unilateral_settlement_txs_hashes), 'two-output settlement txs, we have', \n",
    "      unilateral_seq, 'unilateral closes and', double_p2wsh, 'of them have p2wsh in both outputs')"
   ]
  },
  {
   "cell_type": "code",
   "execution_count": 290,
   "metadata": {
    "ExecuteTime": {
     "end_time": "2020-07-08T20:02:12.065487Z",
     "start_time": "2020-07-08T20:02:12.061653Z"
    }
   },
   "outputs": [
    {
     "data": {
      "text/plain": [
       "4863"
      ]
     },
     "execution_count": 290,
     "metadata": {},
     "output_type": "execute_result"
    }
   ],
   "source": [
    "len(p2wsh_outputs)"
   ]
  },
  {
   "cell_type": "code",
   "execution_count": 97,
   "metadata": {
    "ExecuteTime": {
     "end_time": "2020-07-08T09:28:01.080722Z",
     "start_time": "2020-07-08T09:28:01.075785Z"
    }
   },
   "outputs": [
    {
     "data": {
      "text/plain": [
       "4807"
      ]
     },
     "execution_count": 97,
     "metadata": {},
     "output_type": "execute_result"
    }
   ],
   "source": [
    "len(unilateral_settlement_txs_with_p2wsh_in_outputs)"
   ]
  },
  {
   "cell_type": "markdown",
   "metadata": {},
   "source": [
    "## get spenders of p2wsh from blockchain explorer"
   ]
  },
  {
   "cell_type": "markdown",
   "metadata": {},
   "source": [
    "### save entire page of unilateral txs"
   ]
  },
  {
   "cell_type": "code",
   "execution_count": 323,
   "metadata": {
    "ExecuteTime": {
     "end_time": "2020-07-09T08:06:34.654205Z",
     "start_time": "2020-07-09T08:06:29.566871Z"
    }
   },
   "outputs": [],
   "source": [
    "write_json(hash_page, level1_folder + 'unilateral_settlement_txs_page.json')"
   ]
  },
  {
   "cell_type": "code",
   "execution_count": 170,
   "metadata": {
    "ExecuteTime": {
     "end_time": "2020-07-08T13:08:45.035369Z",
     "start_time": "2020-07-08T13:08:45.032902Z"
    }
   },
   "outputs": [],
   "source": [
    "tx_hash = 'e4de8e3022eb07f00a865d89f5be7b24aae4ecbc48424bcb973c3e3825635688'"
   ]
  },
  {
   "cell_type": "markdown",
   "metadata": {},
   "source": [
    "## create dict where key: unilateral close, value: spender hashes if output is p2wsh"
   ]
  },
  {
   "cell_type": "code",
   "execution_count": 235,
   "metadata": {
    "ExecuteTime": {
     "end_time": "2020-07-08T14:19:13.466834Z",
     "start_time": "2020-07-08T14:19:11.517610Z"
    }
   },
   "outputs": [],
   "source": [
    "unilateral_settlement_txs_with_p2wsh_in_outputs_spenders = dict()\n",
    "for tx_hash in unilateral_settlement_txs_with_p2wsh_in_outputs:\n",
    "    unilateral_settlement_txs_with_p2wsh_in_outputs_spenders[tx_hash] = get_outputs_spenders(tx_hash)"
   ]
  },
  {
   "cell_type": "code",
   "execution_count": 173,
   "metadata": {
    "ExecuteTime": {
     "end_time": "2020-07-08T13:15:17.554810Z",
     "start_time": "2020-07-08T13:15:17.550698Z"
    }
   },
   "outputs": [
    {
     "data": {
      "text/plain": [
       "['d34a25861e8742634c9b307d7865826347dc516f520f4a56184762b1cffd06ae',\n",
       " 'cc80eebf83e1d77961cdcc3224d7e9e26a4605d7294492710f4f173590c8dc35']"
      ]
     },
     "execution_count": 173,
     "metadata": {},
     "output_type": "execute_result"
    }
   ],
   "source": [
    "unilateral_settlement_txs_with_p2wsh_in_outputs_spenders[tx_hash]"
   ]
  },
  {
   "cell_type": "markdown",
   "metadata": {},
   "source": [
    "## get tx details of each spender"
   ]
  },
  {
   "cell_type": "code",
   "execution_count": 237,
   "metadata": {
    "ExecuteTime": {
     "end_time": "2020-07-08T14:19:37.223844Z",
     "start_time": "2020-07-08T14:19:37.210887Z"
    }
   },
   "outputs": [],
   "source": [
    "spender_details = dict() # spender tx hash and its details\n",
    "for stx in unilateral_settlement_txs_with_p2wsh_in_outputs_spenders:\n",
    "    spenders = unilateral_settlement_txs_with_p2wsh_in_outputs_spenders[stx]\n",
    "    for i, spender in enumerate(spenders): # two spender txs at most\n",
    "        stx_out_index = stx + ':' + str(i) \n",
    "        if stx_out_index in p2wsh_outputs:\n",
    "            spender_details[spender] = None"
   ]
  },
  {
   "cell_type": "code",
   "execution_count": 302,
   "metadata": {
    "ExecuteTime": {
     "end_time": "2020-07-08T20:21:32.681138Z",
     "start_time": "2020-07-08T20:21:32.661173Z"
    }
   },
   "outputs": [],
   "source": [
    "# for each spender I need not only the tx hash, but also the address and maybe the amount to be more secure\n",
    "spender_address_btc = set() # spender tx hash + address + btc\n",
    "for stx in unilateral_settlement_txs_with_p2wsh_in_outputs_spenders:\n",
    "    spenders = unilateral_settlement_txs_with_p2wsh_in_outputs_spenders[stx]\n",
    "    for i, spender in enumerate(spenders): # two spender txs at most\n",
    "        stx_out_index = stx + ':' + str(i) \n",
    "        if stx_out_index in p2wsh_outputs:\n",
    "            address = settlement_txs_full[stx]['outputs'][i]['address'] # the output address of the settlement tx\n",
    "            btc = settlement_txs_full[stx]['outputs'][i]['value']['value']\n",
    "            key = spender + ':' + address + ':' + str(btc)\n",
    "            spender_address_btc.add(key)"
   ]
  },
  {
   "cell_type": "code",
   "execution_count": 330,
   "metadata": {
    "ExecuteTime": {
     "end_time": "2020-07-09T13:09:26.087810Z",
     "start_time": "2020-07-09T13:09:26.084551Z"
    }
   },
   "outputs": [
    {
     "name": "stdout",
     "output_type": "stream",
     "text": [
      "We have 4863 p2wsh outputs in the settlement txs and 4462 have been spent\n"
     ]
    }
   ],
   "source": [
    "print('We have', len(p2wsh_outputs), 'p2wsh outputs in the settlement txs and', len(spender_address_btc), 'have been spent')"
   ]
  },
  {
   "cell_type": "code",
   "execution_count": 303,
   "metadata": {
    "ExecuteTime": {
     "end_time": "2020-07-08T20:21:37.297127Z",
     "start_time": "2020-07-08T20:21:37.293585Z"
    }
   },
   "outputs": [
    {
     "data": {
      "text/plain": [
       "4462"
      ]
     },
     "execution_count": 303,
     "metadata": {},
     "output_type": "execute_result"
    }
   ],
   "source": [
    "len(spender_address_btc)"
   ]
  },
  {
   "cell_type": "code",
   "execution_count": 304,
   "metadata": {
    "ExecuteTime": {
     "end_time": "2020-07-08T20:21:47.127218Z",
     "start_time": "2020-07-08T20:21:47.116562Z"
    }
   },
   "outputs": [
    {
     "data": {
      "text/plain": [
       "3901"
      ]
     },
     "execution_count": 304,
     "metadata": {},
     "output_type": "execute_result"
    }
   ],
   "source": [
    "len(set([k.split(':')[0] for k in spender_address_btc]))"
   ]
  },
  {
   "cell_type": "code",
   "execution_count": 279,
   "metadata": {
    "ExecuteTime": {
     "end_time": "2020-07-08T19:48:49.129553Z",
     "start_time": "2020-07-08T19:48:49.126265Z"
    }
   },
   "outputs": [
    {
     "data": {
      "text/plain": [
       "3901"
      ]
     },
     "execution_count": 279,
     "metadata": {},
     "output_type": "execute_result"
    }
   ],
   "source": [
    "len(spender_details)"
   ]
  },
  {
   "cell_type": "code",
   "execution_count": 248,
   "metadata": {
    "ExecuteTime": {
     "end_time": "2020-07-08T15:03:27.641150Z",
     "start_time": "2020-07-08T15:03:27.287633Z"
    }
   },
   "outputs": [
    {
     "name": "stdout",
     "output_type": "stream",
     "text": [
      "0\r",
      "1\r",
      "2\r",
      "3\r",
      "4\r",
      "5\r",
      "6\r",
      "7\r",
      "8\r",
      "9\r",
      "10\r",
      "11\r",
      "12\r",
      "13\r",
      "14\r",
      "15\r",
      "16\r",
      "17\r",
      "18\r",
      "19\r",
      "20\r",
      "21\r",
      "22\r",
      "23\r",
      "24\r",
      "25\r",
      "26\r",
      "27\r",
      "28\r",
      "29\r",
      "30\r",
      "31\r",
      "32\r",
      "33\r",
      "34\r",
      "35\r",
      "36\r",
      "37\r",
      "38\r",
      "39\r",
      "40\r",
      "41\r",
      "42\r",
      "43\r",
      "44\r",
      "45\r",
      "46\r",
      "47\r",
      "48\r",
      "49\r",
      "50\r",
      "51\r",
      "52\r",
      "53\r",
      "54\r",
      "55\r",
      "56\r",
      "57\r",
      "58\r",
      "59\r",
      "60\r",
      "61\r",
      "62\r",
      "63\r",
      "64\r",
      "65\r",
      "66\r",
      "67\r",
      "68\r",
      "69\r",
      "70\r",
      "71\r",
      "72\r",
      "73\r",
      "74\r",
      "75\r",
      "76\r",
      "77\r",
      "78\r",
      "79\r",
      "80\r",
      "81\r",
      "82\r",
      "83\r",
      "84\r",
      "85\r",
      "86\r",
      "87\r",
      "88\r",
      "89\r",
      "90\r",
      "91\r",
      "92\r",
      "93\r",
      "94\r",
      "95\r",
      "96\r",
      "97\r",
      "98\r",
      "99\r",
      "100\r",
      "101\r",
      "102\r",
      "103\r",
      "104\r",
      "105\r",
      "106\r",
      "107\r",
      "108\r",
      "109\r",
      "110\r",
      "111\r",
      "112\r",
      "113\r",
      "114\r",
      "115\r",
      "116\r",
      "117\r",
      "118\r",
      "119\r",
      "120\r",
      "121\r",
      "122\r",
      "123\r",
      "124\r",
      "125\r",
      "126\r",
      "127\r",
      "128\r",
      "129\r",
      "130\r",
      "131\r",
      "132\r",
      "133\r",
      "134\r",
      "135\r",
      "136\r",
      "137\r",
      "138\r",
      "139\r",
      "140\r",
      "141\r",
      "142\r",
      "143\r",
      "144\r",
      "145\r",
      "146\r",
      "147\r",
      "148\r",
      "149\r",
      "150\r",
      "151\r",
      "152\r",
      "153\r",
      "154\r",
      "155\r",
      "156\r",
      "157\r",
      "158\r",
      "159\r",
      "160\r",
      "161\r",
      "162\r",
      "163\r",
      "164\r",
      "165\r",
      "166\r",
      "167\r",
      "168\r",
      "169\r",
      "170\r",
      "171\r",
      "172\r",
      "173\r",
      "174\r",
      "175\r",
      "176\r",
      "177\r",
      "178\r",
      "179\r",
      "180\r",
      "181\r",
      "182\r",
      "183\r",
      "184\r",
      "185\r",
      "186\r",
      "187\r",
      "188\r",
      "189\r",
      "190\r",
      "191\r",
      "192\r",
      "193\r",
      "194\r",
      "195\r",
      "196\r",
      "197\r",
      "198\r",
      "199\r",
      "200\r",
      "201\r",
      "202\r",
      "203\r",
      "204\r",
      "205\r",
      "206\r",
      "207\r",
      "208\r",
      "209\r",
      "210\r",
      "211\r",
      "212\r",
      "213\r",
      "214\r",
      "215\r",
      "216\r",
      "217\r",
      "218\r",
      "219\r",
      "220\r",
      "221\r",
      "222\r",
      "223\r",
      "224\r",
      "225\r",
      "226\r",
      "227\r",
      "228\r",
      "229\r",
      "230\r",
      "231\r",
      "232\r",
      "233\r",
      "234\r",
      "235\r",
      "236\r",
      "237\r",
      "238\r",
      "239\r",
      "240\r",
      "241\r",
      "242\r",
      "243\r",
      "244\r",
      "245\r",
      "246\r",
      "247\r",
      "248\r",
      "249\r",
      "250\r",
      "251\r",
      "252\r",
      "253\r",
      "254\r",
      "255\r",
      "256\r",
      "257\r",
      "258\r",
      "259\r",
      "260\r",
      "261\r",
      "262\r",
      "263\r",
      "264\r",
      "265\r",
      "266\r",
      "267\r",
      "268\r",
      "269\r",
      "270\r",
      "271\r",
      "272\r",
      "273\r",
      "274\r",
      "275\r",
      "276\r",
      "277\r",
      "278\r",
      "279\r",
      "280\r",
      "281\r",
      "282\r",
      "283\r",
      "284\r",
      "285\r",
      "286\r",
      "287\r",
      "288\r",
      "289\r",
      "290\r",
      "291\r",
      "292\r",
      "293\r",
      "294\r",
      "295\r",
      "296\r",
      "297\r",
      "298\r",
      "299\r",
      "300\r",
      "301\r",
      "302\r",
      "303\r",
      "304\r",
      "305\r",
      "306\r",
      "307\r",
      "308\r",
      "309\r",
      "310\r",
      "311\r",
      "312\r",
      "313\r",
      "314\r",
      "315\r",
      "316\r",
      "317\r",
      "318\r",
      "319\r",
      "320\r",
      "321\r",
      "322\r",
      "323\r",
      "324\r",
      "325\r",
      "326\r",
      "327\r",
      "328\r",
      "329\r",
      "330\r",
      "331\r",
      "332\r",
      "333\r",
      "334\r",
      "335\r",
      "336\r",
      "337\r",
      "338\r",
      "339\r",
      "340\r",
      "341\r",
      "342\r",
      "343\r",
      "344\r",
      "345\r",
      "346\r",
      "347\r",
      "348\r",
      "349\r",
      "350\r",
      "351\r",
      "352\r",
      "353\r",
      "354\r",
      "355\r",
      "356\r",
      "357\r",
      "358\r",
      "359\r",
      "360\r",
      "361\r",
      "362\r",
      "363\r",
      "364\r",
      "365\r",
      "366\r",
      "367\r",
      "368\r",
      "369\r",
      "370\r",
      "371\r",
      "372\r",
      "373\r",
      "374\r",
      "375\r",
      "376\r",
      "377\r",
      "378\r",
      "379\r",
      "380\r",
      "381\r",
      "382\r",
      "383\r",
      "384\r",
      "385\r",
      "386\r",
      "387\r",
      "388\r",
      "389\r",
      "390\r",
      "391\r",
      "392\r",
      "393\r",
      "394\r",
      "395\r",
      "396\r",
      "397\r",
      "398\r",
      "399\r",
      "400\r",
      "401\r",
      "402\r",
      "403\r",
      "404\r",
      "405\r",
      "406\r",
      "407\r",
      "408\r",
      "409\r",
      "410\r",
      "411\r",
      "412\r",
      "413\r",
      "414\r",
      "415\r",
      "416\r",
      "417\r",
      "418\r",
      "419\r",
      "420\r",
      "421\r",
      "422\r",
      "423\r",
      "424\r",
      "425\r",
      "426\r",
      "427\r",
      "428\r",
      "429\r",
      "430\r",
      "431\r",
      "432\r",
      "433\r",
      "434\r",
      "435\r",
      "436\r",
      "437\r",
      "438\r",
      "439\r",
      "440\r",
      "441\r",
      "442\r",
      "443\r",
      "444\r",
      "445\r",
      "446\r",
      "447\r",
      "448\r",
      "449\r",
      "450\r",
      "451\r",
      "452\r",
      "453\r",
      "454\r",
      "455\r",
      "456\r",
      "457\r",
      "458\r",
      "459\r",
      "460\r",
      "461\r",
      "462\r",
      "463\r",
      "464\r",
      "465\r",
      "466\r",
      "467\r",
      "468\r",
      "469\r",
      "470\r",
      "471\r",
      "472\r",
      "473\r",
      "474\r",
      "475\r",
      "476\r",
      "477\r",
      "478\r",
      "479\r",
      "480\r",
      "481\r",
      "482\r",
      "483\r",
      "484\r",
      "485\r",
      "486\r",
      "487\r",
      "488\r",
      "489\r",
      "490\r",
      "491\r",
      "492\r",
      "493\r",
      "494\r",
      "495\r",
      "496\r",
      "497\r",
      "498\r",
      "499\r",
      "500\r",
      "501\r",
      "502\r",
      "503\r",
      "504\r",
      "505\r",
      "506\r",
      "507\r",
      "508\r",
      "509\r",
      "510\r",
      "511\r",
      "512\r",
      "513\r",
      "514\r",
      "515\r",
      "516\r",
      "517\r",
      "518\r",
      "519\r",
      "520\r",
      "521\r",
      "522\r",
      "523\r",
      "524\r",
      "525\r",
      "526\r",
      "527\r",
      "528\r",
      "529\r",
      "530\r",
      "531\r",
      "532\r",
      "533\r",
      "534\r",
      "535\r",
      "536\r",
      "537\r",
      "538\r",
      "539\r",
      "540\r",
      "541\r",
      "542\r",
      "543\r",
      "544\r",
      "545\r",
      "546\r",
      "547\r",
      "548\r",
      "549\r",
      "550\r",
      "551\r",
      "552\r",
      "553\r",
      "554\r",
      "555\r",
      "556\r",
      "557\r",
      "558\r",
      "559\r",
      "560\r",
      "561\r",
      "562\r",
      "563\r",
      "564\r",
      "565\r",
      "566\r",
      "567\r",
      "568\r",
      "569\r",
      "570\r",
      "571\r",
      "572\r",
      "573\r",
      "574\r",
      "575\r",
      "576\r",
      "577\r",
      "578\r",
      "579\r",
      "580\r",
      "581\r",
      "582\r",
      "583\r",
      "584\r",
      "585\r",
      "586\r",
      "587\r",
      "588\r",
      "589\r",
      "590\r",
      "591\r",
      "592\r",
      "593\r",
      "594\r",
      "595\r",
      "596\r",
      "597\r",
      "598\r",
      "599\r",
      "600\r",
      "601\r",
      "602\r",
      "603\r",
      "604\r",
      "605\r",
      "606\r",
      "607\r",
      "608\r",
      "609\r",
      "610\r",
      "611\r",
      "612\r",
      "613\r",
      "614\r",
      "615\r",
      "616\r",
      "617\r",
      "618\r",
      "619\r",
      "620\r",
      "621\r",
      "622\r",
      "623\r",
      "624\r",
      "625\r",
      "626\r",
      "627\r",
      "628\r",
      "629\r",
      "630\r",
      "631\r",
      "632\r",
      "633\r",
      "634\r",
      "635\r",
      "636\r",
      "637\r",
      "638\r",
      "639\r",
      "640\r",
      "641\r",
      "642\r",
      "643\r",
      "644\r",
      "645\r",
      "646\r",
      "647\r",
      "648\r",
      "649\r",
      "650\r",
      "651\r",
      "652\r",
      "653\r",
      "654\r",
      "655\r",
      "656\r",
      "657\r",
      "658\r",
      "659\r",
      "660\r",
      "661\r",
      "662\r",
      "663\r",
      "664\r",
      "665\r",
      "666\r",
      "667\r",
      "668\r",
      "669\r",
      "670\r",
      "671\r",
      "672\r",
      "673\r",
      "674\r",
      "675\r",
      "676\r",
      "677\r",
      "678\r",
      "679\r",
      "680\r",
      "681\r",
      "682\r",
      "683\r",
      "684\r",
      "685\r",
      "686\r",
      "687\r",
      "688\r",
      "689\r",
      "690\r",
      "691\r",
      "692\r",
      "693\r",
      "694\r",
      "695\r",
      "696\r",
      "697\r",
      "698\r",
      "699\r",
      "700\r",
      "701\r",
      "702\r",
      "703\r",
      "704\r",
      "705\r",
      "706\r",
      "707\r",
      "708\r",
      "709\r",
      "710\r",
      "711\r",
      "712\r",
      "713\r",
      "714\r",
      "715\r",
      "716\r",
      "717\r",
      "718\r",
      "719\r",
      "720\r",
      "721\r",
      "722\r",
      "723\r",
      "724\r",
      "725\r",
      "726\r",
      "727\r",
      "728\r",
      "729\r",
      "730\r",
      "731\r",
      "732\r",
      "733\r",
      "734\r",
      "735\r",
      "736\r",
      "737\r",
      "738\r",
      "739\r",
      "740\r",
      "741\r",
      "742\r",
      "743\r",
      "744\r",
      "745\r",
      "746\r",
      "747\r",
      "748\r",
      "749\r",
      "750\r",
      "751\r",
      "752\r",
      "753\r",
      "754\r",
      "755\r",
      "756\r",
      "757\r",
      "758\r",
      "759\r",
      "760\r",
      "761\r",
      "762\r",
      "763\r",
      "764\r",
      "765\r",
      "766\r",
      "767\r",
      "768\r",
      "769\r",
      "770\r",
      "771\r",
      "772\r",
      "773\r",
      "774\r",
      "775\r",
      "776\r",
      "777\r",
      "778\r",
      "779\r",
      "780\r",
      "781\r",
      "782\r",
      "783\r",
      "784\r",
      "785\r",
      "786\r",
      "787\r",
      "788\r",
      "789\r",
      "790\r",
      "791\r",
      "792\r",
      "793\r",
      "794\r",
      "795\r",
      "796\r",
      "797\r",
      "798\r",
      "799\r",
      "800\r",
      "801\r",
      "802\r",
      "803\r",
      "804\r",
      "805\r",
      "806\r",
      "807\r",
      "808\r",
      "809\r",
      "810\r",
      "811\r",
      "812\r",
      "813\r",
      "814\r",
      "815\r",
      "816\r",
      "817\r",
      "818\r",
      "819\r",
      "820\r",
      "821\r",
      "822\r",
      "823\r",
      "824\r",
      "825\r",
      "826\r",
      "827\r",
      "828\r",
      "829\r",
      "830\r",
      "831\r",
      "832\r",
      "833\r",
      "834\r",
      "835\r",
      "836\r",
      "837\r",
      "838\r",
      "839\r",
      "840\r",
      "841\r",
      "842\r",
      "843\r",
      "844\r",
      "845\r",
      "846\r",
      "847\r",
      "848\r",
      "849\r",
      "850\r",
      "851\r",
      "852\r",
      "853\r",
      "854\r",
      "855\r",
      "856\r",
      "857\r",
      "858\r",
      "859\r",
      "860\r",
      "861\r",
      "862\r",
      "863\r",
      "864\r",
      "865\r",
      "866\r",
      "867\r",
      "868\r",
      "869\r",
      "870\r",
      "871\r",
      "872\r",
      "873\r",
      "874\r",
      "875\r",
      "876\r",
      "877\r",
      "878\r",
      "879\r",
      "880\r",
      "881\r",
      "882\r",
      "883\r",
      "884\r",
      "885\r",
      "886\r",
      "887\r",
      "888\r",
      "889\r",
      "890\r",
      "891\r",
      "892\r",
      "893\r",
      "894\r",
      "895\r",
      "896\r",
      "897\r",
      "898\r",
      "899\r",
      "900\r",
      "901\r",
      "902\r",
      "903\r",
      "904\r",
      "905\r",
      "906\r",
      "907\r",
      "908\r",
      "909\r",
      "910\r",
      "911\r",
      "912\r",
      "913\r",
      "914\r",
      "915\r",
      "916\r",
      "917\r",
      "918\r",
      "919\r",
      "920\r",
      "921\r",
      "922\r",
      "923\r",
      "924\r",
      "925\r",
      "926\r",
      "927\r",
      "928\r",
      "929\r",
      "930\r",
      "931\r",
      "932\r",
      "933\r",
      "934\r",
      "935\r",
      "936\r",
      "937\r",
      "938\r",
      "939\r",
      "940\r",
      "941\r",
      "942\r",
      "943\r",
      "944\r",
      "945\r",
      "946\r",
      "947\r",
      "948\r",
      "949\r",
      "950\r",
      "951\r",
      "952\r",
      "953\r",
      "954\r",
      "955\r",
      "956\r",
      "957\r",
      "958\r",
      "959\r",
      "960\r",
      "961\r",
      "962\r",
      "963\r",
      "964\r",
      "965\r",
      "966\r",
      "967\r",
      "968\r",
      "969\r",
      "970\r",
      "971\r",
      "972\r",
      "973\r",
      "974\r",
      "975\r",
      "976\r",
      "977\r",
      "978\r",
      "979\r",
      "980\r",
      "981\r",
      "982\r",
      "983\r",
      "984\r",
      "985\r",
      "986\r",
      "987\r",
      "988\r",
      "989\r",
      "990\r",
      "991\r",
      "992\r",
      "993\r",
      "994\r",
      "995\r",
      "996\r",
      "997\r",
      "998\r",
      "999\r",
      "1000\r",
      "1001\r",
      "1002\r",
      "1003\r",
      "1004\r",
      "1005\r",
      "1006\r",
      "1007\r",
      "1008\r",
      "1009\r",
      "1010\r",
      "1011\r",
      "1012\r",
      "1013\r",
      "1014\r",
      "1015\r",
      "1016\r",
      "1017\r",
      "1018\r",
      "1019\r",
      "1020\r",
      "1021\r",
      "1022\r",
      "1023\r",
      "1024\r",
      "1025\r",
      "1026\r",
      "1027\r",
      "1028\r",
      "1029\r",
      "1030\r",
      "1031\r",
      "1032\r",
      "1033\r",
      "1034\r",
      "1035\r",
      "1036\r",
      "1037\r",
      "1038\r",
      "1039\r",
      "1040\r",
      "1041\r",
      "1042\r",
      "1043\r",
      "1044\r",
      "1045\r",
      "1046\r",
      "1047\r",
      "1048\r",
      "1049\r",
      "1050\r",
      "1051\r",
      "1052\r",
      "1053\r",
      "1054\r",
      "1055\r",
      "1056\r",
      "1057\r",
      "1058\r",
      "1059\r",
      "1060\r",
      "1061\r",
      "1062\r",
      "1063\r",
      "1064\r",
      "1065\r",
      "1066\r",
      "1067\r",
      "1068\r",
      "1069\r",
      "1070\r",
      "1071\r",
      "1072\r",
      "1073\r",
      "1074\r",
      "1075\r",
      "1076\r",
      "1077\r",
      "1078\r",
      "1079\r",
      "1080\r",
      "1081\r",
      "1082\r",
      "1083\r",
      "1084\r",
      "1085\r",
      "1086\r",
      "1087\r",
      "1088\r",
      "1089\r",
      "1090\r",
      "1091\r",
      "1092\r",
      "1093\r",
      "1094\r",
      "1095\r",
      "1096\r",
      "1097\r",
      "1098\r",
      "1099\r",
      "1100\r",
      "1101\r",
      "1102\r",
      "1103\r",
      "1104\r",
      "1105\r",
      "1106\r",
      "1107\r",
      "1108\r",
      "1109\r",
      "1110\r",
      "1111\r",
      "1112\r",
      "1113\r",
      "1114\r",
      "1115\r",
      "1116\r",
      "1117\r",
      "1118\r",
      "1119\r",
      "1120\r",
      "1121\r",
      "1122\r",
      "1123\r",
      "1124\r",
      "1125\r",
      "1126\r",
      "1127\r",
      "1128\r",
      "1129\r",
      "1130\r",
      "1131\r",
      "1132\r",
      "1133\r",
      "1134\r",
      "1135\r",
      "1136\r",
      "1137\r",
      "1138\r",
      "1139\r",
      "1140\r",
      "1141\r",
      "1142\r",
      "1143\r",
      "1144\r",
      "1145\r",
      "1146\r",
      "1147\r",
      "1148\r",
      "1149\r",
      "1150\r",
      "1151\r",
      "1152\r",
      "1153\r",
      "1154\r",
      "1155\r",
      "1156\r",
      "1157\r",
      "1158\r",
      "1159\r",
      "1160\r",
      "1161\r",
      "1162\r",
      "1163\r",
      "1164\r",
      "1165\r",
      "1166\r",
      "1167\r",
      "1168\r",
      "1169\r",
      "1170\r",
      "1171\r",
      "1172\r",
      "1173\r",
      "1174\r",
      "1175\r",
      "1176\r",
      "1177\r",
      "1178\r",
      "1179\r",
      "1180\r",
      "1181\r",
      "1182\r",
      "1183\r",
      "1184\r",
      "1185\r",
      "1186\r",
      "1187\r",
      "1188\r",
      "1189\r",
      "1190\r",
      "1191\r",
      "1192\r",
      "1193\r",
      "1194\r",
      "1195\r",
      "1196\r",
      "1197\r",
      "1198\r",
      "1199\r",
      "1200\r",
      "1201\r",
      "1202\r",
      "1203\r",
      "1204\r",
      "1205\r",
      "1206\r",
      "1207\r",
      "1208\r",
      "1209\r",
      "1210\r",
      "1211\r",
      "1212\r",
      "1213\r",
      "1214\r",
      "1215\r",
      "1216\r",
      "1217\r",
      "1218\r",
      "1219\r",
      "1220\r",
      "1221\r",
      "1222\r",
      "1223\r",
      "1224\r",
      "1225\r",
      "1226\r",
      "1227\r",
      "1228\r",
      "1229\r",
      "1230\r",
      "1231\r",
      "1232\r",
      "1233\r",
      "1234\r",
      "1235\r",
      "1236\r",
      "1237\r",
      "1238\r",
      "1239\r",
      "1240\r",
      "1241\r",
      "1242\r",
      "1243\r",
      "1244\r",
      "1245\r",
      "1246\r",
      "1247\r",
      "1248\r",
      "1249\r",
      "1250\r",
      "1251\r",
      "1252\r",
      "1253\r",
      "1254\r",
      "1255\r",
      "1256\r",
      "1257\r",
      "1258\r",
      "1259\r",
      "1260\r",
      "1261\r",
      "1262\r",
      "1263\r",
      "1264\r",
      "1265\r",
      "1266\r",
      "1267\r",
      "1268\r",
      "1269\r",
      "1270\r",
      "1271\r",
      "1272\r",
      "1273\r",
      "1274\r",
      "1275\r",
      "1276\r",
      "1277\r",
      "1278\r",
      "1279\r",
      "1280\r",
      "1281\r",
      "1282\r",
      "1283\r",
      "1284\r",
      "1285\r",
      "1286\r",
      "1287\r",
      "1288\r",
      "1289\r",
      "1290\r",
      "1291\r",
      "1292\r",
      "1293\r",
      "1294\r",
      "1295\r",
      "1296\r",
      "1297\r",
      "1298\r",
      "1299\r",
      "1300\r",
      "1301\r",
      "1302\r",
      "1303\r",
      "1304\r",
      "1305\r",
      "1306\r",
      "1307\r",
      "1308\r",
      "1309\r",
      "1310\r",
      "1311\r",
      "1312\r",
      "1313\r",
      "1314\r",
      "1315\r",
      "1316\r",
      "1317\r",
      "1318\r",
      "1319\r",
      "1320\r",
      "1321\r",
      "1322\r",
      "1323\r",
      "1324\r",
      "1325\r",
      "1326\r",
      "1327\r",
      "1328\r",
      "1329\r",
      "1330\r",
      "1331\r",
      "1332\r",
      "1333\r",
      "1334\r",
      "1335\r",
      "1336\r",
      "1337\r",
      "1338\r",
      "1339\r",
      "1340\r",
      "1341\r",
      "1342\r",
      "1343\r",
      "1344\r",
      "1345\r",
      "1346\r",
      "1347\r",
      "1348\r",
      "1349\r",
      "1350\r",
      "1351\r",
      "1352\r",
      "1353\r",
      "1354\r",
      "1355\r",
      "1356\r",
      "1357\r",
      "1358\r",
      "1359\r",
      "1360\r",
      "1361\r",
      "1362\r",
      "1363\r",
      "1364\r",
      "1365\r",
      "1366\r",
      "1367\r",
      "1368\r",
      "1369\r",
      "1370\r",
      "1371\r",
      "1372\r",
      "1373\r",
      "1374\r",
      "1375\r",
      "1376\r",
      "1377\r",
      "1378\r",
      "1379\r",
      "1380\r",
      "1381\r",
      "1382\r",
      "1383\r",
      "1384\r",
      "1385\r",
      "1386\r",
      "1387\r",
      "1388\r",
      "1389\r",
      "1390\r",
      "1391\r",
      "1392\r",
      "1393\r",
      "1394\r",
      "1395\r",
      "1396\r",
      "1397\r",
      "1398\r",
      "1399\r",
      "1400\r",
      "1401\r",
      "1402\r",
      "1403\r",
      "1404\r",
      "1405\r",
      "1406\r",
      "1407\r",
      "1408\r",
      "1409\r",
      "1410\r",
      "1411\r",
      "1412\r",
      "1413\r",
      "1414\r",
      "1415\r",
      "1416\r",
      "1417\r",
      "1418\r",
      "1419\r",
      "1420\r",
      "1421\r",
      "1422\r",
      "1423\r",
      "1424\r",
      "1425\r",
      "1426\r",
      "1427\r",
      "1428\r",
      "1429\r",
      "1430\r",
      "1431\r",
      "1432\r",
      "1433\r",
      "1434\r",
      "1435\r",
      "1436\r",
      "1437\r",
      "1438\r",
      "1439\r",
      "1440\r",
      "1441\r",
      "1442\r",
      "1443\r",
      "1444\r",
      "1445\r",
      "1446\r",
      "1447\r",
      "1448\r",
      "1449\r",
      "1450\r",
      "1451\r",
      "1452\r",
      "1453\r",
      "1454\r",
      "1455\r",
      "1456\r",
      "1457\r",
      "1458\r",
      "1459\r",
      "1460\r",
      "1461\r",
      "1462\r",
      "1463\r",
      "1464\r",
      "1465\r",
      "1466\r",
      "1467\r",
      "1468\r",
      "1469\r",
      "1470\r",
      "1471\r",
      "1472\r",
      "1473\r",
      "1474\r",
      "1475\r",
      "1476\r",
      "1477\r",
      "1478\r",
      "1479\r",
      "1480\r",
      "1481\r",
      "1482\r",
      "1483\r",
      "1484\r",
      "1485\r",
      "1486\r",
      "1487\r",
      "1488\r",
      "1489\r",
      "1490\r",
      "1491\r",
      "1492\r",
      "1493\r",
      "1494\r",
      "1495\r",
      "1496\r",
      "1497\r",
      "1498\r",
      "1499\r",
      "1500\r",
      "1501\r",
      "1502\r",
      "1503\r",
      "1504\r",
      "1505\r",
      "1506\r",
      "1507\r",
      "1508\r",
      "1509\r",
      "1510\r",
      "1511\r",
      "1512\r",
      "1513\r",
      "1514\r",
      "1515\r",
      "1516\r",
      "1517\r",
      "1518\r",
      "1519\r",
      "1520\r",
      "1521\r",
      "1522\r",
      "1523\r",
      "1524\r",
      "1525\r",
      "1526\r",
      "1527\r",
      "1528\r",
      "1529\r",
      "1530\r",
      "1531\r",
      "1532\r",
      "1533\r",
      "1534\r",
      "1535\r",
      "1536\r",
      "1537\r",
      "1538\r",
      "1539\r",
      "1540\r",
      "1541\r",
      "1542\r",
      "1543\r",
      "1544\r",
      "1545\r",
      "1546\r",
      "1547\r",
      "1548\r",
      "1549\r",
      "1550\r",
      "1551\r",
      "1552\r",
      "1553\r",
      "1554\r",
      "1555\r",
      "1556\r",
      "1557\r",
      "1558\r",
      "1559\r",
      "1560\r",
      "1561\r",
      "1562\r",
      "1563\r",
      "1564\r",
      "1565\r",
      "1566\r",
      "1567\r",
      "1568\r",
      "1569\r",
      "1570\r",
      "1571\r",
      "1572\r",
      "1573\r",
      "1574\r",
      "1575\r",
      "1576\r",
      "1577\r",
      "1578\r",
      "1579\r",
      "1580\r",
      "1581\r",
      "1582\r",
      "1583\r",
      "1584\r",
      "1585\r",
      "1586\r",
      "1587\r",
      "1588\r",
      "1589\r",
      "1590\r",
      "1591\r",
      "1592\r",
      "1593\r",
      "1594\r",
      "1595\r",
      "1596\r",
      "1597\r",
      "1598\r",
      "1599\r",
      "1600\r",
      "1601\r",
      "1602\r",
      "1603\r",
      "1604\r",
      "1605\r",
      "1606\r",
      "1607\r",
      "1608\r",
      "1609\r",
      "1610\r",
      "1611\r",
      "1612\r",
      "1613\r",
      "1614\r",
      "1615\r",
      "1616\r",
      "1617\r",
      "1618\r",
      "1619\r",
      "1620\r",
      "1621\r",
      "1622\r",
      "1623\r",
      "1624\r",
      "1625\r",
      "1626\r",
      "1627\r",
      "1628\r",
      "1629\r",
      "1630\r",
      "1631\r",
      "1632\r",
      "1633\r",
      "1634\r",
      "1635\r",
      "1636\r",
      "1637\r",
      "1638\r",
      "1639\r",
      "1640\r",
      "1641\r",
      "1642\r",
      "1643\r",
      "1644\r",
      "1645\r",
      "1646\r",
      "1647\r",
      "1648\r",
      "1649\r",
      "1650\r",
      "1651\r",
      "1652\r",
      "1653\r",
      "1654\r",
      "1655\r",
      "1656\r",
      "1657\r",
      "1658\r",
      "1659\r",
      "1660\r",
      "1661\r",
      "1662\r",
      "1663\r",
      "1664\r",
      "1665\r",
      "1666\r",
      "1667\r",
      "1668\r",
      "1669\r",
      "1670\r",
      "1671\r",
      "1672\r",
      "1673\r",
      "1674\r",
      "1675\r",
      "1676\r",
      "1677\r",
      "1678\r",
      "1679\r",
      "1680\r",
      "1681\r",
      "1682\r",
      "1683\r",
      "1684\r",
      "1685\r",
      "1686\r",
      "1687\r",
      "1688\r",
      "1689\r",
      "1690\r",
      "1691\r",
      "1692\r",
      "1693\r",
      "1694\r",
      "1695\r",
      "1696\r",
      "1697\r",
      "1698\r",
      "1699\r",
      "1700\r",
      "1701\r",
      "1702\r",
      "1703\r",
      "1704\r",
      "1705\r",
      "1706\r",
      "1707\r",
      "1708\r",
      "1709\r",
      "1710\r",
      "1711\r",
      "1712\r",
      "1713\r",
      "1714\r",
      "1715\r",
      "1716\r",
      "1717\r",
      "1718\r",
      "1719\r",
      "1720\r",
      "1721\r",
      "1722\r",
      "1723\r",
      "1724\r",
      "1725\r",
      "1726\r",
      "1727\r",
      "1728\r",
      "1729\r",
      "1730\r",
      "1731\r",
      "1732\r",
      "1733\r",
      "1734\r",
      "1735\r",
      "1736\r",
      "1737\r",
      "1738\r",
      "1739\r",
      "1740\r",
      "1741\r",
      "1742\r",
      "1743\r",
      "1744\r",
      "1745\r",
      "1746\r",
      "1747\r",
      "1748\r",
      "1749\r",
      "1750\r",
      "1751\r",
      "1752\r",
      "1753\r",
      "1754\r",
      "1755\r",
      "1756\r",
      "1757\r",
      "1758\r",
      "1759\r",
      "1760\r",
      "1761\r",
      "1762\r",
      "1763\r",
      "1764\r",
      "1765\r",
      "1766\r",
      "1767\r",
      "1768\r",
      "1769\r",
      "1770\r",
      "1771\r",
      "1772\r",
      "1773\r",
      "1774\r",
      "1775\r",
      "1776\r",
      "1777\r",
      "1778\r",
      "1779\r",
      "1780\r",
      "1781\r",
      "1782\r",
      "1783\r",
      "1784\r",
      "1785\r",
      "1786\r",
      "1787\r",
      "1788\r",
      "1789\r",
      "1790\r",
      "1791\r",
      "1792\r",
      "1793\r",
      "1794\r",
      "1795\r",
      "1796\r",
      "1797\r",
      "1798\r",
      "1799\r",
      "1800\r",
      "1801\r",
      "1802\r",
      "1803\r",
      "1804\r",
      "1805\r",
      "1806\r",
      "1807\r",
      "1808\r",
      "1809\r",
      "1810\r",
      "1811\r",
      "1812\r",
      "1813\r",
      "1814\r",
      "1815\r",
      "1816\r",
      "1817\r",
      "1818\r",
      "1819\r",
      "1820\r",
      "1821\r",
      "1822\r",
      "1823\r",
      "1824\r",
      "1825\r",
      "1826\r",
      "1827\r",
      "1828\r",
      "1829\r",
      "1830\r",
      "1831\r",
      "1832\r",
      "1833\r",
      "1834\r",
      "1835\r",
      "1836\r",
      "1837\r",
      "1838\r",
      "1839\r",
      "1840\r",
      "1841\r",
      "1842\r",
      "1843\r",
      "1844\r",
      "1845\r",
      "1846\r",
      "1847\r",
      "1848\r",
      "1849\r",
      "1850\r",
      "1851\r",
      "1852\r",
      "1853\r",
      "1854\r",
      "1855\r",
      "1856\r",
      "1857\r",
      "1858\r",
      "1859\r",
      "1860\r",
      "1861\r",
      "1862\r",
      "1863\r",
      "1864\r",
      "1865\r",
      "1866\r",
      "1867\r",
      "1868\r",
      "1869\r",
      "1870\r",
      "1871\r",
      "1872\r",
      "1873\r",
      "1874\r",
      "1875\r",
      "1876\r",
      "1877\r",
      "1878\r",
      "1879\r",
      "1880\r",
      "1881\r",
      "1882\r",
      "1883\r",
      "1884\r",
      "1885\r",
      "1886\r",
      "1887\r",
      "1888\r",
      "1889\r",
      "1890\r",
      "1891\r",
      "1892\r",
      "1893\r",
      "1894\r",
      "1895\r",
      "1896\r",
      "1897\r",
      "1898\r",
      "1899\r",
      "1900\r",
      "1901\r",
      "1902\r",
      "1903\r",
      "1904\r",
      "1905\r",
      "1906\r",
      "1907\r",
      "1908\r",
      "1909\r",
      "1910\r",
      "1911\r",
      "1912\r",
      "1913\r",
      "1914\r",
      "1915\r",
      "1916\r",
      "1917\r",
      "1918\r",
      "1919\r",
      "1920\r",
      "1921\r",
      "1922\r",
      "1923\r",
      "1924\r",
      "1925\r",
      "1926\r",
      "1927\r",
      "1928\r",
      "1929\r",
      "1930\r",
      "1931\r",
      "1932\r",
      "1933\r",
      "1934\r",
      "1935\r",
      "1936\r",
      "1937\r",
      "1938\r",
      "1939\r",
      "1940\r",
      "1941\r",
      "1942\r",
      "1943\r",
      "1944\r",
      "1945\r",
      "1946\r",
      "1947\r",
      "1948\r",
      "1949\r",
      "1950\r",
      "1951\r",
      "1952\r",
      "1953\r",
      "1954\r",
      "1955\r",
      "1956\r",
      "1957\r",
      "1958\r",
      "1959\r",
      "1960\r",
      "1961\r",
      "1962\r",
      "1963\r",
      "1964\r",
      "1965\r",
      "1966\r",
      "1967\r",
      "1968\r",
      "1969\r",
      "1970\r",
      "1971\r",
      "1972\r",
      "1973\r",
      "1974\r",
      "1975\r",
      "1976\r",
      "1977\r",
      "1978\r",
      "1979\r",
      "1980\r",
      "1981\r",
      "1982\r",
      "1983\r",
      "1984\r",
      "1985\r",
      "1986\r",
      "1987\r",
      "1988\r",
      "1989\r",
      "1990\r",
      "1991\r",
      "1992\r",
      "1993\r",
      "1994\r",
      "1995\r",
      "1996\r",
      "1997\r",
      "1998\r",
      "1999\r",
      "2000\r",
      "2001\r",
      "2002\r",
      "2003\r",
      "2004\r",
      "2005\r",
      "2006\r",
      "2007\r",
      "2008\r",
      "2009\r",
      "2010\r",
      "2011\r",
      "2012\r",
      "2013\r",
      "2014\r",
      "2015\r",
      "2016\r",
      "2017\r",
      "2018\r",
      "2019\r",
      "2020\r",
      "2021\r",
      "2022\r",
      "2023\r",
      "2024\r",
      "2025\r",
      "2026\r",
      "2027\r",
      "2028\r",
      "2029\r",
      "2030\r",
      "2031\r",
      "2032\r",
      "2033\r",
      "2034\r",
      "2035\r",
      "2036\r",
      "2037\r",
      "2038\r",
      "2039\r",
      "2040\r",
      "2041\r",
      "2042\r",
      "2043\r",
      "2044\r",
      "2045\r",
      "2046\r",
      "2047\r",
      "2048\r",
      "2049\r",
      "2050\r",
      "2051\r",
      "2052\r",
      "2053\r",
      "2054\r",
      "2055\r",
      "2056\r",
      "2057\r",
      "2058\r",
      "2059\r",
      "2060\r",
      "2061\r",
      "2062\r",
      "2063\r",
      "2064\r",
      "2065\r",
      "2066\r",
      "2067\r",
      "2068\r",
      "2069\r",
      "2070\r",
      "2071\r",
      "2072\r",
      "2073\r",
      "2074\r",
      "2075\r",
      "2076\r",
      "2077\r",
      "2078\r",
      "2079\r",
      "2080\r",
      "2081\r",
      "2082\r",
      "2083\r",
      "2084\r",
      "2085\r",
      "2086\r",
      "2087\r",
      "2088\r",
      "2089\r",
      "2090\r",
      "2091\r",
      "2092\r",
      "2093\r",
      "2094\r",
      "2095\r",
      "2096\r",
      "2097\r",
      "2098\r",
      "2099\r",
      "2100\r",
      "2101\r",
      "2102\r",
      "2103\r",
      "2104\r",
      "2105\r",
      "2106\r",
      "2107\r",
      "2108\r",
      "2109\r",
      "2110\r",
      "2111\r",
      "2112\r",
      "2113\r",
      "2114\r",
      "2115\r",
      "2116\r",
      "2117\r",
      "2118\r",
      "2119\r",
      "2120\r",
      "2121\r",
      "2122\r",
      "2123\r",
      "2124\r",
      "2125\r",
      "2126\r",
      "2127\r",
      "2128\r",
      "2129\r",
      "2130\r",
      "2131\r",
      "2132\r",
      "2133\r",
      "2134\r",
      "2135\r",
      "2136\r",
      "2137\r",
      "2138\r",
      "2139\r",
      "2140\r",
      "2141\r",
      "2142\r",
      "2143\r",
      "2144\r",
      "2145\r",
      "2146\r",
      "2147\r",
      "2148\r",
      "2149\r",
      "2150\r",
      "2151\r",
      "2152\r",
      "2153\r",
      "2154\r",
      "2155\r",
      "2156\r",
      "2157\r",
      "2158\r",
      "2159\r",
      "2160\r",
      "2161\r",
      "2162\r",
      "2163\r",
      "2164\r",
      "2165\r",
      "2166\r",
      "2167\r",
      "2168\r",
      "2169\r",
      "2170\r",
      "2171\r",
      "2172\r",
      "2173\r",
      "2174\r",
      "2175\r",
      "2176\r",
      "2177\r",
      "2178\r",
      "2179\r",
      "2180\r",
      "2181\r",
      "2182\r",
      "2183\r",
      "2184\r",
      "2185\r",
      "2186\r",
      "2187\r",
      "2188\r",
      "2189\r",
      "2190\r",
      "2191\r",
      "2192\r",
      "2193\r",
      "2194\r",
      "2195\r",
      "2196\r",
      "2197\r",
      "2198\r",
      "2199\r",
      "2200\r",
      "2201\r",
      "2202\r",
      "2203\r",
      "2204\r",
      "2205\r",
      "2206\r",
      "2207\r",
      "2208\r",
      "2209\r",
      "2210\r",
      "2211\r",
      "2212\r",
      "2213\r",
      "2214\r",
      "2215\r",
      "2216\r",
      "2217\r",
      "2218\r",
      "2219\r",
      "2220\r",
      "2221\r",
      "2222\r",
      "2223\r",
      "2224\r",
      "2225\r",
      "2226\r",
      "2227\r",
      "2228\r",
      "2229\r",
      "2230\r",
      "2231\r",
      "2232\r",
      "2233\r",
      "2234\r",
      "2235\r",
      "2236\r",
      "2237\r",
      "2238\r",
      "2239\r",
      "2240\r",
      "2241\r",
      "2242\r",
      "2243\r",
      "2244\r",
      "2245\r",
      "2246\r",
      "2247\r",
      "2248\r",
      "2249\r",
      "2250\r",
      "2251\r",
      "2252\r",
      "2253\r",
      "2254\r",
      "2255\r",
      "2256\r",
      "2257\r",
      "2258\r",
      "2259\r",
      "2260\r",
      "2261\r",
      "2262\r",
      "2263\r",
      "2264\r",
      "2265\r",
      "2266\r",
      "2267\r",
      "2268\r",
      "2269\r",
      "2270\r",
      "2271\r",
      "2272\r",
      "2273\r",
      "2274\r",
      "2275\r",
      "2276\r",
      "2277\r",
      "2278\r",
      "2279\r",
      "2280\r",
      "2281\r",
      "2282\r",
      "2283\r",
      "2284\r",
      "2285\r",
      "2286\r",
      "2287\r",
      "2288\r",
      "2289\r",
      "2290\r",
      "2291\r",
      "2292\r",
      "2293\r",
      "2294\r",
      "2295\r",
      "2296\r",
      "2297\r",
      "2298\r",
      "2299\r",
      "2300\r",
      "2301\r",
      "2302\r",
      "2303\r",
      "2304\r",
      "2305\r",
      "2306\r",
      "2307\r",
      "2308\r",
      "2309\r",
      "2310\r",
      "2311\r",
      "2312\r",
      "2313\r",
      "2314\r",
      "2315\r",
      "2316\r",
      "2317\r",
      "2318\r",
      "2319\r",
      "2320\r",
      "2321\r",
      "2322\r",
      "2323\r",
      "2324\r",
      "2325\r",
      "2326\r",
      "2327\r",
      "2328\r",
      "2329\r",
      "2330\r",
      "2331\r",
      "2332\r",
      "2333\r",
      "2334\r"
     ]
    },
    {
     "name": "stdout",
     "output_type": "stream",
     "text": [
      "2335\r",
      "2336\r",
      "2337\r",
      "2338\r",
      "2339\r",
      "2340\r",
      "2341\r",
      "2342\r",
      "2343\r",
      "2344\r",
      "2345\r",
      "2346\r",
      "2347\r",
      "2348\r",
      "2349\r",
      "2350\r",
      "2351\r",
      "2352\r",
      "2353\r",
      "2354\r",
      "2355\r",
      "2356\r",
      "2357\r",
      "2358\r",
      "2359\r",
      "2360\r",
      "2361\r",
      "2362\r",
      "2363\r",
      "2364\r",
      "2365\r",
      "2366\r",
      "2367\r",
      "2368\r",
      "2369\r",
      "2370\r",
      "2371\r",
      "2372\r",
      "2373\r",
      "2374\r",
      "2375\r",
      "2376\r",
      "2377\r",
      "2378\r",
      "2379\r",
      "2380\r",
      "2381\r",
      "2382\r",
      "2383\r",
      "2384\r",
      "2385\r",
      "2386\r",
      "2387\r",
      "2388\r",
      "2389\r",
      "2390\r",
      "2391\r",
      "2392\r",
      "2393\r",
      "2394\r",
      "2395\r",
      "2396\r",
      "2397\r",
      "2398\r",
      "2399\r",
      "2400\r",
      "2401\r",
      "2402\r",
      "2403\r",
      "2404\r",
      "2405\r",
      "2406\r",
      "2407\r",
      "2408\r",
      "2409\r",
      "2410\r",
      "2411\r",
      "2412\r",
      "2413\r",
      "2414\r",
      "2415\r",
      "2416\r",
      "2417\r",
      "2418\r",
      "2419\r",
      "2420\r",
      "2421\r",
      "2422\r",
      "2423\r",
      "2424\r",
      "2425\r",
      "2426\r",
      "2427\r",
      "2428\r",
      "2429\r",
      "2430\r",
      "2431\r",
      "2432\r",
      "2433\r",
      "2434\r",
      "2435\r",
      "2436\r",
      "2437\r",
      "2438\r",
      "2439\r",
      "2440\r",
      "2441\r",
      "2442\r",
      "2443\r",
      "2444\r",
      "2445\r",
      "2446\r",
      "2447\r",
      "2448\r",
      "2449\r",
      "2450\r",
      "2451\r",
      "2452\r",
      "2453\r",
      "2454\r",
      "2455\r",
      "2456\r",
      "2457\r",
      "2458\r",
      "2459\r",
      "2460\r",
      "2461\r",
      "2462\r",
      "2463\r",
      "2464\r",
      "2465\r",
      "2466\r",
      "2467\r",
      "2468\r",
      "2469\r",
      "2470\r",
      "2471\r",
      "2472\r",
      "2473\r",
      "2474\r",
      "2475\r",
      "2476\r",
      "2477\r",
      "2478\r",
      "2479\r",
      "2480\r",
      "2481\r",
      "2482\r",
      "2483\r",
      "2484\r",
      "2485\r",
      "2486\r",
      "2487\r",
      "2488\r",
      "2489\r",
      "2490\r",
      "2491\r",
      "2492\r",
      "2493\r",
      "2494\r",
      "2495\r",
      "2496\r",
      "2497\r",
      "2498\r",
      "2499\r",
      "2500\r",
      "2501\r",
      "2502\r",
      "2503\r",
      "2504\r",
      "2505\r",
      "2506\r",
      "2507\r",
      "2508\r",
      "2509\r",
      "2510\r",
      "2511\r",
      "2512\r",
      "2513\r",
      "2514\r",
      "2515\r",
      "2516\r",
      "2517\r",
      "2518\r",
      "2519\r",
      "2520\r",
      "2521\r",
      "2522\r",
      "2523\r",
      "2524\r",
      "2525\r",
      "2526\r",
      "2527\r",
      "2528\r",
      "2529\r",
      "2530\r",
      "2531\r",
      "2532\r",
      "2533\r",
      "2534\r",
      "2535\r",
      "2536\r",
      "2537\r",
      "2538\r",
      "2539\r",
      "2540\r",
      "2541\r",
      "2542\r",
      "2543\r",
      "2544\r",
      "2545\r",
      "2546\r",
      "2547\r",
      "2548\r",
      "2549\r",
      "2550\r",
      "2551\r",
      "2552\r",
      "2553\r",
      "2554\r",
      "2555\r",
      "2556\r",
      "2557\r",
      "2558\r",
      "2559\r",
      "2560\r",
      "2561\r",
      "2562\r",
      "2563\r",
      "2564\r",
      "2565\r",
      "2566\r",
      "2567\r",
      "2568\r",
      "2569\r",
      "2570\r",
      "2571\r",
      "2572\r",
      "2573\r",
      "2574\r",
      "2575\r",
      "2576\r",
      "2577\r",
      "2578\r",
      "2579\r",
      "2580\r",
      "2581\r",
      "2582\r",
      "2583\r",
      "2584\r",
      "2585\r",
      "2586\r",
      "2587\r",
      "2588\r",
      "2589\r",
      "2590\r",
      "2591\r",
      "2592\r",
      "2593\r",
      "2594\r",
      "2595\r",
      "2596\r",
      "2597\r",
      "2598\r",
      "2599\r",
      "2600\r",
      "2601\r",
      "2602\r",
      "2603\r",
      "2604\r",
      "2605\r",
      "2606\r",
      "2607\r",
      "2608\r",
      "2609\r",
      "2610\r",
      "2611\r",
      "2612\r",
      "2613\r",
      "2614\r",
      "2615\r",
      "2616\r",
      "2617\r",
      "2618\r",
      "2619\r",
      "2620\r",
      "2621\r",
      "2622\r",
      "2623\r",
      "2624\r",
      "2625\r",
      "2626\r",
      "2627\r",
      "2628\r",
      "2629\r",
      "2630\r",
      "2631\r",
      "2632\r",
      "2633\r",
      "2634\r",
      "2635\r",
      "2636\r",
      "2637\r",
      "2638\r",
      "2639\r",
      "2640\r",
      "2641\r",
      "2642\r",
      "2643\r",
      "2644\r",
      "2645\r",
      "2646\r",
      "2647\r",
      "2648\r",
      "2649\r",
      "2650\r",
      "2651\r",
      "2652\r",
      "2653\r",
      "2654\r",
      "2655\r",
      "2656\r",
      "2657\r",
      "2658\r",
      "2659\r",
      "2660\r",
      "2661\r",
      "2662\r",
      "2663\r",
      "2664\r",
      "2665\r",
      "2666\r",
      "2667\r",
      "2668\r",
      "2669\r",
      "2670\r",
      "2671\r",
      "2672\r",
      "2673\r",
      "2674\r",
      "2675\r",
      "2676\r",
      "2677\r",
      "2678\r",
      "2679\r",
      "2680\r",
      "2681\r",
      "2682\r",
      "2683\r",
      "2684\r",
      "2685\r",
      "2686\r",
      "2687\r",
      "2688\r",
      "2689\r",
      "2690\r",
      "2691\r",
      "2692\r",
      "2693\r",
      "2694\r",
      "2695\r",
      "2696\r",
      "2697\r",
      "2698\r",
      "2699\r",
      "2700\r",
      "2701\r",
      "2702\r",
      "2703\r",
      "2704\r",
      "2705\r",
      "2706\r",
      "2707\r",
      "2708\r",
      "2709\r",
      "2710\r",
      "2711\r",
      "2712\r",
      "2713\r",
      "2714\r",
      "2715\r",
      "2716\r",
      "2717\r",
      "2718\r",
      "2719\r",
      "2720\r",
      "2721\r",
      "2722\r",
      "2723\r",
      "2724\r",
      "2725\r",
      "2726\r",
      "2727\r",
      "2728\r",
      "2729\r",
      "2730\r",
      "2731\r",
      "2732\r",
      "2733\r",
      "2734\r",
      "2735\r",
      "2736\r",
      "2737\r",
      "2738\r",
      "2739\r",
      "2740\r",
      "2741\r",
      "2742\r",
      "2743\r",
      "2744\r",
      "2745\r",
      "2746\r",
      "2747\r",
      "2748\r",
      "2749\r",
      "2750\r",
      "2751\r",
      "2752\r",
      "2753\r",
      "2754\r",
      "2755\r",
      "2756\r",
      "2757\r",
      "2758\r",
      "2759\r",
      "2760\r",
      "2761\r",
      "2762\r",
      "2763\r",
      "2764\r",
      "2765\r",
      "2766\r",
      "2767\r",
      "2768\r",
      "2769\r",
      "2770\r",
      "2771\r",
      "2772\r",
      "2773\r",
      "2774\r",
      "2775\r",
      "2776\r",
      "2777\r",
      "2778\r",
      "2779\r",
      "2780\r",
      "2781\r",
      "2782\r",
      "2783\r",
      "2784\r",
      "2785\r",
      "2786\r",
      "2787\r",
      "2788\r",
      "2789\r",
      "2790\r",
      "2791\r",
      "2792\r",
      "2793\r",
      "2794\r",
      "2795\r",
      "2796\r",
      "2797\r",
      "2798\r",
      "2799\r",
      "2800\r",
      "2801\r",
      "2802\r",
      "2803\r",
      "2804\r",
      "2805\r",
      "2806\r",
      "2807\r",
      "2808\r",
      "2809\r",
      "2810\r",
      "2811\r",
      "2812\r",
      "2813\r",
      "2814\r",
      "2815\r",
      "2816\r",
      "2817\r",
      "2818\r",
      "2819\r",
      "2820\r",
      "2821\r",
      "2822\r",
      "2823\r",
      "2824\r",
      "2825\r",
      "2826\r",
      "2827\r",
      "2828\r",
      "2829\r",
      "2830\r",
      "2831\r",
      "2832\r",
      "2833\r",
      "2834\r",
      "2835\r",
      "2836\r",
      "2837\r",
      "2838\r",
      "2839\r",
      "2840\r",
      "2841\r",
      "2842\r",
      "2843\r",
      "2844\r",
      "2845\r",
      "2846\r",
      "2847\r",
      "2848\r",
      "2849\r",
      "2850\r",
      "2851\r",
      "2852\r",
      "2853\r",
      "2854\r",
      "2855\r",
      "2856\r",
      "2857\r",
      "2858\r",
      "2859\r",
      "2860\r",
      "2861\r",
      "2862\r",
      "2863\r",
      "2864\r",
      "2865\r",
      "2866\r",
      "2867\r",
      "2868\r",
      "2869\r",
      "2870\r",
      "2871\r",
      "2872\r",
      "2873\r",
      "2874\r",
      "2875\r",
      "2876\r",
      "2877\r",
      "2878\r",
      "2879\r",
      "2880\r",
      "2881\r",
      "2882\r",
      "2883\r",
      "2884\r",
      "2885\r",
      "2886\r",
      "2887\r",
      "2888\r",
      "2889\r",
      "2890\r",
      "2891\r",
      "2892\r",
      "2893\r",
      "2894\r",
      "2895\r",
      "2896\r",
      "2897\r",
      "2898\r",
      "2899\r",
      "2900\r",
      "2901\r",
      "2902\r",
      "2903\r",
      "2904\r",
      "2905\r",
      "2906\r",
      "2907\r",
      "2908\r",
      "2909\r",
      "2910\r",
      "2911\r",
      "2912\r",
      "2913\r",
      "2914\r",
      "2915\r",
      "2916\r",
      "2917\r",
      "2918\r",
      "2919\r",
      "2920\r",
      "2921\r",
      "2922\r",
      "2923\r",
      "2924\r",
      "2925\r",
      "2926\r",
      "2927\r",
      "2928\r",
      "2929\r",
      "2930\r",
      "2931\r",
      "2932\r",
      "2933\r",
      "2934\r",
      "2935\r",
      "2936\r",
      "2937\r",
      "2938\r",
      "2939\r",
      "2940\r",
      "2941\r",
      "2942\r",
      "2943\r",
      "2944\r",
      "2945\r",
      "2946\r",
      "2947\r",
      "2948\r",
      "2949\r",
      "2950\r",
      "2951\r",
      "2952\r",
      "2953\r",
      "2954\r",
      "2955\r",
      "2956\r",
      "2957\r",
      "2958\r",
      "2959\r",
      "2960\r",
      "2961\r",
      "2962\r",
      "2963\r",
      "2964\r",
      "2965\r",
      "2966\r",
      "2967\r",
      "2968\r",
      "2969\r",
      "2970\r",
      "2971\r",
      "2972\r",
      "2973\r",
      "2974\r",
      "2975\r",
      "2976\r",
      "2977\r",
      "2978\r",
      "2979\r",
      "2980\r",
      "2981\r",
      "2982\r",
      "2983\r",
      "2984\r",
      "2985\r",
      "2986\r",
      "2987\r",
      "2988\r",
      "2989\r",
      "2990\r",
      "2991\r",
      "2992\r",
      "2993\r",
      "2994\r",
      "2995\r",
      "2996\r",
      "2997\r",
      "2998\r",
      "2999\r",
      "3000\r",
      "3001\r",
      "3002\r",
      "3003\r",
      "3004\r",
      "3005\r",
      "3006\r",
      "3007\r",
      "3008\r",
      "3009\r",
      "3010\r",
      "3011\r",
      "3012\r",
      "3013\r",
      "3014\r",
      "3015\r",
      "3016\r",
      "3017\r",
      "3018\r",
      "3019\r",
      "3020\r",
      "3021\r",
      "3022\r",
      "3023\r",
      "3024\r",
      "3025\r",
      "3026\r",
      "3027\r",
      "3028\r",
      "3029\r",
      "3030\r",
      "3031\r",
      "3032\r",
      "3033\r",
      "3034\r",
      "3035\r",
      "3036\r",
      "3037\r",
      "3038\r",
      "3039\r",
      "3040\r",
      "3041\r",
      "3042\r",
      "3043\r",
      "3044\r",
      "3045\r",
      "3046\r",
      "3047\r",
      "3048\r",
      "3049\r",
      "3050\r",
      "3051\r",
      "3052\r",
      "3053\r",
      "3054\r",
      "3055\r",
      "3056\r",
      "3057\r",
      "3058\r",
      "3059\r",
      "3060\r",
      "3061\r",
      "3062\r",
      "3063\r",
      "3064\r",
      "3065\r",
      "3066\r",
      "3067\r",
      "3068\r",
      "3069\r",
      "3070\r",
      "3071\r",
      "3072\r",
      "3073\r",
      "3074\r",
      "3075\r",
      "3076\r",
      "3077\r",
      "3078\r",
      "3079\r",
      "3080\r",
      "3081\r",
      "3082\r",
      "3083\r",
      "3084\r",
      "3085\r",
      "3086\r",
      "3087\r",
      "3088\r",
      "3089\r",
      "3090\r",
      "3091\r",
      "3092\r",
      "3093\r",
      "3094\r",
      "3095\r",
      "3096\r",
      "3097\r",
      "3098\r",
      "3099\r",
      "3100\r",
      "3101\r",
      "3102\r",
      "3103\r",
      "3104\r",
      "3105\r",
      "3106\r",
      "3107\r",
      "3108\r",
      "3109\r",
      "3110\r",
      "3111\r",
      "3112\r",
      "3113\r",
      "3114\r",
      "3115\r",
      "3116\r",
      "3117\r",
      "3118\r",
      "3119\r",
      "3120\r",
      "3121\r",
      "3122\r",
      "3123\r",
      "3124\r",
      "3125\r",
      "3126\r",
      "3127\r",
      "3128\r",
      "3129\r",
      "3130\r",
      "3131\r",
      "3132\r",
      "3133\r",
      "3134\r",
      "3135\r",
      "3136\r",
      "3137\r",
      "3138\r",
      "3139\r",
      "3140\r",
      "3141\r",
      "3142\r",
      "3143\r",
      "3144\r",
      "3145\r",
      "3146\r",
      "3147\r",
      "3148\r",
      "3149\r",
      "3150\r",
      "3151\r",
      "3152\r",
      "3153\r",
      "3154\r",
      "3155\r",
      "3156\r",
      "3157\r",
      "3158\r",
      "3159\r",
      "3160\r",
      "3161\r",
      "3162\r",
      "3163\r",
      "3164\r",
      "3165\r",
      "3166\r",
      "3167\r",
      "3168\r",
      "3169\r",
      "3170\r",
      "3171\r",
      "3172\r",
      "3173\r",
      "3174\r",
      "3175\r",
      "3176\r",
      "3177\r",
      "3178\r",
      "3179\r",
      "3180\r",
      "3181\r",
      "3182\r",
      "3183\r",
      "3184\r",
      "3185\r",
      "3186\r",
      "3187\r",
      "3188\r",
      "3189\r",
      "3190\r",
      "3191\r",
      "3192\r",
      "3193\r",
      "3194\r",
      "3195\r",
      "3196\r",
      "3197\r",
      "3198\r",
      "3199\r",
      "3200\r",
      "3201\r",
      "3202\r",
      "3203\r",
      "3204\r",
      "3205\r",
      "3206\r",
      "3207\r",
      "3208\r",
      "3209\r",
      "3210\r",
      "3211\r",
      "3212\r",
      "3213\r",
      "3214\r",
      "3215\r",
      "3216\r",
      "3217\r",
      "3218\r",
      "3219\r",
      "3220\r",
      "3221\r",
      "3222\r",
      "3223\r",
      "3224\r",
      "3225\r",
      "3226\r",
      "3227\r",
      "3228\r",
      "3229\r",
      "3230\r",
      "3231\r",
      "3232\r",
      "3233\r",
      "3234\r",
      "3235\r",
      "3236\r",
      "3237\r",
      "3238\r",
      "3239\r",
      "3240\r",
      "3241\r",
      "3242\r",
      "3243\r",
      "3244\r",
      "3245\r",
      "3246\r",
      "3247\r",
      "3248\r",
      "3249\r",
      "3250\r",
      "3251\r",
      "3252\r",
      "3253\r",
      "3254\r",
      "3255\r",
      "3256\r",
      "3257\r",
      "3258\r",
      "3259\r",
      "3260\r",
      "3261\r",
      "3262\r",
      "3263\r",
      "3264\r",
      "3265\r",
      "3266\r",
      "3267\r",
      "3268\r",
      "3269\r",
      "3270\r",
      "3271\r",
      "3272\r",
      "3273\r",
      "3274\r",
      "3275\r",
      "3276\r",
      "3277\r",
      "3278\r",
      "3279\r",
      "3280\r",
      "3281\r",
      "3282\r",
      "3283\r",
      "3284\r",
      "3285\r",
      "3286\r",
      "3287\r",
      "3288\r",
      "3289\r",
      "3290\r",
      "3291\r",
      "3292\r",
      "3293\r",
      "3294\r",
      "3295\r",
      "3296\r",
      "3297\r",
      "3298\r",
      "3299\r",
      "3300\r",
      "3301\r",
      "3302\r",
      "3303\r",
      "3304\r",
      "3305\r",
      "3306\r",
      "3307\r",
      "3308\r",
      "3309\r",
      "3310\r",
      "3311\r",
      "3312\r",
      "3313\r",
      "3314\r",
      "3315\r",
      "3316\r",
      "3317\r",
      "3318\r",
      "3319\r",
      "3320\r",
      "3321\r",
      "3322\r",
      "3323\r",
      "3324\r",
      "3325\r",
      "3326\r",
      "3327\r",
      "3328\r",
      "3329\r",
      "3330\r",
      "3331\r",
      "3332\r",
      "3333\r",
      "3334\r",
      "3335\r",
      "3336\r",
      "3337\r",
      "3338\r",
      "3339\r",
      "3340\r",
      "3341\r",
      "3342\r",
      "3343\r",
      "3344\r",
      "3345\r",
      "3346\r",
      "3347\r",
      "3348\r",
      "3349\r",
      "3350\r",
      "3351\r",
      "3352\r",
      "3353\r",
      "3354\r",
      "3355\r",
      "3356\r",
      "3357\r",
      "3358\r",
      "3359\r",
      "3360\r",
      "3361\r",
      "3362\r",
      "3363\r",
      "3364\r",
      "3365\r",
      "3366\r",
      "3367\r",
      "3368\r",
      "3369\r",
      "3370\r",
      "3371\r",
      "3372\r",
      "3373\r",
      "3374\r",
      "3375\r",
      "3376\r",
      "3377\r",
      "3378\r",
      "3379\r",
      "3380\r",
      "3381\r",
      "3382\r",
      "3383\r",
      "3384\r",
      "3385\r",
      "3386\r",
      "3387\r",
      "3388\r",
      "3389\r",
      "3390\r",
      "3391\r",
      "3392\r",
      "3393\r",
      "3394\r",
      "3395\r",
      "3396\r",
      "3397\r",
      "3398\r",
      "3399\r",
      "3400\r",
      "3401\r",
      "3402\r",
      "3403\r",
      "3404\r",
      "3405\r",
      "3406\r",
      "3407\r",
      "3408\r",
      "3409\r",
      "3410\r",
      "3411\r",
      "3412\r",
      "3413\r",
      "3414\r",
      "3415\r",
      "3416\r",
      "3417\r",
      "3418\r",
      "3419\r",
      "3420\r",
      "3421\r",
      "3422\r",
      "3423\r",
      "3424\r",
      "3425\r",
      "3426\r",
      "3427\r",
      "3428\r",
      "3429\r",
      "3430\r",
      "3431\r",
      "3432\r",
      "3433\r",
      "3434\r",
      "3435\r",
      "3436\r",
      "3437\r",
      "3438\r",
      "3439\r",
      "3440\r",
      "3441\r",
      "3442\r",
      "3443\r",
      "3444\r",
      "3445\r",
      "3446\r",
      "3447\r",
      "3448\r",
      "3449\r",
      "3450\r",
      "3451\r",
      "3452\r",
      "3453\r",
      "3454\r",
      "3455\r",
      "3456\r",
      "3457\r",
      "3458\r",
      "3459\r",
      "3460\r",
      "3461\r",
      "3462\r",
      "3463\r",
      "3464\r",
      "3465\r",
      "3466\r",
      "3467\r",
      "3468\r",
      "3469\r",
      "3470\r",
      "3471\r",
      "3472\r",
      "3473\r",
      "3474\r",
      "3475\r",
      "3476\r",
      "3477\r",
      "3478\r",
      "3479\r",
      "3480\r",
      "3481\r",
      "3482\r",
      "3483\r",
      "3484\r",
      "3485\r",
      "3486\r",
      "3487\r",
      "3488\r",
      "3489\r",
      "3490\r",
      "3491\r",
      "3492\r",
      "3493\r",
      "3494\r",
      "3495\r",
      "3496\r",
      "3497\r",
      "3498\r",
      "3499\r",
      "3500\r",
      "3501\r",
      "3502\r",
      "3503\r",
      "3504\r",
      "3505\r",
      "3506\r",
      "3507\r",
      "3508\r",
      "3509\r",
      "3510\r",
      "3511\r",
      "3512\r",
      "3513\r",
      "3514\r",
      "3515\r",
      "3516\r",
      "3517\r",
      "3518\r",
      "3519\r",
      "3520\r",
      "3521\r",
      "3522\r",
      "3523\r",
      "3524\r",
      "3525\r",
      "3526\r",
      "3527\r",
      "3528\r",
      "3529\r",
      "3530\r",
      "3531\r",
      "3532\r",
      "3533\r",
      "3534\r",
      "3535\r",
      "3536\r",
      "3537\r",
      "3538\r",
      "3539\r",
      "3540\r",
      "3541\r",
      "3542\r",
      "3543\r",
      "3544\r",
      "3545\r",
      "3546\r",
      "3547\r",
      "3548\r",
      "3549\r",
      "3550\r",
      "3551\r",
      "3552\r",
      "3553\r",
      "3554\r",
      "3555\r",
      "3556\r",
      "3557\r",
      "3558\r",
      "3559\r",
      "3560\r",
      "3561\r",
      "3562\r",
      "3563\r",
      "3564\r",
      "3565\r",
      "3566\r",
      "3567\r",
      "3568\r",
      "3569\r",
      "3570\r",
      "3571\r",
      "3572\r",
      "3573\r",
      "3574\r",
      "3575\r",
      "3576\r",
      "3577\r",
      "3578\r",
      "3579\r",
      "3580\r",
      "3581\r",
      "3582\r",
      "3583\r",
      "3584\r",
      "3585\r",
      "3586\r",
      "3587\r",
      "3588\r",
      "3589\r",
      "3590\r",
      "3591\r",
      "3592\r",
      "3593\r",
      "3594\r",
      "3595\r",
      "3596\r",
      "3597\r",
      "3598\r",
      "3599\r",
      "3600\r",
      "3601\r",
      "3602\r",
      "3603\r",
      "3604\r",
      "3605\r",
      "3606\r",
      "3607\r",
      "3608\r",
      "3609\r",
      "3610\r",
      "3611\r",
      "3612\r",
      "3613\r",
      "3614\r",
      "3615\r",
      "3616\r",
      "3617\r",
      "3618\r",
      "3619\r",
      "3620\r",
      "3621\r",
      "3622\r",
      "3623\r",
      "3624\r",
      "3625\r",
      "3626\r",
      "3627\r",
      "3628\r",
      "3629\r",
      "3630\r",
      "3631\r",
      "3632\r",
      "3633\r",
      "3634\r",
      "3635\r",
      "3636\r",
      "3637\r",
      "3638\r",
      "3639\r",
      "3640\r",
      "3641\r",
      "3642\r",
      "3643\r",
      "3644\r",
      "3645\r",
      "3646\r",
      "3647\r",
      "3648\r",
      "3649\r",
      "3650\r",
      "3651\r",
      "3652\r",
      "3653\r",
      "3654\r",
      "3655\r",
      "3656\r",
      "3657\r",
      "3658\r",
      "3659\r",
      "3660\r",
      "3661\r",
      "3662\r",
      "3663\r",
      "3664\r",
      "3665\r",
      "3666\r",
      "3667\r",
      "3668\r",
      "3669\r",
      "3670\r",
      "3671\r",
      "3672\r",
      "3673\r",
      "3674\r",
      "3675\r",
      "3676\r",
      "3677\r",
      "3678\r",
      "3679\r",
      "3680\r",
      "3681\r",
      "3682\r",
      "3683\r",
      "3684\r",
      "3685\r",
      "3686\r",
      "3687\r",
      "3688\r",
      "3689\r",
      "3690\r",
      "3691\r",
      "3692\r",
      "3693\r",
      "3694\r",
      "3695\r",
      "3696\r",
      "3697\r",
      "3698\r",
      "3699\r",
      "3700\r",
      "3701\r",
      "3702\r",
      "3703\r",
      "3704\r",
      "3705\r",
      "3706\r",
      "3707\r",
      "3708\r",
      "3709\r",
      "3710\r",
      "3711\r",
      "3712\r",
      "3713\r",
      "3714\r",
      "3715\r",
      "3716\r",
      "3717\r",
      "3718\r",
      "3719\r",
      "3720\r",
      "3721\r",
      "3722\r",
      "3723\r",
      "3724\r",
      "3725\r",
      "3726\r",
      "3727\r",
      "3728\r",
      "3729\r",
      "3730\r",
      "3731\r",
      "3732\r",
      "3733\r",
      "3734\r",
      "3735\r",
      "3736\r",
      "3737\r",
      "3738\r",
      "3739\r",
      "3740\r",
      "3741\r",
      "3742\r",
      "3743\r",
      "3744\r",
      "3745\r",
      "3746\r",
      "3747\r",
      "3748\r",
      "3749\r",
      "3750\r",
      "3751\r",
      "3752\r",
      "3753\r",
      "3754\r",
      "3755\r",
      "3756\r",
      "3757\r",
      "3758\r",
      "3759\r",
      "3760\r",
      "3761\r",
      "3762\r",
      "3763\r",
      "3764\r",
      "3765\r",
      "3766\r",
      "3767\r",
      "3768\r",
      "3769\r",
      "3770\r",
      "3771\r",
      "3772\r",
      "3773\r",
      "3774\r",
      "3775\r",
      "3776\r",
      "3777\r",
      "3778\r",
      "3779\r",
      "3780\r",
      "3781\r",
      "3782\r",
      "3783\r",
      "3784\r",
      "3785\r",
      "3786\r",
      "3787\r",
      "3788\r",
      "3789\r",
      "3790\r",
      "3791\r",
      "3792\r",
      "3793\r",
      "3794\r",
      "3795\r",
      "3796\r",
      "3797\r",
      "3798\r",
      "3799\r",
      "3800\r",
      "3801\r",
      "3802\r",
      "3803\r",
      "3804\r",
      "3805\r",
      "3806\r",
      "3807\r",
      "3808\r",
      "3809\r",
      "3810\r",
      "3811\r",
      "3812\r",
      "3813\r",
      "3814\r",
      "3815\r",
      "3816\r",
      "3817\r",
      "3818\r",
      "3819\r",
      "3820\r",
      "3821\r",
      "3822\r",
      "3823\r",
      "3824\r",
      "3825\r",
      "3826\r",
      "3827\r",
      "3828\r",
      "3829\r",
      "3830\r",
      "3831\r",
      "3832\r",
      "3833\r",
      "3834\r",
      "3835\r",
      "3836\r",
      "3837\r",
      "3838\r",
      "3839\r",
      "3840\r",
      "3841\r",
      "3842\r",
      "3843\r",
      "3844\r",
      "3845\r",
      "3846\r",
      "3847\r",
      "3848\r",
      "3849\r",
      "3850\r",
      "3851\r",
      "3852\r",
      "3853\r",
      "3854\r",
      "3855\r",
      "3856\r",
      "3857\r",
      "3858\r",
      "3859\r",
      "3860\r",
      "3861\r",
      "3862\r",
      "3863\r",
      "3864\r",
      "3865\r",
      "3866\r",
      "3867\r",
      "3868\r",
      "3869\r",
      "3870\r",
      "3871\r",
      "3872\r",
      "3873\r",
      "3874\r",
      "3875\r",
      "3876\r",
      "3877\r",
      "3878\r",
      "3879\r",
      "3880\r",
      "3881\r",
      "3882\r",
      "3883\r",
      "3884\r",
      "3885\r",
      "3886\r",
      "3887\r",
      "3888\r",
      "3889\r",
      "3890\r",
      "3891\r",
      "3892\r",
      "3893\r",
      "3894\r",
      "3895\r",
      "3896\r",
      "3897\r",
      "3898\r",
      "3899\r",
      "3900\r"
     ]
    }
   ],
   "source": [
    "for i, tx in enumerate(spender_details):\n",
    "    print(i, end='\\r')\n",
    "    if not spender_details[tx]:\n",
    "        details = get_blockstream_tx(tx)\n",
    "        spender_details[tx] = details"
   ]
  },
  {
   "cell_type": "code",
   "execution_count": 324,
   "metadata": {
    "ExecuteTime": {
     "end_time": "2020-07-09T08:09:45.786502Z",
     "start_time": "2020-07-09T08:09:45.465920Z"
    }
   },
   "outputs": [],
   "source": [
    "write_json(spender_details, level1_folder + 'spender_details.json')"
   ]
  },
  {
   "cell_type": "markdown",
   "metadata": {},
   "source": [
    "## find the input in each spender that spends a p2wsh and check whether the witness has 01"
   ]
  },
  {
   "cell_type": "code",
   "execution_count": 384,
   "metadata": {
    "ExecuteTime": {
     "end_time": "2020-07-10T11:53:13.993470Z",
     "start_time": "2020-07-10T11:53:13.965401Z"
    },
    "scrolled": true
   },
   "outputs": [
    {
     "name": "stdout",
     "output_type": "stream",
     "text": [
      "40651a38b85d58bec589e4028bcb75dca6abe5036f6f219ec95458172b05ca07 non standard witness\n",
      "083e0cd4a3692c9c51a70cdf32b64bcb4ba9b5aea3b03ffad2fb59f643c87cf4 non standard witness\n",
      "ab43fecdb1353b0d9d5aa4dba9e0943e9eb1d5214740d6716b663eaf56abeb12 non standard witness\n",
      "67fff36990098c8a4c1477316148a3735cf4bb1cb8775311dbc02e0e76121e4c 01\n",
      "e1f079c6f977fd4ae7a5aaae478e2adfb38bab4fd6fb5dc1ef03697a7349c3fb non standard witness\n",
      "e7533f0468aa7c8db03ee5c3c3f6db4b4292ad921a2c71afe05a1108ef694a16 non standard witness\n",
      "7909e58f18316256ae682b5dd83e6dd6128b9cb482ea891669b777823c7fd2b4 non standard witness\n",
      "0aca866432a7b80f099afee0b208563922415c3632af84fe284400b099a6ee36 non standard witness\n",
      "c6e6da6ac3e18271e5ac75fefff95e430ffcb493235d6356a8ee4120625de708 non standard witness\n",
      "56ce125ff1ac14a26fd001d439b33e5bb814380ef5fe3a00d5b4727839221682 non standard witness\n",
      "348bce0a7ec029fb90d1976a8461cdef2e9f334f8e11e54312f4ca33106a75d1 non standard witness\n",
      "d973d6ba73cae25e37d58e1a536172df45ac86ca8148a3ee5a808b7595f258c1 non standard witness\n",
      "be6b65012c00f09e00bc69bacbf76faaae29b41fefd84c4516ad082937517eac non standard witness\n",
      "d1ac470459f03beb95a6c406cd067ae406662a5e0498d6bbb7e4f8c7f8df9c02 non standard witness\n",
      "0c27a225c9846f93d25d2e9bb0bbfb67b51e4e0fad7628e62459888f0f638e59 non standard witness\n",
      "1028931ea0922a2fdb08b324371b79fcf3ed176ad65ca58f2afefe48763be582 non standard witness\n",
      "2bc336794f6d81898dec057ed62fa94dab0e7d360d51dc741b75b6f9c862830b 01\n",
      "e70b6d2cc1eca8f36360257bd0a3ee57bac42dad9817162327ae2b2cab1f9a1a non standard witness\n",
      "d2cd23707cb5e42519dea314db74bcf284f2e52ac68e6aa006a48d1cf79ad121 non standard witness\n",
      "6871eb8c092341883f2f8ba0427f82b25eed64948c489bb0eea03af3027a50da non standard witness\n",
      "bb3babae11812860d3ca5a57dfd6b2db3349c5b5036eece872492798addb81fb non standard witness\n",
      "0485c5a303c3a783742828870aa14b1f33e7ce8bd73542d67224d91d1cf0073b non standard witness\n",
      "d06257dfaccfbe0e0672dcc393daa613414bf9c3ce9d3e3ff4c56733c26a46db 01\n",
      "83f2efca9ace241d04a40b3e60cc7aa447101e4c57df6499791464c4d05a4855 non standard witness\n",
      "9e9136a0da9be6855ec1cb44988756568dc8235aff1a88a56d8fe7f7bbab7813 non standard witness\n",
      "16b9fe361ac79bacdb658c385611f4c492ac03bfe4ea8bf93dbf386c11402fc5 non standard witness\n",
      "2aee5016b95b8ae0b52a1b88722461b352d547bb000304d1fa9d351c7e824c71 non standard witness\n",
      "e6aa75cf8ea10e8bf95847dc264a665833f42f091ad6a1519e1ccfaf32016d5b non standard witness\n",
      "a3122bcd5fd25489a4cf7111c2cee145dd76ac2a601afab74ae00db634c7be79 01\n",
      "039530a435e3b9e190bf6c2ced5cd2c944a13527c2175d672b525e2de459cd99 01\n",
      "829ba3e0c9d77cc7c1ee985b2f441ad0d3c919f0d2253cdadc5cd983212bbf26 01\n",
      "70b7838aedf75b65435b551a504bcca4f92f946c3ebb9706706b124b788f7018 non standard witness\n",
      "dc18a43bdad699f6592f4c7b69e3ec70c2c58da54f89057bc9869fcb10cab216 01\n",
      "e4cd2afb1a08da97cd17f3a4057fe8b4e8dfba2d7842646660dcd18d0946ab3f non standard witness\n",
      "460bcef7514b98a55702a177d352f38a9e2d139c4d8aaaa3450e8b1b1709df0b non standard witness\n",
      "b6c2f89b4ecbe487b18813f971570e469cff874b88b3eb9b99a84f97cb43b594 non standard witness\n",
      "92ffcbcca8224b7d422475e2477d4898ffe5cc704a2acdb4a55b3ec0fa78615d 01\n",
      "4dda1bf652668a6c969c157cb41f25025c12f9196ef693c60c0f215b234115de 01\n",
      "daa0ea206e10723c5599b4d16166ab68ba12afcebfefe516c1e130ff6aec6796 non standard witness\n",
      "c70f2c229de040f7e6509111b17265c57ed212bc617b94e6538d88590a18f4fe non standard witness\n",
      "c8c270adf5701b4ef8110a641dd456206673a38f27b3830f3d8aa0f796c55e76 non standard witness\n",
      "e3436e0e73fb158db5991c0c151c6d520c9db634d7313ee6ad837239e92b84a5 non standard witness\n",
      "d909df81f15e01444c54d9599adece18593b0c14d04b3efac4b6e85edf716fc9 non standard witness\n",
      "1b8d8cc43dcd2c293799bd9fdd03a3647af0b61b002adc3d27f7091a384e9c0a non standard witness\n",
      "03f2437fe4b4c94d8607a96c070cdfd0a3663a6a52fa18350d624b42196ed39b non standard witness\n",
      "1c463867c9ad9e5454392d0e4a6ed0a26c5f4a54e28e20e7974780f289f3ee4d non standard witness\n",
      "4b84f7e8c9d73fb97319988b949658c7e08d8ef3cc8a9e22dac6108af46acfeb non standard witness\n",
      "c6eb5d03f81c9e2a10f700a0e51e156e7579eec20f9846326e25415f453dc6d3 non standard witness\n",
      "5d635af374a66a24222ac3af17ee50338f54b4e29294978145817ed9a58824fd non standard witness\n",
      "1e81f5595b14e4e899c7cc68466965f36c1b365b8525399bb2b49e5f3593c57f non standard witness\n",
      "824a8fac0aaeb9802aa117c681b98bdb00470062110aad6b0bf492cfb94c30a1 01\n",
      "ec74c8b9d73170ebcdd81349da422ecc442bf410821706b76759be97862b22f0 non standard witness\n",
      "7340ce92d3050236c6212f01dba3a7f6d9e6e5b2f45e338b3a7cfde000ebed39 non standard witness\n",
      "87bdf53820b33e0a8247f34a7b7765cdc0beb7233b9d617535a864aa04678e22 non standard witness\n",
      "3c8a533504609f9de7fa56ef303e554014ff5255576ae7dfcafcb1c87d251a73 non standard witness\n",
      "22177509c518cdc332bb9d4687376bcc44cd7ac68699c2983967d16fc52d1050 non standard witness\n",
      "6d7cf06643b306be5dd811ff527397f96aeb16000d1bca8a9d1dcac5a1f002d3 non standard witness\n",
      "5d0640bcdbd28e44b5940f9211d0b3f6a8d54768749b136bb80ea2e18f4144d8 non standard witness\n",
      "3e296364321b740cff0a77aef38848687e52ea35bcdcab7aaf67a4bb5ec4e2b2 non standard witness\n",
      "74dd8818a562deca8bf7256d31ae2fa5bf181b0269eb1d4b235c7d2fb3da9ed0 non standard witness\n",
      "83de2d723b4810816903119f787adee6729e67813602b0a4db14bc2f9bf4dd42 non standard witness\n",
      "148808523045b6a89e95837314bbfd84f31afe22dac8e98c69041ff61483a24b non standard witness\n",
      "860e2a3f17955dcd0342b99bbba27403975b169993c5e50989a085652f5f6c8d non standard witness\n",
      "345186662704b6c075e11b6aeff8884ecf11e8240eb97cdf280049ffd66c4052 non standard witness\n",
      "965366e67f9ce459b9575056af6772d79e9be74ace36347c99b823e17ab1d788 non standard witness\n",
      "bc875551c8aaf96f44dd7c693b66113820683428ad77c3f00b13a94d382948d4 non standard witness\n",
      "ca2ffcc598c1b28566b506141a0445ce2cb7ceaa8ad142b485e71dec098ecaa0 non standard witness\n",
      "2bf650ea7f3be0e803daae1645f73fbf2ae15459f39bd21cf870983471745ee0 non standard witness\n",
      "f79f4ed89e9f4c6fee09927950b67654593b368ce6ece6872ba8b2f4589f2eb5 01\n"
     ]
    }
   ],
   "source": [
    "non_collaborative_settlement_address_btc = dict()\n",
    "non_standard_witnesses = []\n",
    "n_punishment_txs = 0\n",
    "non_standard_witness_len = dict()\n",
    "for sab in spender_address_btc:\n",
    "    spender, address, btc = sab.split(':')\n",
    "    details = spender_details[spender] # cannot use spender_address_btc_details cause it has more keys\n",
    "    for vin in details['vin']:\n",
    "        if vin['prevout']['scriptpubkey_address'] == address and vin['prevout']['value'] == int(btc):\n",
    "            len_witness = len(vin['witness'])\n",
    "            if len_witness != 3:\n",
    "                if len_witness not in non_standard_witness_len:\n",
    "                    non_standard_witness_len[len_witness] = 0\n",
    "                non_standard_witness_len[len_witness] += 1\n",
    "                print(details['txid'], 'non standard witness')\n",
    "                non_standard_witnesses.append(vin['witness'])\n",
    "#                 print(len(vin['witness']), end=' ')\n",
    "            else:\n",
    "                x = vin['witness'][1]\n",
    "                if x:\n",
    "                    print(spender, x)\n",
    "                    n_punishment_txs += 1\n",
    "                    key = address + ':' + btc\n",
    "                    if key not in non_collaborative_settlement_address_btc:\n",
    "                        non_collaborative_settlement_address_btc[key] = 0\n",
    "                    non_collaborative_settlement_address_btc[key] += 1\n",
    "#             print(, end=' ')\n",
    "#     if len(spender_details[tx]['vin'][0]['witness']) != 3:\n",
    "#         print(len(spender_details[tx]['vin'][0]['witness']))"
   ]
  },
  {
   "cell_type": "code",
   "execution_count": 358,
   "metadata": {
    "ExecuteTime": {
     "end_time": "2020-07-10T11:21:15.196273Z",
     "start_time": "2020-07-10T11:21:15.189324Z"
    }
   },
   "outputs": [],
   "source": [
    "punishment_txs_peter = pd.read_csv(results_folder + 'punishment_txs_peter.csv')"
   ]
  },
  {
   "cell_type": "code",
   "execution_count": 362,
   "metadata": {
    "ExecuteTime": {
     "end_time": "2020-07-10T11:21:42.700380Z",
     "start_time": "2020-07-10T11:21:42.694405Z"
    }
   },
   "outputs": [
    {
     "data": {
      "text/plain": [
       "24"
      ]
     },
     "execution_count": 362,
     "metadata": {},
     "output_type": "execute_result"
    }
   ],
   "source": [
    "len(set(punishment_txs_peter.funding_tx))"
   ]
  },
  {
   "cell_type": "code",
   "execution_count": 363,
   "metadata": {
    "ExecuteTime": {
     "end_time": "2020-07-10T11:22:09.751125Z",
     "start_time": "2020-07-10T11:22:09.741120Z"
    }
   },
   "outputs": [
    {
     "data": {
      "text/plain": [
       "24"
      ]
     },
     "execution_count": 363,
     "metadata": {},
     "output_type": "execute_result"
    }
   ],
   "source": [
    "set(punishment_txs_peter.funding_tx).intersection(set(funding_txs.keys()))"
   ]
  },
  {
   "cell_type": "code",
   "execution_count": 368,
   "metadata": {
    "ExecuteTime": {
     "end_time": "2020-07-10T11:23:28.737285Z",
     "start_time": "2020-07-10T11:23:28.734146Z"
    }
   },
   "outputs": [
    {
     "data": {
      "text/plain": [
       "24"
      ]
     },
     "execution_count": 368,
     "metadata": {},
     "output_type": "execute_result"
    }
   ],
   "source": [
    "len(set(punishment_txs_peter.settlement_tx))"
   ]
  },
  {
   "cell_type": "code",
   "execution_count": 369,
   "metadata": {
    "ExecuteTime": {
     "end_time": "2020-07-10T11:26:46.026413Z",
     "start_time": "2020-07-10T11:26:46.019634Z"
    }
   },
   "outputs": [
    {
     "data": {
      "text/plain": [
       "21"
      ]
     },
     "execution_count": 369,
     "metadata": {},
     "output_type": "execute_result"
    }
   ],
   "source": [
    "len(set(punishment_txs_peter.settlement_tx).intersection(set(settlement_txs_full.keys())))"
   ]
  },
  {
   "cell_type": "code",
   "execution_count": 383,
   "metadata": {
    "ExecuteTime": {
     "end_time": "2020-07-10T11:41:55.882790Z",
     "start_time": "2020-07-10T11:41:55.876946Z"
    }
   },
   "outputs": [
    {
     "name": "stdout",
     "output_type": "stream",
     "text": [
      "4d1770c0a33f29d5fe23861efdda88697ea9bbd29b91eb495db268ad6b748485\n",
      "90b72de1c0186aa5fd95b71c5d05a1604279ae7d16f494f8586e89e634d33b6a\n",
      "d31812c03c473ed9fa016ce77315c18e3d5872d7db111115187f425bb09a28a0\n",
      "f6c545b399aeb38ac219d01334cf5a1fc1f59e9e6222cb27d454e926d9231ea8\n",
      "39dcbfcef5070638f27272aad548c3276416d18611d3b034fa4c445f8f20fd5d\n",
      "60d20690bf98a0ec3ee77b9ce0ba940883af191955830df177ad863bd4b33778\n",
      "42d207803abb1d4a81b4c57112449eb2d4f5309a2b55cbe45365aed73bb33b82\n",
      "9f3be09d0dba19a7696e2d2fb2b78174ef8712a3510b8be848b687a5335870ca\n",
      "dbe843b375a3160893b65bd438019c68bf5f1f5d9d85d117db2ee11eb46b264a\n",
      "40788c4475d62f3558bd5096b635c5fa5c621f1f8f1b53ab7308de46d0d66eb3\n"
     ]
    }
   ],
   "source": [
    "for stx in punishment_txs_peter.settlement_tx:\n",
    "    if stx in settlement_txs_full:\n",
    "        if len(settlement_txs_full[stx]['outputs']) == 1:\n",
    "            print(stx)"
   ]
  },
  {
   "cell_type": "code",
   "execution_count": 375,
   "metadata": {
    "ExecuteTime": {
     "end_time": "2020-07-10T11:33:01.331251Z",
     "start_time": "2020-07-10T11:33:01.328045Z"
    }
   },
   "outputs": [
    {
     "data": {
      "text/plain": [
       "True"
      ]
     },
     "execution_count": 375,
     "metadata": {},
     "output_type": "execute_result"
    }
   ],
   "source": [
    "'0dcccf7a5ed3f63a924604168eb2aad2d1011aaac8ca334594a69fa7e404c180' in funding_txs.keys()"
   ]
  },
  {
   "cell_type": "code",
   "execution_count": 377,
   "metadata": {
    "ExecuteTime": {
     "end_time": "2020-07-10T11:33:52.435458Z",
     "start_time": "2020-07-10T11:33:52.431990Z"
    }
   },
   "outputs": [
    {
     "data": {
      "text/plain": [
       "[]"
      ]
     },
     "execution_count": 377,
     "metadata": {},
     "output_type": "execute_result"
    }
   ],
   "source": [
    "funded_address_settlement_txs['bc1q5rn6htvvhpw9fh0ae85rpczmewup5damqgsex7ghu75kqq7rkxrqaugyjs']"
   ]
  },
  {
   "cell_type": "code",
   "execution_count": 378,
   "metadata": {
    "ExecuteTime": {
     "end_time": "2020-07-10T11:35:37.973967Z",
     "start_time": "2020-07-10T11:35:37.970281Z"
    }
   },
   "outputs": [
    {
     "data": {
      "text/plain": [
       "False"
      ]
     },
     "execution_count": 378,
     "metadata": {},
     "output_type": "execute_result"
    }
   ],
   "source": [
    "'bc1qlenfpc37vej4pnvwyta03ngtnuru9uvw7p0z89xmfc5ay5dty39qh2k7yu' in settlement_address_entity"
   ]
  },
  {
   "cell_type": "code",
   "execution_count": 374,
   "metadata": {
    "ExecuteTime": {
     "end_time": "2020-07-10T11:29:43.573358Z",
     "start_time": "2020-07-10T11:29:43.569938Z"
    }
   },
   "outputs": [
    {
     "data": {
      "text/plain": [
       "['97c28ae6a7c3787b7cda33b63519b2e73190d59092e511a0f9accf0171309a30',\n",
       " 'ad761ec5e354b6d8e38ac09c903d90c12b2a253b7234f2ece417411602929a58',\n",
       " '2f7921fac9cc9c74b8834f3b693b7156d0c902c7600e982c6355e1712a9a771e']"
      ]
     },
     "execution_count": 374,
     "metadata": {},
     "output_type": "execute_result"
    }
   ],
   "source": [
    "[stx for stx in punishment_txs_peter.settlement_tx if stx not in settlement_txs_full.keys()]"
   ]
  },
  {
   "cell_type": "code",
   "execution_count": 347,
   "metadata": {
    "ExecuteTime": {
     "end_time": "2020-07-09T15:12:27.594687Z",
     "start_time": "2020-07-09T15:12:27.590834Z"
    }
   },
   "outputs": [
    {
     "data": {
      "text/plain": [
       "58"
      ]
     },
     "execution_count": 347,
     "metadata": {},
     "output_type": "execute_result"
    }
   ],
   "source": [
    "len(non_standard_witnesses)"
   ]
  },
  {
   "cell_type": "code",
   "execution_count": 354,
   "metadata": {
    "ExecuteTime": {
     "end_time": "2020-07-09T15:14:44.318450Z",
     "start_time": "2020-07-09T15:14:44.314762Z"
    }
   },
   "outputs": [
    {
     "data": {
      "text/plain": [
       "['',\n",
       " '3044022068ecbb1764dbe2e1d3e2982cfba63a99bc0760c152549f52527926d311e88a6502205eb7f996c375489e37532b664f34ee1e437978d09dcec4607c5510f4a8524e6701',\n",
       " '304402207e3f9ba94b3d069de819f324350e4fe6e0739e222e3b962d8c5bcf105851106802203eaf38a4df1d2460a7bf15e97fc60971df77d232b31b3010003997a4a4d90ffe01',\n",
       " '',\n",
       " '76a9144ba172db6491c21a73ce2ddaf807475cc87ff6a28763ac6721038869eefb9c6d39aba7e888f219b075791a28040c51b187dc7c6c1b181c9770237c820120876475527c2103e49b4e47cb23af54620bcf50027c40f42ec47dae756b74ac1bb4f9522b2347d252ae67a914c031bc2e94bd614b2facb1eb925ad51b7d2566e488ac6868']"
      ]
     },
     "execution_count": 354,
     "metadata": {},
     "output_type": "execute_result"
    }
   ],
   "source": [
    "non_standard_witnesses[0]"
   ]
  },
  {
   "cell_type": "code",
   "execution_count": 353,
   "metadata": {
    "ExecuteTime": {
     "end_time": "2020-07-09T15:14:32.241612Z",
     "start_time": "2020-07-09T15:14:32.238445Z"
    }
   },
   "outputs": [],
   "source": [
    "for nsw in non_standard_witnesses:\n",
    "#     print([1 if e else 0 for e in nsw])\n",
    "    for el in nsw:\n",
    "        if el == '01':\n",
    "            print(nsw)"
   ]
  },
  {
   "cell_type": "code",
   "execution_count": 332,
   "metadata": {
    "ExecuteTime": {
     "end_time": "2020-07-09T13:12:24.539536Z",
     "start_time": "2020-07-09T13:12:24.532224Z"
    }
   },
   "outputs": [
    {
     "data": {
      "text/plain": [
       "{5: 58}"
      ]
     },
     "execution_count": 332,
     "metadata": {},
     "output_type": "execute_result"
    }
   ],
   "source": [
    "non_standard_witness_len"
   ]
  },
  {
   "cell_type": "code",
   "execution_count": 329,
   "metadata": {
    "ExecuteTime": {
     "end_time": "2020-07-09T13:05:50.325984Z",
     "start_time": "2020-07-09T13:05:50.323354Z"
    }
   },
   "outputs": [
    {
     "name": "stdout",
     "output_type": "stream",
     "text": [
      "11 punishment txs out of 33503 settlement txs\n"
     ]
    }
   ],
   "source": [
    "print(n_punishment_txs, 'punishment txs out of', len(settlement_txs_full), 'settlement txs')"
   ]
  },
  {
   "cell_type": "code",
   "execution_count": 328,
   "metadata": {
    "ExecuteTime": {
     "end_time": "2020-07-09T13:05:03.201714Z",
     "start_time": "2020-07-09T13:05:03.197993Z"
    }
   },
   "outputs": [
    {
     "data": {
      "text/plain": [
       "33503"
      ]
     },
     "execution_count": 328,
     "metadata": {},
     "output_type": "execute_result"
    }
   ],
   "source": [
    "len(settlement_txs_full)"
   ]
  },
  {
   "cell_type": "code",
   "execution_count": 314,
   "metadata": {
    "ExecuteTime": {
     "end_time": "2020-07-08T21:08:26.437022Z",
     "start_time": "2020-07-08T21:08:26.433494Z"
    }
   },
   "outputs": [
    {
     "data": {
      "text/plain": [
       "'457990'"
      ]
     },
     "execution_count": 314,
     "metadata": {},
     "output_type": "execute_result"
    }
   ],
   "source": [
    "btc"
   ]
  },
  {
   "cell_type": "code",
   "execution_count": 338,
   "metadata": {
    "ExecuteTime": {
     "end_time": "2020-07-09T13:36:17.838242Z",
     "start_time": "2020-07-09T13:36:17.833851Z"
    }
   },
   "outputs": [
    {
     "data": {
      "text/plain": [
       "{'bc1qm0cygf8cdvztpuczvyfpxz0gnv9lf7c26jaz9qlvzl07txgj333qhdyteu:2396067': 1,\n",
       " 'bc1qsq3ka65g5a4p9elc9xv6kh4f984c9uwk48d3s9f0k24dcqjhzcysmc2kc2:19769': 1,\n",
       " 'bc1q3g33wg8x7qpsdznpm6q79h4a25t8cw88mf5q27weugx0u3nhmf6sfd3580:1605': 1,\n",
       " 'bc1qjzejymgq3fap7et3ys06y9m8rcgw9ep7plvexaxplehwgllwkfuqn8840c:969835': 1,\n",
       " 'bc1qhd0esswx2mgp6y5v0qsu2kyn06v8t2tl37ee86yngsd30wceqzrqnxgj3e:40200': 1,\n",
       " 'bc1qrccx3axx36fme76q2zgww60gv3nrm4ww6fep2urc52nkwt7trq8sgr50a8:10000': 1,\n",
       " 'bc1qh5rqgx7w3pcm5s5lrns9rkhamcl3j85htzrc2v5llctyuhdww66qqz3x47:234917': 1,\n",
       " 'bc1qkv5exhpmu2next3kystunw3uzfdcsst032rcqfl988f3fe5ha59sx27tla:209270': 1,\n",
       " 'bc1qhpjn2u520m8pk4gknlezcq20wdnaxjt95xme9grl8wa9q7hx7t6q9tj6q7:153498': 1,\n",
       " 'bc1qa2hmaruf0nsgqjvq5wcrpeufxu4la4gg7kypc9kazz8thvjavggsmhl6v7:195424': 1,\n",
       " 'bc1qqxeqx2m2s56jcaqgkz738zvnnjnfzh2xxmafzykz4g09lnp2ctpqsj0dzn:649269': 1}"
      ]
     },
     "execution_count": 338,
     "metadata": {},
     "output_type": "execute_result"
    }
   ],
   "source": [
    "non_collaborative_settlement_address_btc"
   ]
  },
  {
   "cell_type": "markdown",
   "metadata": {
    "ExecuteTime": {
     "end_time": "2020-07-08T21:07:22.060594Z",
     "start_time": "2020-07-08T21:07:22.058020Z"
    }
   },
   "source": [
    "## create a list of settlement txs that cannot be used in the collaborative close heuristic"
   ]
  },
  {
   "cell_type": "code",
   "execution_count": 344,
   "metadata": {
    "ExecuteTime": {
     "end_time": "2020-07-09T15:11:30.339592Z",
     "start_time": "2020-07-09T15:11:30.322583Z"
    }
   },
   "outputs": [],
   "source": [
    "settlement_txs_with_punishment = set()\n",
    "# for each settlement tx\n",
    "for tx in possible_two_output_unilateral_settlement_txs:\n",
    "    # if one output has a p2wsh and the address and the value are in non_collaborative_settlement_address_btc\n",
    "        # add settlement tx to unusable\n",
    "    for vout in possible_two_output_unilateral_settlement_txs[tx]['vout']:\n",
    "        if vout['scriptpubkey_type'] == 'v0_p2wsh':\n",
    "            key = vout['scriptpubkey_address'] + ':' + str(vout['value'])\n",
    "            if key in non_collaborative_settlement_address_btc:\n",
    "                settlement_txs_with_punishment.add(tx)\n"
   ]
  },
  {
   "cell_type": "code",
   "execution_count": 385,
   "metadata": {
    "ExecuteTime": {
     "end_time": "2020-07-10T11:54:51.303077Z",
     "start_time": "2020-07-10T11:54:51.299570Z"
    }
   },
   "outputs": [
    {
     "data": {
      "text/plain": [
       "11"
      ]
     },
     "execution_count": 385,
     "metadata": {},
     "output_type": "execute_result"
    }
   ],
   "source": [
    "len(settlement_txs_with_punishment)"
   ]
  },
  {
   "cell_type": "code",
   "execution_count": 387,
   "metadata": {
    "ExecuteTime": {
     "end_time": "2020-07-10T11:55:31.458425Z",
     "start_time": "2020-07-10T11:55:31.455846Z"
    }
   },
   "outputs": [],
   "source": [
    "write_json(list(settlement_txs_with_punishment), results_folder + 'settlement_txs_with_punishment.json')"
   ]
  },
  {
   "cell_type": "code",
   "execution_count": 47,
   "metadata": {
    "ExecuteTime": {
     "end_time": "2020-07-07T21:00:29.346999Z",
     "start_time": "2020-07-07T21:00:28.590022Z"
    }
   },
   "outputs": [],
   "source": [
    "output_file = level1_folder + 'unilateral_settlement_txs.json'\n",
    "write_json(unilateral_settlement_txs, output_file)\n"
   ]
  },
  {
   "cell_type": "code",
   "execution_count": 137,
   "metadata": {
    "ExecuteTime": {
     "end_time": "2020-05-18T09:22:38.258506Z",
     "start_time": "2020-05-18T09:22:38.246074Z"
    }
   },
   "outputs": [
    {
     "name": "stdout",
     "output_type": "stream",
     "text": [
      "Number of entities in all settlement txs: 28106 -- 15.01 % linked\n"
     ]
    }
   ],
   "source": [
    "print('Number of entities in all settlement txs:', len(set(settlement_address_entity.values())), '--', round(100*len(heuristic_1b_entity_node)/len(set(settlement_address_entity.values())), 2),'% linked')"
   ]
  },
  {
   "cell_type": "code",
   "execution_count": 138,
   "metadata": {
    "ExecuteTime": {
     "end_time": "2020-05-18T09:22:40.810295Z",
     "start_time": "2020-05-18T09:22:38.262279Z"
    }
   },
   "outputs": [],
   "source": [
    "# correct means that the settlement tx has exactly two output entities\n",
    "two_entities_stxs = []\n",
    "correct_settlement_entities = set()\n",
    "correct_nodes = set()\n",
    "for channel in channels.values:\n",
    "    funding_tx, out_index = channel[0].split(':')\n",
    "    node_1 = channel[1]\n",
    "    node_2 = channel[2]\n",
    "    funded_address = funding_txs[funding_tx]['outputs'][int(out_index)]['address']\n",
    "\n",
    "    settlement_txs = funded_address_settlement_txs[funded_address]\n",
    "    # if channel is closed and number of outputs == 2 and one node is mapped to one entity in the outputs\n",
    "    if settlement_txs: # it is always only one\n",
    "        for settlement_tx in settlement_txs:\n",
    "            # count entities\n",
    "            entities = set([settlement_address_entity[out['address']] for out in settlement_tx['outputs']])\n",
    "            if len(entities) == 2:\n",
    "                two_entities_stxs.append(settlement_tx)\n",
    "                correct_settlement_entities = correct_settlement_entities.union(entities)\n",
    "                correct_nodes.add(node_1)\n",
    "                correct_nodes.add(node_2)                "
   ]
  },
  {
   "cell_type": "code",
   "execution_count": 139,
   "metadata": {
    "ExecuteTime": {
     "end_time": "2020-05-18T09:22:40.814096Z",
     "start_time": "2020-05-18T09:22:40.811813Z"
    }
   },
   "outputs": [
    {
     "name": "stdout",
     "output_type": "stream",
     "text": [
      "Number of settlement txs with 2 output entities 11929\n"
     ]
    }
   ],
   "source": [
    "print('Number of settlement txs with 2 output entities', len(two_entities_stxs))"
   ]
  },
  {
   "cell_type": "code",
   "execution_count": 140,
   "metadata": {
    "ExecuteTime": {
     "end_time": "2020-05-18T09:22:40.823264Z",
     "start_time": "2020-05-18T09:22:40.816083Z"
    }
   },
   "outputs": [
    {
     "name": "stdout",
     "output_type": "stream",
     "text": [
      "Number of entities considering settlement txs with 2 output entities: 15895 -- 56.55 % of total\n"
     ]
    }
   ],
   "source": [
    "print('Number of entities considering settlement txs with 2 output entities:', len(correct_settlement_entities), '--', round(100*len(correct_settlement_entities)/len(set(settlement_address_entity.values())), 2),'% of total')"
   ]
  },
  {
   "cell_type": "code",
   "execution_count": 141,
   "metadata": {
    "ExecuteTime": {
     "end_time": "2020-05-18T09:22:40.827902Z",
     "start_time": "2020-05-18T09:22:40.824864Z"
    }
   },
   "outputs": [
    {
     "name": "stdout",
     "output_type": "stream",
     "text": [
      "Number of entities considering settlement txs with 2 output entities: 15895 -- 26.54 % of linked\n"
     ]
    }
   ],
   "source": [
    "print('Number of entities considering settlement txs with 2 output entities:', len(correct_settlement_entities), '--', round(100*len(heuristic_1b_entity_node)/len(correct_settlement_entities), 2),'% of linked')"
   ]
  },
  {
   "cell_type": "code",
   "execution_count": 142,
   "metadata": {
    "ExecuteTime": {
     "end_time": "2020-05-18T09:22:40.853924Z",
     "start_time": "2020-05-18T09:22:40.829606Z"
    }
   },
   "outputs": [],
   "source": [
    "n_entities_total = len(set([e for e in settlement_address_entity.values()]).union(set([e for e in funding_address_entity.values()])))"
   ]
  },
  {
   "cell_type": "code",
   "execution_count": 143,
   "metadata": {
    "ExecuteTime": {
     "end_time": "2020-05-18T09:22:40.862128Z",
     "start_time": "2020-05-18T09:22:40.856786Z"
    }
   },
   "outputs": [
    {
     "name": "stdout",
     "output_type": "stream",
     "text": [
      "Number of entities in total: 92544 -- 4.56 % of linked\n"
     ]
    }
   ],
   "source": [
    "print('Number of entities in total:', n_entities_total, '--', round(100*len(heuristic_1b_entity_node)/n_entities_total, 2),'% of linked')"
   ]
  },
  {
   "cell_type": "code",
   "execution_count": 144,
   "metadata": {
    "ExecuteTime": {
     "end_time": "2020-05-18T09:22:40.868601Z",
     "start_time": "2020-05-18T09:22:40.864800Z"
    }
   },
   "outputs": [
    {
     "name": "stdout",
     "output_type": "stream",
     "text": [
      "Number of nodes considering settlement txs with 2 output entities: 2953 -- 42.84 % linked\n"
     ]
    }
   ],
   "source": [
    "print('Number of nodes considering settlement txs with 2 output entities:', len(correct_nodes), '--', round(100*len(heuristic_1b_node_entity)/len(correct_nodes), 2),'% linked')"
   ]
  },
  {
   "cell_type": "code",
   "execution_count": 145,
   "metadata": {
    "ExecuteTime": {
     "end_time": "2020-05-18T09:22:40.874417Z",
     "start_time": "2020-05-18T09:22:40.871342Z"
    }
   },
   "outputs": [
    {
     "name": "stdout",
     "output_type": "stream",
     "text": [
      "Percentage of nodes linked overall: 15.3 %\n"
     ]
    }
   ],
   "source": [
    "print('Percentage of nodes linked overall:', round(100*len(heuristic_1b_node_entity)/len(node_channels), 2), '%')"
   ]
  },
  {
   "cell_type": "code",
   "execution_count": 146,
   "metadata": {
    "ExecuteTime": {
     "end_time": "2020-05-18T09:22:40.880936Z",
     "start_time": "2020-05-18T09:22:40.878591Z"
    }
   },
   "outputs": [],
   "source": [
    "# # many nodes have more than one entity\n",
    "# for n, e in method_0_node_entity.items():\n",
    "#     if len(e) != 1:\n",
    "#         print(len(e))"
   ]
  },
  {
   "cell_type": "code",
   "execution_count": 147,
   "metadata": {
    "ExecuteTime": {
     "end_time": "2020-05-18T09:22:40.888163Z",
     "start_time": "2020-05-18T09:22:40.883637Z"
    }
   },
   "outputs": [],
   "source": [
    "# # check if our linking has some inconsistencies: \n",
    "# # if a node has two entities that receive funds from the same settlement tx\n",
    "# # then something is weird\n",
    "# found = False\n",
    "# for n, e in heuristic_1b_node_entity.items():\n",
    "#     if not found:\n",
    "#         if len(e) > 2:\n",
    "#             for stx in settlement_txs:\n",
    "#                 output_entities = set([settlement_address_entity[out['address']] for out in stx['outputs']])\n",
    "#             # check intersection of entities with outputs of stxs\n",
    "#                 i = e.intersection(output_entities)\n",
    "#                 if len(i) > 1:\n",
    "#                     print(e)\n",
    "#                     print(len(i), end=' ')\n",
    "#                     found = True\n",
    "#                     break\n",
    "# # no inconsistencies"
   ]
  },
  {
   "cell_type": "code",
   "execution_count": 148,
   "metadata": {
    "ExecuteTime": {
     "end_time": "2020-05-18T09:22:40.894381Z",
     "start_time": "2020-05-18T09:22:40.890877Z"
    }
   },
   "outputs": [],
   "source": [
    "# for n, e in method_0_node_entity.items():\n",
    "#     if len(e) != 1:\n",
    "#         print(len(e), end=' ')"
   ]
  },
  {
   "cell_type": "code",
   "execution_count": null,
   "metadata": {},
   "outputs": [],
   "source": [
    "# check time overlap of other-nodes in the channels funded by a linked entity\n",
    "# if there is time overlap of all other-nodes, it is very unlikely that they are run by the same entity \n",
    "# because it would require the same wallet to run on multiple LN nodes simultaneously\n",
    "\n",
    "# what if we have 10 other-nodes and only two of them are not overlapping in time?\n",
    "# for our heuristic to be unreliable it must happen that all other-nodes do not overlap in time, \n",
    "# if just two of them overlap"
   ]
  },
  {
   "cell_type": "code",
   "execution_count": 247,
   "metadata": {
    "ExecuteTime": {
     "end_time": "2020-06-06T07:19:20.674228Z",
     "start_time": "2020-06-06T07:19:20.661871Z"
    }
   },
   "outputs": [],
   "source": [
    "heuristic_2_entity_node_conf_star = read_json(results_folder + 'heuristic_2_entity_node_conf_star.json', double_int_key=True)\n",
    "heuristic_2_node_entity_conf_star = read_json(results_folder + 'heuristic_2_node_entity_conf_star.json', True)"
   ]
  },
  {
   "cell_type": "code",
   "execution_count": 237,
   "metadata": {
    "ExecuteTime": {
     "end_time": "2020-06-05T07:27:11.841045Z",
     "start_time": "2020-06-05T07:27:11.830952Z"
    }
   },
   "outputs": [],
   "source": [
    "heuristic_2_entity_node_conf_none = read_json(results_folder + 'heuristic_2_entity_node_conf_none.json', double_int_key=True)\n",
    "heuristic_2_node_entity_conf_none = read_json(results_folder + 'heuristic_2_node_entity_conf_none.json', True)"
   ]
  },
  {
   "cell_type": "code",
   "execution_count": 249,
   "metadata": {
    "ExecuteTime": {
     "end_time": "2020-06-06T07:48:05.718920Z",
     "start_time": "2020-06-06T07:48:05.689476Z"
    }
   },
   "outputs": [],
   "source": [
    "heuristic_2_entity_node_conf_all = read_json(results_folder + 'heuristic_2_entity_node_conf.json', double_int_key=True)\n",
    "heuristic_2_node_entity_conf_all = read_json(results_folder + 'heuristic_2_node_entity_conf.json', True)"
   ]
  },
  {
   "cell_type": "code",
   "execution_count": 239,
   "metadata": {
    "ExecuteTime": {
     "end_time": "2020-06-05T07:27:12.573420Z",
     "start_time": "2020-06-05T07:27:12.563042Z"
    }
   },
   "outputs": [],
   "source": [
    "heuristic_1_entity_node_none = read_json(results_folder + 'heuristic_1_entity_node_none.json', True)\n",
    "heuristic_1_node_entity_none = read_json(results_folder + 'heuristic_1_node_entity_none.json')"
   ]
  },
  {
   "cell_type": "code",
   "execution_count": 240,
   "metadata": {
    "ExecuteTime": {
     "end_time": "2020-06-05T07:27:13.120614Z",
     "start_time": "2020-06-05T07:27:13.110518Z"
    }
   },
   "outputs": [],
   "source": [
    "heuristic_1_entity_node_star = read_json(results_folder + 'heuristic_1_entity_node_star.json', True)\n",
    "heuristic_1_node_entity_star = read_json(results_folder + 'heuristic_1_node_entity_star.json')"
   ]
  },
  {
   "cell_type": "code",
   "execution_count": 250,
   "metadata": {
    "ExecuteTime": {
     "end_time": "2020-06-06T07:48:07.911545Z",
     "start_time": "2020-06-06T07:48:07.898746Z"
    }
   },
   "outputs": [],
   "source": [
    "heuristic_1_entity_node_all = read_json(results_folder + 'heuristic_1_entity_node.json', True)\n",
    "heuristic_1_node_entity_all = read_json(results_folder + 'heuristic_1_node_entity.json')"
   ]
  },
  {
   "cell_type": "code",
   "execution_count": 264,
   "metadata": {
    "ExecuteTime": {
     "end_time": "2020-06-06T07:54:47.551689Z",
     "start_time": "2020-06-06T07:54:47.538512Z"
    }
   },
   "outputs": [
    {
     "name": "stdout",
     "output_type": "stream",
     "text": [
      "5018 matching entities out of 5018 entities in common\n"
     ]
    }
   ],
   "source": [
    "conf = 2\n",
    "entities_heuristics_1_2 = set(heuristic_1_entity_node_all.keys()).intersection(set(heuristic_2_entity_node_conf_all[conf].keys()))\n",
    "\n",
    "same = 0\n",
    "for e in entities_heuristics_1_2:\n",
    "    if set(heuristic_1_entity_node_all[e]) == set(heuristic_2_entity_node_conf_all[conf][e]):\n",
    "        same += 1\n",
    "print(same, 'matching entities out of', len(entities_heuristics_1_2),\n",
    "      'entities in common')\n"
   ]
  },
  {
   "cell_type": "code",
   "execution_count": 257,
   "metadata": {
    "ExecuteTime": {
     "end_time": "2020-06-06T07:50:43.609085Z",
     "start_time": "2020-06-06T07:50:43.603813Z"
    }
   },
   "outputs": [
    {
     "data": {
      "text/plain": [
       "int"
      ]
     },
     "execution_count": 257,
     "metadata": {},
     "output_type": "execute_result"
    }
   ],
   "source": [
    "type(list(heuristic_1_entity_node_all.keys())[0])"
   ]
  },
  {
   "cell_type": "code",
   "execution_count": 261,
   "metadata": {
    "ExecuteTime": {
     "end_time": "2020-06-06T07:52:01.761250Z",
     "start_time": "2020-06-06T07:52:01.757232Z"
    }
   },
   "outputs": [
    {
     "data": {
      "text/plain": [
       "['03e815367711542257b2f84413be353ad52f5a50580ca47fc9ba8efbb7bfb604e4']"
      ]
     },
     "execution_count": 261,
     "metadata": {},
     "output_type": "execute_result"
    }
   ],
   "source": [
    "heuristic_1_entity_node_all[list(entities_heuristics_1_2)[0]]"
   ]
  },
  {
   "cell_type": "code",
   "execution_count": 263,
   "metadata": {
    "ExecuteTime": {
     "end_time": "2020-06-06T07:53:50.307183Z",
     "start_time": "2020-06-06T07:53:50.302126Z"
    }
   },
   "outputs": [
    {
     "data": {
      "text/plain": [
       "['03e815367711542257b2f84413be353ad52f5a50580ca47fc9ba8efbb7bfb604e4']"
      ]
     },
     "execution_count": 263,
     "metadata": {},
     "output_type": "execute_result"
    }
   ],
   "source": [
    "heuristic_2_entity_node_conf_all[conf][list(entities_heuristics_1_2)[0]]"
   ]
  },
  {
   "cell_type": "code",
   "execution_count": 258,
   "metadata": {
    "ExecuteTime": {
     "end_time": "2020-06-06T07:50:57.697723Z",
     "start_time": "2020-06-06T07:50:57.693620Z"
    }
   },
   "outputs": [
    {
     "data": {
      "text/plain": [
       "int"
      ]
     },
     "execution_count": 258,
     "metadata": {},
     "output_type": "execute_result"
    }
   ],
   "source": [
    "type(list(heuristic_2_entity_node_conf_all[conf].keys())[0])"
   ]
  },
  {
   "cell_type": "code",
   "execution_count": 242,
   "metadata": {
    "ExecuteTime": {
     "end_time": "2020-06-05T07:27:15.934795Z",
     "start_time": "2020-06-05T07:27:15.930710Z"
    }
   },
   "outputs": [
    {
     "data": {
      "text/plain": [
       "4768"
      ]
     },
     "execution_count": 242,
     "metadata": {},
     "output_type": "execute_result"
    }
   ],
   "source": [
    "len(heuristic_2_entity_node_conf_star[2])"
   ]
  },
  {
   "cell_type": "code",
   "execution_count": 248,
   "metadata": {
    "ExecuteTime": {
     "end_time": "2020-06-06T07:19:23.048949Z",
     "start_time": "2020-06-06T07:19:23.041045Z"
    }
   },
   "outputs": [
    {
     "name": "stdout",
     "output_type": "stream",
     "text": [
      "-13 ['03a8dfd2a1c7fb5bf0f76fd9f2b02252c095ddfce0af0d238d4b20ba8491bee6e1']\n",
      "-23 ['02c12b5459cf107ee0440cae41902f1189db50fa003a077f3a6fbe6b5760218695']\n",
      "-10 ['020d3d5995a973c878e3f6e5f59da54078304c537f981d7dcef73367ecbea0e90e']\n",
      "-11 ['02bf6b396a501096d3695aa74a234a4f267e595db29838445d6a98a8a744a6853d']\n",
      "-16 ['03a5c60b7e31a302b1700913cdee4979710478381dd620852c2e8b010354f533dc']\n",
      "-20 ['03bcd9870e11e57fd6d92d4ae20f23a221d741fd0b8ba003039eb44ca1f78dd70d']\n",
      "-18 ['0242a4ae0c5bef18048fbecf995094b74bfb0f7391418d71ed394784373f41e4f3']\n",
      "-8 ['02529db69fd2ebd3126fb66fafa234fc3544477a23d509fe93ed229bb0e92e4fb8']\n",
      "-7 ['02529db69fd2ebd3126fb66fafa234fc3544477a23d509fe93ed229bb0e92e4fb8']\n",
      "-14 ['027075dbf03f6791a495ac37562842664d7b92480bbf139d3e0f9fe09279be5b0f']\n",
      "-5 ['0208253298ed55d449e496a79022c98055045395aedb74acd9b8c566ce517ed0e0']\n",
      "-19 ['0278b344b2d05ebd7439303f03c3baa5b913303947144818198c38515af7972e84']\n",
      "-3 ['03f9ceb115a119594b4688ceed35feb80f33a3dd0f5cf688a7493c1a7217633931']\n",
      "-29 ['024d2387409269f3b79e2708bb39b895c9f4b6a8322153af54eba487d4993bf60f']\n",
      "-15 ['03790e10c296b12535baf03738765163dadf91ae1f48a6a6d074a6cf910d26d8c4']\n",
      "-32 ['0272d72c958cabb909caac265519286bdf2d036d1f019a016cb202e8ef50f6d7a2']\n",
      "-30 ['0292052c3ab594f7b5e997099f66e8ed51b4342126dcb5c3caa76b38adb725dcdb']\n",
      "-25 ['02586a839d1b928b16164555377193f34e88aec961acf50c1b392bcab9029b1a21']\n",
      "-28 ['03c4cfaf8373abf38ee4eb8ea4b064d140d29fbe20ec583e624f2ed0fa78154546']\n",
      "-17 ['0335658733a7373edcf434679b014f83db9ca2903082231abc00cb04f001bf24e1']\n",
      "-22 ['0332052748755d74b3395b91eaea78b53bd64b55eb031ccb6a7ae23ac445bb6af7']\n",
      "-1 ['02272bd12e59324d0f2b231fb88f134b57eb26dd100d2cc007df50f18aa12455a2']\n",
      "-31 ['0292052c3ab594f7b5e997099f66e8ed51b4342126dcb5c3caa76b38adb725dcdb']\n",
      "-6 ['0308525b40384ef5b8729fcae1615c4e206c1b38e97f72e226a839167fb4336438']\n",
      "-2 ['03da1c27ca77872ac5b3e568af30673e599a47a5e4497f85c7b5da42048807b3ed']\n",
      "-21 ['0242a4ae0c5bef18048fbecf995094b74bfb0f7391418d71ed394784373f41e4f3']\n"
     ]
    }
   ],
   "source": [
    "for e, ns in heuristic_2_entity_node_conf_star[2].items():\n",
    "    if e < 0:\n",
    "        print(e, ns)"
   ]
  },
  {
   "cell_type": "code",
   "execution_count": 244,
   "metadata": {
    "ExecuteTime": {
     "end_time": "2020-06-05T07:29:23.179447Z",
     "start_time": "2020-06-05T07:29:23.172302Z"
    }
   },
   "outputs": [
    {
     "data": {
      "text/plain": [
       "26"
      ]
     },
     "execution_count": 244,
     "metadata": {},
     "output_type": "execute_result"
    }
   ],
   "source": [
    "len([e for e in heuristic_2_entity_node_conf_star[2] if e < 0])"
   ]
  },
  {
   "cell_type": "code",
   "execution_count": 112,
   "metadata": {
    "ExecuteTime": {
     "end_time": "2020-06-01T17:20:58.536089Z",
     "start_time": "2020-06-01T17:20:58.530452Z"
    }
   },
   "outputs": [
    {
     "data": {
      "text/plain": [
       "5068"
      ]
     },
     "execution_count": 112,
     "metadata": {},
     "output_type": "execute_result"
    }
   ],
   "source": [
    "len([e for e in heuristic_2_entity_node_conf_all[2] if e < 0])"
   ]
  },
  {
   "cell_type": "code",
   "execution_count": 113,
   "metadata": {
    "ExecuteTime": {
     "end_time": "2020-06-01T17:21:02.345760Z",
     "start_time": "2020-06-01T17:21:02.341040Z"
    }
   },
   "outputs": [
    {
     "data": {
      "text/plain": [
       "252"
      ]
     },
     "execution_count": 113,
     "metadata": {},
     "output_type": "execute_result"
    }
   ],
   "source": [
    "len([e for e in heuristic_1_entity_node_all if e < 0])"
   ]
  },
  {
   "cell_type": "code",
   "execution_count": 33,
   "metadata": {
    "ExecuteTime": {
     "end_time": "2020-06-08T13:12:18.525909Z",
     "start_time": "2020-06-08T13:12:18.319709Z"
    }
   },
   "outputs": [
    {
     "ename": "NameError",
     "evalue": "name 'stars_df' is not defined",
     "output_type": "error",
     "traceback": [
      "\u001b[0;31m---------------------------------------------------------------------------\u001b[0m",
      "\u001b[0;31mNameError\u001b[0m                                 Traceback (most recent call last)",
      "\u001b[0;32m<ipython-input-33-bace973e771d>\u001b[0m in \u001b[0;36m<module>\u001b[0;34m()\u001b[0m\n\u001b[1;32m      1\u001b[0m \u001b[0mentity_star\u001b[0m \u001b[0;34m=\u001b[0m \u001b[0mdict\u001b[0m\u001b[0;34m(\u001b[0m\u001b[0;34m)\u001b[0m\u001b[0;34m\u001b[0m\u001b[0;34m\u001b[0m\u001b[0m\n\u001b[1;32m      2\u001b[0m \u001b[0mstar_entities\u001b[0m \u001b[0;34m=\u001b[0m \u001b[0mdict\u001b[0m\u001b[0;34m(\u001b[0m\u001b[0;34m)\u001b[0m\u001b[0;34m\u001b[0m\u001b[0;34m\u001b[0m\u001b[0m\n\u001b[0;32m----> 3\u001b[0;31m \u001b[0;32mfor\u001b[0m \u001b[0me\u001b[0m \u001b[0;32min\u001b[0m \u001b[0mstars_df\u001b[0m\u001b[0;34m.\u001b[0m\u001b[0mvalues\u001b[0m\u001b[0;34m:\u001b[0m\u001b[0;34m\u001b[0m\u001b[0;34m\u001b[0m\u001b[0m\n\u001b[0m\u001b[1;32m      4\u001b[0m     \u001b[0mcluster\u001b[0m\u001b[0;34m,\u001b[0m \u001b[0mentity\u001b[0m \u001b[0;34m=\u001b[0m \u001b[0me\u001b[0m\u001b[0;34m\u001b[0m\u001b[0;34m\u001b[0m\u001b[0m\n\u001b[1;32m      5\u001b[0m     \u001b[0mcluster\u001b[0m \u001b[0;34m=\u001b[0m \u001b[0mint\u001b[0m\u001b[0;34m(\u001b[0m\u001b[0mcluster\u001b[0m\u001b[0;34m)\u001b[0m\u001b[0;34m\u001b[0m\u001b[0;34m\u001b[0m\u001b[0m\n",
      "\u001b[0;31mNameError\u001b[0m: name 'stars_df' is not defined"
     ]
    }
   ],
   "source": [
    "entity_star = dict()\n",
    "star_entities = dict()\n",
    "for e in stars_df.values:\n",
    "    cluster, entity = e\n",
    "    cluster = int(cluster)\n",
    "    entity = int(entity)\n",
    "    if cluster not in star_entities:\n",
    "        star_entities[cluster] = []\n",
    "    star_entities[cluster].append(entity)\n",
    "    entity_star[entity] = cluster"
   ]
  },
  {
   "cell_type": "code",
   "execution_count": 155,
   "metadata": {
    "ExecuteTime": {
     "end_time": "2020-06-01T19:35:02.185730Z",
     "start_time": "2020-06-01T19:35:02.181758Z"
    }
   },
   "outputs": [
    {
     "data": {
      "text/plain": [
       "0"
      ]
     },
     "execution_count": 155,
     "metadata": {},
     "output_type": "execute_result"
    }
   ],
   "source": [
    "# check if there is intersection between the set of linked entities with vanilla linking\n",
    "# and the entities that can be mapped to stars\n",
    "len(set(heuristic_1_entity_node_none.keys()).intersection(set(entity_star.keys())))"
   ]
  },
  {
   "cell_type": "code",
   "execution_count": 159,
   "metadata": {
    "ExecuteTime": {
     "end_time": "2020-06-01T19:36:06.238050Z",
     "start_time": "2020-06-01T19:36:06.232442Z"
    }
   },
   "outputs": [
    {
     "data": {
      "text/plain": [
       "0"
      ]
     },
     "execution_count": 159,
     "metadata": {},
     "output_type": "execute_result"
    }
   ],
   "source": [
    "# check if there is intersection between the set of linked entities with vanilla linking\n",
    "# and the entities that can be mapped to stars\n",
    "len(set(heuristic_2_entity_node_conf_none[2].keys()).intersection(set(entity_star.keys())))"
   ]
  },
  {
   "cell_type": "code",
   "execution_count": 163,
   "metadata": {
    "ExecuteTime": {
     "end_time": "2020-06-01T19:55:51.836615Z",
     "start_time": "2020-06-01T19:55:51.831960Z"
    }
   },
   "outputs": [
    {
     "data": {
      "text/plain": [
       "{569097754, 569097755, 569097756, 569097757, 569097758}"
      ]
     },
     "execution_count": 163,
     "metadata": {},
     "output_type": "execute_result"
    }
   ],
   "source": [
    "# check if there is intersection between the set of linked entities with vanilla linking\n",
    "# and the entities that can be mapped to stars\n",
    "set(heuristic_2_entity_node_conf_all[2].keys()).intersection(set(entity_star.keys()))"
   ]
  },
  {
   "cell_type": "code",
   "execution_count": 167,
   "metadata": {
    "ExecuteTime": {
     "end_time": "2020-06-01T19:57:53.356005Z",
     "start_time": "2020-06-01T19:57:53.351995Z"
    }
   },
   "outputs": [
    {
     "name": "stdout",
     "output_type": "stream",
     "text": [
      "['03369c3cddc1e26b8bbd1930b77797e2953336f40b029677b7558edca38ee48211'] 569097754\n",
      "{'011-lnd-gar-nodl-it'}\n",
      "['0362475f2ecf2f4cd9deb1bd6f0474ac7b133b7baebce8cc7354239b329e75f26d'] 569097755\n",
      "{'013-lnd-gar-nodl-it'}\n",
      "['03456853c17774d597493875deebf8b7b6a781ca7a0d0b83bfaf862070f1ba7322'] 569097756\n",
      "{'014-lnd-gar-nodl-it'}\n",
      "['02771ad6626d372815607dd6a0e271f70e390be4d17010ac62ed249c4383a410b5'] 569097757\n",
      "{'012-lnd-gar-nodl-it'}\n",
      "['03820d1537d31b122f3782048635603e1973d94f8f6536ddb3a6c2f666a5315512'] 569097758\n",
      "{'015-lnd-gar-nodl-it'}\n"
     ]
    }
   ],
   "source": [
    "for e in set(heuristic_2_entity_node_conf_all[2].keys()).intersection(set(entity_star.keys())):\n",
    "    ns = heuristic_2_entity_node_conf_all[2][e]\n",
    "    print(ns, e)\n",
    "    for n in ns:\n",
    "        if n in node_alias:\n",
    "            print(node_alias[n])\n",
    "    \n",
    "    "
   ]
  },
  {
   "cell_type": "code",
   "execution_count": 197,
   "metadata": {
    "ExecuteTime": {
     "end_time": "2020-06-02T08:42:07.625178Z",
     "start_time": "2020-06-02T08:42:07.621023Z"
    }
   },
   "outputs": [],
   "source": [
    "a_6 = 'bc1qrytp7ks956gwavsk0ak6evgxeqv536c6wz4tml' # 006-lnd-gar-nodl-it\n",
    "a_11 = 'bc1q8zgtzxdmx3a9sas3g7f3phx8lftg9s7dgcs3qn' # 011-lnd-gar-nodl-it"
   ]
  },
  {
   "cell_type": "code",
   "execution_count": 202,
   "metadata": {
    "ExecuteTime": {
     "end_time": "2020-06-02T08:51:31.882080Z",
     "start_time": "2020-06-02T08:51:31.876674Z"
    }
   },
   "outputs": [
    {
     "data": {
      "text/plain": [
       "True"
      ]
     },
     "execution_count": 202,
     "metadata": {},
     "output_type": "execute_result"
    }
   ],
   "source": [
    "568840299 in funding_address_entity.values()"
   ]
  },
  {
   "cell_type": "code",
   "execution_count": 198,
   "metadata": {
    "ExecuteTime": {
     "end_time": "2020-06-02T08:42:10.504300Z",
     "start_time": "2020-06-02T08:42:10.501067Z"
    }
   },
   "outputs": [
    {
     "data": {
      "text/plain": [
       "568840299"
      ]
     },
     "execution_count": 198,
     "metadata": {},
     "output_type": "execute_result"
    }
   ],
   "source": [
    "funding_address_entity[a_6]"
   ]
  },
  {
   "cell_type": "code",
   "execution_count": 199,
   "metadata": {
    "ExecuteTime": {
     "end_time": "2020-06-02T08:42:13.152154Z",
     "start_time": "2020-06-02T08:42:13.148898Z"
    }
   },
   "outputs": [
    {
     "data": {
      "text/plain": [
       "569097754"
      ]
     },
     "execution_count": 199,
     "metadata": {},
     "output_type": "execute_result"
    }
   ],
   "source": [
    "funding_address_entity[a_11]"
   ]
  },
  {
   "cell_type": "code",
   "execution_count": 200,
   "metadata": {
    "ExecuteTime": {
     "end_time": "2020-06-02T08:42:18.706744Z",
     "start_time": "2020-06-02T08:42:18.702868Z"
    }
   },
   "outputs": [
    {
     "data": {
      "text/plain": [
       "False"
      ]
     },
     "execution_count": 200,
     "metadata": {},
     "output_type": "execute_result"
    }
   ],
   "source": [
    "funding_address_entity[a_6] in stars_df.entity.values"
   ]
  },
  {
   "cell_type": "code",
   "execution_count": 201,
   "metadata": {
    "ExecuteTime": {
     "end_time": "2020-06-02T08:42:22.999498Z",
     "start_time": "2020-06-02T08:42:22.993310Z"
    }
   },
   "outputs": [
    {
     "data": {
      "text/plain": [
       "True"
      ]
     },
     "execution_count": 201,
     "metadata": {},
     "output_type": "execute_result"
    }
   ],
   "source": [
    "funding_address_entity[a_11] in stars_df.entity.values"
   ]
  },
  {
   "cell_type": "code",
   "execution_count": 181,
   "metadata": {
    "ExecuteTime": {
     "end_time": "2020-06-02T08:28:49.453686Z",
     "start_time": "2020-06-02T08:28:49.450312Z"
    }
   },
   "outputs": [
    {
     "data": {
      "text/plain": [
       "False"
      ]
     },
     "execution_count": 181,
     "metadata": {},
     "output_type": "execute_result"
    }
   ],
   "source": [
    "funding_address_entity[a] in entity_star"
   ]
  },
  {
   "cell_type": "code",
   "execution_count": 175,
   "metadata": {
    "ExecuteTime": {
     "end_time": "2020-06-02T08:27:21.614218Z",
     "start_time": "2020-06-02T08:27:21.609515Z"
    }
   },
   "outputs": [
    {
     "data": {
      "text/plain": [
       "True"
      ]
     },
     "execution_count": 175,
     "metadata": {},
     "output_type": "execute_result"
    }
   ],
   "source": [
    "funding_address_entity[a] in heuristic_2_entity_node_conf_all[2]"
   ]
  },
  {
   "cell_type": "code",
   "execution_count": 180,
   "metadata": {
    "ExecuteTime": {
     "end_time": "2020-06-02T08:28:20.525213Z",
     "start_time": "2020-06-02T08:28:20.521454Z"
    }
   },
   "outputs": [
    {
     "data": {
      "text/plain": [
       "'031ec92368cc9ae9dd1e204c57313aa7c30aa079b195e94933c418e503bfabbe8d'"
      ]
     },
     "execution_count": 180,
     "metadata": {},
     "output_type": "execute_result"
    }
   ],
   "source": [
    "heuristic_2_entity_node_conf_all[2][funding_address_entity[a]][0] "
   ]
  },
  {
   "cell_type": "code",
   "execution_count": 161,
   "metadata": {
    "ExecuteTime": {
     "end_time": "2020-06-01T19:36:41.335925Z",
     "start_time": "2020-06-01T19:36:41.331011Z"
    }
   },
   "outputs": [
    {
     "data": {
      "text/plain": [
       "4768"
      ]
     },
     "execution_count": 161,
     "metadata": {},
     "output_type": "execute_result"
    }
   ],
   "source": [
    "len(heuristic_2_entity_node_conf_none[2])"
   ]
  },
  {
   "cell_type": "code",
   "execution_count": 160,
   "metadata": {
    "ExecuteTime": {
     "end_time": "2020-06-01T19:36:16.769011Z",
     "start_time": "2020-06-01T19:36:16.765538Z"
    }
   },
   "outputs": [
    {
     "data": {
      "text/plain": [
       "int"
      ]
     },
     "execution_count": 160,
     "metadata": {},
     "output_type": "execute_result"
    }
   ],
   "source": [
    "type(list(heuristic_2_entity_node_conf_none[2].keys())[0])"
   ]
  },
  {
   "cell_type": "code",
   "execution_count": null,
   "metadata": {},
   "outputs": [],
   "source": []
  },
  {
   "cell_type": "code",
   "execution_count": 148,
   "metadata": {
    "ExecuteTime": {
     "end_time": "2020-06-01T18:38:12.859416Z",
     "start_time": "2020-06-01T18:38:12.855122Z"
    }
   },
   "outputs": [
    {
     "data": {
      "text/plain": [
       "int"
      ]
     },
     "execution_count": 148,
     "metadata": {},
     "output_type": "execute_result"
    }
   ],
   "source": [
    "type(list(heuristic_1_entity_node_none.keys())[0])"
   ]
  },
  {
   "cell_type": "code",
   "execution_count": 149,
   "metadata": {
    "ExecuteTime": {
     "end_time": "2020-06-01T18:38:13.599120Z",
     "start_time": "2020-06-01T18:38:13.595529Z"
    }
   },
   "outputs": [
    {
     "data": {
      "text/plain": [
       "int"
      ]
     },
     "execution_count": 149,
     "metadata": {},
     "output_type": "execute_result"
    }
   ],
   "source": [
    "type(list(entity_star.keys())[0])"
   ]
  },
  {
   "cell_type": "code",
   "execution_count": null,
   "metadata": {},
   "outputs": [],
   "source": [
    "# no stars :("
   ]
  },
  {
   "cell_type": "code",
   "execution_count": 65,
   "metadata": {
    "ExecuteTime": {
     "end_time": "2020-06-01T09:25:54.555562Z",
     "start_time": "2020-06-01T09:25:54.371981Z"
    }
   },
   "outputs": [],
   "source": [
    "heuristic_2_entity_node_conf = read_json(results_folder + 'heuristic_2_entity_node_conf.json', double_int_key=True)\n",
    "heuristic_2_node_entity_conf = read_json(results_folder + 'heuristic_2_node_entity_conf.json', True)\n",
    "funding_entity_channels_nodes = read_json(results_folder + 'funding_entity_channels_nodes.json', True)"
   ]
  },
  {
   "cell_type": "code",
   "execution_count": 64,
   "metadata": {
    "ExecuteTime": {
     "end_time": "2020-06-01T09:25:22.240927Z",
     "start_time": "2020-06-01T09:25:22.235433Z"
    }
   },
   "outputs": [],
   "source": [
    "def read_json(path, int_key=False, double_int_key=False):\n",
    "    with open(path, 'r') as fp:\n",
    "        js = json.load(fp)\n",
    "    if int_key:\n",
    "        return {int(k): v for k, v in js.items()}\n",
    "    if double_int_key:\n",
    "        return {int(conf): {int(e): ns for e, ns in mapping.items()} for conf, mapping in js.items()}\n",
    "    return js"
   ]
  },
  {
   "cell_type": "code",
   "execution_count": null,
   "metadata": {},
   "outputs": [],
   "source": []
  },
  {
   "cell_type": "code",
   "execution_count": 66,
   "metadata": {
    "ExecuteTime": {
     "end_time": "2020-06-01T09:26:02.958187Z",
     "start_time": "2020-06-01T09:26:02.926748Z"
    }
   },
   "outputs": [],
   "source": [
    "conf = 2\n",
    "entity_nodes_to_plot = dict()  # entity-other nodes in channels\n",
    "# for each entity-node pair:\n",
    "for entity, nodes in heuristic_2_entity_node_conf[conf].items():\n",
    "    # if it is a funding entity        \n",
    "    if entity in funding_entity_channels_nodes:\n",
    "        entity_nodes_to_plot[entity] = set()\n",
    "        # plot time overlap of other nodes in channels\n",
    "        for channel in funding_entity_channels_nodes[entity]:\n",
    "            for other_node in funding_entity_channels_nodes[entity][channel]:\n",
    "                if other_node not in nodes:\n",
    "                    # add it to list to check\n",
    "                    entity_nodes_to_plot[entity].add(other_node)\n",
    "                # else is linked to entity\n",
    "    # else, we should check what happens here"
   ]
  },
  {
   "cell_type": "code",
   "execution_count": 78,
   "metadata": {
    "ExecuteTime": {
     "end_time": "2020-06-01T09:43:00.329618Z",
     "start_time": "2020-06-01T09:43:00.325024Z"
    }
   },
   "outputs": [
    {
     "data": {
      "text/plain": [
       "{'1f89b1cb00fd433c682e9ed93b8c64d5f6f2db556c4fc209cd8f354379c14f57:0': ['029707c0881747e9a359eddc62a50c71e7640f89aa8aa3992b8c809dc32ae675f9',\n",
       "  '02b0172bb38617fa3afdb69664468b492d5a21062a4fa8b47284b0cc320e6e7420']}"
      ]
     },
     "execution_count": 78,
     "metadata": {},
     "output_type": "execute_result"
    }
   ],
   "source": [
    "funding_entity_channels_nodes[605821785] # example of linked funding entity but funding no more than one channel"
   ]
  },
  {
   "cell_type": "code",
   "execution_count": 95,
   "metadata": {
    "ExecuteTime": {
     "end_time": "2020-06-01T13:44:15.809732Z",
     "start_time": "2020-06-01T13:44:15.792237Z"
    }
   },
   "outputs": [
    {
     "name": "stdout",
     "output_type": "stream",
     "text": [
      "0\n"
     ]
    }
   ],
   "source": [
    "i = 0\n",
    "entities_without_overlap = set()\n",
    "for e, ns in entity_nodes_to_plot.items():\n",
    "    if len(ns) > 1:\n",
    "        overlap = False\n",
    "        # find if there is at least one time overlap among other-nodes\n",
    "        combs = list(itertools.combinations(ns, 2))\n",
    "        # for each possible pair\n",
    "        for comb in combs:\n",
    "            n1, n2 = comb\n",
    "            # if the max of one is greater than the min of the other\n",
    "            # or the max of the other is greater than the min of one\n",
    "            if node_openings_closings[n1]['last_activity'] > node_openings_closings[n2]['first_activity'] or node_openings_closings[n2]['last_activity'] > node_openings_closings[n1]['first_activity']:\n",
    "                # we have overlap\n",
    "                overlap = True\n",
    "                break\n",
    "        if not overlap:\n",
    "            entities_without_overlap.add(e)\n",
    "#         print(e)\n",
    "#         plot_nodes_time_overlap(ns)\n",
    "print(len(entities_without_overlap))"
   ]
  },
  {
   "cell_type": "code",
   "execution_count": 93,
   "metadata": {
    "ExecuteTime": {
     "end_time": "2020-06-01T10:47:06.524538Z",
     "start_time": "2020-06-01T10:47:06.521130Z"
    }
   },
   "outputs": [],
   "source": [
    "# i = 0\n",
    "# for e, ns in entity_nodes_to_plot.items():\n",
    "#     i += 1\n",
    "#     if i > 10:\n",
    "#         break\n",
    "#     if len(ns) > 1:\n",
    "#         plot_nodes_time_overlap(ns)"
   ]
  },
  {
   "cell_type": "code",
   "execution_count": 81,
   "metadata": {
    "ExecuteTime": {
     "end_time": "2020-06-01T09:46:16.088805Z",
     "start_time": "2020-06-01T09:46:16.086282Z"
    }
   },
   "outputs": [],
   "source": [
    "import itertools"
   ]
  },
  {
   "cell_type": "code",
   "execution_count": 85,
   "metadata": {
    "ExecuteTime": {
     "end_time": "2020-06-01T10:38:54.951950Z",
     "start_time": "2020-06-01T10:38:54.948130Z"
    }
   },
   "outputs": [
    {
     "data": {
      "text/plain": [
       "[('a', 'c')]"
      ]
     },
     "execution_count": 85,
     "metadata": {},
     "output_type": "execute_result"
    }
   ],
   "source": [
    "list(itertools.combinations(['a', 'c'], 2))"
   ]
  },
  {
   "cell_type": "code",
   "execution_count": 80,
   "metadata": {
    "ExecuteTime": {
     "end_time": "2020-06-01T09:43:14.652804Z",
     "start_time": "2020-06-01T09:43:14.647418Z"
    }
   },
   "outputs": [
    {
     "data": {
      "text/plain": [
       "5331"
      ]
     },
     "execution_count": 80,
     "metadata": {},
     "output_type": "execute_result"
    }
   ],
   "source": [
    "i"
   ]
  },
  {
   "cell_type": "code",
   "execution_count": 40,
   "metadata": {
    "ExecuteTime": {
     "end_time": "2020-06-01T09:12:34.857468Z",
     "start_time": "2020-06-01T09:12:34.851201Z"
    }
   },
   "outputs": [],
   "source": [
    "def plot_nodes_time_overlap(nodes):\n",
    "    plt.figure(figsize=(10,5))\n",
    "    i = 0\n",
    "    for node in nodes:\n",
    "        x = [node_openings_closings[node]['first_activity'], node_openings_closings[node]['last_activity']]\n",
    "        y = [i, i]\n",
    "        plt.plot(x, y, '-x', label=node[:5] ,linewidth=3)\n",
    "        i += 1\n",
    "    ax = plt.gca()\n",
    "    plt.xlabel('Time')\n",
    "    plt.ylabel('Nodes')\n",
    "    plt.title('First and last on-chain activities of nodes')\n",
    "    ax.tick_params(axis='x',labelbottom='off')\n",
    "    ax.tick_params(axis='y',labelleft='off')\n",
    "    plt.legend()\n",
    "    plt.grid()\n",
    "    plt.show()"
   ]
  },
  {
   "cell_type": "code",
   "execution_count": 22,
   "metadata": {
    "ExecuteTime": {
     "end_time": "2020-06-08T06:50:55.711316Z",
     "start_time": "2020-06-08T06:50:55.692481Z"
    }
   },
   "outputs": [],
   "source": [
    "heuristic_2_entity_node_conf_all = read_json(results_folder + 'relaxed_filtered_heuristic_2_entity_node_conf_all.json', double_int_key=True)\n",
    "heuristic_2_node_entity_conf_all = read_json(results_folder + 'relaxed_filtered_heuristic_2_node_entity_conf_all.json', True)"
   ]
  },
  {
   "cell_type": "code",
   "execution_count": 20,
   "metadata": {
    "ExecuteTime": {
     "end_time": "2020-06-07T11:23:13.197118Z",
     "start_time": "2020-06-07T11:23:13.181600Z"
    }
   },
   "outputs": [],
   "source": [
    "heuristic_2_entity_node_conf_all = read_json(results_folder + 'filtered_heuristic_2_entity_node_conf_all.json', double_int_key=True)\n",
    "heuristic_2_node_entity_conf_all = read_json(results_folder + 'filtered_heuristic_2_node_entity_conf_all.json', True)"
   ]
  },
  {
   "cell_type": "code",
   "execution_count": 21,
   "metadata": {
    "ExecuteTime": {
     "end_time": "2020-06-07T11:23:19.655335Z",
     "start_time": "2020-06-07T11:23:19.650377Z"
    }
   },
   "outputs": [
    {
     "name": "stdout",
     "output_type": "stream",
     "text": [
      "component,node,alias\n",
      "-5252,02ce27,KoalaBlitz\n",
      "-5252,024655,satoshis.place\n",
      "-5199,0326d0,OKC-Thunder\n",
      "-5199,0380d7,LN-MasterNode\n",
      "585475938,0229cf,BOOYAH\n",
      "-5141,026c7d,WalletOfSatoshi.com_OLD|LivingRoomOfSatoshi.com_LND_1\n",
      "-5141,026b10,LivingRoomofSatoshi.com\n",
      "-5207,02949f,rekkt\n",
      "-5207,023071,raspirekt\n"
     ]
    }
   ],
   "source": [
    "print('component,node,alias')\n",
    "for e, ns in heuristic_2_entity_node_conf_all[2].items():\n",
    "    if len(ns) > 1:\n",
    "        for n in ns:\n",
    "            if n in node_alias:\n",
    "                print(str(e) + ',' + n[:6] + ',' + list(node_alias[n])[0])"
   ]
  },
  {
   "cell_type": "code",
   "execution_count": 24,
   "metadata": {
    "ExecuteTime": {
     "end_time": "2020-06-08T06:51:05.617445Z",
     "start_time": "2020-06-08T06:51:05.608945Z"
    }
   },
   "outputs": [
    {
     "name": "stdout",
     "output_type": "stream",
     "text": [
      "component,node,alias\n",
      "-45,02a6af88923fa400b4b21bcdae62c074a49d6ad69562ae6cb68bc63716b8e23edf,Dont.Tread.On.Me\n",
      "-45,029bf3edd752470fb554330e8d40f7f10d73e9f9838898117cdc7b4f04eced9d11,Molon Labe\n",
      "-5442,03d06758583bb5154774a6eb221b1276c9e82d65bbaceca806d90e20c108f4b1c7,yalls.org\n",
      "-5442,03e50492eab4107a773141bb419e107bda3de3d55652e6e1a41225f06a0bbf2d56,yalls.org\n",
      "-93,030f7890a6b5d5805637ed73c3c0de4f0194651ba3ea03849d176bcacdc3fa1d8d,QUICKENING\n",
      "-93,02cac066b51bddffcf1e350a3130a7e060ec3ca958be605f98890c2899367e7f90,LightningPrism.rocks\n",
      "-275,030753bc6bfcd5f2a76c45fde5e11795b74942bda05fee6e4f0e49d5c2232e20b3,The Block Cafe [NoDL]|The Block Lisboa\n",
      "-275,03f98d3ea45a224f10aca4d2060deaf576cb9becd4bc2222174ef9e4f4a127b6bf,bitcoin-studio\n",
      "-6601,03f911d05ea32487e154610484484797104ebc181d4abd652491da0ada6924d158,relay1\n",
      "-6601,0267586e510d80fab314fbfa091f383b775646e7a87bc9ed8cd59bcded50405d6a,senza\n",
      "-6601,0294d4f384662ac43e5c9780dec805dc7797adf9ab40ff24cf21d9ae3ed8aa6788,stak10\n",
      "-6601,0265a0f214df0dc7117d4c61317992899d2d5fe6acafc8c24df1411411a704c426,stak7\n",
      "-7188,028303182c9885da93b3b25c9621d22cf34475e63c123942e402ab530c0556e675,ORANGESQUIRREL\n",
      "-7188,02809e936f0e82dfce13bcc47c77112db068f569e1db29e7bf98bcdd68b838ee84,powernode.io\n",
      "-6109,03d06758583bb5154774a6eb221b1276c9e82d65bbaceca806d90e20c108f4b1c7,yalls.org\n",
      "-6109,03e50492eab4107a773141bb419e107bda3de3d55652e6e1a41225f06a0bbf2d56,yalls.org\n",
      "-6233,03a503d8e30f2ff407096d235b5db63b4fcf3f89a653acb6f43d3fc492a7674019,Sagittarius A\n",
      "-6233,032b98bbdd48ca00300a627355900521c9302e6df363186a74e43213bcd3f781b2,EBLM J0555-57Ab\n",
      "-35,024273c08f06194232b539fae7b7bbaeb690c516d9ed56bbbd3da20c5ad62ed2c5,Sic semper tyrannis|lnd.luckisdesign.com\n",
      "-35,0331f80652fb840239df8dc99205792bba2e559a05469915804c08420230e23c7c,LightningPowerUsers.com\n",
      "-35,021607cfce19a4c5e7e6e738663dfafbbbac262e4ff76c2c9b30dbeefc35c00643,ln.BitSoapBox.com\n",
      "-35,036d1103b67ac8c4c376c133123abd69e242dec3be10b4f0d2f63177b526e4e8fc,BikiniMitte\n",
      "-6569,03d24a4d2c8841890779f3c788cd269d467ad8ff8fcfdc21c8ceead42c7dd7f04b,ln.popmin.net|ln01.popmin.net\n",
      "-6569,027bf018b885f84d88cc2f65489d2937a6a928947eed9c6793cf98fb507b1f9364,tor.lngames.net\n",
      "-6569,03952f8756c036669440e06c782c7f21732886ccf04052e0e6e792f8f5a490f6aa,lngames.net|LNGAMES.NET\n",
      "-140,03957c801187ade4aaeee6ca1e3f23eeb7413a84558ff1f3543cb41f5f86da609a,eclips.lnd\n",
      "-140,039219bcea2a4479b4d354964c8693dd5349ef8c86bdbf582f5698ae27121e0d6b,Ratatat#min0.015BTChannels|-#YourMoneyIsStealingFromYou#-\n",
      "-140,03fb822818be083e0a954db85257a2911a3d55458b8c1ea4124b157e865a836d12,LNBIG.com [lnd-17]\n",
      "-140,034143d1a45cb9bcb912eab97facf4a971098385c4701753d6bc40e52192d0c04f,SAUBY_K|RECOVER_MYLN\n",
      "-7152,0356c02ffe265f8ff38471e901785528d3da0668cd0a590ed67ee809d929c9bfd4,NEURON\n",
      "-7152,031678745383bd273b4c3dbefc8ffbf4847d85c2f62d3407c0c980430b3257c403,lightning-roulette.com\n",
      "-7152,02725e5abcbf5550fc29e6b19706a1377f25d2b1502684f9be9965b6deac167520,LIGHTNING-CASINO.COM|LIGHTNING-CASINO.COM XYZ\n",
      "-7501,0229cf81c21bbd21c2a41a4ae645933b89bb6d9a5920ca90e41ba270666879adab,BOOYAH\n",
      "-7501,02da1554fa740560a72d2591be204706e201c568b4a7418ff7099a6828dfc7fefa,captain\n",
      "-6870,02125668b1197d0da391eec5d664eeb44f238e025ba0c23a9cbbae6f302a8422df,02125668b1197d0da391\n",
      "-6870,030c3f19d742ca294a55c00376b3b355c3c90d61c6b6b39554dbc7ac19b141c14f,Bitrefill.com/gift-cards|Bitrefill.com\n",
      "-7214,02949f9824f7f8f51298e79aeeca2b20f06d2b16702b47b469b486a6760cf2d7f6,rekkt\n",
      "-7214,0230718bf335940ce50b21377b7d082a863a7d60bd557d924ec11bbb960d4dea5e,raspirekt\n",
      "-138,03da1c27ca77872ac5b3e568af30673e599a47a5e4497f85c7b5da42048807b3ed,LNBIG.com [lnd-07]\n",
      "-138,02f302189b8c0028aa919e5441a5d7e80c82ebdff421219e34408acea58274a823,LOOPING[LND]\n",
      "-6033,03d06758583bb5154774a6eb221b1276c9e82d65bbaceca806d90e20c108f4b1c7,yalls.org\n",
      "-6033,03e50492eab4107a773141bb419e107bda3de3d55652e6e1a41225f06a0bbf2d56,yalls.org\n",
      "-5535,03e5ea100e6b1ef3959f79627cb575606b19071235c48b3e7f9808ebcd6d12e87d,LNBIG.com [lnd-31]\n",
      "-5535,02247d9db0dfafea745ef8c9e161eb322f73ac3f8858d8730b6fd97254747ce76b,LNBIG.com [lnd-26]\n",
      "-5535,028a8e53d70bc0eb7b5660943582f10b7fd6c727a78ad819ba8d45d6a638432c49,LNBIG.com [lnd-33]\n",
      "-6105,02247d9db0dfafea745ef8c9e161eb322f73ac3f8858d8730b6fd97254747ce76b,LNBIG.com [lnd-26]\n",
      "-6105,022755c3ff4e5a1d71f573cda4b315887fc00a9e5c9ea9a847d939f3e517e69a70,LNBIG.com [lnd-34]\n",
      "-6105,024d2387409269f3b79e2708bb39b895c9f4b6a8322153af54eba487d4993bf60f,LNBIG.com [lnd-38]\n",
      "-6105,03e5ea100e6b1ef3959f79627cb575606b19071235c48b3e7f9808ebcd6d12e87d,LNBIG.com [lnd-31]\n",
      "-6105,0311cad0edf4ac67298805cf4407d94358ca60cd44f2e360856f3b1c088bcd4782,LNBIG.com [lnd-42]\n",
      "-6105,03dab87ff8635982815c4567eb58af48f9944d11c56beb12b91e1049aaea06e187,LNBIG.com [lnd-41]\n",
      "-6105,028a8e53d70bc0eb7b5660943582f10b7fd6c727a78ad819ba8d45d6a638432c49,LNBIG.com [lnd-33]\n",
      "-6105,039edc94987c8f3adc28dab455efc00dea876089a120f573bd0b03c40d9d3fb1e1,LNBIG.com [lnd-32]\n",
      "-7199,0380d7ed2beddf814ac4119b6ea42085f1c6e83f50ee5593199de4caa5a186bd64,LN-MasterNode\n",
      "-7199,0326d0f0a583bd85db32653a8646330c390ea2e68e56d73c517e827398a86eaaf3,OKC-Thunder\n",
      "-266,038adf725da5c1f08815cd22fdc575bcea8e59b36caac89b1818d2729294fa792f,Bitcoinz4Zombiez\n",
      "-266,03465f79f840a1169e2b4cb42d684e1723af861b8a82336aa72f9766643a6ef4e4,fepede|OrangeLantern\n",
      "-5546,03fb822818be083e0a954db85257a2911a3d55458b8c1ea4124b157e865a836d12,LNBIG.com [lnd-17]\n",
      "-5546,031ce29116eab7edd66148f5169f1fb658fad62bdc5091221ab895fe5d36db00b2,LNBIG.com [lnd-05]\n",
      "-5546,0303a518845db99994783f606e6629e705cfaf072e5ce9a4d8bf9e249de4fbd019,LNBIG.com [lnd-25]\n",
      "-5546,030995c0c0217d763c2274aa6ed69a0bb85fa2f7d118f93631550f3b6219a577f5,LNBIG.com [lnd-28/old-lnd-22]|LNBIG.com [lnd-28]|LNBIG.com [lnd-22]\n",
      "-5546,02c91d6aa51aa940608b497b6beebcb1aec05be3c47704b682b3889424679ca490,LNBIG.com [lnd-21]\n",
      "-5546,03bc9337c7a28bb784d67742ebedd30a93bacdf7e4ca16436ef3798000242b2251,LNBIG.com [lnd-06]\n",
      "-5546,03da1c27ca77872ac5b3e568af30673e599a47a5e4497f85c7b5da42048807b3ed,LNBIG.com [lnd-07]\n",
      "-5546,03fce165537aea120bffe8505876b44d5119354f825b3eac329b761fc5636bf334,LNBIG.com [lnd-27/old-lnd-19]|LNBIG.com [lnd-19]|LNBIG.com [lnd-27]\n",
      "-6657,0303a518845db99994783f606e6629e705cfaf072e5ce9a4d8bf9e249de4fbd019,LNBIG.com [lnd-25]\n",
      "-6657,030995c0c0217d763c2274aa6ed69a0bb85fa2f7d118f93631550f3b6219a577f5,LNBIG.com [lnd-28/old-lnd-22]|LNBIG.com [lnd-28]|LNBIG.com [lnd-22]\n",
      "-6657,03fce165537aea120bffe8505876b44d5119354f825b3eac329b761fc5636bf334,LNBIG.com [lnd-27/old-lnd-19]|LNBIG.com [lnd-19]|LNBIG.com [lnd-27]\n",
      "-5607,02c91d6aa51aa940608b497b6beebcb1aec05be3c47704b682b3889424679ca490,LNBIG.com [lnd-21]\n",
      "-5607,03bc9337c7a28bb784d67742ebedd30a93bacdf7e4ca16436ef3798000242b2251,LNBIG.com [lnd-06]\n",
      "-5607,03da1c27ca77872ac5b3e568af30673e599a47a5e4497f85c7b5da42048807b3ed,LNBIG.com [lnd-07]\n",
      "-5752,0311cad0edf4ac67298805cf4407d94358ca60cd44f2e360856f3b1c088bcd4782,LNBIG.com [lnd-42]\n",
      "-5752,024d2387409269f3b79e2708bb39b895c9f4b6a8322153af54eba487d4993bf60f,LNBIG.com [lnd-38]\n",
      "-5752,03dab87ff8635982815c4567eb58af48f9944d11c56beb12b91e1049aaea06e187,LNBIG.com [lnd-41]\n",
      "-5752,022c260f9ad58196af280c80a96ec9eabf6404df59ff1a7553b0f381c875a29ba0,LNBIG.com [lnd-37]\n",
      "-324,031ce29116eab7edd66148f5169f1fb658fad62bdc5091221ab895fe5d36db00b2,LNBIG.com [lnd-05]\n",
      "-324,03d37fca0656558de4fd86bbe490a38d84a46228e7ec1361801f54f9437a18d618,LNBIG.com [lnd-02]\n",
      "-324,022755c3ff4e5a1d71f573cda4b315887fc00a9e5c9ea9a847d939f3e517e69a70,LNBIG.com [lnd-34]\n",
      "-7311,02ce271be6ed786a68aaf821893e9387d7d39dec0a43741774f7130b7c1f69abc3,KoalaBlitz\n",
      "-7311,024655b768ef40951b20053a5c4b951606d4d86085d51238f2c67c7dec29c792ca,satoshis.place\n",
      "-6471,034ea80f8b148c750463546bd999bf7321a0e6dfc60aaf84bd0400a2e8d376c0d5,LNBIG.com [lnd-12]\n",
      "-6471,02bb24da3d0fb0793f4918c7599f973cc402f0912ec3fb530470f1fc08bdd6ecb5,LNBIG.com [lnd-10]\n",
      "-6170,034ea80f8b148c750463546bd999bf7321a0e6dfc60aaf84bd0400a2e8d376c0d5,LNBIG.com [lnd-12]\n",
      "-6170,02bb24da3d0fb0793f4918c7599f973cc402f0912ec3fb530470f1fc08bdd6ecb5,LNBIG.com [lnd-10]\n",
      "-6170,02de11c748f5b25cfd2ce801176d3926bfde4de23b1ff43e692a5b76cf06805e4a,LNBIG.com [lnd-09]\n",
      "-44,030c3f19d742ca294a55c00376b3b355c3c90d61c6b6b39554dbc7ac19b141c14f,Bitrefill.com/gift-cards|Bitrefill.com\n",
      "-44,02e9046555a9665145b0dbd7f135744598418df7d61d3660659641886ef1274844,SilentBob\n",
      "-44,02bb24da3d0fb0793f4918c7599f973cc402f0912ec3fb530470f1fc08bdd6ecb5,LNBIG.com [lnd-10]\n",
      "-44,0254ff808f53b2f8c45e74b70430f336c6c76ba2f4af289f48d6086ae6e60462d3,Thor|Bitrefill|Bitrefill Thor|Bitrefill.com/gift-cards #2\n",
      "-44,0290ed68150c33b96f7369b4c10b9680fbc5130421ffe8c2ee253603ccbec4732b,0290ed68150c33b96f73\n",
      "-268,03a503d8e30f2ff407096d235b5db63b4fcf3f89a653acb6f43d3fc492a7674019,Sagittarius A\n",
      "-268,02c16cca44562b590dd279c942200bdccfd4f990c3a69fad620c10ef2f8228eaff,telegram.me/lntxbot\n",
      "-179,03ce648061614b971a3a990e62cb5f782ac94e9576f2311256b2985bc05b5033e0,BitDouble.io\n",
      "-179,025a14b8ed40583d67aec92da19453e0b2d1fbbf75f96f85d3dd0ff61a51ee0490,CARNIKAVA\n",
      "-179,03d06758583bb5154774a6eb221b1276c9e82d65bbaceca806d90e20c108f4b1c7,yalls.org\n",
      "-95,0390b5d4492dc2f5318e5233ab2cebf6d48914881a33ef6a9c6bcdbb433ad986d0,LNBIG.com [lnd-01]\n",
      "-95,022565c24c0498f18f0688f57b5985d2f0c20ce2efc9a99d38e888d6f13016063d,022565c24c0498f18f06\n",
      "-5408,031ce29116eab7edd66148f5169f1fb658fad62bdc5091221ab895fe5d36db00b2,LNBIG.com [lnd-05]\n",
      "-5408,0303a518845db99994783f606e6629e705cfaf072e5ce9a4d8bf9e249de4fbd019,LNBIG.com [lnd-25]\n",
      "-5408,03da1c27ca77872ac5b3e568af30673e599a47a5e4497f85c7b5da42048807b3ed,LNBIG.com [lnd-07]\n",
      "-185,02b6dabd436275044399002241195b82b7fed517b226d0a109b1d07a39d7b4a91a,FULMO 2\n",
      "-185,028a8e53d70bc0eb7b5660943582f10b7fd6c727a78ad819ba8d45d6a638432c49,LNBIG.com [lnd-33]\n",
      "-201,0391ddd46f8a3cf3c3bdd6def04e7d316ba9cc23abcbbe881a0af573fc352559bb,LN-FTW\n",
      "-201,03b1be68b8f564fe53f5456cf4bec901ba968fb72ed7291279ab0c87e0d22f1f49,Plasma⚡⚡⚡Release\n",
      "-7345,03c75ddddd9d0c8b087fb8ac77199c2a132c78b011ccab893dc6a2735ac30b8179,HODLshop.org|HODLshop|1Satoshi\n",
      "-7345,03d5bea67ea6cb0478411aab69a437ab8a451669f49997c78678ec3f5c14e0088f,HODLshop.org\n",
      "-5656,026bc066924bca8a22e4baa751533bf2dda4161544d08dab544a001a5385ab0d0c,myshtery\n",
      "-5656,02888244029c5909593038ab19f269947c720de3423e491791b46c7c92f76279b6,Bitkoins.nl\n",
      "474786776,03218af6a4d1edb2a0c2cb3a2b3e98d8d163b379964e03e37727d4830190162e59,eclair\n",
      "474786776,0386728b18f1ed6947c40f8a039811f1e25c102f6f2dcd33b2f59ff36ce4b5dd54,eclair\n",
      "-7087,024a2e265cd66066b78a788ae615acdc84b5b0dec9efac36d7ac87513015eaf6ed,lit|Bitrefill.com/lightning\n",
      "-7087,0254ff808f53b2f8c45e74b70430f336c6c76ba2f4af289f48d6086ae6e60462d3,Thor|Bitrefill|Bitrefill Thor|Bitrefill.com/gift-cards #2\n",
      "-158,03a503d8e30f2ff407096d235b5db63b4fcf3f89a653acb6f43d3fc492a7674019,Sagittarius A\n",
      "-158,03bb88ccc444534da7b5b64b4f7b15e1eccb18e102db0e400d4b9cfe93763aa26d,LightningTo.Me\n",
      "-7380,02b94e3f62a44ca87285a674c72570ebbe2049de4094844fca7cd12b41e2924be0,LightningVOIP\n",
      "-7380,02ff5cf0b761187b713241860b6b1eeb8e0b7d7af45259b534f5464c2c91825d6d,Boltathon\n",
      "-18,032cc4541b25e86e39a7d450a979c1a9adbe2878df3a93fcb59c96c700bfe26aa3,glr.com.py\n",
      "-18,020c92d71dfe47d49d322eed910064787973dff96c05a39d75a75d7e8f33aead4c,LN-Fukaya Japan 020c92d71dfe47d4\n",
      "-18,038ae197828f0ffd732352733564614a9f7f1dcda0253b9d22289ca9efe066368b,038ae197828f0ffd7323\n",
      "-18,0318070901e08df311cdc6cdb8a0b4a43a3690c5b32d1fb9d8e99d1a625a65e5f2,ion.radar.tech\n",
      "-7070,026b105ac13212c48714c6be9b11577a9ce10f10e1c88a45ce217e6331209faf8b,LivingRoomofSatoshi.com\n",
      "-7070,026c7d28784791a4b31a64eb34d9ab01552055b795919165e6ae886de637632efb,WalletOfSatoshi.com_OLD|LivingRoomOfSatoshi.com_LND_1\n",
      "-36,020f0d93c700cf5cf556e61828fab473a5c30ee6eb927ae36a130cc1c57326d21a,Atlantis|Grid\n",
      "-36,02247d9db0dfafea745ef8c9e161eb322f73ac3f8858d8730b6fd97254747ce76b,LNBIG.com [lnd-26]\n",
      "-7026,03bc9a7ffb7144f2355d05d1b2f741b7d9b7dccaa3ecbe4c233ba0ffcb778895bd,sphinx-node-p\n",
      "-218,0331f80652fb840239df8dc99205792bba2e559a05469915804c08420230e23c7c,LightningPowerUsers.com\n",
      "-198,038df0bd2fad1bfe42d177f18ea5e33543e2b855ef369d06bd94b81d2c87187c82,ghostofsatoshi\n",
      "-198,028323f422367ec929fb4e2c44e73793693bd12eca1295794cb8879066f5dba771,dmbw|funraiden.com\n",
      "-7357,030d4f338186af9e172a89ec963d4412fd991279a84bd6bca068c46621eff8a80e,030d4f338186af9e172a\n",
      "-7357,035abecb83cb67f3f36b2eabb946ffb171a13a82877bd7d3b406588ef89f64e064,LnSmall\n",
      "-5502,03fa204f7aa701f2b3445073b5f01376426b315444f1c3172d7f9f67c8f54a8602,03fa204f7aa701f2b344\n",
      "-5502,03a14a5ab6b23347a6e33fdd4377b359df38707f991a86a50fd8d2f189cde67a2d,03a14a5ab6b23347a6e3\n"
     ]
    }
   ],
   "source": [
    "print('component,node,alias')\n",
    "for e, ns in heuristic_2_entity_node_conf_all[2].items():\n",
    "    if len(ns) > 1:\n",
    "        for n in ns:\n",
    "            if n in node_alias:\n",
    "                print(str(e) + ',' + n + ',' + list(node_alias[n])[0])"
   ]
  },
  {
   "cell_type": "code",
   "execution_count": null,
   "metadata": {},
   "outputs": [],
   "source": [
    "stars till 488\n",
    "snakes till 5398\n",
    "collectors till 7722\n",
    "before \n",
    "after\n",
    "before and after"
   ]
  },
  {
   "cell_type": "code",
   "execution_count": 14,
   "metadata": {
    "ExecuteTime": {
     "end_time": "2020-06-07T10:53:20.987252Z",
     "start_time": "2020-06-07T10:53:20.982774Z"
    }
   },
   "outputs": [
    {
     "data": {
      "text/plain": [
       "{'Dont.Tread.On.Me'}"
      ]
     },
     "execution_count": 14,
     "metadata": {},
     "output_type": "execute_result"
    }
   ],
   "source": [
    "node_alias[n]"
   ]
  },
  {
   "cell_type": "markdown",
   "metadata": {},
   "source": [
    "### Impossible links (links with 4 nodes in two channels)"
   ]
  },
  {
   "cell_type": "code",
   "execution_count": 149,
   "metadata": {
    "ExecuteTime": {
     "end_time": "2020-05-18T09:22:41.149881Z",
     "start_time": "2020-05-18T09:22:40.896554Z"
    }
   },
   "outputs": [
    {
     "name": "stderr",
     "output_type": "stream",
     "text": [
      "/home/matteo/.local/lib/python3.6/site-packages/matplotlib/cbook/__init__.py:424: MatplotlibDeprecationWarning: \n",
      "Passing one of 'on', 'true', 'off', 'false' as a boolean is deprecated; use an actual boolean (True/False) instead.\n",
      "  warn_deprecated(\"2.2\", \"Passing one of 'on', 'true', 'off', 'false' as a \"\n"
     ]
    },
    {
     "data": {
      "image/png": "[encoded data removed]",
      "text/plain": [
       "<Figure size 720x360 with 1 Axes>"
      ]
     },
     "metadata": {},
     "output_type": "display_data"
    }
   ],
   "source": [
    "for il in impossible_links:\n",
    "    plt.figure(figsize=(10,5))\n",
    "    i = 0\n",
    "    for node in il[3:][::-1]:\n",
    "        x = [node_openings_closings[node]['first_activity'], node_openings_closings[node]['last_activity']]\n",
    "        y = [i, i]\n",
    "        C = 'Ch1-'\n",
    "        if i > 1:\n",
    "            C = 'Ch2-'\n",
    "        lbl = C + 'N' + str(1 + i%2) + ': ' +  ts2date(x[0]) + ' -- ' + ts2date(x[1])\n",
    "        plt.plot(x, y, '-x',label=lbl, linewidth=3)\n",
    "        i += 1\n",
    "#         print(ts2date(node_openings_closings[node]['first_activity']), '.....', ts2date(node_openings_closings[node]['last_activity']))\n",
    "    ax = plt.gca()\n",
    "    plt.xlabel('Time')\n",
    "    plt.ylabel('Nodes')\n",
    "    plt.title('First and last on-chain activities of nodes linked by funding/settlement txs')\n",
    "    ax.tick_params(axis='x',labelbottom='off')\n",
    "    ax.tick_params(axis='y',labelleft='off')\n",
    "    plt.legend()\n",
    "    plt.grid()\n",
    "    plt.show()\n",
    "    break"
   ]
  },
  {
   "cell_type": "code",
   "execution_count": 150,
   "metadata": {
    "ExecuteTime": {
     "end_time": "2020-05-18T09:22:41.154198Z",
     "start_time": "2020-05-18T09:22:41.151520Z"
    }
   },
   "outputs": [],
   "source": [
    "# coinjoin\n",
    "# '970cdbbbf0a2c2ac2b029a26dde3a815a0045f03e2b56afc4e980a20666191ca' in funding_txs_set # True\n",
    "# '970cdbbbf0a2c2ac2b029a26dde3a815a0045f03e2b56afc4e980a20666191ca' in [el[2] for el in useful_links] # False\n",
    "\n",
    "# for a, e in funding_address_entity.items():\n",
    "#     if e in missing_set:\n",
    "#         print(a)\n",
    "        \n",
    "# 3NNggKQHp56ZqW1owXHqVC7oQ7cnjN8iWu\n",
    "# 3NXyYAPPfcXGEe8MmqULJqR4TfpQy8Fsqt\n",
    "# 361GSnsNURUYmmPmHXnGAa9HRzCusdovXh\n",
    "# 3B3fTXb5QMSn74AU3fBrtAS7AroomzYWh4\n",
    "# 39CMLdBuez33kuYzkcY6bSLsubrToQeJst\n",
    "# 3DRnUvkmux5ECy1Yx8ToE5ABWGhBXi9JWb\n",
    "\n",
    "# missing_tx = '970cdbbbf0a2c2ac2b029a26dde3a815a0045f03e2b56afc4e980a20666191ca' # coinjoin\n",
    "# for channel in channels.values:\n",
    "#     funding_tx, out_index = channel[0].split(':')\n",
    "#     if funding_tx == missing_tx:\n",
    "#         print(channel)\n",
    "# ['970cdbbbf0a2c2ac2b029a26dde3a815a0045f03e2b56afc4e980a20666191ca:5'\n",
    "#  '020a9442b1daee87f771203cf78e1d6c1468f525ecc1a8fde027bd20582b8f6962'\n",
    "#  '028c1da32603fce64118e469ffe2cfeec04d1c4bd88205efb4e8b4208f77a8064e']"
   ]
  },
  {
   "cell_type": "code",
   "execution_count": 151,
   "metadata": {
    "ExecuteTime": {
     "end_time": "2020-05-18T09:22:41.161745Z",
     "start_time": "2020-05-18T09:22:41.155756Z"
    }
   },
   "outputs": [],
   "source": [
    "heuristic_1_entity_node = {k: [e for e in v] for k, v in heuristic_1b_entity_node.items()}\n",
    "heuristic_1_node_entity = {k: [e for e in v] for k, v in heuristic_1b_node_entity.items()}\n",
    "\n",
    "# write_json(heuristic_1_entity_node, '../data/joined/heuristic_1_entity_node.json')\n",
    "# write_json(heuristic_1_node_entity, '../data/joined/heuristic_1_node_entity.json')"
   ]
  },
  {
   "cell_type": "markdown",
   "metadata": {},
   "source": [
    "## Heuristic 2a: ubiquitous node\n",
    "Here we assume that if a node appears in every channel opened by an entity and it's the only node with this property, then this node is controlled by this entity."
   ]
  },
  {
   "cell_type": "markdown",
   "metadata": {},
   "source": [
    "### Confidence levels"
   ]
  },
  {
   "cell_type": "code",
   "execution_count": 152,
   "metadata": {
    "ExecuteTime": {
     "end_time": "2020-05-18T09:22:41.340376Z",
     "start_time": "2020-05-18T09:22:41.163268Z"
    }
   },
   "outputs": [],
   "source": [
    "funding_entity_possible_nodes = dict()\n",
    "\n",
    "for channel in channels.values:\n",
    "    funding_tx, out_index = channel[0].split(':')\n",
    "    funding_address = funding_txs[funding_tx]['inputs'][0]['address']\n",
    "    funding_entity = funding_address_entity[funding_address]\n",
    "    if funding_entity not in funding_entity_possible_nodes:\n",
    "        funding_entity_possible_nodes[funding_entity] = [] \n",
    "    funding_entity_possible_nodes[funding_entity].append(channel[1])\n",
    "    funding_entity_possible_nodes[funding_entity].append(channel[2])\n"
   ]
  },
  {
   "cell_type": "code",
   "execution_count": 153,
   "metadata": {
    "ExecuteTime": {
     "end_time": "2020-05-18T09:22:41.365836Z",
     "start_time": "2020-05-18T09:22:41.342353Z"
    }
   },
   "outputs": [],
   "source": [
    "# each funding entity that has at least n_channels possible nodes (confidence level >= n_channels)\n",
    "n_channels = 2\n",
    "entity_channels_half = []\n",
    "fe_confidence = []\n",
    "fe_confidence_dict = dict()\n",
    "for fe, pns in funding_entity_possible_nodes.items():\n",
    "    if len(pns) >= n_channels*2: # *2 cause we have two nodes per channel\n",
    "#         print('.........', fe, len(pns), '.........')\n",
    "        pn_occur = Counter(pns)\n",
    "        for pn, occur in pn_occur.items():\n",
    "            if occur*2 == len(pns):\n",
    "                fe_confidence.append([fe, occur])\n",
    "                fe_confidence_dict[fe] = occur\n",
    "                entity_channels_half.append(occur)\n",
    "#                 print(pn[:10], occur)"
   ]
  },
  {
   "cell_type": "code",
   "execution_count": 154,
   "metadata": {
    "ExecuteTime": {
     "end_time": "2020-05-18T09:22:41.370504Z",
     "start_time": "2020-05-18T09:22:41.367849Z"
    }
   },
   "outputs": [],
   "source": [
    "entity_channels_half.sort()"
   ]
  },
  {
   "cell_type": "code",
   "execution_count": 155,
   "metadata": {
    "ExecuteTime": {
     "end_time": "2020-05-18T09:22:41.375059Z",
     "start_time": "2020-05-18T09:22:41.372315Z"
    }
   },
   "outputs": [
    {
     "name": "stdout",
     "output_type": "stream",
     "text": [
      "Highest confidence levels: [210, 20, 19, 18, 17, 14, 13, 12, 12, 11, 11, 11, 11, 10, 10, 9, 9, 9, 9, 8]\n"
     ]
    }
   ],
   "source": [
    "print('Highest confidence levels:', entity_channels_half[::-1][:20])"
   ]
  },
  {
   "cell_type": "code",
   "execution_count": 156,
   "metadata": {
    "ExecuteTime": {
     "end_time": "2020-05-18T09:22:41.561754Z",
     "start_time": "2020-05-18T09:22:41.377436Z"
    }
   },
   "outputs": [
    {
     "data": {
      "image/png": "[encoded data removed]",
      "text/plain": [
       "<Figure size 1080x360 with 1 Axes>"
      ]
     },
     "metadata": {
      "needs_background": "light"
     },
     "output_type": "display_data"
    }
   ],
   "source": [
    "plt.figure(figsize=(15,5))\n",
    "plt.plot(entity_channels_half[::-1])\n",
    "plt.title('Confidence level (number of channels)')\n",
    "plt.xlabel('entities sorted by confidence level')\n",
    "plt.show()\n"
   ]
  },
  {
   "cell_type": "code",
   "execution_count": 157,
   "metadata": {
    "ExecuteTime": {
     "end_time": "2020-05-18T09:22:41.565816Z",
     "start_time": "2020-05-18T09:22:41.563203Z"
    },
    "scrolled": true
   },
   "outputs": [],
   "source": [
    "# # to see intersection between heuristic 1 and 3\n",
    "# min_conf = 10\n",
    "# print('Confidence >', min_conf)\n",
    "# print()\n",
    "# print('Entity, confidence, intersect')\n",
    "# for el in fe_confidence:\n",
    "#     fe, conf = el\n",
    "#     if conf > min_conf:\n",
    "#         print(fe, conf, fe in heuristic_1_entity_node)"
   ]
  },
  {
   "cell_type": "code",
   "execution_count": 158,
   "metadata": {
    "ExecuteTime": {
     "end_time": "2020-05-18T09:22:45.322293Z",
     "start_time": "2020-05-18T09:22:41.567771Z"
    },
    "scrolled": true
   },
   "outputs": [
    {
     "name": "stdout",
     "output_type": "stream",
     "text": [
      "Number of funding entities 69495\n",
      "2 3 4 5 6 7 8 9 10 11 12 13 14 15 16 17 18 19 20 21 22 23 24 25 26 27 28 29 30 "
     ]
    }
   ],
   "source": [
    "confidence_linked = dict()\n",
    "funding_entity_channels_nodes = dict()\n",
    "node_possible_entities = dict()\n",
    "# populate funding_entity_channels_nodes\n",
    "for channel in channels.values:\n",
    "    funding_tx, out_index = channel[0].split(':')\n",
    "    funding_address = funding_txs[funding_tx]['inputs'][0]['address']\n",
    "#     for inpt in funding_txs[funding_tx]['inputs']:\n",
    "#         funding_addresses2.add(inpt['address'])\n",
    "    funding_entity = funding_address_entity[funding_address]\n",
    "    if funding_entity not in funding_entity_channels_nodes:\n",
    "        funding_entity_channels_nodes[funding_entity] = dict() # use chan_point as key \n",
    "    funding_entity_channels_nodes[funding_entity][channel[0]] = [channel[1], channel[2]] # add nodes\n",
    "    for i in [1, 2]:\n",
    "        if channel[i] not in node_possible_entities:\n",
    "            node_possible_entities[channel[i]] = set()\n",
    "        node_possible_entities[channel[i]].add(funding_entity)\n",
    "\n",
    "print('Number of funding entities', len(funding_entity_channels_nodes))\n",
    "\n",
    "heuristic_2a_entity_node_conf = dict()\n",
    "for min_confidence_level in range(2, 31):\n",
    "    print(min_confidence_level, end=' ')\n",
    "    # create link between entity and a node when \n",
    "    # the node is the only one present in every channel of the entity\n",
    "    heuristic_2a_entity_node_conf[min_confidence_level] = dict() # linking\n",
    "    for fe in funding_entity_channels_nodes:\n",
    "        node_occur = dict() # count number of occurrences of each node in channels\n",
    "\n",
    "        # compute node_occur\n",
    "        for channel in funding_entity_channels_nodes[fe]:\n",
    "            for node in funding_entity_channels_nodes[fe][channel]:\n",
    "                if node not in node_occur:\n",
    "                    node_occur[node] = 0\n",
    "                node_occur[node] += 1\n",
    "\n",
    "        # get max_occur\n",
    "        max_occur = max(node_occur.values())\n",
    "        selected_node = None\n",
    "\n",
    "        # check if there is a perfect max_occur, i.e.,\n",
    "        # if max_occur is unique and in every channel (corresponding node is in every channel)\n",
    "        if list(node_occur.values()).count(max_occur) == 1 and max_occur == len(funding_entity_channels_nodes[fe]) and max_occur >= min_confidence_level:\n",
    "            # get node present in every channel and add it to its entity\n",
    "            selected_node = [n for n, occ in node_occur.items() if occ == max_occur][0]\n",
    "            if fe not in heuristic_2a_entity_node_conf[min_confidence_level]:\n",
    "                heuristic_2a_entity_node_conf[min_confidence_level][fe] = set()\n",
    "            heuristic_2a_entity_node_conf[min_confidence_level][fe].add(selected_node) # it should be unique, but let's see\n",
    "#     print('Minimum confidence level:', min_confidence_level)\n",
    "#     print('Number of entities linked:', len(heuristic_2a_entity_node_conf[min_confidence_level]))\n",
    "#     print()\n",
    "    confidence_linked[min_confidence_level] = len(heuristic_2a_entity_node_conf[min_confidence_level])"
   ]
  },
  {
   "cell_type": "code",
   "execution_count": 159,
   "metadata": {
    "ExecuteTime": {
     "end_time": "2020-05-18T09:22:45.854895Z",
     "start_time": "2020-05-18T09:22:45.324195Z"
    }
   },
   "outputs": [
    {
     "data": {
      "image/png": "[encoded data removed]",
      "text/plain": [
       "<Figure size 1008x504 with 1 Axes>"
      ]
     },
     "metadata": {
      "needs_background": "light"
     },
     "output_type": "display_data"
    }
   ],
   "source": [
    "plt.figure(figsize=(14,7))\n",
    "plt.semilogy(confidence_linked.keys(), confidence_linked.values())\n",
    "plt.title('Number of linked entities (log scale) (Step 1)')\n",
    "plt.xlabel('Minimum confidence level')\n",
    "plt.show()\n"
   ]
  },
  {
   "cell_type": "code",
   "execution_count": 160,
   "metadata": {
    "ExecuteTime": {
     "end_time": "2020-05-18T09:22:45.859807Z",
     "start_time": "2020-05-18T09:22:45.856743Z"
    }
   },
   "outputs": [],
   "source": [
    "# # check if entity mapping is unique\n",
    "# entities_with_multiple_nodes = 0\n",
    "# for fe, sn in heuristic_2a_entity_node.items():\n",
    "#     if len(sn) != 1:\n",
    "#         entities_with_multiple_nodes += 1\n",
    "# #         print(fe, len(sn))\n",
    "# print('Entities with multiple nodes:', entities_with_multiple_nodes)\n",
    "\n",
    "# heuristic_3_node_entity = dict()\n",
    "# for e, ns in heuristic_3_entity_node.items():\n",
    "#     for n in ns:\n",
    "#         if n not in heuristic_3_node_entity:\n",
    "#             heuristic_3_node_entity[n] = set()\n",
    "#         heuristic_3_node_entity[n].add(e)    \n",
    "\n",
    "# max_entities_per_node = 0\n",
    "# for n, e in heuristic_3_node_entity.items():\n",
    "#     if len(e) != 1:\n",
    "#         if len(e) > max_entities_per_node:\n",
    "#             max_entities_per_node = len(e)\n",
    "#             node_with_max_entities = n\n",
    "#         nodes_with_multiple_entities += 1\n",
    "# #         print(len(e))\n",
    "# print('Number of nodes linked to multiple entities:', nodes_with_multiple_entities)\n",
    "# print('Max number of entities linked to a node:', max_entities_per_node)\n",
    "# if node_with_max_entities in node_alias:\n",
    "#     print('Alias of node with max number of entities:', node_alias[node_with_max_entities])"
   ]
  },
  {
   "cell_type": "code",
   "execution_count": 161,
   "metadata": {
    "ExecuteTime": {
     "end_time": "2020-05-18T09:22:45.864924Z",
     "start_time": "2020-05-18T09:22:45.862251Z"
    }
   },
   "outputs": [],
   "source": [
    "# for fe, sn in entity_selected_nodes.items():\n",
    "#     entity_selected_nodes[fe] = list(sn)\n",
    "# write_json(entity_selected_nodes, '../data/joined/entity_selected_nodes.json')"
   ]
  },
  {
   "cell_type": "code",
   "execution_count": 162,
   "metadata": {
    "ExecuteTime": {
     "end_time": "2020-05-18T09:22:45.870091Z",
     "start_time": "2020-05-18T09:22:45.867371Z"
    },
    "scrolled": true
   },
   "outputs": [],
   "source": [
    "# print('Entities in common, confidence')\n",
    "# for e in set(heuristic_3_entity_node.keys()).intersection(set(heuristic_2_entity_node.keys())):\n",
    "#     print(e, fe_confidence_dict[e])"
   ]
  },
  {
   "cell_type": "code",
   "execution_count": 163,
   "metadata": {
    "ExecuteTime": {
     "end_time": "2020-05-18T09:22:45.876022Z",
     "start_time": "2020-05-18T09:22:45.872678Z"
    }
   },
   "outputs": [],
   "source": [
    "### Do the two heuristics yield the same entity-node link?\n",
    "# entities_heuristics_2_3 = set(heuristic_3_entity_node.keys()).intersection(set(heuristic_2_entity_node.keys()))\n",
    "# # to see if the two heuristics say the same\n",
    "# same = 0\n",
    "# for e in entities_heuristics_2_3:\n",
    "#     if heuristic_2_entity_node[e] == heuristic_3_entity_node[e]:\n",
    "#         same += 1\n",
    "# print(same, 'matching links out of', len(entities_heuristics_2_3), 'entities in common')"
   ]
  },
  {
   "cell_type": "markdown",
   "metadata": {
    "ExecuteTime": {
     "end_time": "2020-03-07T08:10:31.526259Z",
     "start_time": "2020-03-07T08:10:31.524214Z"
    }
   },
   "source": [
    "## Heuristic 2b: same as heuristic 1b"
   ]
  },
  {
   "cell_type": "markdown",
   "metadata": {},
   "source": [
    "If a funding entity is using the same address in the settlement tx and this entity is linked to a node in the channel, then the other entity receiving the funds must control the other node in the channel."
   ]
  },
  {
   "cell_type": "code",
   "execution_count": 164,
   "metadata": {
    "ExecuteTime": {
     "end_time": "2020-05-18T09:22:45.882281Z",
     "start_time": "2020-05-18T09:22:45.878500Z"
    }
   },
   "outputs": [],
   "source": [
    "heuristic_2b_entity_node_conf = dict()\n",
    "for conf in heuristic_2a_entity_node_conf:\n",
    "    heuristic_2b_entity_node_conf[conf] = {k:v for k,v in heuristic_2a_entity_node_conf[conf].items()}"
   ]
  },
  {
   "cell_type": "code",
   "execution_count": 165,
   "metadata": {
    "ExecuteTime": {
     "end_time": "2020-05-18T09:23:35.059006Z",
     "start_time": "2020-05-18T09:22:45.884003Z"
    },
    "scrolled": true
   },
   "outputs": [
    {
     "name": "stdout",
     "output_type": "stream",
     "text": [
      "\n",
      "===== 2 =====\n",
      "Iteration: 1 -- Number of linked entities 528\n",
      "Iteration: 2 -- Number of linked entities 2079\n",
      "Iteration: 3 -- Number of linked entities 3905\n",
      "Iteration: 4 -- Number of linked entities 4548\n",
      "Iteration: 5 -- Number of linked entities 4707\n",
      "Iteration: 6 -- Number of linked entities 4739\n",
      "Iteration: 7 -- Number of linked entities 4747\n",
      "Final number of linked entities 4747\n",
      "\n",
      "===== 3 =====\n",
      "Iteration: 1 -- Number of linked entities 185\n",
      "Iteration: 2 -- Number of linked entities 1678\n",
      "Iteration: 3 -- Number of linked entities 3493\n",
      "Iteration: 4 -- Number of linked entities 4169\n",
      "Iteration: 5 -- Number of linked entities 4347\n",
      "Iteration: 6 -- Number of linked entities 4386\n",
      "Iteration: 7 -- Number of linked entities 4394\n",
      "Final number of linked entities 4394\n",
      "\n",
      "===== 4 =====\n",
      "Iteration: 1 -- Number of linked entities 100\n",
      "Iteration: 2 -- Number of linked entities 1376\n",
      "Iteration: 3 -- Number of linked entities 3306\n",
      "Iteration: 4 -- Number of linked entities 4055\n",
      "Iteration: 5 -- Number of linked entities 4245\n",
      "Iteration: 6 -- Number of linked entities 4289\n",
      "Iteration: 7 -- Number of linked entities 4304\n",
      "Final number of linked entities 4304\n",
      "\n",
      "===== 5 =====\n",
      "Iteration: 1 -- Number of linked entities 67\n",
      "Iteration: 2 -- Number of linked entities 1341\n",
      "Iteration: 3 -- Number of linked entities 3269\n",
      "Iteration: 4 -- Number of linked entities 4018\n",
      "Iteration: 5 -- Number of linked entities 4208\n",
      "Iteration: 6 -- Number of linked entities 4252\n",
      "Iteration: 7 -- Number of linked entities 4267\n",
      "Final number of linked entities 4267\n",
      "\n",
      "===== 6 =====\n",
      "Iteration: 1 -- Number of linked entities 43\n",
      "Iteration: 2 -- Number of linked entities 1303\n",
      "Iteration: 3 -- Number of linked entities 3234\n",
      "Iteration: 4 -- Number of linked entities 3995\n",
      "Iteration: 5 -- Number of linked entities 4185\n",
      "Iteration: 6 -- Number of linked entities 4229\n",
      "Iteration: 7 -- Number of linked entities 4244\n",
      "Final number of linked entities 4244\n",
      "\n",
      "===== 7 =====\n",
      "Iteration: 1 -- Number of linked entities 34\n",
      "Iteration: 2 -- Number of linked entities 1295\n",
      "Iteration: 3 -- Number of linked entities 3226\n",
      "Iteration: 4 -- Number of linked entities 3987\n",
      "Iteration: 5 -- Number of linked entities 4177\n",
      "Iteration: 6 -- Number of linked entities 4221\n",
      "Iteration: 7 -- Number of linked entities 4236\n",
      "Final number of linked entities 4236\n",
      "\n",
      "===== 8 =====\n",
      "Iteration: 1 -- Number of linked entities 25\n",
      "Iteration: 2 -- Number of linked entities 1218\n",
      "Iteration: 3 -- Number of linked entities 3142\n",
      "Iteration: 4 -- Number of linked entities 3956\n",
      "Iteration: 5 -- Number of linked entities 4166\n",
      "Iteration: 6 -- Number of linked entities 4215\n",
      "Iteration: 7 -- Number of linked entities 4230\n",
      "Final number of linked entities 4230\n",
      "\n",
      "===== 9 =====\n",
      "Iteration: 1 -- Number of linked entities 19\n",
      "Iteration: 2 -- Number of linked entities 1212\n",
      "Iteration: 3 -- Number of linked entities 3136\n",
      "Iteration: 4 -- Number of linked entities 3950\n",
      "Iteration: 5 -- Number of linked entities 4160\n",
      "Iteration: 6 -- Number of linked entities 4209\n",
      "Iteration: 7 -- Number of linked entities 4224\n",
      "Final number of linked entities 4224\n",
      "\n",
      "===== 10 =====\n",
      "Iteration: 1 -- Number of linked entities 15\n",
      "Iteration: 2 -- Number of linked entities 1208\n",
      "Iteration: 3 -- Number of linked entities 3133\n",
      "Iteration: 4 -- Number of linked entities 3947\n",
      "Iteration: 5 -- Number of linked entities 4157\n",
      "Iteration: 6 -- Number of linked entities 4206\n",
      "Iteration: 7 -- Number of linked entities 4221\n",
      "Final number of linked entities 4221\n",
      "\n",
      "===== 11 =====\n",
      "Iteration: 1 -- Number of linked entities 13\n",
      "Iteration: 2 -- Number of linked entities 1205\n",
      "Iteration: 3 -- Number of linked entities 3130\n",
      "Iteration: 4 -- Number of linked entities 3944\n",
      "Iteration: 5 -- Number of linked entities 4154\n",
      "Iteration: 6 -- Number of linked entities 4203\n",
      "Iteration: 7 -- Number of linked entities 4218\n",
      "Final number of linked entities 4218\n",
      "\n",
      "===== 12 =====\n",
      "Iteration: 1 -- Number of linked entities 9\n",
      "Iteration: 2 -- Number of linked entities 1201\n",
      "Iteration: 3 -- Number of linked entities 3126\n",
      "Iteration: 4 -- Number of linked entities 3940\n",
      "Iteration: 5 -- Number of linked entities 4150\n",
      "Iteration: 6 -- Number of linked entities 4199\n",
      "Iteration: 7 -- Number of linked entities 4214\n",
      "Final number of linked entities 4214\n",
      "\n",
      "===== 13 =====\n",
      "Iteration: 1 -- Number of linked entities 7\n",
      "Iteration: 2 -- Number of linked entities 1199\n",
      "Iteration: 3 -- Number of linked entities 3124\n",
      "Iteration: 4 -- Number of linked entities 3938\n",
      "Iteration: 5 -- Number of linked entities 4148\n",
      "Iteration: 6 -- Number of linked entities 4197\n",
      "Iteration: 7 -- Number of linked entities 4212\n",
      "Final number of linked entities 4212\n",
      "\n",
      "===== 14 =====\n",
      "Iteration: 1 -- Number of linked entities 6\n",
      "Iteration: 2 -- Number of linked entities 1198\n",
      "Iteration: 3 -- Number of linked entities 3123\n",
      "Iteration: 4 -- Number of linked entities 3937\n",
      "Iteration: 5 -- Number of linked entities 4147\n",
      "Iteration: 6 -- Number of linked entities 4196\n",
      "Iteration: 7 -- Number of linked entities 4211\n",
      "Final number of linked entities 4211\n",
      "\n",
      "===== 15 =====\n",
      "Iteration: 1 -- Number of linked entities 5\n",
      "Iteration: 2 -- Number of linked entities 1197\n",
      "Iteration: 3 -- Number of linked entities 3122\n",
      "Iteration: 4 -- Number of linked entities 3936\n",
      "Iteration: 5 -- Number of linked entities 4146\n",
      "Iteration: 6 -- Number of linked entities 4195\n",
      "Iteration: 7 -- Number of linked entities 4210\n",
      "Final number of linked entities 4210\n",
      "\n",
      "===== 16 =====\n",
      "Iteration: 1 -- Number of linked entities 5\n",
      "Iteration: 2 -- Number of linked entities 1197\n",
      "Iteration: 3 -- Number of linked entities 3122\n",
      "Iteration: 4 -- Number of linked entities 3936\n",
      "Iteration: 5 -- Number of linked entities 4146\n",
      "Iteration: 6 -- Number of linked entities 4195\n",
      "Iteration: 7 -- Number of linked entities 4210\n",
      "Final number of linked entities 4210\n",
      "\n",
      "===== 17 =====\n",
      "Iteration: 1 -- Number of linked entities 5\n",
      "Iteration: 2 -- Number of linked entities 1197\n",
      "Iteration: 3 -- Number of linked entities 3122\n",
      "Iteration: 4 -- Number of linked entities 3936\n",
      "Iteration: 5 -- Number of linked entities 4146\n",
      "Iteration: 6 -- Number of linked entities 4195\n",
      "Iteration: 7 -- Number of linked entities 4210\n",
      "Final number of linked entities 4210\n",
      "\n",
      "===== 18 =====\n",
      "Iteration: 1 -- Number of linked entities 4\n",
      "Iteration: 2 -- Number of linked entities 1196\n",
      "Iteration: 3 -- Number of linked entities 3121\n",
      "Iteration: 4 -- Number of linked entities 3935\n",
      "Iteration: 5 -- Number of linked entities 4145\n",
      "Iteration: 6 -- Number of linked entities 4194\n",
      "Iteration: 7 -- Number of linked entities 4209\n",
      "Final number of linked entities 4209\n",
      "\n",
      "===== 19 =====\n",
      "Iteration: 1 -- Number of linked entities 3\n",
      "Iteration: 2 -- Number of linked entities 1195\n",
      "Iteration: 3 -- Number of linked entities 3120\n",
      "Iteration: 4 -- Number of linked entities 3934\n",
      "Iteration: 5 -- Number of linked entities 4144\n",
      "Iteration: 6 -- Number of linked entities 4193\n",
      "Iteration: 7 -- Number of linked entities 4208\n",
      "Final number of linked entities 4208\n",
      "\n",
      "===== 20 =====\n",
      "Iteration: 1 -- Number of linked entities 2\n",
      "Iteration: 2 -- Number of linked entities 1194\n",
      "Iteration: 3 -- Number of linked entities 3119\n",
      "Iteration: 4 -- Number of linked entities 3933\n",
      "Iteration: 5 -- Number of linked entities 4143\n",
      "Iteration: 6 -- Number of linked entities 4192\n",
      "Iteration: 7 -- Number of linked entities 4207\n",
      "Final number of linked entities 4207\n",
      "\n",
      "===== 21 =====\n",
      "Iteration: 1 -- Number of linked entities 1\n",
      "Iteration: 2 -- Number of linked entities 1193\n",
      "Iteration: 3 -- Number of linked entities 3118\n",
      "Iteration: 4 -- Number of linked entities 3932\n",
      "Iteration: 5 -- Number of linked entities 4142\n",
      "Iteration: 6 -- Number of linked entities 4191\n",
      "Iteration: 7 -- Number of linked entities 4206\n",
      "Final number of linked entities 4206\n",
      "\n",
      "===== 22 =====\n",
      "Iteration: 1 -- Number of linked entities 1\n",
      "Iteration: 2 -- Number of linked entities 1193\n",
      "Iteration: 3 -- Number of linked entities 3118\n",
      "Iteration: 4 -- Number of linked entities 3932\n",
      "Iteration: 5 -- Number of linked entities 4142\n",
      "Iteration: 6 -- Number of linked entities 4191\n",
      "Iteration: 7 -- Number of linked entities 4206\n",
      "Final number of linked entities 4206\n",
      "\n",
      "===== 23 =====\n",
      "Iteration: 1 -- Number of linked entities 1\n",
      "Iteration: 2 -- Number of linked entities 1193\n",
      "Iteration: 3 -- Number of linked entities 3118\n",
      "Iteration: 4 -- Number of linked entities 3932\n",
      "Iteration: 5 -- Number of linked entities 4142\n"
     ]
    },
    {
     "name": "stdout",
     "output_type": "stream",
     "text": [
      "Iteration: 6 -- Number of linked entities 4191\n",
      "Iteration: 7 -- Number of linked entities 4206\n",
      "Final number of linked entities 4206\n",
      "\n",
      "===== 24 =====\n",
      "Iteration: 1 -- Number of linked entities 1\n",
      "Iteration: 2 -- Number of linked entities 1193\n",
      "Iteration: 3 -- Number of linked entities 3118\n",
      "Iteration: 4 -- Number of linked entities 3932\n",
      "Iteration: 5 -- Number of linked entities 4142\n",
      "Iteration: 6 -- Number of linked entities 4191\n",
      "Iteration: 7 -- Number of linked entities 4206\n",
      "Final number of linked entities 4206\n",
      "\n",
      "===== 25 =====\n",
      "Iteration: 1 -- Number of linked entities 1\n",
      "Iteration: 2 -- Number of linked entities 1193\n",
      "Iteration: 3 -- Number of linked entities 3118\n",
      "Iteration: 4 -- Number of linked entities 3932\n",
      "Iteration: 5 -- Number of linked entities 4142\n",
      "Iteration: 6 -- Number of linked entities 4191\n",
      "Iteration: 7 -- Number of linked entities 4206\n",
      "Final number of linked entities 4206\n",
      "\n",
      "===== 26 =====\n",
      "Iteration: 1 -- Number of linked entities 1\n",
      "Iteration: 2 -- Number of linked entities 1193\n",
      "Iteration: 3 -- Number of linked entities 3118\n",
      "Iteration: 4 -- Number of linked entities 3932\n",
      "Iteration: 5 -- Number of linked entities 4142\n",
      "Iteration: 6 -- Number of linked entities 4191\n",
      "Iteration: 7 -- Number of linked entities 4206\n",
      "Final number of linked entities 4206\n",
      "\n",
      "===== 27 =====\n",
      "Iteration: 1 -- Number of linked entities 1\n",
      "Iteration: 2 -- Number of linked entities 1193\n",
      "Iteration: 3 -- Number of linked entities 3118\n",
      "Iteration: 4 -- Number of linked entities 3932\n",
      "Iteration: 5 -- Number of linked entities 4142\n",
      "Iteration: 6 -- Number of linked entities 4191\n",
      "Iteration: 7 -- Number of linked entities 4206\n",
      "Final number of linked entities 4206\n",
      "\n",
      "===== 28 =====\n",
      "Iteration: 1 -- Number of linked entities 1\n",
      "Iteration: 2 -- Number of linked entities 1193\n",
      "Iteration: 3 -- Number of linked entities 3118\n",
      "Iteration: 4 -- Number of linked entities 3932\n",
      "Iteration: 5 -- Number of linked entities 4142\n",
      "Iteration: 6 -- Number of linked entities 4191\n",
      "Iteration: 7 -- Number of linked entities 4206\n",
      "Final number of linked entities 4206\n",
      "\n",
      "===== 29 =====\n",
      "Iteration: 1 -- Number of linked entities 1\n",
      "Iteration: 2 -- Number of linked entities 1193\n",
      "Iteration: 3 -- Number of linked entities 3118\n",
      "Iteration: 4 -- Number of linked entities 3932\n",
      "Iteration: 5 -- Number of linked entities 4142\n",
      "Iteration: 6 -- Number of linked entities 4191\n",
      "Iteration: 7 -- Number of linked entities 4206\n",
      "Final number of linked entities 4206\n",
      "\n",
      "===== 30 =====\n",
      "Iteration: 1 -- Number of linked entities 1\n",
      "Iteration: 2 -- Number of linked entities 1193\n",
      "Iteration: 3 -- Number of linked entities 3118\n",
      "Iteration: 4 -- Number of linked entities 3932\n",
      "Iteration: 5 -- Number of linked entities 4142\n",
      "Iteration: 6 -- Number of linked entities 4191\n",
      "Iteration: 7 -- Number of linked entities 4206\n",
      "Final number of linked entities 4206\n"
     ]
    }
   ],
   "source": [
    "for conf in heuristic_2b_entity_node_conf:\n",
    "    print()\n",
    "    print('='*5, conf, '='*5)\n",
    "    found = True # at least one new link\n",
    "    i = 0\n",
    "    while found:\n",
    "        i += 1\n",
    "        found = False # until we find a new link\n",
    "        print('Iteration:', i, '-- Number of linked entities', len(heuristic_2b_entity_node_conf[conf]))\n",
    "        for channel in channels.values:\n",
    "            funding_tx, out_index = channel[0].split(':')\n",
    "            node_1 = channel[1]\n",
    "            node_2 = channel[2]\n",
    "            funded_address = funding_txs[funding_tx]['outputs'][int(out_index)]['address']\n",
    "\n",
    "            settlement_txs = funded_address_settlement_txs[funded_address]\n",
    "            # if channel is closed and number of outputs == 2 and one node is mapped to one entity in the outputs\n",
    "            if settlement_txs: # it is always only one\n",
    "                for settlement_tx in settlement_txs:\n",
    "                    # count entities\n",
    "                    entities = list(set([settlement_address_entity[out['address']] for out in settlement_tx['outputs']]))\n",
    "                    if len(entities) == 2:\n",
    "                        entity_1 = entities[0]\n",
    "                        entity_2 = entities[1]\n",
    "                        # if entity_1 is linked to one node in the channel, link the other node to the other entity\n",
    "                        if entity_1 in heuristic_2b_entity_node_conf[conf]:\n",
    "                            # entity_1 has a node, now find if it is in this channel\n",
    "                            if node_1 in heuristic_2b_entity_node_conf[conf][entity_1]:\n",
    "                                heuristic_2b_entity_node_conf[conf], found = add_node_to_entity(entity_2, node_2, heuristic_2b_entity_node_conf[conf], found)\n",
    "\n",
    "                            elif node_2 in heuristic_2b_entity_node_conf[conf][entity_1]:\n",
    "                                heuristic_2b_entity_node_conf[conf], found = add_node_to_entity(entity_2, node_1, heuristic_2b_entity_node_conf[conf], found)\n",
    "\n",
    "                        # if entity_2 is linked to one node in the channel, link the other node to the other entity\n",
    "                        if entity_2 in heuristic_2b_entity_node_conf[conf]:\n",
    "                            if node_1 in heuristic_2b_entity_node_conf[conf][entity_2]:\n",
    "                                heuristic_2b_entity_node_conf[conf], found = add_node_to_entity(entity_1, node_2, heuristic_2b_entity_node_conf[conf], found)\n",
    "\n",
    "                            elif node_2 in heuristic_2b_entity_node_conf[conf][entity_2]:\n",
    "                                heuristic_2b_entity_node_conf[conf], found = add_node_to_entity(entity_1, node_1, heuristic_2b_entity_node_conf[conf], found)\n",
    "\n",
    "    print('Final number of linked entities', (len(heuristic_2b_entity_node_conf[conf])))"
   ]
  },
  {
   "cell_type": "code",
   "execution_count": 166,
   "metadata": {
    "ExecuteTime": {
     "end_time": "2020-05-18T09:23:35.084039Z",
     "start_time": "2020-05-18T09:23:35.060957Z"
    }
   },
   "outputs": [
    {
     "name": "stdout",
     "output_type": "stream",
     "text": [
      "Number of total entities (funding + settlement): 92544\n"
     ]
    }
   ],
   "source": [
    "print('Number of total entities (funding + settlement):', len(set(funding_address_entity.values()).union(set(settlement_address_entity.values()))))"
   ]
  },
  {
   "cell_type": "code",
   "execution_count": 167,
   "metadata": {
    "ExecuteTime": {
     "end_time": "2020-05-18T09:23:35.097391Z",
     "start_time": "2020-05-18T09:23:35.086801Z"
    }
   },
   "outputs": [
    {
     "name": "stdout",
     "output_type": "stream",
     "text": [
      "4218 matching links out of 4218 entities in common\n"
     ]
    }
   ],
   "source": [
    "conf = 2\n",
    "entities_heuristics_1_2 = set(heuristic_1b_entity_node.keys()).intersection(set(heuristic_2b_entity_node_conf[conf].keys()))\n",
    "# to see if the two heuristics say the same\n",
    "same = 0\n",
    "for e in entities_heuristics_1_2:\n",
    "    if heuristic_1b_entity_node[e] == heuristic_2b_entity_node_conf[conf][e]:\n",
    "        same += 1\n",
    "print(same, 'matching links out of', len(entities_heuristics_1_2), 'entities in common')"
   ]
  },
  {
   "cell_type": "code",
   "execution_count": 168,
   "metadata": {
    "ExecuteTime": {
     "end_time": "2020-05-18T09:23:35.175096Z",
     "start_time": "2020-05-18T09:23:35.099684Z"
    }
   },
   "outputs": [],
   "source": [
    "heuristic_2b_node_entity_conf = dict()\n",
    "for conf in heuristic_2b_entity_node_conf:\n",
    "    heuristic_2b_node_entity_conf[conf] = dict()\n",
    "    for e, ns in heuristic_2b_entity_node_conf[conf].items():\n",
    "        for n in ns:\n",
    "            if n not in heuristic_2b_node_entity_conf[conf]:\n",
    "                heuristic_2b_node_entity_conf[conf][n] = set()\n",
    "            heuristic_2b_node_entity_conf[conf][n].add(e)    "
   ]
  },
  {
   "cell_type": "code",
   "execution_count": 169,
   "metadata": {
    "ExecuteTime": {
     "end_time": "2020-05-18T09:23:35.384715Z",
     "start_time": "2020-05-18T09:23:35.176788Z"
    }
   },
   "outputs": [
    {
     "data": {
      "image/png": "[encoded data removed]",
      "text/plain": [
       "<Figure size 1008x504 with 1 Axes>"
      ]
     },
     "metadata": {
      "needs_background": "light"
     },
     "output_type": "display_data"
    }
   ],
   "source": [
    "plt.figure(figsize=(14,7))\n",
    "plt.plot(heuristic_2b_entity_node_conf.keys(), [len(les) for les in heuristic_2b_entity_node_conf.values()], label='Linked entities')\n",
    "plt.plot(heuristic_2b_node_entity_conf.keys(), [len(lns) for lns in heuristic_2b_node_entity_conf.values()], label='Linked nodes')\n",
    "plt.title('Number of linked entities and nodes (Step 2)')\n",
    "plt.legend()\n",
    "plt.xlabel('Minimum confidence level')\n",
    "plt.show()"
   ]
  },
  {
   "cell_type": "code",
   "execution_count": 170,
   "metadata": {
    "ExecuteTime": {
     "end_time": "2020-05-18T09:23:35.405024Z",
     "start_time": "2020-05-18T09:23:35.386057Z"
    }
   },
   "outputs": [
    {
     "name": "stdout",
     "output_type": "stream",
     "text": [
      "Confidence level: 2 Entities with multiple nodes: 1\n",
      "Confidence level: 3 Entities with multiple nodes: 1\n",
      "Confidence level: 4 Entities with multiple nodes: 1\n",
      "Confidence level: 5 Entities with multiple nodes: 1\n",
      "Confidence level: 6 Entities with multiple nodes: 1\n",
      "Confidence level: 7 Entities with multiple nodes: 1\n",
      "Confidence level: 8 Entities with multiple nodes: 1\n",
      "Confidence level: 9 Entities with multiple nodes: 1\n",
      "Confidence level: 10 Entities with multiple nodes: 1\n",
      "Confidence level: 11 Entities with multiple nodes: 1\n",
      "Confidence level: 12 Entities with multiple nodes: 1\n",
      "Confidence level: 13 Entities with multiple nodes: 1\n",
      "Confidence level: 14 Entities with multiple nodes: 1\n",
      "Confidence level: 15 Entities with multiple nodes: 1\n",
      "Confidence level: 16 Entities with multiple nodes: 1\n",
      "Confidence level: 17 Entities with multiple nodes: 1\n",
      "Confidence level: 18 Entities with multiple nodes: 1\n",
      "Confidence level: 19 Entities with multiple nodes: 1\n",
      "Confidence level: 20 Entities with multiple nodes: 1\n",
      "Confidence level: 21 Entities with multiple nodes: 1\n",
      "Confidence level: 22 Entities with multiple nodes: 1\n",
      "Confidence level: 23 Entities with multiple nodes: 1\n",
      "Confidence level: 24 Entities with multiple nodes: 1\n",
      "Confidence level: 25 Entities with multiple nodes: 1\n",
      "Confidence level: 26 Entities with multiple nodes: 1\n",
      "Confidence level: 27 Entities with multiple nodes: 1\n",
      "Confidence level: 28 Entities with multiple nodes: 1\n",
      "Confidence level: 29 Entities with multiple nodes: 1\n",
      "Confidence level: 30 Entities with multiple nodes: 1\n"
     ]
    }
   ],
   "source": [
    "# check if entity mapping is unique\n",
    "for conf in heuristic_2b_entity_node_conf:\n",
    "    entities_with_multiple_nodes = 0\n",
    "    for fe, sn in heuristic_2b_entity_node_conf[conf].items():\n",
    "        if len(sn) != 1:\n",
    "            entities_with_multiple_nodes += 1\n",
    "    #         print(fe, len(sn)) # 585475938 3\n",
    "    print('Confidence level:', conf, 'Entities with multiple nodes:', entities_with_multiple_nodes)"
   ]
  },
  {
   "cell_type": "code",
   "execution_count": 171,
   "metadata": {
    "ExecuteTime": {
     "end_time": "2020-05-18T09:23:35.413815Z",
     "start_time": "2020-05-18T09:23:35.407764Z"
    }
   },
   "outputs": [
    {
     "name": "stdout",
     "output_type": "stream",
     "text": [
      "Confidence level: 2\n",
      "Number of nodes linked to multiple entities: 1063\n",
      "Max number of entities linked to a node: 120\n",
      "Alias of node with max number of entities: {'ACINQ'}\n"
     ]
    }
   ],
   "source": [
    "max_entities_per_node = 0\n",
    "conf = 2\n",
    "for n, e in heuristic_2b_node_entity_conf[conf].items():\n",
    "    if len(e) != 1:\n",
    "        if len(e) > max_entities_per_node:\n",
    "            max_entities_per_node = len(e)\n",
    "            node_with_max_entities = n\n",
    "        nodes_with_multiple_entities += 1\n",
    "#         print(len(e))\n",
    "print('Confidence level:', 2)\n",
    "print('Number of nodes linked to multiple entities:', nodes_with_multiple_entities)\n",
    "print('Max number of entities linked to a node:', max_entities_per_node)\n",
    "if node_with_max_entities in node_alias:\n",
    "    print('Alias of node with max number of entities:', node_alias[node_with_max_entities])"
   ]
  },
  {
   "cell_type": "code",
   "execution_count": 172,
   "metadata": {
    "ExecuteTime": {
     "end_time": "2020-05-18T09:23:35.420163Z",
     "start_time": "2020-05-18T09:23:35.414973Z"
    }
   },
   "outputs": [
    {
     "name": "stdout",
     "output_type": "stream",
     "text": [
      "Confidence level 2\n",
      "Top 10 nodes and sorted by of entities\n"
     ]
    },
    {
     "data": {
      "text/plain": [
       "[['03864ef025fde8fb587d989186ce6a4a186895ee44a926bfc370e2c366597a3f8f', 120],\n",
       " ['0331f80652fb840239df8dc99205792bba2e559a05469915804c08420230e23c7c', 92],\n",
       " ['02ad6fb8d693dc1e4569bcedefadf5f72a931ae027dc0f0c544b34c1c6f3b9a02b', 89],\n",
       " ['03c2abfa93eacec04721c019644584424aab2ba4dff3ac9bdab4e9c97007491dda', 70],\n",
       " ['03bb88ccc444534da7b5b64b4f7b15e1eccb18e102db0e400d4b9cfe93763aa26d', 68],\n",
       " ['030c3f19d742ca294a55c00376b3b355c3c90d61c6b6b39554dbc7ac19b141c14f', 48],\n",
       " ['03d06758583bb5154774a6eb221b1276c9e82d65bbaceca806d90e20c108f4b1c7', 48],\n",
       " ['02004c625d622245606a1ea2c1c69cfb4516b703b47945a3647713c05fe4aaeb1c', 45],\n",
       " ['02529db69fd2ebd3126fb66fafa234fc3544477a23d509fe93ed229bb0e92e4fb8', 45],\n",
       " ['0279c22ed7a068d10dc1a38ae66d2d6461e269226c60258c021b1ddcdfe4b00bc4', 43]]"
      ]
     },
     "execution_count": 172,
     "metadata": {},
     "output_type": "execute_result"
    }
   ],
   "source": [
    "node_n_entities_list = []\n",
    "conf = 2\n",
    "for n, e in heuristic_2b_node_entity_conf[conf].items():\n",
    "    node_n_entities_list.append([n, len(e)])\n",
    "node_n_entities_list.sort(key=lambda x: -x[1])\n",
    "N = 10\n",
    "print('Confidence level', conf)\n",
    "print('Top', N, 'nodes and sorted by of entities')\n",
    "node_n_entities_list[:10]"
   ]
  },
  {
   "cell_type": "code",
   "execution_count": 173,
   "metadata": {
    "ExecuteTime": {
     "end_time": "2020-05-18T09:23:35.825312Z",
     "start_time": "2020-05-18T09:23:35.421591Z"
    }
   },
   "outputs": [],
   "source": [
    "heuristic_2_entity_node_conf = {conf: {k: [e for e in v] for k, v in heuristic_2b_entity_node_conf[conf].items()} for conf in heuristic_2b_entity_node_conf}\n",
    "heuristic_2_node_entity_conf = {conf: {k: [e for e in v] for k, v in heuristic_2b_node_entity_conf[conf].items()} for conf in heuristic_2b_node_entity_conf}"
   ]
  },
  {
   "cell_type": "code",
   "execution_count": 174,
   "metadata": {
    "ExecuteTime": {
     "end_time": "2020-05-18T09:23:35.841152Z",
     "start_time": "2020-05-18T09:23:35.834652Z"
    }
   },
   "outputs": [],
   "source": [
    "# write_json(heuristic_2_entity_node_conf, '../data/joined/heuristic_2_entity_node_conf.json')\n",
    "# write_json(heuristic_2_node_entity_conf, '../data/joined/heuristic_2_node_entity_conf.json')"
   ]
  },
  {
   "cell_type": "code",
   "execution_count": 175,
   "metadata": {
    "ExecuteTime": {
     "end_time": "2020-05-18T09:23:35.847143Z",
     "start_time": "2020-05-18T09:23:35.844066Z"
    }
   },
   "outputs": [],
   "source": [
    "C = '{:,}'.format(len(channels)) "
   ]
  },
  {
   "cell_type": "code",
   "execution_count": 421,
   "metadata": {
    "ExecuteTime": {
     "end_time": "2020-05-25T08:51:26.996615Z",
     "start_time": "2020-05-25T08:51:26.966063Z"
    }
   },
   "outputs": [
    {
     "data": {
      "text/plain": [
       "156174"
      ]
     },
     "execution_count": 421,
     "metadata": {},
     "output_type": "execute_result"
    }
   ],
   "source": [
    "n_addresses = len(set(funding_address_entity.keys()).union(set(settlement_address_entity.keys())))\n",
    "n_addresses"
   ]
  },
  {
   "cell_type": "code",
   "execution_count": 426,
   "metadata": {
    "ExecuteTime": {
     "end_time": "2020-05-25T09:14:00.476755Z",
     "start_time": "2020-05-25T09:14:00.471635Z"
    }
   },
   "outputs": [
    {
     "data": {
      "text/plain": [
       "70782"
      ]
     },
     "execution_count": 426,
     "metadata": {},
     "output_type": "execute_result"
    }
   ],
   "source": [
    "len(funding_txs.keys())"
   ]
  },
  {
   "cell_type": "code",
   "execution_count": 425,
   "metadata": {
    "ExecuteTime": {
     "end_time": "2020-05-25T09:13:46.992565Z",
     "start_time": "2020-05-25T09:13:46.987530Z"
    }
   },
   "outputs": [
    {
     "data": {
      "text/plain": [
       "33503"
      ]
     },
     "execution_count": 425,
     "metadata": {},
     "output_type": "execute_result"
    }
   ],
   "source": [
    "len(settlement_txs_hashes)"
   ]
  },
  {
   "cell_type": "code",
   "execution_count": 429,
   "metadata": {
    "ExecuteTime": {
     "end_time": "2020-05-25T09:50:36.338416Z",
     "start_time": "2020-05-25T09:50:36.325626Z"
    }
   },
   "outputs": [
    {
     "data": {
      "text/plain": [
       "104285"
      ]
     },
     "execution_count": 429,
     "metadata": {},
     "output_type": "execute_result"
    }
   ],
   "source": [
    "n_txs_funding_settling = len(set(funding_txs.keys())) + len(set(settlement_txs_hashes))\n",
    "n_txs_funding_settling"
   ]
  },
  {
   "cell_type": "code",
   "execution_count": 176,
   "metadata": {
    "ExecuteTime": {
     "end_time": "2020-05-18T09:23:35.927709Z",
     "start_time": "2020-05-18T09:23:35.851852Z"
    }
   },
   "outputs": [
    {
     "data": {
      "text/plain": [
       "['70,783',\n",
       " '37,280',\n",
       " '8,267',\n",
       " '2018-01-12',\n",
       " '2020-02-24',\n",
       " '69,495',\n",
       " '28,106',\n",
       " '92,544']"
      ]
     },
     "execution_count": 176,
     "metadata": {},
     "output_type": "execute_result"
    }
   ],
   "source": [
    "C = '{:,}'.format(len(channels))\n",
    "C_o = '{:,}'.format(open_channels)\n",
    "N_1 = '{:,}'.format(len(node_channels))\n",
    "T_i = min([funding_txs[t]['timestamp'] for t in funding_txs]) # 1515732563\n",
    "T_f = max([funding_txs[t]['timestamp'] for t in funding_txs]) # 1582523863\n",
    "E_f = '{:,}'.format(len(funding_entity_channels_nodes))\n",
    "E_s = '{:,}'.format(len(set([e for e in settlement_address_entity.values()])))\n",
    "E = '{:,}'.format(len(set([e for e in settlement_address_entity.values()]).union(set([e for e in funding_address_entity.values()]))))\n",
    "data_in = [C, C_o, N_1, ts2date(T_i)[:10], ts2date(T_f)[:10], E_f, E_s, E]\n",
    "data_in"
   ]
  },
  {
   "cell_type": "code",
   "execution_count": 177,
   "metadata": {
    "ExecuteTime": {
     "end_time": "2020-05-18T09:23:35.933559Z",
     "start_time": "2020-05-18T09:23:35.929660Z"
    }
   },
   "outputs": [],
   "source": [
    "data_in_df = pd.DataFrame([data_in], columns=['C', 'C_o', 'N_1', 'T_i', 'T_f', 'E_f', 'E_s', 'E'])"
   ]
  },
  {
   "cell_type": "code",
   "execution_count": 178,
   "metadata": {
    "ExecuteTime": {
     "end_time": "2020-05-18T09:23:35.943984Z",
     "start_time": "2020-05-18T09:23:35.935404Z"
    }
   },
   "outputs": [],
   "source": [
    "data_in_df.to_latex('data_in_stats.tex', index=False)"
   ]
  },
  {
   "cell_type": "markdown",
   "metadata": {},
   "source": [
    "## Union of both heuristics"
   ]
  },
  {
   "cell_type": "code",
   "execution_count": 179,
   "metadata": {
    "ExecuteTime": {
     "end_time": "2020-05-18T09:23:35.982424Z",
     "start_time": "2020-05-18T09:23:35.945751Z"
    }
   },
   "outputs": [],
   "source": [
    "heuristic_1_2_entity_node = dict()\n",
    "for e, ns in heuristic_1b_entity_node.items():\n",
    "    if e not in heuristic_1_2_entity_node:\n",
    "        heuristic_1_2_entity_node[e] = set()\n",
    "    heuristic_1_2_entity_node[e] = heuristic_1_2_entity_node[e].union(ns)\n",
    "    \n",
    "for e, ns in heuristic_2b_entity_node_conf[2].items():\n",
    "    if e not in heuristic_1_2_entity_node:\n",
    "        heuristic_1_2_entity_node[e] = set()\n",
    "    heuristic_1_2_entity_node[e] = heuristic_1_2_entity_node[e].union(ns)"
   ]
  },
  {
   "cell_type": "code",
   "execution_count": 180,
   "metadata": {
    "ExecuteTime": {
     "end_time": "2020-05-18T09:23:35.988981Z",
     "start_time": "2020-05-18T09:23:35.984703Z"
    }
   },
   "outputs": [
    {
     "data": {
      "text/plain": [
       "4747"
      ]
     },
     "execution_count": 180,
     "metadata": {},
     "output_type": "execute_result"
    }
   ],
   "source": [
    "len(heuristic_1_2_entity_node)"
   ]
  },
  {
   "cell_type": "code",
   "execution_count": 181,
   "metadata": {
    "ExecuteTime": {
     "end_time": "2020-05-18T09:23:35.995885Z",
     "start_time": "2020-05-18T09:23:35.990817Z"
    }
   },
   "outputs": [
    {
     "data": {
      "text/plain": [
       "4218"
      ]
     },
     "execution_count": 181,
     "metadata": {},
     "output_type": "execute_result"
    }
   ],
   "source": [
    "len(set(heuristic_2b_entity_node_conf[2].keys()).intersection(set(heuristic_1b_entity_node.keys())))"
   ]
  },
  {
   "cell_type": "code",
   "execution_count": 182,
   "metadata": {
    "ExecuteTime": {
     "end_time": "2020-05-18T09:23:36.002610Z",
     "start_time": "2020-05-18T09:23:35.998207Z"
    }
   },
   "outputs": [
    {
     "data": {
      "text/plain": [
       "4218"
      ]
     },
     "execution_count": 182,
     "metadata": {},
     "output_type": "execute_result"
    }
   ],
   "source": [
    "len(set(heuristic_1b_entity_node.keys()))"
   ]
  },
  {
   "cell_type": "code",
   "execution_count": 183,
   "metadata": {
    "ExecuteTime": {
     "end_time": "2020-05-18T09:23:36.009169Z",
     "start_time": "2020-05-18T09:23:36.004775Z"
    }
   },
   "outputs": [
    {
     "data": {
      "text/plain": [
       "4747"
      ]
     },
     "execution_count": 183,
     "metadata": {},
     "output_type": "execute_result"
    }
   ],
   "source": [
    "len(heuristic_2b_entity_node_conf[2].keys())"
   ]
  },
  {
   "cell_type": "code",
   "execution_count": 184,
   "metadata": {
    "ExecuteTime": {
     "end_time": "2020-05-18T09:23:36.017466Z",
     "start_time": "2020-05-18T09:23:36.011006Z"
    }
   },
   "outputs": [],
   "source": [
    "# for node in node_openings_closings:\n",
    "#     print(node, node_openings_closings[node]['first_activity'], node_openings_closings[node]['last_activity'])"
   ]
  },
  {
   "cell_type": "markdown",
   "metadata": {},
   "source": [
    "## Alias clustering\n",
    "Clustering of LN nodes using alias, AS and IP addresses.\n",
    "\n",
    "If nodes are clustered together using alias/AS/IP, then we can say that they are controlled by the same real-world entity, this means that the Bitcoin entities related to a set of nodes in a cluster are also related, this could reduce the decentralization of the LN."
   ]
  },
  {
   "cell_type": "code",
   "execution_count": 192,
   "metadata": {
    "ExecuteTime": {
     "end_time": "2020-05-18T09:28:44.967862Z",
     "start_time": "2020-05-18T09:28:44.959037Z"
    }
   },
   "outputs": [],
   "source": [
    "alias_clusters_df = pd.read_csv('../data/joined/results/alias_address_clusters.csv')"
   ]
  },
  {
   "cell_type": "code",
   "execution_count": 208,
   "metadata": {
    "ExecuteTime": {
     "end_time": "2020-05-18T11:36:04.300405Z",
     "start_time": "2020-05-18T11:36:04.295690Z"
    }
   },
   "outputs": [],
   "source": [
    "alias_cluster_nodes = set()\n",
    "cluster_node = dict()\n",
    "for e in alias_clusters_df.values:\n",
    "    cluster, node = e[0], e[1]\n",
    "    alias_cluster_nodes.add(node)\n",
    "    if cluster not in cluster_node:\n",
    "        cluster_node[cluster] = set()\n",
    "    cluster_node[cluster].add(node)\n",
    "alias_cluster_nodes_intersection = alias_cluster_nodes.intersection(set(heuristic_1_node_entity.keys()))"
   ]
  },
  {
   "cell_type": "code",
   "execution_count": 209,
   "metadata": {
    "ExecuteTime": {
     "end_time": "2020-05-18T11:36:07.949559Z",
     "start_time": "2020-05-18T11:36:07.946178Z"
    }
   },
   "outputs": [
    {
     "data": {
      "text/plain": [
       "168"
      ]
     },
     "execution_count": 209,
     "metadata": {},
     "output_type": "execute_result"
    }
   ],
   "source": [
    "len(alias_cluster_nodes_intersection)"
   ]
  },
  {
   "cell_type": "code",
   "execution_count": null,
   "metadata": {},
   "outputs": [],
   "source": [
    "# how can we get closer to the correct number of real-world entities?\n",
    "# clustering together bitcoin entities (usign co-spend and channel heuristics)\n",
    "# clustering together LN nodes using alias/AS/AP\n",
    "# merging the results\n",
    "\n",
    "# initially we have N_e1 bitcoin entities\n",
    "# we merge them using channel heuristic 1 and obtain N_e2"
   ]
  },
  {
   "cell_type": "code",
   "execution_count": 211,
   "metadata": {
    "ExecuteTime": {
     "end_time": "2020-05-18T11:41:53.874603Z",
     "start_time": "2020-05-18T11:41:53.867316Z"
    }
   },
   "outputs": [
    {
     "data": {
      "text/plain": [
       "1265"
      ]
     },
     "execution_count": 211,
     "metadata": {},
     "output_type": "execute_result"
    }
   ],
   "source": [
    "len(heuristic_1_node_entity)"
   ]
  },
  {
   "cell_type": "code",
   "execution_count": 219,
   "metadata": {
    "ExecuteTime": {
     "end_time": "2020-05-18T11:51:49.777280Z",
     "start_time": "2020-05-18T11:51:49.771380Z"
    }
   },
   "outputs": [
    {
     "name": "stdout",
     "output_type": "stream",
     "text": [
      "Number of (close-to-real-world) entities we get combining Friedhelm and Matteo's heuristics: 1263 out of 1265 LN nodes and  4218 bitcoin entities\n"
     ]
    }
   ],
   "source": [
    "seen_entities = set()\n",
    "N_e2 = 0\n",
    "seen_nodes = set()\n",
    "for n, es in heuristic_1_node_entity.items():\n",
    "    for e in es:\n",
    "        if e not in seen_entities:\n",
    "            seen_entities.add(e)\n",
    "            if n not in seen_nodes:\n",
    "                seen_nodes.add(n)\n",
    "                N_e2 += 1\n",
    "print('Number of (close-to-real-world) entities we get combining Friedhelm and Matteo\\'s heuristics:', N_e2, 'out of', len(heuristic_1_node_entity), 'LN nodes and ', len(heuristic_1_entity_node), 'bitcoin entities')"
   ]
  },
  {
   "cell_type": "code",
   "execution_count": 447,
   "metadata": {
    "ExecuteTime": {
     "end_time": "2020-05-26T11:50:43.207950Z",
     "start_time": "2020-05-26T11:50:43.199489Z"
    }
   },
   "outputs": [
    {
     "name": "stdout",
     "output_type": "stream",
     "text": [
      "Number of (close-to-real-world) entities we get combining Friedhelm and Matteo's heuristics: 2033 out of 1265 LN nodes and  4218 bitcoin entities\n"
     ]
    }
   ],
   "source": [
    "seen_entities = set()\n",
    "N_e2 = 0\n",
    "seen_nodes = set()\n",
    "for n, es in heuristic_2_node_entity_conf['2'].items():\n",
    "    for e in es:\n",
    "        if e not in seen_entities:\n",
    "            seen_entities.add(e)\n",
    "            if n not in seen_nodes:\n",
    "                seen_nodes.add(n)\n",
    "                N_e2 += 1\n",
    "print('Number of (close-to-real-world) entities we get combining Friedhelm and Matteo\\'s heuristics:', N_e2, 'out of', len(heuristic_1_node_entity), 'LN nodes and ', len(heuristic_1_entity_node), 'bitcoin entities')"
   ]
  },
  {
   "cell_type": "code",
   "execution_count": 451,
   "metadata": {
    "ExecuteTime": {
     "end_time": "2020-05-26T11:55:27.849848Z",
     "start_time": "2020-05-26T11:55:27.845443Z"
    }
   },
   "outputs": [
    {
     "name": "stdout",
     "output_type": "stream",
     "text": [
      "585475938 "
     ]
    }
   ],
   "source": [
    "for e, ns in heuristic_2_entity_node_conf['2'].items():\n",
    "    if len(ns) > 2:\n",
    "        print(e, end=' ')"
   ]
  },
  {
   "cell_type": "code",
   "execution_count": 459,
   "metadata": {
    "ExecuteTime": {
     "end_time": "2020-05-26T12:00:56.648173Z",
     "start_time": "2020-05-26T12:00:56.640125Z"
    }
   },
   "outputs": [
    {
     "name": "stdout",
     "output_type": "stream",
     "text": [
      "02d3b4da689caaed39d293a41d1bacd5061355b4225c1eaa2d4460fd27439aaa36\n",
      "037ad988bfeca5885b3eab0abb9db4658bb31a6510a03b9181a754e480fc558338\n",
      "0229cf81c21bbd21c2a41a4ae645933b89bb6d9a5920ca90e41ba270666879adab\n",
      "0229cf81c21bbd21c2a41a4ae645933b89bb6d9a5920ca90e41ba270666879adab {'BOOYAH'}\n"
     ]
    }
   ],
   "source": [
    "for n in heuristic_1_entity_node[585475938]:\n",
    "    print(n)\n",
    "    if n in node_alias:\n",
    "        print(n, node_alias[n])\n",
    "    if n in node_ip:\n",
    "        print(n, node_ip[n])"
   ]
  },
  {
   "cell_type": "code",
   "execution_count": 460,
   "metadata": {
    "ExecuteTime": {
     "end_time": "2020-05-26T12:01:15.656525Z",
     "start_time": "2020-05-26T12:01:15.650527Z"
    }
   },
   "outputs": [
    {
     "data": {
      "text/plain": [
       "{'2346f6afe058beb5d5ea66ec15581b9b8dcbf42fd2045922d97851afc58e70bd:1',\n",
       " '6140d3cdd57cd880b7b0b65447dec43b4fa1c46f5a77abea74b7220346d8a87b:1',\n",
       " '90aa962cc8484382eee28acb359c9858070059e295e1118e867743437a56501c:0',\n",
       " 'e3ec0bf86841ec516995a60d5ec640516a1bdd0baef01da21222a9fcdf2c8d4c:0',\n",
       " 'fcdb6342124154b9df695c637e962a7c7a991e17ad32632585b368cdb18bf086:1'}"
      ]
     },
     "execution_count": 460,
     "metadata": {},
     "output_type": "execute_result"
    }
   ],
   "source": [
    "# how can many nodes be linked to the same entity?\n",
    "node_channels[n]"
   ]
  },
  {
   "cell_type": "code",
   "execution_count": 527,
   "metadata": {
    "ExecuteTime": {
     "end_time": "2020-05-26T12:33:16.352468Z",
     "start_time": "2020-05-26T12:33:16.103840Z"
    },
    "scrolled": true
   },
   "outputs": [
    {
     "name": "stdout",
     "output_type": "stream",
     "text": [
      "\n",
      "funding entity--------\n",
      "581251394\n",
      "n1--------------\n",
      "022755c3ff4e5a1d71f573cda4b315887fc00a9e5c9ea9a847d939f3e517e69a70 [610379778, 573408904, 586941580, 523820311, -15193, -15832, -11606, 525958189, -13906, 561522608, 602537265, 549230387, 589369780, 599246775, 520456956, 584944709, -15160, -12344, -15030, 598239305, 612442952, 547054542, -16172, 488461910, 582571740, 585475939, 570305639, -16151, 555401844, 595246074, 540820988]\n",
      "n2--------------\n",
      "037ad988bfeca5885b3eab0abb9db4658bb31a6510a03b9181a754e480fc558338 [585475938]\n",
      "settlement entities-------------------\n",
      "585475938\n",
      "584944709\n",
      "\n",
      "funding entity--------\n",
      "578384702\n",
      "n1--------------\n",
      "0229cf81c21bbd21c2a41a4ae645933b89bb6d9a5920ca90e41ba270666879adab [585475938]\n",
      "n2--------------\n",
      "034ea80f8b148c750463546bd999bf7321a0e6dfc60aaf84bd0400a2e8d376c0d5 [-16509, -16121, -15991, 542680845, 610379792, -15852, -15967, 534245690, -15814, -15813, -16196, 540820157, -16191, -5817, -16183, -16566, 594418125, -16050, 589788241, -15913, 549230425, -16166, 580794079, -16540, 530056293, 598816490]\n",
      "settlement entities-------------------\n",
      "585475938\n",
      "580794079\n",
      "\n",
      "funding entity--------\n",
      "572993262\n",
      "n1--------------\n",
      "0229cf81c21bbd21c2a41a4ae645933b89bb6d9a5920ca90e41ba270666879adab [585475938]\n",
      "n2--------------\n",
      "03d37fca0656558de4fd86bbe490a38d84a46228e7ec1361801f54f9437a18d618 [527583233, 571608323, 611552773, 516487173, 539515402, 549230347, 588247692, 602018829, 488448525, 577168527, 575766677, 544225045, 546883482, 522052636, 613327772, 586941598, 534875808, 545522849, -5854, 543279909, 521260200, 579615530, 581227824, 586735153, 589387571, 542958522, 575238074, 560959677, 541160900, 607671364, 540820815, 592573522, 554657878, 572384983, 599346269, 549463776, 519597947, 604755439, 523595760, 576720115, 580641272, 547415803, 607084412]\n",
      "settlement entities-------------------\n",
      "585475938\n",
      "577168527\n",
      "\n",
      "funding entity--------\n",
      "581595826\n",
      "n1--------------\n",
      "022755c3ff4e5a1d71f573cda4b315887fc00a9e5c9ea9a847d939f3e517e69a70 [610379778, 573408904, 586941580, 523820311, -15193, -15832, -11606, 525958189, -13906, 561522608, 602537265, 549230387, 589369780, 599246775, 520456956, 584944709, -15160, -12344, -15030, 598239305, 612442952, 547054542, -16172, 488461910, 582571740, 585475939, 570305639, -16151, 555401844, 595246074, 540820988]\n",
      "n2--------------\n",
      "02d3b4da689caaed39d293a41d1bacd5061355b4225c1eaa2d4460fd27439aaa36 [585475938]\n",
      "settlement entities-------------------\n",
      "585475938\n",
      "585475939\n",
      "\n",
      "funding entity--------\n",
      "580970658\n",
      "n1--------------\n",
      "0229cf81c21bbd21c2a41a4ae645933b89bb6d9a5920ca90e41ba270666879adab [585475938]\n",
      "n2--------------\n",
      "03fce165537aea120bffe8505876b44d5119354f825b3eac329b761fc5636bf334 [522438145, 607664518, 531218701, 560092686, 574095637, 540820504, 587515933, 577713695, 580970658, 612059434, 547396651, 538930351, 579283891, 600352570, 545865018, 488462014, -15937, 549903807, 589988166, 551160648, 555049417, 612057546, 585299663, 611611345, 476528604, -17697, 537184099, 581227495, 594672235, 558022386, 575241586, -15116, -16139]\n",
      "settlement entities-------------------\n",
      "585475938\n",
      "581227495\n",
      "\n",
      "funding entity--------\n",
      "581467896\n",
      "n1--------------\n",
      "028a8e53d70bc0eb7b5660943582f10b7fd6c727a78ad819ba8d45d6a638432c49 [610621194, 587713806, -12653, 530766368, 582303265, 546885282, 551167650, 570547239, 580433833, 602019627, 586941612, 606891436, 597421613, 575238072, 590439736, -15171, 611611328, 554409544, 592573520, -15790, 525391959, -15143, 540820571, 476528610, -15771, -15131, 585222767, 516915570, 599177333, -16258]\n",
      "n2--------------\n",
      "037ad988bfeca5885b3eab0abb9db4658bb31a6510a03b9181a754e480fc558338 [585475938]\n",
      "settlement entities-------------------\n",
      "585475938\n",
      "582303265\n"
     ]
    }
   ],
   "source": [
    "# find which channels are related to 585475938\n",
    "multinode_e = 585475938\n",
    "for channel in channels.values:\n",
    "    chan_point, n1, n2 = channel\n",
    "    funding_tx, out_index = chan_point.split(':')\n",
    "    funded_address = funding_txs[funding_tx]['outputs'][int(out_index)]['address']\n",
    "    stx = funded_address_settlement_txs[funded_address]\n",
    "    if stx:\n",
    "        for i in stx[0]['outputs']:\n",
    "            if i['address'] in multinode_addresses:# and str(multinode_e) == str(settlement_address_entity[i['address']]):\n",
    "                print()\n",
    "                print('funding entity--------')\n",
    "                print(funding_address_entity[funding_txs[funding_tx]['inputs'][0]['address']])\n",
    "#                 print('channel-----------')\n",
    "#                 print(channel)\n",
    "                print('n1--------------')\n",
    "                print(n1, heuristic_2_node_entity_conf['2'][n1])\n",
    "                print('n2--------------')\n",
    "                print(n2, heuristic_2_node_entity_conf['2'][n2])\n",
    "#                 print('funded address------------')\n",
    "#                 print(funded_address)\n",
    "                print('settlement entities-------------------')\n",
    "                for out in stx[0]['outputs']:\n",
    "                    print(settlement_address_entity[out['address']])"
   ]
  },
  {
   "cell_type": "code",
   "execution_count": 529,
   "metadata": {
    "ExecuteTime": {
     "end_time": "2020-05-26T12:43:05.948923Z",
     "start_time": "2020-05-26T12:43:05.945346Z"
    }
   },
   "outputs": [],
   "source": [
    "# 022755c3ff4e5a1d71f573cda4b315887fc00a9e5c9ea9a847d939f3e517e69a70\n",
    "# 037ad988bfeca5885b3eab0abb9db4658bb31a6510a03b9181a754e480fc558338 585475938\n",
    "# \n",
    "# 0229cf81c21bbd21c2a41a4ae645933b89bb6d9a5920ca90e41ba270666879adab 585475938\n",
    "# 034ea80f8b148c750463546bd999bf7321a0e6dfc60aaf84bd0400a2e8d376c0d5\n",
    "# \n",
    "# 0229cf81c21bbd21c2a41a4ae645933b89bb6d9a5920ca90e41ba270666879adab 585475938\n",
    "# 03d37fca0656558de4fd86bbe490a38d84a46228e7ec1361801f54f9437a18d618\n",
    "# \n",
    "# 022755c3ff4e5a1d71f573cda4b315887fc00a9e5c9ea9a847d939f3e517e69a70\n",
    "# 02d3b4da689caaed39d293a41d1bacd5061355b4225c1eaa2d4460fd27439aaa36 585475938\n",
    "# \n",
    "# 0229cf81c21bbd21c2a41a4ae645933b89bb6d9a5920ca90e41ba270666879adab 585475938\n",
    "# 03fce165537aea120bffe8505876b44d5119354f825b3eac329b761fc5636bf334\n",
    "# \n",
    "# 028a8e53d70bc0eb7b5660943582f10b7fd6c727a78ad819ba8d45d6a638432c49\n",
    "# 037ad988bfeca5885b3eab0abb9db4658bb31a6510a03b9181a754e480fc558338 585475938"
   ]
  },
  {
   "cell_type": "code",
   "execution_count": null,
   "metadata": {},
   "outputs": [],
   "source": [
    "# a linked entity settles a channel with 585475938 which is then linked to the other node\n",
    "# 585475938 is used to settle different channels from different channels"
   ]
  },
  {
   "cell_type": "code",
   "execution_count": 466,
   "metadata": {
    "ExecuteTime": {
     "end_time": "2020-05-26T12:04:49.226938Z",
     "start_time": "2020-05-26T12:04:49.220644Z"
    }
   },
   "outputs": [
    {
     "data": {
      "text/plain": [
       "True"
      ]
     },
     "execution_count": 466,
     "metadata": {},
     "output_type": "execute_result"
    }
   ],
   "source": [
    "# entity is 585475938\n",
    "# nodes are\n",
    "# 02d3b4da689caaed39d293a41d1bacd5061355b4225c1eaa2d4460fd27439aaa36\n",
    "# 037ad988bfeca5885b3eab0abb9db4658bb31a6510a03b9181a754e480fc558338\n",
    "# 0229cf81c21bbd21c2a41a4ae645933b89bb6d9a5920ca90e41ba270666879adab\n",
    "585475938 in settlement_entities"
   ]
  },
  {
   "cell_type": "code",
   "execution_count": 501,
   "metadata": {
    "ExecuteTime": {
     "end_time": "2020-05-26T12:18:44.713253Z",
     "start_time": "2020-05-26T12:18:44.710594Z"
    }
   },
   "outputs": [],
   "source": [
    "multinode_addresses = settlement_entity_addresses[multinode_e]"
   ]
  },
  {
   "cell_type": "code",
   "execution_count": 503,
   "metadata": {
    "ExecuteTime": {
     "end_time": "2020-05-26T12:18:59.730442Z",
     "start_time": "2020-05-26T12:18:59.725333Z"
    }
   },
   "outputs": [
    {
     "data": {
      "text/plain": [
       "True"
      ]
     },
     "execution_count": 503,
     "metadata": {},
     "output_type": "execute_result"
    }
   ],
   "source": [
    "multinode_addresses[0] in settlement_addresses"
   ]
  },
  {
   "cell_type": "code",
   "execution_count": 474,
   "metadata": {
    "ExecuteTime": {
     "end_time": "2020-05-26T12:08:57.843016Z",
     "start_time": "2020-05-26T12:08:57.836778Z"
    }
   },
   "outputs": [
    {
     "data": {
      "text/plain": [
       "{'tx_hash': '000086d9c667afcaee614ccf39e820ec44229602fae7beeeda65bed915b09287',\n",
       " 'coinbase': False,\n",
       " 'height': 610375,\n",
       " 'inputs': [{'address': 'bc1q27p88fsqn3wunjnspxpmgamzy88fwr2h4ztcms',\n",
       "   'value': {'eur': 2.85, 'value': 43130, 'usd': 3.19}},\n",
       "  {'address': 'bc1qfwryeqdmcdjltpht4s33rj7cpzwku4jg0nwrxk',\n",
       "   'value': {'eur': 25.24, 'value': 381513, 'usd': 28.22}}],\n",
       " 'outputs': [{'address': 'bc1qez2r5zp6wgkudyexd9dq4ssa8nze0hmafd2fux',\n",
       "   'value': {'eur': 1.62, 'value': 24420, 'usd': 1.81}},\n",
       "  {'address': 'bc1q5feeqqrnf4hlddpu87yf24lf4z7nwz77pygfywr7wtd75u2ys29qnk8s7f',\n",
       "   'value': {'eur': 26.47, 'value': 400000, 'usd': 29.59}}],\n",
       " 'timestamp': 1577661560,\n",
       " 'total_input': {'eur': 28.1, 'value': 424643, 'usd': 31.41},\n",
       " 'total_output': {'eur': 28.08, 'value': 424420, 'usd': 31.4}}"
      ]
     },
     "execution_count": 474,
     "metadata": {},
     "output_type": "execute_result"
    }
   ],
   "source": [
    "funding_txs[funding_tx]"
   ]
  },
  {
   "cell_type": "code",
   "execution_count": 454,
   "metadata": {
    "ExecuteTime": {
     "end_time": "2020-05-26T11:55:47.081632Z",
     "start_time": "2020-05-26T11:55:47.077625Z"
    }
   },
   "outputs": [
    {
     "data": {
      "text/plain": [
       "['0229cf81c21bbd21c2a41a4ae645933b89bb6d9a5920ca90e41ba270666879adab',\n",
       " '02d3b4da689caaed39d293a41d1bacd5061355b4225c1eaa2d4460fd27439aaa36',\n",
       " '037ad988bfeca5885b3eab0abb9db4658bb31a6510a03b9181a754e480fc558338']"
      ]
     },
     "execution_count": 454,
     "metadata": {},
     "output_type": "execute_result"
    }
   ],
   "source": [
    "heuristic_2_entity_node_conf['2']['585475938']"
   ]
  },
  {
   "cell_type": "code",
   "execution_count": 210,
   "metadata": {
    "ExecuteTime": {
     "end_time": "2020-05-18T11:36:36.347823Z",
     "start_time": "2020-05-18T11:36:36.333304Z"
    }
   },
   "outputs": [
    {
     "name": "stdout",
     "output_type": "stream",
     "text": [
      "02e7d62870509b6dcf3980509d1d0d59c56509508c47a88dfa3d6f01dd5e312639 1\n",
      "02ae1cbbd484a2bf7384611addab02dcf1997c4ac88d289b6953b54148b1fdb188 3\n",
      "02c91d6aa51aa940608b497b6beebcb1aec05be3c47704b682b3889424679ca490 24\n",
      "0283065d6d5b1fbeaa1f21e62755b4b834c4fabd2765d9522f5a79ec216fec3013 1\n",
      "03be5c53f444e4aae7276c7bf47a9d54738894825e7ac0ce51caa73a9efe5d7b13 1\n",
      "027e70d8859e090ed975b11cfa02109221482954a254dff185e4142188eb66518b 2\n",
      "02911515d46e371eacb87dbd5f513b03ab23031d17c3668293a8cca5369072dbea 2\n",
      "03ecb269628f27be3f8b032ae5a7480df8a7e943997bda0752632c05744d06bd77 1\n",
      "032ebdae3314f072acd70e66e18572e6ba27f96918009369585e7cdcf36af3cf9e 2\n",
      "03b3cdfbe44de70253b2d3719683632b74564da8be48415618d86328988ae9eb74 1\n",
      "02ede2c27062cc2b0a04aa49fb456fba071bb160b24e54d3e1252b8404db2a298a 1\n",
      "0374ecf61ed6c1208c42339f47decde2bc0c4393ac95f07827b3471e939d7eb961 4\n",
      "033e9ce4e8f0e68f7db49ffb6b9eecc10605f3f3fcb3c630545887749ab515b9c7 24\n",
      "0311cad0edf4ac67298805cf4407d94358ca60cd44f2e360856f3b1c088bcd4782 16\n",
      "0356c02ffe265f8ff38471e901785528d3da0668cd0a590ed67ee809d929c9bfd4 3\n",
      "0217f595c689d9628574d1d5ffaecaecf85e3b4b21d98872eeada228a13b644700 2\n",
      "033fc997c1622281b143fce0cce0711f18fdc8129684840b835d6a4c5ef9d49ddf 1\n",
      "03b06475fa4be84f5407eff45041a0d3a54f19d7f88349a8c992352ba6dad72168 1\n",
      "03d24a4d2c8841890779f3c788cd269d467ad8ff8fcfdc21c8ceead42c7dd7f04b 4\n",
      "02447a440bcb52f7e482e03ca7da9fcf8f82a6cc4cbe202978881656c0be4dc617 1\n",
      "0280247f88e7519c1839cc4a04f0db58b7455b4ebb40236fba9da11a8c9076f0a4 1\n",
      "03d9a5341083d9ae16fd4f6fc117ed8a7f25689c02d0e3f4a955d45105e5ba9c63 1\n",
      "02cb44d95042374782c184739d6739bdeeb0998efa73f6655e93a0ccdc39aaa282 1\n",
      "025a14b8ed40583d67aec92da19453e0b2d1fbbf75f96f85d3dd0ff61a51ee0490 7\n",
      "039edc94987c8f3adc28dab455efc00dea876089a120f573bd0b03c40d9d3fb1e1 26\n",
      "02a0bc43557fae6af7be8e3a29fdebda819e439bea9c0f8eb8ed6a0201f3471ca9 5\n",
      "038ae197828f0ffd732352733564614a9f7f1dcda0253b9d22289ca9efe066368b 2\n",
      "028ff87c9ad3f2889f69bed50048e15b2df9174aa248bb757f7a2726577e3a7031 1\n",
      "02ff5cf0b761187b713241860b6b1eeb8e0b7d7af45259b534f5464c2c91825d6d 1\n",
      "037e4ec6874f427dc67b62326dc70d1515b85f8e66081c55bdff22ba786d5fcdfc 1\n",
      "031e8f3e16f06f78249497161f23fa50b3218c7a15c895149459942836ffc53f6c 1\n",
      "02c16cca44562b590dd279c942200bdccfd4f990c3a69fad620c10ef2f8228eaff 4\n",
      "032bacf5bde9c1e714b7e8c178dd52eb69fdd67810ab219a6bec2afa8feb11bebf 1\n",
      "032f65f12d290b3af6d62acf3dfe0c7c0bc3561fb8e6057d0aa81b227e8b79d2ac 1\n",
      "02356908491a41e6d585adc2ed2b7a1dfd7eae2b02ce2e6d8a86e10d35f2117c6a 1\n",
      "0388bf73f72eebf823ba88ee621390f9e7d74ecdb6a1092fc88f15654cc7da4513 1\n",
      "028737303e12cb84643d1f0181812b559a56ef5d78b4c43d1cc0c1c1f17dc88722 1\n",
      "0234c548106512a0b93b2555d2638bc2fed3e6b091f75298383356258996230d92 3\n",
      "0395033b252c6f40e3756984162d68174e2bd8060a129c0d3462a9370471c6d28f 29\n",
      "03dab87ff8635982815c4567eb58af48f9944d11c56beb12b91e1049aaea06e187 16\n",
      "03afff2ce5cb1aedb612ba311421d0ffc6f4ed6279af3e7e3f2575c635577c5d9f 2\n",
      "030c3f19d742ca294a55c00376b3b355c3c90d61c6b6b39554dbc7ac19b141c14f 47\n",
      "0242a4ae0c5bef18048fbecf995094b74bfb0f7391418d71ed394784373f41e4f3 30\n",
      "03ca764b2116f081d9457c007f3615f3f9820b1bfd8b3a9223b9429b9d6d468aab 3\n",
      "03e5ea100e6b1ef3959f79627cb575606b19071235c48b3e7f9808ebcd6d12e87d 24\n",
      "020b95133888176c1def9d03b5426aa13d6c5c7f3406c946441ce2eaab23c40834 1\n",
      "02ce271be6ed786a68aaf821893e9387d7d39dec0a43741774f7130b7c1f69abc3 1\n",
      "02bb24da3d0fb0793f4918c7599f973cc402f0912ec3fb530470f1fc08bdd6ecb5 25\n",
      "03a2b9adc3086b0ba7844bcda0159f11967e5558e430f168ee7ee797cb9830d742 1\n",
      "030bfe79edbab48b93bab7a550bb87d0c1a32bb8c8db1cc22fe4a13b54a3b0442e 2\n",
      "03fb822818be083e0a954db85257a2911a3d55458b8c1ea4124b157e865a836d12 33\n",
      "030995c0c0217d763c2274aa6ed69a0bb85fa2f7d118f93631550f3b6219a577f5 21\n",
      "034bb5a4358f20452b91179cc0c76cefa2217e911f4876e72d631fc394ebabf2ed 1\n",
      "027986b16bb9d8c541aff8e8df339548189f3077d0f42a517f7ce57135e8a9c19d 2\n",
      "03cb7983dc247f9f81a0fa2dfa3ce1c255365f7279c8dd143e086ca333df10e278 5\n",
      "02247d9db0dfafea745ef8c9e161eb322f73ac3f8858d8730b6fd97254747ce76b 32\n",
      "0390f3326cf49735b614254ee2676ed0c23311009d974364d0580d3419440feba6 1\n",
      "033254519c33b0b86ad8796c44cd8a04b3333149881d1453ce963c14e4af910099 1\n",
      "02f25d5c49b600a24892285cfbd037d9e75a2f98448155b63be582b425558271c1 1\n",
      "03bc9337c7a28bb784d67742ebedd30a93bacdf7e4ca16436ef3798000242b2251 27\n",
      "03fce165537aea120bffe8505876b44d5119354f825b3eac329b761fc5636bf334 27\n",
      "03f78684b49e125d73c1801b3529f7d663f08ae7e1dd5db416fe69d9cb47b1c50f 1\n",
      "03fd105d7df6595d5a36f016b8ff9ca74e5474e29593c4bba85f4d7ad4663bc5ee 2\n",
      "031cc35d487b8fae5f24df919e8ce5ad2a6bbf489f67694e5a929f10eee0e000a5 1\n",
      "037667a61f11bdfd28a04c8c2031c388ff8cc52d00a87e62910bf03e1667312d64 1\n",
      "0230d70b0506aa447a1db407cc04e41448ab92bbd373f5c9a1029a40f357fcdcad 2\n",
      "034143d1a45cb9bcb912eab97facf4a971098385c4701753d6bc40e52192d0c04f 4\n",
      "03d5bea67ea6cb0478411aab69a437ab8a451669f49997c78678ec3f5c14e0088f 1\n",
      "02de11c748f5b25cfd2ce801176d3926bfde4de23b1ff43e692a5b76cf06805e4a 13\n",
      "02bcc5eb93afaf0bcec15272702ff7122550f56bbb6c9f7da4fa235000834bda04 2\n",
      "03e81a5b8af31bc00a1c1c08419d3272b4982db02feafd739904df2edfcbdf6f7e 1\n",
      "02b77853653ff464339740c06e927ddcc5540487847256d342b98909532853b13d 2\n",
      "02398b614028892474fc95ed64c48791f994975042d0bd7e9592d0ec4128bbace4 1\n",
      "03d34c207eecb9045228c9f835d7a2ed950f2ba03a4f173ed6fd3a895cf00de201 1\n",
      "03785c99cd75dcd0b3f2f4cedc5a82e108396abba65f107e97d93e3fdb212d38f4 2\n",
      "0265fae305778b7cb157365f70cf3a2047d2cad5c1ccc5f550c6d8a033084a8ea5 1\n",
      "032679fec1213e5b0a23e066c019d7b991b95c6e4d28806b9ebd1362f9e32775cf 40\n",
      "035f5236d7e6c6d16107c1f86e4514e6ccdd6b2c13c2abc1d7a83cd26ecb4c1d0e 22\n",
      "0254ff808f53b2f8c45e74b70430f336c6c76ba2f4af289f48d6086ae6e60462d3 28\n",
      "028303182c9885da93b3b25c9621d22cf34475e63c123942e402ab530c0556e675 1\n",
      "028c1da32603fce64118e469ffe2cfeec04d1c4bd88205efb4e8b4208f77a8064e 1\n",
      "02725e5abcbf5550fc29e6b19706a1377f25d2b1502684f9be9965b6deac167520 5\n",
      "02ad6fb8d693dc1e4569bcedefadf5f72a931ae027dc0f0c544b34c1c6f3b9a02b 86\n",
      "0303a518845db99994783f606e6629e705cfaf072e5ce9a4d8bf9e249de4fbd019 27\n",
      "02809e936f0e82dfce13bcc47c77112db068f569e1db29e7bf98bcdd68b838ee84 4\n",
      "02868e12f320073cad0c2959c42559fbcfd1aa326fcb943492ed7f02c9820aa399 1\n",
      "03ed7a880e89471a8493b156e97528bf7e89747cdb1559e05df0483fc8109cff8d 1\n",
      "0269e5160b835bfcd272731e4ac8e6236c8f3eef651bf285349f6f0c40091f9d62 1\n",
      "03efccf2c383d7bf340da9a3f02e2c23104a0e4fe8ac1a880c8e2dc92fbdacd9df 1\n",
      "02d7ca7aae77a43a65a50cbf806cf7b43af2f89c1cf331f98a3415263fa2031368 2\n",
      "02e7c42ae2952d7a71398e23535b53ffc60deb269acbc7c10307e6b797b91b1e79 19\n",
      "030c8f06c7e27ddfac55f0239d9c0a064d478b1b525fcc7888d9df281da1a54a43 1\n",
      "0233502f6370758ede277d0ee5308a900feffeea29dbe9fc9593d1d0c30b2eb30e 23\n",
      "03482dc539383f17533dc53dd61c158668406b137565bedc18f0db9219df28361f 1\n",
      "02e6479366043ef69d75682831947010843b2d94aef9131ba8ef492857d347b664 1\n",
      "02311c86867d6d148baf454260c7a9d0016d3f7da64e4803f1e6c5d0d1135afd2a 1\n",
      "03952f8756c036669440e06c782c7f21732886ccf04052e0e6e792f8f5a490f6aa 5\n",
      "034ea80f8b148c750463546bd999bf7321a0e6dfc60aaf84bd0400a2e8d376c0d5 10\n",
      "02cab0bfa32dc0d54674b240c990775450df6be603956875fa4d414905f60047c3 1\n",
      "0301c3924df01f1a376ab20ce9273ee2c4a1f2354c3400e6357d3d4144981ae728 1\n",
      "036e8a8efeb26f3cffce99f462839ef6ea3b1691d569d59c402be0d3d6cef9b79c 1\n",
      "024d2387409269f3b79e2708bb39b895c9f4b6a8322153af54eba487d4993bf60f 23\n",
      "02c693474153743d80a3480dcd879ce5144924f9eaa0bb05834744e79c4a127608 1\n",
      "031e47777e35627e1018bc886ee24f81633a54527cfce24df0183a8fee7b3a24ef 6\n",
      "0204a2b95b4c208383d7f02e741a8bfd5b5b7e8bea8d1543b1255da8342d9f2c6b 1\n",
      "038c4288a41c79e47f37efccb2a0e1deb3b48291a7813f0be12179f9e84a4c6d35 1\n",
      "0294e4f3b85296724fdcfa32bfdf6be4215da1ac044f5ada182e5d299a4e8d67a3 1\n",
      "03ce16b71fb6f70b30321e867bcea9cc52f39531380cd6673bdd8daf257da27e57 2\n",
      "02a34837d0228d69f6ca6f701f5b6a400344f7164033de5e1a22395f552944f370 1\n",
      "03f8ab9b7496be92ce370e0224661d5d2de80bca8f505d66f1226d0e6002007d2a 4\n",
      "031b3971363f95a2c645c96da138f9eec0a82ec41108d8c1946775e8f0e6638339 1\n",
      "02e2670a2c2661a9eea13b7cfdcdd7f552f591b9ee60e5678b7abe77b7f9516f96 4\n",
      "03668e08fefdc45f91d21dada56f7fed9424dc1092390b88e34a4f119fa4a9e002 2\n",
      "024655b768ef40951b20053a5c4b951606d4d86085d51238f2c67c7dec29c792ca 1\n",
      "02927ab17049257f50d909d760bebc80ccc267edfcc1346430a04de9e569b1e190 1\n",
      "029ff7fc7d794d9569f3fd861cae0c8f9c529897bd7bcc24a555ccf0017d81a0eb 1\n",
      "03a427767533567de4f40ec369c09559b217ad1e4a67790e3ff65de9650745976c 3\n",
      "0390b5d4492dc2f5318e5233ab2cebf6d48914881a33ef6a9c6bcdbb433ad986d0 40\n",
      "031021570df76a654d8fac3d1f58280d685893ce7681a9c99e2fc21dbd067c65d6 1\n",
      "02ce691b2e321954644514db708ba2a72769a6f9142ac63e65dd87964e9cf2add9 1\n",
      "0290fb6ecd5865f7a973e1d48ffbc2612f80f6a2defbd6a188928bd0492bc2847e 1\n",
      "027e74b73db73f0509c1682f66031685126c8c9b6f8999f463a7ed43dd986c6a9d 1\n",
      "039d510570ab6e65fc8fb1f9ada5b63dc0f703a8d7dbde2fc11fb6f1e5810f6bbb 1\n",
      "03de6bc7ed1badd0827b99c5b1ad2865322815e761572717a536f0a482864c4427 1\n",
      "03c2abfa93eacec04721c019644584424aab2ba4dff3ac9bdab4e9c97007491dda 69\n",
      "03dbe8307215d0879fca98a234fa4300799e4f8dd5e3e7a1c0a2466e1e72f87d07 1\n",
      "02c9b429d70f15300e79d73c999d34599b9f0c633b891afe2c72afdcb49d33800c 1\n",
      "03da1c27ca77872ac5b3e568af30673e599a47a5e4497f85c7b5da42048807b3ed 27\n",
      "028b6dc171f603467690f799b6a0d52b1f5a5b8977b1453440016ea7917f53925f 1\n",
      "036a1df81a31f76ba9a702dd7d29d606b2c08fac536d0c17dd48214c0245ca6353 2\n",
      "03e26a98ee4d1320d5775fab291580969180592db3679e6d32e360dbd147066ca3 1\n",
      "03a503d8e30f2ff407096d235b5db63b4fcf3f89a653acb6f43d3fc492a7674019 28\n",
      "03d37fca0656558de4fd86bbe490a38d84a46228e7ec1361801f54f9437a18d618 41\n",
      "022c260f9ad58196af280c80a96ec9eabf6404df59ff1a7553b0f381c875a29ba0 18\n",
      "031015a7839468a3c266d662d5bb21ea4cea24226936e2864a7ca4f2c3939836e0 13\n",
      "02fcdb04f51d61dddc0481c10751173d523e3408ebe3a848a1d6cb34b1f5df6668 3\n",
      "0315a0c3816b8a7942e54eba14ea98c68d5cc23b66b58d249f482e118d52b81338 1\n",
      "0238107198ba9e0e5fd5a0c67eac88e3633072885397c5925205891f8985e52078 3\n",
      "0276e09a267592e7451a939c932cf685f0754de382a3ca85d2fb3a864d4c365ad5 3\n",
      "0216006237022044d9bdb73ca51af267c5f67cf76095b4c6275f1162eb422fed68 1\n",
      "0279f930a60afe43131fd3328ff4a9c55293254c328f45e76695c1ab9b3c5a68b2 2\n",
      "022755c3ff4e5a1d71f573cda4b315887fc00a9e5c9ea9a847d939f3e517e69a70 21\n",
      "02a09bcef1a09ff7355dcb366e42878ed4040625985ead5dded16fd6710279e560 1\n",
      "03c63e8146aba2eda617489e08ae0fbe08d54e686c0f296d697c33cd67de4acc08 1\n",
      "029ccbe1f4835d0fd4258d215a03a3ba6860ff2c49ab58b9207aa27455c5d1815c 1\n",
      "027725c42688a86c79aea0e671c249363089bfcf18bc3ea6327124608fc71bf66d 1\n",
      "03e68f01ac8ac2b5a8ab60afd83806aed97e042ebb4f19daf53724f5bb352b5a91 1\n",
      "0208eb732bd581e8fe18b54fee48c542a2281a713d4f066c29533ede81a4bc39e8 1\n",
      "03bb1ef44535ce797ad5fb811a790eac966cd4f25fb8d00c412ab35b88b215ba17 1\n",
      "031ce29116eab7edd66148f5169f1fb658fad62bdc5091221ab895fe5d36db00b2 30\n",
      "039f01ad62e5208940faff11d0bbc997582eafad7642aaf53de6a5f6551ab73400 6\n",
      "03a76b80027d7c067e0da77da95880faaf89e9bf87b73a7d57bd4a3f2a124b764f 7\n",
      "02388d70afa6a8bceeee633386ad2bc67c1ac5eef0ae75b6d4f25fff5b425a417e 1\n",
      "028686d520cfdc8f7d234e879ea6fc7a963009afbcdafd0c40387e1cacfa1173ea 2\n",
      "028a8e53d70bc0eb7b5660943582f10b7fd6c727a78ad819ba8d45d6a638432c49 22\n",
      "02e793ead19010bdd9d2075e39e6833c0e2fe1cc840ee3016d044e679c66473a66 1\n",
      "03620f31cf2bb95bb70c8c7bcdaa0698cd9bc7f17987290338af301eaa28c351be 3\n",
      "026b105ac13212c48714c6be9b11577a9ce10f10e1c88a45ce217e6331209faf8b 1\n",
      "03166e47f36d94b7b4d1a0c0a2bcfc563e7318ea10b5db8c77e570ff3e75d47d82 1\n",
      "03f98d3ea45a224f10aca4d2060deaf576cb9becd4bc2222174ef9e4f4a127b6bf 1\n",
      "032a438e14dde2082aefd287d52664d3ac99c395a99d5e6a87f38778515fad75f7 1\n",
      "03b86e12fd1a6f56a17f834113f7b42ceb47164de2f8b40a10255df1f433bea56a 1\n",
      "03c613267a1745d08984621be6a710487cb97eb595f7672a550cbd10a6f70c873f 2\n",
      "034e5fb407fc7d12ff83255e492b63b19b9cd73a4eafc6bf41e7739168b504e9c4 1\n",
      "02939c016cd2cf08647a47815020c446e4f87252300c59cb35f14b7478465ab0aa 1\n",
      "02913d84886059292845f870c5229f103dd8d7d71d7e9fc6fd52f75a40486d2187 6\n",
      "034653a43cb5857d6f75ff19866e27a8e03355827bf6036fd8d3c9478a37e33813 3\n",
      "02aac548b877279c30f3abbb7301de93096e3b87144fc484dc3409bb0d6bd566b1 1\n"
     ]
    }
   ],
   "source": [
    "# list node and number of entities associated\n",
    "for n in alias_cluster_nodes_intersection:\n",
    "    print(n, len(heuristic_1_node_entity[n]))"
   ]
  },
  {
   "cell_type": "code",
   "execution_count": 539,
   "metadata": {
    "ExecuteTime": {
     "end_time": "2020-05-26T14:09:02.760214Z",
     "start_time": "2020-05-26T14:09:02.756974Z"
    },
    "scrolled": true
   },
   "outputs": [],
   "source": [
    "# I want to see if there is linked nodes have aliases if are in alias clusters\n",
    "# start from an alias cluster\n",
    "# check if the nodes are mapped to any entity    "
   ]
  },
  {
   "cell_type": "code",
   "execution_count": 543,
   "metadata": {
    "ExecuteTime": {
     "end_time": "2020-05-26T14:10:16.070783Z",
     "start_time": "2020-05-26T14:10:16.047070Z"
    }
   },
   "outputs": [],
   "source": [
    "manual_checks = pd.read_csv(level2_folder + 'manualcheck.csv')\n",
    "heuristic_2_entity_node_conf = read_json(results_folder + 'heuristic_2_entity_node_conf_snakes.json')\n",
    "heuristic_2_node_entity_conf = read_json(results_folder + 'heuristic_2_node_entity_conf_snakes.json')\n",
    "alias_cluster_heur2_intersection =  set(manual_checks.loc[manual_checks.manualAssessment == 'ok'].pub_key.values).intersection(set(heuristic_2_node_entity_conf['2']))"
   ]
  },
  {
   "cell_type": "code",
   "execution_count": 559,
   "metadata": {
    "ExecuteTime": {
     "end_time": "2020-05-26T14:19:39.083285Z",
     "start_time": "2020-05-26T14:19:39.062105Z"
    },
    "scrolled": true
   },
   "outputs": [
    {
     "data": {
      "text/html": [
       "<div>\n",
       "<style scoped>\n",
       "    .dataframe tbody tr th:only-of-type {\n",
       "        vertical-align: middle;\n",
       "    }\n",
       "\n",
       "    .dataframe tbody tr th {\n",
       "        vertical-align: top;\n",
       "    }\n",
       "\n",
       "    .dataframe thead th {\n",
       "        text-align: right;\n",
       "    }\n",
       "</style>\n",
       "<table border=\"1\" class=\"dataframe\">\n",
       "  <thead>\n",
       "    <tr style=\"text-align: right;\">\n",
       "      <th></th>\n",
       "      <th>cluster</th>\n",
       "      <th>pub_key</th>\n",
       "      <th>cluster_origin</th>\n",
       "      <th>alias</th>\n",
       "    </tr>\n",
       "  </thead>\n",
       "  <tbody>\n",
       "    <tr>\n",
       "      <th>0</th>\n",
       "      <td>0</td>\n",
       "      <td>032ebdae3314f072acd70e66e18572e6ba27f969180093...</td>\n",
       "      <td>alias/asn &amp; address</td>\n",
       "      <td>Joltfun.com Game Shop (CLN2) | Joltfun.com Gam...</td>\n",
       "    </tr>\n",
       "    <tr>\n",
       "      <th>1</th>\n",
       "      <td>0</td>\n",
       "      <td>0374ecf61ed6c1208c42339f47decde2bc0c4393ac95f0...</td>\n",
       "      <td>alias/asn &amp; address</td>\n",
       "      <td>Joltfun.com Game Shop (LND) | Joltfun.com Game...</td>\n",
       "    </tr>\n",
       "    <tr>\n",
       "      <th>2</th>\n",
       "      <td>1</td>\n",
       "      <td>0216006237022044d9bdb73ca51af267c5f67cf76095b4...</td>\n",
       "      <td>alias/asn &amp; address</td>\n",
       "      <td>BOSTON_ROUTE11-103-001</td>\n",
       "    </tr>\n",
       "    <tr>\n",
       "      <th>3</th>\n",
       "      <td>1</td>\n",
       "      <td>02d7ca7aae77a43a65a50cbf806cf7b43af2f89c1cf331...</td>\n",
       "      <td>alias/asn &amp; address</td>\n",
       "      <td>BOSTON_ROUTE11-103-002</td>\n",
       "    </tr>\n",
       "    <tr>\n",
       "      <th>4</th>\n",
       "      <td>2</td>\n",
       "      <td>02689ecaec3a14476f454e03cff1a4b4ff367f9eadb4d7...</td>\n",
       "      <td>alias/asn</td>\n",
       "      <td>IMAGINE_PEACE</td>\n",
       "    </tr>\n",
       "    <tr>\n",
       "      <th>5</th>\n",
       "      <td>2</td>\n",
       "      <td>031b3971363f95a2c645c96da138f9eec0a82ec41108d8...</td>\n",
       "      <td>alias/asn</td>\n",
       "      <td>IMAGINE_PEACE</td>\n",
       "    </tr>\n",
       "    <tr>\n",
       "      <th>6</th>\n",
       "      <td>3</td>\n",
       "      <td>021fd1af51144a63b590306edfa855cbc4f8587e689c6c...</td>\n",
       "      <td>alias/asn</td>\n",
       "      <td>the-cake-is-a-lie-2</td>\n",
       "    </tr>\n",
       "    <tr>\n",
       "      <th>7</th>\n",
       "      <td>3</td>\n",
       "      <td>02e2852302c048cf310afeed1a2b340fb6a623454a8604...</td>\n",
       "      <td>alias/asn</td>\n",
       "      <td>the-cake-is-a-lie</td>\n",
       "    </tr>\n",
       "    <tr>\n",
       "      <th>8</th>\n",
       "      <td>4</td>\n",
       "      <td>02311c86867d6d148baf454260c7a9d0016d3f7da64e48...</td>\n",
       "      <td>alias/asn &amp; address</td>\n",
       "      <td>xuange [bitclouds.sh]</td>\n",
       "    </tr>\n",
       "    <tr>\n",
       "      <th>9</th>\n",
       "      <td>4</td>\n",
       "      <td>0250e86fdaaefd59ea7481c53ee6d7e1b01e2bfd582fdd...</td>\n",
       "      <td>address</td>\n",
       "      <td>phecda-325 [bitclouds.sh]</td>\n",
       "    </tr>\n",
       "    <tr>\n",
       "      <th>10</th>\n",
       "      <td>4</td>\n",
       "      <td>02c16cca44562b590dd279c942200bdccfd4f990c3a69f...</td>\n",
       "      <td>address</td>\n",
       "      <td>telegram.me/lntxbot</td>\n",
       "    </tr>\n",
       "    <tr>\n",
       "      <th>11</th>\n",
       "      <td>4</td>\n",
       "      <td>02e6479366043ef69d75682831947010843b2d94aef913...</td>\n",
       "      <td>address</td>\n",
       "      <td>wurren-1 | Dexpa [CLG]</td>\n",
       "    </tr>\n",
       "    <tr>\n",
       "      <th>12</th>\n",
       "      <td>4</td>\n",
       "      <td>0338ae2b71913af91800562bd7ef46d9e05ab424e50664...</td>\n",
       "      <td>alias/asn &amp; address</td>\n",
       "      <td>anser [bitclouds.sh]</td>\n",
       "    </tr>\n",
       "    <tr>\n",
       "      <th>13</th>\n",
       "      <td>5</td>\n",
       "      <td>021ff2c4f6ae799c3d78edad94c05362901a5cb8fc9393...</td>\n",
       "      <td>alias/asn &amp; address</td>\n",
       "      <td>SLOVAKIA</td>\n",
       "    </tr>\n",
       "    <tr>\n",
       "      <th>14</th>\n",
       "      <td>5</td>\n",
       "      <td>03e3db2ab52ea21ab12b7f040c158cca0d650658746fa4...</td>\n",
       "      <td>alias/asn &amp; address</td>\n",
       "      <td>SLOVAKIA</td>\n",
       "    </tr>\n",
       "    <tr>\n",
       "      <th>15</th>\n",
       "      <td>6</td>\n",
       "      <td>0203c69eaaf21dfc53c01df09684d9b8ae3a52324b58d8...</td>\n",
       "      <td>alias/asn &amp; address</td>\n",
       "      <td>034-lnd-gar-nodl-it</td>\n",
       "    </tr>\n",
       "    <tr>\n",
       "      <th>16</th>\n",
       "      <td>6</td>\n",
       "      <td>0209ad56880f6f4544074bffdf14a775cd2de30cd61e2e...</td>\n",
       "      <td>alias/asn &amp; address</td>\n",
       "      <td>021-lnd-gar-nodl-it</td>\n",
       "    </tr>\n",
       "    <tr>\n",
       "      <th>17</th>\n",
       "      <td>6</td>\n",
       "      <td>020dc265c6f595f94a9aa20068965f368a3c08c5804d0a...</td>\n",
       "      <td>alias/asn &amp; address</td>\n",
       "      <td>032-lnd-gar-nodl-it</td>\n",
       "    </tr>\n",
       "    <tr>\n",
       "      <th>18</th>\n",
       "      <td>6</td>\n",
       "      <td>02123204dd101314a6555694831661ff6a2c8d251bc3bb...</td>\n",
       "      <td>alias/asn &amp; address</td>\n",
       "      <td>016-lnd-gar-nodl-it</td>\n",
       "    </tr>\n",
       "    <tr>\n",
       "      <th>19</th>\n",
       "      <td>6</td>\n",
       "      <td>0217a06be02f137bfa6e038b6d2e6a8c3fefb26a07b37c...</td>\n",
       "      <td>alias/asn &amp; address</td>\n",
       "      <td>033-lnd-gar-nodl-it</td>\n",
       "    </tr>\n",
       "    <tr>\n",
       "      <th>20</th>\n",
       "      <td>6</td>\n",
       "      <td>022359a3163e7ef89d3dfbd8973bfa20acfc75c0c8d76f...</td>\n",
       "      <td>alias/asn &amp; address</td>\n",
       "      <td>026-lnd-gar-nodl-it</td>\n",
       "    </tr>\n",
       "    <tr>\n",
       "      <th>21</th>\n",
       "      <td>6</td>\n",
       "      <td>0227230b7b685f1742b944bfc5d79ddc8c5a90b6849977...</td>\n",
       "      <td>alias/asn</td>\n",
       "      <td>hub-lnd-gar-nodl-it</td>\n",
       "    </tr>\n",
       "    <tr>\n",
       "      <th>22</th>\n",
       "      <td>6</td>\n",
       "      <td>022d334d724f2507dddd784af81704b3754c73dc22be38...</td>\n",
       "      <td>alias/asn &amp; address</td>\n",
       "      <td>040-lnd-gar-nodl-it</td>\n",
       "    </tr>\n",
       "    <tr>\n",
       "      <th>23</th>\n",
       "      <td>6</td>\n",
       "      <td>02352d09be2b7f9ec85b636ab9c415c10e8c58b633e391...</td>\n",
       "      <td>alias/asn &amp; address</td>\n",
       "      <td>010-lnd-gar-nodl-it</td>\n",
       "    </tr>\n",
       "    <tr>\n",
       "      <th>24</th>\n",
       "      <td>6</td>\n",
       "      <td>0261de22d9218081c2d1b84fc73f955ea9cddb4566aeab...</td>\n",
       "      <td>alias/asn &amp; address</td>\n",
       "      <td>002-lnd-gar-nodl-it</td>\n",
       "    </tr>\n",
       "    <tr>\n",
       "      <th>25</th>\n",
       "      <td>6</td>\n",
       "      <td>0266844bbaf397b10e616d0beccb41c55907010420e547...</td>\n",
       "      <td>alias/asn &amp; address</td>\n",
       "      <td>0030lnd-gar-nodl-it</td>\n",
       "    </tr>\n",
       "    <tr>\n",
       "      <th>26</th>\n",
       "      <td>6</td>\n",
       "      <td>02735092e1cdd8983a0a8bb2f55943e34ff83923a94140...</td>\n",
       "      <td>alias/asn &amp; address</td>\n",
       "      <td>018-lnd-gar-nodl-it</td>\n",
       "    </tr>\n",
       "    <tr>\n",
       "      <th>27</th>\n",
       "      <td>6</td>\n",
       "      <td>02771ad6626d372815607dd6a0e271f70e390be4d17010...</td>\n",
       "      <td>alias/asn &amp; address</td>\n",
       "      <td>012-lnd-gar-nodl-it</td>\n",
       "    </tr>\n",
       "    <tr>\n",
       "      <th>28</th>\n",
       "      <td>6</td>\n",
       "      <td>02943f9a65dd9a1f9c62d4d9448500ac105e5d5c11f632...</td>\n",
       "      <td>alias/asn &amp; address</td>\n",
       "      <td>008-lnd-gar-nodl-it</td>\n",
       "    </tr>\n",
       "    <tr>\n",
       "      <th>29</th>\n",
       "      <td>6</td>\n",
       "      <td>02b8faa4402582b641017665b3f2e3a8794fe80431f054...</td>\n",
       "      <td>alias/asn &amp; address</td>\n",
       "      <td>035-lnd-gar-nodl-it</td>\n",
       "    </tr>\n",
       "    <tr>\n",
       "      <th>...</th>\n",
       "      <td>...</td>\n",
       "      <td>...</td>\n",
       "      <td>...</td>\n",
       "      <td>...</td>\n",
       "    </tr>\n",
       "    <tr>\n",
       "      <th>539</th>\n",
       "      <td>212</td>\n",
       "      <td>02ce271be6ed786a68aaf821893e9387d7d39dec0a4374...</td>\n",
       "      <td>address</td>\n",
       "      <td>KoalaBlitz</td>\n",
       "    </tr>\n",
       "    <tr>\n",
       "      <th>540</th>\n",
       "      <td>213</td>\n",
       "      <td>027c85f2a86e1d29f772ab75a7c4afbb957cc095934e61...</td>\n",
       "      <td>address</td>\n",
       "      <td>Antonopoulos</td>\n",
       "    </tr>\n",
       "    <tr>\n",
       "      <th>541</th>\n",
       "      <td>213</td>\n",
       "      <td>0292e8060da527f77be1db34a2a9f0b0baf158094e7424...</td>\n",
       "      <td>address</td>\n",
       "      <td>Szabo</td>\n",
       "    </tr>\n",
       "    <tr>\n",
       "      <th>542</th>\n",
       "      <td>213</td>\n",
       "      <td>031ac677972619e8e0a1b40593e01b04280dc4a18a7a9b...</td>\n",
       "      <td>address</td>\n",
       "      <td>Bogdanoff</td>\n",
       "    </tr>\n",
       "    <tr>\n",
       "      <th>543</th>\n",
       "      <td>213</td>\n",
       "      <td>03a5f83dfbfe9830406cb95ebc7231b12150a0f885c6ff...</td>\n",
       "      <td>address</td>\n",
       "      <td>Satoshi</td>\n",
       "    </tr>\n",
       "    <tr>\n",
       "      <th>544</th>\n",
       "      <td>213</td>\n",
       "      <td>03edff7c20fa201fa8abc6e474411ce8c502b5036a5385...</td>\n",
       "      <td>address</td>\n",
       "      <td>CryptoferColumbus🛸</td>\n",
       "    </tr>\n",
       "    <tr>\n",
       "      <th>545</th>\n",
       "      <td>214</td>\n",
       "      <td>025c920358705d699654b36454bc1fd30a2c4590176e6a...</td>\n",
       "      <td>address</td>\n",
       "      <td>SIDRATT [LND]</td>\n",
       "    </tr>\n",
       "    <tr>\n",
       "      <th>546</th>\n",
       "      <td>214</td>\n",
       "      <td>02c59145831a78bd2d9aeeef3b36de3d5ab8f548bd026e...</td>\n",
       "      <td>address</td>\n",
       "      <td>TARDIS [LND]</td>\n",
       "    </tr>\n",
       "    <tr>\n",
       "      <th>547</th>\n",
       "      <td>215</td>\n",
       "      <td>02df69a28a83d63eb831cb6ba743477bf9ddfbe4222b4a...</td>\n",
       "      <td>address</td>\n",
       "      <td>BitCoPayZweiPunktNull</td>\n",
       "    </tr>\n",
       "    <tr>\n",
       "      <th>548</th>\n",
       "      <td>215</td>\n",
       "      <td>032c01c7ddcbd4f7ee8da1f78ab71d6ce7f454d6bfd0a8...</td>\n",
       "      <td>address</td>\n",
       "      <td>BitCoPay</td>\n",
       "    </tr>\n",
       "    <tr>\n",
       "      <th>549</th>\n",
       "      <td>216</td>\n",
       "      <td>0211946c513aa1cec6e28613e0cb9c4898c643c36f61c6...</td>\n",
       "      <td>address</td>\n",
       "      <td>raspiln</td>\n",
       "    </tr>\n",
       "    <tr>\n",
       "      <th>550</th>\n",
       "      <td>216</td>\n",
       "      <td>02b7152ea6b3f4525aa9c65987470f18b026523c2882d5...</td>\n",
       "      <td>address</td>\n",
       "      <td>raspiln</td>\n",
       "    </tr>\n",
       "    <tr>\n",
       "      <th>551</th>\n",
       "      <td>217</td>\n",
       "      <td>02e7c42ae2952d7a71398e23535b53ffc60deb269acbc7...</td>\n",
       "      <td>address</td>\n",
       "      <td>PeerName.com</td>\n",
       "    </tr>\n",
       "    <tr>\n",
       "      <th>552</th>\n",
       "      <td>217</td>\n",
       "      <td>03c561e88180ba5d6d90f0406ab9746eddf52b02c89195...</td>\n",
       "      <td>address</td>\n",
       "      <td>MegaNode</td>\n",
       "    </tr>\n",
       "    <tr>\n",
       "      <th>553</th>\n",
       "      <td>218</td>\n",
       "      <td>0280247f88e7519c1839cc4a04f0db58b7455b4ebb4023...</td>\n",
       "      <td>address</td>\n",
       "      <td>Kurt</td>\n",
       "    </tr>\n",
       "    <tr>\n",
       "      <th>554</th>\n",
       "      <td>218</td>\n",
       "      <td>03fd43afc8beb0e1fc1cc8d8702cd237e8f27970de8acf...</td>\n",
       "      <td>address</td>\n",
       "      <td>Guergen</td>\n",
       "    </tr>\n",
       "    <tr>\n",
       "      <th>555</th>\n",
       "      <td>219</td>\n",
       "      <td>024dcb28330bb766def5e85e064dab3dfb472419d855d0...</td>\n",
       "      <td>address</td>\n",
       "      <td>FreeBitcoin</td>\n",
       "    </tr>\n",
       "    <tr>\n",
       "      <th>556</th>\n",
       "      <td>219</td>\n",
       "      <td>03c45e83933fd5058e2381630df99a7e01660f4e97b3a3...</td>\n",
       "      <td>address</td>\n",
       "      <td>LupusPluviaLNDBank | LupusPluviaLND | Lupus-Pl...</td>\n",
       "    </tr>\n",
       "    <tr>\n",
       "      <th>557</th>\n",
       "      <td>220</td>\n",
       "      <td>0276e09a267592e7451a939c932cf685f0754de382a3ca...</td>\n",
       "      <td>address</td>\n",
       "      <td>\"Cheese\"</td>\n",
       "    </tr>\n",
       "    <tr>\n",
       "      <th>558</th>\n",
       "      <td>220</td>\n",
       "      <td>0354d80bcc05fc30b0d867238d83645b68b326c59f0530...</td>\n",
       "      <td>address</td>\n",
       "      <td>quesoselpilar.com</td>\n",
       "    </tr>\n",
       "    <tr>\n",
       "      <th>559</th>\n",
       "      <td>221</td>\n",
       "      <td>02ad683d5d1ad19c5c63827975f8192c388c2f61c61c8d...</td>\n",
       "      <td>address</td>\n",
       "      <td>02ad683d5d1ad19c5c63</td>\n",
       "    </tr>\n",
       "    <tr>\n",
       "      <th>560</th>\n",
       "      <td>221</td>\n",
       "      <td>03f293524089455a2c15efa2591545a9335eac47f98a49...</td>\n",
       "      <td>address</td>\n",
       "      <td>03f293524089455a2c15 | ln-1.paralelnipolis.cz</td>\n",
       "    </tr>\n",
       "    <tr>\n",
       "      <th>561</th>\n",
       "      <td>222</td>\n",
       "      <td>03b3cdfbe44de70253b2d3719683632b74564da8be4841...</td>\n",
       "      <td>address</td>\n",
       "      <td>TheTrough</td>\n",
       "    </tr>\n",
       "    <tr>\n",
       "      <th>562</th>\n",
       "      <td>222</td>\n",
       "      <td>03e5dc754c0111f269af9f17c50126647188063336ebb2...</td>\n",
       "      <td>address</td>\n",
       "      <td>TheBucket</td>\n",
       "    </tr>\n",
       "    <tr>\n",
       "      <th>563</th>\n",
       "      <td>223</td>\n",
       "      <td>0301c3924df01f1a376ab20ce9273ee2c4a1f2354c3400...</td>\n",
       "      <td>address</td>\n",
       "      <td>ShockWallet.app</td>\n",
       "    </tr>\n",
       "    <tr>\n",
       "      <th>564</th>\n",
       "      <td>223</td>\n",
       "      <td>03785c99cd75dcd0b3f2f4cedc5a82e108396abba65f10...</td>\n",
       "      <td>address</td>\n",
       "      <td>Shock.Network</td>\n",
       "    </tr>\n",
       "    <tr>\n",
       "      <th>565</th>\n",
       "      <td>224</td>\n",
       "      <td>03b606004815af3f6f38c828135f52cd40e405a2815c19...</td>\n",
       "      <td>address</td>\n",
       "      <td>microbastard</td>\n",
       "    </tr>\n",
       "    <tr>\n",
       "      <th>566</th>\n",
       "      <td>224</td>\n",
       "      <td>03e68f01ac8ac2b5a8ab60afd83806aed97e042ebb4f19...</td>\n",
       "      <td>address</td>\n",
       "      <td>LightningCupid</td>\n",
       "    </tr>\n",
       "    <tr>\n",
       "      <th>567</th>\n",
       "      <td>225</td>\n",
       "      <td>036d5f176ad838a3dcc76361762c64d452bea769a539fd...</td>\n",
       "      <td>address</td>\n",
       "      <td>036d5f176ad838a3dcc7</td>\n",
       "    </tr>\n",
       "    <tr>\n",
       "      <th>568</th>\n",
       "      <td>225</td>\n",
       "      <td>038b36a43c38f75cd15bb25394f1cd162f717df0055852...</td>\n",
       "      <td>address</td>\n",
       "      <td>038b36a43c38f75cd15b | strident-lightning</td>\n",
       "    </tr>\n",
       "  </tbody>\n",
       "</table>\n",
       "<p>569 rows × 4 columns</p>\n",
       "</div>"
      ],
      "text/plain": [
       "     cluster                                            pub_key  \\\n",
       "0          0  032ebdae3314f072acd70e66e18572e6ba27f969180093...   \n",
       "1          0  0374ecf61ed6c1208c42339f47decde2bc0c4393ac95f0...   \n",
       "2          1  0216006237022044d9bdb73ca51af267c5f67cf76095b4...   \n",
       "3          1  02d7ca7aae77a43a65a50cbf806cf7b43af2f89c1cf331...   \n",
       "4          2  02689ecaec3a14476f454e03cff1a4b4ff367f9eadb4d7...   \n",
       "5          2  031b3971363f95a2c645c96da138f9eec0a82ec41108d8...   \n",
       "6          3  021fd1af51144a63b590306edfa855cbc4f8587e689c6c...   \n",
       "7          3  02e2852302c048cf310afeed1a2b340fb6a623454a8604...   \n",
       "8          4  02311c86867d6d148baf454260c7a9d0016d3f7da64e48...   \n",
       "9          4  0250e86fdaaefd59ea7481c53ee6d7e1b01e2bfd582fdd...   \n",
       "10         4  02c16cca44562b590dd279c942200bdccfd4f990c3a69f...   \n",
       "11         4  02e6479366043ef69d75682831947010843b2d94aef913...   \n",
       "12         4  0338ae2b71913af91800562bd7ef46d9e05ab424e50664...   \n",
       "13         5  021ff2c4f6ae799c3d78edad94c05362901a5cb8fc9393...   \n",
       "14         5  03e3db2ab52ea21ab12b7f040c158cca0d650658746fa4...   \n",
       "15         6  0203c69eaaf21dfc53c01df09684d9b8ae3a52324b58d8...   \n",
       "16         6  0209ad56880f6f4544074bffdf14a775cd2de30cd61e2e...   \n",
       "17         6  020dc265c6f595f94a9aa20068965f368a3c08c5804d0a...   \n",
       "18         6  02123204dd101314a6555694831661ff6a2c8d251bc3bb...   \n",
       "19         6  0217a06be02f137bfa6e038b6d2e6a8c3fefb26a07b37c...   \n",
       "20         6  022359a3163e7ef89d3dfbd8973bfa20acfc75c0c8d76f...   \n",
       "21         6  0227230b7b685f1742b944bfc5d79ddc8c5a90b6849977...   \n",
       "22         6  022d334d724f2507dddd784af81704b3754c73dc22be38...   \n",
       "23         6  02352d09be2b7f9ec85b636ab9c415c10e8c58b633e391...   \n",
       "24         6  0261de22d9218081c2d1b84fc73f955ea9cddb4566aeab...   \n",
       "25         6  0266844bbaf397b10e616d0beccb41c55907010420e547...   \n",
       "26         6  02735092e1cdd8983a0a8bb2f55943e34ff83923a94140...   \n",
       "27         6  02771ad6626d372815607dd6a0e271f70e390be4d17010...   \n",
       "28         6  02943f9a65dd9a1f9c62d4d9448500ac105e5d5c11f632...   \n",
       "29         6  02b8faa4402582b641017665b3f2e3a8794fe80431f054...   \n",
       "..       ...                                                ...   \n",
       "539      212  02ce271be6ed786a68aaf821893e9387d7d39dec0a4374...   \n",
       "540      213  027c85f2a86e1d29f772ab75a7c4afbb957cc095934e61...   \n",
       "541      213  0292e8060da527f77be1db34a2a9f0b0baf158094e7424...   \n",
       "542      213  031ac677972619e8e0a1b40593e01b04280dc4a18a7a9b...   \n",
       "543      213  03a5f83dfbfe9830406cb95ebc7231b12150a0f885c6ff...   \n",
       "544      213  03edff7c20fa201fa8abc6e474411ce8c502b5036a5385...   \n",
       "545      214  025c920358705d699654b36454bc1fd30a2c4590176e6a...   \n",
       "546      214  02c59145831a78bd2d9aeeef3b36de3d5ab8f548bd026e...   \n",
       "547      215  02df69a28a83d63eb831cb6ba743477bf9ddfbe4222b4a...   \n",
       "548      215  032c01c7ddcbd4f7ee8da1f78ab71d6ce7f454d6bfd0a8...   \n",
       "549      216  0211946c513aa1cec6e28613e0cb9c4898c643c36f61c6...   \n",
       "550      216  02b7152ea6b3f4525aa9c65987470f18b026523c2882d5...   \n",
       "551      217  02e7c42ae2952d7a71398e23535b53ffc60deb269acbc7...   \n",
       "552      217  03c561e88180ba5d6d90f0406ab9746eddf52b02c89195...   \n",
       "553      218  0280247f88e7519c1839cc4a04f0db58b7455b4ebb4023...   \n",
       "554      218  03fd43afc8beb0e1fc1cc8d8702cd237e8f27970de8acf...   \n",
       "555      219  024dcb28330bb766def5e85e064dab3dfb472419d855d0...   \n",
       "556      219  03c45e83933fd5058e2381630df99a7e01660f4e97b3a3...   \n",
       "557      220  0276e09a267592e7451a939c932cf685f0754de382a3ca...   \n",
       "558      220  0354d80bcc05fc30b0d867238d83645b68b326c59f0530...   \n",
       "559      221  02ad683d5d1ad19c5c63827975f8192c388c2f61c61c8d...   \n",
       "560      221  03f293524089455a2c15efa2591545a9335eac47f98a49...   \n",
       "561      222  03b3cdfbe44de70253b2d3719683632b74564da8be4841...   \n",
       "562      222  03e5dc754c0111f269af9f17c50126647188063336ebb2...   \n",
       "563      223  0301c3924df01f1a376ab20ce9273ee2c4a1f2354c3400...   \n",
       "564      223  03785c99cd75dcd0b3f2f4cedc5a82e108396abba65f10...   \n",
       "565      224  03b606004815af3f6f38c828135f52cd40e405a2815c19...   \n",
       "566      224  03e68f01ac8ac2b5a8ab60afd83806aed97e042ebb4f19...   \n",
       "567      225  036d5f176ad838a3dcc76361762c64d452bea769a539fd...   \n",
       "568      225  038b36a43c38f75cd15bb25394f1cd162f717df0055852...   \n",
       "\n",
       "          cluster_origin                                              alias  \n",
       "0    alias/asn & address  Joltfun.com Game Shop (CLN2) | Joltfun.com Gam...  \n",
       "1    alias/asn & address  Joltfun.com Game Shop (LND) | Joltfun.com Game...  \n",
       "2    alias/asn & address                             BOSTON_ROUTE11-103-001  \n",
       "3    alias/asn & address                             BOSTON_ROUTE11-103-002  \n",
       "4              alias/asn                                      IMAGINE_PEACE  \n",
       "5              alias/asn                                      IMAGINE_PEACE  \n",
       "6              alias/asn                                the-cake-is-a-lie-2  \n",
       "7              alias/asn                                  the-cake-is-a-lie  \n",
       "8    alias/asn & address                              xuange [bitclouds.sh]  \n",
       "9                address                          phecda-325 [bitclouds.sh]  \n",
       "10               address                                telegram.me/lntxbot  \n",
       "11               address                             wurren-1 | Dexpa [CLG]  \n",
       "12   alias/asn & address                               anser [bitclouds.sh]  \n",
       "13   alias/asn & address                                           SLOVAKIA  \n",
       "14   alias/asn & address                                           SLOVAKIA  \n",
       "15   alias/asn & address                                034-lnd-gar-nodl-it  \n",
       "16   alias/asn & address                                021-lnd-gar-nodl-it  \n",
       "17   alias/asn & address                                032-lnd-gar-nodl-it  \n",
       "18   alias/asn & address                                016-lnd-gar-nodl-it  \n",
       "19   alias/asn & address                                033-lnd-gar-nodl-it  \n",
       "20   alias/asn & address                                026-lnd-gar-nodl-it  \n",
       "21             alias/asn                                hub-lnd-gar-nodl-it  \n",
       "22   alias/asn & address                                040-lnd-gar-nodl-it  \n",
       "23   alias/asn & address                                010-lnd-gar-nodl-it  \n",
       "24   alias/asn & address                                002-lnd-gar-nodl-it  \n",
       "25   alias/asn & address                                0030lnd-gar-nodl-it  \n",
       "26   alias/asn & address                                018-lnd-gar-nodl-it  \n",
       "27   alias/asn & address                                012-lnd-gar-nodl-it  \n",
       "28   alias/asn & address                                008-lnd-gar-nodl-it  \n",
       "29   alias/asn & address                                035-lnd-gar-nodl-it  \n",
       "..                   ...                                                ...  \n",
       "539              address                                         KoalaBlitz  \n",
       "540              address                                       Antonopoulos  \n",
       "541              address                                              Szabo  \n",
       "542              address                                          Bogdanoff  \n",
       "543              address                                            Satoshi  \n",
       "544              address                                 CryptoferColumbus🛸  \n",
       "545              address                                      SIDRATT [LND]  \n",
       "546              address                                       TARDIS [LND]  \n",
       "547              address                              BitCoPayZweiPunktNull  \n",
       "548              address                                           BitCoPay  \n",
       "549              address                                            raspiln  \n",
       "550              address                                            raspiln  \n",
       "551              address                                       PeerName.com  \n",
       "552              address                                           MegaNode  \n",
       "553              address                                               Kurt  \n",
       "554              address                                            Guergen  \n",
       "555              address                                        FreeBitcoin  \n",
       "556              address  LupusPluviaLNDBank | LupusPluviaLND | Lupus-Pl...  \n",
       "557              address                                           \"Cheese\"  \n",
       "558              address                                  quesoselpilar.com  \n",
       "559              address                               02ad683d5d1ad19c5c63  \n",
       "560              address      03f293524089455a2c15 | ln-1.paralelnipolis.cz  \n",
       "561              address                                          TheTrough  \n",
       "562              address                                          TheBucket  \n",
       "563              address                                    ShockWallet.app  \n",
       "564              address                                      Shock.Network  \n",
       "565              address                                       microbastard  \n",
       "566              address                                     LightningCupid  \n",
       "567              address                               036d5f176ad838a3dcc7  \n",
       "568              address          038b36a43c38f75cd15b | strident-lightning  \n",
       "\n",
       "[569 rows x 4 columns]"
      ]
     },
     "execution_count": 559,
     "metadata": {},
     "output_type": "execute_result"
    }
   ],
   "source": [
    "alias_clusters_df"
   ]
  },
  {
   "cell_type": "code",
   "execution_count": 556,
   "metadata": {
    "ExecuteTime": {
     "end_time": "2020-05-26T14:18:04.316434Z",
     "start_time": "2020-05-26T14:18:04.311165Z"
    }
   },
   "outputs": [],
   "source": [
    "node_alias_cluster = dict()\n",
    "for e in manual_checks.loc[manual_checks.manualAssessment == 'ok'].values:\n",
    "    node_alias_cluster[e[1]] = [e[3], e[0]]"
   ]
  },
  {
   "cell_type": "code",
   "execution_count": 614,
   "metadata": {
    "ExecuteTime": {
     "end_time": "2020-05-26T15:25:07.009867Z",
     "start_time": "2020-05-26T15:25:07.005923Z"
    }
   },
   "outputs": [
    {
     "data": {
      "text/plain": [
       "['bc1qm344fymdx9zmt0kywfu528dkwlz68yk5xhmr0k',\n",
       " 'bc1qgnlmj39h582mfguawdes9wfqwp0pzlu0dl5rmq',\n",
       " 'bc1qfnrf6k59yzz5axlktdw9try6z6h5sgxqrzytge',\n",
       " 'bc1qee64268u7vz2zul6sz7v5anjdfrj3z9gnc72sm',\n",
       " 'bc1qhevuzcgg9dr6t55g2ty5sls78j49wzw3sm7cg5']"
      ]
     },
     "execution_count": 614,
     "metadata": {},
     "output_type": "execute_result"
    }
   ],
   "source": [
    "funding_entity_addresses[snake]"
   ]
  },
  {
   "cell_type": "code",
   "execution_count": 557,
   "metadata": {
    "ExecuteTime": {
     "end_time": "2020-05-26T14:18:05.387749Z",
     "start_time": "2020-05-26T14:18:05.382259Z"
    }
   },
   "outputs": [
    {
     "name": "stdout",
     "output_type": "stream",
     "text": [
      "cluster, #entities, alias\n",
      "17 18 {'LNBIG.com [lnd-41]'}\n",
      "61 1 {'Buda.com [Mainnet]|Buda.com'}\n",
      "150 2 {'CryptoCloaksBlitz'}\n",
      "40 48 {'Bitrefill.com/gift-cards|Bitrefill.com'}\n",
      "17 31 {'LNBIG.com [lnd-07]'}\n",
      "15 3 {'SwissNode-Bank (swissnode.io)'}\n",
      "1 2 {'BOSTON_ROUTE11-103-002'}\n",
      "17 28 {'LNBIG.com [lnd-31]'}\n",
      "17 44 {'LNBIG.com [lnd-10]'}\n",
      "17 24 {'LNBIG.com [lnd-37]'}\n",
      "17 32 {'LNBIG.com [lnd-21]'}\n",
      "17 43 {'LNBIG.com [lnd-02]'}\n",
      "17 25 {'LNBIG.com [lnd-28/old-lnd-22]|LNBIG.com [lnd-28]|LNBIG.com [lnd-22]'}\n",
      "17 36 {'LNBIG.com [lnd-17]'}\n",
      "1 2 {'BOSTON_ROUTE11-103-001'}\n",
      "17 31 {'LNBIG.com [lnd-34]'}\n",
      "12 7 {'fairly.cheap'}\n",
      "17 35 {'LNBIG.com [lnd-26]'}\n",
      "203 2 {'knudix-mini'}\n",
      "0 2 {'Joltfun.com Game Shop (CLN2)|Joltfun.com GameStore (C-LN 2)'}\n",
      "17 26 {'LNBIG.com [lnd-12]'}\n",
      "17 33 {'LNBIG.com [lnd-06]'}\n",
      "17 33 {'LNBIG.com [lnd-27/old-lnd-19]|LNBIG.com [lnd-19]|LNBIG.com [lnd-27]'}\n",
      "0 4 {'Joltfun.com Game Shop (LND)|Joltfun.com GameStore (LND)'}\n",
      "223 1 {'ShockWallet.app'}\n",
      "17 25 {'LNBIG.com [lnd-38]'}\n",
      "17 44 {'LNBIG.com [lnd-11]'}\n",
      "72 1 {'Satoshis|Satoshis.Games'}\n",
      "17 21 {'LNBIG.com [lnd-42]'}\n",
      "61 1 {'Buda.com 2'}\n",
      "17 35 {'LNBIG.com [lnd-05]'}\n",
      "17 30 {'LNBIG.com [lnd-33]'}\n",
      "17 34 {'LNBIG.com [lnd-09]'}\n",
      "203 3 {'knudix'}\n",
      "12 2 {'fairly.cheap'}\n",
      "150 1 {'CryptoCloaksBTCPAY'}\n",
      "150 2 {'CryptoCloaks'}\n",
      "223 2 {'Shock.Network'}\n",
      "17 34 {'LNBIG.com [lnd-32]'}\n",
      "15 3 {'SwissNode-Bank (swissnode.io)'}\n",
      "17 41 {'LNBIG.com [lnd-03]'}\n",
      "17 45 {'LNBIG.com [lnd-13]'}\n",
      "17 43 {'LNBIG.com [lnd-01]'}\n",
      "40 28 {'Thor|Bitrefill|Bitrefill Thor|Bitrefill.com/gift-cards #2'}\n",
      "72 1 {'Satoshis.Games'}\n",
      "17 29 {'LNBIG.com [lnd-25]'}\n"
     ]
    }
   ],
   "source": [
    "print('cluster, #entities, alias')\n",
    "for n in alias_cluster_heur2_intersection:\n",
    "    print(node_alias_cluster[n][1], len(heuristic_2_node_entity_conf['2'][n]), node_alias[n])"
   ]
  },
  {
   "cell_type": "code",
   "execution_count": 611,
   "metadata": {
    "ExecuteTime": {
     "end_time": "2020-05-26T14:53:31.200339Z",
     "start_time": "2020-05-26T14:53:31.191163Z"
    }
   },
   "outputs": [
    {
     "name": "stdout",
     "output_type": "stream",
     "text": [
      "node,alias,entity\n",
      "02771...,012-lnd-gar-nodl-it,569097757\n",
      "03369...,011-lnd-gar-nodl-it,569097754\n",
      "02352...,010-lnd-gar-nodl-it,568840303\n",
      "03624...,013-lnd-gar-nodl-it,569097755\n",
      "031ec...,006-lnd-gar-nodl-it,568840299\n",
      "03bf7...,hub19-lnd-gar-nodl-it,-24016\n",
      "03820...,015-lnd-gar-nodl-it,569097758\n",
      "03456...,014-lnd-gar-nodl-it,569097756\n",
      "02943...,008-lnd-gar-nodl-it,568840301\n",
      "03eae...,007-lnd-gar-nodl-it,568840302\n",
      "03b7e...,009-lnd-gar-nodl-it,568840300\n"
     ]
    }
   ],
   "source": [
    "print('node,alias,entity')\n",
    "for node, es in heuristic_2_node_entity_conf['2'].items():\n",
    "# for node, es in heuristic_1_node_entity.items():\n",
    "    if node in node_alias:\n",
    "        a = list(node_alias[node])[0]\n",
    "        if 'gar-nodl-it' in a:\n",
    "            print(node[:5] + '...,' +  a + ',' +  str(es[0]))\n"
   ]
  },
  {
   "cell_type": "code",
   "execution_count": null,
   "metadata": {},
   "outputs": [],
   "source": []
  },
  {
   "cell_type": "code",
   "execution_count": 608,
   "metadata": {
    "ExecuteTime": {
     "end_time": "2020-05-26T14:50:56.901980Z",
     "start_time": "2020-05-26T14:50:56.892440Z"
    }
   },
   "outputs": [
    {
     "name": "stdout",
     "output_type": "stream",
     "text": [
      "alias,entity\n",
      "02771ad6626d372815607dd6a0e271f70e390be4d17010ac62ed249c4383a410b5 012-lnd-gar-nodl-it,569097757\n",
      "11\n",
      "03369c3cddc1e26b8bbd1930b77797e2953336f40b029677b7558edca38ee48211 011-lnd-gar-nodl-it,569097754\n",
      "10\n",
      "02352d09be2b7f9ec85b636ab9c415c10e8c58b633e3913e5cd925dfc4f7ce82aa 010-lnd-gar-nodl-it,568840303\n",
      "9\n",
      "0362475f2ecf2f4cd9deb1bd6f0474ac7b133b7baebce8cc7354239b329e75f26d 013-lnd-gar-nodl-it,569097755\n",
      "7\n",
      "031ec92368cc9ae9dd1e204c57313aa7c30aa079b195e94933c418e503bfabbe8d 006-lnd-gar-nodl-it,568840299\n",
      "5\n",
      "03bf7441842433a304a1027abfb75f399cfcf62f75339f15b6c27c24d69100ee50 hub19-lnd-gar-nodl-it,-24016\n",
      "03820d1537d31b122f3782048635603e1973d94f8f6536ddb3a6c2f666a5315512 015-lnd-gar-nodl-it,569097758\n",
      "14\n",
      "03456853c17774d597493875deebf8b7b6a781ca7a0d0b83bfaf862070f1ba7322 014-lnd-gar-nodl-it,569097756\n",
      "13\n",
      "02943f9a65dd9a1f9c62d4d9448500ac105e5d5c11f6324575c5e5de8fc3cec4a0 008-lnd-gar-nodl-it,568840301\n",
      "7\n",
      "03eae7faa784d5a453f0daf5163ca6af2e69143226b71745f1c065761d3cf01b4f 007-lnd-gar-nodl-it,568840302\n",
      "6\n",
      "03b7e9a5827b65a71a03b46e8d38d28410d48ebbc1fc6b4951c8ad3ba4f6307304 009-lnd-gar-nodl-it,568840300\n",
      "8\n"
     ]
    }
   ],
   "source": [
    "print('alias,entity')\n",
    "for node, es in heuristic_2_node_entity_conf['2'].items():\n",
    "# for node, es in heuristic_1_node_entity.items():\n",
    "    if node in node_alias:\n",
    "        a = list(node_alias[node])[0]\n",
    "        if 'gar-nodl-it' in a:\n",
    "            print(node, a + ',' +  str(es[0]))\n",
    "            if es[0] in fe_confidence_dict:\n",
    "                print(fe_confidence_dict[es[0]])"
   ]
  },
  {
   "cell_type": "code",
   "execution_count": 612,
   "metadata": {
    "ExecuteTime": {
     "end_time": "2020-05-26T15:24:18.924083Z",
     "start_time": "2020-05-26T15:24:18.908415Z"
    }
   },
   "outputs": [],
   "source": [
    "for a, es in settlement_address_entity.items():\n",
    "    if es == -24016:\n",
    "        print(a)"
   ]
  },
  {
   "cell_type": "code",
   "execution_count": 574,
   "metadata": {
    "ExecuteTime": {
     "end_time": "2020-05-26T14:37:03.439698Z",
     "start_time": "2020-05-26T14:37:03.433734Z"
    }
   },
   "outputs": [
    {
     "data": {
      "text/plain": [
       "int"
      ]
     },
     "execution_count": 574,
     "metadata": {},
     "output_type": "execute_result"
    }
   ],
   "source": [
    "snake = -24016\n",
    "type(snake)"
   ]
  },
  {
   "cell_type": "code",
   "execution_count": 576,
   "metadata": {
    "ExecuteTime": {
     "end_time": "2020-05-26T14:37:16.489608Z",
     "start_time": "2020-05-26T14:37:16.485973Z"
    }
   },
   "outputs": [
    {
     "data": {
      "text/plain": [
       "False"
      ]
     },
     "execution_count": 576,
     "metadata": {},
     "output_type": "execute_result"
    }
   ],
   "source": [
    "snake in funding_entity_addresses"
   ]
  },
  {
   "cell_type": "code",
   "execution_count": 538,
   "metadata": {
    "ExecuteTime": {
     "end_time": "2020-05-26T14:06:49.232437Z",
     "start_time": "2020-05-26T14:06:49.227861Z"
    }
   },
   "outputs": [
    {
     "data": {
      "text/plain": [
       "1961"
      ]
     },
     "execution_count": 538,
     "metadata": {},
     "output_type": "execute_result"
    }
   ],
   "source": [
    "len(set(heuristic_2_node_entity_conf['2'].keys()).intersection(set(node_alias.keys())))"
   ]
  },
  {
   "cell_type": "code",
   "execution_count": 530,
   "metadata": {
    "ExecuteTime": {
     "end_time": "2020-05-26T14:03:52.091562Z",
     "start_time": "2020-05-26T14:03:52.066878Z"
    }
   },
   "outputs": [
    {
     "data": {
      "text/html": [
       "<div>\n",
       "<style scoped>\n",
       "    .dataframe tbody tr th:only-of-type {\n",
       "        vertical-align: middle;\n",
       "    }\n",
       "\n",
       "    .dataframe tbody tr th {\n",
       "        vertical-align: top;\n",
       "    }\n",
       "\n",
       "    .dataframe thead th {\n",
       "        text-align: right;\n",
       "    }\n",
       "</style>\n",
       "<table border=\"1\" class=\"dataframe\">\n",
       "  <thead>\n",
       "    <tr style=\"text-align: right;\">\n",
       "      <th></th>\n",
       "      <th>cluster</th>\n",
       "      <th>pub_key</th>\n",
       "      <th>cluster_origin</th>\n",
       "      <th>alias</th>\n",
       "      <th>manualAssessment</th>\n",
       "    </tr>\n",
       "  </thead>\n",
       "  <tbody>\n",
       "    <tr>\n",
       "      <th>0</th>\n",
       "      <td>0</td>\n",
       "      <td>032ebdae3314f072acd70e66e18572e6ba27f969180093...</td>\n",
       "      <td>alias/asn &amp; address</td>\n",
       "      <td>Joltfun.com Game Shop (CLN2) | Joltfun.com Gam...</td>\n",
       "      <td>ok</td>\n",
       "    </tr>\n",
       "    <tr>\n",
       "      <th>1</th>\n",
       "      <td>0</td>\n",
       "      <td>0374ecf61ed6c1208c42339f47decde2bc0c4393ac95f0...</td>\n",
       "      <td>alias/asn &amp; address</td>\n",
       "      <td>Joltfun.com Game Shop (LND) | Joltfun.com Game...</td>\n",
       "      <td>ok</td>\n",
       "    </tr>\n",
       "    <tr>\n",
       "      <th>2</th>\n",
       "      <td>1</td>\n",
       "      <td>0216006237022044d9bdb73ca51af267c5f67cf76095b4...</td>\n",
       "      <td>alias/asn &amp; address</td>\n",
       "      <td>BOSTON_ROUTE11-103-001</td>\n",
       "      <td>ok</td>\n",
       "    </tr>\n",
       "    <tr>\n",
       "      <th>3</th>\n",
       "      <td>1</td>\n",
       "      <td>02d7ca7aae77a43a65a50cbf806cf7b43af2f89c1cf331...</td>\n",
       "      <td>alias/asn &amp; address</td>\n",
       "      <td>BOSTON_ROUTE11-103-002</td>\n",
       "      <td>ok</td>\n",
       "    </tr>\n",
       "    <tr>\n",
       "      <th>4</th>\n",
       "      <td>2</td>\n",
       "      <td>031b3971363f95a2c645c96da138f9eec0a82ec41108d8...</td>\n",
       "      <td>alias/asn</td>\n",
       "      <td>IMAGINE_PEACE</td>\n",
       "      <td>-</td>\n",
       "    </tr>\n",
       "    <tr>\n",
       "      <th>5</th>\n",
       "      <td>4</td>\n",
       "      <td>02311c86867d6d148baf454260c7a9d0016d3f7da64e48...</td>\n",
       "      <td>alias/asn &amp; address</td>\n",
       "      <td>xuange [bitclouds.sh]</td>\n",
       "      <td>?</td>\n",
       "    </tr>\n",
       "    <tr>\n",
       "      <th>6</th>\n",
       "      <td>4</td>\n",
       "      <td>02c16cca44562b590dd279c942200bdccfd4f990c3a69f...</td>\n",
       "      <td>address</td>\n",
       "      <td>telegram.me/lntxbot</td>\n",
       "      <td>?</td>\n",
       "    </tr>\n",
       "    <tr>\n",
       "      <th>7</th>\n",
       "      <td>4</td>\n",
       "      <td>02e6479366043ef69d75682831947010843b2d94aef913...</td>\n",
       "      <td>address</td>\n",
       "      <td>wurren-1 | Dexpa [CLG]</td>\n",
       "      <td>?</td>\n",
       "    </tr>\n",
       "    <tr>\n",
       "      <th>8</th>\n",
       "      <td>8</td>\n",
       "      <td>0265fae305778b7cb157365f70cf3a2047d2cad5c1ccc5...</td>\n",
       "      <td>alias/asn &amp; address</td>\n",
       "      <td>ln.taborsky.cz</td>\n",
       "      <td>-</td>\n",
       "    </tr>\n",
       "    <tr>\n",
       "      <th>9</th>\n",
       "      <td>9</td>\n",
       "      <td>03efccf2c383d7bf340da9a3f02e2c23104a0e4fe8ac1a...</td>\n",
       "      <td>alias/asn &amp; address</td>\n",
       "      <td>ln.rene-pickhardt.de</td>\n",
       "      <td>-</td>\n",
       "    </tr>\n",
       "    <tr>\n",
       "      <th>10</th>\n",
       "      <td>12</td>\n",
       "      <td>03cb7983dc247f9f81a0fa2dfa3ce1c255365f7279c8dd...</td>\n",
       "      <td>alias/asn &amp; address</td>\n",
       "      <td>fairly.cheap</td>\n",
       "      <td>ok</td>\n",
       "    </tr>\n",
       "    <tr>\n",
       "      <th>11</th>\n",
       "      <td>12</td>\n",
       "      <td>03ce16b71fb6f70b30321e867bcea9cc52f39531380cd6...</td>\n",
       "      <td>alias/asn &amp; address</td>\n",
       "      <td>fairly.cheap</td>\n",
       "      <td>ok</td>\n",
       "    </tr>\n",
       "    <tr>\n",
       "      <th>12</th>\n",
       "      <td>13</td>\n",
       "      <td>031e8f3e16f06f78249497161f23fa50b3218c7a15c895...</td>\n",
       "      <td>alias/asn &amp; address</td>\n",
       "      <td>Rav3n_PL</td>\n",
       "      <td>-</td>\n",
       "    </tr>\n",
       "    <tr>\n",
       "      <th>13</th>\n",
       "      <td>15</td>\n",
       "      <td>02ae1cbbd484a2bf7384611addab02dcf1997c4ac88d28...</td>\n",
       "      <td>alias/asn &amp; address</td>\n",
       "      <td>SwissNode-Bank (swissnode.io)</td>\n",
       "      <td>ok</td>\n",
       "    </tr>\n",
       "    <tr>\n",
       "      <th>14</th>\n",
       "      <td>15</td>\n",
       "      <td>03a427767533567de4f40ec369c09559b217ad1e4a6779...</td>\n",
       "      <td>alias/asn &amp; address</td>\n",
       "      <td>SwissNode-Bank (swissnode.io)</td>\n",
       "      <td>ok</td>\n",
       "    </tr>\n",
       "    <tr>\n",
       "      <th>15</th>\n",
       "      <td>16</td>\n",
       "      <td>0233502f6370758ede277d0ee5308a900feffeea29dbe9...</td>\n",
       "      <td>alias/asn &amp; address</td>\n",
       "      <td>Abacus Routing [BB2]</td>\n",
       "      <td>-</td>\n",
       "    </tr>\n",
       "    <tr>\n",
       "      <th>16</th>\n",
       "      <td>17</td>\n",
       "      <td>02247d9db0dfafea745ef8c9e161eb322f73ac3f8858d8...</td>\n",
       "      <td>alias/asn</td>\n",
       "      <td>LNBIG.com [lnd-26]</td>\n",
       "      <td>ok</td>\n",
       "    </tr>\n",
       "    <tr>\n",
       "      <th>17</th>\n",
       "      <td>17</td>\n",
       "      <td>022755c3ff4e5a1d71f573cda4b315887fc00a9e5c9ea9...</td>\n",
       "      <td>alias/asn</td>\n",
       "      <td>LNBIG.com [lnd-34]</td>\n",
       "      <td>ok</td>\n",
       "    </tr>\n",
       "    <tr>\n",
       "      <th>18</th>\n",
       "      <td>17</td>\n",
       "      <td>022c260f9ad58196af280c80a96ec9eabf6404df59ff1a...</td>\n",
       "      <td>alias/asn</td>\n",
       "      <td>LNBIG.com [lnd-37]</td>\n",
       "      <td>ok</td>\n",
       "    </tr>\n",
       "    <tr>\n",
       "      <th>19</th>\n",
       "      <td>17</td>\n",
       "      <td>024d2387409269f3b79e2708bb39b895c9f4b6a8322153...</td>\n",
       "      <td>alias/asn</td>\n",
       "      <td>LNBIG.com [lnd-38]</td>\n",
       "      <td>ok</td>\n",
       "    </tr>\n",
       "    <tr>\n",
       "      <th>20</th>\n",
       "      <td>17</td>\n",
       "      <td>028a8e53d70bc0eb7b5660943582f10b7fd6c727a78ad8...</td>\n",
       "      <td>alias/asn</td>\n",
       "      <td>LNBIG.com [lnd-33]</td>\n",
       "      <td>ok</td>\n",
       "    </tr>\n",
       "    <tr>\n",
       "      <th>21</th>\n",
       "      <td>17</td>\n",
       "      <td>02bb24da3d0fb0793f4918c7599f973cc402f0912ec3fb...</td>\n",
       "      <td>alias/asn</td>\n",
       "      <td>LNBIG.com [lnd-10]</td>\n",
       "      <td>ok</td>\n",
       "    </tr>\n",
       "    <tr>\n",
       "      <th>22</th>\n",
       "      <td>17</td>\n",
       "      <td>02c91d6aa51aa940608b497b6beebcb1aec05be3c47704...</td>\n",
       "      <td>alias/asn</td>\n",
       "      <td>LNBIG.com [lnd-21]</td>\n",
       "      <td>ok</td>\n",
       "    </tr>\n",
       "    <tr>\n",
       "      <th>23</th>\n",
       "      <td>17</td>\n",
       "      <td>02de11c748f5b25cfd2ce801176d3926bfde4de23b1ff4...</td>\n",
       "      <td>alias/asn</td>\n",
       "      <td>LNBIG.com [lnd-09]</td>\n",
       "      <td>ok</td>\n",
       "    </tr>\n",
       "    <tr>\n",
       "      <th>24</th>\n",
       "      <td>17</td>\n",
       "      <td>0303a518845db99994783f606e6629e705cfaf072e5ce9...</td>\n",
       "      <td>alias/asn</td>\n",
       "      <td>LNBIG.com [lnd-25]</td>\n",
       "      <td>ok</td>\n",
       "    </tr>\n",
       "    <tr>\n",
       "      <th>25</th>\n",
       "      <td>17</td>\n",
       "      <td>030995c0c0217d763c2274aa6ed69a0bb85fa2f7d118f9...</td>\n",
       "      <td>alias/asn</td>\n",
       "      <td>LNBIG.com [lnd-28/old-lnd-22] | LNBIG.com [lnd...</td>\n",
       "      <td>ok</td>\n",
       "    </tr>\n",
       "    <tr>\n",
       "      <th>26</th>\n",
       "      <td>17</td>\n",
       "      <td>0311cad0edf4ac67298805cf4407d94358ca60cd44f2e3...</td>\n",
       "      <td>alias/asn</td>\n",
       "      <td>LNBIG.com [lnd-42]</td>\n",
       "      <td>ok</td>\n",
       "    </tr>\n",
       "    <tr>\n",
       "      <th>27</th>\n",
       "      <td>17</td>\n",
       "      <td>031ce29116eab7edd66148f5169f1fb658fad62bdc5091...</td>\n",
       "      <td>alias/asn</td>\n",
       "      <td>LNBIG.com [lnd-05]</td>\n",
       "      <td>ok</td>\n",
       "    </tr>\n",
       "    <tr>\n",
       "      <th>28</th>\n",
       "      <td>17</td>\n",
       "      <td>032679fec1213e5b0a23e066c019d7b991b95c6e4d2880...</td>\n",
       "      <td>alias/asn</td>\n",
       "      <td>LNBIG.com [lnd-03]</td>\n",
       "      <td>ok</td>\n",
       "    </tr>\n",
       "    <tr>\n",
       "      <th>29</th>\n",
       "      <td>17</td>\n",
       "      <td>033e9ce4e8f0e68f7db49ffb6b9eecc10605f3f3fcb3c6...</td>\n",
       "      <td>alias/asn</td>\n",
       "      <td>LNBIG.com [lnd-11]</td>\n",
       "      <td>ok</td>\n",
       "    </tr>\n",
       "    <tr>\n",
       "      <th>...</th>\n",
       "      <td>...</td>\n",
       "      <td>...</td>\n",
       "      <td>...</td>\n",
       "      <td>...</td>\n",
       "      <td>...</td>\n",
       "    </tr>\n",
       "    <tr>\n",
       "      <th>138</th>\n",
       "      <td>182</td>\n",
       "      <td>02a0bc43557fae6af7be8e3a29fdebda819e439bea9c0f...</td>\n",
       "      <td>address</td>\n",
       "      <td>LightningPeachHub</td>\n",
       "      <td>-</td>\n",
       "    </tr>\n",
       "    <tr>\n",
       "      <th>139</th>\n",
       "      <td>183</td>\n",
       "      <td>028737303e12cb84643d1f0181812b559a56ef5d78b4c4...</td>\n",
       "      <td>address</td>\n",
       "      <td>⚡The-Lightning-Ride⚡</td>\n",
       "      <td>?</td>\n",
       "    </tr>\n",
       "    <tr>\n",
       "      <th>140</th>\n",
       "      <td>183</td>\n",
       "      <td>034143d1a45cb9bcb912eab97facf4a971098385c47017...</td>\n",
       "      <td>address</td>\n",
       "      <td>RECOVER_MYLN | SAUBY_K</td>\n",
       "      <td>?</td>\n",
       "    </tr>\n",
       "    <tr>\n",
       "      <th>141</th>\n",
       "      <td>184</td>\n",
       "      <td>03dbe8307215d0879fca98a234fa4300799e4f8dd5e3e7...</td>\n",
       "      <td>address</td>\n",
       "      <td>asteroidmonkey</td>\n",
       "      <td>-</td>\n",
       "    </tr>\n",
       "    <tr>\n",
       "      <th>142</th>\n",
       "      <td>185</td>\n",
       "      <td>02cb44d95042374782c184739d6739bdeeb0998efa73f6...</td>\n",
       "      <td>address</td>\n",
       "      <td>OhmG⚡</td>\n",
       "      <td>?</td>\n",
       "    </tr>\n",
       "    <tr>\n",
       "      <th>143</th>\n",
       "      <td>185</td>\n",
       "      <td>036a1df81a31f76ba9a702dd7d29d606b2c08fac536d0c...</td>\n",
       "      <td>address</td>\n",
       "      <td>Thunderstruck</td>\n",
       "      <td>?</td>\n",
       "    </tr>\n",
       "    <tr>\n",
       "      <th>144</th>\n",
       "      <td>186</td>\n",
       "      <td>038c4288a41c79e47f37efccb2a0e1deb3b48291a7813f...</td>\n",
       "      <td>address</td>\n",
       "      <td>LightningBout</td>\n",
       "      <td>-</td>\n",
       "    </tr>\n",
       "    <tr>\n",
       "      <th>145</th>\n",
       "      <td>190</td>\n",
       "      <td>020b95133888176c1def9d03b5426aa13d6c5c7f3406c9...</td>\n",
       "      <td>address</td>\n",
       "      <td>tresenza-lnd</td>\n",
       "      <td>?</td>\n",
       "    </tr>\n",
       "    <tr>\n",
       "      <th>146</th>\n",
       "      <td>190</td>\n",
       "      <td>03a2b9adc3086b0ba7844bcda0159f11967e5558e430f1...</td>\n",
       "      <td>address</td>\n",
       "      <td>scumm-lnd</td>\n",
       "      <td>?</td>\n",
       "    </tr>\n",
       "    <tr>\n",
       "      <th>147</th>\n",
       "      <td>192</td>\n",
       "      <td>0283065d6d5b1fbeaa1f21e62755b4b834c4fabd2765d9...</td>\n",
       "      <td>address</td>\n",
       "      <td>mainnet.clobig.com</td>\n",
       "      <td>?</td>\n",
       "    </tr>\n",
       "    <tr>\n",
       "      <th>148</th>\n",
       "      <td>192</td>\n",
       "      <td>037667a61f11bdfd28a04c8c2031c388ff8cc52d00a87e...</td>\n",
       "      <td>address</td>\n",
       "      <td>037667a61f11bdfd28a0</td>\n",
       "      <td>?</td>\n",
       "    </tr>\n",
       "    <tr>\n",
       "      <th>149</th>\n",
       "      <td>193</td>\n",
       "      <td>028b6dc171f603467690f799b6a0d52b1f5a5b8977b145...</td>\n",
       "      <td>address</td>\n",
       "      <td>host4crypto.com</td>\n",
       "      <td>-</td>\n",
       "    </tr>\n",
       "    <tr>\n",
       "      <th>150</th>\n",
       "      <td>195</td>\n",
       "      <td>027725c42688a86c79aea0e671c249363089bfcf18bc3e...</td>\n",
       "      <td>address</td>\n",
       "      <td>flsch</td>\n",
       "      <td>-</td>\n",
       "    </tr>\n",
       "    <tr>\n",
       "      <th>151</th>\n",
       "      <td>201</td>\n",
       "      <td>03c613267a1745d08984621be6a710487cb97eb595f767...</td>\n",
       "      <td>address</td>\n",
       "      <td>RapidLightning</td>\n",
       "      <td>-</td>\n",
       "    </tr>\n",
       "    <tr>\n",
       "      <th>152</th>\n",
       "      <td>203</td>\n",
       "      <td>027986b16bb9d8c541aff8e8df339548189f3077d0f42a...</td>\n",
       "      <td>address</td>\n",
       "      <td>knudix-mini</td>\n",
       "      <td>ok</td>\n",
       "    </tr>\n",
       "    <tr>\n",
       "      <th>153</th>\n",
       "      <td>203</td>\n",
       "      <td>028686d520cfdc8f7d234e879ea6fc7a963009afbcdafd...</td>\n",
       "      <td>address</td>\n",
       "      <td>knudix</td>\n",
       "      <td>ok</td>\n",
       "    </tr>\n",
       "    <tr>\n",
       "      <th>154</th>\n",
       "      <td>206</td>\n",
       "      <td>03b86e12fd1a6f56a17f834113f7b42ceb47164de2f8b4...</td>\n",
       "      <td>address</td>\n",
       "      <td>JadaIzy</td>\n",
       "      <td>?</td>\n",
       "    </tr>\n",
       "    <tr>\n",
       "      <th>155</th>\n",
       "      <td>206</td>\n",
       "      <td>03f8ab9b7496be92ce370e0224661d5d2de80bca8f505d...</td>\n",
       "      <td>address</td>\n",
       "      <td>VIX18</td>\n",
       "      <td>?</td>\n",
       "    </tr>\n",
       "    <tr>\n",
       "      <th>156</th>\n",
       "      <td>209</td>\n",
       "      <td>02cab0bfa32dc0d54674b240c990775450df6be6039568...</td>\n",
       "      <td>address</td>\n",
       "      <td>Panikorchester</td>\n",
       "      <td>?</td>\n",
       "    </tr>\n",
       "    <tr>\n",
       "      <th>157</th>\n",
       "      <td>209</td>\n",
       "      <td>03d34c207eecb9045228c9f835d7a2ed950f2ba03a4f17...</td>\n",
       "      <td>address</td>\n",
       "      <td>Room77 | room77</td>\n",
       "      <td>?</td>\n",
       "    </tr>\n",
       "    <tr>\n",
       "      <th>158</th>\n",
       "      <td>210</td>\n",
       "      <td>025a14b8ed40583d67aec92da19453e0b2d1fbbf75f96f...</td>\n",
       "      <td>address</td>\n",
       "      <td>CARNIKAVA</td>\n",
       "      <td>-</td>\n",
       "    </tr>\n",
       "    <tr>\n",
       "      <th>159</th>\n",
       "      <td>212</td>\n",
       "      <td>024655b768ef40951b20053a5c4b951606d4d86085d512...</td>\n",
       "      <td>address</td>\n",
       "      <td>satoshis.place</td>\n",
       "      <td>?</td>\n",
       "    </tr>\n",
       "    <tr>\n",
       "      <th>160</th>\n",
       "      <td>212</td>\n",
       "      <td>02ce271be6ed786a68aaf821893e9387d7d39dec0a4374...</td>\n",
       "      <td>address</td>\n",
       "      <td>KoalaBlitz</td>\n",
       "      <td>?</td>\n",
       "    </tr>\n",
       "    <tr>\n",
       "      <th>161</th>\n",
       "      <td>217</td>\n",
       "      <td>02e7c42ae2952d7a71398e23535b53ffc60deb269acbc7...</td>\n",
       "      <td>address</td>\n",
       "      <td>PeerName.com</td>\n",
       "      <td>-</td>\n",
       "    </tr>\n",
       "    <tr>\n",
       "      <th>162</th>\n",
       "      <td>218</td>\n",
       "      <td>0280247f88e7519c1839cc4a04f0db58b7455b4ebb4023...</td>\n",
       "      <td>address</td>\n",
       "      <td>Kurt</td>\n",
       "      <td>-</td>\n",
       "    </tr>\n",
       "    <tr>\n",
       "      <th>163</th>\n",
       "      <td>220</td>\n",
       "      <td>0276e09a267592e7451a939c932cf685f0754de382a3ca...</td>\n",
       "      <td>address</td>\n",
       "      <td>\"Cheese\"</td>\n",
       "      <td>-</td>\n",
       "    </tr>\n",
       "    <tr>\n",
       "      <th>164</th>\n",
       "      <td>222</td>\n",
       "      <td>03b3cdfbe44de70253b2d3719683632b74564da8be4841...</td>\n",
       "      <td>address</td>\n",
       "      <td>TheTrough</td>\n",
       "      <td>-</td>\n",
       "    </tr>\n",
       "    <tr>\n",
       "      <th>165</th>\n",
       "      <td>223</td>\n",
       "      <td>0301c3924df01f1a376ab20ce9273ee2c4a1f2354c3400...</td>\n",
       "      <td>address</td>\n",
       "      <td>ShockWallet.app</td>\n",
       "      <td>ok</td>\n",
       "    </tr>\n",
       "    <tr>\n",
       "      <th>166</th>\n",
       "      <td>223</td>\n",
       "      <td>03785c99cd75dcd0b3f2f4cedc5a82e108396abba65f10...</td>\n",
       "      <td>address</td>\n",
       "      <td>Shock.Network</td>\n",
       "      <td>ok</td>\n",
       "    </tr>\n",
       "    <tr>\n",
       "      <th>167</th>\n",
       "      <td>224</td>\n",
       "      <td>03e68f01ac8ac2b5a8ab60afd83806aed97e042ebb4f19...</td>\n",
       "      <td>address</td>\n",
       "      <td>LightningCupid</td>\n",
       "      <td>-</td>\n",
       "    </tr>\n",
       "  </tbody>\n",
       "</table>\n",
       "<p>168 rows × 5 columns</p>\n",
       "</div>"
      ],
      "text/plain": [
       "     cluster                                            pub_key  \\\n",
       "0          0  032ebdae3314f072acd70e66e18572e6ba27f969180093...   \n",
       "1          0  0374ecf61ed6c1208c42339f47decde2bc0c4393ac95f0...   \n",
       "2          1  0216006237022044d9bdb73ca51af267c5f67cf76095b4...   \n",
       "3          1  02d7ca7aae77a43a65a50cbf806cf7b43af2f89c1cf331...   \n",
       "4          2  031b3971363f95a2c645c96da138f9eec0a82ec41108d8...   \n",
       "5          4  02311c86867d6d148baf454260c7a9d0016d3f7da64e48...   \n",
       "6          4  02c16cca44562b590dd279c942200bdccfd4f990c3a69f...   \n",
       "7          4  02e6479366043ef69d75682831947010843b2d94aef913...   \n",
       "8          8  0265fae305778b7cb157365f70cf3a2047d2cad5c1ccc5...   \n",
       "9          9  03efccf2c383d7bf340da9a3f02e2c23104a0e4fe8ac1a...   \n",
       "10        12  03cb7983dc247f9f81a0fa2dfa3ce1c255365f7279c8dd...   \n",
       "11        12  03ce16b71fb6f70b30321e867bcea9cc52f39531380cd6...   \n",
       "12        13  031e8f3e16f06f78249497161f23fa50b3218c7a15c895...   \n",
       "13        15  02ae1cbbd484a2bf7384611addab02dcf1997c4ac88d28...   \n",
       "14        15  03a427767533567de4f40ec369c09559b217ad1e4a6779...   \n",
       "15        16  0233502f6370758ede277d0ee5308a900feffeea29dbe9...   \n",
       "16        17  02247d9db0dfafea745ef8c9e161eb322f73ac3f8858d8...   \n",
       "17        17  022755c3ff4e5a1d71f573cda4b315887fc00a9e5c9ea9...   \n",
       "18        17  022c260f9ad58196af280c80a96ec9eabf6404df59ff1a...   \n",
       "19        17  024d2387409269f3b79e2708bb39b895c9f4b6a8322153...   \n",
       "20        17  028a8e53d70bc0eb7b5660943582f10b7fd6c727a78ad8...   \n",
       "21        17  02bb24da3d0fb0793f4918c7599f973cc402f0912ec3fb...   \n",
       "22        17  02c91d6aa51aa940608b497b6beebcb1aec05be3c47704...   \n",
       "23        17  02de11c748f5b25cfd2ce801176d3926bfde4de23b1ff4...   \n",
       "24        17  0303a518845db99994783f606e6629e705cfaf072e5ce9...   \n",
       "25        17  030995c0c0217d763c2274aa6ed69a0bb85fa2f7d118f9...   \n",
       "26        17  0311cad0edf4ac67298805cf4407d94358ca60cd44f2e3...   \n",
       "27        17  031ce29116eab7edd66148f5169f1fb658fad62bdc5091...   \n",
       "28        17  032679fec1213e5b0a23e066c019d7b991b95c6e4d2880...   \n",
       "29        17  033e9ce4e8f0e68f7db49ffb6b9eecc10605f3f3fcb3c6...   \n",
       "..       ...                                                ...   \n",
       "138      182  02a0bc43557fae6af7be8e3a29fdebda819e439bea9c0f...   \n",
       "139      183  028737303e12cb84643d1f0181812b559a56ef5d78b4c4...   \n",
       "140      183  034143d1a45cb9bcb912eab97facf4a971098385c47017...   \n",
       "141      184  03dbe8307215d0879fca98a234fa4300799e4f8dd5e3e7...   \n",
       "142      185  02cb44d95042374782c184739d6739bdeeb0998efa73f6...   \n",
       "143      185  036a1df81a31f76ba9a702dd7d29d606b2c08fac536d0c...   \n",
       "144      186  038c4288a41c79e47f37efccb2a0e1deb3b48291a7813f...   \n",
       "145      190  020b95133888176c1def9d03b5426aa13d6c5c7f3406c9...   \n",
       "146      190  03a2b9adc3086b0ba7844bcda0159f11967e5558e430f1...   \n",
       "147      192  0283065d6d5b1fbeaa1f21e62755b4b834c4fabd2765d9...   \n",
       "148      192  037667a61f11bdfd28a04c8c2031c388ff8cc52d00a87e...   \n",
       "149      193  028b6dc171f603467690f799b6a0d52b1f5a5b8977b145...   \n",
       "150      195  027725c42688a86c79aea0e671c249363089bfcf18bc3e...   \n",
       "151      201  03c613267a1745d08984621be6a710487cb97eb595f767...   \n",
       "152      203  027986b16bb9d8c541aff8e8df339548189f3077d0f42a...   \n",
       "153      203  028686d520cfdc8f7d234e879ea6fc7a963009afbcdafd...   \n",
       "154      206  03b86e12fd1a6f56a17f834113f7b42ceb47164de2f8b4...   \n",
       "155      206  03f8ab9b7496be92ce370e0224661d5d2de80bca8f505d...   \n",
       "156      209  02cab0bfa32dc0d54674b240c990775450df6be6039568...   \n",
       "157      209  03d34c207eecb9045228c9f835d7a2ed950f2ba03a4f17...   \n",
       "158      210  025a14b8ed40583d67aec92da19453e0b2d1fbbf75f96f...   \n",
       "159      212  024655b768ef40951b20053a5c4b951606d4d86085d512...   \n",
       "160      212  02ce271be6ed786a68aaf821893e9387d7d39dec0a4374...   \n",
       "161      217  02e7c42ae2952d7a71398e23535b53ffc60deb269acbc7...   \n",
       "162      218  0280247f88e7519c1839cc4a04f0db58b7455b4ebb4023...   \n",
       "163      220  0276e09a267592e7451a939c932cf685f0754de382a3ca...   \n",
       "164      222  03b3cdfbe44de70253b2d3719683632b74564da8be4841...   \n",
       "165      223  0301c3924df01f1a376ab20ce9273ee2c4a1f2354c3400...   \n",
       "166      223  03785c99cd75dcd0b3f2f4cedc5a82e108396abba65f10...   \n",
       "167      224  03e68f01ac8ac2b5a8ab60afd83806aed97e042ebb4f19...   \n",
       "\n",
       "          cluster_origin                                              alias  \\\n",
       "0    alias/asn & address  Joltfun.com Game Shop (CLN2) | Joltfun.com Gam...   \n",
       "1    alias/asn & address  Joltfun.com Game Shop (LND) | Joltfun.com Game...   \n",
       "2    alias/asn & address                             BOSTON_ROUTE11-103-001   \n",
       "3    alias/asn & address                             BOSTON_ROUTE11-103-002   \n",
       "4              alias/asn                                      IMAGINE_PEACE   \n",
       "5    alias/asn & address                              xuange [bitclouds.sh]   \n",
       "6                address                                telegram.me/lntxbot   \n",
       "7                address                             wurren-1 | Dexpa [CLG]   \n",
       "8    alias/asn & address                                     ln.taborsky.cz   \n",
       "9    alias/asn & address                               ln.rene-pickhardt.de   \n",
       "10   alias/asn & address                                       fairly.cheap   \n",
       "11   alias/asn & address                                       fairly.cheap   \n",
       "12   alias/asn & address                                           Rav3n_PL   \n",
       "13   alias/asn & address                      SwissNode-Bank (swissnode.io)   \n",
       "14   alias/asn & address                      SwissNode-Bank (swissnode.io)   \n",
       "15   alias/asn & address                               Abacus Routing [BB2]   \n",
       "16             alias/asn                                 LNBIG.com [lnd-26]   \n",
       "17             alias/asn                                 LNBIG.com [lnd-34]   \n",
       "18             alias/asn                                 LNBIG.com [lnd-37]   \n",
       "19             alias/asn                                 LNBIG.com [lnd-38]   \n",
       "20             alias/asn                                 LNBIG.com [lnd-33]   \n",
       "21             alias/asn                                 LNBIG.com [lnd-10]   \n",
       "22             alias/asn                                 LNBIG.com [lnd-21]   \n",
       "23             alias/asn                                 LNBIG.com [lnd-09]   \n",
       "24             alias/asn                                 LNBIG.com [lnd-25]   \n",
       "25             alias/asn  LNBIG.com [lnd-28/old-lnd-22] | LNBIG.com [lnd...   \n",
       "26             alias/asn                                 LNBIG.com [lnd-42]   \n",
       "27             alias/asn                                 LNBIG.com [lnd-05]   \n",
       "28             alias/asn                                 LNBIG.com [lnd-03]   \n",
       "29             alias/asn                                 LNBIG.com [lnd-11]   \n",
       "..                   ...                                                ...   \n",
       "138              address                                  LightningPeachHub   \n",
       "139              address                               ⚡The-Lightning-Ride⚡   \n",
       "140              address                             RECOVER_MYLN | SAUBY_K   \n",
       "141              address                                     asteroidmonkey   \n",
       "142              address                                              OhmG⚡   \n",
       "143              address                                      Thunderstruck   \n",
       "144              address                                      LightningBout   \n",
       "145              address                                       tresenza-lnd   \n",
       "146              address                                          scumm-lnd   \n",
       "147              address                                 mainnet.clobig.com   \n",
       "148              address                               037667a61f11bdfd28a0   \n",
       "149              address                                    host4crypto.com   \n",
       "150              address                                              flsch   \n",
       "151              address                                     RapidLightning   \n",
       "152              address                                        knudix-mini   \n",
       "153              address                                             knudix   \n",
       "154              address                                            JadaIzy   \n",
       "155              address                                              VIX18   \n",
       "156              address                                     Panikorchester   \n",
       "157              address                                    Room77 | room77   \n",
       "158              address                                          CARNIKAVA   \n",
       "159              address                                     satoshis.place   \n",
       "160              address                                         KoalaBlitz   \n",
       "161              address                                       PeerName.com   \n",
       "162              address                                               Kurt   \n",
       "163              address                                           \"Cheese\"   \n",
       "164              address                                          TheTrough   \n",
       "165              address                                    ShockWallet.app   \n",
       "166              address                                      Shock.Network   \n",
       "167              address                                     LightningCupid   \n",
       "\n",
       "    manualAssessment  \n",
       "0                 ok  \n",
       "1                 ok  \n",
       "2                 ok  \n",
       "3                 ok  \n",
       "4                  -  \n",
       "5                  ?  \n",
       "6                  ?  \n",
       "7                  ?  \n",
       "8                  -  \n",
       "9                  -  \n",
       "10                ok  \n",
       "11                ok  \n",
       "12                 -  \n",
       "13                ok  \n",
       "14                ok  \n",
       "15                 -  \n",
       "16                ok  \n",
       "17                ok  \n",
       "18                ok  \n",
       "19                ok  \n",
       "20                ok  \n",
       "21                ok  \n",
       "22                ok  \n",
       "23                ok  \n",
       "24                ok  \n",
       "25                ok  \n",
       "26                ok  \n",
       "27                ok  \n",
       "28                ok  \n",
       "29                ok  \n",
       "..               ...  \n",
       "138                -  \n",
       "139                ?  \n",
       "140                ?  \n",
       "141                -  \n",
       "142                ?  \n",
       "143                ?  \n",
       "144                -  \n",
       "145                ?  \n",
       "146                ?  \n",
       "147                ?  \n",
       "148                ?  \n",
       "149                -  \n",
       "150                -  \n",
       "151                -  \n",
       "152               ok  \n",
       "153               ok  \n",
       "154                ?  \n",
       "155                ?  \n",
       "156                ?  \n",
       "157                ?  \n",
       "158                -  \n",
       "159                ?  \n",
       "160                ?  \n",
       "161                -  \n",
       "162                -  \n",
       "163                -  \n",
       "164                -  \n",
       "165               ok  \n",
       "166               ok  \n",
       "167                -  \n",
       "\n",
       "[168 rows x 5 columns]"
      ]
     },
     "execution_count": 530,
     "metadata": {},
     "output_type": "execute_result"
    }
   ],
   "source": [
    "manual_checks"
   ]
  },
  {
   "cell_type": "markdown",
   "metadata": {},
   "source": [
    "## Snake pattern in funding entities\n",
    "If we assume that there is always the same real-world entity behind a snake, then there should be one LN node linking all the bitcoin entities forming the snake."
   ]
  },
  {
   "cell_type": "code",
   "execution_count": 583,
   "metadata": {
    "ExecuteTime": {
     "end_time": "2020-05-26T14:40:12.086573Z",
     "start_time": "2020-05-26T14:40:12.021627Z"
    }
   },
   "outputs": [],
   "source": [
    "funding_entity_addresses = dict()\n",
    "for a, e in funding_address_entity.items():\n",
    "    if e not in funding_entity_addresses:\n",
    "        funding_entity_addresses[e] = []\n",
    "    funding_entity_addresses[e].append(a)\n"
   ]
  },
  {
   "cell_type": "code",
   "execution_count": 584,
   "metadata": {
    "ExecuteTime": {
     "end_time": "2020-05-26T14:40:12.885294Z",
     "start_time": "2020-05-26T14:40:12.851646Z"
    }
   },
   "outputs": [],
   "source": [
    "settlement_entity_addresses = dict()\n",
    "for a, e in settlement_address_entity.items():\n",
    "    if e not in settlement_entity_addresses:\n",
    "        settlement_entity_addresses[e] = []\n",
    "    settlement_entity_addresses[e].append(a)\n"
   ]
  },
  {
   "cell_type": "code",
   "execution_count": 585,
   "metadata": {
    "ExecuteTime": {
     "end_time": "2020-05-26T14:40:25.082153Z",
     "start_time": "2020-05-26T14:40:25.077684Z"
    }
   },
   "outputs": [
    {
     "data": {
      "text/plain": [
       "True"
      ]
     },
     "execution_count": 585,
     "metadata": {},
     "output_type": "execute_result"
    }
   ],
   "source": [
    "snake in funding_entity_addresses"
   ]
  },
  {
   "cell_type": "code",
   "execution_count": 588,
   "metadata": {
    "ExecuteTime": {
     "end_time": "2020-05-26T14:40:53.446944Z",
     "start_time": "2020-05-26T14:40:53.441959Z"
    }
   },
   "outputs": [
    {
     "data": {
      "text/plain": [
       "['bc1qm344fymdx9zmt0kywfu528dkwlz68yk5xhmr0k',\n",
       " 'bc1qgnlmj39h582mfguawdes9wfqwp0pzlu0dl5rmq',\n",
       " 'bc1qfnrf6k59yzz5axlktdw9try6z6h5sgxqrzytge',\n",
       " 'bc1qee64268u7vz2zul6sz7v5anjdfrj3z9gnc72sm',\n",
       " 'bc1qhevuzcgg9dr6t55g2ty5sls78j49wzw3sm7cg5']"
      ]
     },
     "execution_count": 588,
     "metadata": {},
     "output_type": "execute_result"
    }
   ],
   "source": [
    "funding_entity_addresses[snake]"
   ]
  },
  {
   "cell_type": "code",
   "execution_count": 35,
   "metadata": {
    "ExecuteTime": {
     "end_time": "2020-06-08T13:13:04.139850Z",
     "start_time": "2020-06-08T13:13:04.122233Z"
    }
   },
   "outputs": [],
   "source": [
    "snakes_df = pd.read_csv('../data/joined/results/funding_cluster_snake_pattern_filtered_relaxed.csv')\n",
    "collectors_df = pd.read_csv('../data/joined/results/settlement_cluster_collector_pattern_extended_filtered_relaxed.csv')\n",
    "stars_df = pd.read_csv('../data/joined/results/funding_cluster_star_pattern_filtered_relaxed.csv')"
   ]
  },
  {
   "cell_type": "code",
   "execution_count": 36,
   "metadata": {
    "ExecuteTime": {
     "end_time": "2020-06-08T13:13:05.815430Z",
     "start_time": "2020-06-08T13:13:05.789039Z"
    }
   },
   "outputs": [],
   "source": [
    "entity_star = dict()\n",
    "star_entities = dict()\n",
    "for e in stars_df.values:\n",
    "    cluster, entity = e\n",
    "    cluster = int(cluster)\n",
    "    entity = int(entity)\n",
    "    if cluster not in star_entities:\n",
    "        star_entities[cluster] = []\n",
    "    star_entities[cluster].append(entity)\n",
    "    entity_star[entity] = cluster"
   ]
  },
  {
   "cell_type": "code",
   "execution_count": null,
   "metadata": {},
   "outputs": [],
   "source": [
    "# d825cc4afc999b568dd555cce6bf76f9d8cb7b8a3f0e1c67235d03657946830c funding tx\n",
    "# bc1qmc5wgkafhln3dn62clj6ee6fupxxdu8u0whrt4 funding address 1\n",
    "# bc1qwnpnh0s9uffqzsfqewauhmk55e7s4g7g82yty7 funding address 1\n",
    "\n",
    "# fa1 got funds here e273dafa9aeee4fb0f4a285ea84dce12bd40450d9562d3889414a622c36f46a9\n",
    "# from bc1qwaflvl9jnstw5epmq7czv7vaamtfutrvduvnskcencu8gjewwu6s2x4n5p\n",
    "# which got money form bc1qd77x8h6fj2jpajk935a3w0yupcmk05ua4hgre7\n",
    "# which starts a snake with bc1qqlej98p23mtqv7qqxm2mp87ufqrt43j7c40wnm"
   ]
  },
  {
   "cell_type": "code",
   "execution_count": 654,
   "metadata": {
    "ExecuteTime": {
     "end_time": "2020-05-28T09:53:31.145830Z",
     "start_time": "2020-05-28T09:53:31.142435Z"
    }
   },
   "outputs": [
    {
     "name": "stdout",
     "output_type": "stream",
     "text": [
      "True\n",
      "False\n"
     ]
    }
   ],
   "source": [
    "a = 'bc1qp86v2gcl5gfaawrjjyvmpzle2g93sjvz9nlyt9'\n",
    "print(a in funding_address_entity)\n",
    "print(a in settlement_address_entity)"
   ]
  },
  {
   "cell_type": "code",
   "execution_count": null,
   "metadata": {},
   "outputs": [],
   "source": [
    "# which channel did bc1qp86v2gcl5gfaawrjjyvmpzle2g93sjvz9nlyt9 open?"
   ]
  },
  {
   "cell_type": "code",
   "execution_count": 658,
   "metadata": {
    "ExecuteTime": {
     "end_time": "2020-05-28T09:54:24.793867Z",
     "start_time": "2020-05-28T09:54:24.789631Z"
    }
   },
   "outputs": [
    {
     "data": {
      "text/plain": [
       "False"
      ]
     },
     "execution_count": 658,
     "metadata": {},
     "output_type": "execute_result"
    }
   ],
   "source": [
    "funding_address_entity[a] in heuristic_2_entity_node_conf['2']"
   ]
  },
  {
   "cell_type": "code",
   "execution_count": 649,
   "metadata": {
    "ExecuteTime": {
     "end_time": "2020-05-28T09:51:45.752852Z",
     "start_time": "2020-05-28T09:51:45.748079Z"
    }
   },
   "outputs": [
    {
     "name": "stdout",
     "output_type": "stream",
     "text": [
      "True\n",
      "False\n"
     ]
    }
   ],
   "source": [
    "a = 'bc1qp86v2gcl5gfaawrjjyvmpzle2g93sjvz9nlyt9'\n",
    "print(a in funding_address_entity)\n",
    "print(a in settlement_address_entity)"
   ]
  },
  {
   "cell_type": "code",
   "execution_count": null,
   "metadata": {},
   "outputs": [],
   "source": [
    "# how to map entities to star-snake-collector clusters?\n",
    "# input: star=Bool, snake=Bool, collector=Bool\n",
    "# output: entity->scs"
   ]
  },
  {
   "cell_type": "code",
   "execution_count": 308,
   "metadata": {
    "ExecuteTime": {
     "end_time": "2020-05-19T09:37:56.278776Z",
     "start_time": "2020-05-19T09:37:56.274470Z"
    }
   },
   "outputs": [],
   "source": [
    "snake_len_occur = dict()\n",
    "for c, es in snake_entities.items():\n",
    "    l = len(es)\n",
    "    if l not in snake_len_occur:\n",
    "        snake_len_occur[l] = 0\n",
    "    snake_len_occur[l] += 1"
   ]
  },
  {
   "cell_type": "code",
   "execution_count": 353,
   "metadata": {
    "ExecuteTime": {
     "end_time": "2020-05-21T21:08:59.989446Z",
     "start_time": "2020-05-21T21:08:59.972355Z"
    }
   },
   "outputs": [],
   "source": [
    "len_entity_snake = dict()  # len to filter short snakes and use longer ones\n",
    "for snake, entities in snake_entities.items():\n",
    "    l = len(entities)\n",
    "    if l not in len_entity_snake:\n",
    "        len_entity_snake[l] = dict()\n",
    "    for e in entities:\n",
    "        len_entity_snake[l][e] = snake\n"
   ]
  },
  {
   "cell_type": "code",
   "execution_count": 361,
   "metadata": {
    "ExecuteTime": {
     "end_time": "2020-05-21T21:14:23.529953Z",
     "start_time": "2020-05-21T21:14:23.523475Z"
    }
   },
   "outputs": [
    {
     "data": {
      "text/plain": [
       "594470234"
      ]
     },
     "execution_count": 361,
     "metadata": {},
     "output_type": "execute_result"
    }
   ],
   "source": [
    "# create heuristic 1+snakes\n",
    "# take all the snakes\n",
    "# create new mapping between address and entity\n",
    "#     entity -> snake_entity\n",
    "#     address_entity -> address_snake_entity\n",
    "funding_address_entity[list(funding_address_entity.keys())[0]]"
   ]
  },
  {
   "cell_type": "code",
   "execution_count": 578,
   "metadata": {
    "ExecuteTime": {
     "end_time": "2020-05-26T14:39:31.016956Z",
     "start_time": "2020-05-26T14:39:30.498887Z"
    }
   },
   "outputs": [],
   "source": [
    "min_len = 3\n",
    "changed = 0\n",
    "for address, entity in funding_address_entity.items():\n",
    "    for l in len_entity_snake:\n",
    "        if l > min_len and entity in len_entity_snake[l]:\n",
    "            funding_address_entity[address] = -len_entity_snake[l][entity]\n",
    "            changed += 1"
   ]
  },
  {
   "cell_type": "code",
   "execution_count": 582,
   "metadata": {
    "ExecuteTime": {
     "end_time": "2020-05-26T14:39:54.365951Z",
     "start_time": "2020-05-26T14:39:54.134606Z"
    }
   },
   "outputs": [],
   "source": [
    "min_len = 3\n",
    "changed = 0\n",
    "for address, entity in settlement_address_entity.items():\n",
    "    for l in len_entity_snake:\n",
    "        if l > min_len and entity in len_entity_snake[l]:\n",
    "            settlement_address_entity[address] = -len_entity_snake[l][entity]\n",
    "            changed += 1"
   ]
  },
  {
   "cell_type": "code",
   "execution_count": 309,
   "metadata": {
    "ExecuteTime": {
     "end_time": "2020-05-19T09:38:00.615687Z",
     "start_time": "2020-05-19T09:38:00.293741Z"
    },
    "scrolled": false
   },
   "outputs": [
    {
     "data": {
      "image/png": "[encoded data removed]",
      "text/plain": [
       "<Figure size 864x432 with 1 Axes>"
      ]
     },
     "metadata": {
      "needs_background": "light"
     },
     "output_type": "display_data"
    }
   ],
   "source": [
    "lens = list(snake_len_occur.keys())\n",
    "lens.sort()\n",
    "plt.figure(figsize=(12,6))\n",
    "plt.semilogy(lens, [snake_len_occur[l] for l in lens])\n",
    "plt.show()"
   ]
  },
  {
   "cell_type": "code",
   "execution_count": 359,
   "metadata": {
    "ExecuteTime": {
     "end_time": "2020-05-21T21:09:51.100169Z",
     "start_time": "2020-05-21T21:09:51.076070Z"
    }
   },
   "outputs": [
    {
     "data": {
      "text/plain": [
       "{601749861: 142,\n",
       " 603102841: 142,\n",
       " 604954847: 142,\n",
       " 605312334: 142,\n",
       " 605371123: 142,\n",
       " 539827519: 171,\n",
       " 539831641: 171,\n",
       " 540590208: 171,\n",
       " 541967304: 171,\n",
       " 542270169: 171,\n",
       " 553351488: 182,\n",
       " 553361262: 182,\n",
       " 553361264: 182,\n",
       " 553522944: 182,\n",
       " 597269540: 182,\n",
       " 502089236: 268,\n",
       " 502094493: 268,\n",
       " 503287615: 268,\n",
       " 519459327: 268,\n",
       " 519459328: 268,\n",
       " 491690036: 302,\n",
       " 491720235: 302,\n",
       " 491733833: 302,\n",
       " 491747113: 302,\n",
       " 491772969: 302,\n",
       " 370230119: 681,\n",
       " 370232642: 681,\n",
       " 370232644: 681,\n",
       " 370232646: 681,\n",
       " 370234089: 681,\n",
       " 370588392: 702,\n",
       " 370588394: 702,\n",
       " 370591791: 702,\n",
       " 370593651: 702,\n",
       " 370593653: 702,\n",
       " 376356677: 951,\n",
       " 376384917: 951,\n",
       " 376384921: 951,\n",
       " 376394228: 951,\n",
       " 376394230: 951,\n",
       " 567199047: 957,\n",
       " 567203263: 957,\n",
       " 567203865: 957,\n",
       " 567210983: 957,\n",
       " 567214156: 957,\n",
       " 377907134: 1002,\n",
       " 377971973: 1002,\n",
       " 377971975: 1002,\n",
       " 377985288: 1002,\n",
       " 377985292: 1002,\n",
       " 382470375: 1220,\n",
       " 382470377: 1220,\n",
       " 382470379: 1220,\n",
       " 382470381: 1220,\n",
       " 382470383: 1220,\n",
       " 383682334: 1352,\n",
       " 383682336: 1352,\n",
       " 383682338: 1352,\n",
       " 383682340: 1352,\n",
       " 383683903: 1352,\n",
       " 384156720: 1464,\n",
       " 384156722: 1464,\n",
       " 384156913: 1464,\n",
       " 384163990: 1464,\n",
       " 384163992: 1464,\n",
       " 474469623: 1472,\n",
       " 474571549: 1472,\n",
       " 474575787: 1472,\n",
       " 474575789: 1472,\n",
       " 474575791: 1472,\n",
       " 385288856: 1537,\n",
       " 385383820: 1537,\n",
       " 385390453: 1537,\n",
       " 385390455: 1537,\n",
       " 385390457: 1537,\n",
       " 386025867: 1710,\n",
       " 386027746: 1710,\n",
       " 386027748: 1710,\n",
       " 386027750: 1710,\n",
       " 386029648: 1710,\n",
       " 524227169: 1894,\n",
       " 524266630: 1894,\n",
       " 524448018: 1894,\n",
       " 524448020: 1894,\n",
       " 524710719: 1894,\n",
       " 389655062: 1927,\n",
       " 389655070: 1927,\n",
       " 389655072: 1927,\n",
       " 389655074: 1927,\n",
       " 389655076: 1927,\n",
       " 391014408: 2034,\n",
       " 391419987: 2034,\n",
       " 391423617: 2034,\n",
       " 391423623: 2034,\n",
       " 391661032: 2034,\n",
       " 393397483: 2172,\n",
       " 393397485: 2172,\n",
       " 393397487: 2172,\n",
       " 393397489: 2172,\n",
       " 393397491: 2172,\n",
       " 474627712: 2520,\n",
       " 474630691: 2520,\n",
       " 474643226: 2520,\n",
       " 474971731: 2520,\n",
       " 475180631: 2520,\n",
       " 416979764: 3513,\n",
       " 416985419: 3513,\n",
       " 416988761: 3513,\n",
       " 416989751: 3513,\n",
       " 417001807: 3513,\n",
       " 417121749: 3536,\n",
       " 417126729: 3536,\n",
       " 417129640: 3536,\n",
       " 417134013: 3536,\n",
       " 417135558: 3536,\n",
       " 420103223: 3727,\n",
       " 420103225: 3727,\n",
       " 420103227: 3727,\n",
       " 420103229: 3727,\n",
       " 420103231: 3727,\n",
       " 421678829: 3836,\n",
       " 421682340: 3836,\n",
       " 421683544: 3836,\n",
       " 421689288: 3836,\n",
       " 423065741: 3836,\n",
       " 428552131: 4290,\n",
       " 428552133: 4290,\n",
       " 428552135: 4290,\n",
       " 428552137: 4290,\n",
       " 428552145: 4290,\n",
       " 429753770: 4418,\n",
       " 433716555: 4418,\n",
       " 433716557: 4418,\n",
       " 433716559: 4418,\n",
       " 433716561: 4418,\n",
       " 433716694: 4653,\n",
       " 433716696: 4653,\n",
       " 433716698: 4653,\n",
       " 433716700: 4653,\n",
       " 433721187: 4653,\n",
       " 456558052: 5089,\n",
       " 456589261: 5089,\n",
       " 456592732: 5089,\n",
       " 456592935: 5089,\n",
       " 456592941: 5089,\n",
       " 444404288: 5094,\n",
       " 444404290: 5094,\n",
       " 444710849: 5094,\n",
       " 444710851: 5094,\n",
       " 449080086: 5094,\n",
       " 476463700: 5269,\n",
       " 484455693: 5269,\n",
       " 484470759: 5269,\n",
       " 485234333: 5269,\n",
       " 485465903: 5269,\n",
       " 445009667: 5278,\n",
       " 445009669: 5278,\n",
       " 445009671: 5278,\n",
       " 445009673: 5278,\n",
       " 445009675: 5278,\n",
       " 525185829: 5317,\n",
       " 525189649: 5317,\n",
       " 525190809: 5317,\n",
       " 525192292: 5317,\n",
       " 525193416: 5317,\n",
       " 482858891: 5383,\n",
       " 483960796: 5383,\n",
       " 483962485: 5383,\n",
       " 483967885: 5383,\n",
       " 487306211: 5383,\n",
       " 448027734: 5460,\n",
       " 448033937: 5460,\n",
       " 448033939: 5460,\n",
       " 448033941: 5460,\n",
       " 448033943: 5460,\n",
       " 448529436: 5526,\n",
       " 448529438: 5526,\n",
       " 448529440: 5526,\n",
       " 448531617: 5526,\n",
       " 448531619: 5526,\n",
       " 449533122: 5626,\n",
       " 449533124: 5626,\n",
       " 449533126: 5626,\n",
       " 449533128: 5626,\n",
       " 449535256: 5626,\n",
       " 451415887: 5881,\n",
       " 451420053: 5881,\n",
       " 451423896: 5881,\n",
       " 451423906: 5881,\n",
       " 451423908: 5881,\n",
       " 452337393: 6287,\n",
       " 452337395: 6287,\n",
       " 452337397: 6287,\n",
       " 452337399: 6287,\n",
       " 452337401: 6287,\n",
       " 490431656: 6467,\n",
       " 490496396: 6467,\n",
       " 490566567: 6467,\n",
       " 491078508: 6467,\n",
       " 491364133: 6467,\n",
       " 453686889: 6490,\n",
       " 453686891: 6490,\n",
       " 453686893: 6490,\n",
       " 453829934: 6490,\n",
       " 454402005: 6490,\n",
       " 476582766: 6639,\n",
       " 476603006: 6639,\n",
       " 476774040: 6639,\n",
       " 476774042: 6639,\n",
       " 476774044: 6639,\n",
       " 460208282: 6776,\n",
       " 487862545: 6776,\n",
       " 487862547: 6776,\n",
       " 487862549: 6776,\n",
       " 487862551: 6776,\n",
       " 479288822: 6796,\n",
       " 479337252: 6796,\n",
       " 479337254: 6796,\n",
       " 479337256: 6796,\n",
       " 479337258: 6796,\n",
       " 457054860: 6850,\n",
       " 457105258: 6850,\n",
       " 457203340: 6850,\n",
       " 457327885: 6850,\n",
       " 457384232: 6850,\n",
       " 470303287: 6862,\n",
       " 470308951: 6862,\n",
       " 470308959: 6862,\n",
       " 542108019: 6862,\n",
       " 554421578: 6862,\n",
       " 458020921: 6951,\n",
       " 458023237: 6951,\n",
       " 458027180: 6951,\n",
       " 458031782: 6951,\n",
       " 458131309: 6951,\n",
       " 459979252: 7170,\n",
       " 459979254: 7170,\n",
       " 459979256: 7170,\n",
       " 459979258: 7170,\n",
       " 459979260: 7170,\n",
       " 498053644: 7176,\n",
       " 498059023: 7176,\n",
       " 498077862: 7176,\n",
       " 501986121: 7176,\n",
       " 510502344: 7176,\n",
       " 460032750: 7178,\n",
       " 460032752: 7178,\n",
       " 460032754: 7178,\n",
       " 460032756: 7178,\n",
       " 460032758: 7178,\n",
       " 460032762: 7179,\n",
       " 460032764: 7179,\n",
       " 460032766: 7179,\n",
       " 460032768: 7179,\n",
       " 460032770: 7179,\n",
       " 460167187: 7196,\n",
       " 460167189: 7196,\n",
       " 463421934: 7196,\n",
       " 464542264: 7196,\n",
       " 464542266: 7196,\n",
       " 460411050: 7254,\n",
       " 460411052: 7254,\n",
       " 460411054: 7254,\n",
       " 460411056: 7254,\n",
       " 460411058: 7254,\n",
       " 460411256: 7256,\n",
       " 460418490: 7256,\n",
       " 460423850: 7256,\n",
       " 460423852: 7256,\n",
       " 460423854: 7256,\n",
       " 460892380: 7272,\n",
       " 460901572: 7272,\n",
       " 460901584: 7272,\n",
       " 460901586: 7272,\n",
       " 460901588: 7272,\n",
       " 460561459: 7274,\n",
       " 461809748: 7274,\n",
       " 461812072: 7274,\n",
       " 461812074: 7274,\n",
       " 461812076: 7274,\n",
       " 468981678: 7299,\n",
       " 479361770: 7299,\n",
       " 480803400: 7299,\n",
       " 480844523: 7299,\n",
       " 481740865: 7299,\n",
       " 462652085: 7376,\n",
       " 462654624: 7376,\n",
       " 462654626: 7376,\n",
       " 462654628: 7376,\n",
       " 462654630: 7376,\n",
       " 461193264: 7396,\n",
       " 464201556: 7396,\n",
       " 464201558: 7396,\n",
       " 464201560: 7396,\n",
       " 464201562: 7396,\n",
       " 461568926: 7475,\n",
       " 461568928: 7475,\n",
       " 461568930: 7475,\n",
       " 461568932: 7475,\n",
       " 461568934: 7475,\n",
       " 464714865: 7618,\n",
       " 464733760: 7618,\n",
       " 464733764: 7618,\n",
       " 464733766: 7618,\n",
       " 464733784: 7618,\n",
       " 462572299: 7632,\n",
       " 462572301: 7632,\n",
       " 462572303: 7632,\n",
       " 462572305: 7632,\n",
       " 462572307: 7632,\n",
       " 462647604: 7659,\n",
       " 462648767: 7659,\n",
       " 462650191: 7659,\n",
       " 462650491: 7659,\n",
       " 462650493: 7659,\n",
       " 462831158: 7689,\n",
       " 462831162: 7689,\n",
       " 462831164: 7689,\n",
       " 462831166: 7689,\n",
       " 462832257: 7689,\n",
       " 462848948: 7704,\n",
       " 462858365: 7704,\n",
       " 463163167: 7704,\n",
       " 463163169: 7704,\n",
       " 463163171: 7704,\n",
       " 475290941: 7818,\n",
       " 475292814: 7818,\n",
       " 475294997: 7818,\n",
       " 475296120: 7818,\n",
       " 475296122: 7818,\n",
       " 463670596: 7852,\n",
       " 463692571: 7852,\n",
       " 463693988: 7852,\n",
       " 463696393: 7852,\n",
       " 463696975: 7852,\n",
       " 466087564: 8123,\n",
       " 466106604: 8123,\n",
       " 466115915: 8123,\n",
       " 466115977: 8123,\n",
       " 466115979: 8123,\n",
       " 464955233: 8153,\n",
       " 465144516: 8153,\n",
       " 465144519: 8153,\n",
       " 465144521: 8153,\n",
       " 465144523: 8153,\n",
       " 464961473: 8159,\n",
       " 464961475: 8159,\n",
       " 464961477: 8159,\n",
       " 464966111: 8159,\n",
       " 464966113: 8159,\n",
       " 464999148: 8171,\n",
       " 464999150: 8171,\n",
       " 465138856: 8171,\n",
       " 465444099: 8171,\n",
       " 465518743: 8171,\n",
       " 465144615: 8239,\n",
       " 465144617: 8239,\n",
       " 465144619: 8239,\n",
       " 465144621: 8239,\n",
       " 465144690: 8239,\n",
       " 465146447: 8240,\n",
       " 465147965: 8240,\n",
       " 465174084: 8240,\n",
       " 465174087: 8240,\n",
       " 465174088: 8240,\n",
       " 465172740: 8249,\n",
       " 465172742: 8249,\n",
       " 465172744: 8249,\n",
       " 465172746: 8249,\n",
       " 465172748: 8249,\n",
       " 465405419: 8337,\n",
       " 465405422: 8337,\n",
       " 465405429: 8337,\n",
       " 465416184: 8337,\n",
       " 465698229: 8337,\n",
       " 465519850: 8360,\n",
       " 465519853: 8360,\n",
       " 465519855: 8360,\n",
       " 465519857: 8360,\n",
       " 465519859: 8360,\n",
       " 602501474: 8501,\n",
       " 602503922: 8501,\n",
       " 602507709: 8501,\n",
       " 602509796: 8501,\n",
       " 602512195: 8501,\n",
       " 467777674: 8925,\n",
       " 467779797: 8925,\n",
       " 467779799: 8925,\n",
       " 467781447: 8925,\n",
       " 467781449: 8925,\n",
       " 467868916: 8951,\n",
       " 467909147: 8951,\n",
       " 467909149: 8951,\n",
       " 467909151: 8951,\n",
       " 467909153: 8951,\n",
       " 467990700: 8965,\n",
       " 467990702: 8965,\n",
       " 467993282: 8965,\n",
       " 467993284: 8965,\n",
       " 467994439: 8965,\n",
       " 468087763: 9006,\n",
       " 468092415: 9006,\n",
       " 468097745: 9006,\n",
       " 468106522: 9006,\n",
       " 468120286: 9006,\n",
       " 468467059: 9080,\n",
       " 468468999: 9080,\n",
       " 468474639: 9080,\n",
       " 468489628: 9080,\n",
       " 468529093: 9080,\n",
       " 468811703: 9082,\n",
       " 479577837: 9082,\n",
       " 479610256: 9082,\n",
       " 498387507: 9082,\n",
       " 498407508: 9082,\n",
       " 468781560: 9277,\n",
       " 468781562: 9277,\n",
       " 468781564: 9277,\n",
       " 468781566: 9277,\n",
       " 468781568: 9277,\n",
       " 487184339: 9384,\n",
       " 487193698: 9384,\n",
       " 487198038: 9384,\n",
       " 487201308: 9384,\n",
       " 487203168: 9384,\n",
       " 469564238: 9461,\n",
       " 469601985: 9461,\n",
       " 469627844: 9461,\n",
       " 469661487: 9461,\n",
       " 469679015: 9461,\n",
       " 469997159: 9541,\n",
       " 469997161: 9541,\n",
       " 469997163: 9541,\n",
       " 469997165: 9541,\n",
       " 469997167: 9541,\n",
       " 471114464: 9786,\n",
       " 471116388: 9786,\n",
       " 471119125: 9786,\n",
       " 471120797: 9786,\n",
       " 471221877: 9786,\n",
       " 471991672: 9822,\n",
       " 472325465: 9822,\n",
       " 472326846: 9822,\n",
       " 476054070: 9822,\n",
       " 476054072: 9822,\n",
       " 472756154: 10067,\n",
       " 472772308: 10067,\n",
       " 472788164: 10067,\n",
       " 473883895: 10067,\n",
       " 473893441: 10067,\n",
       " 473639626: 10242,\n",
       " 473640394: 10242,\n",
       " 473640400: 10242,\n",
       " 473651147: 10242,\n",
       " 473651149: 10242,\n",
       " 473651163: 10246,\n",
       " 473663205: 10246,\n",
       " 473663207: 10246,\n",
       " 473663209: 10246,\n",
       " 473671367: 10246,\n",
       " 477089636: 10386,\n",
       " 489047081: 10386,\n",
       " 489047083: 10386,\n",
       " 489047085: 10386,\n",
       " 493109064: 10386,\n",
       " 475166233: 10509,\n",
       " 475222657: 10509,\n",
       " 475228905: 10509,\n",
       " 475260564: 10509,\n",
       " 475271416: 10509,\n",
       " 476456727: 10859,\n",
       " 476544039: 10859,\n",
       " 476837088: 10859,\n",
       " 477357458: 10859,\n",
       " 477369118: 10859,\n",
       " 476874782: 10864,\n",
       " 477108536: 10864,\n",
       " 477139854: 10864,\n",
       " 477250740: 10864,\n",
       " 477469902: 10864,\n",
       " 480589728: 11099,\n",
       " 480599516: 11099,\n",
       " 480599518: 11099,\n",
       " 480599520: 11099,\n",
       " 480599526: 11099,\n",
       " 477139860: 11217,\n",
       " 477139862: 11217,\n",
       " 477154756: 11217,\n",
       " 477163462: 11217,\n",
       " 477187621: 11217,\n",
       " 477606922: 11368,\n",
       " 477610635: 11368,\n",
       " 477610637: 11368,\n",
       " 477610639: 11368,\n",
       " 477610641: 11368,\n",
       " 477963845: 11450,\n",
       " 478320755: 11450,\n",
       " 479683209: 11450,\n",
       " 480280223: 11450,\n",
       " 481118222: 11450,\n",
       " 479832211: 11556,\n",
       " 481659337: 11556,\n",
       " 485801595: 11556,\n",
       " 485801601: 11556,\n",
       " 492732919: 11556,\n",
       " 478244517: 11740,\n",
       " 478247075: 11740,\n",
       " 478247077: 11740,\n",
       " 478247079: 11740,\n",
       " 478247081: 11740,\n",
       " 478326705: 11798,\n",
       " 478326707: 11798,\n",
       " 478602533: 11798,\n",
       " 478605713: 11798,\n",
       " 478605714: 11798,\n",
       " 478622092: 11992,\n",
       " 478622094: 11992,\n",
       " 478622096: 11992,\n",
       " 478622098: 11992,\n",
       " 479223579: 11992,\n",
       " 486694176: 12055,\n",
       " 486707214: 12055,\n",
       " 486707218: 12055,\n",
       " 503570821: 12055,\n",
       " 508698139: 12055,\n",
       " 480190104: 12347,\n",
       " 480190165: 12347,\n",
       " 480347776: 12347,\n",
       " 480703548: 12347,\n",
       " 480703590: 12347,\n",
       " 480771064: 12734,\n",
       " 480771066: 12734,\n",
       " 480771068: 12734,\n",
       " 480771070: 12734,\n",
       " 480777750: 12734,\n",
       " 480814407: 12754,\n",
       " 481128801: 12754,\n",
       " 481181513: 12754,\n",
       " 481182979: 12754,\n",
       " 481186614: 12754,\n",
       " 480877694: 12778,\n",
       " 480877696: 12778,\n",
       " 480877698: 12778,\n",
       " 480877700: 12778,\n",
       " 480893813: 12778,\n",
       " 481108089: 12780,\n",
       " 481488774: 12780,\n",
       " 481488782: 12780,\n",
       " 481516703: 12780,\n",
       " 481516705: 12780,\n",
       " 481272413: 12917,\n",
       " 481281918: 12917,\n",
       " 481281921: 12917,\n",
       " 481281923: 12917,\n",
       " 481281925: 12917,\n",
       " 481552212: 13019,\n",
       " 481597484: 13019,\n",
       " 481606666: 13019,\n",
       " 481608030: 13019,\n",
       " 481608032: 13019,\n",
       " 481793697: 13135,\n",
       " 481916409: 13135,\n",
       " 481917484: 13135,\n",
       " 481917486: 13135,\n",
       " 481917488: 13135,\n",
       " 482451438: 13341,\n",
       " 482451440: 13341,\n",
       " 482451442: 13341,\n",
       " 482451444: 13341,\n",
       " 482451446: 13341,\n",
       " 482459975: 13342,\n",
       " 482459977: 13342,\n",
       " 482459979: 13342,\n",
       " 482462945: 13342,\n",
       " 482466573: 13342,\n",
       " 504872261: 13362,\n",
       " 504872263: 13362,\n",
       " 504872265: 13362,\n",
       " 504877300: 13362,\n",
       " 504877301: 13362,\n",
       " 483071945: 13538,\n",
       " 483075949: 13538,\n",
       " 483075957: 13538,\n",
       " 483075959: 13538,\n",
       " 483077611: 13538,\n",
       " 483154827: 13563,\n",
       " 483154829: 13563,\n",
       " 483154831: 13563,\n",
       " 483154833: 13563,\n",
       " 483154835: 13563,\n",
       " 483236273: 13577,\n",
       " 483241394: 13577,\n",
       " 483250176: 13577,\n",
       " 483556832: 13577,\n",
       " 483556834: 13577,\n",
       " 483588944: 13681,\n",
       " 483588946: 13681,\n",
       " 483588948: 13681,\n",
       " 483588950: 13681,\n",
       " 483588952: 13681,\n",
       " 484207529: 13883,\n",
       " 484209450: 13883,\n",
       " 484212844: 13883,\n",
       " 484215017: 13883,\n",
       " 484226745: 13883,\n",
       " 484333550: 13945,\n",
       " 484336972: 13945,\n",
       " 484661823: 13945,\n",
       " 484661825: 13945,\n",
       " 484661827: 13945,\n",
       " 485437066: 13946,\n",
       " 485437068: 13946,\n",
       " 485621800: 13946,\n",
       " 485700269: 13946,\n",
       " 485723653: 13946,\n",
       " 484926177: 14136,\n",
       " 484926179: 14136,\n",
       " 484926181: 14136,\n",
       " 484926183: 14136,\n",
       " 484926185: 14136,\n",
       " 485041031: 14190,\n",
       " 485044692: 14190,\n",
       " 485044694: 14190,\n",
       " 485044696: 14190,\n",
       " 485044698: 14190,\n",
       " 485619699: 14487,\n",
       " 485619701: 14487,\n",
       " 485619703: 14487,\n",
       " 485619705: 14487,\n",
       " 485619715: 14487,\n",
       " 485632888: 14501,\n",
       " 485632890: 14501,\n",
       " 485632892: 14501,\n",
       " 485632894: 14501,\n",
       " 485632896: 14501,\n",
       " 485712789: 14547,\n",
       " 485712791: 14547,\n",
       " 485712793: 14547,\n",
       " 485712795: 14547,\n",
       " 485712797: 14547,\n",
       " 485777642: 14597,\n",
       " 485777644: 14597,\n",
       " 485777646: 14597,\n",
       " 485777648: 14597,\n",
       " 485781507: 14597,\n",
       " 485801177: 14615,\n",
       " 485801179: 14615,\n",
       " 485801181: 14615,\n",
       " 485801183: 14615,\n",
       " 485801185: 14615,\n",
       " 485948831: 14678,\n",
       " 485965824: 14678,\n",
       " 485974022: 14678,\n",
       " 486027845: 14678,\n",
       " 486033220: 14678,\n",
       " 490299182: 14790,\n",
       " 490304814: 14790,\n",
       " 490587676: 14790,\n",
       " 490589252: 14790,\n",
       " 490594832: 14790,\n",
       " 486490282: 14898,\n",
       " 486490284: 14898,\n",
       " 486493954: 14898,\n",
       " 486493956: 14898,\n",
       " 486493958: 14898,\n",
       " 487380217: 14947,\n",
       " 487413280: 14947,\n",
       " 487413282: 14947,\n",
       " 487413284: 14947,\n",
       " 487413286: 14947,\n",
       " 486916475: 15051,\n",
       " 486925364: 15051,\n",
       " 486925366: 15051,\n",
       " 486925368: 15051,\n",
       " 486925370: 15051,\n",
       " 486941697: 15098,\n",
       " 486941699: 15098,\n",
       " 486941709: 15098,\n",
       " 486941711: 15098,\n",
       " 486941743: 15098,\n",
       " 486941695: 15113,\n",
       " 486941719: 15113,\n",
       " 486941721: 15113,\n",
       " 486941723: 15113,\n",
       " 486941725: 15113,\n",
       " 486947650: 15117,\n",
       " 486947670: 15117,\n",
       " 486947674: 15117,\n",
       " 486954677: 15117,\n",
       " 486954679: 15117,\n",
       " 486967715: 15143,\n",
       " 486985558: 15143,\n",
       " 486991612: 15143,\n",
       " 486991614: 15143,\n",
       " 486991616: 15143,\n",
       " 486991590: 15171,\n",
       " 486991592: 15171,\n",
       " 486991626: 15171,\n",
       " 487001987: 15171,\n",
       " 487001991: 15171,\n",
       " 487007827: 15193,\n",
       " 487007833: 15193,\n",
       " 487012316: 15193,\n",
       " 487012328: 15193,\n",
       " 487017629: 15193,\n",
       " 487372968: 15319,\n",
       " 487379500: 15319,\n",
       " 487384768: 15319,\n",
       " 487388196: 15319,\n",
       " 487393880: 15319,\n",
       " 487478577: 15376,\n",
       " 487478579: 15376,\n",
       " 487478581: 15376,\n",
       " 487478583: 15376,\n",
       " 532369519: 15376,\n",
       " 487791048: 15529,\n",
       " 488720477: 15529,\n",
       " 488748254: 15529,\n",
       " 488793499: 15529,\n",
       " 488800032: 15529,\n",
       " 488028959: 15620,\n",
       " 488032667: 15620,\n",
       " 488041820: 15620,\n",
       " 489013704: 15620,\n",
       " 489017855: 15620,\n",
       " 488127360: 15675,\n",
       " 488130156: 15675,\n",
       " 488133984: 15675,\n",
       " 488134975: 15675,\n",
       " 488142911: 15675,\n",
       " 488133986: 15676,\n",
       " 488134973: 15676,\n",
       " 488136045: 15676,\n",
       " 488137208: 15676,\n",
       " 488142990: 15676,\n",
       " 488224602: 15704,\n",
       " 488230522: 15704,\n",
       " 488233563: 15704,\n",
       " 488234844: 15704,\n",
       " 488236959: 15704,\n",
       " 488407897: 15814,\n",
       " 488440669: 15814,\n",
       " 488440715: 15814,\n",
       " 488440717: 15814,\n",
       " 488440719: 15814,\n",
       " 491509963: 15858,\n",
       " 492229301: 15858,\n",
       " 492229303: 15858,\n",
       " 492229305: 15858,\n",
       " 492229307: 15858,\n",
       " 488438561: 15862,\n",
       " 488440575: 15862,\n",
       " 488440577: 15862,\n",
       " 488440795: 15862,\n",
       " 488495996: 15862,\n",
       " 488429808: 15870,\n",
       " 488440643: 15870,\n",
       " 488457233: 15870,\n",
       " 488470745: 15870,\n",
       " 488470747: 15870,\n",
       " 488438455: 15915,\n",
       " 488440727: 15915,\n",
       " 488484014: 15915,\n",
       " 488484016: 15915,\n",
       " 488484018: 15915,\n",
       " 488470769: 15948,\n",
       " 488470771: 15948,\n",
       " 488479098: 15948,\n",
       " 488479100: 15948,\n",
       " 488479116: 15948,\n",
       " 488457235: 15950,\n",
       " 488470773: 15950,\n",
       " 488470775: 15950,\n",
       " 488470777: 15950,\n",
       " 488470779: 15950,\n",
       " 488461103: 15958,\n",
       " 488464580: 15958,\n",
       " 488485471: 15958,\n",
       " 488485473: 15958,\n",
       " 488485475: 15958,\n",
       " 488499289: 15991,\n",
       " 488520262: 15991,\n",
       " 488520264: 15991,\n",
       " 488520274: 15991,\n",
       " 488525187: 15991,\n",
       " 488525231: 16037,\n",
       " 488561099: 16037,\n",
       " 488561100: 16037,\n",
       " 488561103: 16037,\n",
       " 488561105: 16037,\n",
       " 488552016: 16088,\n",
       " 488559062: 16088,\n",
       " 488559064: 16088,\n",
       " 488559066: 16088,\n",
       " 488559068: 16088,\n",
       " 488558307: 16108,\n",
       " 488558393: 16108,\n",
       " 488558395: 16108,\n",
       " 488558397: 16108,\n",
       " 488558399: 16108,\n",
       " 488558493: 16121,\n",
       " 488558495: 16121,\n",
       " 488558497: 16121,\n",
       " 488558499: 16121,\n",
       " 488558501: 16121,\n",
       " 488558584: 16134,\n",
       " 488558586: 16134,\n",
       " 488558588: 16134,\n",
       " 488558590: 16134,\n",
       " 488558592: 16134,\n",
       " 488558747: 16144,\n",
       " 488558749: 16144,\n",
       " 488558751: 16144,\n",
       " 488558753: 16144,\n",
       " 488558755: 16144,\n",
       " 488561081: 16176,\n",
       " 488561083: 16176,\n",
       " 488561085: 16176,\n",
       " 488561813: 16176,\n",
       " 488561815: 16176,\n",
       " 488561147: 16183,\n",
       " 488561149: 16183,\n",
       " 488561151: 16183,\n",
       " 488561153: 16183,\n",
       " 488561155: 16183,\n",
       " 488561209: 16189,\n",
       " 488561335: 16189,\n",
       " 488561337: 16189,\n",
       " 488561719: 16189,\n",
       " 488561721: 16189,\n",
       " 488561247: 16191,\n",
       " 488561249: 16191,\n",
       " 488561251: 16191,\n",
       " 488561253: 16191,\n",
       " 488561255: 16191,\n",
       " 488561313: 16202,\n",
       " 488561315: 16202,\n",
       " 488561867: 16202,\n",
       " 488570382: 16202,\n",
       " 488572934: 16202,\n",
       " 488561745: 16235,\n",
       " 488561757: 16235,\n",
       " 488561759: 16235,\n",
       " 488585921: 16235,\n",
       " 488596139: 16235,\n",
       " 488561685: 16252,\n",
       " 488561763: 16252,\n",
       " 488561765: 16252,\n",
       " 488561801: 16252,\n",
       " 488563832: 16252,\n",
       " 488561831: 16266,\n",
       " 488868623: 16266,\n",
       " 488868625: 16266,\n",
       " 488869991: 16266,\n",
       " 488869993: 16266,\n",
       " 488566922: 16285,\n",
       " 488570350: 16285,\n",
       " 488570352: 16285,\n",
       " 488570354: 16285,\n",
       " 488571158: 16285,\n",
       " 488623217: 16288,\n",
       " 488625612: 16288,\n",
       " 488642487: 16288,\n",
       " 488665905: 16288,\n",
       " 488668882: 16288,\n",
       " 488607893: 16323,\n",
       " 488607897: 16323,\n",
       " 488607915: 16323,\n",
       " 488613615: 16323,\n",
       " 488616730: 16323,\n",
       " 488639841: 16405,\n",
       " 488639843: 16405,\n",
       " 488642510: 16405,\n",
       " 488642512: 16405,\n",
       " 488645330: 16405,\n",
       " 488684677: 16424,\n",
       " 488684679: 16424,\n",
       " 488711128: 16424,\n",
       " 488711134: 16424,\n",
       " 488711136: 16424,\n",
       " 488892746: 16566,\n",
       " 488904907: 16566,\n",
       " 488935028: 16566,\n",
       " 489010248: 16566,\n",
       " 489051470: 16566,\n",
       " 488923919: 16580,\n",
       " 488926750: 16580,\n",
       " 488926752: 16580,\n",
       " 488926754: 16580,\n",
       " 488926756: 16580,\n",
       " 488926760: 16582,\n",
       " 488926762: 16582,\n",
       " 488926764: 16582,\n",
       " 488927522: 16582,\n",
       " 488927524: 16582,\n",
       " 488999525: 16603,\n",
       " 489038138: 16603,\n",
       " 489047781: 16603,\n",
       " 489063702: 16603,\n",
       " 489082290: 16603,\n",
       " 489170559: 16623,\n",
       " 489212088: 16623,\n",
       " 489255380: 16623,\n",
       " 489257752: 16623,\n",
       " 489274570: 16623,\n",
       " 489816370: 16782,\n",
       " 489820444: 16782,\n",
       " 489832343: 16782,\n",
       " 489844867: 16782,\n",
       " 489862304: 16782,\n",
       " 490035615: 16833,\n",
       " 490056490: 16833,\n",
       " 490070007: 16833,\n",
       " 490088377: 16833,\n",
       " 490095936: 16833,\n",
       " 491265120: 17090,\n",
       " 491267835: 17090,\n",
       " 491270500: 17090,\n",
       " 491276812: 17090,\n",
       " 491276814: 17090,\n",
       " 491416657: 17120,\n",
       " 491416659: 17120,\n",
       " 491420822: 17120,\n",
       " 491420824: 17120,\n",
       " 491422656: 17120,\n",
       " 491592755: 17159,\n",
       " 491592757: 17159,\n",
       " 491600189: 17159,\n",
       " 491605683: 17159,\n",
       " 491605685: 17159,\n",
       " 492342904: 17249,\n",
       " 492357864: 17249,\n",
       " 492357869: 17249,\n",
       " 492414408: 17249,\n",
       " 492421112: 17249,\n",
       " 494095030: 17512,\n",
       " 494128849: 17512,\n",
       " 494153678: 17512,\n",
       " 494186406: 17512,\n",
       " 494219155: 17512,\n",
       " 501405675: 17772,\n",
       " 501425192: 17772,\n",
       " 501425194: 17772,\n",
       " 501432486: 17772,\n",
       " 501432488: 17772,\n",
       " 497256113: 17959,\n",
       " 497280632: 17959,\n",
       " 497280652: 17959,\n",
       " 497280654: 17959,\n",
       " 555191565: 17959,\n",
       " 498799170: 18037,\n",
       " 498830937: 18037,\n",
       " 499444336: 18037,\n",
       " 499854309: 18037,\n",
       " 500246903: 18037,\n",
       " 499168380: 18226,\n",
       " 499170596: 18226,\n",
       " 499218931: 18226,\n",
       " 499229699: 18226,\n",
       " 499515832: 18226,\n",
       " 499548378: 18271,\n",
       " 499548381: 18271,\n",
       " 499562763: 18271,\n",
       " 499562982: 18271,\n",
       " 499586192: 18271,\n",
       " 500657497: 18408,\n",
       " 500665502: 18408,\n",
       " 500675842: 18408,\n",
       " 500716263: 18408,\n",
       " 500722766: 18408,\n",
       " 512759037: 18477,\n",
       " 512780201: 18477,\n",
       " 512785399: 18477,\n",
       " 512787313: 18477,\n",
       " 512788538: 18477,\n",
       " 503662288: 18517,\n",
       " 506970583: 18517,\n",
       " 506970585: 18517,\n",
       " 506970587: 18517,\n",
       " 509804237: 18517,\n",
       " 503350908: 18698,\n",
       " 512150111: 18698,\n",
       " 512150113: 18698,\n",
       " 512153992: 18698,\n",
       " 512153994: 18698,\n",
       " 517542060: 18836,\n",
       " 517600539: 18836,\n",
       " 517619726: 18836,\n",
       " 557024952: 18836,\n",
       " 557025893: 18836,\n",
       " 505196344: 18990,\n",
       " 505199184: 18990,\n",
       " 505199248: 18990,\n",
       " 505199250: 18990,\n",
       " 505522074: 18990,\n",
       " 514165126: 19386,\n",
       " 514558287: 19386,\n",
       " 514626500: 19386,\n",
       " 514630305: 19386,\n",
       " 514677500: 19386,\n",
       " ...}"
      ]
     },
     "execution_count": 359,
     "metadata": {},
     "output_type": "execute_result"
    }
   ],
   "source": [
    "len_entity_snake[5]"
   ]
  },
  {
   "cell_type": "code",
   "execution_count": 350,
   "metadata": {
    "ExecuteTime": {
     "end_time": "2020-05-20T14:10:01.898926Z",
     "start_time": "2020-05-20T14:10:01.892552Z"
    }
   },
   "outputs": [
    {
     "data": {
      "text/plain": [
       "12"
      ]
     },
     "execution_count": 350,
     "metadata": {},
     "output_type": "execute_result"
    }
   ],
   "source": [
    "# check intersection between snakes and heuristic 1\n",
    "snake_heuristic1_intersection = set(heuristic_1_entity_node.keys()).intersection(set(entity_snake.keys()))\n",
    "len(snake_heuristic1_intersection)"
   ]
  },
  {
   "cell_type": "code",
   "execution_count": 347,
   "metadata": {
    "ExecuteTime": {
     "end_time": "2020-05-20T12:23:22.716938Z",
     "start_time": "2020-05-20T12:23:22.711632Z"
    }
   },
   "outputs": [],
   "source": [
    "# check intersection between snakes and heuristic 2\n",
    "snake_heuristic2_intersection = set(heuristic_2_entity_node_conf[3].keys()).intersection(set(entity_snake.keys()))\n",
    "len(snake_heuristic2_intersection)"
   ]
  },
  {
   "cell_type": "code",
   "execution_count": 311,
   "metadata": {
    "ExecuteTime": {
     "end_time": "2020-05-19T09:39:39.157081Z",
     "start_time": "2020-05-19T09:39:39.145394Z"
    },
    "scrolled": true
   },
   "outputs": [
    {
     "name": "stdout",
     "output_type": "stream",
     "text": [
      "\n",
      "intersection entity: 516487173\n",
      "linked node 03d37fca0656558de4fd86bbe490a38d84a46228e7ec1361801f54f9437a18d618\n",
      "node alias {'LNBIG.com [lnd-02]'}\n",
      "Number of entities related to the node: 41\n",
      "Snake ID 18961\n",
      "Number of entities in snake: 2\n",
      "1 of which are in the corresponding snake\n",
      "Snake start. Entity, address, entity is linked\n",
      "516487173 ['bc1qx47m0dt99erqy3h68v65qfmc4nakdvm92uzph7'] True\n",
      "516487175 ['bc1qadtqn5szrppj5nk66mcxwlcqlyl00zdn9q05st'] False\n",
      "\n",
      "intersection entity: 580819750\n",
      "linked node 02ddc0e653386315299a8ca788c2e659f1ca6d96833c8abccdc7dcd84f4fad9700\n",
      "node alias {'miningshed.com'}\n",
      "Number of entities related to the node: 1\n",
      "Snake ID 21675\n",
      "Number of entities in snake: 2\n",
      "1 of which are in the corresponding snake\n",
      "Snake start. Entity, address, entity is linked\n",
      "580819750 ['bc1qm3gggr4lhprncrln84e9u27kt2zyre04y67j3d'] True\n",
      "580830071 ['bc1qrmgmjel2cmsadwd9kmngdy0vtclea3n7mcyyzv'] False\n",
      "\n",
      "intersection entity: 533247144\n",
      "linked node 0298f6074a454a1f5345cb2a7c6f9fce206cd0bf675d177cdbf0ca7508dd28852f\n",
      "node alias {'BCash_Is_Trash'}\n",
      "Number of entities related to the node: 30\n",
      "Snake ID 20154\n",
      "Number of entities in snake: 3\n",
      "1 of which are in the corresponding snake\n",
      "Snake start. Entity, address, entity is linked\n",
      "533247144 ['bc1qxktae7uky53l0dgqj3datn2vz825uyw6h4mye7'] True\n",
      "534213079 ['bc1qkegjh54cr2cctukcpeqtd6ulaqmng85mkzly6r'] False\n",
      "534215236 ['bc1q8evd62ceycth09m2n8dw6974dk3vl0nhgp08l4'] False\n",
      "\n",
      "intersection entity: 596349162\n",
      "linked node 027fb5a31546c43e28c637483808de01bde7afc8f9016c6a994a818fa2b396e551\n",
      "node alias {'flash'}\n",
      "Number of entities related to the node: 1\n",
      "Snake ID 23072\n",
      "Number of entities in snake: 3\n",
      "1 of which are in the corresponding snake\n",
      "Snake start. Entity, address, entity is linked\n",
      "596349162 ['bc1qycwgnqms2eqkwn927k77pjyh202fajnda7lad4'] True\n",
      "596349667 ['bc1q5t4xq88z7rshw9zw28kz0fyjyndeh3ex6z4c37'] False\n",
      "596407942 ['bc1qky3ncfjt4h20d4y29kxknpzjmnmyeftvhm09yf'] False\n",
      "\n",
      "intersection entity: 581868618\n",
      "linked node 02913d84886059292845f870c5229f103dd8d7d71d7e9fc6fd52f75a40486d2187\n",
      "node alias {'btc.lnetwork.tokyo'}\n",
      "Number of entities related to the node: 6\n",
      "Snake ID 23854\n",
      "Number of entities in snake: 2\n",
      "1 of which are in the corresponding snake\n",
      "Snake start. Entity, address, entity is linked\n",
      "581868618 ['bc1q8ph2gdt474ue8jv3k2jufaq9wrg0eagfv65lxm'] True\n",
      "581870562 ['bc1qw76xtdjjh29qngp6976wklcfr8fj4l3ntthenv'] False\n",
      "\n",
      "intersection entity: 533894483\n",
      "linked node 02a6de0f3b4fe2b1d9384f9722e3adc615932be8ac748ad333018fe4a769a2b8b2\n",
      "node alias {'Angel_1BTC'}\n",
      "Number of entities related to the node: 2\n",
      "Snake ID 18420\n",
      "Number of entities in snake: 2\n",
      "1 of which are in the corresponding snake\n",
      "Snake start. Entity, address, entity is linked\n",
      "533894483 ['bc1qd0raa6wahkhuxjsur3h2e80lyqnccpt7p23hh7'] True\n",
      "537263480 ['bc1q9jtgqpzx0vgfanrm2h5k4yczazyq9j2es4npkg'] False\n",
      "\n",
      "intersection entity: 550861396\n",
      "linked node 026d740c4a8387a0542fcc94b2ff485ecd0329cfa30dd0ae4091a80ad15fc8b4e8\n",
      "node alias {'SaharsBlitz'}\n",
      "Number of entities related to the node: 1\n",
      "Snake ID 20087\n",
      "Number of entities in snake: 2\n",
      "1 of which are in the corresponding snake\n",
      "Snake start. Entity, address, entity is linked\n",
      "550861396 ['bc1qkvhky5q83kasnl20uvr7g65aurtlrwwkjrxml4'] True\n",
      "550863797 ['bc1qwd4nm44kur97mhvany20rmx0v9zvgxrqfxsrwl'] False\n",
      "\n",
      "intersection entity: 581868596\n",
      "linked node 02913d84886059292845f870c5229f103dd8d7d71d7e9fc6fd52f75a40486d2187\n",
      "node alias {'btc.lnetwork.tokyo'}\n",
      "Number of entities related to the node: 6\n",
      "Snake ID 23852\n",
      "Number of entities in snake: 6\n",
      "1 of which are in the corresponding snake\n",
      "Snake start. Entity, address, entity is linked\n",
      "581868596 ['bc1qqes20p2ey4r0nktwafsythqq7dfak5py4jx5hh'] True\n",
      "581870561 ['bc1q3vwvqvxzwe5hcayrvw4j4064d8getn5md8xspe'] False\n",
      "581874191 ['bc1q5drgag5x7zqa276zsh59wtu98efcul52spvkvc'] False\n",
      "581876925 ['bc1qdrznm7nuzrzn4d4tg552puhrs89d7fzau5zkap'] False\n",
      "581881806 ['bc1q2dexkc9cy5x0ztpjgz0fmdn8u75prswtkxsjps'] False\n",
      "581883348 ['bc1q2u6q3mr2ldpggx9xd0hwvs0c4u5mhl43e6msnm'] False\n",
      "\n",
      "intersection entity: 561856858\n",
      "linked node 0360e94b6a5ba69e9349ea1077890b6384a4b9e6368e100316d85e22a534f552a8\n",
      "node alias {'CRAG'}\n",
      "Number of entities related to the node: 1\n",
      "Snake ID 6960\n",
      "Number of entities in snake: 3\n",
      "1 of which are in the corresponding snake\n",
      "Snake start. Entity, address, entity is linked\n",
      "561856858 ['bc1qmqaydjf2uafqjzns0xyt8vd849ceyjte2q9d8g'] True\n",
      "561860812 ['bc1qc36uuhpxr3peq8wy9vwhcdmqkvqvludv6l8428'] False\n",
      "561865124 ['bc1qzmcyy20uedgqv84evh6x8zavhmwgemaqf82vkg'] False\n",
      "\n",
      "intersection entity: 595583548\n",
      "linked node 027bff56493377f2d5b698db4c621e67d78850fb27148025f2d6b9303d6797b8f1\n",
      "node alias {'Stoich'}\n",
      "Number of entities related to the node: 1\n",
      "Snake ID 24799\n",
      "Number of entities in snake: 3\n",
      "1 of which are in the corresponding snake\n",
      "Snake start. Entity, address, entity is linked\n",
      "595583548 ['bc1q08yav9ldcjz5vzwlspjhphvwnypfw6y95wygx8'] True\n",
      "595585741 ['bc1qd6ldd9htf8er48dmv8jkk0ap9rqmcrxsheunau'] False\n",
      "595588081 ['bc1qd8p7y2y263lnxq6ave9sumwu53wwq3ad8lr0yz'] False\n",
      "\n",
      "intersection entity: 551421917\n",
      "linked node 02529db69fd2ebd3126fb66fafa234fc3544477a23d509fe93ed229bb0e92e4fb8\n",
      "node alias {'🚀🌑 BOLTENING.club'}\n",
      "Number of entities related to the node: 45\n",
      "Snake ID 4390\n",
      "Number of entities in snake: 11\n",
      "1 of which are in the corresponding snake\n",
      "Snake start. Entity, address, entity is linked\n",
      "551421917 ['bc1qt0lka7w8ndf8qsph7hd9hzc5lf96dvqu2a8vlr'] True\n",
      "551454522 ['bc1qrylptnyxu7zjkuyx26aw8x508umzv5gr7kj4ul'] False\n",
      "551518808 ['bc1q2m8pp3ucpy82az6pgw75l6he0rchf3shpreamg'] False\n",
      "551560767 ['bc1qtdhjtd393mmhwh0taghc4qthjzg2u53kv0mzhp'] False\n",
      "551576712 ['bc1qhae483v7zffwwn39fl84ne5rwe9cefql6tfn6c'] False\n",
      "551586853 ['bc1q8hxxwz66v7ewypff4y7wuhd4j7aunrkc332v0p'] False\n",
      "551591461 ['bc1qeesj2xsqyhwptdkycwz7cnheu48ljerkgp9u7w'] False\n",
      "551594233 ['bc1qu9zk44nygm5dw4mamzny4ly9ukn5n9ll0rq6ce'] False\n",
      "551717782 ['bc1qqujgkw5mhsp0cgkqecdcf839npuqlw8w40szyc'] False\n",
      "551739679 ['bc1qd9lrfsahv40t8k6u7f6tgpx2a9fl56gude5jnr'] False\n",
      "551741316 ['bc1q26n66xlyfjhggeket6tm0qumuyatfr9vu5dl7u'] False\n",
      "\n",
      "intersection entity: 580819678\n",
      "linked node 036665c77a6057bee48b447bb57a06284c895406f4faf773dbea7f0daa120774c1\n",
      "node alias {'RelayNorway'}\n",
      "Number of entities related to the node: 1\n",
      "Snake ID 13437\n",
      "Number of entities in snake: 2\n",
      "1 of which are in the corresponding snake\n",
      "Snake start. Entity, address, entity is linked\n",
      "580819678 ['bc1q2nqpu2v9q3nl975q7w9s2muts8rawymmjvdjwx'] True\n",
      "592705151 ['bc1qhl7vpd8rqexv60u8hngfzrcgm6afg6p7rdh2dq'] False\n"
     ]
    }
   ],
   "source": [
    "for e in snake_heuristic1_intersection:\n",
    "    print()\n",
    "    print('intersection entity:', e)\n",
    "    n = heuristic_1_entity_node[e][0]\n",
    "    print('linked node', n)\n",
    "    if n in node_alias:\n",
    "        print('node alias', node_alias[n])\n",
    "    print('Number of entities related to the node:', len(heuristic_1_node_entity[n]))\n",
    "    print('Snake ID', entity_snake[e])\n",
    "    print('Number of entities in snake:', len(snake_entities[entity_snake[e]]))\n",
    "    len_intersection = len(set(heuristic_1_node_entity[n]).intersection(set(snake_entities[entity_snake[e]])))    \n",
    "    # how many of this linked entities are also in the snake?\n",
    "    print(len_intersection, 'of which are in the corresponding snake')\n",
    "    ll = snake_entities[entity_snake[e]]\n",
    "    ll.sort()\n",
    "    print('Snake start. Entity, address, entity is linked')\n",
    "    for el in ll:\n",
    "        print(el, funding_entity_addresses[el], el in heuristic_1_node_entity[heuristic_1_entity_node[e][0]])\n"
   ]
  },
  {
   "cell_type": "markdown",
   "metadata": {},
   "source": [
    "Using the entities in the intersection between heuristic 1 and the snakes, we always get at most one linked entity. This means we could link all other entities in the snake to the LN node.\n",
    "\n",
    "What are the nodes behind the funding txs creating the snake?"
   ]
  },
  {
   "cell_type": "code",
   "execution_count": 319,
   "metadata": {
    "ExecuteTime": {
     "end_time": "2020-05-19T10:02:39.296198Z",
     "start_time": "2020-05-19T10:02:39.290058Z"
    }
   },
   "outputs": [
    {
     "data": {
      "text/plain": [
       "['02529db69fd2ebd3126fb66fafa234fc3544477a23d509fe93ed229bb0e92e4fb8']"
      ]
     },
     "execution_count": 319,
     "metadata": {},
     "output_type": "execute_result"
    }
   ],
   "source": [
    "heuristic_1_entity_node[551421917] # snake start"
   ]
  },
  {
   "cell_type": "code",
   "execution_count": 1,
   "metadata": {
    "ExecuteTime": {
     "end_time": "2020-06-08T08:56:52.370426Z",
     "start_time": "2020-06-08T08:56:52.367052Z"
    }
   },
   "outputs": [],
   "source": [
    "# # for each snake\n",
    "# print('showing only long snakes')\n",
    "# n_chars = 7\n",
    "# for snake in snake_entities:\n",
    "#     if len(snake_entities[snake]) > 10:\n",
    "#         print()\n",
    "#         print('snake ID:', snake)\n",
    "#         sorted_entities = snake_entities[snake]\n",
    "#         sorted_entities.sort()\n",
    "#         print('entity    channel node1   node2')\n",
    "#         for entity in sorted_entities:\n",
    "#             ch_nodes = funding_entity_channels_nodes[entity]\n",
    "#             for ch, nodes in ch_nodes.items():\n",
    "#                 nodes.sort()\n",
    "#                 print(entity, ch[:n_chars], nodes[0][:n_chars], nodes[1][:n_chars])\n"
   ]
  },
  {
   "cell_type": "code",
   "execution_count": 334,
   "metadata": {
    "ExecuteTime": {
     "end_time": "2020-05-19T10:24:46.573378Z",
     "start_time": "2020-05-19T10:24:46.559983Z"
    }
   },
   "outputs": [
    {
     "name": "stdout",
     "output_type": "stream",
     "text": [
      "showing only intersection snakes\n",
      "\n",
      "snake ID: 4390\n",
      "entity    channel node1   node2\n",
      "551421917 6eaecb5 02529db 03e2880\n",
      "551454522 abb03a1 02529db 03e2880\n",
      "551518808 cc029ea 02529db 03e2880\n",
      "551560767 75c7a3a 02529db 03e2880\n",
      "551576712 944fffa 02529db 03e2880\n",
      "551586853 7ffdd7b 02529db 03e2880\n",
      "551591461 f20879b 02529db 03e2880\n",
      "551594233 1d91a58 02529db 03e2880\n",
      "551717782 a5b2089 02529db 03e2880\n",
      "551739679 8c7383b 02529db 03e2880\n",
      "551741316 5c31a46 02529db 03e2880\n",
      "\n",
      "snake ID: 6960\n",
      "entity    channel node1   node2\n",
      "561856858 710dd3e 035871b 0360e94\n",
      "561860812 63d03cc 032cc45 0360e94\n",
      "561865124 817b3d9 0353308 0360e94\n",
      "\n",
      "snake ID: 13437\n",
      "entity    channel node1   node2\n",
      "580819678 9f1006d 03077fb 036665c\n",
      "592705151 ca12fa8 036665c 036d110\n",
      "\n",
      "snake ID: 18420\n",
      "entity    channel node1   node2\n",
      "533894483 e781d63 02a6de0 0390b5d\n",
      "537263480 640f540 02a6de0 03d37fc\n",
      "\n",
      "snake ID: 18961\n",
      "entity    channel node1   node2\n",
      "516487173 4afac92 02b6dab 03d37fc\n",
      "516487175 88960a4 02725e5 03d37fc\n",
      "\n",
      "snake ID: 20087\n",
      "entity    channel node1   node2\n",
      "550861396 71d248f 026d740 028a8e5\n",
      "550863797 dba91c7 026d740 03c492f\n",
      "\n",
      "snake ID: 20154\n",
      "entity    channel node1   node2\n",
      "533247144 d774b85 0298f60 03b4608\n",
      "534213079 2e2e969 0298f60 0397e25\n",
      "534215236 03a922d 0298f60 03ee180\n",
      "\n",
      "snake ID: 21675\n",
      "entity    channel node1   node2\n",
      "580819750 1c40c08 02004c6 02ddc0e\n",
      "580830071 92a2dec 02ddc0e 03688e7\n",
      "\n",
      "snake ID: 23072\n",
      "entity    channel node1   node2\n",
      "596349162 033d4d2 027fb5a 03bc933\n",
      "596349667 f2b93cb 027fb5a 0287373\n",
      "596407942 18954ab 0217890 027fb5a\n",
      "\n",
      "snake ID: 23852\n",
      "entity    channel node1   node2\n",
      "581868596 8f75e7f 022d465 02913d8\n",
      "581870561 5d84012 02913d8 034e5fb\n",
      "581874191 9f07a2b 02913d8 03c492f\n",
      "581876925 da8af7f 02913d8 0315485\n",
      "581881806 8fc780a 02913d8 02c0a6e\n",
      "581883348 4bb17ad 02913d8 03301e6\n",
      "\n",
      "snake ID: 23854\n",
      "entity    channel node1   node2\n",
      "581868618 90e9162 02913d8 0354d80\n",
      "581870562 8654233 02913d8 038ff6e\n",
      "\n",
      "snake ID: 24799\n",
      "entity    channel node1   node2\n",
      "595583548 a17cd21 020b904 027bff5\n",
      "595585741 b20d614 027bff5 029d8f5\n",
      "595588081 2bc7534 027bff5 034653a\n"
     ]
    }
   ],
   "source": [
    "# for each snake\n",
    "print('showing only intersection snakes')\n",
    "n_chars = 7\n",
    "for snake in snake_entities:\n",
    "    if set(snake_entities[snake]).intersection(snake_heuristic1_intersection):\n",
    "        print()\n",
    "        print('snake ID:', snake)\n",
    "        sorted_entities = snake_entities[snake]\n",
    "        sorted_entities.sort()\n",
    "        print('entity    channel node1   node2')\n",
    "        for entity in sorted_entities:\n",
    "            ch_nodes = funding_entity_channels_nodes[entity]\n",
    "            for ch, nodes in ch_nodes.items():\n",
    "                nodes.sort()\n",
    "                print(entity, ch[:n_chars], nodes[0][:n_chars], nodes[1][:n_chars])\n"
   ]
  },
  {
   "cell_type": "markdown",
   "metadata": {},
   "source": [
    "### Looking for some big sub graphs"
   ]
  },
  {
   "cell_type": "code",
   "execution_count": 185,
   "metadata": {
    "ExecuteTime": {
     "end_time": "2020-05-18T09:23:36.034717Z",
     "start_time": "2020-05-18T09:23:36.018981Z"
    }
   },
   "outputs": [
    {
     "data": {
      "text/plain": [
       "5483"
      ]
     },
     "execution_count": 185,
     "metadata": {},
     "output_type": "execute_result"
    }
   ],
   "source": [
    "# plot graph to see how entities are linked to nodes\n",
    "G = nx.Graph()\n",
    "i = 0\n",
    "for entity, nodes in heuristic_1_entity_node.items():\n",
    "    i += 1\n",
    "    if i > 10000000:\n",
    "        break\n",
    "    for node in nodes:\n",
    "        G.add_edge(node, entity)\n",
    "\n",
    "node_color = []\n",
    "for n in G:\n",
    "    if isinstance(n, str):\n",
    "        node_color.append('b')\n",
    "    else:\n",
    "        node_color.append('g')\n",
    "len(G)"
   ]
  },
  {
   "cell_type": "code",
   "execution_count": null,
   "metadata": {
    "ExecuteTime": {
     "end_time": "2020-05-18T09:23:36.045140Z",
     "start_time": "2020-05-18T09:22:29.355Z"
    }
   },
   "outputs": [],
   "source": [
    "# plt.figure(figsize=(10,7))\n",
    "# nx.draw(G, node_color=node_color, node_size=50)\n",
    "# ax = plt.gca()\n",
    "# ax.collections[0].set_edgecolor('#000000')\n",
    "# plt.title('Green = Entity, Blue = Node')\n",
    "# plt.show()"
   ]
  },
  {
   "cell_type": "code",
   "execution_count": 348,
   "metadata": {
    "ExecuteTime": {
     "end_time": "2020-05-20T12:23:30.759015Z",
     "start_time": "2020-05-20T12:23:30.755184Z"
    }
   },
   "outputs": [
    {
     "data": {
      "text/plain": [
       "21"
      ]
     },
     "execution_count": 348,
     "metadata": {},
     "output_type": "execute_result"
    }
   ],
   "source": []
  },
  {
   "cell_type": "code",
   "execution_count": null,
   "metadata": {
    "ExecuteTime": {
     "end_time": "2020-05-18T09:23:36.046016Z",
     "start_time": "2020-05-18T09:22:29.359Z"
    }
   },
   "outputs": [],
   "source": [
    "# find if we have nodes linked together thanks to entities\n",
    "sub_graphs = nx.connected_component_subgraphs(G)\n",
    "for sg in sub_graphs:\n",
    "    if '037ad988bfeca5885b3eab0abb9db4658bb31a6510a03b9181a754e480fc558338' in sg:\n",
    "        print([n for n in sg])\n",
    "#     n_nodes = 0\n",
    "#     for n in sg:\n",
    "# #         print(n)\n",
    "#         if isinstance(n, str):\n",
    "#             n_nodes += 1\n",
    "#             if n_nodes > 1:\n",
    "#                 print(n)\n",
    "#                 if n in node_alias:\n",
    "#                     print(node_alias[n])\n",
    "#     if n_nodes > 1:\n",
    "#         print(n_nodes, 'LN nodes in subgraph')"
   ]
  },
  {
   "cell_type": "markdown",
   "metadata": {},
   "source": [
    "# Old sections"
   ]
  },
  {
   "cell_type": "code",
   "execution_count": 307,
   "metadata": {
    "ExecuteTime": {
     "end_time": "2020-03-11T13:29:32.712025Z",
     "start_time": "2020-03-11T13:29:32.707714Z"
    }
   },
   "outputs": [],
   "source": [
    "### bipartite graph\n",
    "B = nx.Graph()"
   ]
  },
  {
   "cell_type": "code",
   "execution_count": 308,
   "metadata": {
    "ExecuteTime": {
     "end_time": "2020-03-11T13:29:33.229556Z",
     "start_time": "2020-03-11T13:29:33.184516Z"
    }
   },
   "outputs": [],
   "source": [
    "for e, ns in entity_selected_nodes.items():\n",
    "    B.add_node(e, bipartite=0)\n",
    "    for n in ns:\n",
    "        B.add_node(n, bipartite=1)\n",
    "        B.add_edge(e, n)"
   ]
  },
  {
   "cell_type": "code",
   "execution_count": 239,
   "metadata": {
    "ExecuteTime": {
     "end_time": "2020-04-21T19:35:28.733019Z",
     "start_time": "2020-04-21T19:35:28.730551Z"
    }
   },
   "outputs": [],
   "source": [
    "# UG = B.to_undirected()\n",
    "# # extract subgraphs\n",
    "# sub_graphs = nx.connected_component_subgraphs(UG)\n",
    "\n",
    "# len([1 for sg in sub_graphs]) # number of subgraphs # 1539"
   ]
  },
  {
   "cell_type": "code",
   "execution_count": 326,
   "metadata": {
    "ExecuteTime": {
     "end_time": "2020-03-11T14:06:39.909866Z",
     "start_time": "2020-03-11T14:06:39.906710Z"
    }
   },
   "outputs": [],
   "source": [
    "# # make an undirected copy of the digraph\n",
    "# UG = B.to_undirected()\n",
    "\n",
    "# # extract subgraphs\n",
    "# sub_graphs = nx.connected_component_subgraphs(UG)\n",
    "\n",
    "# for i, sg in enumerate(sub_graphs):\n",
    "#     X = set()\n",
    "#     Y = set()\n",
    "    \n",
    "#     for node in sg:\n",
    "#         if isinstance(node, int):\n",
    "#             X.add(node)\n",
    "#         else:\n",
    "#             Y.add(node)\n",
    "\n",
    "#     fig_factor = 2\n",
    "\n",
    "#     plt.figure(figsize=(fig_factor*4,fig_factor*3))\n",
    "#     # plt.figure(figsize=(10,8))\n",
    "#     # pos = nx.circular_layout(g) # good\n",
    "#     # pos = nx.shell_layout(g) # good\n",
    "#     # pos = nx.spring_layout(g) # meh\n",
    "#     # pos = nx.spectral_layout(g) bad\n",
    "#     # pos = nx.fruchterman_reingold_layout(g) # ok\n",
    "\n",
    "#     pos = dict()\n",
    "#     pos.update( (n, (1, i)) for i, n in enumerate(X) ) # put nodes from X at x=1\n",
    "#     pos.update( (n, (2, i)) for i, n in enumerate(Y) ) # put nodes from Y at x=2\n",
    "\n",
    "#     nx.draw(sg, pos)\n",
    "# #     nx.draw(sg, pos, arrows=True, arrowsize=30, node_color=node_color)\n",
    "# #     nx.draw_networkx_labels(sg, pos_label, labels=nx.get_node_attributes(sg,'text'), font_size=40)\n",
    "\n",
    "#     ax= plt.gca()\n",
    "#     ax.collections[0].set_edgecolor('#000000')\n",
    "#     ax.margins(.4, .1)\n",
    "#     # plt.savefig(title)\n",
    "#     plt.show()    \n",
    "\n"
   ]
  },
  {
   "cell_type": "markdown",
   "metadata": {},
   "source": [
    "# find entry points\n",
    "- create network of funding txs: addresses are nodes, directed edges are payments\n",
    "- entry point: `in_degree == 0` and `out_degree > 0` and these are the only txs\n",
    "- possible exit point: `in_degree > 0` and `out_degree == 0` and these are the only txs\n",
    "- real exit point: possible exit point +  money is spent in a non-funding tx\n",
    "- passage point: `in_degree == out_degree`"
   ]
  },
  {
   "cell_type": "code",
   "execution_count": 195,
   "metadata": {
    "ExecuteTime": {
     "end_time": "2020-03-11T09:16:46.853013Z",
     "start_time": "2020-03-11T09:16:45.819109Z"
    }
   },
   "outputs": [],
   "source": [
    "G = nx.DiGraph()\n",
    "for tx in funding_txs.values():\n",
    "    for i in tx['inputs']:\n",
    "        in_address = i['address']\n",
    "        for out in tx['outputs']:\n",
    "            out_address = out['address']\n",
    "            G.add_edge(in_address, out_address)"
   ]
  },
  {
   "cell_type": "code",
   "execution_count": 240,
   "metadata": {
    "ExecuteTime": {
     "end_time": "2020-04-21T19:35:43.909606Z",
     "start_time": "2020-04-21T19:35:43.905547Z"
    }
   },
   "outputs": [],
   "source": [
    "# sg.edges"
   ]
  },
  {
   "cell_type": "markdown",
   "metadata": {},
   "source": [
    "### entry points"
   ]
  },
  {
   "cell_type": "code",
   "execution_count": 200,
   "metadata": {
    "ExecuteTime": {
     "end_time": "2020-03-11T09:20:06.054788Z",
     "start_time": "2020-03-11T09:20:05.810773Z"
    }
   },
   "outputs": [],
   "source": [
    "possible_entry_points_1 = set([node for (node, val) in G.in_degree() if val == 0])\n",
    "possible_entry_points_2 = set([node for (node, val) in G.out_degree if val > 0])"
   ]
  },
  {
   "cell_type": "code",
   "execution_count": 202,
   "metadata": {
    "ExecuteTime": {
     "end_time": "2020-03-11T09:20:17.132872Z",
     "start_time": "2020-03-11T09:20:17.108028Z"
    }
   },
   "outputs": [
    {
     "data": {
      "text/plain": [
       "76686"
      ]
     },
     "execution_count": 202,
     "metadata": {},
     "output_type": "execute_result"
    }
   ],
   "source": [
    "len(possible_entry_points_1.intersection(possible_entry_points_2))"
   ]
  },
  {
   "cell_type": "code",
   "execution_count": 203,
   "metadata": {
    "ExecuteTime": {
     "end_time": "2020-03-11T09:27:54.730617Z",
     "start_time": "2020-03-11T09:27:54.725562Z"
    }
   },
   "outputs": [
    {
     "data": {
      "text/plain": [
       "216068"
      ]
     },
     "execution_count": 203,
     "metadata": {},
     "output_type": "execute_result"
    }
   ],
   "source": [
    "len(G.nodes)"
   ]
  },
  {
   "cell_type": "markdown",
   "metadata": {},
   "source": [
    "### passage points"
   ]
  },
  {
   "cell_type": "code",
   "execution_count": 207,
   "metadata": {
    "ExecuteTime": {
     "end_time": "2020-03-11T09:29:46.835577Z",
     "start_time": "2020-03-11T09:29:46.631407Z"
    }
   },
   "outputs": [],
   "source": [
    "in_degreee_1 = set([node for (node, val) in G.in_degree() if val == 1])\n",
    "out_degreee_1 = set([node for (node, val) in G.out_degree() if val == 1])"
   ]
  },
  {
   "cell_type": "code",
   "execution_count": 209,
   "metadata": {
    "ExecuteTime": {
     "end_time": "2020-03-11T09:29:59.413864Z",
     "start_time": "2020-03-11T09:29:59.401574Z"
    }
   },
   "outputs": [
    {
     "data": {
      "text/plain": [
       "429"
      ]
     },
     "execution_count": 209,
     "metadata": {},
     "output_type": "execute_result"
    }
   ],
   "source": [
    "len(in_degreee_1.intersection(out_degreee_1))"
   ]
  }
 ],
 "metadata": {
  "kernelspec": {
   "display_name": "Python 3",
   "language": "python",
   "name": "python3"
  },
  "language_info": {
   "codemirror_mode": {
    "name": "ipython",
    "version": 3
   },
   "file_extension": ".py",
   "mimetype": "text/x-python",
   "name": "python",
   "nbconvert_exporter": "python",
   "pygments_lexer": "ipython3",
   "version": "3.6.9"
  }
 },
 "nbformat": 4,
 "nbformat_minor": 2
}
