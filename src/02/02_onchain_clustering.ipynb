{
 "cells": [
  {
   "cell_type": "markdown",
   "metadata": {},
   "source": [
    "# On-Chain Clustering\n",
    "In this notebook, we take care of clustering BTC addresses and entities based on their interaction with the LN. At the end, we will have a mapping between BTC entities and \"components\" (either star, snake, collector or proxy), that will be needed in the linking heuristics. The sections are:\n",
    "\n",
    "1. Create On-Chain Clusters\n",
    "    - 1.1 ...\n",
    "    - 1.2 ...\n",
    "2. Verify and Sort Mapping"
   ]
  },
  {
   "cell_type": "markdown",
   "metadata": {},
   "source": [
    "# 1. Create on-chain Clusters [Bernhard]\n",
    "Here we present how we obtain on-chain clusters of BTC entities based on their opening/closing channels in the LN."
   ]
  },
  {
   "cell_type": "code",
   "execution_count": null,
   "metadata": {},
   "outputs": [],
   "source": [
    "# inputs: funding_addresses_csv_file, settlement_addresses_csv_file\n",
    "# outputs: star_file, snake_file, collector_file, proxy_file, funding_address_entity_file, settlement_address_entity_file"
   ]
  },
  {
   "cell_type": "markdown",
   "metadata": {},
   "source": [
    "# 2. Verify and Sort Mapping"
   ]
  },
  {
   "cell_type": "markdown",
   "metadata": {},
   "source": [
    "Here we make sure that there is no entity overlap between components and then we create a unique identifier for each component.\n",
    "\n",
    "#### Inputs (made available):\n",
    "- `patterns_files` (stars, snakes, collectors, proxies)\n",
    "\n",
    "#### Outputs (made available):\n",
    "- `patterns_sorted_files` (stars, snakes, collectors, proxies)"
   ]
  },
  {
   "cell_type": "code",
   "execution_count": 8,
   "metadata": {
    "ExecuteTime": {
     "end_time": "2021-01-04T14:41:03.295214Z",
     "start_time": "2021-01-04T14:41:03.291976Z"
    }
   },
   "outputs": [],
   "source": [
    "import sys\n",
    "sys.path.append(\"..\")\n",
    "\n",
    "from utils import df_to_two_dicts, patterns_list, write_json\n",
    "\n",
    "# input files\n",
    "from utils import patterns_files # stars, snakes, collectors, proxies\n",
    "\n",
    "# output files\n",
    "from utils import patterns_sorted_files\n",
    "\n",
    "import pandas as pd"
   ]
  },
  {
   "cell_type": "code",
   "execution_count": 3,
   "metadata": {
    "ExecuteTime": {
     "end_time": "2021-01-04T14:40:11.313396Z",
     "start_time": "2021-01-04T14:40:11.238484Z"
    }
   },
   "outputs": [],
   "source": [
    "pattern_double_mapping = dict() # entity-star, star-entity\n",
    "for pattern in patterns_list:\n",
    "    pattern_double_mapping[pattern] = df_to_two_dicts(pd.read_csv(patterns_files[pattern])) "
   ]
  },
  {
   "cell_type": "code",
   "execution_count": 4,
   "metadata": {
    "ExecuteTime": {
     "end_time": "2021-01-04T14:40:12.375656Z",
     "start_time": "2021-01-04T14:40:12.367528Z"
    }
   },
   "outputs": [
    {
     "name": "stdout",
     "output_type": "stream",
     "text": [
      "overlap of entities snakes-stars:\n",
      "0\n",
      "overlap of entities snakes-proxies:\n",
      "0\n",
      "overlap of entities snakes-collectors:\n",
      "0\n",
      "overlap of entities proxies-collectors:\n",
      "0\n"
     ]
    }
   ],
   "source": [
    "# check that there is no entity overlap between stars, snakes, collectors and proxies\n",
    "print('overlap of entities snakes-stars:')\n",
    "print(len(set(pattern_double_mapping['snakes'][0]).intersection(set(pattern_double_mapping['stars'][0]))))\n",
    "print('overlap of entities snakes-proxies:')\n",
    "print(len(set(pattern_double_mapping['snakes'][0]).intersection(set(pattern_double_mapping['proxies'][0]))))\n",
    "print('overlap of entities snakes-collectors:')\n",
    "print(len(set(pattern_double_mapping['snakes'][0]).intersection(set(pattern_double_mapping['collectors'][0]))))\n",
    "print('overlap of entities proxies-collectors:')\n",
    "print(len(set(pattern_double_mapping['proxies'][0]).intersection(set(pattern_double_mapping['collectors'][0]))))"
   ]
  },
  {
   "cell_type": "code",
   "execution_count": 5,
   "metadata": {
    "ExecuteTime": {
     "end_time": "2021-01-04T14:40:17.066279Z",
     "start_time": "2021-01-04T14:40:17.058719Z"
    }
   },
   "outputs": [
    {
     "name": "stdout",
     "output_type": "stream",
     "text": [
      "stars till 53\n",
      "snakes till 5691\n",
      "collectors till 7167\n",
      "proxies till 8156\n"
     ]
    }
   ],
   "source": [
    "# create a unique identifier for each component\n",
    "i = 1  # to avoid negative zero\n",
    "component_sorted_mapping_dict = dict()\n",
    "for pattern in patterns_list:\n",
    "    component_sorted_mapping_dict[pattern] = dict()\n",
    "    for component in pattern_double_mapping[pattern][1] :\n",
    "        component_sorted_mapping_dict[pattern][component] = i\n",
    "        i += 1\n",
    "    print(pattern, 'till', i)"
   ]
  },
  {
   "cell_type": "code",
   "execution_count": 9,
   "metadata": {
    "ExecuteTime": {
     "end_time": "2021-01-04T14:41:16.972243Z",
     "start_time": "2021-01-04T14:41:16.967882Z"
    }
   },
   "outputs": [],
   "source": [
    "# write to file\n",
    "for pattern in patterns_list:\n",
    "    write_json(component_sorted_mapping_dict[pattern], patterns_sorted_files[pattern], True)"
   ]
  }
 ],
 "metadata": {
  "kernelspec": {
   "display_name": "Python 3",
   "language": "python",
   "name": "python3"
  },
  "language_info": {
   "codemirror_mode": {
    "name": "ipython",
    "version": 3
   },
   "file_extension": ".py",
   "mimetype": "text/x-python",
   "name": "python",
   "nbconvert_exporter": "python",
   "pygments_lexer": "ipython3",
   "version": "3.6.9"
  }
 },
 "nbformat": 4,
 "nbformat_minor": 2
}
