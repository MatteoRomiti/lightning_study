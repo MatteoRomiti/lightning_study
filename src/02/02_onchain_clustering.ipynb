{
 "cells": [
  {
   "cell_type": "markdown",
   "metadata": {},
   "source": [
    "# On-Chain Clustering\n",
    "In this notebook, we take care of clustering BTC addresses and entities based on their interaction with the LN. At the end, we will have a mapping between BTC entities and \"components\" (either star, snake, collector or proxy), that will be needed in the linking heuristics. The sections are:\n",
    "\n",
    "1. Create on-chain Clusters\n",
    "2. Sort and Verify Mapping"
   ]
  },
  {
   "cell_type": "markdown",
   "metadata": {},
   "source": [
    "# 1. Create on-chain Clusters [Bernhard]\n",
    "Here we present how we obtain on-chain clusters of BTC entities based on their opening/closing channels in the LN."
   ]
  },
  {
   "cell_type": "code",
   "execution_count": null,
   "metadata": {},
   "outputs": [],
   "source": [
    "# inputs: funding_addresses_csv_file, settlement_addresses_csv_file\n",
    "# outputs: star_file, snake_file, collector_file, proxy_file, funding_address_entity_file, settlement_address_entity_file"
   ]
  },
  {
   "cell_type": "markdown",
   "metadata": {},
   "source": [
    "# 2. Sort and Verify Mapping"
   ]
  },
  {
   "cell_type": "code",
   "execution_count": 1,
   "metadata": {
    "ExecuteTime": {
     "end_time": "2020-09-30T20:01:05.590255Z",
     "start_time": "2020-09-30T20:01:05.294233Z"
    }
   },
   "outputs": [],
   "source": [
    "import sys\n",
    "sys.path.append(\"..\")\n",
    "\n",
    "from utils import df_to_two_dicts, patterns_list\n",
    "\n",
    "# inputs\n",
    "from utils import patterns_files \n",
    "# star_file, snake_file, collector_file, proxy_file, funding_address_entity_file, settlement_address_entity_file\n",
    "\n",
    "# outputs\n",
    "from utils import patterns_sorted_files\n",
    "# star_sorted_file, snake_sorted_file, collector_sorted_file, proxy_sorted_file\n",
    "\n",
    "import pandas as pd"
   ]
  },
  {
   "cell_type": "code",
   "execution_count": 2,
   "metadata": {
    "ExecuteTime": {
     "end_time": "2020-09-30T20:01:41.845789Z",
     "start_time": "2020-09-30T20:01:41.788682Z"
    }
   },
   "outputs": [],
   "source": [
    "pattern_double_mapping = dict()\n",
    "for pattern in patterns_list:\n",
    "    pattern_double_mapping[pattern] = df_to_two_dicts(pd.read_csv(patterns_files[pattern])) # entity-star, star-entity"
   ]
  },
  {
   "cell_type": "code",
   "execution_count": 4,
   "metadata": {
    "ExecuteTime": {
     "end_time": "2020-09-30T20:06:25.066797Z",
     "start_time": "2020-09-30T20:06:25.056138Z"
    }
   },
   "outputs": [
    {
     "name": "stdout",
     "output_type": "stream",
     "text": [
      "overlap of entities snakes-stars:\n",
      "0\n",
      "overlap of entities snakes-proxies:\n",
      "0\n",
      "overlap of entities snakes-collectors:\n",
      "0\n",
      "overlap of entities proxies-collectors:\n",
      "0\n"
     ]
    }
   ],
   "source": [
    "# check that there is no entity overlap between stars, snakes, collectors and proxies\n",
    "print('overlap of entities snakes-stars:')\n",
    "print(len(set(pattern_double_mapping['snakes'][0]).intersection(set(pattern_double_mapping['stars'][0]))))\n",
    "print('overlap of entities snakes-proxies:')\n",
    "print(len(set(pattern_double_mapping['snakes'][0]).intersection(set(pattern_double_mapping['proxies'][0]))))\n",
    "print('overlap of entities snakes-collectors:')\n",
    "print(len(set(pattern_double_mapping['snakes'][0]).intersection(set(pattern_double_mapping['collectors'][0]))))\n",
    "print('overlap of entities proxies-collectors:')\n",
    "print(len(set(pattern_double_mapping['proxies'][0]).intersection(set(pattern_double_mapping['collectors'][0]))))"
   ]
  },
  {
   "cell_type": "code",
   "execution_count": 5,
   "metadata": {
    "ExecuteTime": {
     "end_time": "2020-09-30T20:08:59.390918Z",
     "start_time": "2020-09-30T20:08:59.383707Z"
    }
   },
   "outputs": [
    {
     "name": "stdout",
     "output_type": "stream",
     "text": [
      "stars till 53\n",
      "snakes till 5691\n",
      "collectors till 7167\n",
      "proxies till 8156\n"
     ]
    }
   ],
   "source": [
    "i = 1  # to avoid negative zero\n",
    "component_sorted_mapping_dict = dict()\n",
    "for pattern in patterns_list:\n",
    "    component_sorted_mapping_dict[pattern] = dict()\n",
    "    for component in pattern_double_mapping[pattern][1] :\n",
    "        component_sorted_mapping_dict[pattern][component] = i\n",
    "        i += 1\n",
    "    print(pattern, 'till', i)"
   ]
  },
  {
   "cell_type": "code",
   "execution_count": null,
   "metadata": {},
   "outputs": [],
   "source": [
    "for patters in patterns_list:\n",
    "    write_json(component_sorted_mapping_dict[pattern], patterns_sorted_files[pattern], True)"
   ]
  }
 ],
 "metadata": {
  "kernelspec": {
   "display_name": "Python 3",
   "language": "python",
   "name": "python3"
  },
  "language_info": {
   "codemirror_mode": {
    "name": "ipython",
    "version": 3
   },
   "file_extension": ".py",
   "mimetype": "text/x-python",
   "name": "python",
   "nbconvert_exporter": "python",
   "pygments_lexer": "ipython3",
   "version": "3.6.9"
  }
 },
 "nbformat": 4,
 "nbformat_minor": 2
}
