{
 "cells": [
  {
   "cell_type": "markdown",
   "metadata": {},
   "source": [
    "# Security and Privacy Implications Part 2 (Payment perspective)\n",
    "In this notebook, we analyze the impact of the channel linking and lightning node clustering.\n",
    "We do so by calculating the shares of capacity controlled by the largest entities, and analyzing the \n",
    "impact of griefing attacks, and the effects on the network structure, routable capacity and payment success when assuming entire entities are taken offline.\n",
    "1. Data\n",
    "2. Compute attack potential for paths\n",
    "3. Extract Wormhole Statistics\n",
    "4. Extract Value Privacy Statistics\n",
    "5. Extract Relationship Anonymity Statistics\n",
    "6. Plot combined version of value privacy and relationship anonymity"
   ]
  },
  {
   "cell_type": "code",
   "execution_count": 1,
   "metadata": {
    "ExecuteTime": {
     "end_time": "2021-01-25T15:04:27.400080Z",
     "start_time": "2021-01-25T15:04:25.837156Z"
    }
   },
   "outputs": [],
   "source": [
    "import sys\n",
    "sys.path.append(\"..\")\n",
    "\n",
    "# input files\n",
    "from utils import alias_address_clusters_csv_file, snapshot_csv_file\n",
    "\n",
    "import pandas as pd\n",
    "from plotnine import *\n",
    "from mizani.formatters import percent_format\n",
    "\n",
    "from igraph import *\n",
    "from tqdm import tqdm\n",
    "\n",
    "from utils import make_cluster_aliases, results_folder\n",
    "\n",
    "theme_publication = theme_bw() + theme(text=element_text(family=\"cmr10\", size=12, color=\"black\"),\n",
    "                                       axis_title=element_text(size=14))"
   ]
  },
  {
   "cell_type": "markdown",
   "metadata": {},
   "source": [
    "# 1. Data\n",
    "In this section, we load a lightning snapshot, a lightning node clustering, and list of channels with identified funding nodes.\n",
    "\n",
    "#### Inputs (made available):\n",
    "- `snapshot_csv_file` This is a lightning network snapshot from September 9, 2020\n",
    "- `alias_address_clusters_csv_file`\n",
    "\n",
    "#### Outputs:\n",
    "- Pandas pickle files with attack potential for each path with a minimum satoshi capacity (not made available due to size)\n",
    "- The other outputs of this notebooks are plots\n",
    "\n",
    "Please be aware that running all cells some might take several hours to complete, look for the \\*\\*WARNING** comment in the cells)."
   ]
  },
  {
   "cell_type": "code",
   "execution_count": 2,
   "metadata": {},
   "outputs": [],
   "source": [
    "clusters = pd.read_csv(alias_address_clusters_csv_file)\n",
    "cluster_names = make_cluster_aliases(clusters)"
   ]
  },
  {
   "cell_type": "markdown",
   "metadata": {},
   "source": [
    "# 2. Compute attack potential for paths\n",
    "Here, a compute intensive script is run that determines for all possible pairs of nodes the cheapest path, and whether each path is susceptible to:\n",
    "\n",
    "- the wormhole attack\n",
    "- an attack on value privacy\n",
    "- an attack on relationship anonymity\n",
    "\n",
    "given a list of clustered lightning nodes.\n",
    "\n",
    "Computing this takes several hours. A minimum of 64GB of RAM is required.\n",
    "\n",
    "The script needs to be run with varying satoshi amounts.\n",
    "If you have the resources, run the script in parallel from terminals."
   ]
  },
  {
   "cell_type": "code",
   "execution_count": 3,
   "metadata": {},
   "outputs": [
    {
     "name": "stdout",
     "output_type": "stream",
     "text": [
      "../../data/level_2/lnsnapshot2020-09-09.csv\n",
      "../../data/results/alias_address_clusters.csv\n",
      "../../data/results/\n"
     ]
    }
   ],
   "source": [
    "# Use the following as parameters for the script.\n",
    "print(snapshot_csv_file)\n",
    "print(alias_address_clusters_csv_file)\n",
    "print(results_folder)"
   ]
  },
  {
   "cell_type": "code",
   "execution_count": null,
   "metadata": {},
   "outputs": [],
   "source": [
    "# **WARNING**, this may take several hours\n",
    "%run computePathInfos.py ../../data/level_2/lnsnapshot2020-09-09.csv ../../data/results/alias_address_clusters.csv 1000\n",
    "%run computePathInfos.py ../../data/level_2/lnsnapshot2020-09-09.csv ../../data/results/alias_address_clusters.csv 10000\n",
    "%run computePathInfos.py ../../data/level_2/lnsnapshot2020-09-09.csv ../../data/results/alias_address_clusters.csv 100000\n",
    "%run computePathInfos.py ../../data/level_2/lnsnapshot2020-09-09.csv ../../data/results/alias_address_clusters.csv 1000000"
   ]
  },
  {
   "cell_type": "code",
   "execution_count": 5,
   "metadata": {},
   "outputs": [],
   "source": [
    "def getColumnStats(dataDF, column, label = None):\n",
    "    tqdm.pandas()\n",
    "    entities = dataDF[dataDF[column].progress_apply(len) > 0][column].apply(lambda x: x[0])\n",
    "    entity_counts = entities.groupby(entities).count().sort_values(ascending = False)\n",
    "    entity_counts.index.rename(\"cluster_id\", inplace=True)\n",
    "\n",
    "    entity_counts_DF = pd.DataFrame(entity_counts)\n",
    "    entity_counts_DF['fraction'] = entity_counts_DF[column] / len(dataDF)\n",
    "    entity_counts_DF['cusum'] = entity_counts_DF[column].cumsum() / len(dataDF)\n",
    "    entity_counts_DF.reset_index(inplace = True)\n",
    "    entity_counts_DF.loc[-1] = [-1, 0, 0, 0]  # adding a row\n",
    "    entity_counts_DF.index = entity_counts_DF.index + 1  # shifting index\n",
    "    entity_counts_DF.sort_index(inplace=True) \n",
    "    \n",
    "    if(label is not None):\n",
    "        entity_counts_DF['label'] = label\n",
    "    \n",
    "    return(entity_counts_DF)"
   ]
  },
  {
   "cell_type": "code",
   "execution_count": null,
   "metadata": {},
   "outputs": [],
   "source": [
    "%%time\n",
    "# **WARNING**, this may take about 15 minutes\n",
    "value_privacy_results = list()\n",
    "wormhole_results = list()\n",
    "relationship_anonymity_results = list()\n",
    "for amount in [str(10**i) for i in range(3,7)]:\n",
    "    file = results_folder + \"pathInfos2020-09-09-\"+str(amount)+\"-sats.pkl\"\n",
    "    print(\"On\",file)\n",
    "    data = pd.read_pickle(file)\n",
    "    value_privacy_results.append(getColumnStats(data, \"value_privacy\", amount))\n",
    "    wormhole_results.append(getColumnStats(data, \"wormhole\", amount))\n",
    "    relationship_anonymity_results.append(getColumnStats(data, \"relationship_anonymity\", amount))\n",
    "\n",
    "    del(data)"
   ]
  },
  {
   "cell_type": "markdown",
   "metadata": {},
   "source": [
    "# 3. Extract wormhole statistics and plot\n",
    "Here we extract the computed wormhole statistics and plot the result."
   ]
  },
  {
   "cell_type": "code",
   "execution_count": 27,
   "metadata": {},
   "outputs": [
    {
     "data": {
      "text/html": [
       "<div>\n",
       "<style scoped>\n",
       "    .dataframe tbody tr th:only-of-type {\n",
       "        vertical-align: middle;\n",
       "    }\n",
       "\n",
       "    .dataframe tbody tr th {\n",
       "        vertical-align: top;\n",
       "    }\n",
       "\n",
       "    .dataframe thead th {\n",
       "        text-align: right;\n",
       "    }\n",
       "</style>\n",
       "<table border=\"1\" class=\"dataframe\">\n",
       "  <thead>\n",
       "    <tr style=\"text-align: right;\">\n",
       "      <th></th>\n",
       "      <th>position</th>\n",
       "      <th>cluster_id</th>\n",
       "      <th>wormhole</th>\n",
       "      <th>fraction</th>\n",
       "      <th>cusum</th>\n",
       "      <th>label</th>\n",
       "      <th>cluster_size</th>\n",
       "      <th>alias</th>\n",
       "    </tr>\n",
       "  </thead>\n",
       "  <tbody>\n",
       "    <tr>\n",
       "      <th>0</th>\n",
       "      <td>0</td>\n",
       "      <td>-1</td>\n",
       "      <td>0</td>\n",
       "      <td>0.000000</td>\n",
       "      <td>0.000000</td>\n",
       "      <td>1000</td>\n",
       "      <td>NaN</td>\n",
       "      <td>NaN</td>\n",
       "    </tr>\n",
       "    <tr>\n",
       "      <th>1</th>\n",
       "      <td>1</td>\n",
       "      <td>100</td>\n",
       "      <td>82485</td>\n",
       "      <td>0.001559</td>\n",
       "      <td>0.001559</td>\n",
       "      <td>1000</td>\n",
       "      <td>2.0</td>\n",
       "      <td>rompert.com</td>\n",
       "    </tr>\n",
       "    <tr>\n",
       "      <th>2</th>\n",
       "      <td>2</td>\n",
       "      <td>183</td>\n",
       "      <td>17688</td>\n",
       "      <td>0.000334</td>\n",
       "      <td>0.001893</td>\n",
       "      <td>1000</td>\n",
       "      <td>88.0</td>\n",
       "      <td>nan</td>\n",
       "    </tr>\n",
       "    <tr>\n",
       "      <th>3</th>\n",
       "      <td>3</td>\n",
       "      <td>210</td>\n",
       "      <td>16148</td>\n",
       "      <td>0.000305</td>\n",
       "      <td>0.002199</td>\n",
       "      <td>1000</td>\n",
       "      <td>3.0</td>\n",
       "      <td>2MASS JO253-140...</td>\n",
       "    </tr>\n",
       "    <tr>\n",
       "      <th>4</th>\n",
       "      <td>4</td>\n",
       "      <td>165</td>\n",
       "      <td>14536</td>\n",
       "      <td>0.000275</td>\n",
       "      <td>0.002473</td>\n",
       "      <td>1000</td>\n",
       "      <td>2.0</td>\n",
       "      <td>02bfe54c7b2ce6f...</td>\n",
       "    </tr>\n",
       "  </tbody>\n",
       "</table>\n",
       "</div>"
      ],
      "text/plain": [
       "   position  cluster_id  wormhole  fraction     cusum label  cluster_size  \\\n",
       "0         0          -1         0  0.000000  0.000000  1000           NaN   \n",
       "1         1         100     82485  0.001559  0.001559  1000           2.0   \n",
       "2         2         183     17688  0.000334  0.001893  1000          88.0   \n",
       "3         3         210     16148  0.000305  0.002199  1000           3.0   \n",
       "4         4         165     14536  0.000275  0.002473  1000           2.0   \n",
       "\n",
       "                alias  \n",
       "0                 NaN  \n",
       "1         rompert.com  \n",
       "2                 nan  \n",
       "3  2MASS JO253-140...  \n",
       "4  02bfe54c7b2ce6f...  "
      ]
     },
     "execution_count": 27,
     "metadata": {},
     "output_type": "execute_result"
    }
   ],
   "source": [
    "wormhole_stats = pd.concat(res.reset_index() for res in wormhole_results)\n",
    "wormhole_stats = wormhole_stats.merge(cluster_names.rename(columns={\"cluster\":\"cluster_id\"}), how=\"left\")\n",
    "wormhole_stats = wormhole_stats.rename(columns={\"index\":\"position\"})\n",
    "wormhole_stats.head()"
   ]
  },
  {
   "cell_type": "code",
   "execution_count": 13,
   "metadata": {},
   "outputs": [
    {
     "name": "stderr",
     "output_type": "stream",
     "text": [
      "/home/everything/applications/anaconda3/envs/lightningpaper/lib/python3.9/site-packages/plotnine/ggplot.py:727: PlotnineWarning: Saving 5 x 4 in image.\n",
      "/home/everything/applications/anaconda3/envs/lightningpaper/lib/python3.9/site-packages/plotnine/ggplot.py:730: PlotnineWarning: Filename: /tmp/wormholes.pdf\n"
     ]
    },
    {
     "data": {
      "image/png": "[encoded data removed]",
      "text/plain": [
       "<Figure size 640x480 with 1 Axes>"
      ]
     },
     "metadata": {},
     "output_type": "display_data"
    },
    {
     "data": {
      "text/plain": [
       "<ggplot: (8776105297478)>"
      ]
     },
     "execution_count": 13,
     "metadata": {},
     "output_type": "execute_result"
    }
   ],
   "source": [
    "# Figure 9\n",
    "# Note that the legend and some of the labels of this plot have been improved manually in the paper itself\n",
    "plot_wormhole_stats = wormhole_stats[(wormhole_stats.position <= 4) & (wormhole_stats.cluster_id > -1)]\n",
    "plot = ggplot(plot_wormhole_stats) +\\\n",
    "geom_bar(aes(x=\"position\", y=\"fraction\", fill=\"label\"), color=\"black\", stat=\"identity\", position=\"dodge\") +\\\n",
    "geom_text(data=plot_wormhole_stats[(plot_wormhole_stats.label == \"1000\")],\n",
    "          mapping=aes(x=\"position\", y=\"fraction\", label=\"alias\"), angle=90, va=\"baseline\", nudge_x=-0.3) +\\\n",
    "geom_text(data=plot_wormhole_stats[(plot_wormhole_stats.label == \"10000\")],\n",
    "          mapping=aes(x=\"position\", y=\"fraction\", label=\"alias\"), angle=90, va=\"baseline\", nudge_x=-0.1) +\\\n",
    "geom_text(data=plot_wormhole_stats[(plot_wormhole_stats.label == \"100000\")],\n",
    "          mapping=aes(x=\"position\", y=\"fraction\", label=\"alias\"), angle=90, va=\"baseline\", nudge_x=0.1) +\\\n",
    "geom_text(data=plot_wormhole_stats[(plot_wormhole_stats.label == \"1000000\")],\n",
    "          mapping=aes(x=\"position\", y=\"fraction\", label=\"alias\"), angle=90, va=\"baseline\", nudge_x=0.3) +\\\n",
    "scale_y_continuous(labels=percent_format()) +\\\n",
    "scale_x_continuous(breaks=[1,2,3,4]) +\\\n",
    "labs(x=\"Top entities\", y=\"Fraction of cheapest paths with wormholes\", fill=\"Satoshis\") +\\\n",
    "theme_publication +\\\n",
    "theme(legend_position=\"bottom\")\n",
    "\n",
    "plot.save(\"wormholes.pdf\", width=5, height=4)\n",
    "plot\n"
   ]
  },
  {
   "cell_type": "markdown",
   "metadata": {},
   "source": [
    "# 4. Extract value privacy statistics"
   ]
  },
  {
   "cell_type": "code",
   "execution_count": 14,
   "metadata": {},
   "outputs": [
    {
     "data": {
      "text/html": [
       "<div>\n",
       "<style scoped>\n",
       "    .dataframe tbody tr th:only-of-type {\n",
       "        vertical-align: middle;\n",
       "    }\n",
       "\n",
       "    .dataframe tbody tr th {\n",
       "        vertical-align: top;\n",
       "    }\n",
       "\n",
       "    .dataframe thead th {\n",
       "        text-align: right;\n",
       "    }\n",
       "</style>\n",
       "<table border=\"1\" class=\"dataframe\">\n",
       "  <thead>\n",
       "    <tr style=\"text-align: right;\">\n",
       "      <th></th>\n",
       "      <th>position</th>\n",
       "      <th>cluster_id</th>\n",
       "      <th>value_privacy</th>\n",
       "      <th>fraction</th>\n",
       "      <th>cusum</th>\n",
       "      <th>label</th>\n",
       "      <th>cluster_size</th>\n",
       "      <th>alias</th>\n",
       "    </tr>\n",
       "  </thead>\n",
       "  <tbody>\n",
       "    <tr>\n",
       "      <th>294</th>\n",
       "      <td>1</td>\n",
       "      <td>93</td>\n",
       "      <td>2742032</td>\n",
       "      <td>0.384769</td>\n",
       "      <td>0.384769</td>\n",
       "      <td>1000000</td>\n",
       "      <td>26.0</td>\n",
       "      <td>LNBIG.com [*</td>\n",
       "    </tr>\n",
       "    <tr>\n",
       "      <th>106</th>\n",
       "      <td>1</td>\n",
       "      <td>93</td>\n",
       "      <td>12356777</td>\n",
       "      <td>0.254829</td>\n",
       "      <td>0.254829</td>\n",
       "      <td>10000</td>\n",
       "      <td>26.0</td>\n",
       "      <td>LNBIG.com [*</td>\n",
       "    </tr>\n",
       "    <tr>\n",
       "      <th>211</th>\n",
       "      <td>1</td>\n",
       "      <td>93</td>\n",
       "      <td>7346076</td>\n",
       "      <td>0.236397</td>\n",
       "      <td>0.236397</td>\n",
       "      <td>100000</td>\n",
       "      <td>26.0</td>\n",
       "      <td>LNBIG.com [*</td>\n",
       "    </tr>\n",
       "    <tr>\n",
       "      <th>1</th>\n",
       "      <td>1</td>\n",
       "      <td>93</td>\n",
       "      <td>12386937</td>\n",
       "      <td>0.234140</td>\n",
       "      <td>0.234140</td>\n",
       "      <td>1000</td>\n",
       "      <td>26.0</td>\n",
       "      <td>LNBIG.com [*</td>\n",
       "    </tr>\n",
       "    <tr>\n",
       "      <th>212</th>\n",
       "      <td>2</td>\n",
       "      <td>100</td>\n",
       "      <td>5625616</td>\n",
       "      <td>0.181032</td>\n",
       "      <td>0.417429</td>\n",
       "      <td>100000</td>\n",
       "      <td>2.0</td>\n",
       "      <td>rompert.com</td>\n",
       "    </tr>\n",
       "  </tbody>\n",
       "</table>\n",
       "</div>"
      ],
      "text/plain": [
       "     position  cluster_id  value_privacy  fraction     cusum    label  \\\n",
       "294         1          93        2742032  0.384769  0.384769  1000000   \n",
       "106         1          93       12356777  0.254829  0.254829    10000   \n",
       "211         1          93        7346076  0.236397  0.236397   100000   \n",
       "1           1          93       12386937  0.234140  0.234140     1000   \n",
       "212         2         100        5625616  0.181032  0.417429   100000   \n",
       "\n",
       "     cluster_size         alias  \n",
       "294          26.0  LNBIG.com [*  \n",
       "106          26.0  LNBIG.com [*  \n",
       "211          26.0  LNBIG.com [*  \n",
       "1            26.0  LNBIG.com [*  \n",
       "212           2.0   rompert.com  "
      ]
     },
     "execution_count": 14,
     "metadata": {},
     "output_type": "execute_result"
    }
   ],
   "source": [
    "vp_stats = pd.concat(res.reset_index() for res in value_privacy_results)\n",
    "vp_stats = vp_stats.merge(cluster_names.rename(columns={\"cluster\":\"cluster_id\"}), how=\"left\")\n",
    "vp_stats = vp_stats.rename(columns={\"index\":\"position\"})\n",
    "vp_stats.sort_values(\"fraction\", ascending=False).head()"
   ]
  },
  {
   "cell_type": "markdown",
   "metadata": {},
   "source": [
    "# 5. Extraction relationship anonymity statistics"
   ]
  },
  {
   "cell_type": "code",
   "execution_count": 28,
   "metadata": {},
   "outputs": [
    {
     "data": {
      "text/html": [
       "<div>\n",
       "<style scoped>\n",
       "    .dataframe tbody tr th:only-of-type {\n",
       "        vertical-align: middle;\n",
       "    }\n",
       "\n",
       "    .dataframe tbody tr th {\n",
       "        vertical-align: top;\n",
       "    }\n",
       "\n",
       "    .dataframe thead th {\n",
       "        text-align: right;\n",
       "    }\n",
       "</style>\n",
       "<table border=\"1\" class=\"dataframe\">\n",
       "  <thead>\n",
       "    <tr style=\"text-align: right;\">\n",
       "      <th></th>\n",
       "      <th>position</th>\n",
       "      <th>cluster_id</th>\n",
       "      <th>relationship_anonymity</th>\n",
       "      <th>fraction</th>\n",
       "      <th>cusum</th>\n",
       "      <th>label</th>\n",
       "      <th>cluster_size</th>\n",
       "      <th>alias</th>\n",
       "    </tr>\n",
       "  </thead>\n",
       "  <tbody>\n",
       "    <tr>\n",
       "      <th>0</th>\n",
       "      <td>0</td>\n",
       "      <td>-1</td>\n",
       "      <td>0</td>\n",
       "      <td>0.000000</td>\n",
       "      <td>0.000000</td>\n",
       "      <td>1000</td>\n",
       "      <td>NaN</td>\n",
       "      <td>NaN</td>\n",
       "    </tr>\n",
       "    <tr>\n",
       "      <th>1</th>\n",
       "      <td>1</td>\n",
       "      <td>93</td>\n",
       "      <td>2585779</td>\n",
       "      <td>0.048877</td>\n",
       "      <td>0.048877</td>\n",
       "      <td>1000</td>\n",
       "      <td>26.0</td>\n",
       "      <td>LNBIG.com [*</td>\n",
       "    </tr>\n",
       "    <tr>\n",
       "      <th>2</th>\n",
       "      <td>2</td>\n",
       "      <td>100</td>\n",
       "      <td>480325</td>\n",
       "      <td>0.009079</td>\n",
       "      <td>0.057956</td>\n",
       "      <td>1000</td>\n",
       "      <td>2.0</td>\n",
       "      <td>rompert.com</td>\n",
       "    </tr>\n",
       "    <tr>\n",
       "      <th>3</th>\n",
       "      <td>3</td>\n",
       "      <td>0</td>\n",
       "      <td>239089</td>\n",
       "      <td>0.004519</td>\n",
       "      <td>0.062475</td>\n",
       "      <td>1000</td>\n",
       "      <td>65.0</td>\n",
       "      <td>*lnd-gar-nodl-it</td>\n",
       "    </tr>\n",
       "    <tr>\n",
       "      <th>4</th>\n",
       "      <td>4</td>\n",
       "      <td>44</td>\n",
       "      <td>152948</td>\n",
       "      <td>0.002891</td>\n",
       "      <td>0.065366</td>\n",
       "      <td>1000</td>\n",
       "      <td>2.0</td>\n",
       "      <td>CoinGate</td>\n",
       "    </tr>\n",
       "  </tbody>\n",
       "</table>\n",
       "</div>"
      ],
      "text/plain": [
       "   position  cluster_id  relationship_anonymity  fraction     cusum label  \\\n",
       "0         0          -1                       0  0.000000  0.000000  1000   \n",
       "1         1          93                 2585779  0.048877  0.048877  1000   \n",
       "2         2         100                  480325  0.009079  0.057956  1000   \n",
       "3         3           0                  239089  0.004519  0.062475  1000   \n",
       "4         4          44                  152948  0.002891  0.065366  1000   \n",
       "\n",
       "   cluster_size             alias  \n",
       "0           NaN               NaN  \n",
       "1          26.0      LNBIG.com [*  \n",
       "2           2.0       rompert.com  \n",
       "3          65.0  *lnd-gar-nodl-it  \n",
       "4           2.0          CoinGate  "
      ]
     },
     "execution_count": 28,
     "metadata": {},
     "output_type": "execute_result"
    }
   ],
   "source": [
    "ra_stats = pd.concat(res.reset_index() for res in relationship_anonymity_results)\n",
    "ra_stats = ra_stats.merge(cluster_names.rename(columns={\"cluster\":\"cluster_id\"}), how=\"left\")\n",
    "ra_stats = ra_stats.rename(columns={\"index\":\"position\"})\n",
    "ra_stats.sort_values(\"fraction\", ascending=False).head()\n",
    "ra_stats.head()"
   ]
  },
  {
   "cell_type": "markdown",
   "metadata": {},
   "source": [
    "# 6. Plot combined version of value privacy and relationship anonymity\n",
    "Here, the previous results are combined into a single dataframe, to be used for plotting."
   ]
  },
  {
   "cell_type": "code",
   "execution_count": 30,
   "metadata": {},
   "outputs": [
    {
     "data": {
      "text/html": [
       "<div>\n",
       "<style scoped>\n",
       "    .dataframe tbody tr th:only-of-type {\n",
       "        vertical-align: middle;\n",
       "    }\n",
       "\n",
       "    .dataframe tbody tr th {\n",
       "        vertical-align: top;\n",
       "    }\n",
       "\n",
       "    .dataframe thead th {\n",
       "        text-align: right;\n",
       "    }\n",
       "</style>\n",
       "<table border=\"1\" class=\"dataframe\">\n",
       "  <thead>\n",
       "    <tr style=\"text-align: right;\">\n",
       "      <th></th>\n",
       "      <th>position</th>\n",
       "      <th>label</th>\n",
       "      <th>Value privacy</th>\n",
       "      <th>alias_x</th>\n",
       "      <th>Relationship anonymity</th>\n",
       "      <th>alias_y</th>\n",
       "    </tr>\n",
       "  </thead>\n",
       "  <tbody>\n",
       "    <tr>\n",
       "      <th>1</th>\n",
       "      <td>1</td>\n",
       "      <td>1000</td>\n",
       "      <td>0.234140</td>\n",
       "      <td>LNBIG.com [*</td>\n",
       "      <td>0.048877</td>\n",
       "      <td>LNBIG.com [*</td>\n",
       "    </tr>\n",
       "    <tr>\n",
       "      <th>103</th>\n",
       "      <td>1</td>\n",
       "      <td>10000</td>\n",
       "      <td>0.254829</td>\n",
       "      <td>LNBIG.com [*</td>\n",
       "      <td>0.053135</td>\n",
       "      <td>LNBIG.com [*</td>\n",
       "    </tr>\n",
       "    <tr>\n",
       "      <th>205</th>\n",
       "      <td>1</td>\n",
       "      <td>100000</td>\n",
       "      <td>0.236397</td>\n",
       "      <td>LNBIG.com [*</td>\n",
       "      <td>0.073358</td>\n",
       "      <td>LNBIG.com [*</td>\n",
       "    </tr>\n",
       "    <tr>\n",
       "      <th>288</th>\n",
       "      <td>1</td>\n",
       "      <td>1000000</td>\n",
       "      <td>0.384769</td>\n",
       "      <td>LNBIG.com [*</td>\n",
       "      <td>0.155598</td>\n",
       "      <td>LNBIG.com [*</td>\n",
       "    </tr>\n",
       "  </tbody>\n",
       "</table>\n",
       "</div>"
      ],
      "text/plain": [
       "     position    label  Value privacy       alias_x  Relationship anonymity  \\\n",
       "1           1     1000       0.234140  LNBIG.com [*                0.048877   \n",
       "103         1    10000       0.254829  LNBIG.com [*                0.053135   \n",
       "205         1   100000       0.236397  LNBIG.com [*                0.073358   \n",
       "288         1  1000000       0.384769  LNBIG.com [*                0.155598   \n",
       "\n",
       "          alias_y  \n",
       "1    LNBIG.com [*  \n",
       "103  LNBIG.com [*  \n",
       "205  LNBIG.com [*  \n",
       "288  LNBIG.com [*  "
      ]
     },
     "execution_count": 30,
     "metadata": {},
     "output_type": "execute_result"
    }
   ],
   "source": [
    "combined = vp_stats[[\"position\", \"label\", \"cusum\", \"alias\"]].rename(columns={\"cusum\":\"Value privacy\"}).merge(\n",
    "    ra_stats[[\"position\", \"label\", \"cusum\", \"alias\"]].rename(columns={\"cusum\":\"Relationship anonymity\"}),\n",
    "    on=[\"position\", \"label\"])\n",
    "combined[combined.position == 1]"
   ]
  },
  {
   "cell_type": "code",
   "execution_count": 31,
   "metadata": {},
   "outputs": [
    {
     "name": "stderr",
     "output_type": "stream",
     "text": [
      "/home/everything/applications/anaconda3/envs/lightningpaper/lib/python3.9/site-packages/plotnine/ggplot.py:727: PlotnineWarning: Saving 5 x 4 in image.\n",
      "/home/everything/applications/anaconda3/envs/lightningpaper/lib/python3.9/site-packages/plotnine/ggplot.py:730: PlotnineWarning: Filename: value_privacy_and_relationship_anonymity_le10.pdf\n"
     ]
    },
    {
     "data": {
      "image/png": "[encoded data removed]",
      "text/plain": [
       "<Figure size 640x480 with 1 Axes>"
      ]
     },
     "metadata": {},
     "output_type": "display_data"
    },
    {
     "data": {
      "text/plain": [
       "<ggplot: (8776105591312)>"
      ]
     },
     "execution_count": 31,
     "metadata": {},
     "output_type": "execute_result"
    }
   ],
   "source": [
    "# Figure 8\n",
    "# Note that the legend and some of the labels of this plot have been improved manually in the paper itself\n",
    "combined = pd.melt(combined, id_vars=[\"position\", \"label\"], value_vars=[\"Value privacy\", \"Relationship anonymity\"])\n",
    "plot = ggplot(combined[combined.position <=10]) +\\\n",
    "geom_line(aes(x=\"position\", y=\"value\", color=\"label\", linetype=\"variable\"), size=1) +\\\n",
    "labs(x=\"Top entities\", y=\"Cumulative fraction of\\ncheapest paths without\", linetype=\"Measure:\", color=\"Satoshi amount:\") +\\\n",
    "scale_x_continuous(breaks=range(0,11, 2)) +\\\n",
    "theme_publication +\\\n",
    "theme(legend_position=\"bottom\")\n",
    "\n",
    "plot.save(\"value_privacy_and_relationship_anonymity_le10.pdf\", width=5, height=4) \n",
    "plot"
   ]
  },
  {
   "cell_type": "code",
   "execution_count": null,
   "metadata": {},
   "outputs": [],
   "source": []
  }
 ],
 "metadata": {
  "kernelspec": {
   "display_name": "Python 3",
   "language": "python",
   "name": "python3"
  },
  "language_info": {
   "codemirror_mode": {
    "name": "ipython",
    "version": 3
   },
   "file_extension": ".py",
   "mimetype": "text/x-python",
   "name": "python",
   "nbconvert_exporter": "python",
   "pygments_lexer": "ipython3",
   "version": "3.6.9"
  }
 },
 "nbformat": 4,
 "nbformat_minor": 4
}
