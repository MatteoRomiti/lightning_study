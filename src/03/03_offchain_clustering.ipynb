{
 "cells": [
  {
   "cell_type": "markdown",
   "metadata": {},
   "source": [
    "# Off-Chain Clustering\n",
    "In this notebook, we detail how we cluster LN nodes based on their alias, ASN and IP address. The sections are:\n",
    "1. Data\n",
    "2. Example node alias/ASN clustering with LNBIG nodes\n",
    "3. Evaluate a range of distance measures\n",
    "4. Rerun clustering with best measure and threshold parameter\n",
    "5. Perform IP-based clustering\n",
    "6. Merge alias/ASN clusters with IP-based clusters\n",
    "7. Check for clusters and nodes hosted on amazon"
   ]
  },
  {
   "cell_type": "code",
   "execution_count": 1,
   "metadata": {
    "ExecuteTime": {
     "end_time": "2021-01-30T15:37:04.392617Z",
     "start_time": "2021-01-30T15:37:02.109002Z"
    }
   },
   "outputs": [],
   "source": [
    "import sys\n",
    "sys.path.append(\"..\")\n",
    "\n",
    "from utils import get_same_asn_clusters, evaluate_single_result, evaluate_measure\n",
    "\n",
    "# input files\n",
    "from utils import nodes_csv_file, ips_csv_file, whois_csv_file, \\\n",
    "    alias_address_clusters_csv_file, amazon_ip_file_url\n",
    "\n",
    "# output files\n",
    "from utils import alias_address_clusters_csv_file\n",
    "\n",
    "from jellyfish import levenshtein_distance, damerau_levenshtein_distance, \\\n",
    "    hamming_distance\n",
    "from matplotlib import rcParams\n",
    "import scipy\n",
    "import urllib\n",
    "import json\n",
    "import pandas as pd\n",
    "import numpy as np\n",
    "from tqdm import tqdm  # progress bars\n",
    "import networkx as nx\n",
    "import matplotlib.pyplot as plt\n",
    "from plotnine import theme_bw, theme, element_text, ggplot, geom_bar, aes, \\\n",
    "    geom_text, labs, coord_flip\n",
    "from utils import relative_lcs, cluster, lcs_distance, \\\n",
    "    relative_levenshtein, relative_damerau_levenshtein, relative_hamming, \\\n",
    "    jaro_distance, jaro_winkler_distance, is_reserved_address, \\\n",
    "    create_is_subnet_address_function\n",
    "\n",
    "theme_publication = theme_bw() + theme(text=element_text(family=\"cmr10\", size=12, color=\"black\"), \\\n",
    "                                       axis_title=element_text(size=14))"
   ]
  },
  {
   "cell_type": "markdown",
   "metadata": {
    "ExecuteTime": {
     "end_time": "2020-11-30T14:38:45.240300Z",
     "start_time": "2020-11-30T14:38:45.235388Z"
    }
   },
   "source": [
    "# 1. Data\n",
    "In this section, we fetch and prepare node aliases, node IPs and retrieve WHOIS data\n",
    "\n",
    "#### Inputs (made available):\n",
    "- `nodes_csv_file`\n",
    "- `ip_address_csv_file`\n",
    "- `whois_csv_file` (optional)\n",
    "- `amazon_ip_file_url`\n",
    "\n",
    "#### Outputs (made available):\n",
    "- `alias_address_clusters_csv_file`\n",
    "\n",
    "You can either run all the cells (some might take several hours to complete, look for the \\*\\*WARNING** comment in the cells) or run directly the \"output files\" cell and have a look at the data."
   ]
  },
  {
   "cell_type": "code",
   "execution_count": 2,
   "metadata": {
    "ExecuteTime": {
     "end_time": "2021-01-30T15:37:06.965754Z",
     "start_time": "2021-01-30T15:37:06.664269Z"
    }
   },
   "outputs": [],
   "source": [
    "# input files\n",
    "node_aliases = pd.read_csv(nodes_csv_file)\n",
    "node_ips = pd.read_csv(ips_csv_file)\n",
    "whois_data = pd.read_csv(whois_csv_file) # optional, can also be retrieved from node_ips\n",
    "with urllib.request.urlopen(amazon_ip_file_url) as url:\n",
    "    amazon_subnets = json.loads(url.read().decode())    "
   ]
  },
  {
   "cell_type": "code",
   "execution_count": 3,
   "metadata": {
    "ExecuteTime": {
     "end_time": "2021-01-30T15:37:10.807614Z",
     "start_time": "2021-01-30T15:37:10.788934Z"
    }
   },
   "outputs": [],
   "source": [
    "# output files (the set of nodes that have been clustered by the process in this notebook)\n",
    "final_clusters = pd.read_csv(alias_address_clusters_csv_file)"
   ]
  },
  {
   "cell_type": "code",
   "execution_count": 4,
   "metadata": {
    "ExecuteTime": {
     "end_time": "2020-11-30T14:31:02.360772Z",
     "start_time": "2020-11-30T14:31:02.205495Z"
    }
   },
   "outputs": [
    {
     "name": "stdout",
     "output_type": "stream",
     "text": [
      "Got 9724 aliases\n"
     ]
    }
   ],
   "source": [
    "# Prepare node aliases\n",
    "# have each pub_key / alias combination in a separate row\n",
    "node_aliases.alias = node_aliases.alias.apply(lambda x: x.split(\"|\"))\n",
    "node_aliases = node_aliases.explode(\"alias\")\n",
    "# filter to remove empty aliases\n",
    "node_aliases = node_aliases[node_aliases.alias.str.len() > 0].copy()\n",
    "print(\"Got\", len(node_aliases), \"aliases\")"
   ]
  },
  {
   "cell_type": "code",
   "execution_count": 5,
   "metadata": {
    "ExecuteTime": {
     "end_time": "2020-11-30T14:32:36.555379Z",
     "start_time": "2020-11-30T14:32:35.116904Z"
    }
   },
   "outputs": [
    {
     "name": "stdout",
     "output_type": "stream",
     "text": [
      "Removing a total of: 393 reserved IPs\n"
     ]
    }
   ],
   "source": [
    "# Process IP addresses\n",
    "# have each pub_key / ip combination in a separate row\n",
    "node_ips.ip_address = node_ips.ip_address.apply(lambda x: x.split(\"|\"))\n",
    "node_ips = node_ips.explode(\"ip_address\")\n",
    "# separate port and ip address for easier querying\n",
    "node_ips['port'] = node_ips.ip_address.apply(lambda x: x.rsplit(\":\", 1)[1])\n",
    "node_ips['ip_address'] = node_ips.ip_address.apply(lambda x: x.rsplit(\":\", 1)[0].strip(\"[]\"))\n",
    "\n",
    "# FILTER (remove addresses that don't make sense)\n",
    "# https://en.wikipedia.org/wiki/Reserved_IP_addresses\n",
    "\n",
    "reserved_ips = node_ips.ip_address.apply(is_reserved_address)\n",
    "print(\"Removing a total of:\", sum(reserved_ips), \"reserved IPs\")\n",
    "node_ips = node_ips[~reserved_ips]"
   ]
  },
  {
   "cell_type": "code",
   "execution_count": 6,
   "metadata": {
    "ExecuteTime": {
     "end_time": "2020-10-06T08:19:30.653640Z",
     "start_time": "2020-10-06T08:19:30.485070Z"
    }
   },
   "outputs": [],
   "source": [
    "# Retrieve whois data\n",
    "# **WARNING**, this may take several hours\n",
    "\n",
    "try:\n",
    "    whois_data = pd.read_csv(whois_csv_file)\n",
    "    whois_data = whois_data[~whois_data.entities.isna()]\n",
    "except:\n",
    "    print(\"No existing whois data, querying all IP addresses now\")\n",
    "    from ipwhois import IPWhois\n",
    "\n",
    "    def lookup(ip_address):\n",
    "        fail = {\"query\": ip_address}\n",
    "        if \".onion\" in ip_address:\n",
    "            return fail\n",
    "        else:\n",
    "            try:\n",
    "                res = IPWhois(ip_address).lookup_rdap(depth=1)\n",
    "                return res\n",
    "            except:\n",
    "                print(ip_address, \"couldn't be queried...\")\n",
    "                return fail\n",
    "    whois_jsons = [lookup(ip_address) for ip_address in tqdm(node_ips.ip_address.unique())]\n",
    "    whois_data = pd.DataFrame(whois_jsons)\n",
    "    # whois_data = pd.DataFrame.from_dict(whois_jsons) # tofix\n",
    "    whois_data.to_csv(whois_csv_file, index=False)\n",
    "\n",
    "# only keep asn and ip_address\n",
    "whois_data = whois_data[[\"asn\", \"query\"]].rename(columns={\"query\": \"ip_address\"})"
   ]
  },
  {
   "cell_type": "markdown",
   "metadata": {},
   "source": [
    "# 2. Example alias/ASN node clustering with LNBIG nodes\n",
    "To illustrate how the clustering works, we select only a small subset of lightning nodes, specifically those containing the term \"LNBIG\", some \"Lightning\" and some random ones.\n",
    "We then cluster those nodes with the relative longest common substring method and plot a dendrogram"
   ]
  },
  {
   "cell_type": "code",
   "execution_count": 7,
   "metadata": {},
   "outputs": [],
   "source": [
    "# Select a temporary subset of aliases containing LNBIG nodes\n",
    "tmp_aliases = node_aliases[node_aliases.alias.str.contains(\"LNBIG\")]\n",
    "# add random \"Lightning\" aliases\n",
    "tmp_aliases = tmp_aliases.append(node_aliases[node_aliases.alias.str.contains(\"Lightning\")].sample(5, random_state=7))\n",
    "# add entirely random aliases\n",
    "tmp_aliases = tmp_aliases.append(node_aliases.sample(5, random_state=7)).drop_duplicates().reset_index(drop=True)\n",
    "\n",
    "distance_measure = relative_lcs\n",
    "# define that the common substring needs to account for 54% of all letters of the longer string\n",
    "max_distance_threshold = 1 - 0.54 # = 0.46\n",
    "\n",
    "clusters, Z = cluster(tmp_aliases, distance_measure, max_distance_threshold)"
   ]
  },
  {
   "cell_type": "code",
   "execution_count": 8,
   "metadata": {},
   "outputs": [
    {
     "name": "stderr",
     "output_type": "stream",
     "text": [
      "<ipython-input-8-c57e2e310e27>:8: MatplotlibDeprecationWarning: savefig() got unexpected keyword argument \"papertype\" which is no longer supported as of 3.3 and will become an error two minor releases later\n"
     ]
    },
    {
     "data": {
      "image/png": "[encoded data removed]",
      "text/plain": [
       "<Figure size 504x216 with 1 Axes>"
      ]
     },
     "metadata": {
      "needs_background": "light"
     },
     "output_type": "display_data"
    }
   ],
   "source": [
    "# plot dendrogram (only makes sense for small data like this subset...)\n",
    "rcParams['font.family'] = 'cmr10'\n",
    "fig = plt.figure(figsize=(7, 3))\n",
    "ax = fig.add_subplot(1, 1, 1)\n",
    "dn = scipy.cluster.hierarchy.dendrogram(Z, orientation=\"top\", labels=clusters.alias.values, color_threshold=max_distance_threshold)\n",
    "ax.axhline(y=max_distance_threshold, color='r', ls=\"--\")\n",
    "ax.xaxis.set_ticks_position(\"bottom\")\n",
    "plt.savefig(\"alias_dendrogram_example.pdf\", papertype=\"letter\", bbox_inches=\"tight\")"
   ]
  },
  {
   "cell_type": "markdown",
   "metadata": {},
   "source": [
    "# 3. Evaluate a range of distance measures\n",
    "Here we perform a systematic evaluation of distance measures with parameter ranges.\n",
    "All results are concatenated, and the following statistics are computed:\n",
    "- number of nodes clustered\n",
    "- cluster count\n",
    "- cluster count with least 3 nodes\n",
    "- cluster count with at least 26 nodes\n",
    "\n",
    "We know from online evidence, that the LNBig cluster contains at least 26 nodes and the lnd-gar-nodl-it cluster is even larger, that is why the last metric is of interest. If no such large clusters are found, the distance measure and parameter combination is not useful."
   ]
  },
  {
   "cell_type": "code",
   "execution_count": 9,
   "metadata": {},
   "outputs": [
    {
     "name": "stdout",
     "output_type": "stream",
     "text": [
      "Finished relative_lcs\n",
      "Finished lcs_distance\n",
      "Finished levenshtein_distance\n",
      "Finished relative_levenshtein\n",
      "Finished damerau_levenshtein_distance\n",
      "Finished relative_damerau_levenshtein\n",
      "Finished hamming_distance\n",
      "Finished relative_hamming\n",
      "Finished jaro_distance\n",
      "Finished jaro_winkler_distance\n",
      "CPU times: user 3h 20min 31s, sys: 46.4 s, total: 3h 21min 18s\n",
      "Wall time: 3h 21min 25s\n"
     ]
    }
   ],
   "source": [
    "%%time\n",
    "# evaluate all measures with parameter ranges\n",
    "# **WARNING**, this may take several hours, as the distance computation is of quadratic complexity\n",
    "tmp_aliases = node_aliases.copy()\n",
    "results = pd.concat([\n",
    "    evaluate_measure(tmp_aliases, node_ips, whois_data, relative_lcs, np.arange(0, 1, 0.01)),\n",
    "    evaluate_measure(tmp_aliases, node_ips, whois_data, lcs_distance, 1/np.arange(1, 15, 1)),\n",
    "    evaluate_measure(tmp_aliases, node_ips, whois_data, levenshtein_distance, np.arange(0, 10, 1)),\n",
    "    evaluate_measure(tmp_aliases, node_ips, whois_data, relative_levenshtein, np.arange(0, 1, 0.01)),\n",
    "    evaluate_measure(tmp_aliases, node_ips, whois_data, damerau_levenshtein_distance, np.arange(0, 10, 1)),\n",
    "    evaluate_measure(tmp_aliases, node_ips, whois_data, relative_damerau_levenshtein, np.arange(0, 1, 0.01)),\n",
    "    evaluate_measure(tmp_aliases, node_ips, whois_data, hamming_distance, np.arange(0, 10, 1)),\n",
    "    evaluate_measure(tmp_aliases, node_ips, whois_data, relative_hamming, np.arange(0, 1, 0.01)),\n",
    "    evaluate_measure(tmp_aliases, node_ips, whois_data, jaro_distance, np.arange(0, 1, 0.01)),\n",
    "    evaluate_measure(tmp_aliases, node_ips, whois_data, jaro_winkler_distance, np.arange(0, 1, 0.01))\n",
    "])"
   ]
  },
  {
   "cell_type": "code",
   "execution_count": 10,
   "metadata": {},
   "outputs": [
    {
     "data": {
      "text/html": [
       "<div>\n",
       "<style scoped>\n",
       "    .dataframe tbody tr th:only-of-type {\n",
       "        vertical-align: middle;\n",
       "    }\n",
       "\n",
       "    .dataframe tbody tr th {\n",
       "        vertical-align: top;\n",
       "    }\n",
       "\n",
       "    .dataframe thead th {\n",
       "        text-align: right;\n",
       "    }\n",
       "</style>\n",
       "<table border=\"1\" class=\"dataframe\">\n",
       "  <thead>\n",
       "    <tr style=\"text-align: right;\">\n",
       "      <th></th>\n",
       "      <th>measure</th>\n",
       "      <th>threshold</th>\n",
       "      <th>node_count</th>\n",
       "      <th>cluster_count</th>\n",
       "      <th>cluster_count_min3</th>\n",
       "      <th>cluster_count_min26</th>\n",
       "    </tr>\n",
       "  </thead>\n",
       "  <tbody>\n",
       "    <tr>\n",
       "      <th>46</th>\n",
       "      <td>relative lcs</td>\n",
       "      <td>0.46</td>\n",
       "      <td>363</td>\n",
       "      <td>126</td>\n",
       "      <td>17</td>\n",
       "      <td>2</td>\n",
       "    </tr>\n",
       "    <tr>\n",
       "      <th>48</th>\n",
       "      <td>relative lcs</td>\n",
       "      <td>0.48</td>\n",
       "      <td>361</td>\n",
       "      <td>125</td>\n",
       "      <td>17</td>\n",
       "      <td>2</td>\n",
       "    </tr>\n",
       "    <tr>\n",
       "      <th>49</th>\n",
       "      <td>relative lcs</td>\n",
       "      <td>0.49</td>\n",
       "      <td>361</td>\n",
       "      <td>125</td>\n",
       "      <td>17</td>\n",
       "      <td>2</td>\n",
       "    </tr>\n",
       "    <tr>\n",
       "      <th>47</th>\n",
       "      <td>relative lcs</td>\n",
       "      <td>0.47</td>\n",
       "      <td>359</td>\n",
       "      <td>124</td>\n",
       "      <td>17</td>\n",
       "      <td>2</td>\n",
       "    </tr>\n",
       "    <tr>\n",
       "      <th>53</th>\n",
       "      <td>relative lcs</td>\n",
       "      <td>0.53</td>\n",
       "      <td>355</td>\n",
       "      <td>122</td>\n",
       "      <td>19</td>\n",
       "      <td>2</td>\n",
       "    </tr>\n",
       "  </tbody>\n",
       "</table>\n",
       "</div>"
      ],
      "text/plain": [
       "         measure  threshold  node_count  cluster_count  cluster_count_min3  \\\n",
       "46  relative lcs       0.46         363            126                  17   \n",
       "48  relative lcs       0.48         361            125                  17   \n",
       "49  relative lcs       0.49         361            125                  17   \n",
       "47  relative lcs       0.47         359            124                  17   \n",
       "53  relative lcs       0.53         355            122                  19   \n",
       "\n",
       "    cluster_count_min26  \n",
       "46                    2  \n",
       "48                    2  \n",
       "49                    2  \n",
       "47                    2  \n",
       "53                    2  "
      ]
     },
     "execution_count": 10,
     "metadata": {},
     "output_type": "execute_result"
    }
   ],
   "source": [
    "# Print the distance measure that at least 2 large clusters (LNBig and lnd-gar-nodl-it),\n",
    "# and sort by most nodes clustered\n",
    "results[results.cluster_count_min26 >= 2].sort_values(\"node_count\", ascending=False).dropna().head()"
   ]
  },
  {
   "cell_type": "code",
   "execution_count": 11,
   "metadata": {},
   "outputs": [
    {
     "name": "stderr",
     "output_type": "stream",
     "text": [
      "/home/everything/applications/anaconda3/envs/lightningpaper/lib/python3.9/site-packages/plotnine/ggplot.py:727: PlotnineWarning: Saving 5 x 3 in image.\n",
      "/home/everything/applications/anaconda3/envs/lightningpaper/lib/python3.9/site-packages/plotnine/ggplot.py:730: PlotnineWarning: Filename: alias_clustering_white.pdf\n"
     ]
    },
    {
     "data": {
      "image/png": "[encoded data removed]",
      "text/plain": [
       "<Figure size 640x480 with 1 Axes>"
      ]
     },
     "metadata": {},
     "output_type": "display_data"
    },
    {
     "data": {
      "text/plain": [
       "<ggplot: (8764919893264)>"
      ]
     },
     "execution_count": 11,
     "metadata": {},
     "output_type": "execute_result"
    }
   ],
   "source": [
    "# plot method comparison\n",
    "bestMeasure_for_plot = results[results.groupby(['measure'])['cluster_count_min26'].transform(max) == results['cluster_count_min26']].reset_index(drop=True)\n",
    "bestMeasure_for_plot = bestMeasure_for_plot.iloc[bestMeasure_for_plot.reset_index().groupby([\"measure\"])['node_count'].idxmax()]\n",
    "#best\n",
    "\n",
    "bestMeasure_for_plot = bestMeasure_for_plot.sort_values(\"node_count\", ascending=True)\n",
    "measure_list = bestMeasure_for_plot['measure'].values.tolist()\n",
    "measure_cat = pd.Categorical(bestMeasure_for_plot['measure'], categories=measure_list)\n",
    "bestMeasure_for_plot = bestMeasure_for_plot.assign(measure_cat = measure_cat)\n",
    "bestMeasure_for_plot[\"label_pos\"] = bestMeasure_for_plot[\"node_count\"]/2\n",
    "bestMeasure_for_plot[\"label_text\"] = bestMeasure_for_plot.apply(\n",
    "    lambda x: str(x[\"cluster_count\"]) + \" clusters at threshold \"+str(round(x['threshold'], 2)), axis=1)\n",
    "\n",
    "plot = ggplot(bestMeasure_for_plot) +\\\n",
    "geom_bar(aes(x=\"measure_cat\", y=\"node_count\"), stat=\"identity\", colour=\"black\", fill=\"white\") +\\\n",
    "geom_text(aes(x=\"measure_cat\", y=100, label=\"label_text\"), angle=0, colour=\"black\") +\\\n",
    "labs(x=\"String distance measure\", y=\"Total clustered lightning nodes\") +\\\n",
    "coord_flip() +\\\n",
    "theme_publication +\\\n",
    "theme(axis_text_x=element_text(rotation=45, vjust = 1, hjust=1))\n",
    "\n",
    "plot.save(\"alias_clustering_white.pdf\", width=5, height=3)\n",
    "plot\n"
   ]
  },
  {
   "cell_type": "code",
   "execution_count": 12,
   "metadata": {},
   "outputs": [
    {
     "name": "stdout",
     "output_type": "stream",
     "text": [
      "measure                relative lcs\n",
      "threshold                      0.46\n",
      "node_count                      363\n",
      "cluster_count                   126\n",
      "cluster_count_min3               17\n",
      "cluster_count_min26               2\n",
      "Name: 3, dtype: object\n"
     ]
    }
   ],
   "source": [
    "# print summary of best method:\n",
    "best = results[results.groupby(['measure'])['cluster_count_min26'].transform(\n",
    "    max) == results['cluster_count_min26']].reset_index(drop=True)\n",
    "best = best[best[\"node_count\"] == best[\"node_count\"].max()].iloc[0]\n",
    "print(best)"
   ]
  },
  {
   "cell_type": "markdown",
   "metadata": {},
   "source": [
    "# 4. Rerun clustering with best measure and threshold parameter\n",
    "Now that we have identified the best measure and threshold parameter, we run and obtain an alias/ASN clustering"
   ]
  },
  {
   "cell_type": "code",
   "execution_count": 13,
   "metadata": {},
   "outputs": [
    {
     "data": {
      "text/html": [
       "<div>\n",
       "<style scoped>\n",
       "    .dataframe tbody tr th:only-of-type {\n",
       "        vertical-align: middle;\n",
       "    }\n",
       "\n",
       "    .dataframe tbody tr th {\n",
       "        vertical-align: top;\n",
       "    }\n",
       "\n",
       "    .dataframe thead th {\n",
       "        text-align: right;\n",
       "    }\n",
       "</style>\n",
       "<table border=\"1\" class=\"dataframe\">\n",
       "  <thead>\n",
       "    <tr style=\"text-align: right;\">\n",
       "      <th></th>\n",
       "      <th>pub_key</th>\n",
       "      <th>cluster</th>\n",
       "      <th>cluster_origin</th>\n",
       "    </tr>\n",
       "  </thead>\n",
       "  <tbody>\n",
       "    <tr>\n",
       "      <th>12169</th>\n",
       "      <td>03b7e9a5827b65a71a03b46e8d38d28410d48ebbc1fc6b...</td>\n",
       "      <td>653</td>\n",
       "      <td>alias/asn</td>\n",
       "    </tr>\n",
       "    <tr>\n",
       "      <th>14215</th>\n",
       "      <td>03fbdfe29e107cb685c34dbe000b39a5c029a1ae88f8a4...</td>\n",
       "      <td>653</td>\n",
       "      <td>alias/asn</td>\n",
       "    </tr>\n",
       "    <tr>\n",
       "      <th>14224</th>\n",
       "      <td>03fc3d6064a7f6fa6008dd2c13036e9a13427acd2c18fe...</td>\n",
       "      <td>653</td>\n",
       "      <td>alias/asn</td>\n",
       "    </tr>\n",
       "    <tr>\n",
       "      <th>10275</th>\n",
       "      <td>0362475f2ecf2f4cd9deb1bd6f0474ac7b133b7baebce8...</td>\n",
       "      <td>653</td>\n",
       "      <td>alias/asn</td>\n",
       "    </tr>\n",
       "    <tr>\n",
       "      <th>14814</th>\n",
       "      <td>020bc0a7457d71b9e038a916de479819151a4b152ab548...</td>\n",
       "      <td>653</td>\n",
       "      <td>alias/asn</td>\n",
       "    </tr>\n",
       "  </tbody>\n",
       "</table>\n",
       "</div>"
      ],
      "text/plain": [
       "                                                 pub_key  cluster  \\\n",
       "12169  03b7e9a5827b65a71a03b46e8d38d28410d48ebbc1fc6b...      653   \n",
       "14215  03fbdfe29e107cb685c34dbe000b39a5c029a1ae88f8a4...      653   \n",
       "14224  03fc3d6064a7f6fa6008dd2c13036e9a13427acd2c18fe...      653   \n",
       "10275  0362475f2ecf2f4cd9deb1bd6f0474ac7b133b7baebce8...      653   \n",
       "14814  020bc0a7457d71b9e038a916de479819151a4b152ab548...      653   \n",
       "\n",
       "      cluster_origin  \n",
       "12169      alias/asn  \n",
       "14215      alias/asn  \n",
       "14224      alias/asn  \n",
       "10275      alias/asn  \n",
       "14814      alias/asn  "
      ]
     },
     "execution_count": 13,
     "metadata": {},
     "output_type": "execute_result"
    }
   ],
   "source": [
    "# **WARNING**, this may take about half an hour\n",
    "final_alias_cluster, _ = cluster(\n",
    "    node_aliases, globals()[best.measure.replace(\" \", \"_\")], best.threshold)\n",
    "alias_asn_clusters = get_same_asn_clusters(final_alias_cluster, node_ips, whois_data)[\n",
    "    [\"pub_key\", \"cluster\"]].drop_duplicates()\n",
    "alias_asn_clusters[\"cluster_origin\"] = \"alias/asn\"\n",
    "alias_asn_clusters.head()"
   ]
  },
  {
   "cell_type": "markdown",
   "metadata": {},
   "source": [
    "# 5. Perform IP-based clustering\n",
    "Here we perform IP and onion address-based clustering"
   ]
  },
  {
   "cell_type": "code",
   "execution_count": 14,
   "metadata": {},
   "outputs": [
    {
     "name": "stdout",
     "output_type": "stream",
     "text": [
      "Clustering based on same IP/onion address\n"
     ]
    },
    {
     "data": {
      "text/html": [
       "<div>\n",
       "<style scoped>\n",
       "    .dataframe tbody tr th:only-of-type {\n",
       "        vertical-align: middle;\n",
       "    }\n",
       "\n",
       "    .dataframe tbody tr th {\n",
       "        vertical-align: top;\n",
       "    }\n",
       "\n",
       "    .dataframe thead th {\n",
       "        text-align: right;\n",
       "    }\n",
       "</style>\n",
       "<table border=\"1\" class=\"dataframe\">\n",
       "  <thead>\n",
       "    <tr style=\"text-align: right;\">\n",
       "      <th></th>\n",
       "      <th>pub_key</th>\n",
       "      <th>cluster</th>\n",
       "      <th>cluster_origin</th>\n",
       "    </tr>\n",
       "  </thead>\n",
       "  <tbody>\n",
       "    <tr>\n",
       "      <th>1184</th>\n",
       "      <td>0268b84ff41b75477349c1b1a8ab77213294884f781602...</td>\n",
       "      <td>104.198.96.115</td>\n",
       "      <td>address</td>\n",
       "    </tr>\n",
       "    <tr>\n",
       "      <th>1491</th>\n",
       "      <td>02868e12f320073cad0c2959c42559fbcfd1aa326fcb94...</td>\n",
       "      <td>104.198.96.115</td>\n",
       "      <td>address</td>\n",
       "    </tr>\n",
       "    <tr>\n",
       "      <th>438</th>\n",
       "      <td>02251c2b931203848152b1c52e63ee91c74f53b0bfa8dd...</td>\n",
       "      <td>104.248.136.82</td>\n",
       "      <td>address</td>\n",
       "    </tr>\n",
       "    <tr>\n",
       "      <th>3536</th>\n",
       "      <td>034653a43cb5857d6f75ff19866e27a8e03355827bf603...</td>\n",
       "      <td>104.248.136.82</td>\n",
       "      <td>address</td>\n",
       "    </tr>\n",
       "    <tr>\n",
       "      <th>621</th>\n",
       "      <td>0235591b82c3856e6ccfc10b70b7ccdce45c30994500c8...</td>\n",
       "      <td>104.27.161.98</td>\n",
       "      <td>address</td>\n",
       "    </tr>\n",
       "  </tbody>\n",
       "</table>\n",
       "</div>"
      ],
      "text/plain": [
       "                                                pub_key         cluster  \\\n",
       "1184  0268b84ff41b75477349c1b1a8ab77213294884f781602...  104.198.96.115   \n",
       "1491  02868e12f320073cad0c2959c42559fbcfd1aa326fcb94...  104.198.96.115   \n",
       "438   02251c2b931203848152b1c52e63ee91c74f53b0bfa8dd...  104.248.136.82   \n",
       "3536  034653a43cb5857d6f75ff19866e27a8e03355827bf603...  104.248.136.82   \n",
       "621   0235591b82c3856e6ccfc10b70b7ccdce45c30994500c8...   104.27.161.98   \n",
       "\n",
       "     cluster_origin  \n",
       "1184        address  \n",
       "1491        address  \n",
       "438         address  \n",
       "3536        address  \n",
       "621         address  "
      ]
     },
     "execution_count": 14,
     "metadata": {},
     "output_type": "execute_result"
    }
   ],
   "source": [
    "print(\"Clustering based on same IP/onion address\")\n",
    "same_ip_nodes = node_ips.drop(columns=['port']) \\\n",
    "    .groupby('ip_address') \\\n",
    "    .filter(lambda x: x['pub_key'].nunique() > 1) \\\n",
    "    .sort_values('ip_address')\n",
    "same_ip_nodes = same_ip_nodes.rename(columns={\"ip_address\": \"cluster\"})\n",
    "same_ip_nodes[\"cluster_origin\"] = \"address\"\n",
    "same_ip_nodes.head()"
   ]
  },
  {
   "cell_type": "markdown",
   "metadata": {},
   "source": [
    "# 6. Merge alias/ASN clusters with IP-based clusters\n",
    "Now both alias/ASN clusters and IP-based clusters are available, we merge them to obtain the final result, save the alias clustering and produce some summary statistics."
   ]
  },
  {
   "cell_type": "code",
   "execution_count": 15,
   "metadata": {},
   "outputs": [],
   "source": [
    "combined = pd.concat([alias_asn_clusters, same_ip_nodes])\n",
    "G = nx.from_pandas_edgelist(combined, source=\"pub_key\", target=\"cluster\", create_using=nx.DiGraph)\n",
    "l = list(nx.weakly_connected_components(G))\n",
    "L = [dict.fromkeys(y, x) for x, y in enumerate(l)]\n",
    "d = {k: v for d in L for k, v in d.items()}\n",
    "mapping = pd.DataFrame(list(d.items()), columns=['pub_key', 'newcluster'])\n",
    "mapping = mapping.merge(combined, how=\"left\", on=\"pub_key\").drop(columns=\"cluster\").dropna()\n",
    "mapping = mapping.groupby([\"newcluster\", \"pub_key\"])[\"cluster_origin\"].agg(\n",
    "    lambda x: ' & '.join(set(x))).reset_index()\n",
    "mapping = mapping.merge(node_aliases, how=\"left\")\n",
    "\n",
    "final_clusters = mapping.groupby([\"newcluster\", \"pub_key\", \"cluster_origin\"])[\n",
    "    \"alias\"].agg(lambda x: ' | '.join(set(x.dropna()))).reset_index()\n",
    "final_clusters = final_clusters.rename(columns={\"newcluster\": \"cluster\"})\n",
    "\n",
    "# write alias clusters to csv file in results folder\n",
    "final_clusters.to_csv(alias_address_clusters_csv_file, index=False)"
   ]
  },
  {
   "cell_type": "code",
   "execution_count": 16,
   "metadata": {},
   "outputs": [
    {
     "name": "stdout",
     "output_type": "stream",
     "text": [
      "Best clustering algorithm:\n",
      " cluster_origin\n",
      "address                894\n",
      "address & alias/asn    241\n",
      "alias/asn              116\n",
      "Name: pub_key, dtype: int64 \n",
      "\n",
      "\n",
      "Total nodes clustered:  1251\n",
      "Total cluster count: 301\n"
     ]
    }
   ],
   "source": [
    "cluster_origin_distribution = final_clusters.groupby(\"cluster_origin\")[\"pub_key\"].count()\n",
    "print(\"Best clustering algorithm:\\n\", cluster_origin_distribution, \"\\n\\n\")\n",
    "print(\"Total nodes clustered: \", final_clusters[\"pub_key\"].count())\n",
    "print(\"Total cluster count:\", final_clusters.cluster.nunique())"
   ]
  },
  {
   "cell_type": "markdown",
   "metadata": {},
   "source": [
    "# 7. Check for clusters and nodes hosted on amazon\n",
    "Based on the publically available list of amazon ip ranges, we determine how many clusters are fully hosted with amazon, and how many distinct lightning nodes have ever been seen to have hosted with amazon."
   ]
  },
  {
   "cell_type": "code",
   "execution_count": 17,
   "metadata": {},
   "outputs": [
    {
     "name": "stdout",
     "output_type": "stream",
     "text": [
      "20 clusters are entirely hosted on amazon\n",
      "313 lightning nodes have been seen hosted on amazon servers\n"
     ]
    }
   ],
   "source": [
    "# Prepare function that determines whether an IP belongs to amazon\n",
    "amzn_ipv4_ranges = [item[\"ip_prefix\"] for item in amazon_subnets[\"prefixes\"]]\n",
    "amzn_ipv6_ranges = [item[\"ipv6_prefix\"] for item in amazon_subnets[\"ipv6_prefixes\"]]\n",
    "is_amazon_address = create_is_subnet_address_function(amzn_ipv4_ranges, amzn_ipv6_ranges)\n",
    "\n",
    "\n",
    "clusters_with_ip = pd.merge(final_clusters, node_ips)\n",
    "clusters_with_ip[\"on_amazon\"] = clusters_with_ip.ip_address.apply(is_amazon_address)\n",
    "\n",
    "# how many of our identified clusters are (fully) hosted on Amazon?\n",
    "cluster_on_amazon = clusters_with_ip.groupby(\"cluster\").on_amazon.all()\n",
    "cluster_on_amazon = cluster_on_amazon[cluster_on_amazon==True]\n",
    "c_on_a = clusters_with_ip[clusters_with_ip.cluster.isin(cluster_on_amazon.index)].cluster.nunique()\n",
    "print(c_on_a, \"clusters are entirely hosted on amazon\")\n",
    "\n",
    "# over the course of the full dataset timeframe, x nodes have been seen to be hosted on amazon servers\n",
    "node_count = node_ips[node_ips.ip_address.apply(is_amazon_address)].pub_key.nunique()\n",
    "print(node_count, \"lightning nodes have been seen hosted on amazon servers\")"
   ]
  },
  {
   "cell_type": "code",
   "execution_count": null,
   "metadata": {},
   "outputs": [],
   "source": []
  }
 ],
 "metadata": {
  "kernelspec": {
   "display_name": "Python 3",
   "language": "python",
   "name": "python3"
  },
  "language_info": {
   "codemirror_mode": {
    "name": "ipython",
    "version": 3
   },
   "file_extension": ".py",
   "mimetype": "text/x-python",
   "name": "python",
   "nbconvert_exporter": "python",
   "pygments_lexer": "ipython3",
   "version": "3.9.1"
  }
 },
 "nbformat": 4,
 "nbformat_minor": 2
}
