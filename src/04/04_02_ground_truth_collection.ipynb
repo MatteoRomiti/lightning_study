{
 "cells": [
  {
   "cell_type": "markdown",
   "metadata": {},
   "source": [
    "# Ground Truth Collection\n",
    "In this notebook, we show the code used to collect ground truth by opening and closing channels with selected LN nodes.\n",
    "1. Creating List of Target Nodes\n",
    "2. Collecting Ground Truth"
   ]
  },
  {
   "cell_type": "code",
   "execution_count": 1,
   "metadata": {
    "ExecuteTime": {
     "end_time": "2021-01-30T15:49:39.343216Z",
     "start_time": "2021-01-30T15:49:38.707242Z"
    }
   },
   "outputs": [],
   "source": [
    "import sys\n",
    "sys.path.append(\"..\")\n",
    "\n",
    "from utils import read_json, set_mapping, on_chain_heuristics_list, write_json\n",
    "\n",
    "# input files\n",
    "from utils import heuristics_files, inactive_nodes_file, funding_address_entity_file, settlement_address_entity_file, settlement_txs_file\n",
    "\n",
    "# output files\n",
    "from utils import target_nodes_file\n",
    "\n"
   ]
  },
  {
   "cell_type": "markdown",
   "metadata": {},
   "source": [
    "# 1. Creating List of Target Nodes\n",
    "In this section, we use the linking results to select the target nodes for our ground truth collection.\n",
    "\n",
    "#### Inputs (made available):\n",
    "- `heuristics_files`\n",
    "- `inactive_nodes_file`\n",
    "- `funding_address_entity_file`\n",
    "- `settlement_address_entity_file`\n",
    "- `settlement_txs_file`\n",
    "\n",
    "#### Outputs (made available):\n",
    "- `target_nodes_file`"
   ]
  },
  {
   "cell_type": "code",
   "execution_count": 2,
   "metadata": {
    "ExecuteTime": {
     "end_time": "2021-01-30T15:49:42.589762Z",
     "start_time": "2021-01-30T15:49:41.086389Z"
    }
   },
   "outputs": [],
   "source": [
    "entity_node = read_json(heuristics_files[2]['all'][0], int_key=True)\n",
    "inactive_nodes = read_json(inactive_nodes_file) # created manually\n",
    "funding_address_entity = read_json(funding_address_entity_file)\n",
    "settlement_address_entity = read_json(settlement_address_entity_file)\n",
    "settlement_txs = read_json(settlement_txs_file)"
   ]
  },
  {
   "cell_type": "code",
   "execution_count": 3,
   "metadata": {
    "ExecuteTime": {
     "end_time": "2021-01-25T14:35:22.196602Z",
     "start_time": "2021-01-25T14:35:22.039370Z"
    }
   },
   "outputs": [
    {
     "name": "stdout",
     "output_type": "stream",
     "text": [
      "use stars\n",
      "use snakes\n",
      "use collectors\n",
      "use proxies\n"
     ]
    }
   ],
   "source": [
    "on_chain_heuristics = {och: (True if och != 'none' else False) for och in on_chain_heuristics_list}\n",
    "funding_address_entity, settlement_address_entity, = set_mapping(funding_address_entity, settlement_address_entity, on_chain_heuristics)"
   ]
  },
  {
   "cell_type": "code",
   "execution_count": 4,
   "metadata": {
    "ExecuteTime": {
     "end_time": "2021-01-25T14:35:22.355737Z",
     "start_time": "2021-01-25T14:35:22.198360Z"
    }
   },
   "outputs": [],
   "source": [
    "# count how many times an entity appears in a settlement tx\n",
    "e_noccur = dict()  # entity and n occur in settlement txs\n",
    "for tx in settlement_txs.values():\n",
    "    for out in tx['vout']:\n",
    "        a = out['scriptpubkey_address']\n",
    "        if a in settlement_address_entity:\n",
    "            e = settlement_address_entity[a]\n",
    "            if e not in e_noccur:\n",
    "                e_noccur[e] = 0\n",
    "            e_noccur[e] += 1\n",
    "\n",
    "# sort\n",
    "e_noccur_list = []\n",
    "for e, n in e_noccur.items():\n",
    "    e_noccur_list.append([e, n])\n",
    "e_noccur_list.sort(key=lambda x: -x[1])\n"
   ]
  },
  {
   "cell_type": "code",
   "execution_count": 5,
   "metadata": {
    "ExecuteTime": {
     "end_time": "2021-01-25T14:35:22.416461Z",
     "start_time": "2021-01-25T14:35:22.357699Z"
    }
   },
   "outputs": [],
   "source": [
    "# create two types of target nodes: the ones with most settlements and some random ones\n",
    "n_nodes_to_deanon = 40\n",
    "nodes_to_deanon = dict()\n",
    "nodes_to_deanon['most_settlements'] = []\n",
    "nodes_to_deanon['random'] = []\n",
    "\n",
    "i = 0\n",
    "\n",
    "for el in e_noccur_list:\n",
    "    if i < n_nodes_to_deanon:\n",
    "        entity, occur = el\n",
    "        if entity in entity_node:\n",
    "            nodes = entity_node[entity]\n",
    "            for node in nodes:\n",
    "                if node not in inactive_nodes and \\\n",
    "                        node not in [el[0] for el in nodes_to_deanon['most_settlements']]:\n",
    "                    nodes_to_deanon['most_settlements'].append([node, entity])\n",
    "                    i += 1\n",
    "\n",
    "for entity, nodes in entity_node.items():\n",
    "    for node in nodes:\n",
    "        if entity > 0 and \\\n",
    "                node not in [el[0] for el in nodes_to_deanon['most_settlements']] and \\\n",
    "                node not in [el[0] for el in nodes_to_deanon['random']] and \\\n",
    "                len(nodes_to_deanon['random']) < n_nodes_to_deanon and \\\n",
    "                node not in inactive_nodes:\n",
    "            nodes_to_deanon['random'].append([node, entity])"
   ]
  },
  {
   "cell_type": "code",
   "execution_count": 6,
   "metadata": {
    "ExecuteTime": {
     "end_time": "2021-01-25T14:35:22.420989Z",
     "start_time": "2021-01-25T14:35:22.418127Z"
    }
   },
   "outputs": [],
   "source": [
    "write_json(nodes_to_deanon, target_nodes_file)"
   ]
  },
  {
   "cell_type": "markdown",
   "metadata": {},
   "source": [
    "# 2. Collecting Ground Truth\n",
    "In this section, we provide the code to open and close channels to target nodes that are used to route payments from two LN nodes that we control. The actual execution and the adaptation of the commands is left to the reader. In particular, the target nodes selected above need to be joined with their IP addresses in order to be able to open channels to them (you may use `lncli getnodeinfo [node_key]` or the 1ML API to do this).\n",
    "\n",
    "#### Inputs:\n",
    "- `target_nodes_file`\n",
    "- `payment_requests_file`"
   ]
  },
  {
   "cell_type": "code",
   "execution_count": 3,
   "metadata": {
    "ExecuteTime": {
     "end_time": "2021-01-30T15:49:48.823549Z",
     "start_time": "2021-01-30T15:49:48.816194Z"
    }
   },
   "outputs": [],
   "source": [
    "import os\n",
    "import json\n",
    "import time"
   ]
  },
  {
   "cell_type": "code",
   "execution_count": 4,
   "metadata": {
    "ExecuteTime": {
     "end_time": "2021-01-30T15:50:02.163006Z",
     "start_time": "2021-01-30T15:50:02.154605Z"
    }
   },
   "outputs": [],
   "source": [
    "CLI = 'lncli --lnddir=~/.lnd'\n",
    "firstprs = 12\n",
    "\n",
    "# TODO: convert target_nodes to target_nodes_with_IPs\n",
    "\n",
    "target_nodes_with_IP = 'target_nodes_with_IPs.txt'\n",
    "payment_requests_file = 'payment_requests.txt'"
   ]
  },
  {
   "cell_type": "code",
   "execution_count": 5,
   "metadata": {
    "ExecuteTime": {
     "end_time": "2021-01-30T15:50:03.155006Z",
     "start_time": "2021-01-30T15:50:03.120618Z"
    }
   },
   "outputs": [],
   "source": [
    "def walletbalance():\n",
    "    return json.loads(os.popen(f'{CLI} walletbalance').read())\n",
    "\n",
    "\n",
    "def listchannels():\n",
    "    out = os.popen(f'{CLI} listchannels').read()\n",
    "    try:\n",
    "        r = json.loads(out)\n",
    "        return r\n",
    "    except:\n",
    "        print(f'Unable to list channels, {out}')\n",
    "\n",
    "\n",
    "def pendingchannels():\n",
    "    out = os.popen(f'{CLI} pendingchannels').read()\n",
    "    try:\n",
    "        r = json.loads(out)\n",
    "        return r\n",
    "    except:\n",
    "        print(f'Unable to list pending channels, {out}')\n",
    "\n",
    "\n",
    "def closedchannels():\n",
    "    out = os.popen(f'{CLI} closedchannels').read()\n",
    "    try:\n",
    "        r = json.loads(out)\n",
    "        return r\n",
    "    except:\n",
    "        print(f'Unable to list pending channels, {out}')\n",
    "\n",
    "\n",
    "def getnodeinfo(node_key):\n",
    "    out = os.popen(f'{CLI} getnodeinfo {node_key}').read()\n",
    "    try:\n",
    "        r = json.loads(out)\n",
    "        return r\n",
    "    except:\n",
    "        print(f'Unable to get node info on {node_key}, {out}')\n",
    "\n",
    "\n",
    "def closeall():\n",
    "    out = os.popen(f'{CLI} closeallchannels --force').read()\n",
    "    try:\n",
    "        return json.loads(out)\n",
    "    except:\n",
    "        print(out)\n",
    "\n",
    "\n",
    "def sendpayment(chan_id, pay_req):\n",
    "    out = os.popen(f'{CLI} sendpayment --json --pay_req {pay_req} --outgoing_chan_id {chan_id} --force').read()\n",
    "    try:\n",
    "        res = json.loads(out)\n",
    "        return res\n",
    "    except:\n",
    "        print(f'Could not sendpayment {pay_req} using {chan_id}, {out}')\n",
    "\n",
    "\n",
    "def openchannels(nodes, chan_amt=100_000):\n",
    "    rs = []\n",
    "    needed = chan_amt + 4000\n",
    "    for node in nodes:\n",
    "        node_key = node.split('@')[0]\n",
    "        address = node.split('@')[1]\n",
    "        if not shouldtest(node_key):\n",
    "            continue\n",
    "        balance = walletbalance()\n",
    "        while int(balance['confirmed_balance']) < needed <= int(balance['total_balance']):\n",
    "            print(f'needed: {needed}, confirmed: {balance[\"confirmed_balance\"]}, total: {balance[\"total_balance\"]}')\n",
    "            print(f'checking again in {60} seconds')\n",
    "            time.sleep(60)\n",
    "            balance = walletbalance()\n",
    "        if int(balance['total_balance']) < needed:\n",
    "            print('balance not enough to open more channels. Add more funds or close channels')\n",
    "            return rs\n",
    "\n",
    "        out = os.popen(f'{CLI} openchannel --node_key {node_key} --local_amt {chan_amt} --sat_per_byte 10 --connect {address}').read()\n",
    "        try:\n",
    "            r = json.loads(out)\n",
    "            rs.append(r)\n",
    "        except:\n",
    "            print(f'could not open channel to {node_key}. Got:\\n {out}')\n",
    "    return rs\n",
    "\n",
    "\n",
    "def shouldtest(node_key):\n",
    "    pending = pendingchannels()\n",
    "    pending_open = [p['channel'] for p in pending['pending_open_channels']]\n",
    "    pending_closing = [p['channel'] for p in pending['pending_closing_channels']]\n",
    "    pending_force_closing = [p['channel'] for p in pending['pending_force_closing_channels']]\n",
    "    waiting_close = [p['channel'] for p in pending['waiting_close_channels']]\n",
    "    closed = closedchannels()['channels']\n",
    "    active = listchannels()['channels']\n",
    "    test = True\n",
    "    test = test and all([node_key != c['remote_pubkey'] for c in closed])\n",
    "    test = test and all([node_key != c['remote_pubkey'] for c in active])\n",
    "    test = test and all([node_key != c['remote_node_pub'] for c in pending_open])\n",
    "    test = test and all([node_key != c['remote_node_pub'] for c in pending_closing])\n",
    "    test = test and all([node_key != c['remote_node_pub'] for c in waiting_close])\n",
    "    test = test and all([node_key != c['remote_node_pub'] for c in pending_force_closing])\n",
    "    return test\n",
    "\n",
    "\n",
    "def sendallpayments():\n",
    "    global firstprs\n",
    "    pending = pendingchannels()\n",
    "    pending_open = [p['channel'] for p in pending['pending_open_channels']]\n",
    "    while len(pending_open) != 0:\n",
    "        print(f'Still {len(pending_open)} pending openings, waiting {60} seconds to check again.')\n",
    "        time.sleep(60)\n",
    "        pending = pendingchannels()\n",
    "        pending_open = [p['channel'] for p in pending['pending_open_channels']]\n",
    "    with open(payment_requests_file) as file:\n",
    "        prs = [pr[:-1] for pr in file.readlines()]\n",
    "    chans = listchannels()['channels']\n",
    "    chans = [c for c in chans if c['remote_balance'] == '0']\n",
    "    for i in range(0, len(chans)):\n",
    "        print(sendpayment(chans[i]['chan_id'], prs[firstprs + i]))\n",
    "    return firstprs + len(chans)\n",
    "\n",
    "\n",
    "def parse_addresses(filename=target_nodes_with_IP):\n",
    "    with open(filename) as f:\n",
    "        addrs = f.readlines()\n",
    "    addrs = [':'.join(a.split(':')[:-1]).replace(':', '@', 1) for a in addrs]\n",
    "    return addrs\n",
    "\n",
    "\n",
    "def openall(chan_amt=100_000):\n",
    "    addrs = parse_addresses()\n",
    "    openchannels(addrs, chan_amt)\n",
    "\n",
    "\n",
    "def activeafter(node_key, timestamp):\n",
    "    info = getnodeinfo(node_key)\n",
    "    if info is None or 'node' not in info or 'last_update' not in info['node']:\n",
    "        return False\n",
    "    last_update = info['node']['last_update']\n",
    "    return last_update > timestamp\n"
   ]
  }
 ],
 "metadata": {
  "kernelspec": {
   "display_name": "Python 3",
   "language": "python",
   "name": "python3"
  },
  "language_info": {
   "codemirror_mode": {
    "name": "ipython",
    "version": 3
   },
   "file_extension": ".py",
   "mimetype": "text/x-python",
   "name": "python",
   "nbconvert_exporter": "python",
   "pygments_lexer": "ipython3",
   "version": "3.6.9"
  }
 },
 "nbformat": 4,
 "nbformat_minor": 2
}
